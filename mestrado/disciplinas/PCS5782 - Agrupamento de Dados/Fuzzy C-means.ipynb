{
 "cells": [
  {
   "cell_type": "markdown",
   "metadata": {},
   "source": [
    "## Fuzzy c means clustering algorithm"
   ]
  },
  {
   "cell_type": "code",
   "execution_count": 13,
   "metadata": {},
   "outputs": [],
   "source": [
    "import numpy as np, numpy.random\n",
    "import pandas as pd\n",
    "from scipy.spatial import distance"
   ]
  },
  {
   "cell_type": "code",
   "execution_count": 14,
   "metadata": {},
   "outputs": [],
   "source": [
    "k = 2 #number of clusters\n",
    "p = 2"
   ]
  },
  {
   "cell_type": "code",
   "execution_count": 15,
   "metadata": {},
   "outputs": [],
   "source": [
    "#X = np.array([\n",
    "#        [1,2],\n",
    "#        [2,3],\n",
    "#        [9,4],\n",
    "#        [10,1]\n",
    "#        ])"
   ]
  },
  {
   "cell_type": "code",
   "execution_count": 16,
   "metadata": {},
   "outputs": [],
   "source": [
    "X = pd.DataFrame([\n",
    "        [1,1,2,1], \n",
    "        [2,1,2,3], \n",
    "        [2,2,4,5], \n",
    "        [50,42,2,83],\n",
    "        [51,43,1,82],\n",
    "        [51,44,3,89],\n",
    "        [53,40,8,80]])"
   ]
  },
  {
   "cell_type": "code",
   "execution_count": 17,
   "metadata": {},
   "outputs": [],
   "source": [
    "#print the number of data and dimension\n",
    "n = len(X)\n",
    "d = len(X.columns)\n",
    "addZeros = np.zeros((n, 1))\n",
    "X = np.append(X, addZeros, axis=1)"
   ]
  },
  {
   "cell_type": "code",
   "execution_count": 18,
   "metadata": {},
   "outputs": [
    {
     "name": "stdout",
     "output_type": "stream",
     "text": [
      "The FCM algorithm:\n",
      "The training data :\n",
      " [[ 1.  1.  2.  1.  0.]\n",
      " [ 2.  1.  2.  3.  0.]\n",
      " [ 2.  2.  4.  5.  0.]\n",
      " [50. 42.  2. 83.  0.]\n",
      " [51. 43.  1. 82.  0.]\n",
      " [51. 44.  3. 89.  0.]\n",
      " [53. 40.  8. 80.  0.]]\n",
      "The total number of data : 7\n",
      "The total number of features : 4\n",
      "The total number of Clusters : 2\n"
     ]
    }
   ],
   "source": [
    "print(\"The FCM algorithm:\")\n",
    "print(\"The training data :\\n\", X)\n",
    "print(\"The total number of data :\", n)\n",
    "print(\"The total number of features :\", d)\n",
    "print(\"The total number of Clusters :\", k)"
   ]
  },
  {
   "cell_type": "code",
   "execution_count": 19,
   "metadata": {},
   "outputs": [],
   "source": [
    "#Create an empty array of centers\n",
    "C = np.zeros((k,d+1))"
   ]
  },
  {
   "cell_type": "code",
   "execution_count": 20,
   "metadata": {},
   "outputs": [
    {
     "name": "stdout",
     "output_type": "stream",
     "text": [
      "The initial weight: \n",
      " [[0.5  0.5 ]\n",
      " [0.93 0.07]\n",
      " [0.13 0.87]\n",
      " [0.35 0.65]\n",
      " [0.89 0.11]\n",
      " [0.52 0.48]\n",
      " [0.36 0.64]]\n"
     ]
    }
   ],
   "source": [
    "#Randomly initialize the weight matrix\n",
    "weight = np.random.dirichlet(np.ones(k),size=n)\n",
    "print(\"The initial weight: \\n\", np.round(weight,2))"
   ]
  },
  {
   "cell_type": "code",
   "execution_count": 21,
   "metadata": {},
   "outputs": [
    {
     "name": "stdout",
     "output_type": "stream",
     "text": [
      "Updating the fuzzy pseudo partition\n",
      "Updating the fuzzy pseudo partition\n",
      "Updating the fuzzy pseudo partition\n",
      "The final weights:  [[0.47 0.53]\n",
      " [0.47 0.53]\n",
      " [0.47 0.53]\n",
      " [0.54 0.46]\n",
      " [0.54 0.46]\n",
      " [0.53 0.47]\n",
      " [0.54 0.46]]\n"
     ]
    }
   ],
   "source": [
    "for it in range(3): #total number of iterations\n",
    "    #compute centroid\n",
    "    for j in range(k):\n",
    "        denoSum = sum(np.power(weight[:,j],p))\n",
    "        \n",
    "        sumMM = 0\n",
    "        for i in range(n):\n",
    "            mm = np.multiply(np.power(weight[i,j],p),X[i,:])\n",
    "            sumMM += mm\n",
    "        cc = sumMM/denoSum\n",
    "        C[j] = np.reshape(cc,d+1)\n",
    "        \n",
    "    print(\"Updating the fuzzy pseudo partition\")\n",
    "    for i in range(n):\n",
    "        denoSumNext = 0\n",
    "        for j in range(k):\n",
    "            denoSumNext += np.power(1/distance.euclidean(C[j,0:d],X[i,0:d]),1/(p-1))\n",
    "        for j in range(k):\n",
    "            w = np.power((1/distance.euclidean(C[j,0:d],X[i,0:d])),1/(p-1))/denoSumNext\n",
    "            weight[i,j] = w\n",
    "            \n",
    "print(\"The final weights: \", np.round(weight,2))"
   ]
  },
  {
   "cell_type": "code",
   "execution_count": 22,
   "metadata": {},
   "outputs": [
    {
     "name": "stdout",
     "output_type": "stream",
     "text": [
      "\n",
      "The data with cluster number: \n",
      " [[ 1.  1.  2.  1.  1.]\n",
      " [ 2.  1.  2.  3.  1.]\n",
      " [ 2.  2.  4.  5.  1.]\n",
      " [50. 42.  2. 83.  0.]\n",
      " [51. 43.  1. 82.  0.]\n",
      " [51. 44.  3. 89.  0.]\n",
      " [53. 40.  8. 80.  0.]]\n"
     ]
    }
   ],
   "source": [
    "for i in range(n):    \n",
    "    cNumber = np.where(weight[i] == np.amax(weight[i]))\n",
    "    X[i,d] = cNumber[0]\n",
    "print(\"\\nThe data with cluster number: \\n\", X)"
   ]
  },
  {
   "cell_type": "code",
   "execution_count": 23,
   "metadata": {},
   "outputs": [
    {
     "name": "stdout",
     "output_type": "stream",
     "text": [
      "\n",
      "SSE:  176.2944\n"
     ]
    }
   ],
   "source": [
    "# Sum squared error calculation\n",
    "SSE = 0\n",
    "for j in range(k):\n",
    "    for i in range(n):\n",
    "        SSE += np.power(weight[i,j],p)*distance.euclidean(C[j,0:d], X[i,0:d])\n",
    "\n",
    "print(\"\\nSSE: \",np.round(SSE,4))"
   ]
  },
  {
   "cell_type": "code",
   "execution_count": 24,
   "metadata": {},
   "outputs": [],
   "source": [
    "#ref.1 http://www.cleartheconcepts.com/fuzzy-c-means/\n",
    "#ref.2 https://www.youtube.com/watch?v=FA-hJBu5Bkc\n",
    "#ref.3 https://github.com/omadson/fuzzy-c-means"
   ]
  },
  {
   "cell_type": "code",
   "execution_count": null,
   "metadata": {},
   "outputs": [],
   "source": []
  },
  {
   "cell_type": "code",
   "execution_count": null,
   "metadata": {},
   "outputs": [],
   "source": []
  }
 ],
 "metadata": {
  "kernelspec": {
   "display_name": "Python 3",
   "language": "python",
   "name": "python3"
  },
  "language_info": {
   "codemirror_mode": {
    "name": "ipython",
    "version": 3
   },
   "file_extension": ".py",
   "mimetype": "text/x-python",
   "name": "python",
   "nbconvert_exporter": "python",
   "pygments_lexer": "ipython3",
   "version": "3.7.4"
  }
 },
 "nbformat": 4,
 "nbformat_minor": 4
}
