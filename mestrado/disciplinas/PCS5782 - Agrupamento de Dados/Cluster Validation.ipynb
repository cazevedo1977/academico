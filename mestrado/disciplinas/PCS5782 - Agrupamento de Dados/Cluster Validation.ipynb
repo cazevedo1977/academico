{
 "cells": [
  {
   "cell_type": "code",
   "execution_count": 72,
   "metadata": {},
   "outputs": [],
   "source": [
    "# import neccessaries libraries\n",
    "import pandas as pd\n",
    "import numpy as np\n",
    "import matplotlib.pyplot as plt\n",
    "%matplotlib inline\n",
    "from sklearn import datasets\n",
    "from sklearn.cluster import KMeans\n",
    "from sklearn.metrics import silhouette_samples,silhouette_score"
   ]
  },
  {
   "cell_type": "code",
   "execution_count": 73,
   "metadata": {},
   "outputs": [
    {
     "data": {
      "text/plain": [
       "['DESCR',\n",
       " 'data',\n",
       " 'feature_names',\n",
       " 'filename',\n",
       " 'frame',\n",
       " 'target',\n",
       " 'target_names']"
      ]
     },
     "execution_count": 73,
     "metadata": {},
     "output_type": "execute_result"
    }
   ],
   "source": [
    "# load petal data\n",
    "data = datasets.load_iris()\n",
    "dir(data)"
   ]
  },
  {
   "cell_type": "code",
   "execution_count": 74,
   "metadata": {},
   "outputs": [
    {
     "name": "stdout",
     "output_type": "stream",
     "text": [
      "(150, 4)\n"
     ]
    },
    {
     "data": {
      "text/html": [
       "<div>\n",
       "<style scoped>\n",
       "    .dataframe tbody tr th:only-of-type {\n",
       "        vertical-align: middle;\n",
       "    }\n",
       "\n",
       "    .dataframe tbody tr th {\n",
       "        vertical-align: top;\n",
       "    }\n",
       "\n",
       "    .dataframe thead th {\n",
       "        text-align: right;\n",
       "    }\n",
       "</style>\n",
       "<table border=\"1\" class=\"dataframe\">\n",
       "  <thead>\n",
       "    <tr style=\"text-align: right;\">\n",
       "      <th></th>\n",
       "      <th>sepal length (cm)</th>\n",
       "      <th>sepal width (cm)</th>\n",
       "      <th>petal length (cm)</th>\n",
       "      <th>petal width (cm)</th>\n",
       "    </tr>\n",
       "  </thead>\n",
       "  <tbody>\n",
       "    <tr>\n",
       "      <th>0</th>\n",
       "      <td>5.1</td>\n",
       "      <td>3.5</td>\n",
       "      <td>1.4</td>\n",
       "      <td>0.2</td>\n",
       "    </tr>\n",
       "    <tr>\n",
       "      <th>1</th>\n",
       "      <td>4.9</td>\n",
       "      <td>3.0</td>\n",
       "      <td>1.4</td>\n",
       "      <td>0.2</td>\n",
       "    </tr>\n",
       "    <tr>\n",
       "      <th>2</th>\n",
       "      <td>4.7</td>\n",
       "      <td>3.2</td>\n",
       "      <td>1.3</td>\n",
       "      <td>0.2</td>\n",
       "    </tr>\n",
       "    <tr>\n",
       "      <th>3</th>\n",
       "      <td>4.6</td>\n",
       "      <td>3.1</td>\n",
       "      <td>1.5</td>\n",
       "      <td>0.2</td>\n",
       "    </tr>\n",
       "    <tr>\n",
       "      <th>4</th>\n",
       "      <td>5.0</td>\n",
       "      <td>3.6</td>\n",
       "      <td>1.4</td>\n",
       "      <td>0.2</td>\n",
       "    </tr>\n",
       "  </tbody>\n",
       "</table>\n",
       "</div>"
      ],
      "text/plain": [
       "   sepal length (cm)  sepal width (cm)  petal length (cm)  petal width (cm)\n",
       "0                5.1               3.5                1.4               0.2\n",
       "1                4.9               3.0                1.4               0.2\n",
       "2                4.7               3.2                1.3               0.2\n",
       "3                4.6               3.1                1.5               0.2\n",
       "4                5.0               3.6                1.4               0.2"
      ]
     },
     "execution_count": 74,
     "metadata": {},
     "output_type": "execute_result"
    }
   ],
   "source": [
    "# load into Dataframe \n",
    "df = pd.DataFrame(data.data,columns = data.feature_names)\n",
    "print(df.shape)\n",
    "df.head()"
   ]
  },
  {
   "cell_type": "code",
   "execution_count": 75,
   "metadata": {},
   "outputs": [
    {
     "data": {
      "text/html": [
       "<div>\n",
       "<style scoped>\n",
       "    .dataframe tbody tr th:only-of-type {\n",
       "        vertical-align: middle;\n",
       "    }\n",
       "\n",
       "    .dataframe tbody tr th {\n",
       "        vertical-align: top;\n",
       "    }\n",
       "\n",
       "    .dataframe thead th {\n",
       "        text-align: right;\n",
       "    }\n",
       "</style>\n",
       "<table border=\"1\" class=\"dataframe\">\n",
       "  <thead>\n",
       "    <tr style=\"text-align: right;\">\n",
       "      <th></th>\n",
       "      <th>petal length (cm)</th>\n",
       "      <th>petal width (cm)</th>\n",
       "    </tr>\n",
       "  </thead>\n",
       "  <tbody>\n",
       "    <tr>\n",
       "      <th>0</th>\n",
       "      <td>1.4</td>\n",
       "      <td>0.2</td>\n",
       "    </tr>\n",
       "    <tr>\n",
       "      <th>1</th>\n",
       "      <td>1.4</td>\n",
       "      <td>0.2</td>\n",
       "    </tr>\n",
       "    <tr>\n",
       "      <th>2</th>\n",
       "      <td>1.3</td>\n",
       "      <td>0.2</td>\n",
       "    </tr>\n",
       "    <tr>\n",
       "      <th>3</th>\n",
       "      <td>1.5</td>\n",
       "      <td>0.2</td>\n",
       "    </tr>\n",
       "    <tr>\n",
       "      <th>4</th>\n",
       "      <td>1.4</td>\n",
       "      <td>0.2</td>\n",
       "    </tr>\n",
       "  </tbody>\n",
       "</table>\n",
       "</div>"
      ],
      "text/plain": [
       "   petal length (cm)  petal width (cm)\n",
       "0                1.4               0.2\n",
       "1                1.4               0.2\n",
       "2                1.3               0.2\n",
       "3                1.5               0.2\n",
       "4                1.4               0.2"
      ]
     },
     "execution_count": 75,
     "metadata": {},
     "output_type": "execute_result"
    }
   ],
   "source": [
    "df1 = df.drop(['sepal length (cm)', 'sepal width (cm)'],axis = 'columns')\n",
    "df1.head()"
   ]
  },
  {
   "cell_type": "code",
   "execution_count": 76,
   "metadata": {},
   "outputs": [
    {
     "data": {
      "text/plain": [
       "<matplotlib.collections.PathCollection at 0x1c58ef8e548>"
      ]
     },
     "execution_count": 76,
     "metadata": {},
     "output_type": "execute_result"
    },
    {
     "data": {
      "image/png": "[encoded data removed]",
      "text/plain": [
       "<Figure size 432x288 with 1 Axes>"
      ]
     },
     "metadata": {
      "needs_background": "light"
     },
     "output_type": "display_data"
    }
   ],
   "source": [
    "# plot scatter plot\n",
    "plt.scatter(df1['petal length (cm)'],df1['petal width (cm)'])"
   ]
  },
  {
   "cell_type": "code",
   "execution_count": 77,
   "metadata": {},
   "outputs": [],
   "source": [
    "#ref1. https://medium.com/@cmukesh8688/silhouette-analysis-in-k-means-clustering-cefa9a7ad111"
   ]
  },
  {
   "cell_type": "code",
   "execution_count": 78,
   "metadata": {},
   "outputs": [
    {
     "data": {
      "image/png": "[encoded data removed]",
      "text/plain": [
       "<Figure size 1080x360 with 2 Axes>"
      ]
     },
     "metadata": {
      "needs_background": "light"
     },
     "output_type": "display_data"
    },
    {
     "data": {
      "image/png": "[encoded data removed]",
      "text/plain": [
       "<Figure size 1080x360 with 2 Axes>"
      ]
     },
     "metadata": {
      "needs_background": "light"
     },
     "output_type": "display_data"
    },
    {
     "data": {
      "image/png": "[encoded data removed]",
      "text/plain": [
       "<Figure size 1080x360 with 2 Axes>"
      ]
     },
     "metadata": {
      "needs_background": "light"
     },
     "output_type": "display_data"
    },
    {
     "data": {
      "image/png": "[encoded data removed]",
      "text/plain": [
       "<Figure size 1080x360 with 2 Axes>"
      ]
     },
     "metadata": {
      "needs_background": "light"
     },
     "output_type": "display_data"
    }
   ],
   "source": [
    "# Now check silhouette coefficient\n",
    "for i,k in enumerate([2,3,4,5]):\n",
    "    \n",
    "    fig, ax = plt.subplots(1,2,figsize=(15,5))\n",
    "    \n",
    "    # Run the kmeans algorithm\n",
    "    km = KMeans(n_clusters=k)\n",
    "    y_predict = km.fit_predict(df1)\n",
    "    centroids  = km.cluster_centers_"
   ]
  },
  {
   "cell_type": "code",
   "execution_count": 79,
   "metadata": {},
   "outputs": [
    {
     "data": {
      "text/plain": [
       "array([0.93389575, 0.93389575, 0.91799461, 0.93138016, 0.93389575,\n",
       "       0.85591542, 0.92654396, 0.93138016, 0.93389575, 0.9131813 ,\n",
       "       0.93138016, 0.9107136 , 0.91586781, 0.85941622, 0.89334196,\n",
       "       0.90282729, 0.89283388, 0.92654396, 0.87263947, 0.92376248,\n",
       "       0.87555265, 0.90282729, 0.83841346, 0.82801856, 0.78405513,\n",
       "       0.9107136 , 0.88561466, 0.93138016, 0.93389575, 0.9107136 ,\n",
       "       0.9107136 , 0.90282729, 0.9131813 , 0.93389575, 0.93138016,\n",
       "       0.89334196, 0.91799461, 0.91586781, 0.91799461, 0.93138016,\n",
       "       0.91260766, 0.91260766, 0.91799461, 0.8180907 , 0.76560888,\n",
       "       0.92654396, 0.9107136 , 0.93389575, 0.93138016, 0.93389575,\n",
       "       0.68318172, 0.62992164, 0.55372997, 0.52896753, 0.68507258,\n",
       "       0.51152273, 0.66275717, 0.56977116, 0.59017369, 0.50303985,\n",
       "       0.61644114, 0.05569018, 0.53902196, 0.68318172, 0.5931403 ,\n",
       "       0.45492351, 0.62992164, 0.44068076, 0.62992164, 0.62289282,\n",
       "       0.41273037, 0.52896753, 0.55372997, 0.54352682, 0.1203788 ,\n",
       "       0.45492351, 0.65193439, 0.23584466, 0.62992164, 0.61644114,\n",
       "       0.64457358, 0.63175196, 0.62072936, 0.17706658, 0.62992164,\n",
       "       0.61351661, 0.70397124, 0.36614706, 0.39351178, 0.52896753,\n",
       "       0.24959623, 0.65664602, 0.56456851, 0.56977116, 0.15758594,\n",
       "       0.24044655, 0.15758594, 0.1203788 , 0.47995092, 0.39351178,\n",
       "       0.27229778, 0.27781626, 0.10275995, 0.41819532, 0.04747858,\n",
       "       0.60655032, 0.58026954, 0.47757153, 0.11443142, 0.3733663 ,\n",
       "       0.37577304, 0.49344735, 0.55220576, 0.22143349, 0.45825325,\n",
       "       0.58513293, 0.50747903, 0.58788565, 0.52588365, 0.4285485 ,\n",
       "       0.24445868, 0.0267753 , 0.57729105, 0.27225823, 0.29972105,\n",
       "       0.19897298, 0.41273037, 0.27225823, 0.45496567, 0.11538972,\n",
       "       0.38325636, 0.58453801, 0.43486724, 0.27483464, 0.21722577,\n",
       "       0.43298497, 0.34958204, 0.50747903, 0.41273037, 0.60861937,\n",
       "       0.34958204, 0.46727574, 0.27781626, 0.1335657 , 0.15604494,\n",
       "       0.54070787, 0.08160674, 0.48405735, 0.55289529, 0.11776205])"
      ]
     },
     "execution_count": 79,
     "metadata": {},
     "output_type": "execute_result"
    }
   ],
   "source": [
    "# get silhouette\n",
    "silhouette_vals = silhouette_samples(df1,y_predict)\n",
    "silhouette_vals"
   ]
  },
  {
   "cell_type": "code",
   "execution_count": 80,
   "metadata": {},
   "outputs": [
    {
     "data": {
      "text/plain": [
       "<Figure size 432x288 with 0 Axes>"
      ]
     },
     "metadata": {},
     "output_type": "display_data"
    }
   ],
   "source": [
    "# silhouette plot\n",
    "y_ticks = []\n",
    "y_lower = y_upper = 0\n",
    "for i,cluster in enumerate(np.unique(y_predict)):\n",
    "   cluster_silhouette_vals = silhouette_vals[y_predict ==cluster]\n",
    "   cluster_silhouette_vals.sort()\n",
    "   y_upper += len(cluster_silhouette_vals)\n",
    "   \n",
    "   ax[0].barh(range(y_lower,y_upper), cluster_silhouette_vals,height =1);\n",
    "   ax[0].text(-0.03,(y_lower+y_upper)/2,str(i+1))\n",
    "   y_lower += len(cluster_silhouette_vals)\n",
    "       \n",
    "   # Get the average silhouette score \n",
    "   avg_score = np.mean(silhouette_vals)\n",
    "   ax[0].axvline(avg_score,linestyle ='--',linewidth =2,color = 'green')\n",
    "   ax[0].set_yticks([])\n",
    "   ax[0].set_xlim([-0.1, 1])\n",
    "   ax[0].set_xlabel('Silhouette coefficient values')\n",
    "   ax[0].set_ylabel('Cluster labels')\n",
    "   ax[0].set_title('Silhouette plot for the various clusters')\n",
    "    \n",
    "   #scatter plot of data colored with labels\n",
    "   ax[1].scatter(df1['petal length (cm)'], df1['petal width (cm)'], c = y_predict)\n",
    "   ax[1].scatter(centroids[:,0],centroids[:,1],marker = '*' , c= 'r',s =250)\n",
    "   ax[1].set_xlabel('Eruption time in mins')\n",
    "   ax[1].set_ylabel('Waiting time to next eruption')\n",
    "   ax[1].set_title('Visualization of clustered data', y=1.02)\n",
    "    \n",
    "   plt.tight_layout()\n",
    "   plt.suptitle(f' Silhouette analysis using k = {k}',fontsize=16,fontweight = 'semibold')\n",
    "   plt.savefig(f'Silhouette_analysis_{k}.jpg')"
   ]
  },
  {
   "cell_type": "code",
   "execution_count": null,
   "metadata": {},
   "outputs": [],
   "source": []
  },
  {
   "cell_type": "code",
   "execution_count": 81,
   "metadata": {},
   "outputs": [],
   "source": [
    "## Dunn Index\n",
    "# https://douglasrizzo.com.br/dunn-index/"
   ]
  },
  {
   "cell_type": "code",
   "execution_count": 82,
   "metadata": {},
   "outputs": [],
   "source": [
    "import numpy as np\n",
    "from sklearn.preprocessing import LabelEncoder\n",
    "\n",
    "DIAMETER_METHODS = ['mean_cluster', 'farthest']\n",
    "CLUSTER_DISTANCE_METHODS = ['nearest', 'farthest']\n",
    "\n",
    "\n",
    "def inter_cluster_distances(labels, distances, method='nearest'):\n",
    "    \"\"\"Calculates the distances between the two nearest points of each cluster.\n",
    "\n",
    "    :param labels: a list containing cluster labels for each of the n elements\n",
    "    :param distances: an n x n numpy.array containing the pairwise distances between elements\n",
    "    :param method: `nearest` for the distances between the two nearest points in each cluster, or `farthest`\n",
    "    \"\"\"\n",
    "    if method not in CLUSTER_DISTANCE_METHODS:\n",
    "        raise ValueError(\n",
    "            'method must be one of {}'.format(CLUSTER_DISTANCE_METHODS))\n",
    "\n",
    "    if method == 'nearest':\n",
    "        return __cluster_distances_by_points(labels, distances)\n",
    "    elif method == 'farthest':\n",
    "        return __cluster_distances_by_points(labels, distances, farthest=True)\n",
    "\n",
    "\n",
    "def __cluster_distances_by_points(labels, distances, farthest=False):\n",
    "    n_unique_labels = len(np.unique(labels))\n",
    "    cluster_distances = np.full((n_unique_labels, n_unique_labels),\n",
    "                                float('inf') if not farthest else 0)\n",
    "\n",
    "    np.fill_diagonal(cluster_distances, 0)\n",
    "\n",
    "    for i in np.arange(0, len(labels) - 1):\n",
    "        for ii in np.arange(i, len(labels)):\n",
    "            if labels[i] != labels[ii] and (\n",
    "                (not farthest and\n",
    "                 distances[i, ii] < cluster_distances[labels[i], labels[ii]])\n",
    "                    or\n",
    "                (farthest and\n",
    "                 distances[i, ii] > cluster_distances[labels[i], labels[ii]])):\n",
    "                cluster_distances[labels[i], labels[ii]] = cluster_distances[\n",
    "                    labels[ii], labels[i]] = distances[i, ii]\n",
    "    return cluster_distances\n",
    "\n",
    "\n",
    "def diameter(labels, distances, method='farthest'):\n",
    "    \"\"\"Calculates cluster diameters\n",
    "\n",
    "    :param labels: a list containing cluster labels for each of the n elements\n",
    "    :param distances: an n x n numpy.array containing the pairwise distances between elements\n",
    "    :param method: either `mean_cluster` for the mean distance between all elements in each cluster, or `farthest` for the distance between the two points furthest from each other\n",
    "    \"\"\"\n",
    "    if method not in DIAMETER_METHODS:\n",
    "        raise ValueError('method must be one of {}'.format(DIAMETER_METHODS))\n",
    "\n",
    "    n_clusters = len(np.unique(labels))\n",
    "    diameters = np.zeros(n_clusters)\n",
    "\n",
    "    if method == 'mean_cluster':\n",
    "        for i in range(0, len(labels) - 1):\n",
    "            for ii in range(i + 1, len(labels)):\n",
    "                if labels[i] == labels[ii]:\n",
    "                    diameters[labels[i]] += distances[i, ii]\n",
    "\n",
    "        for i in range(len(diameters)):\n",
    "            diameters[i] /= sum(labels == i)\n",
    "\n",
    "    elif method == 'farthest':\n",
    "        for i in range(0, len(labels) - 1):\n",
    "            for ii in range(i + 1, len(labels)):\n",
    "                if labels[i] == labels[ii] and distances[i, ii] > diameters[\n",
    "                        labels[i]]:\n",
    "                    diameters[labels[i]] = distances[i, ii]\n",
    "    return diameters\n",
    "\n",
    "\n",
    "def dunn(labels, distances, diameter_method='farthest',\n",
    "         cdist_method='nearest'):\n",
    "    \"\"\"\n",
    "    Dunn index for cluster validation (larger is better).\n",
    "    \n",
    "    .. math:: D = \\\\min_{i = 1 \\\\ldots n_c; j = i + 1\\ldots n_c} \\\\left\\\\lbrace \\\\frac{d \\\\left( c_i,c_j \\\\right)}{\\\\max_{k = 1 \\\\ldots n_c} \\\\left(diam \\\\left(c_k \\\\right) \\\\right)} \\\\right\\\\rbrace\n",
    "    \n",
    "    where :math:`d(c_i,c_j)` represents the distance between\n",
    "    clusters :math:`c_i` and :math:`c_j`, and :math:`diam(c_k)` is the diameter of cluster :math:`c_k`.\n",
    "\n",
    "    Inter-cluster distance can be defined in many ways, such as the distance between cluster centroids or between their closest elements. Cluster diameter can be defined as the mean distance between all elements in the cluster, between all elements to the cluster centroid, or as the distance between the two furthest elements.\n",
    "\n",
    "    The higher the value of the resulting Dunn index, the better the clustering\n",
    "    result is considered, since higher values indicate that clusters are\n",
    "    compact (small :math:`diam(c_k)`) and far apart (large :math:`d \\\\left( c_i,c_j \\\\right)`).\n",
    "\n",
    "    :param labels: a list containing cluster labels for each of the n elements\n",
    "    :param distances: an n x n numpy.array containing the pairwise distances between elements\n",
    "    :param diameter_method: see :py:function:`diameter` `method` parameter\n",
    "    :param cdist_method: see :py:function:`diameter` `method` parameter\n",
    "    \n",
    "    .. [Kovacs2005] Kovács, F., Legány, C., & Babos, A. (2005). Cluster validity measurement techniques. 6th International Symposium of Hungarian Researchers on Computational Intelligence.\n",
    "    \"\"\"\n",
    "\n",
    "    labels = LabelEncoder().fit(labels).transform(labels)\n",
    "\n",
    "    ic_distances = inter_cluster_distances(labels, distances, cdist_method)\n",
    "    min_distance = min(ic_distances[ic_distances.nonzero()])\n",
    "    max_diameter = max(diameter(labels, distances, diameter_method))\n",
    "\n",
    "    return min_distance / max_diameter"
   ]
  },
  {
   "cell_type": "code",
   "execution_count": 83,
   "metadata": {},
   "outputs": [],
   "source": [
    "from sklearn.metrics.pairwise import euclidean_distances\n",
    "from sklearn.datasets import load_iris\n",
    "from sklearn.cluster import KMeans\n",
    "\n",
    "data = load_iris()\n",
    "kmeans = KMeans(n_clusters=3)\n",
    "c = data['target']\n",
    "x = data['data']\n",
    "k = kmeans.fit_predict(x)\n",
    "d = euclidean_distances(x)"
   ]
  },
  {
   "cell_type": "code",
   "execution_count": 99,
   "metadata": {},
   "outputs": [],
   "source": [
    "#Se for o exercício slide 33 de Agrupamento de Dados e suas Aplicações VII usar esses dados ao invés da iris\n",
    "data = np.array([\n",
    "    [1.0,2.0],\n",
    "    [2.0,1.0],\n",
    "    [1.0,1.0],\n",
    "    [2.0,2.0],\n",
    "    [8.0,9.0],\n",
    "    [9.0,8.0],\n",
    "    [9.0,9.0],\n",
    "    [8.0,8.0],\n",
    "    [1.0,15.0],\n",
    "    [2.0,15.0],\n",
    "    [1.0,14.0],\n",
    "    [2.0,14.0]\n",
    "])\n",
    "target = np.array([\n",
    "    [1],\n",
    "    [1],\n",
    "    [1],\n",
    "    [1],\n",
    "    [0],\n",
    "    [0],\n",
    "    [0],\n",
    "    [0],\n",
    "    [2],\n",
    "    [2],\n",
    "    [2],\n",
    "    [2]\n",
    "])"
   ]
  },
  {
   "cell_type": "code",
   "execution_count": 100,
   "metadata": {},
   "outputs": [],
   "source": [
    "x = data\n",
    "c = target\n",
    "k = kmeans.fit_predict(x)\n",
    "d = euclidean_distances(x)"
   ]
  },
  {
   "cell_type": "code",
   "execution_count": 101,
   "metadata": {},
   "outputs": [
    {
     "data": {
      "text/plain": [
       "<matplotlib.axes._subplots.AxesSubplot at 0x1c58fa9ecc8>"
      ]
     },
     "execution_count": 101,
     "metadata": {},
     "output_type": "execute_result"
    },
    {
     "data": {
      "image/png": "[encoded data removed]",
      "text/plain": [
       "<Figure size 432x288 with 1 Axes>"
      ]
     },
     "metadata": {
      "needs_background": "light"
     },
     "output_type": "display_data"
    }
   ],
   "source": [
    "import seaborn as sns\n",
    "sns.scatterplot(x[:,0],x[:,1],hue=k)"
   ]
  },
  {
   "cell_type": "code",
   "execution_count": 102,
   "metadata": {},
   "outputs": [
    {
     "name": "stdout",
     "output_type": "stream",
     "text": [
      "Indice Dunn da aula 5.52268050859363\n"
     ]
    },
    {
     "name": "stderr",
     "output_type": "stream",
     "text": [
      "C:\\Users\\cazev\\Anaconda3\\lib\\site-packages\\sklearn\\utils\\validation.py:73: DataConversionWarning: A column-vector y was passed when a 1d array was expected. Please change the shape of y to (n_samples, ), for example using ravel().\n",
      "  return f(**kwargs)\n"
     ]
    }
   ],
   "source": [
    "dund = dunn(c, d,  'farthest', 'nearest')\n",
    "print('Indice Dunn da aula', dund)"
   ]
  },
  {
   "cell_type": "code",
   "execution_count": 103,
   "metadata": {},
   "outputs": [
    {
     "name": "stdout",
     "output_type": "stream",
     "text": [
      "mean_cluster nearest 4.575138334626048 4.575138334626048\n",
      "mean_cluster farthest 5.85786437626905 5.85786437626905\n",
      "farthest nearest 5.52268050859363 5.52268050859363\n",
      "farthest farthest 7.071067811865475 7.071067811865475\n"
     ]
    }
   ],
   "source": [
    "for diameter_method in DIAMETER_METHODS:\n",
    "    for cdist_method in CLUSTER_DISTANCE_METHODS:\n",
    "        dund = dunn(c, d, diameter_method, cdist_method)\n",
    "        dunk = dunn(k, d, diameter_method, cdist_method)\n",
    "        print(diameter_method, cdist_method, dund, dunk)"
   ]
  },
  {
   "cell_type": "code",
   "execution_count": 104,
   "metadata": {},
   "outputs": [],
   "source": [
    "# DB index \n",
    "#ref. https://www.geeksforgeeks.org/dunn-index-and-db-index-cluster-validity-indices-set-1/"
   ]
  },
  {
   "cell_type": "code",
   "execution_count": 105,
   "metadata": {},
   "outputs": [],
   "source": [
    "from sklearn import datasets \n",
    "from sklearn.cluster import KMeans \n",
    "from sklearn.metrics import davies_bouldin_score \n",
    "from sklearn.datasets.samples_generator import make_blobs \n",
    "from sklearn.metrics import silhouette_samples,silhouette_score\n",
    "\n",
    "# loading the dataset \n",
    "X, y_true = make_blobs(n_samples=300, centers=4,cluster_std=0.50, random_state=0)"
   ]
  },
  {
   "cell_type": "code",
   "execution_count": 106,
   "metadata": {},
   "outputs": [
    {
     "name": "stdout",
     "output_type": "stream",
     "text": [
      "0.14988104613203035\n"
     ]
    }
   ],
   "source": [
    "# K-Means \n",
    "#kmeans = KMeans(n_clusters=4, random_state=1).fit(X)\n",
    "\n",
    "# Parametros para o exercício de sala de aula\n",
    "X = data\n",
    "y_true = target\n",
    "kmeans = KMeans(n_clusters=3, random_state=1).fit(X) # exercício de sala de aula\n",
    "# Parametros para o exercício de sala de aula, interessante testar os indicadores alternando o valor dos clusters (k) \n",
    "#e observando que os indicadores mudam, por exemplo silhueta para k = 3 (ideal) é maior que k=2, 4, 5\n",
    "\n",
    "# we store the cluster labels \n",
    "labels = kmeans.labels_ \n",
    "print(davies_bouldin_score(X, labels)) "
   ]
  },
  {
   "cell_type": "code",
   "execution_count": 107,
   "metadata": {},
   "outputs": [
    {
     "name": "stdout",
     "output_type": "stream",
     "text": [
      "Silhouetter Score: 0.879\n"
     ]
    }
   ],
   "source": [
    "# Calculate Silhoutte Score\n",
    "# ref. https://dzone.com/articles/kmeans-silhouette-score-explained-with-python-exam\n",
    "# ref. https://towardsdatascience.com/silhouette-coefficient-validating-clustering-techniques-e976bb81d10c\n",
    "score = silhouette_score(X, labels, metric='euclidean')\n",
    "#\n",
    "# Print the score\n",
    "#\n",
    "print('Silhouetter Score: %.3f' % score)"
   ]
  },
  {
   "cell_type": "code",
   "execution_count": 97,
   "metadata": {
    "scrolled": false
   },
   "outputs": [
    {
     "data": {
      "image/png": "[encoded data removed]",
      "text/plain": [
       "<Figure size 1080x576 with 4 Axes>"
      ]
     },
     "metadata": {
      "needs_background": "light"
     },
     "output_type": "display_data"
    }
   ],
   "source": [
    "#ref. https://dzone.com/articles/kmeans-silhouette-score-explained-with-python-exam\n",
    "from yellowbrick.cluster import SilhouetteVisualizer\n",
    "\n",
    "fig, ax = plt.subplots(2, 2, figsize=(15,8))\n",
    "for i in [2, 3, 4, 5]:\n",
    "    '''\n",
    "    Create KMeans instance for different number of clusters\n",
    "    '''\n",
    "    km = KMeans(n_clusters=i, init='k-means++', n_init=10, max_iter=100, random_state=42)\n",
    "    q, mod = divmod(i, 2)\n",
    "    '''\n",
    "    Create SilhouetteVisualizer instance with KMeans instance\n",
    "    Fit the visualizer\n",
    "    '''\n",
    "    visualizer = SilhouetteVisualizer(km, colors='yellowbrick', ax=ax[q-1][mod])\n",
    "    visualizer.fit(X)"
   ]
  },
  {
   "cell_type": "code",
   "execution_count": 1,
   "metadata": {},
   "outputs": [],
   "source": [
    "# Validação Indireta\n",
    "# Estatística ? de Hubert Normalizada\n",
    "# Slide 20, exercício 26"
   ]
  },
  {
   "cell_type": "code",
   "execution_count": 2,
   "metadata": {},
   "outputs": [
    {
     "name": "stdout",
     "output_type": "stream",
     "text": [
      "0.82293316508058\n"
     ]
    }
   ],
   "source": [
    "import numpy as np\n",
    "\n",
    "cm = np.array([[0, 0, 0, 0], [2, 0, 0, 0], [7, 7, 0, 0], [7, 7, 4, 0]])\n",
    "ucm = np.sum(cm) / np.count_nonzero(cm)\n",
    "d = np.array([[0, 0, 0, 0], [2, 0, 0, 0], [9, 7, 0, 0], [15, 12, 4, 0]])\n",
    "ud = np.sum(d) / np.count_nonzero(d)\n",
    "\n",
    "N = d.shape[0]\n",
    "M = N * (N - 1) / 2\n",
    "\n",
    "num_sum = 0\n",
    "den_x_sum = 0\n",
    "den_y_sum = 0\n",
    "for i in range(d.shape[0] - 1):\n",
    "    for j in range(i + 1, d.shape[0]):\n",
    "        num_sum += cm[j, i] * d[j, i]\n",
    "        den_x_sum += cm[j, i] ** 2\n",
    "        den_y_sum += d[j, i] ** 2\n",
    "\n",
    "num = num_sum / M - ucm * ud\n",
    "den = ((den_x_sum / M - ucm ** 2) ** 0.5) * ((den_y_sum / M - ud ** 2) ** 0.5)\n",
    "\n",
    "hubert = num / den\n",
    "\n",
    "print(hubert)"
   ]
  },
  {
   "cell_type": "code",
   "execution_count": null,
   "metadata": {},
   "outputs": [],
   "source": []
  }
 ],
 "metadata": {
  "kernelspec": {
   "display_name": "Python 3",
   "language": "python",
   "name": "python3"
  },
  "language_info": {
   "codemirror_mode": {
    "name": "ipython",
    "version": 3
   },
   "file_extension": ".py",
   "mimetype": "text/x-python",
   "name": "python",
   "nbconvert_exporter": "python",
   "pygments_lexer": "ipython3",
   "version": "3.7.4"
  }
 },
 "nbformat": 4,
 "nbformat_minor": 4
}
