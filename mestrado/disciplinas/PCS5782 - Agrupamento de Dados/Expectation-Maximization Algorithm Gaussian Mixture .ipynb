{
 "cells": [
  {
   "cell_type": "code",
   "execution_count": 1,
   "metadata": {},
   "outputs": [],
   "source": [
    "import numpy as np\n",
    "import matplotlib.pyplot as plt\n",
    "from sklearn.mixture import GaussianMixture"
   ]
  },
  {
   "cell_type": "code",
   "execution_count": 9,
   "metadata": {},
   "outputs": [],
   "source": [
    "X_train = np.array([\n",
    "        [-1.31],\n",
    "        [-0.43],\n",
    "        [0.34],\n",
    "        [3.57],\n",
    "        [2.76],\n",
    "        [0.30],\n",
    "        [9.06],\n",
    "        [4.45],\n",
    "        [2.87],\n",
    "        [4.42]\n",
    "        ])"
   ]
  },
  {
   "cell_type": "code",
   "execution_count": 3,
   "metadata": {},
   "outputs": [
    {
     "data": {
      "text/plain": [
       "array([[ 2.61755903,  2.49389168],\n",
       "       [ 1.7395701 ,  3.10180942],\n",
       "       [ 3.31414238,  3.10472391],\n",
       "       [ 1.24430187,  1.93071636],\n",
       "       [ 3.17727043,  3.66255088],\n",
       "       [ 3.62277406,  3.20621271],\n",
       "       [ 3.6392273 ,  1.92793743],\n",
       "       [ 4.79427604,  4.29135078],\n",
       "       [ 3.76536801,  4.04643937],\n",
       "       [ 4.44376284,  3.18056001],\n",
       "       [ 1.79005412,  1.58811366],\n",
       "       [ 3.5767677 ,  2.30243418],\n",
       "       [ 3.43730462,  3.5365168 ],\n",
       "       [ 3.86146269,  4.19749721],\n",
       "       [ 3.66767699,  3.40677817],\n",
       "       [ 2.70981877,  4.36654674],\n",
       "       [ 3.48509499,  2.53904958],\n",
       "       [ 2.81027134,  1.71831559],\n",
       "       [ 3.68957784,  1.9367956 ],\n",
       "       [ 4.0999267 ,  4.27600474],\n",
       "       [ 2.26285719,  2.41613364],\n",
       "       [ 3.23809663,  2.9687813 ],\n",
       "       [ 4.64435439,  4.00050615],\n",
       "       [ 2.93924841,  3.88476727],\n",
       "       [ 3.48111399,  1.90420293],\n",
       "       [ 2.88234452,  2.53791645],\n",
       "       [ 3.33190749,  3.8790074 ],\n",
       "       [ 1.66136486,  2.49432712],\n",
       "       [ 3.88890295,  3.61233499],\n",
       "       [ 2.26743194,  3.13998602],\n",
       "       [ 3.51161569,  3.34555725],\n",
       "       [ 4.52449595,  3.45457622],\n",
       "       [ 1.66672583,  2.87978379],\n",
       "       [ 2.61561426,  3.51320137],\n",
       "       [ 2.96504923,  2.38803658],\n",
       "       [ 1.98892708,  3.36458881],\n",
       "       [ 2.33231387,  3.7317737 ],\n",
       "       [ 4.97560528,  5.71073723],\n",
       "       [ 3.05586289,  2.78842258],\n",
       "       [ 3.80679451,  2.02905883],\n",
       "       [ 3.03677491,  3.35618611],\n",
       "       [ 1.90990887,  1.44635389],\n",
       "       [ 3.94753123,  3.49874609],\n",
       "       [ 2.03421749,  2.32826142],\n",
       "       [ 3.24429176,  3.70337211],\n",
       "       [ 2.47997999,  3.34636241],\n",
       "       [ 3.77447034,  3.48140041],\n",
       "       [ 4.00521598,  2.69620841],\n",
       "       [ 2.61839451,  2.85188944],\n",
       "       [ 3.10033694,  2.89051583],\n",
       "       [ 4.45406438,  4.07782777],\n",
       "       [ 3.66532248,  2.94774388],\n",
       "       [ 2.96356129,  3.32495536],\n",
       "       [ 1.23487047,  1.39101761],\n",
       "       [ 2.80293315,  2.7363467 ],\n",
       "       [ 4.72805851,  4.70434378],\n",
       "       [ 1.8445331 ,  4.04772382],\n",
       "       [ 3.03719681,  3.30690895],\n",
       "       [ 3.55369586,  2.50839844],\n",
       "       [ 1.64155353,  2.31410288],\n",
       "       [ 2.69916995,  1.88578908],\n",
       "       [ 2.37222948,  1.11837577],\n",
       "       [ 1.49549752,  3.45470059],\n",
       "       [ 4.13921867,  3.63270658],\n",
       "       [ 3.13603027,  2.68570795],\n",
       "       [ 4.35629324,  4.41761783],\n",
       "       [ 3.73835635,  4.1619503 ],\n",
       "       [ 3.1292063 ,  4.51550977],\n",
       "       [ 3.84459333,  3.55653275],\n",
       "       [ 2.82282734,  1.72190882],\n",
       "       [ 2.21198164,  3.38112566],\n",
       "       [ 4.35520594,  4.52034749],\n",
       "       [ 2.41791194,  3.11719558],\n",
       "       [ 4.6968885 ,  3.5158362 ],\n",
       "       [ 2.40034569,  2.66597686],\n",
       "       [ 2.62101603,  2.93088873],\n",
       "       [ 3.50436559,  3.71209961],\n",
       "       [ 3.05733568,  2.41840034],\n",
       "       [ 1.11929602,  1.54310507],\n",
       "       [ 3.77191454,  4.35915394],\n",
       "       [ 3.51978685,  4.22377672],\n",
       "       [ 2.3307409 ,  1.59670032],\n",
       "       [ 1.95372895,  2.32293144],\n",
       "       [ 1.41645543,  3.11299865],\n",
       "       [ 3.55656286,  2.88240074],\n",
       "       [ 4.16044734,  3.43076444],\n",
       "       [ 2.91639406,  3.22152967],\n",
       "       [ 2.38259263,  3.12244782],\n",
       "       [ 2.33833055,  3.63841096],\n",
       "       [ 2.02021963,  4.4532129 ],\n",
       "       [ 2.82371862,  2.0570536 ],\n",
       "       [ 3.74206715,  4.17360359],\n",
       "       [ 2.88056046,  3.51918192],\n",
       "       [ 2.60929348,  2.54415332],\n",
       "       [ 4.4348556 ,  3.07993505],\n",
       "       [ 3.01638193,  3.7823683 ],\n",
       "       [ 3.36562005,  2.25139742],\n",
       "       [ 2.6727831 ,  3.01742144],\n",
       "       [ 3.72179817,  3.85929408],\n",
       "       [ 3.4590884 ,  2.43678468],\n",
       "       [ 0.98850264,  1.90439829],\n",
       "       [ 1.4927276 ,  2.68700625],\n",
       "       [ 1.62519789,  1.1934404 ],\n",
       "       [ 0.34126392,  3.25318847],\n",
       "       [ 2.1429666 ,  1.2772986 ],\n",
       "       [ 1.74687364,  0.89237364],\n",
       "       [ 0.53591156,  0.98206794],\n",
       "       [ 2.87252264, -0.30806869],\n",
       "       [ 2.55549162,  0.68792331],\n",
       "       [ 1.79017396,  0.1158603 ],\n",
       "       [ 0.06129582,  2.76381861],\n",
       "       [ 0.88593947,  1.01045533],\n",
       "       [ 2.04485621,  1.04106406],\n",
       "       [ 2.70667086,  0.58434357],\n",
       "       [ 1.94078901,  0.83326599],\n",
       "       [ 2.77213034,  1.66263817],\n",
       "       [ 1.10279415,  1.07790649],\n",
       "       [ 0.26882035,  1.78551823],\n",
       "       [ 0.5484603 ,  0.93358574],\n",
       "       [ 2.80077106,  0.351717  ],\n",
       "       [ 0.8855381 ,  2.2472032 ],\n",
       "       [ 1.49000549,  1.27676059],\n",
       "       [ 2.58433546, -0.14192439],\n",
       "       [ 2.33410964,  1.48473371],\n",
       "       [ 0.50037707,  1.13397789],\n",
       "       [ 1.05206762,  1.64964893],\n",
       "       [ 2.36099246,  1.11280996],\n",
       "       [ 0.91014865,  2.81121783],\n",
       "       [ 2.15396289,  0.60652224],\n",
       "       [ 1.57241721,  2.1832368 ],\n",
       "       [ 1.86987141,  0.98631777],\n",
       "       [ 2.05670161,  0.01672072],\n",
       "       [ 1.27615771,  2.7743813 ],\n",
       "       [ 1.95505667,  1.82227657],\n",
       "       [ 0.91673425,  1.58355813],\n",
       "       [ 1.76248872,  2.42886929],\n",
       "       [ 2.13901386,  2.07295391],\n",
       "       [ 4.23360712, -0.59696417],\n",
       "       [ 1.30394152,  1.46444838],\n",
       "       [ 0.64561861,  0.81481713],\n",
       "       [ 1.84083658,  1.43578163],\n",
       "       [-0.06327618,  2.66182579],\n",
       "       [ 2.0510646 ,  0.56027606],\n",
       "       [ 0.78336571,  2.47128381],\n",
       "       [ 2.1872024 ,  1.21037285],\n",
       "       [ 1.78565351,  1.96465567],\n",
       "       [ 2.02035797,  0.72583603],\n",
       "       [ 1.29468895,  0.57167724],\n",
       "       [ 1.32809687,  1.87411568],\n",
       "       [ 1.40443042,  1.41385917],\n",
       "       [ 2.64199212,  0.03217742],\n",
       "       [ 1.50524652,  0.87331218],\n",
       "       [ 1.8051863 ,  1.50779015],\n",
       "       [-0.17136378,  3.30659117],\n",
       "       [ 1.23371749,  1.70861695],\n",
       "       [ 3.25875087, -0.27928843],\n",
       "       [ 2.39848006,  2.50953908],\n",
       "       [ 1.79413683,  1.43944074],\n",
       "       [ 1.07937561,  1.01537027],\n",
       "       [ 0.73759184,  2.84485299],\n",
       "       [ 0.41850033,  1.87709117],\n",
       "       [-0.33624703,  2.25037787],\n",
       "       [ 1.80730431,  2.88941532],\n",
       "       [ 2.1939032 ,  0.36744446],\n",
       "       [ 1.2131307 ,  1.39687874],\n",
       "       [ 2.95619537,  0.09691328],\n",
       "       [ 2.66281719,  0.70402593],\n",
       "       [ 2.94795427,  1.25261975],\n",
       "       [ 2.09738997,  0.65314226],\n",
       "       [ 0.27326248,  1.77331412],\n",
       "       [ 1.79654651,  2.21596191],\n",
       "       [ 3.0535347 ,  0.08948207],\n",
       "       [ 1.5631986 ,  2.04239879],\n",
       "       [ 2.12900156, -0.15182285],\n",
       "       [ 1.13381532,  2.09622802],\n",
       "       [ 1.40323582,  1.86512181],\n",
       "       [ 2.21690329,  0.96299965],\n",
       "       [ 0.95313342,  1.49353236],\n",
       "       [-0.0366444 ,  3.40367381],\n",
       "       [ 2.85260967,  0.65595456],\n",
       "       [ 2.70344866,  0.90622446],\n",
       "       [ 0.11397876,  2.25032345],\n",
       "       [ 0.77168046,  2.54805827],\n",
       "       [ 1.47672274,  2.99252678],\n",
       "       [ 1.4343159 ,  0.98184257],\n",
       "       [ 2.00412982,  0.36394625],\n",
       "       [ 1.70321186,  1.56104333],\n",
       "       [ 1.56527038,  2.07546301],\n",
       "       [ 2.05096418,  2.07493848],\n",
       "       [ 2.79751853,  2.30951544],\n",
       "       [ 0.59118751,  1.7448611 ],\n",
       "       [ 2.67417486,  0.69954666],\n",
       "       [ 1.98255371,  1.57050869],\n",
       "       [ 1.03548995,  1.90809702],\n",
       "       [ 1.69400743,  0.13259696],\n",
       "       [ 2.24334827,  1.42001538],\n",
       "       [ 0.82014277,  1.21491212],\n",
       "       [ 1.48956785,  1.8088977 ],\n",
       "       [ 2.37441377,  0.74466118],\n",
       "       [ 1.00366372,  1.11099529]])"
      ]
     },
     "execution_count": 3,
     "metadata": {},
     "output_type": "execute_result"
    }
   ],
   "source": [
    "X_train = np.load('data.npy')\n",
    "X_train"
   ]
  },
  {
   "cell_type": "code",
   "execution_count": 11,
   "metadata": {},
   "outputs": [
    {
     "data": {
      "image/png": "[encoded data removed]",
      "text/plain": [
       "<Figure size 432x288 with 1 Axes>"
      ]
     },
     "metadata": {
      "needs_background": "light"
     },
     "output_type": "display_data"
    }
   ],
   "source": [
    "plt.plot(X_train[:,0], 'bx')\n",
    "#plt.plot(X_train[:,0], X_train[:,1], 'bx')\n",
    "plt.axis('equal')\n",
    "plt.show()"
   ]
  },
  {
   "cell_type": "code",
   "execution_count": 12,
   "metadata": {},
   "outputs": [
    {
     "data": {
      "text/plain": [
       "GaussianMixture(n_components=2)"
      ]
     },
     "execution_count": 12,
     "metadata": {},
     "output_type": "execute_result"
    }
   ],
   "source": [
    "gmm = GaussianMixture(n_components=2)\n",
    "gmm.fit(X_train)"
   ]
  },
  {
   "cell_type": "code",
   "execution_count": 13,
   "metadata": {},
   "outputs": [
    {
     "name": "stdout",
     "output_type": "stream",
     "text": [
      "[[1.42342159]\n",
      " [4.56367321]]\n",
      "\n",
      "\n",
      "[[[3.98159773]]\n",
      "\n",
      " [[9.68632349]]]\n"
     ]
    }
   ],
   "source": [
    "print(gmm.means_)\n",
    "print('\\n')\n",
    "print(gmm.covariances_)"
   ]
  },
  {
   "cell_type": "code",
   "execution_count": 14,
   "metadata": {},
   "outputs": [],
   "source": [
    "X, Y = np.meshgrid(np.linspace(-1, 6), np.linspace(-1,6))\n",
    "#XX = np.array([X.ravel(), Y.ravel()]).T\n",
    "XX = np.array([X.ravel()]).T\n",
    "Z = gmm.score_samples(XX)\n",
    "Z = Z.reshape((50,50))"
   ]
  },
  {
   "cell_type": "code",
   "execution_count": 15,
   "metadata": {},
   "outputs": [
    {
     "data": {
      "image/png": "[encoded data removed]",
      "text/plain": [
       "<Figure size 432x288 with 1 Axes>"
      ]
     },
     "metadata": {
      "needs_background": "light"
     },
     "output_type": "display_data"
    }
   ],
   "source": [
    "plt.contour(X, Y, Z)\n",
    "#plt.scatter(X_train[:, 0], X_train[:, 1])\n",
    "plt.scatter(X_train[:, 0],X_train[:, 0])\n",
    "plt.show()"
   ]
  },
  {
   "cell_type": "code",
   "execution_count": null,
   "metadata": {},
   "outputs": [],
   "source": [
    "# ref. 1 https://pythonmachinelearning.pro/clustering-with-gaussian-mixture-models/"
   ]
  }
 ],
 "metadata": {
  "kernelspec": {
   "display_name": "Python 3",
   "language": "python",
   "name": "python3"
  },
  "language_info": {
   "codemirror_mode": {
    "name": "ipython",
    "version": 3
   },
   "file_extension": ".py",
   "mimetype": "text/x-python",
   "name": "python",
   "nbconvert_exporter": "python",
   "pygments_lexer": "ipython3",
   "version": "3.7.4"
  }
 },
 "nbformat": 4,
 "nbformat_minor": 4
}
