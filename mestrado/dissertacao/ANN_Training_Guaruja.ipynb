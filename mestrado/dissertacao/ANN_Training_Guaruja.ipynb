{
 "cells": [
  {
   "cell_type": "markdown",
   "metadata": {},
   "source": [
    "# __Treino e testes da rede neural__\n",
    "- Dataset: Guarujá (cap. 3)"
   ]
  },
  {
   "cell_type": "markdown",
   "metadata": {},
   "source": [
    "##### Copyright 2021 Caio Azevedo - ensaios de uma dissertação. \n",
    "\n",
    "13 de junho de 2021 - última atualização __todo santo dia__\n",
    "- ref. https://www.tensorflow.org/tutorials/structured_data/preprocessing_layers\n",
    "- ref. https://www.tensorflow.org/tutorials/structured_data/feature_columns"
   ]
  },
  {
   "cell_type": "markdown",
   "metadata": {},
   "source": [
    "__Objetivos__:\n",
    "\n",
    "- Tratamento dos dados para aplicação da rede neural: \n",
    "   - remoção de features irrelevantes;\n",
    "   - normalização do dataset;\n",
    "   - separação do dados de treino e teste da rede neural\n",
    "\n",
    "- Treinamento e avaliação das redes neurais:\n",
    "   - implementação keras\n",
    "   - implementação customizada\n",
    "\n",
    "- Automação do setup dos hiperparâmetros para melhor desempenho (critério inicial acurácia).\n",
    "  - em __15-08-2021__ - Uso Keras Tuning para otimização dos hyperparameters Keras (vide arquivo .ipynb)\n",
    "  - em __29-08-2021__ - Força Bruta para otimização dos hiperparametros na rede customizada\n",
    "\n",
    "- Avaliar performance da rede com e sem 'features irrelevantes'.\n",
    "\n",
    "__Sobre a implementação da Rede Neural Proprietária__:\n",
    "\n",
    "1. ref. https://whimsical.com/artificial-neural-network-4cTMNjQBkkCwJHZhUy7BTV\n"
   ]
  },
  {
   "cell_type": "markdown",
   "metadata": {},
   "source": [
    "Comparando predição com rede do keras\n",
    "- ref. https://machinelearningmastery.com/tutorial-first-neural-network-python-keras/\n",
    "\n",
    "Tunning neural netowrks\n",
    "- ref. http://karpathy.github.io/2019/04/25/recipe/\n",
    "\n",
    "Sobre as métricas\n",
    "- ref. https://neptune.ai/blog/f1-score-accuracy-roc-auc-pr-auc"
   ]
  },
  {
   "cell_type": "code",
   "execution_count": 1,
   "metadata": {},
   "outputs": [],
   "source": [
    "import datetime\n",
    "start = datetime.datetime.now()"
   ]
  },
  {
   "cell_type": "code",
   "execution_count": 2,
   "metadata": {},
   "outputs": [],
   "source": [
    "import MLP_Neural_Network as rna\n",
    "from MLP_Neural_Network import MLPNeuralNetwork\n",
    "from MLP_Neural_Network import Layer\n",
    "\n",
    "import numpy as np\n",
    "import pandas as pd\n",
    "import matplotlib.pyplot as plt\n",
    "from matplotlib import pyplot\n",
    "import seaborn as sns\n",
    "\n",
    "from sklearn.preprocessing import MinMaxScaler, OneHotEncoder\n",
    "from sklearn.model_selection import train_test_split\n",
    "\n",
    "from utils import plot\n",
    "\n",
    "%matplotlib inline"
   ]
  },
  {
   "cell_type": "code",
   "execution_count": 3,
   "metadata": {},
   "outputs": [],
   "source": [
    "from sklearn.metrics import accuracy_score\n",
    "from sklearn.metrics import precision_score\n",
    "from sklearn.metrics import recall_score\n",
    "from sklearn.metrics import f1_score\n",
    "from sklearn.metrics import cohen_kappa_score\n",
    "from sklearn.metrics import auc\n",
    "from sklearn.metrics import roc_auc_score\n",
    "from sklearn.metrics import roc_curve\n",
    "from sklearn.metrics import confusion_matrix"
   ]
  },
  {
   "cell_type": "code",
   "execution_count": 4,
   "metadata": {},
   "outputs": [],
   "source": [
    "#gráfico que relacionada cada uma das features com o valor predito\n",
    "def plotSwarmChart(dataSet):\n",
    "    dataSet['Constante'] = 0 #feature inútil para referência do gráfico\n",
    "\n",
    "    f, axes = plt.subplots(1, 7, figsize=(35, 17), sharex=False)\n",
    "    f.subplots_adjust(hspace=0.2, wspace=0.7)\n",
    "    \n",
    "    sns.catplot(x=dataSet.columns[6], y='score', kind=\"swarm\", hue='score', data=dataSet,ax=axes[6])\n",
    "    \n",
    "    for i in range(7):\n",
    "        col = dataSet.columns[i] \n",
    "        ax = sns.swarmplot(x=dataSet['Constante'],y=dataSet[col].values,hue=(dataSet['score']>0.5),ax=axes[i])\n",
    "        ax.set_title(col)\n",
    "        \n",
    "    plt.close(2)\n",
    "    plt.close(3)\n",
    "    plt.show()"
   ]
  },
  {
   "cell_type": "code",
   "execution_count": 5,
   "metadata": {},
   "outputs": [],
   "source": [
    "def NetworkPerformance(y_real, y_prob):\n",
    "    y_predict = (y_prob > 0.5)\n",
    "    # accuracy: (tp + tn) / (p + n)\n",
    "    accuracy = accuracy_score(y_real, y_predict)\n",
    "    print('Accuracy: %f' % accuracy)\n",
    "    # precision tp / (tp + fp)\n",
    "    precision = precision_score(y_real, y_predict)\n",
    "    print('Precision: %f' % precision)\n",
    "    # recall: tp / (tp + fn)\n",
    "    recall = recall_score(y_real, y_predict)\n",
    "    print('Recall: %f' % recall)\n",
    "    # f1: 2 tp / (2 tp + fp + fn)\n",
    "    f1 = f1_score(y_real, y_predict)\n",
    "    print('F1 score: %f' % f1)\n",
    "    # kappa\n",
    "    kappa = cohen_kappa_score(y_real, y_predict)\n",
    "    print('Cohens kappa: %f' % kappa)\n",
    "    # ROC AUC\n",
    "    auc = roc_auc_score(y_real, y_prob)\n",
    "    print('ROC AUC: %f' % auc)\n",
    "    # confusion matrix\n",
    "    matrix = confusion_matrix(y_real, y_predict)\n",
    "    print(matrix)"
   ]
  },
  {
   "cell_type": "code",
   "execution_count": 6,
   "metadata": {},
   "outputs": [],
   "source": [
    "#https://www.analyticsvidhya.com/blog/2020/06/auc-roc-curve-machine-learning/\n",
    "def printAUROC(y_real,y_predict):\n",
    "    ns_auc = roc_auc_score(y_real, y_predict)\n",
    "    # summarize scores\n",
    "    print('Área curva ROC=%.4f' % (ns_auc))\n",
    "    # calculate roc curves\n",
    "    lr_fpr, lr_tpr, _ = roc_curve(y_real, y_predict)\n",
    "    random_probs = [0 for i in range(len(y_test))]\n",
    "    p_fpr, p_tpr, _ = roc_curve(y_test, random_probs, pos_label=1)\n",
    "    # plot the roc curve for the model\n",
    "    plt.plot(p_fpr, p_tpr, linestyle='--', label='aleatório', color='orange')\n",
    "    pyplot.plot(lr_fpr, lr_tpr, marker='.', label='RNA', color='blue')\n",
    "    \n",
    "    # axis labels\n",
    "    pyplot.xlabel('Taxa de falso positivo')\n",
    "    pyplot.ylabel('Taxa de verdadeiro positivo')\n",
    "    # show the legend\n",
    "    pyplot.legend()\n",
    "    # show the plot\n",
    "    pyplot.show()"
   ]
  },
  {
   "cell_type": "code",
   "execution_count": 7,
   "metadata": {},
   "outputs": [
    {
     "data": {
      "text/html": [
       "<div>\n",
       "<style scoped>\n",
       "    .dataframe tbody tr th:only-of-type {\n",
       "        vertical-align: middle;\n",
       "    }\n",
       "\n",
       "    .dataframe tbody tr th {\n",
       "        vertical-align: top;\n",
       "    }\n",
       "\n",
       "    .dataframe thead th {\n",
       "        text-align: right;\n",
       "    }\n",
       "</style>\n",
       "<table border=\"1\" class=\"dataframe\">\n",
       "  <thead>\n",
       "    <tr style=\"text-align: right;\">\n",
       "      <th></th>\n",
       "      <th>FID</th>\n",
       "      <th>X</th>\n",
       "      <th>Y</th>\n",
       "      <th>TWI</th>\n",
       "      <th>Curvatura</th>\n",
       "      <th>Declividade</th>\n",
       "      <th>Elevacao</th>\n",
       "      <th>Aspecto</th>\n",
       "      <th>Geologia</th>\n",
       "      <th>Uso</th>\n",
       "      <th>class</th>\n",
       "    </tr>\n",
       "  </thead>\n",
       "  <tbody>\n",
       "    <tr>\n",
       "      <th>0</th>\n",
       "      <td>98</td>\n",
       "      <td>381913.2155</td>\n",
       "      <td>7358368.235</td>\n",
       "      <td>27.338095</td>\n",
       "      <td>0.002735</td>\n",
       "      <td>27.338095</td>\n",
       "      <td>120.943680</td>\n",
       "      <td>330.186584</td>\n",
       "      <td>65</td>\n",
       "      <td>90</td>\n",
       "      <td>0</td>\n",
       "    </tr>\n",
       "    <tr>\n",
       "      <th>1</th>\n",
       "      <td>152</td>\n",
       "      <td>375711.0000</td>\n",
       "      <td>7348857.000</td>\n",
       "      <td>5.155329</td>\n",
       "      <td>0.006004</td>\n",
       "      <td>24.772690</td>\n",
       "      <td>17.397917</td>\n",
       "      <td>113.472549</td>\n",
       "      <td>2</td>\n",
       "      <td>20</td>\n",
       "      <td>1</td>\n",
       "    </tr>\n",
       "    <tr>\n",
       "      <th>2</th>\n",
       "      <td>95</td>\n",
       "      <td>383008.5927</td>\n",
       "      <td>7357558.608</td>\n",
       "      <td>24.757074</td>\n",
       "      <td>0.000368</td>\n",
       "      <td>24.757074</td>\n",
       "      <td>207.428345</td>\n",
       "      <td>121.768433</td>\n",
       "      <td>65</td>\n",
       "      <td>90</td>\n",
       "      <td>0</td>\n",
       "    </tr>\n",
       "    <tr>\n",
       "      <th>3</th>\n",
       "      <td>106</td>\n",
       "      <td>371074.0000</td>\n",
       "      <td>7345111.000</td>\n",
       "      <td>6.688554</td>\n",
       "      <td>-0.010576</td>\n",
       "      <td>29.801399</td>\n",
       "      <td>15.330963</td>\n",
       "      <td>71.881042</td>\n",
       "      <td>2</td>\n",
       "      <td>20</td>\n",
       "      <td>1</td>\n",
       "    </tr>\n",
       "    <tr>\n",
       "      <th>4</th>\n",
       "      <td>82</td>\n",
       "      <td>375019.5230</td>\n",
       "      <td>7353140.890</td>\n",
       "      <td>0.221845</td>\n",
       "      <td>-0.000012</td>\n",
       "      <td>0.221845</td>\n",
       "      <td>2.162373</td>\n",
       "      <td>185.550385</td>\n",
       "      <td>2</td>\n",
       "      <td>70</td>\n",
       "      <td>0</td>\n",
       "    </tr>\n",
       "  </tbody>\n",
       "</table>\n",
       "</div>"
      ],
      "text/plain": [
       "   FID            X            Y        TWI  Curvatura  Declividade  \\\n",
       "0   98  381913.2155  7358368.235  27.338095   0.002735    27.338095   \n",
       "1  152  375711.0000  7348857.000   5.155329   0.006004    24.772690   \n",
       "2   95  383008.5927  7357558.608  24.757074   0.000368    24.757074   \n",
       "3  106  371074.0000  7345111.000   6.688554  -0.010576    29.801399   \n",
       "4   82  375019.5230  7353140.890   0.221845  -0.000012     0.221845   \n",
       "\n",
       "     Elevacao     Aspecto  Geologia  Uso  class  \n",
       "0  120.943680  330.186584        65   90      0  \n",
       "1   17.397917  113.472549         2   20      1  \n",
       "2  207.428345  121.768433        65   90      0  \n",
       "3   15.330963   71.881042         2   20      1  \n",
       "4    2.162373  185.550385         2   70      0  "
      ]
     },
     "execution_count": 7,
     "metadata": {},
     "output_type": "execute_result"
    }
   ],
   "source": [
    "import os, sys\n",
    "import pandas as pd\n",
    "from sklearn.model_selection import train_test_split\n",
    "APP_PATH = os.getcwd()\n",
    "\n",
    "#file = \"Input_Guaruja_50m_shuffled.csv\"\n",
    "#file = \"Input_Guaruja_100m_shuffled.csv\"\n",
    "#file = \"Input_Guaruja_150m_shuffled.csv\"\n",
    "#file = \"Input_Guaruja_200m_shuffled.csv\"\n",
    "\n",
    "#file = \"pt_nocorrencias_1km_shuffled.csv\"\n",
    "#file = \"pt_nocorrencias_2km_shuffled.csv\"\n",
    "#file = \"pt_nocorrencias_3km_shuffled.csv\"\n",
    "#file = \"pt_nocorrencias_4km_shuffled.csv\"\n",
    "\n",
    "file = \"ptos_aleatorios_shuffled.csv\"\n",
    "\n",
    "\n",
    "dataset = pd.read_csv(os.path.join(APP_PATH, os.path.join(\"data\", file))) \n",
    "#dataset = pd.read_csv(os.path.join(APP_PATH, os.path.join(\"data\", \"ptos_aleatorios.csv\")))\n",
    "\n",
    "# load the dataset\n",
    "#dataset = dataset.sample(frac = 1) #embaralha os registros\n",
    "#dataset.to_csv(os.path.join(APP_PATH, os.path.join(\"data\", \"ptos_aleatorios_shuffled.csv\")))\n",
    "dataset_original = dataset.copy()\n",
    "dataset.head(5)"
   ]
  },
  {
   "cell_type": "code",
   "execution_count": 8,
   "metadata": {},
   "outputs": [],
   "source": [
    "#dataset[\"eng_1\"] = dataset[\"Elevacao\"] / dataset[\"Declividade\"]"
   ]
  },
  {
   "cell_type": "code",
   "execution_count": 9,
   "metadata": {},
   "outputs": [
    {
     "data": {
      "text/html": [
       "<div>\n",
       "<style scoped>\n",
       "    .dataframe tbody tr th:only-of-type {\n",
       "        vertical-align: middle;\n",
       "    }\n",
       "\n",
       "    .dataframe tbody tr th {\n",
       "        vertical-align: top;\n",
       "    }\n",
       "\n",
       "    .dataframe thead th {\n",
       "        text-align: right;\n",
       "    }\n",
       "</style>\n",
       "<table border=\"1\" class=\"dataframe\">\n",
       "  <thead>\n",
       "    <tr style=\"text-align: right;\">\n",
       "      <th></th>\n",
       "      <th>slope</th>\n",
       "      <th>aspect</th>\n",
       "      <th>elevation</th>\n",
       "      <th>uso_solo</th>\n",
       "      <th>lito</th>\n",
       "      <th>twi</th>\n",
       "      <th>curv</th>\n",
       "      <th>class</th>\n",
       "    </tr>\n",
       "  </thead>\n",
       "  <tbody>\n",
       "    <tr>\n",
       "      <th>0</th>\n",
       "      <td>27.338095</td>\n",
       "      <td>330.186584</td>\n",
       "      <td>120.943680</td>\n",
       "      <td>90</td>\n",
       "      <td>65</td>\n",
       "      <td>27.338095</td>\n",
       "      <td>0.002735</td>\n",
       "      <td>0</td>\n",
       "    </tr>\n",
       "    <tr>\n",
       "      <th>1</th>\n",
       "      <td>24.772690</td>\n",
       "      <td>113.472549</td>\n",
       "      <td>17.397917</td>\n",
       "      <td>20</td>\n",
       "      <td>2</td>\n",
       "      <td>5.155329</td>\n",
       "      <td>0.006004</td>\n",
       "      <td>1</td>\n",
       "    </tr>\n",
       "    <tr>\n",
       "      <th>2</th>\n",
       "      <td>24.757074</td>\n",
       "      <td>121.768433</td>\n",
       "      <td>207.428345</td>\n",
       "      <td>90</td>\n",
       "      <td>65</td>\n",
       "      <td>24.757074</td>\n",
       "      <td>0.000368</td>\n",
       "      <td>0</td>\n",
       "    </tr>\n",
       "    <tr>\n",
       "      <th>3</th>\n",
       "      <td>29.801399</td>\n",
       "      <td>71.881042</td>\n",
       "      <td>15.330963</td>\n",
       "      <td>20</td>\n",
       "      <td>2</td>\n",
       "      <td>6.688554</td>\n",
       "      <td>-0.010576</td>\n",
       "      <td>1</td>\n",
       "    </tr>\n",
       "    <tr>\n",
       "      <th>4</th>\n",
       "      <td>0.221845</td>\n",
       "      <td>185.550385</td>\n",
       "      <td>2.162373</td>\n",
       "      <td>70</td>\n",
       "      <td>2</td>\n",
       "      <td>0.221845</td>\n",
       "      <td>-0.000012</td>\n",
       "      <td>0</td>\n",
       "    </tr>\n",
       "  </tbody>\n",
       "</table>\n",
       "</div>"
      ],
      "text/plain": [
       "       slope      aspect   elevation  uso_solo  lito        twi      curv  \\\n",
       "0  27.338095  330.186584  120.943680        90    65  27.338095  0.002735   \n",
       "1  24.772690  113.472549   17.397917        20     2   5.155329  0.006004   \n",
       "2  24.757074  121.768433  207.428345        90    65  24.757074  0.000368   \n",
       "3  29.801399   71.881042   15.330963        20     2   6.688554 -0.010576   \n",
       "4   0.221845  185.550385    2.162373        70     2   0.221845 -0.000012   \n",
       "\n",
       "   class  \n",
       "0      0  \n",
       "1      1  \n",
       "2      0  \n",
       "3      1  \n",
       "4      0  "
      ]
     },
     "execution_count": 9,
     "metadata": {},
     "output_type": "execute_result"
    }
   ],
   "source": [
    "dataset.rename(columns={'TWI': 'twi','Curvatura': 'curv', 'Declividade': 'slope','Elevacao': 'elevation','Aspecto': 'aspect', 'Geologia': 'lito', 'Uso': 'uso_solo'}, inplace=True)\n",
    "dataset = dataset[['slope','aspect','elevation','uso_solo','lito','twi','curv','class']]\n",
    "#dataset = dataset[['aspect','uso_solo','lito','twi','curv','class','eng_1']]\n",
    "dataset.head(5)"
   ]
  },
  {
   "cell_type": "code",
   "execution_count": 10,
   "metadata": {},
   "outputs": [
    {
     "data": {
      "text/plain": [
       "(200, 8)"
      ]
     },
     "execution_count": 10,
     "metadata": {},
     "output_type": "execute_result"
    }
   ],
   "source": [
    "dataset.shape"
   ]
  },
  {
   "cell_type": "code",
   "execution_count": 11,
   "metadata": {},
   "outputs": [
    {
     "data": {
      "text/html": [
       "<div>\n",
       "<style scoped>\n",
       "    .dataframe tbody tr th:only-of-type {\n",
       "        vertical-align: middle;\n",
       "    }\n",
       "\n",
       "    .dataframe tbody tr th {\n",
       "        vertical-align: top;\n",
       "    }\n",
       "\n",
       "    .dataframe thead th {\n",
       "        text-align: right;\n",
       "    }\n",
       "</style>\n",
       "<table border=\"1\" class=\"dataframe\">\n",
       "  <thead>\n",
       "    <tr style=\"text-align: right;\">\n",
       "      <th></th>\n",
       "      <th>slope</th>\n",
       "      <th>aspect</th>\n",
       "      <th>elevation</th>\n",
       "      <th>uso_solo</th>\n",
       "      <th>lito</th>\n",
       "      <th>twi</th>\n",
       "      <th>curv</th>\n",
       "      <th>class</th>\n",
       "    </tr>\n",
       "  </thead>\n",
       "  <tbody>\n",
       "    <tr>\n",
       "      <th>count</th>\n",
       "      <td>200.00</td>\n",
       "      <td>200.00</td>\n",
       "      <td>200.00</td>\n",
       "      <td>200.00</td>\n",
       "      <td>200.00</td>\n",
       "      <td>200.00</td>\n",
       "      <td>200.00</td>\n",
       "      <td>200.0</td>\n",
       "    </tr>\n",
       "    <tr>\n",
       "      <th>mean</th>\n",
       "      <td>23.94</td>\n",
       "      <td>209.79</td>\n",
       "      <td>64.32</td>\n",
       "      <td>75.80</td>\n",
       "      <td>32.56</td>\n",
       "      <td>14.42</td>\n",
       "      <td>0.03</td>\n",
       "      <td>0.5</td>\n",
       "    </tr>\n",
       "    <tr>\n",
       "      <th>std</th>\n",
       "      <td>11.79</td>\n",
       "      <td>103.92</td>\n",
       "      <td>56.08</td>\n",
       "      <td>26.72</td>\n",
       "      <td>31.56</td>\n",
       "      <td>13.62</td>\n",
       "      <td>0.41</td>\n",
       "      <td>0.5</td>\n",
       "    </tr>\n",
       "    <tr>\n",
       "      <th>min</th>\n",
       "      <td>0.09</td>\n",
       "      <td>0.04</td>\n",
       "      <td>0.23</td>\n",
       "      <td>20.00</td>\n",
       "      <td>2.00</td>\n",
       "      <td>0.09</td>\n",
       "      <td>-0.59</td>\n",
       "      <td>0.0</td>\n",
       "    </tr>\n",
       "    <tr>\n",
       "      <th>25%</th>\n",
       "      <td>18.08</td>\n",
       "      <td>121.04</td>\n",
       "      <td>14.33</td>\n",
       "      <td>90.00</td>\n",
       "      <td>2.00</td>\n",
       "      <td>4.29</td>\n",
       "      <td>-0.01</td>\n",
       "      <td>0.0</td>\n",
       "    </tr>\n",
       "    <tr>\n",
       "      <th>50%</th>\n",
       "      <td>25.33</td>\n",
       "      <td>202.74</td>\n",
       "      <td>54.48</td>\n",
       "      <td>90.00</td>\n",
       "      <td>2.00</td>\n",
       "      <td>6.13</td>\n",
       "      <td>-0.00</td>\n",
       "      <td>0.0</td>\n",
       "    </tr>\n",
       "    <tr>\n",
       "      <th>75%</th>\n",
       "      <td>30.77</td>\n",
       "      <td>316.40</td>\n",
       "      <td>94.71</td>\n",
       "      <td>90.00</td>\n",
       "      <td>65.00</td>\n",
       "      <td>26.33</td>\n",
       "      <td>0.00</td>\n",
       "      <td>1.0</td>\n",
       "    </tr>\n",
       "    <tr>\n",
       "      <th>max</th>\n",
       "      <td>69.73</td>\n",
       "      <td>359.51</td>\n",
       "      <td>226.06</td>\n",
       "      <td>90.00</td>\n",
       "      <td>65.00</td>\n",
       "      <td>69.73</td>\n",
       "      <td>4.30</td>\n",
       "      <td>1.0</td>\n",
       "    </tr>\n",
       "  </tbody>\n",
       "</table>\n",
       "</div>"
      ],
      "text/plain": [
       "        slope  aspect  elevation  uso_solo    lito     twi    curv  class\n",
       "count  200.00  200.00     200.00    200.00  200.00  200.00  200.00  200.0\n",
       "mean    23.94  209.79      64.32     75.80   32.56   14.42    0.03    0.5\n",
       "std     11.79  103.92      56.08     26.72   31.56   13.62    0.41    0.5\n",
       "min      0.09    0.04       0.23     20.00    2.00    0.09   -0.59    0.0\n",
       "25%     18.08  121.04      14.33     90.00    2.00    4.29   -0.01    0.0\n",
       "50%     25.33  202.74      54.48     90.00    2.00    6.13   -0.00    0.0\n",
       "75%     30.77  316.40      94.71     90.00   65.00   26.33    0.00    1.0\n",
       "max     69.73  359.51     226.06     90.00   65.00   69.73    4.30    1.0"
      ]
     },
     "execution_count": 11,
     "metadata": {},
     "output_type": "execute_result"
    }
   ],
   "source": [
    "#describing the dataframe to seek for distribution information\n",
    "dataset.describe().round(2)"
   ]
  },
  {
   "cell_type": "code",
   "execution_count": 12,
   "metadata": {},
   "outputs": [
    {
     "data": {
      "image/png": "[encoded data removed]",
      "text/plain": [
       "<Figure size 1500x1300 with 1 Axes>"
      ]
     },
     "metadata": {},
     "output_type": "display_data"
    }
   ],
   "source": [
    "fig, ax = plt.subplots(figsize=(15,13))\n",
    "sizes = dataset['elevation']*10\n",
    "scatter = ax.scatter(dataset['slope'], dataset['elevation'], \n",
    "           c=(dataset['class']), cmap='rainbow', alpha=0.5,\n",
    "           s=sizes, edgecolors='none')\n",
    "\n",
    "legend1 = ax.legend(*scatter.legend_elements(),\n",
    "                    loc=\"upper right\", title=\"landslide\")\n",
    "\n",
    "ax.title.set_text(\"{}{}\".format(len(dataset.index), ' amostras de escorregamentos')) \n",
    "\n",
    "plt.show()"
   ]
  },
  {
   "cell_type": "markdown",
   "metadata": {},
   "source": [
    "## Preparação dos dados (Remoção das features irrelevantes & Normalização)\n",
    "__Cuidado com data leakage, considerar as melhores práticas:__\n",
    "- Train-Test Evaluation With Correct Data Preparation\n",
    "- ref. https://realpython.com/train-test-split-python-data/\n",
    "- Data Preparation With k-fold Cross-Validation\n",
    "\n",
    "- ref. https://machinelearningmastery.com/data-preparation-without-data-leakage/\n",
    "- ref. https://towardsdatascience.com/data-leakage-in-machine-learning-10bdd3eec742\n",
    "- ref. https://analyticsindiamag.com/what-is-data-leakage-in-ml-why-should-you-be-concerned/\n",
    "- ref. https://www.section.io/engineering-education/data-leakage/\n",
    "- ref. https://medium.com/analytics-vidhya/overfitting-vs-data-leakage-in-machine-learning-ec59baa603e1"
   ]
  },
  {
   "cell_type": "markdown",
   "metadata": {},
   "source": [
    " __Segue abaixo, a ordem de relevância das variáveis, bem como a identificação daquelas que podem ser removidas (vide analise análise da features).__\n",
    "  - elevation | elevation (ok) \n",
    "  - uso_solo | uso_solo (ok)\n",
    "  - twi | curvatura (ok)\n",
    "  - curvatura | twi (ok)\n",
    "  - lito | aspect   __(to be tested)__\n",
    "  - aspect | lito   __(to be tested)__\n",
    "  - slope | slope   __(to be tested)__"
   ]
  },
  {
   "cell_type": "code",
   "execution_count": 13,
   "metadata": {},
   "outputs": [
    {
     "data": {
      "text/html": [
       "<div>\n",
       "<style scoped>\n",
       "    .dataframe tbody tr th:only-of-type {\n",
       "        vertical-align: middle;\n",
       "    }\n",
       "\n",
       "    .dataframe tbody tr th {\n",
       "        vertical-align: top;\n",
       "    }\n",
       "\n",
       "    .dataframe thead th {\n",
       "        text-align: right;\n",
       "    }\n",
       "</style>\n",
       "<table border=\"1\" class=\"dataframe\">\n",
       "  <thead>\n",
       "    <tr style=\"text-align: right;\">\n",
       "      <th></th>\n",
       "      <th>slope</th>\n",
       "      <th>aspect</th>\n",
       "      <th>elevation</th>\n",
       "      <th>uso_solo</th>\n",
       "      <th>lito</th>\n",
       "      <th>twi</th>\n",
       "      <th>curv</th>\n",
       "      <th>class</th>\n",
       "    </tr>\n",
       "  </thead>\n",
       "  <tbody>\n",
       "    <tr>\n",
       "      <th>0</th>\n",
       "      <td>27.338095</td>\n",
       "      <td>330.186584</td>\n",
       "      <td>120.943680</td>\n",
       "      <td>90</td>\n",
       "      <td>65</td>\n",
       "      <td>27.338095</td>\n",
       "      <td>0.002735</td>\n",
       "      <td>0</td>\n",
       "    </tr>\n",
       "    <tr>\n",
       "      <th>1</th>\n",
       "      <td>24.772690</td>\n",
       "      <td>113.472549</td>\n",
       "      <td>17.397917</td>\n",
       "      <td>20</td>\n",
       "      <td>2</td>\n",
       "      <td>5.155329</td>\n",
       "      <td>0.006004</td>\n",
       "      <td>1</td>\n",
       "    </tr>\n",
       "    <tr>\n",
       "      <th>2</th>\n",
       "      <td>24.757074</td>\n",
       "      <td>121.768433</td>\n",
       "      <td>207.428345</td>\n",
       "      <td>90</td>\n",
       "      <td>65</td>\n",
       "      <td>24.757074</td>\n",
       "      <td>0.000368</td>\n",
       "      <td>0</td>\n",
       "    </tr>\n",
       "    <tr>\n",
       "      <th>3</th>\n",
       "      <td>29.801399</td>\n",
       "      <td>71.881042</td>\n",
       "      <td>15.330963</td>\n",
       "      <td>20</td>\n",
       "      <td>2</td>\n",
       "      <td>6.688554</td>\n",
       "      <td>-0.010576</td>\n",
       "      <td>1</td>\n",
       "    </tr>\n",
       "    <tr>\n",
       "      <th>4</th>\n",
       "      <td>0.221845</td>\n",
       "      <td>185.550385</td>\n",
       "      <td>2.162373</td>\n",
       "      <td>70</td>\n",
       "      <td>2</td>\n",
       "      <td>0.221845</td>\n",
       "      <td>-0.000012</td>\n",
       "      <td>0</td>\n",
       "    </tr>\n",
       "  </tbody>\n",
       "</table>\n",
       "</div>"
      ],
      "text/plain": [
       "       slope      aspect   elevation  uso_solo  lito        twi      curv  \\\n",
       "0  27.338095  330.186584  120.943680        90    65  27.338095  0.002735   \n",
       "1  24.772690  113.472549   17.397917        20     2   5.155329  0.006004   \n",
       "2  24.757074  121.768433  207.428345        90    65  24.757074  0.000368   \n",
       "3  29.801399   71.881042   15.330963        20     2   6.688554 -0.010576   \n",
       "4   0.221845  185.550385    2.162373        70     2   0.221845 -0.000012   \n",
       "\n",
       "   class  \n",
       "0      0  \n",
       "1      1  \n",
       "2      0  \n",
       "3      1  \n",
       "4      0  "
      ]
     },
     "execution_count": 13,
     "metadata": {},
     "output_type": "execute_result"
    }
   ],
   "source": [
    "#features menos relevantes guaruja\n",
    "#dataset = dataset.drop('elevation',axis=1)\n",
    "#dataset = dataset.drop('curv',axis=1)\n",
    "#dataset = dataset.drop('lito',axis=1)\n",
    "#dataset = dataset.drop('uso_solo',axis=1)\n",
    "\n",
    "# de fato, essas 3 features são irrelevantes pois a acurácia é similar sem elas no dataset\n",
    "dataset.head(5)"
   ]
  },
  {
   "cell_type": "code",
   "execution_count": 14,
   "metadata": {},
   "outputs": [],
   "source": [
    "#divide o dataset em base de treino e teste\n",
    "def dataPreparation(dataSet):\n",
    "    X = dataSet.drop('class',axis=1)\n",
    "    y= dataSet['class']\n",
    "    \n",
    "    X = X.to_numpy()    #converts dataframe into array to be used at NN\n",
    "    y = y.to_numpy()    #converts dataframe into array to be used at NN\n",
    "    y = y.reshape(-1,1) #reorganiza o array em um array 1 x 1\n",
    "    \n",
    "    # split data into training and testing sets\n",
    "    seed = 7\n",
    "    test_size = 0.30\n",
    "    X_train, X_test, y_train, y_test = train_test_split(X, y, test_size=test_size, random_state=seed)\n",
    "    \n",
    "    # define the scaler\n",
    "    scaler = MinMaxScaler(feature_range=(-1, 1)) \n",
    "    #scaler = MinMaxScaler() \n",
    "    # fit on the training dataset\n",
    "    scaler.fit(X_train)\n",
    "    # scale the training dataset\n",
    "    X_train = scaler.transform(X_train)\n",
    "    \n",
    "    # scale the test dataset\n",
    "    X_test = scaler.transform(X_test)\n",
    "    return X_train, X_test, y_train, y_test"
   ]
  },
  {
   "cell_type": "code",
   "execution_count": 15,
   "metadata": {},
   "outputs": [],
   "source": [
    "#divide o dataset em treino-teste-validação\n",
    "def dataPreparation2(dataSet):\n",
    "    X = dataSet.drop('class',axis=1)\n",
    "    y= dataSet['class']\n",
    "    \n",
    "    X = X.to_numpy()    #converts dataframe into array to be used at NN\n",
    "    y = y.to_numpy()    #converts dataframe into array to be used at NN\n",
    "    y = y.reshape(-1,1) #reorganiza o array em um array 1 x 1\n",
    "    \n",
    "    # split data into training, validation and testing sets\n",
    "    seed = 7\n",
    "    test_size = 0.30\n",
    "    \n",
    "    train_x, test_x, train_y, test_y = train_test_split(X, y, test_size=test_size, shuffle=False)\n",
    "    train_x, val_x, train_y, val_y   = train_test_split(train_x,train_y, test_size=test_size, shuffle=False)\n",
    "\n",
    "    # define the scaler\n",
    "    scaler = MinMaxScaler(feature_range=(-1, 1)) \n",
    "    #scaler = MinMaxScaler() \n",
    "    # fit on the training dataset\n",
    "    scaler.fit(train_x)\n",
    "    # scale the training dataset\n",
    "    train_x = scaler.transform(train_x)\n",
    "    # scale the test dataset\n",
    "    test_x = scaler.transform(test_x)\n",
    "    # scale the test dataset\n",
    "    val_x = scaler.transform(val_x)\n",
    "    return train_x, test_x, val_x, train_y, test_y, val_y"
   ]
  },
  {
   "cell_type": "code",
   "execution_count": 16,
   "metadata": {},
   "outputs": [],
   "source": [
    "X_train, X_test, X_val, y_train, y_test, y_val = dataPreparation2(dataset)\n",
    "#X_train, X_test, y_train, y_test = dataPreparation(dataset)"
   ]
  },
  {
   "cell_type": "code",
   "execution_count": 17,
   "metadata": {},
   "outputs": [
    {
     "name": "stdout",
     "output_type": "stream",
     "text": [
      "98 train examples\n",
      "42 validation examples\n",
      "60 test examples\n"
     ]
    }
   ],
   "source": [
    "print(len(X_train), 'train examples')\n",
    "print(len(X_val), 'validation examples')\n",
    "print(len(X_test), 'test examples')"
   ]
  },
  {
   "cell_type": "code",
   "execution_count": 18,
   "metadata": {},
   "outputs": [
    {
     "name": "stdout",
     "output_type": "stream",
     "text": [
      "[-1. -1. -1. -1. -1. -1. -1.] [ 1.63025317  0.948116    1.03804377  1.          1.          1.35762042\n",
      " -0.98499636]\n"
     ]
    }
   ],
   "source": [
    "print(X_train.min(axis=0), X_test.max(axis=0))"
   ]
  },
  {
   "cell_type": "code",
   "execution_count": 19,
   "metadata": {},
   "outputs": [],
   "source": [
    "X = np.concatenate((X_train, X_val))\n",
    "X = np.concatenate((X, X_test))"
   ]
  },
  {
   "cell_type": "code",
   "execution_count": 20,
   "metadata": {},
   "outputs": [
    {
     "data": {
      "text/plain": [
       "(200, 7)"
      ]
     },
     "execution_count": 20,
     "metadata": {},
     "output_type": "execute_result"
    }
   ],
   "source": [
    "X.shape"
   ]
  },
  {
   "cell_type": "code",
   "execution_count": 21,
   "metadata": {},
   "outputs": [],
   "source": [
    "y = np.concatenate((y_train, y_val))\n",
    "y = np.concatenate((y, y_test))"
   ]
  },
  {
   "cell_type": "code",
   "execution_count": 22,
   "metadata": {},
   "outputs": [
    {
     "data": {
      "text/plain": [
       "(200, 1)"
      ]
     },
     "execution_count": 22,
     "metadata": {},
     "output_type": "execute_result"
    }
   ],
   "source": [
    "y.shape"
   ]
  },
  {
   "cell_type": "code",
   "execution_count": 23,
   "metadata": {},
   "outputs": [
    {
     "name": "stdout",
     "output_type": "stream",
     "text": [
      "[-1.         -1.00147197 -1.00818162 -1.         -1.         -1.\n",
      " -1.26211285] [1.78731424 1.00048694 1.03804377 1.         1.         1.78731424\n",
      " 1.        ]\n"
     ]
    }
   ],
   "source": [
    "print(X.min(axis=0), X.max(axis=0))"
   ]
  },
  {
   "cell_type": "code",
   "execution_count": 24,
   "metadata": {},
   "outputs": [],
   "source": [
    "#X = dataset.drop('class',axis=1)\n",
    "#y= dataset['class']\n",
    "#X = X.to_numpy()    #converts dataframe into array to be used at NN\n",
    "#y = y.to_numpy()    #converts dataframe into array to be used at NN\n",
    "#y = y.reshape(-1,1) #reorganiza o array em um array 1 x 1\n",
    "\n",
    "#normalização do dataset\n",
    "#minmax = MinMaxScaler(feature_range=(-1, 1))\n",
    "#minmax = MinMaxScaler()\n",
    "#X = minmax.fit_transform(X.astype(np.float64))\n",
    "#print(X.min(axis=0), X.max(axis=0))"
   ]
  },
  {
   "cell_type": "markdown",
   "metadata": {},
   "source": [
    "__Computa o número de variáveis de entrada (features) e saída (sempre 1)__"
   ]
  },
  {
   "cell_type": "code",
   "execution_count": 25,
   "metadata": {},
   "outputs": [],
   "source": [
    "input_dim, output_dim = X_train.shape[1], y_train.shape[1]"
   ]
  },
  {
   "cell_type": "markdown",
   "metadata": {},
   "source": [
    "## Rede Neural Customizada\n",
    "### Força Bruta para tuning dos hiperparametros \n",
    "__Problema de classificação, considerar as melhores práticas:__\n",
    "- Ajuste dos hiperparametros\n",
    "- Baseline para implementação customizada"
   ]
  },
  {
   "cell_type": "code",
   "execution_count": 26,
   "metadata": {},
   "outputs": [],
   "source": [
    "class hyperparametros: \n",
    "    def __init__(self, acuracia, camadas,neuronios,learning_rate,batch_size,dropout): \n",
    "        self.acuracia = acuracia \n",
    "        self.camadas = camadas\n",
    "        self.neuronios = neuronios \n",
    "        self.learning_rate = learning_rate\n",
    "        self.batch_size = batch_size\n",
    "        self.dropout = dropout"
   ]
  },
  {
   "cell_type": "code",
   "execution_count": 27,
   "metadata": {},
   "outputs": [],
   "source": [
    "class ANN_accuracy: \n",
    "    def __init__(self, acuracia, _neuralNetwork): \n",
    "        self.acuracia = acuracia \n",
    "        self.ann = _neuralNetwork"
   ]
  },
  {
   "cell_type": "code",
   "execution_count": 28,
   "metadata": {},
   "outputs": [],
   "source": [
    "#patience = early stopping\n",
    "def setBestNeuralNetwork(hidden_layers,neurons, num_learning_rate, droput, input_dim, output_dim):\n",
    "    nn = MLPNeuralNetwork(cost_func = rna.binary_cross_entropy, learning_rate = num_learning_rate, momentum=0.1, patience=50) \n",
    "\n",
    "    #camada de entrada\n",
    "    nn.layers.append(Layer(input_dim=input_dim, output_dim=neurons,activation= rna.relu, weights_initializer=rna.glorot_normal))\n",
    "\n",
    "    for num_hidden_layers in range(1,hidden_layers+1,1):\n",
    "        #nn.layers.append(Layer(input_dim=neurons, output_dim=neurons,activation=rna.relu,reg_func=rna.l2_regularization,reg_strength=1e-2))\n",
    "        nn.layers.append(Layer(input_dim=neurons, output_dim=neurons,activation=rna.relu,dropout_prob = droput,weights_initializer=rna.glorot_normal,biases_initializer=rna.glorot_normal))\n",
    "\n",
    "#regularizacao por dropout e com inicialização de pesos e bias\n",
    "#nn.layers.append(Layer(input_dim=neurons, output_dim=neurons,dropout_prob = droput,activation=rna.relu,weights_initializer=rna.glorot_normal,biases_initializer=rna.glorot_normal))\n",
    "\n",
    "#regularizacao por L2 e sem inicialização de pesos e bias\n",
    "#nn.layers.append(Layer(input_dim=neurons, output_dim=neurons,reg_func=l2_regularization,reg_strength=1e-2,activation=rna.relu))\n",
    "#nn.layers.append(Layer(input_dim=neurons, output_dim=neurons,dropout_prob = droput,activation=rna.relu,weights_initializer=rna.glorot_normal,biases_initializer=rna.glorot_normal))        \n",
    "    #camada de saída\n",
    "    nn.layers.append(Layer(input_dim=neurons, output_dim=output_dim,activation=rna.sigmoid,weights_initializer=rna.glorot_normal))  \n",
    "\n",
    "    return nn"
   ]
  },
  {
   "cell_type": "code",
   "execution_count": 29,
   "metadata": {},
   "outputs": [],
   "source": [
    "#def setBestNeuralNetwork2(num_learning_rate,input_dim, output_dim):\n",
    "#    nn = MLPNeuralNetwork(cost_func = rna.binary_cross_entropy, learning_rate = num_learning_rate, patience=10) \n",
    "\n",
    "    #camada de entrada \n",
    "#    nn.layers.append(Layer(input_dim=input_dim, output_dim=20,activation= rna.relu,weights_initializer=rna.glorot_normal,biases_initializer=rna.glorot_normal))\n",
    "\n",
    "#    nn.layers.append(Layer(input_dim=20, output_dim=10,activation=rna.relu,weights_initializer=rna.glorot_normal,biases_initializer=rna.glorot_normal))\n",
    "    #nn.layers.append(Layer(input_dim=10, output_dim=10,activation=rna.relu,weights_initializer=rna.glorot_normal,biases_initializer=rna.glorot_normal))\n",
    " \n",
    "    #camadad de saída\n",
    "#    nn.layers.append(Layer(input_dim=10, output_dim=output_dim,activation=rna.sigmoid))  \n",
    "\n",
    "#    return nn"
   ]
  },
  {
   "cell_type": "code",
   "execution_count": 30,
   "metadata": {},
   "outputs": [],
   "source": [
    "#def setBestNeuralNetwork3(num_learning_rate,input_dim, output_dim):\n",
    "#    nn = MLPNeuralNetwork(cost_func = rna.binary_cross_entropy, learning_rate = num_learning_rate,momentum=0.25, patience=10) \n",
    "\n",
    "    #camada de entrada - considerar tanh na segunda camada e com dropout 0.2821478566400208\n",
    "#    nn.layers.append(Layer(input_dim=input_dim, output_dim=7,activation= rna.relu, weights_initializer=rna.glorot_normal))\n",
    "\n",
    "#    nn.layers.append(Layer(input_dim=7, output_dim=20 ,activation=rna.relu,weights_initializer=rna.glorot_normal,biases_initializer=rna.glorot_normal))\n",
    "    #nn.layers.append(Layer(input_dim=7, output_dim=14,activation=rna.relu,weights_initializer=rna.glorot_normal,biases_initializer=rna.glorot_normal))\n",
    "#    nn.layers.append(Layer(input_dim=20, output_dim=7,activation=rna.relu,weights_initializer=rna.glorot_normal,biases_initializer=rna.glorot_normal))\n",
    " \n",
    "    #camada de saída\n",
    "#    nn.layers.append(Layer(input_dim=7, output_dim=output_dim,activation=rna.sigmoid, weights_initializer=rna.glorot_normal))  \n",
    "\n",
    "#    return nn"
   ]
  },
  {
   "cell_type": "code",
   "execution_count": 31,
   "metadata": {},
   "outputs": [],
   "source": [
    "# (batch_size) implementa o mini-batch que acelera o tempo de treinamento, requer método de inicialização do mini-batch. \n",
    "#ideal que o batch_size seja multiplo do tamanho do conjunto de dados de treinamento, que aqui é de 128 \n",
    "\n",
    "neurons = [7,8,12] \n",
    "# preciso encontrar uma forma de implementar a alteração do numero de neuronios na camada oculta variando \n",
    "# de n-2 até n+6\n",
    "hidden_layers = [1,2,3]\n",
    "learning_rate = [0.001,0.005,0.01]\n",
    "batch_size = [0,4,8] \n",
    "dropout_rate = [0,0.1]\n",
    "best_of_best_ANN = []\n",
    "best_of_best_hyper = []"
   ]
  },
  {
   "cell_type": "code",
   "execution_count": 32,
   "metadata": {},
   "outputs": [],
   "source": [
    "def setTestNeuralNetwork(hidden_layers,neurons, num_learning_rate, droput, input_dim, output_dim):\n",
    "    #nn = MLPNeuralNetwork(cost_func = rna.binary_cross_entropy, learning_rate = num_learning_rate, momentum=0.25, patience=50) \n",
    "\n",
    "    #camada de entrada\n",
    "    print('\\033[1m Camada de Entrada: {} neurônios inputs  {} neurônios saída {} learning rate \\033[0m'.format(input_dim, neurons,num_learning_rate))\n",
    "    #nn.layers.append(Layer(input_dim=input_dim, output_dim=neurons,activation= rna.relu, weights_initializer=rna.glorot_normal))\n",
    "\n",
    "    for num_hidden_layers in range(1,hidden_layers+1,1):\n",
    "        print(' _camada oculta {} neurônios {} camadas '.format(neurons,hidden_layers))\n",
    "        #nn.layers.append(Layer(input_dim=neurons, output_dim=neurons,activation=rna.relu,reg_func=rna.l2_regularization,reg_strength=1e-2))\n",
    "        #nn.layers.append(Layer(input_dim=neurons, output_dim=neurons,activation=rna.relu,dropout_prob = droput,weights_initializer=rna.glorot_normal))\n",
    "    \n",
    "    #nn.layers.append(Layer(input_dim=neurons, output_dim=output_dim,activation=rna.sigmoid,weights_initializer=rna.glorot_normal))  \n",
    "    print('\\033[1m {} neurônios da ultima camada oculta, {} neurônios na de saída \\033[0m'.format(neurons,output_dim))"
   ]
  },
  {
   "cell_type": "code",
   "execution_count": 33,
   "metadata": {},
   "outputs": [
    {
     "name": "stdout",
     "output_type": "stream",
     "text": [
      "\u001b[1m Camada de Entrada: 7 neurônios inputs  7 neurônios saída 0.001 learning rate \u001b[0m\n",
      " _camada oculta 7 neurônios 1 camadas \n",
      "\u001b[1m 7 neurônios da ultima camada oculta, 1 neurônios na de saída \u001b[0m\n",
      "\u001b[1m Camada de Entrada: 7 neurônios inputs  7 neurônios saída 0.001 learning rate \u001b[0m\n",
      " _camada oculta 7 neurônios 1 camadas \n",
      "\u001b[1m 7 neurônios da ultima camada oculta, 1 neurônios na de saída \u001b[0m\n",
      "\u001b[1m Camada de Entrada: 7 neurônios inputs  7 neurônios saída 0.001 learning rate \u001b[0m\n",
      " _camada oculta 7 neurônios 1 camadas \n",
      "\u001b[1m 7 neurônios da ultima camada oculta, 1 neurônios na de saída \u001b[0m\n",
      "\u001b[1m Camada de Entrada: 7 neurônios inputs  7 neurônios saída 0.001 learning rate \u001b[0m\n",
      " _camada oculta 7 neurônios 1 camadas \n",
      "\u001b[1m 7 neurônios da ultima camada oculta, 1 neurônios na de saída \u001b[0m\n",
      "\u001b[1m Camada de Entrada: 7 neurônios inputs  7 neurônios saída 0.001 learning rate \u001b[0m\n",
      " _camada oculta 7 neurônios 1 camadas \n",
      "\u001b[1m 7 neurônios da ultima camada oculta, 1 neurônios na de saída \u001b[0m\n",
      "\u001b[1m Camada de Entrada: 7 neurônios inputs  7 neurônios saída 0.001 learning rate \u001b[0m\n",
      " _camada oculta 7 neurônios 1 camadas \n",
      "\u001b[1m 7 neurônios da ultima camada oculta, 1 neurônios na de saída \u001b[0m\n",
      "\u001b[1m Camada de Entrada: 7 neurônios inputs  7 neurônios saída 0.005 learning rate \u001b[0m\n",
      " _camada oculta 7 neurônios 1 camadas \n",
      "\u001b[1m 7 neurônios da ultima camada oculta, 1 neurônios na de saída \u001b[0m\n",
      "\u001b[1m Camada de Entrada: 7 neurônios inputs  7 neurônios saída 0.005 learning rate \u001b[0m\n",
      " _camada oculta 7 neurônios 1 camadas \n",
      "\u001b[1m 7 neurônios da ultima camada oculta, 1 neurônios na de saída \u001b[0m\n",
      "\u001b[1m Camada de Entrada: 7 neurônios inputs  7 neurônios saída 0.005 learning rate \u001b[0m\n",
      " _camada oculta 7 neurônios 1 camadas \n",
      "\u001b[1m 7 neurônios da ultima camada oculta, 1 neurônios na de saída \u001b[0m\n",
      "\u001b[1m Camada de Entrada: 7 neurônios inputs  7 neurônios saída 0.005 learning rate \u001b[0m\n",
      " _camada oculta 7 neurônios 1 camadas \n",
      "\u001b[1m 7 neurônios da ultima camada oculta, 1 neurônios na de saída \u001b[0m\n",
      "\u001b[1m Camada de Entrada: 7 neurônios inputs  7 neurônios saída 0.005 learning rate \u001b[0m\n",
      " _camada oculta 7 neurônios 1 camadas \n",
      "\u001b[1m 7 neurônios da ultima camada oculta, 1 neurônios na de saída \u001b[0m\n",
      "\u001b[1m Camada de Entrada: 7 neurônios inputs  7 neurônios saída 0.005 learning rate \u001b[0m\n",
      " _camada oculta 7 neurônios 1 camadas \n",
      "\u001b[1m 7 neurônios da ultima camada oculta, 1 neurônios na de saída \u001b[0m\n",
      "\u001b[1m Camada de Entrada: 7 neurônios inputs  7 neurônios saída 0.01 learning rate \u001b[0m\n",
      " _camada oculta 7 neurônios 1 camadas \n",
      "\u001b[1m 7 neurônios da ultima camada oculta, 1 neurônios na de saída \u001b[0m\n",
      "\u001b[1m Camada de Entrada: 7 neurônios inputs  7 neurônios saída 0.01 learning rate \u001b[0m\n",
      " _camada oculta 7 neurônios 1 camadas \n",
      "\u001b[1m 7 neurônios da ultima camada oculta, 1 neurônios na de saída \u001b[0m\n",
      "\u001b[1m Camada de Entrada: 7 neurônios inputs  7 neurônios saída 0.01 learning rate \u001b[0m\n",
      " _camada oculta 7 neurônios 1 camadas \n",
      "\u001b[1m 7 neurônios da ultima camada oculta, 1 neurônios na de saída \u001b[0m\n",
      "\u001b[1m Camada de Entrada: 7 neurônios inputs  7 neurônios saída 0.01 learning rate \u001b[0m\n",
      " _camada oculta 7 neurônios 1 camadas \n",
      "\u001b[1m 7 neurônios da ultima camada oculta, 1 neurônios na de saída \u001b[0m\n",
      "\u001b[1m Camada de Entrada: 7 neurônios inputs  7 neurônios saída 0.01 learning rate \u001b[0m\n",
      " _camada oculta 7 neurônios 1 camadas \n",
      "\u001b[1m 7 neurônios da ultima camada oculta, 1 neurônios na de saída \u001b[0m\n",
      "\u001b[1m Camada de Entrada: 7 neurônios inputs  7 neurônios saída 0.01 learning rate \u001b[0m\n",
      " _camada oculta 7 neurônios 1 camadas \n",
      "\u001b[1m 7 neurônios da ultima camada oculta, 1 neurônios na de saída \u001b[0m\n",
      "\u001b[1m Camada de Entrada: 7 neurônios inputs  8 neurônios saída 0.001 learning rate \u001b[0m\n",
      " _camada oculta 8 neurônios 1 camadas \n",
      "\u001b[1m 8 neurônios da ultima camada oculta, 1 neurônios na de saída \u001b[0m\n",
      "\u001b[1m Camada de Entrada: 7 neurônios inputs  8 neurônios saída 0.001 learning rate \u001b[0m\n",
      " _camada oculta 8 neurônios 1 camadas \n",
      "\u001b[1m 8 neurônios da ultima camada oculta, 1 neurônios na de saída \u001b[0m\n",
      "\u001b[1m Camada de Entrada: 7 neurônios inputs  8 neurônios saída 0.001 learning rate \u001b[0m\n",
      " _camada oculta 8 neurônios 1 camadas \n",
      "\u001b[1m 8 neurônios da ultima camada oculta, 1 neurônios na de saída \u001b[0m\n",
      "\u001b[1m Camada de Entrada: 7 neurônios inputs  8 neurônios saída 0.001 learning rate \u001b[0m\n",
      " _camada oculta 8 neurônios 1 camadas \n",
      "\u001b[1m 8 neurônios da ultima camada oculta, 1 neurônios na de saída \u001b[0m\n",
      "\u001b[1m Camada de Entrada: 7 neurônios inputs  8 neurônios saída 0.001 learning rate \u001b[0m\n",
      " _camada oculta 8 neurônios 1 camadas \n",
      "\u001b[1m 8 neurônios da ultima camada oculta, 1 neurônios na de saída \u001b[0m\n",
      "\u001b[1m Camada de Entrada: 7 neurônios inputs  8 neurônios saída 0.001 learning rate \u001b[0m\n",
      " _camada oculta 8 neurônios 1 camadas \n",
      "\u001b[1m 8 neurônios da ultima camada oculta, 1 neurônios na de saída \u001b[0m\n",
      "\u001b[1m Camada de Entrada: 7 neurônios inputs  8 neurônios saída 0.005 learning rate \u001b[0m\n",
      " _camada oculta 8 neurônios 1 camadas \n",
      "\u001b[1m 8 neurônios da ultima camada oculta, 1 neurônios na de saída \u001b[0m\n",
      "\u001b[1m Camada de Entrada: 7 neurônios inputs  8 neurônios saída 0.005 learning rate \u001b[0m\n",
      " _camada oculta 8 neurônios 1 camadas \n",
      "\u001b[1m 8 neurônios da ultima camada oculta, 1 neurônios na de saída \u001b[0m\n",
      "\u001b[1m Camada de Entrada: 7 neurônios inputs  8 neurônios saída 0.005 learning rate \u001b[0m\n",
      " _camada oculta 8 neurônios 1 camadas \n",
      "\u001b[1m 8 neurônios da ultima camada oculta, 1 neurônios na de saída \u001b[0m\n",
      "\u001b[1m Camada de Entrada: 7 neurônios inputs  8 neurônios saída 0.005 learning rate \u001b[0m\n",
      " _camada oculta 8 neurônios 1 camadas \n",
      "\u001b[1m 8 neurônios da ultima camada oculta, 1 neurônios na de saída \u001b[0m\n",
      "\u001b[1m Camada de Entrada: 7 neurônios inputs  8 neurônios saída 0.005 learning rate \u001b[0m\n",
      " _camada oculta 8 neurônios 1 camadas \n",
      "\u001b[1m 8 neurônios da ultima camada oculta, 1 neurônios na de saída \u001b[0m\n",
      "\u001b[1m Camada de Entrada: 7 neurônios inputs  8 neurônios saída 0.005 learning rate \u001b[0m\n",
      " _camada oculta 8 neurônios 1 camadas \n",
      "\u001b[1m 8 neurônios da ultima camada oculta, 1 neurônios na de saída \u001b[0m\n",
      "\u001b[1m Camada de Entrada: 7 neurônios inputs  8 neurônios saída 0.01 learning rate \u001b[0m\n",
      " _camada oculta 8 neurônios 1 camadas \n",
      "\u001b[1m 8 neurônios da ultima camada oculta, 1 neurônios na de saída \u001b[0m\n",
      "\u001b[1m Camada de Entrada: 7 neurônios inputs  8 neurônios saída 0.01 learning rate \u001b[0m\n",
      " _camada oculta 8 neurônios 1 camadas \n",
      "\u001b[1m 8 neurônios da ultima camada oculta, 1 neurônios na de saída \u001b[0m\n",
      "\u001b[1m Camada de Entrada: 7 neurônios inputs  8 neurônios saída 0.01 learning rate \u001b[0m\n",
      " _camada oculta 8 neurônios 1 camadas \n",
      "\u001b[1m 8 neurônios da ultima camada oculta, 1 neurônios na de saída \u001b[0m\n",
      "\u001b[1m Camada de Entrada: 7 neurônios inputs  8 neurônios saída 0.01 learning rate \u001b[0m\n",
      " _camada oculta 8 neurônios 1 camadas \n",
      "\u001b[1m 8 neurônios da ultima camada oculta, 1 neurônios na de saída \u001b[0m\n",
      "\u001b[1m Camada de Entrada: 7 neurônios inputs  8 neurônios saída 0.01 learning rate \u001b[0m\n",
      " _camada oculta 8 neurônios 1 camadas \n",
      "\u001b[1m 8 neurônios da ultima camada oculta, 1 neurônios na de saída \u001b[0m\n",
      "\u001b[1m Camada de Entrada: 7 neurônios inputs  8 neurônios saída 0.01 learning rate \u001b[0m\n",
      " _camada oculta 8 neurônios 1 camadas \n",
      "\u001b[1m 8 neurônios da ultima camada oculta, 1 neurônios na de saída \u001b[0m\n",
      "\u001b[1m Camada de Entrada: 7 neurônios inputs  12 neurônios saída 0.001 learning rate \u001b[0m\n",
      " _camada oculta 12 neurônios 1 camadas \n",
      "\u001b[1m 12 neurônios da ultima camada oculta, 1 neurônios na de saída \u001b[0m\n",
      "\u001b[1m Camada de Entrada: 7 neurônios inputs  12 neurônios saída 0.001 learning rate \u001b[0m\n",
      " _camada oculta 12 neurônios 1 camadas \n",
      "\u001b[1m 12 neurônios da ultima camada oculta, 1 neurônios na de saída \u001b[0m\n",
      "\u001b[1m Camada de Entrada: 7 neurônios inputs  12 neurônios saída 0.001 learning rate \u001b[0m\n",
      " _camada oculta 12 neurônios 1 camadas \n",
      "\u001b[1m 12 neurônios da ultima camada oculta, 1 neurônios na de saída \u001b[0m\n",
      "\u001b[1m Camada de Entrada: 7 neurônios inputs  12 neurônios saída 0.001 learning rate \u001b[0m\n",
      " _camada oculta 12 neurônios 1 camadas \n",
      "\u001b[1m 12 neurônios da ultima camada oculta, 1 neurônios na de saída \u001b[0m\n",
      "\u001b[1m Camada de Entrada: 7 neurônios inputs  12 neurônios saída 0.001 learning rate \u001b[0m\n",
      " _camada oculta 12 neurônios 1 camadas \n",
      "\u001b[1m 12 neurônios da ultima camada oculta, 1 neurônios na de saída \u001b[0m\n",
      "\u001b[1m Camada de Entrada: 7 neurônios inputs  12 neurônios saída 0.001 learning rate \u001b[0m\n",
      " _camada oculta 12 neurônios 1 camadas \n",
      "\u001b[1m 12 neurônios da ultima camada oculta, 1 neurônios na de saída \u001b[0m\n",
      "\u001b[1m Camada de Entrada: 7 neurônios inputs  12 neurônios saída 0.005 learning rate \u001b[0m\n",
      " _camada oculta 12 neurônios 1 camadas \n",
      "\u001b[1m 12 neurônios da ultima camada oculta, 1 neurônios na de saída \u001b[0m\n",
      "\u001b[1m Camada de Entrada: 7 neurônios inputs  12 neurônios saída 0.005 learning rate \u001b[0m\n",
      " _camada oculta 12 neurônios 1 camadas \n",
      "\u001b[1m 12 neurônios da ultima camada oculta, 1 neurônios na de saída \u001b[0m\n",
      "\u001b[1m Camada de Entrada: 7 neurônios inputs  12 neurônios saída 0.005 learning rate \u001b[0m\n",
      " _camada oculta 12 neurônios 1 camadas \n",
      "\u001b[1m 12 neurônios da ultima camada oculta, 1 neurônios na de saída \u001b[0m\n",
      "\u001b[1m Camada de Entrada: 7 neurônios inputs  12 neurônios saída 0.005 learning rate \u001b[0m\n",
      " _camada oculta 12 neurônios 1 camadas \n",
      "\u001b[1m 12 neurônios da ultima camada oculta, 1 neurônios na de saída \u001b[0m\n",
      "\u001b[1m Camada de Entrada: 7 neurônios inputs  12 neurônios saída 0.005 learning rate \u001b[0m\n",
      " _camada oculta 12 neurônios 1 camadas \n",
      "\u001b[1m 12 neurônios da ultima camada oculta, 1 neurônios na de saída \u001b[0m\n",
      "\u001b[1m Camada de Entrada: 7 neurônios inputs  12 neurônios saída 0.005 learning rate \u001b[0m\n",
      " _camada oculta 12 neurônios 1 camadas \n",
      "\u001b[1m 12 neurônios da ultima camada oculta, 1 neurônios na de saída \u001b[0m\n",
      "\u001b[1m Camada de Entrada: 7 neurônios inputs  12 neurônios saída 0.01 learning rate \u001b[0m\n",
      " _camada oculta 12 neurônios 1 camadas \n",
      "\u001b[1m 12 neurônios da ultima camada oculta, 1 neurônios na de saída \u001b[0m\n",
      "\u001b[1m Camada de Entrada: 7 neurônios inputs  12 neurônios saída 0.01 learning rate \u001b[0m\n",
      " _camada oculta 12 neurônios 1 camadas \n",
      "\u001b[1m 12 neurônios da ultima camada oculta, 1 neurônios na de saída \u001b[0m\n",
      "\u001b[1m Camada de Entrada: 7 neurônios inputs  12 neurônios saída 0.01 learning rate \u001b[0m\n",
      " _camada oculta 12 neurônios 1 camadas \n",
      "\u001b[1m 12 neurônios da ultima camada oculta, 1 neurônios na de saída \u001b[0m\n",
      "\u001b[1m Camada de Entrada: 7 neurônios inputs  12 neurônios saída 0.01 learning rate \u001b[0m\n",
      " _camada oculta 12 neurônios 1 camadas \n",
      "\u001b[1m 12 neurônios da ultima camada oculta, 1 neurônios na de saída \u001b[0m\n",
      "\u001b[1m Camada de Entrada: 7 neurônios inputs  12 neurônios saída 0.01 learning rate \u001b[0m\n",
      " _camada oculta 12 neurônios 1 camadas \n",
      "\u001b[1m 12 neurônios da ultima camada oculta, 1 neurônios na de saída \u001b[0m\n",
      "\u001b[1m Camada de Entrada: 7 neurônios inputs  12 neurônios saída 0.01 learning rate \u001b[0m\n",
      " _camada oculta 12 neurônios 1 camadas \n",
      "\u001b[1m 12 neurônios da ultima camada oculta, 1 neurônios na de saída \u001b[0m\n",
      "\u001b[1m Camada de Entrada: 7 neurônios inputs  7 neurônios saída 0.001 learning rate \u001b[0m\n",
      " _camada oculta 7 neurônios 2 camadas \n",
      " _camada oculta 7 neurônios 2 camadas \n",
      "\u001b[1m 7 neurônios da ultima camada oculta, 1 neurônios na de saída \u001b[0m\n",
      "\u001b[1m Camada de Entrada: 7 neurônios inputs  7 neurônios saída 0.001 learning rate \u001b[0m\n",
      " _camada oculta 7 neurônios 2 camadas \n",
      " _camada oculta 7 neurônios 2 camadas \n",
      "\u001b[1m 7 neurônios da ultima camada oculta, 1 neurônios na de saída \u001b[0m\n",
      "\u001b[1m Camada de Entrada: 7 neurônios inputs  7 neurônios saída 0.001 learning rate \u001b[0m\n",
      " _camada oculta 7 neurônios 2 camadas \n",
      " _camada oculta 7 neurônios 2 camadas \n",
      "\u001b[1m 7 neurônios da ultima camada oculta, 1 neurônios na de saída \u001b[0m\n",
      "\u001b[1m Camada de Entrada: 7 neurônios inputs  7 neurônios saída 0.001 learning rate \u001b[0m\n",
      " _camada oculta 7 neurônios 2 camadas \n",
      " _camada oculta 7 neurônios 2 camadas \n",
      "\u001b[1m 7 neurônios da ultima camada oculta, 1 neurônios na de saída \u001b[0m\n",
      "\u001b[1m Camada de Entrada: 7 neurônios inputs  7 neurônios saída 0.001 learning rate \u001b[0m\n",
      " _camada oculta 7 neurônios 2 camadas \n",
      " _camada oculta 7 neurônios 2 camadas \n",
      "\u001b[1m 7 neurônios da ultima camada oculta, 1 neurônios na de saída \u001b[0m\n",
      "\u001b[1m Camada de Entrada: 7 neurônios inputs  7 neurônios saída 0.001 learning rate \u001b[0m\n",
      " _camada oculta 7 neurônios 2 camadas \n",
      " _camada oculta 7 neurônios 2 camadas \n",
      "\u001b[1m 7 neurônios da ultima camada oculta, 1 neurônios na de saída \u001b[0m\n",
      "\u001b[1m Camada de Entrada: 7 neurônios inputs  7 neurônios saída 0.005 learning rate \u001b[0m\n",
      " _camada oculta 7 neurônios 2 camadas \n",
      " _camada oculta 7 neurônios 2 camadas \n",
      "\u001b[1m 7 neurônios da ultima camada oculta, 1 neurônios na de saída \u001b[0m\n",
      "\u001b[1m Camada de Entrada: 7 neurônios inputs  7 neurônios saída 0.005 learning rate \u001b[0m\n",
      " _camada oculta 7 neurônios 2 camadas \n",
      " _camada oculta 7 neurônios 2 camadas \n",
      "\u001b[1m 7 neurônios da ultima camada oculta, 1 neurônios na de saída \u001b[0m\n",
      "\u001b[1m Camada de Entrada: 7 neurônios inputs  7 neurônios saída 0.005 learning rate \u001b[0m\n",
      " _camada oculta 7 neurônios 2 camadas \n",
      " _camada oculta 7 neurônios 2 camadas \n",
      "\u001b[1m 7 neurônios da ultima camada oculta, 1 neurônios na de saída \u001b[0m\n",
      "\u001b[1m Camada de Entrada: 7 neurônios inputs  7 neurônios saída 0.005 learning rate \u001b[0m\n",
      " _camada oculta 7 neurônios 2 camadas \n",
      " _camada oculta 7 neurônios 2 camadas \n",
      "\u001b[1m 7 neurônios da ultima camada oculta, 1 neurônios na de saída \u001b[0m\n",
      "\u001b[1m Camada de Entrada: 7 neurônios inputs  7 neurônios saída 0.005 learning rate \u001b[0m\n",
      " _camada oculta 7 neurônios 2 camadas \n",
      " _camada oculta 7 neurônios 2 camadas \n",
      "\u001b[1m 7 neurônios da ultima camada oculta, 1 neurônios na de saída \u001b[0m\n",
      "\u001b[1m Camada de Entrada: 7 neurônios inputs  7 neurônios saída 0.005 learning rate \u001b[0m\n",
      " _camada oculta 7 neurônios 2 camadas \n",
      " _camada oculta 7 neurônios 2 camadas \n",
      "\u001b[1m 7 neurônios da ultima camada oculta, 1 neurônios na de saída \u001b[0m\n",
      "\u001b[1m Camada de Entrada: 7 neurônios inputs  7 neurônios saída 0.01 learning rate \u001b[0m\n",
      " _camada oculta 7 neurônios 2 camadas \n",
      " _camada oculta 7 neurônios 2 camadas \n",
      "\u001b[1m 7 neurônios da ultima camada oculta, 1 neurônios na de saída \u001b[0m\n",
      "\u001b[1m Camada de Entrada: 7 neurônios inputs  7 neurônios saída 0.01 learning rate \u001b[0m\n",
      " _camada oculta 7 neurônios 2 camadas \n",
      " _camada oculta 7 neurônios 2 camadas \n",
      "\u001b[1m 7 neurônios da ultima camada oculta, 1 neurônios na de saída \u001b[0m\n",
      "\u001b[1m Camada de Entrada: 7 neurônios inputs  7 neurônios saída 0.01 learning rate \u001b[0m\n",
      " _camada oculta 7 neurônios 2 camadas \n",
      " _camada oculta 7 neurônios 2 camadas \n",
      "\u001b[1m 7 neurônios da ultima camada oculta, 1 neurônios na de saída \u001b[0m\n",
      "\u001b[1m Camada de Entrada: 7 neurônios inputs  7 neurônios saída 0.01 learning rate \u001b[0m\n",
      " _camada oculta 7 neurônios 2 camadas \n",
      " _camada oculta 7 neurônios 2 camadas \n",
      "\u001b[1m 7 neurônios da ultima camada oculta, 1 neurônios na de saída \u001b[0m\n",
      "\u001b[1m Camada de Entrada: 7 neurônios inputs  7 neurônios saída 0.01 learning rate \u001b[0m\n",
      " _camada oculta 7 neurônios 2 camadas \n",
      " _camada oculta 7 neurônios 2 camadas \n",
      "\u001b[1m 7 neurônios da ultima camada oculta, 1 neurônios na de saída \u001b[0m\n",
      "\u001b[1m Camada de Entrada: 7 neurônios inputs  7 neurônios saída 0.01 learning rate \u001b[0m\n",
      " _camada oculta 7 neurônios 2 camadas \n",
      " _camada oculta 7 neurônios 2 camadas \n",
      "\u001b[1m 7 neurônios da ultima camada oculta, 1 neurônios na de saída \u001b[0m\n",
      "\u001b[1m Camada de Entrada: 7 neurônios inputs  8 neurônios saída 0.001 learning rate \u001b[0m\n",
      " _camada oculta 8 neurônios 2 camadas \n",
      " _camada oculta 8 neurônios 2 camadas \n",
      "\u001b[1m 8 neurônios da ultima camada oculta, 1 neurônios na de saída \u001b[0m\n",
      "\u001b[1m Camada de Entrada: 7 neurônios inputs  8 neurônios saída 0.001 learning rate \u001b[0m\n",
      " _camada oculta 8 neurônios 2 camadas \n",
      " _camada oculta 8 neurônios 2 camadas \n",
      "\u001b[1m 8 neurônios da ultima camada oculta, 1 neurônios na de saída \u001b[0m\n",
      "\u001b[1m Camada de Entrada: 7 neurônios inputs  8 neurônios saída 0.001 learning rate \u001b[0m\n",
      " _camada oculta 8 neurônios 2 camadas \n",
      " _camada oculta 8 neurônios 2 camadas \n",
      "\u001b[1m 8 neurônios da ultima camada oculta, 1 neurônios na de saída \u001b[0m\n",
      "\u001b[1m Camada de Entrada: 7 neurônios inputs  8 neurônios saída 0.001 learning rate \u001b[0m\n",
      " _camada oculta 8 neurônios 2 camadas \n",
      " _camada oculta 8 neurônios 2 camadas \n",
      "\u001b[1m 8 neurônios da ultima camada oculta, 1 neurônios na de saída \u001b[0m\n",
      "\u001b[1m Camada de Entrada: 7 neurônios inputs  8 neurônios saída 0.001 learning rate \u001b[0m\n",
      " _camada oculta 8 neurônios 2 camadas \n",
      " _camada oculta 8 neurônios 2 camadas \n",
      "\u001b[1m 8 neurônios da ultima camada oculta, 1 neurônios na de saída \u001b[0m\n",
      "\u001b[1m Camada de Entrada: 7 neurônios inputs  8 neurônios saída 0.001 learning rate \u001b[0m\n",
      " _camada oculta 8 neurônios 2 camadas \n",
      " _camada oculta 8 neurônios 2 camadas \n",
      "\u001b[1m 8 neurônios da ultima camada oculta, 1 neurônios na de saída \u001b[0m\n",
      "\u001b[1m Camada de Entrada: 7 neurônios inputs  8 neurônios saída 0.005 learning rate \u001b[0m\n",
      " _camada oculta 8 neurônios 2 camadas \n",
      " _camada oculta 8 neurônios 2 camadas \n",
      "\u001b[1m 8 neurônios da ultima camada oculta, 1 neurônios na de saída \u001b[0m\n",
      "\u001b[1m Camada de Entrada: 7 neurônios inputs  8 neurônios saída 0.005 learning rate \u001b[0m\n",
      " _camada oculta 8 neurônios 2 camadas \n",
      " _camada oculta 8 neurônios 2 camadas \n",
      "\u001b[1m 8 neurônios da ultima camada oculta, 1 neurônios na de saída \u001b[0m\n",
      "\u001b[1m Camada de Entrada: 7 neurônios inputs  8 neurônios saída 0.005 learning rate \u001b[0m\n",
      " _camada oculta 8 neurônios 2 camadas \n",
      " _camada oculta 8 neurônios 2 camadas \n",
      "\u001b[1m 8 neurônios da ultima camada oculta, 1 neurônios na de saída \u001b[0m\n",
      "\u001b[1m Camada de Entrada: 7 neurônios inputs  8 neurônios saída 0.005 learning rate \u001b[0m\n",
      " _camada oculta 8 neurônios 2 camadas \n",
      " _camada oculta 8 neurônios 2 camadas \n",
      "\u001b[1m 8 neurônios da ultima camada oculta, 1 neurônios na de saída \u001b[0m\n",
      "\u001b[1m Camada de Entrada: 7 neurônios inputs  8 neurônios saída 0.005 learning rate \u001b[0m\n",
      " _camada oculta 8 neurônios 2 camadas \n",
      " _camada oculta 8 neurônios 2 camadas \n",
      "\u001b[1m 8 neurônios da ultima camada oculta, 1 neurônios na de saída \u001b[0m\n",
      "\u001b[1m Camada de Entrada: 7 neurônios inputs  8 neurônios saída 0.005 learning rate \u001b[0m\n",
      " _camada oculta 8 neurônios 2 camadas \n",
      " _camada oculta 8 neurônios 2 camadas \n",
      "\u001b[1m 8 neurônios da ultima camada oculta, 1 neurônios na de saída \u001b[0m\n",
      "\u001b[1m Camada de Entrada: 7 neurônios inputs  8 neurônios saída 0.01 learning rate \u001b[0m\n",
      " _camada oculta 8 neurônios 2 camadas \n",
      " _camada oculta 8 neurônios 2 camadas \n",
      "\u001b[1m 8 neurônios da ultima camada oculta, 1 neurônios na de saída \u001b[0m\n",
      "\u001b[1m Camada de Entrada: 7 neurônios inputs  8 neurônios saída 0.01 learning rate \u001b[0m\n",
      " _camada oculta 8 neurônios 2 camadas \n",
      " _camada oculta 8 neurônios 2 camadas \n",
      "\u001b[1m 8 neurônios da ultima camada oculta, 1 neurônios na de saída \u001b[0m\n",
      "\u001b[1m Camada de Entrada: 7 neurônios inputs  8 neurônios saída 0.01 learning rate \u001b[0m\n",
      " _camada oculta 8 neurônios 2 camadas \n",
      " _camada oculta 8 neurônios 2 camadas \n",
      "\u001b[1m 8 neurônios da ultima camada oculta, 1 neurônios na de saída \u001b[0m\n",
      "\u001b[1m Camada de Entrada: 7 neurônios inputs  8 neurônios saída 0.01 learning rate \u001b[0m\n",
      " _camada oculta 8 neurônios 2 camadas \n",
      " _camada oculta 8 neurônios 2 camadas \n",
      "\u001b[1m 8 neurônios da ultima camada oculta, 1 neurônios na de saída \u001b[0m\n",
      "\u001b[1m Camada de Entrada: 7 neurônios inputs  8 neurônios saída 0.01 learning rate \u001b[0m\n",
      " _camada oculta 8 neurônios 2 camadas \n",
      " _camada oculta 8 neurônios 2 camadas \n",
      "\u001b[1m 8 neurônios da ultima camada oculta, 1 neurônios na de saída \u001b[0m\n",
      "\u001b[1m Camada de Entrada: 7 neurônios inputs  8 neurônios saída 0.01 learning rate \u001b[0m\n",
      " _camada oculta 8 neurônios 2 camadas \n",
      " _camada oculta 8 neurônios 2 camadas \n",
      "\u001b[1m 8 neurônios da ultima camada oculta, 1 neurônios na de saída \u001b[0m\n",
      "\u001b[1m Camada de Entrada: 7 neurônios inputs  12 neurônios saída 0.001 learning rate \u001b[0m\n",
      " _camada oculta 12 neurônios 2 camadas \n",
      " _camada oculta 12 neurônios 2 camadas \n",
      "\u001b[1m 12 neurônios da ultima camada oculta, 1 neurônios na de saída \u001b[0m\n",
      "\u001b[1m Camada de Entrada: 7 neurônios inputs  12 neurônios saída 0.001 learning rate \u001b[0m\n",
      " _camada oculta 12 neurônios 2 camadas \n",
      " _camada oculta 12 neurônios 2 camadas \n",
      "\u001b[1m 12 neurônios da ultima camada oculta, 1 neurônios na de saída \u001b[0m\n",
      "\u001b[1m Camada de Entrada: 7 neurônios inputs  12 neurônios saída 0.001 learning rate \u001b[0m\n",
      " _camada oculta 12 neurônios 2 camadas \n",
      " _camada oculta 12 neurônios 2 camadas \n",
      "\u001b[1m 12 neurônios da ultima camada oculta, 1 neurônios na de saída \u001b[0m\n",
      "\u001b[1m Camada de Entrada: 7 neurônios inputs  12 neurônios saída 0.001 learning rate \u001b[0m\n",
      " _camada oculta 12 neurônios 2 camadas \n",
      " _camada oculta 12 neurônios 2 camadas \n",
      "\u001b[1m 12 neurônios da ultima camada oculta, 1 neurônios na de saída \u001b[0m\n",
      "\u001b[1m Camada de Entrada: 7 neurônios inputs  12 neurônios saída 0.001 learning rate \u001b[0m\n",
      " _camada oculta 12 neurônios 2 camadas \n",
      " _camada oculta 12 neurônios 2 camadas \n",
      "\u001b[1m 12 neurônios da ultima camada oculta, 1 neurônios na de saída \u001b[0m\n",
      "\u001b[1m Camada de Entrada: 7 neurônios inputs  12 neurônios saída 0.001 learning rate \u001b[0m\n",
      " _camada oculta 12 neurônios 2 camadas \n",
      " _camada oculta 12 neurônios 2 camadas \n",
      "\u001b[1m 12 neurônios da ultima camada oculta, 1 neurônios na de saída \u001b[0m\n",
      "\u001b[1m Camada de Entrada: 7 neurônios inputs  12 neurônios saída 0.005 learning rate \u001b[0m\n",
      " _camada oculta 12 neurônios 2 camadas \n",
      " _camada oculta 12 neurônios 2 camadas \n",
      "\u001b[1m 12 neurônios da ultima camada oculta, 1 neurônios na de saída \u001b[0m\n",
      "\u001b[1m Camada de Entrada: 7 neurônios inputs  12 neurônios saída 0.005 learning rate \u001b[0m\n",
      " _camada oculta 12 neurônios 2 camadas \n",
      " _camada oculta 12 neurônios 2 camadas \n",
      "\u001b[1m 12 neurônios da ultima camada oculta, 1 neurônios na de saída \u001b[0m\n",
      "\u001b[1m Camada de Entrada: 7 neurônios inputs  12 neurônios saída 0.005 learning rate \u001b[0m\n",
      " _camada oculta 12 neurônios 2 camadas \n",
      " _camada oculta 12 neurônios 2 camadas \n",
      "\u001b[1m 12 neurônios da ultima camada oculta, 1 neurônios na de saída \u001b[0m\n",
      "\u001b[1m Camada de Entrada: 7 neurônios inputs  12 neurônios saída 0.005 learning rate \u001b[0m\n",
      " _camada oculta 12 neurônios 2 camadas \n",
      " _camada oculta 12 neurônios 2 camadas \n",
      "\u001b[1m 12 neurônios da ultima camada oculta, 1 neurônios na de saída \u001b[0m\n",
      "\u001b[1m Camada de Entrada: 7 neurônios inputs  12 neurônios saída 0.005 learning rate \u001b[0m\n",
      " _camada oculta 12 neurônios 2 camadas \n",
      " _camada oculta 12 neurônios 2 camadas \n",
      "\u001b[1m 12 neurônios da ultima camada oculta, 1 neurônios na de saída \u001b[0m\n",
      "\u001b[1m Camada de Entrada: 7 neurônios inputs  12 neurônios saída 0.005 learning rate \u001b[0m\n",
      " _camada oculta 12 neurônios 2 camadas \n",
      " _camada oculta 12 neurônios 2 camadas \n",
      "\u001b[1m 12 neurônios da ultima camada oculta, 1 neurônios na de saída \u001b[0m\n",
      "\u001b[1m Camada de Entrada: 7 neurônios inputs  12 neurônios saída 0.01 learning rate \u001b[0m\n",
      " _camada oculta 12 neurônios 2 camadas \n",
      " _camada oculta 12 neurônios 2 camadas \n",
      "\u001b[1m 12 neurônios da ultima camada oculta, 1 neurônios na de saída \u001b[0m\n",
      "\u001b[1m Camada de Entrada: 7 neurônios inputs  12 neurônios saída 0.01 learning rate \u001b[0m\n",
      " _camada oculta 12 neurônios 2 camadas \n",
      " _camada oculta 12 neurônios 2 camadas \n",
      "\u001b[1m 12 neurônios da ultima camada oculta, 1 neurônios na de saída \u001b[0m\n",
      "\u001b[1m Camada de Entrada: 7 neurônios inputs  12 neurônios saída 0.01 learning rate \u001b[0m\n",
      " _camada oculta 12 neurônios 2 camadas \n",
      " _camada oculta 12 neurônios 2 camadas \n",
      "\u001b[1m 12 neurônios da ultima camada oculta, 1 neurônios na de saída \u001b[0m\n",
      "\u001b[1m Camada de Entrada: 7 neurônios inputs  12 neurônios saída 0.01 learning rate \u001b[0m\n",
      " _camada oculta 12 neurônios 2 camadas \n",
      " _camada oculta 12 neurônios 2 camadas \n",
      "\u001b[1m 12 neurônios da ultima camada oculta, 1 neurônios na de saída \u001b[0m\n",
      "\u001b[1m Camada de Entrada: 7 neurônios inputs  12 neurônios saída 0.01 learning rate \u001b[0m\n",
      " _camada oculta 12 neurônios 2 camadas \n",
      " _camada oculta 12 neurônios 2 camadas \n",
      "\u001b[1m 12 neurônios da ultima camada oculta, 1 neurônios na de saída \u001b[0m\n",
      "\u001b[1m Camada de Entrada: 7 neurônios inputs  12 neurônios saída 0.01 learning rate \u001b[0m\n",
      " _camada oculta 12 neurônios 2 camadas \n",
      " _camada oculta 12 neurônios 2 camadas \n",
      "\u001b[1m 12 neurônios da ultima camada oculta, 1 neurônios na de saída \u001b[0m\n",
      "\u001b[1m Camada de Entrada: 7 neurônios inputs  7 neurônios saída 0.001 learning rate \u001b[0m\n",
      " _camada oculta 7 neurônios 3 camadas \n",
      " _camada oculta 7 neurônios 3 camadas \n",
      " _camada oculta 7 neurônios 3 camadas \n",
      "\u001b[1m 7 neurônios da ultima camada oculta, 1 neurônios na de saída \u001b[0m\n",
      "\u001b[1m Camada de Entrada: 7 neurônios inputs  7 neurônios saída 0.001 learning rate \u001b[0m\n",
      " _camada oculta 7 neurônios 3 camadas \n",
      " _camada oculta 7 neurônios 3 camadas \n",
      " _camada oculta 7 neurônios 3 camadas \n",
      "\u001b[1m 7 neurônios da ultima camada oculta, 1 neurônios na de saída \u001b[0m\n",
      "\u001b[1m Camada de Entrada: 7 neurônios inputs  7 neurônios saída 0.001 learning rate \u001b[0m\n",
      " _camada oculta 7 neurônios 3 camadas \n",
      " _camada oculta 7 neurônios 3 camadas \n",
      " _camada oculta 7 neurônios 3 camadas \n",
      "\u001b[1m 7 neurônios da ultima camada oculta, 1 neurônios na de saída \u001b[0m\n",
      "\u001b[1m Camada de Entrada: 7 neurônios inputs  7 neurônios saída 0.001 learning rate \u001b[0m\n",
      " _camada oculta 7 neurônios 3 camadas \n",
      " _camada oculta 7 neurônios 3 camadas \n",
      " _camada oculta 7 neurônios 3 camadas \n",
      "\u001b[1m 7 neurônios da ultima camada oculta, 1 neurônios na de saída \u001b[0m\n",
      "\u001b[1m Camada de Entrada: 7 neurônios inputs  7 neurônios saída 0.001 learning rate \u001b[0m\n",
      " _camada oculta 7 neurônios 3 camadas \n",
      " _camada oculta 7 neurônios 3 camadas \n",
      " _camada oculta 7 neurônios 3 camadas \n",
      "\u001b[1m 7 neurônios da ultima camada oculta, 1 neurônios na de saída \u001b[0m\n",
      "\u001b[1m Camada de Entrada: 7 neurônios inputs  7 neurônios saída 0.001 learning rate \u001b[0m\n",
      " _camada oculta 7 neurônios 3 camadas \n",
      " _camada oculta 7 neurônios 3 camadas \n",
      " _camada oculta 7 neurônios 3 camadas \n",
      "\u001b[1m 7 neurônios da ultima camada oculta, 1 neurônios na de saída \u001b[0m\n",
      "\u001b[1m Camada de Entrada: 7 neurônios inputs  7 neurônios saída 0.005 learning rate \u001b[0m\n",
      " _camada oculta 7 neurônios 3 camadas \n",
      " _camada oculta 7 neurônios 3 camadas \n",
      " _camada oculta 7 neurônios 3 camadas \n",
      "\u001b[1m 7 neurônios da ultima camada oculta, 1 neurônios na de saída \u001b[0m\n",
      "\u001b[1m Camada de Entrada: 7 neurônios inputs  7 neurônios saída 0.005 learning rate \u001b[0m\n",
      " _camada oculta 7 neurônios 3 camadas \n",
      " _camada oculta 7 neurônios 3 camadas \n",
      " _camada oculta 7 neurônios 3 camadas \n",
      "\u001b[1m 7 neurônios da ultima camada oculta, 1 neurônios na de saída \u001b[0m\n",
      "\u001b[1m Camada de Entrada: 7 neurônios inputs  7 neurônios saída 0.005 learning rate \u001b[0m\n",
      " _camada oculta 7 neurônios 3 camadas \n",
      " _camada oculta 7 neurônios 3 camadas \n",
      " _camada oculta 7 neurônios 3 camadas \n",
      "\u001b[1m 7 neurônios da ultima camada oculta, 1 neurônios na de saída \u001b[0m\n",
      "\u001b[1m Camada de Entrada: 7 neurônios inputs  7 neurônios saída 0.005 learning rate \u001b[0m\n",
      " _camada oculta 7 neurônios 3 camadas \n",
      " _camada oculta 7 neurônios 3 camadas \n",
      " _camada oculta 7 neurônios 3 camadas \n",
      "\u001b[1m 7 neurônios da ultima camada oculta, 1 neurônios na de saída \u001b[0m\n",
      "\u001b[1m Camada de Entrada: 7 neurônios inputs  7 neurônios saída 0.005 learning rate \u001b[0m\n",
      " _camada oculta 7 neurônios 3 camadas \n",
      " _camada oculta 7 neurônios 3 camadas \n",
      " _camada oculta 7 neurônios 3 camadas \n",
      "\u001b[1m 7 neurônios da ultima camada oculta, 1 neurônios na de saída \u001b[0m\n",
      "\u001b[1m Camada de Entrada: 7 neurônios inputs  7 neurônios saída 0.005 learning rate \u001b[0m\n",
      " _camada oculta 7 neurônios 3 camadas \n",
      " _camada oculta 7 neurônios 3 camadas \n",
      " _camada oculta 7 neurônios 3 camadas \n",
      "\u001b[1m 7 neurônios da ultima camada oculta, 1 neurônios na de saída \u001b[0m\n",
      "\u001b[1m Camada de Entrada: 7 neurônios inputs  7 neurônios saída 0.01 learning rate \u001b[0m\n",
      " _camada oculta 7 neurônios 3 camadas \n",
      " _camada oculta 7 neurônios 3 camadas \n",
      " _camada oculta 7 neurônios 3 camadas \n",
      "\u001b[1m 7 neurônios da ultima camada oculta, 1 neurônios na de saída \u001b[0m\n",
      "\u001b[1m Camada de Entrada: 7 neurônios inputs  7 neurônios saída 0.01 learning rate \u001b[0m\n",
      " _camada oculta 7 neurônios 3 camadas \n",
      " _camada oculta 7 neurônios 3 camadas \n",
      " _camada oculta 7 neurônios 3 camadas \n",
      "\u001b[1m 7 neurônios da ultima camada oculta, 1 neurônios na de saída \u001b[0m\n",
      "\u001b[1m Camada de Entrada: 7 neurônios inputs  7 neurônios saída 0.01 learning rate \u001b[0m\n",
      " _camada oculta 7 neurônios 3 camadas \n",
      " _camada oculta 7 neurônios 3 camadas \n",
      " _camada oculta 7 neurônios 3 camadas \n",
      "\u001b[1m 7 neurônios da ultima camada oculta, 1 neurônios na de saída \u001b[0m\n",
      "\u001b[1m Camada de Entrada: 7 neurônios inputs  7 neurônios saída 0.01 learning rate \u001b[0m\n",
      " _camada oculta 7 neurônios 3 camadas \n",
      " _camada oculta 7 neurônios 3 camadas \n",
      " _camada oculta 7 neurônios 3 camadas \n",
      "\u001b[1m 7 neurônios da ultima camada oculta, 1 neurônios na de saída \u001b[0m\n",
      "\u001b[1m Camada de Entrada: 7 neurônios inputs  7 neurônios saída 0.01 learning rate \u001b[0m\n",
      " _camada oculta 7 neurônios 3 camadas \n",
      " _camada oculta 7 neurônios 3 camadas \n",
      " _camada oculta 7 neurônios 3 camadas \n",
      "\u001b[1m 7 neurônios da ultima camada oculta, 1 neurônios na de saída \u001b[0m\n",
      "\u001b[1m Camada de Entrada: 7 neurônios inputs  7 neurônios saída 0.01 learning rate \u001b[0m\n",
      " _camada oculta 7 neurônios 3 camadas \n",
      " _camada oculta 7 neurônios 3 camadas \n",
      " _camada oculta 7 neurônios 3 camadas \n",
      "\u001b[1m 7 neurônios da ultima camada oculta, 1 neurônios na de saída \u001b[0m\n",
      "\u001b[1m Camada de Entrada: 7 neurônios inputs  8 neurônios saída 0.001 learning rate \u001b[0m\n",
      " _camada oculta 8 neurônios 3 camadas \n",
      " _camada oculta 8 neurônios 3 camadas \n",
      " _camada oculta 8 neurônios 3 camadas \n",
      "\u001b[1m 8 neurônios da ultima camada oculta, 1 neurônios na de saída \u001b[0m\n",
      "\u001b[1m Camada de Entrada: 7 neurônios inputs  8 neurônios saída 0.001 learning rate \u001b[0m\n",
      " _camada oculta 8 neurônios 3 camadas \n",
      " _camada oculta 8 neurônios 3 camadas \n",
      " _camada oculta 8 neurônios 3 camadas \n",
      "\u001b[1m 8 neurônios da ultima camada oculta, 1 neurônios na de saída \u001b[0m\n",
      "\u001b[1m Camada de Entrada: 7 neurônios inputs  8 neurônios saída 0.001 learning rate \u001b[0m\n",
      " _camada oculta 8 neurônios 3 camadas \n",
      " _camada oculta 8 neurônios 3 camadas \n",
      " _camada oculta 8 neurônios 3 camadas \n",
      "\u001b[1m 8 neurônios da ultima camada oculta, 1 neurônios na de saída \u001b[0m\n",
      "\u001b[1m Camada de Entrada: 7 neurônios inputs  8 neurônios saída 0.001 learning rate \u001b[0m\n",
      " _camada oculta 8 neurônios 3 camadas \n",
      " _camada oculta 8 neurônios 3 camadas \n",
      " _camada oculta 8 neurônios 3 camadas \n",
      "\u001b[1m 8 neurônios da ultima camada oculta, 1 neurônios na de saída \u001b[0m\n",
      "\u001b[1m Camada de Entrada: 7 neurônios inputs  8 neurônios saída 0.001 learning rate \u001b[0m\n",
      " _camada oculta 8 neurônios 3 camadas \n",
      " _camada oculta 8 neurônios 3 camadas \n",
      " _camada oculta 8 neurônios 3 camadas \n",
      "\u001b[1m 8 neurônios da ultima camada oculta, 1 neurônios na de saída \u001b[0m\n",
      "\u001b[1m Camada de Entrada: 7 neurônios inputs  8 neurônios saída 0.001 learning rate \u001b[0m\n",
      " _camada oculta 8 neurônios 3 camadas \n",
      " _camada oculta 8 neurônios 3 camadas \n",
      " _camada oculta 8 neurônios 3 camadas \n",
      "\u001b[1m 8 neurônios da ultima camada oculta, 1 neurônios na de saída \u001b[0m\n",
      "\u001b[1m Camada de Entrada: 7 neurônios inputs  8 neurônios saída 0.005 learning rate \u001b[0m\n",
      " _camada oculta 8 neurônios 3 camadas \n",
      " _camada oculta 8 neurônios 3 camadas \n",
      " _camada oculta 8 neurônios 3 camadas \n",
      "\u001b[1m 8 neurônios da ultima camada oculta, 1 neurônios na de saída \u001b[0m\n",
      "\u001b[1m Camada de Entrada: 7 neurônios inputs  8 neurônios saída 0.005 learning rate \u001b[0m\n",
      " _camada oculta 8 neurônios 3 camadas \n",
      " _camada oculta 8 neurônios 3 camadas \n",
      " _camada oculta 8 neurônios 3 camadas \n",
      "\u001b[1m 8 neurônios da ultima camada oculta, 1 neurônios na de saída \u001b[0m\n",
      "\u001b[1m Camada de Entrada: 7 neurônios inputs  8 neurônios saída 0.005 learning rate \u001b[0m\n",
      " _camada oculta 8 neurônios 3 camadas \n",
      " _camada oculta 8 neurônios 3 camadas \n",
      " _camada oculta 8 neurônios 3 camadas \n",
      "\u001b[1m 8 neurônios da ultima camada oculta, 1 neurônios na de saída \u001b[0m\n",
      "\u001b[1m Camada de Entrada: 7 neurônios inputs  8 neurônios saída 0.005 learning rate \u001b[0m\n",
      " _camada oculta 8 neurônios 3 camadas \n",
      " _camada oculta 8 neurônios 3 camadas \n",
      " _camada oculta 8 neurônios 3 camadas \n",
      "\u001b[1m 8 neurônios da ultima camada oculta, 1 neurônios na de saída \u001b[0m\n",
      "\u001b[1m Camada de Entrada: 7 neurônios inputs  8 neurônios saída 0.005 learning rate \u001b[0m\n",
      " _camada oculta 8 neurônios 3 camadas \n",
      " _camada oculta 8 neurônios 3 camadas \n",
      " _camada oculta 8 neurônios 3 camadas \n",
      "\u001b[1m 8 neurônios da ultima camada oculta, 1 neurônios na de saída \u001b[0m\n",
      "\u001b[1m Camada de Entrada: 7 neurônios inputs  8 neurônios saída 0.005 learning rate \u001b[0m\n",
      " _camada oculta 8 neurônios 3 camadas \n",
      " _camada oculta 8 neurônios 3 camadas \n",
      " _camada oculta 8 neurônios 3 camadas \n",
      "\u001b[1m 8 neurônios da ultima camada oculta, 1 neurônios na de saída \u001b[0m\n",
      "\u001b[1m Camada de Entrada: 7 neurônios inputs  8 neurônios saída 0.01 learning rate \u001b[0m\n",
      " _camada oculta 8 neurônios 3 camadas \n",
      " _camada oculta 8 neurônios 3 camadas \n",
      " _camada oculta 8 neurônios 3 camadas \n",
      "\u001b[1m 8 neurônios da ultima camada oculta, 1 neurônios na de saída \u001b[0m\n",
      "\u001b[1m Camada de Entrada: 7 neurônios inputs  8 neurônios saída 0.01 learning rate \u001b[0m\n",
      " _camada oculta 8 neurônios 3 camadas \n",
      " _camada oculta 8 neurônios 3 camadas \n",
      " _camada oculta 8 neurônios 3 camadas \n",
      "\u001b[1m 8 neurônios da ultima camada oculta, 1 neurônios na de saída \u001b[0m\n",
      "\u001b[1m Camada de Entrada: 7 neurônios inputs  8 neurônios saída 0.01 learning rate \u001b[0m\n",
      " _camada oculta 8 neurônios 3 camadas \n",
      " _camada oculta 8 neurônios 3 camadas \n",
      " _camada oculta 8 neurônios 3 camadas \n",
      "\u001b[1m 8 neurônios da ultima camada oculta, 1 neurônios na de saída \u001b[0m\n",
      "\u001b[1m Camada de Entrada: 7 neurônios inputs  8 neurônios saída 0.01 learning rate \u001b[0m\n",
      " _camada oculta 8 neurônios 3 camadas \n",
      " _camada oculta 8 neurônios 3 camadas \n",
      " _camada oculta 8 neurônios 3 camadas \n",
      "\u001b[1m 8 neurônios da ultima camada oculta, 1 neurônios na de saída \u001b[0m\n",
      "\u001b[1m Camada de Entrada: 7 neurônios inputs  8 neurônios saída 0.01 learning rate \u001b[0m\n",
      " _camada oculta 8 neurônios 3 camadas \n",
      " _camada oculta 8 neurônios 3 camadas \n",
      " _camada oculta 8 neurônios 3 camadas \n",
      "\u001b[1m 8 neurônios da ultima camada oculta, 1 neurônios na de saída \u001b[0m\n",
      "\u001b[1m Camada de Entrada: 7 neurônios inputs  8 neurônios saída 0.01 learning rate \u001b[0m\n",
      " _camada oculta 8 neurônios 3 camadas \n",
      " _camada oculta 8 neurônios 3 camadas \n",
      " _camada oculta 8 neurônios 3 camadas \n",
      "\u001b[1m 8 neurônios da ultima camada oculta, 1 neurônios na de saída \u001b[0m\n",
      "\u001b[1m Camada de Entrada: 7 neurônios inputs  12 neurônios saída 0.001 learning rate \u001b[0m\n",
      " _camada oculta 12 neurônios 3 camadas \n",
      " _camada oculta 12 neurônios 3 camadas \n",
      " _camada oculta 12 neurônios 3 camadas \n",
      "\u001b[1m 12 neurônios da ultima camada oculta, 1 neurônios na de saída \u001b[0m\n",
      "\u001b[1m Camada de Entrada: 7 neurônios inputs  12 neurônios saída 0.001 learning rate \u001b[0m\n",
      " _camada oculta 12 neurônios 3 camadas \n",
      " _camada oculta 12 neurônios 3 camadas \n",
      " _camada oculta 12 neurônios 3 camadas \n",
      "\u001b[1m 12 neurônios da ultima camada oculta, 1 neurônios na de saída \u001b[0m\n",
      "\u001b[1m Camada de Entrada: 7 neurônios inputs  12 neurônios saída 0.001 learning rate \u001b[0m\n",
      " _camada oculta 12 neurônios 3 camadas \n",
      " _camada oculta 12 neurônios 3 camadas \n",
      " _camada oculta 12 neurônios 3 camadas \n",
      "\u001b[1m 12 neurônios da ultima camada oculta, 1 neurônios na de saída \u001b[0m\n",
      "\u001b[1m Camada de Entrada: 7 neurônios inputs  12 neurônios saída 0.001 learning rate \u001b[0m\n",
      " _camada oculta 12 neurônios 3 camadas \n",
      " _camada oculta 12 neurônios 3 camadas \n",
      " _camada oculta 12 neurônios 3 camadas \n",
      "\u001b[1m 12 neurônios da ultima camada oculta, 1 neurônios na de saída \u001b[0m\n",
      "\u001b[1m Camada de Entrada: 7 neurônios inputs  12 neurônios saída 0.001 learning rate \u001b[0m\n",
      " _camada oculta 12 neurônios 3 camadas \n",
      " _camada oculta 12 neurônios 3 camadas \n",
      " _camada oculta 12 neurônios 3 camadas \n",
      "\u001b[1m 12 neurônios da ultima camada oculta, 1 neurônios na de saída \u001b[0m\n",
      "\u001b[1m Camada de Entrada: 7 neurônios inputs  12 neurônios saída 0.001 learning rate \u001b[0m\n",
      " _camada oculta 12 neurônios 3 camadas \n",
      " _camada oculta 12 neurônios 3 camadas \n",
      " _camada oculta 12 neurônios 3 camadas \n",
      "\u001b[1m 12 neurônios da ultima camada oculta, 1 neurônios na de saída \u001b[0m\n",
      "\u001b[1m Camada de Entrada: 7 neurônios inputs  12 neurônios saída 0.005 learning rate \u001b[0m\n",
      " _camada oculta 12 neurônios 3 camadas \n",
      " _camada oculta 12 neurônios 3 camadas \n",
      " _camada oculta 12 neurônios 3 camadas \n",
      "\u001b[1m 12 neurônios da ultima camada oculta, 1 neurônios na de saída \u001b[0m\n",
      "\u001b[1m Camada de Entrada: 7 neurônios inputs  12 neurônios saída 0.005 learning rate \u001b[0m\n",
      " _camada oculta 12 neurônios 3 camadas \n",
      " _camada oculta 12 neurônios 3 camadas \n",
      " _camada oculta 12 neurônios 3 camadas \n",
      "\u001b[1m 12 neurônios da ultima camada oculta, 1 neurônios na de saída \u001b[0m\n",
      "\u001b[1m Camada de Entrada: 7 neurônios inputs  12 neurônios saída 0.005 learning rate \u001b[0m\n",
      " _camada oculta 12 neurônios 3 camadas \n",
      " _camada oculta 12 neurônios 3 camadas \n",
      " _camada oculta 12 neurônios 3 camadas \n",
      "\u001b[1m 12 neurônios da ultima camada oculta, 1 neurônios na de saída \u001b[0m\n",
      "\u001b[1m Camada de Entrada: 7 neurônios inputs  12 neurônios saída 0.005 learning rate \u001b[0m\n",
      " _camada oculta 12 neurônios 3 camadas \n",
      " _camada oculta 12 neurônios 3 camadas \n",
      " _camada oculta 12 neurônios 3 camadas \n",
      "\u001b[1m 12 neurônios da ultima camada oculta, 1 neurônios na de saída \u001b[0m\n",
      "\u001b[1m Camada de Entrada: 7 neurônios inputs  12 neurônios saída 0.005 learning rate \u001b[0m\n",
      " _camada oculta 12 neurônios 3 camadas \n",
      " _camada oculta 12 neurônios 3 camadas \n",
      " _camada oculta 12 neurônios 3 camadas \n",
      "\u001b[1m 12 neurônios da ultima camada oculta, 1 neurônios na de saída \u001b[0m\n",
      "\u001b[1m Camada de Entrada: 7 neurônios inputs  12 neurônios saída 0.005 learning rate \u001b[0m\n",
      " _camada oculta 12 neurônios 3 camadas \n",
      " _camada oculta 12 neurônios 3 camadas \n",
      " _camada oculta 12 neurônios 3 camadas \n",
      "\u001b[1m 12 neurônios da ultima camada oculta, 1 neurônios na de saída \u001b[0m\n",
      "\u001b[1m Camada de Entrada: 7 neurônios inputs  12 neurônios saída 0.01 learning rate \u001b[0m\n",
      " _camada oculta 12 neurônios 3 camadas \n",
      " _camada oculta 12 neurônios 3 camadas \n",
      " _camada oculta 12 neurônios 3 camadas \n",
      "\u001b[1m 12 neurônios da ultima camada oculta, 1 neurônios na de saída \u001b[0m\n",
      "\u001b[1m Camada de Entrada: 7 neurônios inputs  12 neurônios saída 0.01 learning rate \u001b[0m\n",
      " _camada oculta 12 neurônios 3 camadas \n",
      " _camada oculta 12 neurônios 3 camadas \n",
      " _camada oculta 12 neurônios 3 camadas \n",
      "\u001b[1m 12 neurônios da ultima camada oculta, 1 neurônios na de saída \u001b[0m\n",
      "\u001b[1m Camada de Entrada: 7 neurônios inputs  12 neurônios saída 0.01 learning rate \u001b[0m\n",
      " _camada oculta 12 neurônios 3 camadas \n",
      " _camada oculta 12 neurônios 3 camadas \n",
      " _camada oculta 12 neurônios 3 camadas \n",
      "\u001b[1m 12 neurônios da ultima camada oculta, 1 neurônios na de saída \u001b[0m\n",
      "\u001b[1m Camada de Entrada: 7 neurônios inputs  12 neurônios saída 0.01 learning rate \u001b[0m\n",
      " _camada oculta 12 neurônios 3 camadas \n",
      " _camada oculta 12 neurônios 3 camadas \n",
      " _camada oculta 12 neurônios 3 camadas \n",
      "\u001b[1m 12 neurônios da ultima camada oculta, 1 neurônios na de saída \u001b[0m\n",
      "\u001b[1m Camada de Entrada: 7 neurônios inputs  12 neurônios saída 0.01 learning rate \u001b[0m\n",
      " _camada oculta 12 neurônios 3 camadas \n",
      " _camada oculta 12 neurônios 3 camadas \n",
      " _camada oculta 12 neurônios 3 camadas \n",
      "\u001b[1m 12 neurônios da ultima camada oculta, 1 neurônios na de saída \u001b[0m\n",
      "\u001b[1m Camada de Entrada: 7 neurônios inputs  12 neurônios saída 0.01 learning rate \u001b[0m\n",
      " _camada oculta 12 neurônios 3 camadas \n",
      " _camada oculta 12 neurônios 3 camadas \n",
      " _camada oculta 12 neurônios 3 camadas \n",
      "\u001b[1m 12 neurônios da ultima camada oculta, 1 neurônios na de saída \u001b[0m\n",
      "5846006549323611672814739330865132078623730171904\n"
     ]
    }
   ],
   "source": [
    "tot = 1\n",
    "for num_hidden_layers in hidden_layers:\n",
    "    for num_neurons_layers in neurons:\n",
    "        for num_learning_rate in learning_rate:\n",
    "            for num_batch_size in batch_size:\n",
    "                for prob_dropout in dropout_rate:\n",
    "                    setTestNeuralNetwork(num_hidden_layers,num_neurons_layers, num_learning_rate, prob_dropout, input_dim, output_dim)\n",
    "                    tot += tot\n",
    "                    #print('Para {} neurônios, {} camadas,  {} learning rate, {} batch size, {} dropout rate, temos: \\033[1m Acurácia: {:.2f}% \\033[0m'.format(num_neurons_layers,num_hidden_layers,num_learning_rate,num_batch_size,prob_dropout, accu))\n",
    "\n",
    "print(tot)"
   ]
  },
  {
   "cell_type": "code",
   "execution_count": 34,
   "metadata": {
    "scrolled": true
   },
   "outputs": [
    {
     "ename": "NameError",
     "evalue": "name 'NeuralNetwork' is not defined",
     "output_type": "error",
     "traceback": [
      "\u001b[1;31m---------------------------------------------------------------------------\u001b[0m",
      "\u001b[1;31mNameError\u001b[0m                                 Traceback (most recent call last)",
      "Cell \u001b[1;32mIn[34], line 8\u001b[0m\n\u001b[0;32m      6\u001b[0m \u001b[38;5;28;01mfor\u001b[39;00m num_batch_size \u001b[38;5;129;01min\u001b[39;00m batch_size:\n\u001b[0;32m      7\u001b[0m     \u001b[38;5;28;01mfor\u001b[39;00m prob_dropout \u001b[38;5;129;01min\u001b[39;00m dropout_rate:\n\u001b[1;32m----> 8\u001b[0m         nn \u001b[38;5;241m=\u001b[39m setBestNeuralNetwork(num_hidden_layers,num_neurons_layers, num_learning_rate, prob_dropout, input_dim, output_dim)\n\u001b[0;32m     10\u001b[0m         nn\u001b[38;5;241m.\u001b[39mfit(X_train, y_train, epochs\u001b[38;5;241m=\u001b[39m\u001b[38;5;241m40000\u001b[39m,batch_gen\u001b[38;5;241m=\u001b[39m rna\u001b[38;5;241m.\u001b[39mbatch_shuffle, batch_size\u001b[38;5;241m=\u001b[39mnum_batch_size, verbose\u001b[38;5;241m=\u001b[39m\u001b[38;5;241m3000\u001b[39m)\n\u001b[0;32m     12\u001b[0m         y_pred \u001b[38;5;241m=\u001b[39m nn\u001b[38;5;241m.\u001b[39mpredict(X_val)\n",
      "Cell \u001b[1;32mIn[28], line 3\u001b[0m, in \u001b[0;36msetBestNeuralNetwork\u001b[1;34m(hidden_layers, neurons, num_learning_rate, droput, input_dim, output_dim)\u001b[0m\n\u001b[0;32m      2\u001b[0m \u001b[38;5;28;01mdef\u001b[39;00m \u001b[38;5;21msetBestNeuralNetwork\u001b[39m(hidden_layers,neurons, num_learning_rate, droput, input_dim, output_dim):\n\u001b[1;32m----> 3\u001b[0m     nn \u001b[38;5;241m=\u001b[39m NeuralNetwork(cost_func \u001b[38;5;241m=\u001b[39m rna\u001b[38;5;241m.\u001b[39mbinary_cross_entropy, learning_rate \u001b[38;5;241m=\u001b[39m num_learning_rate, momentum\u001b[38;5;241m=\u001b[39m\u001b[38;5;241m0.1\u001b[39m, patience\u001b[38;5;241m=\u001b[39m\u001b[38;5;241m50\u001b[39m) \n\u001b[0;32m      5\u001b[0m     \u001b[38;5;66;03m#camada de entrada\u001b[39;00m\n\u001b[0;32m      6\u001b[0m     nn\u001b[38;5;241m.\u001b[39mlayers\u001b[38;5;241m.\u001b[39mappend(Layer(input_dim\u001b[38;5;241m=\u001b[39minput_dim, output_dim\u001b[38;5;241m=\u001b[39mneurons,activation\u001b[38;5;241m=\u001b[39m rna\u001b[38;5;241m.\u001b[39mrelu, weights_initializer\u001b[38;5;241m=\u001b[39mrna\u001b[38;5;241m.\u001b[39mglorot_normal))\n",
      "\u001b[1;31mNameError\u001b[0m: name 'NeuralNetwork' is not defined"
     ]
    }
   ],
   "source": [
    "lst_hyperP = []\n",
    "lst_ANN = []\n",
    "for num_hidden_layers in hidden_layers:\n",
    "    for num_neurons_layers in neurons:\n",
    "        for num_learning_rate in learning_rate:\n",
    "            for num_batch_size in batch_size:\n",
    "                for prob_dropout in dropout_rate:\n",
    "                    nn = setBestNeuralNetwork(num_hidden_layers,num_neurons_layers, num_learning_rate, prob_dropout, input_dim, output_dim)\n",
    "                    \n",
    "                    nn.fit(X_train, y_train, epochs=40000,batch_gen= rna.batch_shuffle, batch_size=num_batch_size, verbose=3000)\n",
    "                \n",
    "                    y_pred = nn.predict(X_val)\n",
    "                    accu = 100*accuracy_score(y_val, y_pred > 0.5)\n",
    "                    #accu = 100*roc_auc_score(y_val, y_pred > 0.5)\n",
    "                    lst_hyperP.append(hyperparametros(accu,num_hidden_layers,num_neurons_layers,num_learning_rate,num_batch_size,prob_dropout) )\n",
    "                    lst_ANN.append(ANN_accuracy(accu,nn))\n",
    "                    print('Para {} neurônios, {} camadas,  {} learning rate, {} batch size, {} dropout rate, temos: \\033[1m Acurácia: {:.2f}% \\033[0m'.format(num_neurons_layers,num_hidden_layers,num_learning_rate,num_batch_size,prob_dropout, accu))"
   ]
  },
  {
   "cell_type": "code",
   "execution_count": null,
   "metadata": {},
   "outputs": [],
   "source": [
    "best_hyper = max(lst_hyperP, key=lambda hyper: hyper.acuracia)\n",
    "best_of_best_hyper.append( hyperparametros(best_hyper.acuracia,best_hyper.camadas,best_hyper.neuronios, best_hyper.learning_rate,best_hyper.batch_size,best_hyper.dropout) )\n",
    "print('{:.2f}% foi a melhor\\033[1m acurácia\\033[0m, obtida com {} camadas,{} neurônios, {} de learning rate e {} de batch size!'.format(best_hyper.acuracia,best_hyper.camadas,best_hyper.neuronios, best_hyper.learning_rate,best_hyper.batch_size))"
   ]
  },
  {
   "cell_type": "code",
   "execution_count": null,
   "metadata": {},
   "outputs": [],
   "source": [
    "best_ann = max(lst_ANN, key=lambda hyper: hyper.acuracia)\n",
    "best_of_best_ANN.append(ANN_accuracy(best_ann.acuracia,best_ann.ann))\n",
    "print('{:.2f}% foi a melhor\\033[1m acurácia\\033[0m, obtida com a rede {} '.format(best_ann.acuracia,best_ann.ann))"
   ]
  },
  {
   "cell_type": "code",
   "execution_count": null,
   "metadata": {
    "scrolled": false
   },
   "outputs": [],
   "source": [
    "lst_hyperP.sort(key = lambda hyper: hyper.acuracia)\n",
    "#[hyper.neuronios for hyper in lst_hyperP]\n",
    "for best_hyper in lst_hyperP: \n",
    "  print('{:.2f}% foi a melhor\\033[1m acurácia\\033[0m, obtida com {} camadas,{} neurônios, {} de learning rate, {} de batch size e {} dropout rate!'.format(best_hyper.acuracia,best_hyper.camadas,best_hyper.neuronios, best_hyper.learning_rate,best_hyper.batch_size,best_hyper.dropout))"
   ]
  },
  {
   "cell_type": "code",
   "execution_count": null,
   "metadata": {},
   "outputs": [],
   "source": [
    "lst_hyperP = []\n",
    "lst_ANN = []\n",
    "\n",
    "#for num_learning_rate in learning_rate:\n",
    "#    for num_batch_size in batch_size:\n",
    "#        nn = setBestNeuralNetwork2(num_learning_rate, input_dim, output_dim)\n",
    "\n",
    "#        nn.fit(X_train, y_train, epochs=46000,batch_gen= rna.batch_shuffle, batch_size=num_batch_size, verbose=3000)\n",
    "\n",
    "#        y_pred = nn.predict(X_val)\n",
    "#        accu = 100*accuracy_score(y_val, y_pred > 0.5)\n",
    "        #accu = 100*roc_auc_score(y_val, y_pred > 0.5)\n",
    "#        lst_hyperP.append( hyperparametros(accu,2,10,num_learning_rate,num_batch_size,0) )\n",
    "#        lst_ANN.append(ANN_accuracy(accu,nn))\n",
    "#        print('Para  {} learning rate, {} batch size, temos: \\033[1m Acurácia: {:.2f}% \\033[0m'.format(num_learning_rate,num_batch_size, accu))"
   ]
  },
  {
   "cell_type": "code",
   "execution_count": null,
   "metadata": {},
   "outputs": [],
   "source": [
    "#best_hyper = max(lst_hyperP, key=lambda hyper: hyper.acuracia)\n",
    "#best_of_best_hyper.append( hyperparametros(best_hyper.acuracia,best_hyper.camadas,best_hyper.neuronios, best_hyper.learning_rate,best_hyper.batch_size,best_hyper.dropout) )\n",
    "#print('{:.2f}% foi a melhor\\033[1m acurácia\\033[0m, obtida com {} camadas,{} neurônios, {} de learning rate e {} de batch size!'.format(best_hyper.acuracia,best_hyper.camadas,best_hyper.neuronios, best_hyper.learning_rate,best_hyper.batch_size))"
   ]
  },
  {
   "cell_type": "code",
   "execution_count": null,
   "metadata": {},
   "outputs": [],
   "source": [
    "#best_ann2 = max(lst_ANN, key=lambda hyper: hyper.acuracia)\n",
    "#best_of_best_ANN.append(ANN_accuracy(best_ann2.acuracia,best_ann2.ann))\n",
    "#print('{:.2f}% foi a melhor\\033[1m acurácia\\033[0m, obtida com a rede {} '.format(best_ann2.acuracia,best_ann2.ann))"
   ]
  },
  {
   "cell_type": "code",
   "execution_count": null,
   "metadata": {},
   "outputs": [],
   "source": [
    "#lst_hyperP.sort(key = lambda hyper: hyper.acuracia)\n",
    "#[hyper.neuronios for hyper in lst_hyperP]\n",
    "#for best_hyper in lst_hyperP: \n",
    "#  print('{:.2f}% foi a melhor\\033[1m acurácia\\033[0m, obtida com {} camadas, {} de learning rate, {} de batch size e {} dropout rate!'.format(best_hyper.acuracia,best_hyper.camadas, best_hyper.learning_rate,best_hyper.batch_size,best_hyper.dropout))"
   ]
  },
  {
   "cell_type": "code",
   "execution_count": null,
   "metadata": {},
   "outputs": [],
   "source": [
    "#lst_hyperP = []\n",
    "#lst_ANN = []\n",
    "\n",
    "#for num_learning_rate in learning_rate:\n",
    "#    for num_batch_size in batch_size:\n",
    "#        nn = setBestNeuralNetwork3(num_learning_rate, input_dim, output_dim)\n",
    "\n",
    "#        nn.fit(X_train, y_train, epochs=36000,batch_gen= rna.batch_shuffle, batch_size=num_batch_size, verbose=3000)\n",
    "\n",
    "#        y_pred = nn.predict(X_val)\n",
    "#        accu = 100*accuracy_score(y_val, y_pred > 0.5)\n",
    "#        lst_hyperP.append( hyperparametros(accu,2,20,num_learning_rate,num_batch_size,0) )\n",
    "#        lst_ANN.append(ANN_accuracy(accu,nn))\n",
    "#        print('Para  {} learning rate, {} batch size, temos: \\033[1m Acurácia: {:.2f}% \\033[0m'.format(num_learning_rate,num_batch_size, accu))"
   ]
  },
  {
   "cell_type": "code",
   "execution_count": null,
   "metadata": {},
   "outputs": [],
   "source": [
    "#best_hyper = max(lst_hyperP, key=lambda hyper: hyper.acuracia)\n",
    "#best_of_best_hyper.append( hyperparametros(best_hyper.acuracia,best_hyper.camadas,best_hyper.neuronios, best_hyper.learning_rate,best_hyper.batch_size,best_hyper.dropout) )\n",
    "#print('{:.2f}% foi a melhor\\033[1m acurácia\\033[0m, obtida com {} camadas,{} neurônios, {} de learning rate e {} de batch size!'.format(best_hyper.acuracia,best_hyper.camadas,best_hyper.neuronios, best_hyper.learning_rate,best_hyper.batch_size))"
   ]
  },
  {
   "cell_type": "code",
   "execution_count": null,
   "metadata": {},
   "outputs": [],
   "source": [
    "#best_ann3 = max(lst_ANN, key=lambda hyper: hyper.acuracia)\n",
    "#best_of_best_ANN.append(ANN_accuracy(best_ann3.acuracia,best_ann3.ann))\n",
    "#print('{:.2f}% foi a melhor\\033[1m acurácia\\033[0m, obtida com a rede {} '.format(best_ann3.acuracia,best_ann3.ann))"
   ]
  },
  {
   "cell_type": "code",
   "execution_count": null,
   "metadata": {},
   "outputs": [],
   "source": [
    "#lst_hyperP.sort(key = lambda hyper: hyper.acuracia)\n",
    "#[hyper.neuronios for hyper in lst_hyperP]\n",
    "#for best_hyper in lst_hyperP: \n",
    "#  print('{:.2f}% foi a melhor\\033[1m acurácia\\033[0m, obtida com {} camadas, {} de learning rate, {} de batch size e {} dropout rate!'.format(best_hyper.acuracia,best_hyper.camadas, best_hyper.learning_rate,best_hyper.batch_size,best_hyper.dropout))"
   ]
  },
  {
   "cell_type": "markdown",
   "metadata": {},
   "source": [
    "# Avaliação da rede Proprietária"
   ]
  },
  {
   "cell_type": "markdown",
   "metadata": {},
   "source": [
    "https://medium.com/mdr-inc/from-sgd-to-adam-c9fce513c4bb"
   ]
  },
  {
   "cell_type": "code",
   "execution_count": null,
   "metadata": {},
   "outputs": [],
   "source": []
  },
  {
   "cell_type": "code",
   "execution_count": null,
   "metadata": {
    "scrolled": true
   },
   "outputs": [],
   "source": [
    "best_of_best_ANN_Test = []\n",
    "for best_RNA in best_of_best_ANN: \n",
    "  bestNN = best_RNA.ann\n",
    "  yhat_probs = bestNN.predict(X_test)\n",
    "  yhat_classes = (yhat_probs > 0.5)\n",
    "  accu = 100*accuracy_score(y_test,yhat_classes)\n",
    "  accMedia = (accu + best_RNA.acuracia) / 2\n",
    "  print('{:.2f}% accu_test - {:.2f}% foi a melhor\\033[1m acurácia\\033[0m, {:.2f} acc média {} RNA!'.format(accu,best_RNA.acuracia,accMedia,best_RNA.ann))\n",
    "  accu = accMedia  \n",
    "  best_of_best_ANN_Test.append(ANN_accuracy(accu,bestNN))"
   ]
  },
  {
   "cell_type": "code",
   "execution_count": null,
   "metadata": {},
   "outputs": [],
   "source": [
    "for best_hyper in best_of_best_hyper: \n",
    "  print('{:.2f}% foi a melhor\\033[1m acurácia\\033[0m, obtida com {} camadas,{} neurônios, {} de learning rate, {} de batch size e {} dropout rate!'.format(best_hyper.acuracia,best_hyper.camadas,best_hyper.neuronios, best_hyper.learning_rate,best_hyper.batch_size,best_hyper.dropout))"
   ]
  },
  {
   "cell_type": "code",
   "execution_count": null,
   "metadata": {},
   "outputs": [],
   "source": [
    "bestNN_Test = max(best_of_best_ANN_Test, key=lambda hyper: hyper.acuracia)\n",
    "bestNN_Test = bestNN_Test.ann"
   ]
  },
  {
   "cell_type": "code",
   "execution_count": null,
   "metadata": {
    "scrolled": true
   },
   "outputs": [],
   "source": [
    "yhat_probs = bestNN_Test.predict(X_test)\n",
    "yhat_classes = (yhat_probs > 0.5)\n",
    "accu = 100*accuracy_score(y_test,yhat_classes)\n",
    "print('{:.2f}%, acurácia de teste !'.format(accu))"
   ]
  },
  {
   "cell_type": "markdown",
   "metadata": {},
   "source": [
    "Segunda abordagem - configura uma nova rede com os parametros obtidos da otimização por força bruta"
   ]
  },
  {
   "cell_type": "code",
   "execution_count": null,
   "metadata": {},
   "outputs": [],
   "source": [
    "bestNN = max(best_of_best_ANN_Test, key=lambda hyper: hyper.acuracia)\n",
    "bestNN = bestNN.ann"
   ]
  },
  {
   "cell_type": "code",
   "execution_count": null,
   "metadata": {},
   "outputs": [],
   "source": [
    "bestHyper = max(best_of_best_hyper, key=lambda hyper: hyper.acuracia)\n",
    "print('{:.2f}% foi a melhor\\033[1m acurácia\\033[0m, obtida com {} camadas, {} de learning rate, {} de batch size e {} dropout rate!'.format(bestHyper.acuracia,bestHyper.camadas, bestHyper.learning_rate,bestHyper.batch_size,bestHyper.dropout))"
   ]
  },
  {
   "cell_type": "code",
   "execution_count": null,
   "metadata": {},
   "outputs": [],
   "source": [
    "yhat_probs = bestNN.predict(X_test)\n",
    "yhat_classes = (yhat_probs > 0.5)\n",
    "accu = 100*accuracy_score(y_test,yhat_classes)\n",
    "print('{:.2f}%, acurácia de teste !'.format(accu))"
   ]
  },
  {
   "cell_type": "code",
   "execution_count": null,
   "metadata": {
    "scrolled": false
   },
   "outputs": [],
   "source": [
    "bstANN = bestNN\n",
    "#bst_hyper = bstANN.hyper\n",
    "print('{:.2f}% foi a melhor\\033[1m acurácia\\033[0m, obtida com {} camadas, {} de learning rate, {} de batch size e {} dropout rate!'.format(best_hyper.acuracia,best_hyper.camadas, best_hyper.learning_rate,best_hyper.batch_size,best_hyper.dropout))"
   ]
  },
  {
   "cell_type": "markdown",
   "metadata": {},
   "source": [
    "__Quando obtermos uma boa acurácia com os dados de teste, salvamos a rede devidamente treinada__"
   ]
  },
  {
   "cell_type": "code",
   "execution_count": null,
   "metadata": {},
   "outputs": [],
   "source": [
    "if accu >= 85:\n",
    "    print('{:.2f}%, ótima acurácia de teste, rede salva!'.format(accu))\n",
    "    bestNN.save('bestANN\\suscetibilidadeNN_guaruja.pkl')\n",
    "else:\n",
    "    print('Acurácia: {:.2f}% acurácia de validação abaixo de .85!'.format(accu))"
   ]
  },
  {
   "cell_type": "code",
   "execution_count": null,
   "metadata": {},
   "outputs": [],
   "source": [
    "y_pred = bestNN.predict(X_train)\n",
    "print('Acurácia: {:.2f}%'.format(100*accuracy_score(y_train, y_pred > 0.5)))"
   ]
  },
  {
   "cell_type": "code",
   "execution_count": null,
   "metadata": {},
   "outputs": [],
   "source": [
    "y_pred = bestNN.predict(X_val)\n",
    "print('Acurácia: {:.2f}%'.format(100*accuracy_score(y_val, y_pred > 0.5)))"
   ]
  },
  {
   "cell_type": "code",
   "execution_count": null,
   "metadata": {},
   "outputs": [],
   "source": [
    "y_pred = bestNN.predict(X_test)\n",
    "print('Acurácia: {:.2f}%'.format(100*accuracy_score(y_test, y_pred > 0.5)))"
   ]
  },
  {
   "cell_type": "code",
   "execution_count": null,
   "metadata": {},
   "outputs": [],
   "source": [
    "y_pred = bestNN.predict(X)\n",
    "print('Acurácia: {:.2f}%'.format(100*accuracy_score(y, y_pred > 0.5)))"
   ]
  },
  {
   "cell_type": "code",
   "execution_count": null,
   "metadata": {},
   "outputs": [],
   "source": []
  },
  {
   "cell_type": "markdown",
   "metadata": {},
   "source": [
    "__Quando obtermos uma boa acurácia com os dados de teste, salvamos a rede devidamente treinada__"
   ]
  },
  {
   "cell_type": "code",
   "execution_count": null,
   "metadata": {},
   "outputs": [],
   "source": [
    "yhat_probs = bestNN.predict(X_train)\n",
    "yhat_classes = (yhat_probs > 0.5)\n",
    "accu = 100*accuracy_score(y_train, yhat_classes)\n",
    "print('Acurácia: {:.2f}%'.format(accu))"
   ]
  },
  {
   "cell_type": "code",
   "execution_count": null,
   "metadata": {},
   "outputs": [],
   "source": [
    "NetworkPerformance(y_train, yhat_probs)"
   ]
  },
  {
   "cell_type": "code",
   "execution_count": null,
   "metadata": {},
   "outputs": [],
   "source": [
    "yhat_probs = bestNN.predict(X_test)\n",
    "yhat_classes = (yhat_probs > 0.5)\n",
    "accu = 100*accuracy_score(y_test,yhat_classes)\n",
    "print('Acurácia: {:.2f}%'.format(accu))"
   ]
  },
  {
   "cell_type": "code",
   "execution_count": null,
   "metadata": {},
   "outputs": [],
   "source": [
    "NetworkPerformance(y_test, yhat_probs)"
   ]
  },
  {
   "cell_type": "code",
   "execution_count": null,
   "metadata": {},
   "outputs": [],
   "source": [
    "yhat_probs = bestNN.predict(X_val)\n",
    "yhat_classes = (yhat_probs > 0.5)\n",
    "accu = 100*accuracy_score(y_val,yhat_classes)\n",
    "print('Acurácia: {:.2f}%'.format(accu))"
   ]
  },
  {
   "cell_type": "code",
   "execution_count": null,
   "metadata": {},
   "outputs": [],
   "source": [
    "NetworkPerformance(y_val, yhat_probs)"
   ]
  },
  {
   "cell_type": "code",
   "execution_count": null,
   "metadata": {},
   "outputs": [],
   "source": [
    "yhat_probs = bestNN.predict(X)\n",
    "yhat_classes = (yhat_probs > 0.5)\n",
    "accu = 100*accuracy_score(y,yhat_classes)\n",
    "print('Acurácia: {:.2f}%'.format(accu))"
   ]
  },
  {
   "cell_type": "code",
   "execution_count": null,
   "metadata": {
    "scrolled": true
   },
   "outputs": [],
   "source": [
    "NetworkPerformance(y, yhat_probs)"
   ]
  },
  {
   "cell_type": "code",
   "execution_count": null,
   "metadata": {},
   "outputs": [],
   "source": [
    "printAUROC(y,yhat_probs)"
   ]
  },
  {
   "cell_type": "code",
   "execution_count": null,
   "metadata": {},
   "outputs": [],
   "source": [
    "from sklearn.metrics import confusion_matrix\n",
    "cf_matrix = confusion_matrix(y,(yhat_probs > 0.5))"
   ]
  },
  {
   "cell_type": "code",
   "execution_count": null,
   "metadata": {},
   "outputs": [],
   "source": [
    "import seaborn as sns\n",
    "\n",
    "ax = sns.heatmap(cf_matrix, annot=True, cmap='Blues')\n",
    "\n",
    "ax.set_title('Matriz de Confusão\\n\\n')\n",
    "ax.set_xlabel('Ocorrências Preditas\\nAcurácia={:0.2f}%'.format(100*accuracy_score(y, y_pred > 0.5)))\n",
    "ax.set_ylabel('Ocorrências Reais ')\n",
    "\n",
    "\n",
    "## Ticket labels - List must be in alphabetical order\n",
    "ax.xaxis.set_ticklabels(['Falso','Verdadeiro'])\n",
    "ax.yaxis.set_ticklabels(['Falso','Verdadeiro'])\n",
    "\n",
    "## Display the visualization of the Confusion Matrix.\n",
    "plt.show()"
   ]
  },
  {
   "cell_type": "code",
   "execution_count": null,
   "metadata": {},
   "outputs": [],
   "source": [
    "output_proprietario = None\n",
    "output_proprietario = dataset_original\n",
    "output_proprietario['score'] = yhat_probs"
   ]
  },
  {
   "cell_type": "code",
   "execution_count": null,
   "metadata": {},
   "outputs": [],
   "source": [
    "sizes = output_proprietario['Elevacao']*10\n",
    "\n",
    "fig, axes = plt.subplots(nrows=1, ncols=2, figsize=(14, 9))\n",
    "\n",
    "axes[0].scatter(output_proprietario['Declividade'], output_proprietario['Elevacao'],\n",
    "            c=(output_proprietario['class']), cmap='rainbow', alpha=0.3,\n",
    "            s=sizes, edgecolors='none')\n",
    "legend1 = axes[0].legend(*scatter.legend_elements(),\n",
    "                    loc=\"upper right\", title=\"landslide\")\n",
    "\n",
    "axes[1].scatter(output_proprietario['Declividade'], output_proprietario['Elevacao'],\n",
    "            c=(output_proprietario['score'] > 0.5), cmap='rainbow', alpha=0.3,\n",
    "            s=sizes, edgecolors='none')\n",
    "legend1 = axes[1].legend(*scatter.legend_elements(),\n",
    "                    loc=\"upper right\", title=\"landslide\")\n",
    "\n",
    "fig.tight_layout()\n",
    "text = 'deslizamentos preditos ' + 'acurácia de: {:.2f}%'.format(100*accuracy_score(y, y_pred > 0.5))\n",
    "axes[0].title.set_text('deslizamentos reais')\n",
    "axes[1].title.set_text(text)\n",
    "\n",
    "plt.show()"
   ]
  },
  {
   "cell_type": "markdown",
   "metadata": {},
   "source": [
    "Agora considerar __RepeatedStratifiedKfold__ para avaliação da rede\n",
    "\n",
    "ref. https://www.geeksforgeeks.org/stratified-k-fold-cross-validation/\n",
    "\n",
    "ref. https://medium.com/@venkatasujit272/overview-of-cross-validation-3785d5414ece"
   ]
  },
  {
   "cell_type": "code",
   "execution_count": null,
   "metadata": {},
   "outputs": [],
   "source": [
    "# Teste com objeto StratifiedKFold.\n",
    "from sklearn.model_selection import StratifiedKFold\n",
    "from sklearn.model_selection import RepeatedKFold\n",
    "from sklearn.model_selection import RepeatedStratifiedKFold\n",
    "import statistics "
   ]
  },
  {
   "cell_type": "code",
   "execution_count": null,
   "metadata": {},
   "outputs": [],
   "source": [
    "#X = dataset.drop('class',axis=1)\n",
    "#y= dataset['class']\n",
    "#X = X.to_numpy()    #converts dataframe into array to be used at NN\n",
    "#y = y.to_numpy()    #converts dataframe into array to be used at NN\n",
    "#y = y.reshape(-1,1) #reorganiza o array em um array 1 x 1\n",
    "\n",
    "#normalização do dataset\n",
    "#minmax = MinMaxScaler(feature_range=(-1, 1))\n",
    "#minmax = MinMaxScaler()\n",
    "#X = minmax.fit_transform(X.astype(np.float64))\n",
    "print(X.min(axis=0), X.max(axis=0))"
   ]
  },
  {
   "cell_type": "code",
   "execution_count": null,
   "metadata": {},
   "outputs": [],
   "source": [
    "skf = StratifiedKFold(n_splits=5, shuffle=True, random_state=1)\n",
    "lst_accu_stratified = []\n",
    "\n",
    "rskf = RepeatedStratifiedKFold(n_splits=5, n_repeats=2,random_state=36851234)\n",
    "\n",
    "print ('Numero de Splits_stratified de X: ',rskf.get_n_splits(X, y),'\\n')\n",
    "\n",
    "# Prin_stratifiedting the Train & Test Indices of splits\n",
    "for train_index, test_index in rskf.split(X, y): \n",
    "    #print (\"TRAIN:\", train_index, \"TEST:\", test_index)\n",
    "    X_train_stratified, X_test_stratified = X[train_index], X[test_index]\n",
    "    y_train_stratified, y_test_stratified = y[train_index], y[test_index]\n",
    "    print(X_train_stratified.shape, y_train_stratified.shape)\n",
    "    \n",
    "    yhat_probs = bestNN.predict(X_test_stratified)\n",
    "    lst_accu_stratified.append(100*accuracy_score(y_test_stratified, yhat_probs > 0.5))"
   ]
  },
  {
   "cell_type": "code",
   "execution_count": null,
   "metadata": {},
   "outputs": [],
   "source": [
    "print('Lista de acurácias obtidas:', lst_accu_stratified)\n",
    "print('\\nAcurácia máxima obtida:',\n",
    "      max(lst_accu_stratified), '%')\n",
    "print('\\nAcurácia mínima:',\n",
    "      min(lst_accu_stratified), '%')\n",
    "print('\\nAcurácia média:',\n",
    "      statistics.mean(lst_accu_stratified), '%')\n",
    "print('\\nDesvio Padrão:', statistics.stdev(lst_accu_stratified))"
   ]
  },
  {
   "cell_type": "markdown",
   "metadata": {},
   "source": [
    "Recupera modelo otimizado saldo anteriormente e o testa com diferentes conjuntos de dados."
   ]
  },
  {
   "cell_type": "code",
   "execution_count": null,
   "metadata": {},
   "outputs": [],
   "source": [
    "dataset"
   ]
  },
  {
   "cell_type": "code",
   "execution_count": null,
   "metadata": {
    "scrolled": true
   },
   "outputs": [],
   "source": [
    "y_pred = bestNN.predict(X)\n",
    "yhat_classes = (y_pred > 0.5)\n",
    "print('Acurácia: {:.2f}%'.format(100*accuracy_score(y, y_pred > 0.5)))\n",
    "output_proprietario = None\n",
    "output_proprietario = dataset_original\n",
    "output_proprietario['score'] = y_pred\n",
    "output_proprietario.to_csv('bestANN/mapaSuscetibilidade_proprietaria.csv', encoding=\"utf-8\")"
   ]
  },
  {
   "cell_type": "code",
   "execution_count": null,
   "metadata": {},
   "outputs": [],
   "source": [
    "NetworkPerformance(y, y_pred)"
   ]
  },
  {
   "cell_type": "code",
   "execution_count": null,
   "metadata": {},
   "outputs": [],
   "source": [
    "output_proprietario"
   ]
  },
  {
   "cell_type": "code",
   "execution_count": null,
   "metadata": {},
   "outputs": [],
   "source": [
    "from matplotlib import pyplot\n",
    "ns_auc = roc_auc_score(y, y_pred)\n",
    "# summarize scores\n",
    "print('ROC AUC=%.3f' % (ns_auc))\n",
    "# calculate roc curves\n",
    "ns_fpr, ns_tpr, _ = roc_curve(y, y_pred)\n",
    "# plot the roc curve for the model\n",
    "pyplot.plot(ns_fpr, ns_tpr, linestyle='--', label='ROC AUC')\n",
    "# axis labels\n",
    "pyplot.xlabel('False Positive Rate')\n",
    "pyplot.ylabel('True Positive Rate')\n",
    "# show the legend\n",
    "pyplot.legend()\n",
    "# show the plot\n",
    "pyplot.show()"
   ]
  },
  {
   "cell_type": "markdown",
   "metadata": {},
   "source": [
    "- ref. https://machinelearningmastery.com/roc-curves-and-precision-recall-curves-for-classification-in-python/\n",
    "- ref. https://stackoverflow.com/questions/25009284/how-to-plot-roc-curve-in-python"
   ]
  },
  {
   "cell_type": "code",
   "execution_count": null,
   "metadata": {},
   "outputs": [],
   "source": [
    "sizes = output_proprietario['Elevacao']*10\n",
    "\n",
    "fig, axes = plt.subplots(nrows=1, ncols=2, figsize=(14, 9))\n",
    "\n",
    "axes[0].scatter(output_proprietario['Declividade'], output_proprietario['Elevacao'],\n",
    "            c=(output_proprietario['class']), cmap='rainbow', alpha=0.3,\n",
    "            s=sizes, edgecolors='none')\n",
    "legend1 = axes[0].legend(*scatter.legend_elements(),\n",
    "                    loc=\"upper right\", title=\"landslide\")\n",
    "\n",
    "axes[1].scatter(output_proprietario['Declividade'], output_proprietario['Elevacao'],\n",
    "            c=(output_proprietario['score'] > 0.5), cmap='rainbow', alpha=0.3,\n",
    "            s=sizes, edgecolors='none')\n",
    "legend1 = axes[1].legend(*scatter.legend_elements(),\n",
    "                    loc=\"upper right\", title=\"landslide\")\n",
    "\n",
    "fig.tight_layout()\n",
    "text = 'deslizamentos preditos ' + 'acurácia de: {:.2f}%'.format(100*accuracy_score(y, y_pred > 0.5))\n",
    "axes[0].title.set_text('deslizamentos reais')\n",
    "axes[1].title.set_text(text)\n",
    "\n",
    "plt.show()"
   ]
  },
  {
   "cell_type": "code",
   "execution_count": null,
   "metadata": {},
   "outputs": [],
   "source": [
    "dataSet = output_proprietario.sample(n = 50)\n",
    "#dataSet = dataSet.drop('FID',axis=1)\n",
    "#dataSet = dataSet.drop('X',axis=1)\n",
    "#dataSet = dataSet.drop('Y',axis=1)\n",
    "plotSwarmChart(dataSet)"
   ]
  },
  {
   "cell_type": "code",
   "execution_count": null,
   "metadata": {},
   "outputs": [],
   "source": [
    "# perguntar para Ale como retornar os dados para ela, se em um csv com cada posição e as respectivas probabilidades?\n",
    "# se for, basta incorporar essa variável y_pred à uma nova coluna do dataframe"
   ]
  },
  {
   "cell_type": "code",
   "execution_count": null,
   "metadata": {},
   "outputs": [],
   "source": [
    "end = datetime.datetime.now()\n",
    "print(end-start)\n",
    "quit()"
   ]
  },
  {
   "cell_type": "markdown",
   "metadata": {},
   "source": [
    "## Rede Neural  Keras\n",
    "__Problema de classificação, considerar as melhores práticas:__\n",
    "- Ajuste dos hiperparametros\n",
    "- Baseline para implementação customizada\n",
    "\n",
    "ref. https://machinelearningmastery.com/data-preparation-without-data-leakage/\n"
   ]
  },
  {
   "cell_type": "markdown",
   "metadata": {},
   "source": [
    "Agora, configura a rede com os melhores parâmetros"
   ]
  },
  {
   "cell_type": "code",
   "execution_count": null,
   "metadata": {},
   "outputs": [],
   "source": [
    "from tensorflow import keras\n",
    "from tensorflow.keras import layers\n",
    "from tensorflow.keras.layers import Dense\n",
    "from tensorflow.keras.layers import Dropout\n",
    "import tensorflow as tf"
   ]
  },
  {
   "cell_type": "code",
   "execution_count": null,
   "metadata": {},
   "outputs": [],
   "source": [
    "print(len(X_train), 'train examples')\n",
    "print(len(X_val), 'validation examples')\n",
    "print(len(X_test), 'test examples')"
   ]
  },
  {
   "cell_type": "code",
   "execution_count": null,
   "metadata": {},
   "outputs": [],
   "source": [
    "#{'num_hidden_layers': 1, 'num_units': 4, 'dropout_rate': 0.5, 'learning_rate': 0.004682800657889146}       "
   ]
  },
  {
   "cell_type": "code",
   "execution_count": null,
   "metadata": {},
   "outputs": [],
   "source": [
    "#HyperParameters: {'num_hidden_layers': 2, 'num_units': 12, 'dropout_rate': 0.2821478566400208, 'learning_rate': 0.006549533067877217}\n",
    "#conjunto de hyperparametros para o Guaruja 87% acuracia dados de teste."
   ]
  },
  {
   "cell_type": "code",
   "execution_count": null,
   "metadata": {},
   "outputs": [],
   "source": [
    "hypermodel = keras.Sequential()\n",
    "hypermodel.add(Dense(24, activation='relu', input_dim=input_dim))\n",
    "\n",
    "hypermodel.add(Dense(24, activation='relu'))\n",
    "hypermodel.add(Dropout(0.43719886068153724))\n",
    "\n",
    "#hypermodel.add(Dense(24, activation='relu'))\n",
    "#hypermodel.add(Dropout(0.5))\n",
    "#hypermodel.add(Dense(24, activation='relu'))\n",
    "#hypermodel.add(Dropout(0.5))\n",
    "#hypermodel.add(Dense(24, activation='relu'))\n",
    "#hypermodel.add(Dropout(0.5))\n",
    "#hypermodel.add(Dense(24, activation='relu'))\n",
    "#hypermodel.add(Dropout(0.5))\n",
    "#hypermodel.add(Dense(24, activation='relu'))\n",
    "#hypermodel.add(Dropout(0.5))\n",
    "#hypermodel.add(Dense(24, activation='relu'))\n",
    "#hypermodel.add(Dropout(0.5))\n",
    "#hypermodel.add(Dense(24, activation='relu'))\n",
    "#hypermodel.add(Dropout(0.5))\n",
    "\n",
    "hypermodel.add(Dense(1, activation='sigmoid'))\n",
    "learning_rate= 0.01\n",
    "myOptimizer = tf.keras.optimizers.SGD(learning_rate=learning_rate)\n",
    "hypermodel.compile(optimizer=myOptimizer, loss=\"binary_crossentropy\", metrics=['accuracy'])"
   ]
  },
  {
   "cell_type": "code",
   "execution_count": null,
   "metadata": {},
   "outputs": [],
   "source": [
    "#model.fit(X_train, y_train, epochs=100, batch_size=5)\n",
    "history           = hypermodel.fit(X_train, y_train, epochs=500, batch_size=5)\n",
    "val_acc_per_epoch = history.history['accuracy']\n",
    "best_epoch        = val_acc_per_epoch.index(max(val_acc_per_epoch)) + 1"
   ]
  },
  {
   "cell_type": "code",
   "execution_count": null,
   "metadata": {},
   "outputs": [],
   "source": [
    "print('Best epoch: %d' % (best_epoch,))"
   ]
  },
  {
   "cell_type": "code",
   "execution_count": null,
   "metadata": {},
   "outputs": [],
   "source": [
    "# avaliação via keras\n",
    "_, accuracy = hypermodel.evaluate(X_test, y_test)\n",
    "print('Accuracy: %.2f' % (accuracy*100))"
   ]
  },
  {
   "cell_type": "code",
   "execution_count": null,
   "metadata": {},
   "outputs": [],
   "source": [
    "# Retrain the model\n",
    "history = hypermodel.fit(X_train, y_train, epochs=best_epoch)"
   ]
  },
  {
   "cell_type": "code",
   "execution_count": null,
   "metadata": {},
   "outputs": [],
   "source": [
    "# avaliação via keras\n",
    "_, accuracy = hypermodel.evaluate(X_test, y_test)\n",
    "print('Accuracy: %.2f' % (accuracy*100))"
   ]
  },
  {
   "cell_type": "code",
   "execution_count": null,
   "metadata": {},
   "outputs": [],
   "source": [
    "import tensorflow as tf\n",
    "# rankdir='LR' is used to make the graph horizontal.\n",
    "tf.keras.utils.plot_model(hypermodel, show_shapes=True, rankdir=\"LR\")"
   ]
  },
  {
   "cell_type": "code",
   "execution_count": null,
   "metadata": {},
   "outputs": [],
   "source": [
    "if accuracy >= .80:\n",
    "    print('ótima acurácia, rede salva!')\n",
    "    hypermodel.save('bestANN\\suscetibilidadeKeras_guaruja.pkl')\n",
    "else:\n",
    "    print('acurácia abaixo de .85')"
   ]
  },
  {
   "cell_type": "markdown",
   "metadata": {},
   "source": [
    "# Avaliação da rede keras"
   ]
  },
  {
   "cell_type": "code",
   "execution_count": null,
   "metadata": {},
   "outputs": [],
   "source": [
    "#X = dataset.drop('class',axis=1)\n",
    "#y = dataset['class']\n",
    "#X = X.to_numpy()    #converts dataframe into array to be used at NN\n",
    "#y = y.to_numpy()    #converts dataframe into array to be used at NN\n",
    "#y = y.reshape(-1,1) #reorganiza o array em um array 1 x 1\n",
    "\n",
    "#normalização do dataset\n",
    "#minmax = MinMaxScaler(feature_range=(-1, 1))\n",
    "#X = minmax.fit_transform(X.astype(np.float64))\n",
    "#print(X.min(axis=0), X.max(axis=0))"
   ]
  },
  {
   "cell_type": "code",
   "execution_count": null,
   "metadata": {},
   "outputs": [],
   "source": [
    "#X"
   ]
  },
  {
   "cell_type": "code",
   "execution_count": null,
   "metadata": {},
   "outputs": [],
   "source": [
    "skf = StratifiedKFold(n_splits=5, shuffle=True, random_state=1)\n",
    "lst_accu_stratified = []\n",
    "\n",
    "rskf = RepeatedStratifiedKFold(n_splits=5, n_repeats=2,random_state=36851234)\n",
    "\n",
    "print ('Numero de Splits de X: ',rskf.get_n_splits(X, y),'\\n')\n",
    "\n",
    "# Printing the Train & Test Indices of splits\n",
    "for train_index, test_index in rskf.split(X, y): \n",
    "    #print (\"TRAIN:\", train_index, \"TEST:\", test_index)\n",
    "    X_train_stratified_keras, X_test_stratified_keras = X[train_index], X[test_index]\n",
    "    y_train_stratified_keras, y_test_stratified_keras = y[train_index], y[test_index]\n",
    "    #print('novo dataset')\n",
    "    #print(X_train_stratified_keras.shape, y_train_stratified_keras.shape)\n",
    "    \n",
    "    yhat_probs = hypermodel.predict(X_test_stratified_keras)\n",
    "    lst_accu_stratified.append(100*accuracy_score(y_test_stratified_keras, yhat_probs > 0.5))"
   ]
  },
  {
   "cell_type": "code",
   "execution_count": null,
   "metadata": {},
   "outputs": [],
   "source": [
    "print('Lista de acurácias obtidas:', lst_accu_stratified)\n",
    "print('\\nAcurácia máxima obtida:',\n",
    "      max(lst_accu_stratified), '%')\n",
    "print('\\nAcurácia mínima:',\n",
    "      min(lst_accu_stratified), '%')\n",
    "print('\\nAcurácia média:',\n",
    "      statistics.mean(lst_accu_stratified), '%')\n",
    "print('\\nDesvio Padrão:', statistics.stdev(lst_accu_stratified))"
   ]
  },
  {
   "cell_type": "code",
   "execution_count": null,
   "metadata": {},
   "outputs": [],
   "source": []
  },
  {
   "cell_type": "code",
   "execution_count": null,
   "metadata": {},
   "outputs": [],
   "source": [
    "y_pred = hypermodel.predict(X_test)\n",
    "#print('Predições:', y_pred, sep='\\n')\n",
    "print('Acurácia: {:.2f}%'.format(100*accuracy_score(y_test, y_pred > 0.5)))"
   ]
  },
  {
   "cell_type": "code",
   "execution_count": null,
   "metadata": {
    "scrolled": true
   },
   "outputs": [],
   "source": [
    "y_pred = hypermodel.predict(X_train)\n",
    "print('Acurácia: {:.2f}%'.format(100*accuracy_score(y_train, y_pred > 0.5)))"
   ]
  },
  {
   "cell_type": "code",
   "execution_count": null,
   "metadata": {},
   "outputs": [],
   "source": [
    "y_pred = hypermodel.predict(X_val)\n",
    "print('Acurácia: {:.2f}%'.format(100*accuracy_score(y_val, y_pred > 0.5)))"
   ]
  },
  {
   "cell_type": "code",
   "execution_count": null,
   "metadata": {},
   "outputs": [],
   "source": [
    "y_pred = hypermodel.predict(X)\n",
    "print('Acurácia: {:.2f}%'.format(100*accuracy_score(y, y_pred > 0.5)))"
   ]
  },
  {
   "cell_type": "code",
   "execution_count": null,
   "metadata": {
    "scrolled": true
   },
   "outputs": [],
   "source": [
    "output_keras = None\n",
    "output_keras = dataset_original\n",
    "output_keras['score'] = y_pred\n",
    "output_keras.to_csv('bestANN/mapaSuscetibilidade_keras.csv', encoding=\"utf-8\")\n",
    "output_keras"
   ]
  },
  {
   "cell_type": "code",
   "execution_count": null,
   "metadata": {},
   "outputs": [],
   "source": [
    "ns_auc = roc_auc_score(y, y_pred)\n",
    "# summarize scores\n",
    "print('ROC AUC=%.3f' % (ns_auc))\n",
    "# calculate roc curves\n",
    "ns_fpr, ns_tpr, _ = roc_curve(y, y_pred)\n",
    "# plot the roc curve for the model\n",
    "pyplot.plot(ns_fpr, ns_tpr, linestyle='--', label='ROC AUC')\n",
    "# axis labels\n",
    "pyplot.xlabel('False Positive Rate')\n",
    "pyplot.ylabel('True Positive Rate')\n",
    "# show the legend\n",
    "pyplot.legend()\n",
    "# show the plot\n",
    "pyplot.show()"
   ]
  },
  {
   "cell_type": "code",
   "execution_count": null,
   "metadata": {},
   "outputs": [],
   "source": [
    "sizes = output_proprietario['Elevacao']*10\n",
    "\n",
    "fig, axes = plt.subplots(nrows=1, ncols=2, figsize=(14, 9))\n",
    "\n",
    "axes[0].scatter(output_proprietario['Declividade'], output_proprietario['Elevacao'],\n",
    "            c=(output_proprietario['class']), cmap='rainbow', alpha=0.3,\n",
    "            s=sizes, edgecolors='none')\n",
    "legend1 = axes[0].legend(*scatter.legend_elements(),\n",
    "                    loc=\"upper right\", title=\"landslide\")\n",
    "\n",
    "axes[1].scatter(output_proprietario['Declividade'], output_proprietario['Elevacao'],\n",
    "            c=(output_proprietario['score'] > 0.5), cmap='rainbow', alpha=0.3,\n",
    "            s=sizes, edgecolors='none')\n",
    "legend1 = axes[1].legend(*scatter.legend_elements(),\n",
    "                    loc=\"upper right\", title=\"landslide\")\n",
    "\n",
    "fig.tight_layout()\n",
    "text = 'deslizamentos preditos ' + 'acurácia de: {:.2f}%'.format(100*accuracy_score(y, y_pred > 0.5))\n",
    "axes[0].title.set_text('deslizamentos reais')\n",
    "axes[1].title.set_text(text)\n",
    "\n",
    "plt.show()"
   ]
  },
  {
   "cell_type": "code",
   "execution_count": null,
   "metadata": {},
   "outputs": [],
   "source": [
    "dataSet = output_keras.sample(n = 50)\n",
    "#dataSet = dataSet.drop('FID',axis=1)\n",
    "#dataSet = dataSet.drop('X',axis=1)\n",
    "#dataSet = dataSet.drop('Y',axis=1)\n",
    "plotSwarmChart(dataSet)"
   ]
  },
  {
   "cell_type": "code",
   "execution_count": null,
   "metadata": {},
   "outputs": [],
   "source": [
    "end = datetime.datetime.now()\n",
    "print(end-start)"
   ]
  },
  {
   "cell_type": "code",
   "execution_count": null,
   "metadata": {},
   "outputs": [],
   "source": []
  },
  {
   "cell_type": "code",
   "execution_count": null,
   "metadata": {},
   "outputs": [],
   "source": []
  },
  {
   "cell_type": "code",
   "execution_count": null,
   "metadata": {},
   "outputs": [],
   "source": []
  }
 ],
 "metadata": {
  "interpreter": {
   "hash": "b7e61c40c58399eabfdc57275b655b0084201ad0151cf37bc45bab8193ea43c1"
  },
  "kernelspec": {
   "display_name": "Python 3 (ipykernel)",
   "language": "python",
   "name": "python3"
  },
  "language_info": {
   "codemirror_mode": {
    "name": "ipython",
    "version": 3
   },
   "file_extension": ".py",
   "mimetype": "text/x-python",
   "name": "python",
   "nbconvert_exporter": "python",
   "pygments_lexer": "ipython3",
   "version": "3.12.3"
  },
  "toc": {
   "base_numbering": 1,
   "nav_menu": {},
   "number_sections": true,
   "sideBar": true,
   "skip_h1_title": false,
   "title_cell": "Table of Contents",
   "title_sidebar": "Contents",
   "toc_cell": false,
   "toc_position": {},
   "toc_section_display": true,
   "toc_window_display": true
  }
 },
 "nbformat": 4,
 "nbformat_minor": 2
}
