{
 "cells": [
  {
   "cell_type": "markdown",
   "id": "interstate-occasion",
   "metadata": {},
   "source": [
    "Notebook do curso Keras Tunner do Coursera\n",
    "- ref. https://www.tensorflow.org/tutorials/keras/classification?hl=pt-br\n",
    "- ref. https://www.tensorflow.org/tutorials/keras/keras_tuner"
   ]
  },
  {
   "cell_type": "code",
   "execution_count": 1,
   "id": "excellent-material",
   "metadata": {},
   "outputs": [],
   "source": [
    "import tensorflow as tf\n",
    "import keras_tuner\n",
    "import matplotlib.pyplot as plt\n",
    "import numpy as np"
   ]
  },
  {
   "cell_type": "code",
   "execution_count": 2,
   "id": "continuing-franchise",
   "metadata": {},
   "outputs": [
    {
     "data": {
      "text/plain": [
       "'2.5.0'"
      ]
     },
     "execution_count": 2,
     "metadata": {},
     "output_type": "execute_result"
    }
   ],
   "source": [
    "tf.__version__"
   ]
  },
  {
   "cell_type": "markdown",
   "id": "vocational-extension",
   "metadata": {},
   "source": [
    "## prepara o conjunto de dados"
   ]
  },
  {
   "cell_type": "code",
   "execution_count": 3,
   "id": "earned-vancouver",
   "metadata": {},
   "outputs": [],
   "source": [
    "(x_train, y_train), (x_test,y_test) = tf.keras.datasets.fashion_mnist.load_data()"
   ]
  },
  {
   "cell_type": "code",
   "execution_count": 4,
   "id": "ultimate-dining",
   "metadata": {},
   "outputs": [
    {
     "data": {
      "text/plain": [
       "(60000, 28, 28)"
      ]
     },
     "execution_count": 4,
     "metadata": {},
     "output_type": "execute_result"
    }
   ],
   "source": [
    "x_train.shape"
   ]
  },
  {
   "cell_type": "code",
   "execution_count": 5,
   "id": "ambient-entertainment",
   "metadata": {},
   "outputs": [
    {
     "data": {
      "text/plain": [
       "{0, 1, 2, 3, 4, 5, 6, 7, 8, 9}"
      ]
     },
     "execution_count": 5,
     "metadata": {},
     "output_type": "execute_result"
    }
   ],
   "source": [
    "set(y_train)"
   ]
  },
  {
   "cell_type": "code",
   "execution_count": 6,
   "id": "national-librarian",
   "metadata": {},
   "outputs": [
    {
     "data": {
      "image/png": "[encoded data removed]",
      "text/plain": [
       "<Figure size 432x288 with 2 Axes>"
      ]
     },
     "metadata": {
      "needs_background": "light"
     },
     "output_type": "display_data"
    }
   ],
   "source": [
    "#plt.imshow(x_train[2],cmap='binary')\n",
    "plt.figure()\n",
    "plt.imshow(x_train[0])\n",
    "plt.xlabel(y_train[0])\n",
    "plt.colorbar()\n",
    "plt.grid(False)\n",
    "plt.show()"
   ]
  },
  {
   "cell_type": "markdown",
   "id": "incorporate-barcelona",
   "metadata": {},
   "source": [
    "## Defina o modelo\n",
    "Ao construir um modelo para hiper-sintonia, você também define o espaço de pesquisa do hiperparâmetro, além da arquitetura do modelo. O modelo que você configurou para hypertuning é chamado de hypermodel.\n",
    "\n",
    "Você pode definir um hipermodelo por meio de duas abordagens:"
   ]
  },
  {
   "cell_type": "code",
   "execution_count": 7,
   "id": "brutal-london",
   "metadata": {},
   "outputs": [],
   "source": [
    "def create_model(hp): #hp como parametro, logo podemos estabelecer diversos valores\n",
    "    \n",
    "    num_hidden_layers = 1\n",
    "    num_units = 8\n",
    "    dropout_rate = 0.1\n",
    "    learning_rate = 0.01\n",
    "    \n",
    "    if hp: #se esse parametro for passado - esse conjunto de parametros define o tuner\n",
    "        num_hidden_layers = hp.Choice(\"num_hidden_layers\", values = [1,2,3])\n",
    "        num_units = hp.Choice('num_units',values = [8,16,32])\n",
    "        dropout_rate = hp.Float('dropout_rate', min_value = 0.1, max_value = 0.5)\n",
    "        learning_rate = hp.Float('learning_rate',min_value= 0.0001, max_value=0.01)\n",
    "    \n",
    "    model = tf.keras.Sequential()\n",
    "    model.add(tf.keras.layers.Flatten(input_shape=(28,28)))\n",
    "    model.add(tf.keras.layers.Lambda(lambda x:x/255.)) ## Normalize pixel values between 0 and 1\n",
    "    \n",
    "    for _ in range(0,num_hidden_layers):\n",
    "        model.add(tf.keras.layers.Dense(num_units,activation='relu'))\n",
    "        model.add(tf.keras.layers.Dropout(dropout_rate))\n",
    "        \n",
    "    model.add(tf.keras.layers.Dense(10, activation='softmax')) #camada de saída - classificação \n",
    "    \n",
    "    model.compile(\n",
    "                optimizer=tf.keras.optimizers.Adam(learning_rate=learning_rate),\n",
    "                loss=tf.keras.losses.SparseCategoricalCrossentropy(),\n",
    "                #loss='sparse_categorical_crossentropy',  \n",
    "                metrics=['accuracy'])\n",
    "    \n",
    "    return model"
   ]
  },
  {
   "cell_type": "code",
   "execution_count": 8,
   "id": "supreme-survivor",
   "metadata": {},
   "outputs": [
    {
     "name": "stdout",
     "output_type": "stream",
     "text": [
      "Model: \"sequential\"\n",
      "_________________________________________________________________\n",
      "Layer (type)                 Output Shape              Param #   \n",
      "=================================================================\n",
      "flatten (Flatten)            (None, 784)               0         \n",
      "_________________________________________________________________\n",
      "lambda (Lambda)              (None, 784)               0         \n",
      "_________________________________________________________________\n",
      "dense (Dense)                (None, 8)                 6280      \n",
      "_________________________________________________________________\n",
      "dropout (Dropout)            (None, 8)                 0         \n",
      "_________________________________________________________________\n",
      "dense_1 (Dense)              (None, 10)                90        \n",
      "=================================================================\n",
      "Total params: 6,370\n",
      "Trainable params: 6,370\n",
      "Non-trainable params: 0\n",
      "_________________________________________________________________\n"
     ]
    }
   ],
   "source": [
    "create_model(None).summary()"
   ]
  },
  {
   "cell_type": "code",
   "execution_count": 9,
   "id": "seven-remainder",
   "metadata": {},
   "outputs": [],
   "source": [
    "class CustomTuner(keras_tuner.tuners.BayesianOptimization):\n",
    "    def run_trian(self,trial, *args, **kwargs):\n",
    "        kwargs['batch_size'] = trial.hyperparameters.Int('batch_size',32,128,step=32)\n",
    "        super(CustomTuner,self).run_trial(trial,*args,**kwargs)"
   ]
  },
  {
   "cell_type": "code",
   "execution_count": 10,
   "id": "toxic-pearl",
   "metadata": {},
   "outputs": [],
   "source": [
    "tuner = CustomTuner(\n",
    "    create_model,\n",
    "    objective= 'val_accuracy',\n",
    "    max_trials = 20,\n",
    "    directory = 'logs',\n",
    "    project_name = 'fashion_mnist',\n",
    "    overwrite = True\n",
    ")"
   ]
  },
  {
   "cell_type": "code",
   "execution_count": 11,
   "id": "incorporated-evening",
   "metadata": {},
   "outputs": [
    {
     "name": "stdout",
     "output_type": "stream",
     "text": [
      "Search space summary\n",
      "Default search space size: 4\n",
      "num_hidden_layers (Choice)\n",
      "{'default': 1, 'conditions': [], 'values': [1, 2, 3], 'ordered': True}\n",
      "num_units (Choice)\n",
      "{'default': 8, 'conditions': [], 'values': [8, 16, 32], 'ordered': True}\n",
      "dropout_rate (Float)\n",
      "{'default': 0.1, 'conditions': [], 'min_value': 0.1, 'max_value': 0.5, 'step': None, 'sampling': None}\n",
      "learning_rate (Float)\n",
      "{'default': 0.0001, 'conditions': [], 'min_value': 0.0001, 'max_value': 0.01, 'step': None, 'sampling': None}\n"
     ]
    }
   ],
   "source": [
    "tuner.search_space_summary()"
   ]
  },
  {
   "cell_type": "code",
   "execution_count": 12,
   "id": "lyric-harrison",
   "metadata": {},
   "outputs": [],
   "source": [
    "stop_early = tf.keras.callbacks.EarlyStopping(monitor='val_loss', patience=5)"
   ]
  },
  {
   "cell_type": "code",
   "execution_count": 13,
   "id": "hired-compact",
   "metadata": {},
   "outputs": [
    {
     "name": "stdout",
     "output_type": "stream",
     "text": [
      "INFO:tensorflow:Oracle triggered exit\n"
     ]
    }
   ],
   "source": [
    "tuner.search(\n",
    "    x_train, y_train,\n",
    "    validation_data=(x_test,y_test),\n",
    "    callbacks=[stop_early],\n",
    "    epochs=5, verbose=False\n",
    ")"
   ]
  },
  {
   "cell_type": "code",
   "execution_count": 14,
   "id": "superb-cooper",
   "metadata": {},
   "outputs": [
    {
     "name": "stdout",
     "output_type": "stream",
     "text": [
      "Results summary\n",
      "Results in logs\\fashion_mnist\n",
      "Showing 3 best trials\n",
      "Objective(name='val_accuracy', direction='max')\n",
      "Trial summary\n",
      "Hyperparameters:\n",
      "num_hidden_layers: 2\n",
      "num_units: 32\n",
      "dropout_rate: 0.14717621946944304\n",
      "learning_rate: 0.0016407017659114903\n",
      "Score: 0.8547000288963318\n",
      "Trial summary\n",
      "Hyperparameters:\n",
      "num_hidden_layers: 2\n",
      "num_units: 32\n",
      "dropout_rate: 0.1464804366932363\n",
      "learning_rate: 0.0018203220343830265\n",
      "Score: 0.8539999723434448\n",
      "Trial summary\n",
      "Hyperparameters:\n",
      "num_hidden_layers: 2\n",
      "num_units: 32\n",
      "dropout_rate: 0.14680490773387259\n",
      "learning_rate: 0.001495147218875434\n",
      "Score: 0.8532999753952026\n"
     ]
    }
   ],
   "source": [
    "tuner.results_summary(3) #exibe os três melhores resultados"
   ]
  },
  {
   "cell_type": "markdown",
   "id": "proprietary-scanner",
   "metadata": {},
   "source": [
    "## Primeira abordagem, agora que sabemos os melhores parametros, hora de utilizá-los."
   ]
  },
  {
   "cell_type": "code",
   "execution_count": 15,
   "id": "general-london",
   "metadata": {},
   "outputs": [
    {
     "name": "stdout",
     "output_type": "stream",
     "text": [
      "\n",
      "The hyperparameter search is complete. The optimal number of units in the first densely-connected\n",
      "layer is 32 and the optimal learning rate for the optimizer\n",
      "is 0.0016407017659114903.\n",
      "\n"
     ]
    }
   ],
   "source": [
    "# Get the optimal hyperparameters\n",
    "#best_hps = tuner.get_best_hyperparameters(num_trials=1)[0]\n",
    "best_hps = tuner.get_best_hyperparameters(1)[0]\n",
    "print(f\"\"\"\n",
    "The hyperparameter search is complete. The optimal number of units in the first densely-connected\n",
    "layer is {best_hps.get('num_units')} and the optimal learning rate for the optimizer\n",
    "is {best_hps.get('learning_rate')}.\n",
    "\"\"\")"
   ]
  },
  {
   "cell_type": "code",
   "execution_count": 16,
   "id": "sized-richardson",
   "metadata": {},
   "outputs": [],
   "source": [
    "# Build the model with the optimal hyperparameters and train it on the data for 50 epochs\n",
    "model             = tuner.hypermodel.build(best_hps)"
   ]
  },
  {
   "cell_type": "code",
   "execution_count": 17,
   "id": "immediate-abraham",
   "metadata": {},
   "outputs": [
    {
     "name": "stdout",
     "output_type": "stream",
     "text": [
      "Model: \"sequential\"\n",
      "_________________________________________________________________\n",
      "Layer (type)                 Output Shape              Param #   \n",
      "=================================================================\n",
      "flatten (Flatten)            (None, 784)               0         \n",
      "_________________________________________________________________\n",
      "lambda (Lambda)              (None, 784)               0         \n",
      "_________________________________________________________________\n",
      "dense (Dense)                (None, 32)                25120     \n",
      "_________________________________________________________________\n",
      "dropout (Dropout)            (None, 32)                0         \n",
      "_________________________________________________________________\n",
      "dense_1 (Dense)              (None, 32)                1056      \n",
      "_________________________________________________________________\n",
      "dropout_1 (Dropout)          (None, 32)                0         \n",
      "_________________________________________________________________\n",
      "dense_2 (Dense)              (None, 10)                330       \n",
      "=================================================================\n",
      "Total params: 26,506\n",
      "Trainable params: 26,506\n",
      "Non-trainable params: 0\n",
      "_________________________________________________________________\n"
     ]
    }
   ],
   "source": [
    "model.summary()"
   ]
  },
  {
   "cell_type": "code",
   "execution_count": 18,
   "id": "athletic-obligation",
   "metadata": {},
   "outputs": [
    {
     "name": "stdout",
     "output_type": "stream",
     "text": [
      "Epoch 1/50\n",
      "1500/1500 [==============================] - 3s 1ms/step - loss: 0.7162 - accuracy: 0.7443 - val_loss: 0.4551 - val_accuracy: 0.8381\n",
      "Epoch 2/50\n",
      "1500/1500 [==============================] - 2s 1ms/step - loss: 0.5167 - accuracy: 0.8126 - val_loss: 0.4189 - val_accuracy: 0.8448\n",
      "Epoch 3/50\n",
      "1500/1500 [==============================] - 2s 1ms/step - loss: 0.4819 - accuracy: 0.8255 - val_loss: 0.4135 - val_accuracy: 0.8482\n",
      "Epoch 4/50\n",
      "1500/1500 [==============================] - 2s 1ms/step - loss: 0.4594 - accuracy: 0.8340 - val_loss: 0.4186 - val_accuracy: 0.8438\n",
      "Epoch 5/50\n",
      "1500/1500 [==============================] - 2s 1ms/step - loss: 0.4442 - accuracy: 0.8394 - val_loss: 0.4030 - val_accuracy: 0.8584\n",
      "Epoch 6/50\n",
      "1500/1500 [==============================] - 2s 1ms/step - loss: 0.4351 - accuracy: 0.8431 - val_loss: 0.3959 - val_accuracy: 0.8565\n",
      "Epoch 7/50\n",
      "1500/1500 [==============================] - 3s 2ms/step - loss: 0.4277 - accuracy: 0.8430 - val_loss: 0.3935 - val_accuracy: 0.8595\n",
      "Epoch 8/50\n",
      "1500/1500 [==============================] - 2s 1ms/step - loss: 0.4238 - accuracy: 0.8442 - val_loss: 0.3881 - val_accuracy: 0.8590\n",
      "Epoch 9/50\n",
      "1500/1500 [==============================] - 2s 1ms/step - loss: 0.4168 - accuracy: 0.8477 - val_loss: 0.3780 - val_accuracy: 0.8624\n",
      "Epoch 10/50\n",
      "1500/1500 [==============================] - 2s 2ms/step - loss: 0.4129 - accuracy: 0.8491 - val_loss: 0.3811 - val_accuracy: 0.8618\n",
      "Epoch 11/50\n",
      "1500/1500 [==============================] - 2s 1ms/step - loss: 0.4118 - accuracy: 0.8489 - val_loss: 0.3803 - val_accuracy: 0.8569\n",
      "Epoch 12/50\n",
      "1500/1500 [==============================] - 2s 1ms/step - loss: 0.4028 - accuracy: 0.8526 - val_loss: 0.3807 - val_accuracy: 0.8585\n",
      "Epoch 13/50\n",
      "1500/1500 [==============================] - 2s 1ms/step - loss: 0.4034 - accuracy: 0.8518 - val_loss: 0.3690 - val_accuracy: 0.8648\n",
      "Epoch 14/50\n",
      "1500/1500 [==============================] - 2s 1ms/step - loss: 0.3991 - accuracy: 0.8541 - val_loss: 0.3708 - val_accuracy: 0.8668\n",
      "Epoch 15/50\n",
      "1500/1500 [==============================] - 2s 1ms/step - loss: 0.3885 - accuracy: 0.8566 - val_loss: 0.3776 - val_accuracy: 0.8642\n",
      "Epoch 16/50\n",
      "1500/1500 [==============================] - 2s 1ms/step - loss: 0.3900 - accuracy: 0.8554 - val_loss: 0.3775 - val_accuracy: 0.8634\n",
      "Epoch 17/50\n",
      "1500/1500 [==============================] - 2s 1ms/step - loss: 0.3878 - accuracy: 0.8584 - val_loss: 0.3797 - val_accuracy: 0.8645\n",
      "Epoch 18/50\n",
      "1500/1500 [==============================] - 2s 1ms/step - loss: 0.3861 - accuracy: 0.8576 - val_loss: 0.3834 - val_accuracy: 0.8654\n",
      "Epoch 19/50\n",
      "1500/1500 [==============================] - 2s 1ms/step - loss: 0.3840 - accuracy: 0.8580 - val_loss: 0.3837 - val_accuracy: 0.8608\n",
      "Epoch 20/50\n",
      "1500/1500 [==============================] - 2s 1ms/step - loss: 0.3825 - accuracy: 0.8590 - val_loss: 0.3738 - val_accuracy: 0.8642\n",
      "Epoch 21/50\n",
      "1500/1500 [==============================] - 2s 1ms/step - loss: 0.3794 - accuracy: 0.8621 - val_loss: 0.3794 - val_accuracy: 0.8671\n",
      "Epoch 22/50\n",
      "1500/1500 [==============================] - 2s 1ms/step - loss: 0.3786 - accuracy: 0.8619 - val_loss: 0.3819 - val_accuracy: 0.8618\n",
      "Epoch 23/50\n",
      "1500/1500 [==============================] - 2s 1ms/step - loss: 0.3753 - accuracy: 0.8616 - val_loss: 0.3745 - val_accuracy: 0.8659\n",
      "Epoch 24/50\n",
      "1500/1500 [==============================] - 2s 1ms/step - loss: 0.3715 - accuracy: 0.8635 - val_loss: 0.3742 - val_accuracy: 0.8658\n",
      "Epoch 25/50\n",
      "1500/1500 [==============================] - 2s 1ms/step - loss: 0.3680 - accuracy: 0.8658 - val_loss: 0.3849 - val_accuracy: 0.8649\n",
      "Epoch 26/50\n",
      "1500/1500 [==============================] - 2s 1ms/step - loss: 0.3712 - accuracy: 0.8639 - val_loss: 0.3696 - val_accuracy: 0.8706\n",
      "Epoch 27/50\n",
      "1500/1500 [==============================] - 2s 1ms/step - loss: 0.3686 - accuracy: 0.8650 - val_loss: 0.3730 - val_accuracy: 0.8680\n",
      "Epoch 28/50\n",
      "1500/1500 [==============================] - 2s 1ms/step - loss: 0.3675 - accuracy: 0.8641 - val_loss: 0.3801 - val_accuracy: 0.8637\n",
      "Epoch 29/50\n",
      "1500/1500 [==============================] - 2s 1ms/step - loss: 0.3648 - accuracy: 0.8671 - val_loss: 0.3993 - val_accuracy: 0.8618\n",
      "Epoch 30/50\n",
      "1500/1500 [==============================] - 2s 1ms/step - loss: 0.3653 - accuracy: 0.8659 - val_loss: 0.3761 - val_accuracy: 0.8675\n",
      "Epoch 31/50\n",
      "1500/1500 [==============================] - 2s 1ms/step - loss: 0.3636 - accuracy: 0.8659 - val_loss: 0.3994 - val_accuracy: 0.8583\n",
      "Epoch 32/50\n",
      "1500/1500 [==============================] - 2s 1ms/step - loss: 0.3608 - accuracy: 0.8665 - val_loss: 0.3701 - val_accuracy: 0.8697\n",
      "Epoch 33/50\n",
      "1500/1500 [==============================] - 2s 1ms/step - loss: 0.3637 - accuracy: 0.8656 - val_loss: 0.3664 - val_accuracy: 0.8689\n",
      "Epoch 34/50\n",
      "1500/1500 [==============================] - 2s 1ms/step - loss: 0.3611 - accuracy: 0.8667 - val_loss: 0.3798 - val_accuracy: 0.8637\n",
      "Epoch 35/50\n",
      "1500/1500 [==============================] - 2s 1ms/step - loss: 0.3563 - accuracy: 0.8659 - val_loss: 0.3734 - val_accuracy: 0.8679\n",
      "Epoch 36/50\n",
      "1500/1500 [==============================] - 2s 1ms/step - loss: 0.3613 - accuracy: 0.8666 - val_loss: 0.3765 - val_accuracy: 0.8689\n",
      "Epoch 37/50\n",
      "1500/1500 [==============================] - 2s 1ms/step - loss: 0.3583 - accuracy: 0.8676 - val_loss: 0.3701 - val_accuracy: 0.8688\n",
      "Epoch 38/50\n",
      "1500/1500 [==============================] - 2s 1ms/step - loss: 0.3572 - accuracy: 0.8684 - val_loss: 0.3703 - val_accuracy: 0.8698\n",
      "Epoch 39/50\n",
      "1500/1500 [==============================] - 2s 1ms/step - loss: 0.3517 - accuracy: 0.8701 - val_loss: 0.3717 - val_accuracy: 0.8722\n",
      "Epoch 40/50\n",
      "1500/1500 [==============================] - 2s 1ms/step - loss: 0.3574 - accuracy: 0.8675 - val_loss: 0.3772 - val_accuracy: 0.8677\n",
      "Epoch 41/50\n",
      "1500/1500 [==============================] - 2s 2ms/step - loss: 0.3492 - accuracy: 0.8701 - val_loss: 0.3743 - val_accuracy: 0.8720\n",
      "Epoch 42/50\n",
      "1500/1500 [==============================] - 2s 1ms/step - loss: 0.3496 - accuracy: 0.8703 - val_loss: 0.3841 - val_accuracy: 0.8664\n",
      "Epoch 43/50\n",
      "1500/1500 [==============================] - 2s 1ms/step - loss: 0.3482 - accuracy: 0.8694 - val_loss: 0.3934 - val_accuracy: 0.8647\n",
      "Epoch 44/50\n",
      "1500/1500 [==============================] - 2s 1ms/step - loss: 0.3497 - accuracy: 0.8718 - val_loss: 0.3832 - val_accuracy: 0.8677\n",
      "Epoch 45/50\n",
      "1500/1500 [==============================] - 2s 1ms/step - loss: 0.3473 - accuracy: 0.8693 - val_loss: 0.3871 - val_accuracy: 0.8636\n",
      "Epoch 46/50\n",
      "1500/1500 [==============================] - 2s 1ms/step - loss: 0.3457 - accuracy: 0.8721 - val_loss: 0.3787 - val_accuracy: 0.8657\n",
      "Epoch 47/50\n",
      "1500/1500 [==============================] - 2s 1ms/step - loss: 0.3469 - accuracy: 0.8701 - val_loss: 0.3875 - val_accuracy: 0.8670\n",
      "Epoch 48/50\n",
      "1500/1500 [==============================] - 2s 1ms/step - loss: 0.3494 - accuracy: 0.8715 - val_loss: 0.3965 - val_accuracy: 0.8635\n",
      "Epoch 49/50\n",
      "1500/1500 [==============================] - 2s 1ms/step - loss: 0.3453 - accuracy: 0.8720 - val_loss: 0.3823 - val_accuracy: 0.8690\n",
      "Epoch 50/50\n",
      "1500/1500 [==============================] - 2s 1ms/step - loss: 0.3456 - accuracy: 0.8728 - val_loss: 0.3800 - val_accuracy: 0.8721\n"
     ]
    }
   ],
   "source": [
    "history           = model.fit(x_train, y_train, epochs=50, validation_split=0.2)\n",
    "val_acc_per_epoch = history.history['val_accuracy']\n",
    "best_epoch        = val_acc_per_epoch.index(max(val_acc_per_epoch)) + 1"
   ]
  },
  {
   "cell_type": "code",
   "execution_count": 19,
   "id": "plastic-spank",
   "metadata": {},
   "outputs": [
    {
     "name": "stdout",
     "output_type": "stream",
     "text": [
      "Best epoch: 39\n"
     ]
    }
   ],
   "source": [
    "print('Best epoch: %d' % (best_epoch,))"
   ]
  },
  {
   "cell_type": "code",
   "execution_count": 20,
   "id": "simplified-champion",
   "metadata": {},
   "outputs": [
    {
     "name": "stdout",
     "output_type": "stream",
     "text": [
      "313/313 [==============================] - 0s 1ms/step - loss: 0.4034 - accuracy: 0.8609\n",
      "[test loss, test accuracy]: [0.40344417095184326, 0.8608999848365784]\n"
     ]
    }
   ],
   "source": [
    "eval_result = model.evaluate(x_test,y_test)\n",
    "print(\"[test loss, test accuracy]:\", eval_result)"
   ]
  },
  {
   "cell_type": "code",
   "execution_count": 21,
   "id": "federal-senior",
   "metadata": {},
   "outputs": [
    {
     "name": "stdout",
     "output_type": "stream",
     "text": [
      "Epoch 1/39\n",
      "1500/1500 [==============================] - 2s 1ms/step - loss: 0.6862 - accuracy: 0.7546 - val_loss: 0.4687 - val_accuracy: 0.8353\n",
      "Epoch 2/39\n",
      "1500/1500 [==============================] - 2s 1ms/step - loss: 0.5018 - accuracy: 0.8204 - val_loss: 0.4284 - val_accuracy: 0.8476\n",
      "Epoch 3/39\n",
      "1500/1500 [==============================] - 2s 1ms/step - loss: 0.4670 - accuracy: 0.8339 - val_loss: 0.4184 - val_accuracy: 0.8512\n",
      "Epoch 4/39\n",
      "1500/1500 [==============================] - 2s 1ms/step - loss: 0.4490 - accuracy: 0.8395 - val_loss: 0.3962 - val_accuracy: 0.8585\n",
      "Epoch 5/39\n",
      "1500/1500 [==============================] - 2s 1ms/step - loss: 0.4351 - accuracy: 0.8439 - val_loss: 0.3849 - val_accuracy: 0.8626\n",
      "Epoch 6/39\n",
      "1500/1500 [==============================] - 2s 1ms/step - loss: 0.4234 - accuracy: 0.8488 - val_loss: 0.3797 - val_accuracy: 0.8612\n",
      "Epoch 7/39\n",
      "1500/1500 [==============================] - 2s 1ms/step - loss: 0.4153 - accuracy: 0.8474 - val_loss: 0.3791 - val_accuracy: 0.8636\n",
      "Epoch 8/39\n",
      "1500/1500 [==============================] - 2s 1ms/step - loss: 0.4071 - accuracy: 0.8514 - val_loss: 0.3789 - val_accuracy: 0.8663\n",
      "Epoch 9/39\n",
      "1500/1500 [==============================] - 2s 1ms/step - loss: 0.3984 - accuracy: 0.8542 - val_loss: 0.3741 - val_accuracy: 0.8652\n",
      "Epoch 10/39\n",
      "1500/1500 [==============================] - 2s 1ms/step - loss: 0.3946 - accuracy: 0.8565 - val_loss: 0.3694 - val_accuracy: 0.8636\n",
      "Epoch 11/39\n",
      "1500/1500 [==============================] - 2s 1ms/step - loss: 0.3928 - accuracy: 0.8579 - val_loss: 0.3824 - val_accuracy: 0.8619\n",
      "Epoch 12/39\n",
      "1500/1500 [==============================] - 2s 1ms/step - loss: 0.3863 - accuracy: 0.8600 - val_loss: 0.3652 - val_accuracy: 0.8695\n",
      "Epoch 13/39\n",
      "1500/1500 [==============================] - 2s 1ms/step - loss: 0.3849 - accuracy: 0.8595 - val_loss: 0.3698 - val_accuracy: 0.8698\n",
      "Epoch 14/39\n",
      "1500/1500 [==============================] - 2s 1ms/step - loss: 0.3826 - accuracy: 0.8608 - val_loss: 0.3631 - val_accuracy: 0.8682\n",
      "Epoch 15/39\n",
      "1500/1500 [==============================] - 2s 1ms/step - loss: 0.3762 - accuracy: 0.8617 - val_loss: 0.3619 - val_accuracy: 0.8709\n",
      "Epoch 16/39\n",
      "1500/1500 [==============================] - 2s 1ms/step - loss: 0.3724 - accuracy: 0.8655 - val_loss: 0.3677 - val_accuracy: 0.8659\n",
      "Epoch 17/39\n",
      "1500/1500 [==============================] - 2s 1ms/step - loss: 0.3719 - accuracy: 0.8643 - val_loss: 0.3806 - val_accuracy: 0.8681\n",
      "Epoch 18/39\n",
      "1500/1500 [==============================] - 2s 1ms/step - loss: 0.3652 - accuracy: 0.8668 - val_loss: 0.3685 - val_accuracy: 0.8712\n",
      "Epoch 19/39\n",
      "1500/1500 [==============================] - 2s 1ms/step - loss: 0.3642 - accuracy: 0.8665 - val_loss: 0.3658 - val_accuracy: 0.8687\n",
      "Epoch 20/39\n",
      "1500/1500 [==============================] - 2s 1ms/step - loss: 0.3632 - accuracy: 0.8658 - val_loss: 0.3685 - val_accuracy: 0.8695\n",
      "Epoch 21/39\n",
      "1500/1500 [==============================] - 2s 1ms/step - loss: 0.3637 - accuracy: 0.8665 - val_loss: 0.3612 - val_accuracy: 0.8697\n",
      "Epoch 22/39\n",
      "1500/1500 [==============================] - 2s 1ms/step - loss: 0.3596 - accuracy: 0.8673 - val_loss: 0.3606 - val_accuracy: 0.8730\n",
      "Epoch 23/39\n",
      "1500/1500 [==============================] - 2s 1ms/step - loss: 0.3562 - accuracy: 0.8709 - val_loss: 0.3683 - val_accuracy: 0.8677\n",
      "Epoch 24/39\n",
      "1500/1500 [==============================] - 2s 1ms/step - loss: 0.3552 - accuracy: 0.8691 - val_loss: 0.3659 - val_accuracy: 0.8703\n",
      "Epoch 25/39\n",
      "1500/1500 [==============================] - 2s 1ms/step - loss: 0.3549 - accuracy: 0.8686 - val_loss: 0.3573 - val_accuracy: 0.8757\n",
      "Epoch 26/39\n",
      "1500/1500 [==============================] - 2s 1ms/step - loss: 0.3505 - accuracy: 0.8702 - val_loss: 0.3606 - val_accuracy: 0.8705\n",
      "Epoch 27/39\n",
      "1500/1500 [==============================] - 2s 1ms/step - loss: 0.3459 - accuracy: 0.8722 - val_loss: 0.3658 - val_accuracy: 0.8766\n",
      "Epoch 28/39\n",
      "1500/1500 [==============================] - 2s 1ms/step - loss: 0.3466 - accuracy: 0.8718 - val_loss: 0.3594 - val_accuracy: 0.8726\n",
      "Epoch 29/39\n",
      "1500/1500 [==============================] - 2s 1ms/step - loss: 0.3449 - accuracy: 0.8725 - val_loss: 0.3638 - val_accuracy: 0.8663\n",
      "Epoch 30/39\n",
      "1500/1500 [==============================] - 2s 1ms/step - loss: 0.3460 - accuracy: 0.8719 - val_loss: 0.3617 - val_accuracy: 0.8748\n",
      "Epoch 31/39\n",
      "1500/1500 [==============================] - 2s 1ms/step - loss: 0.3431 - accuracy: 0.8746 - val_loss: 0.3597 - val_accuracy: 0.8750\n",
      "Epoch 32/39\n",
      "1500/1500 [==============================] - 2s 1ms/step - loss: 0.3428 - accuracy: 0.8719 - val_loss: 0.3656 - val_accuracy: 0.8708\n",
      "Epoch 33/39\n",
      "1500/1500 [==============================] - 2s 1ms/step - loss: 0.3413 - accuracy: 0.8744 - val_loss: 0.3542 - val_accuracy: 0.8762\n",
      "Epoch 34/39\n",
      "1500/1500 [==============================] - 2s 1ms/step - loss: 0.3421 - accuracy: 0.8726 - val_loss: 0.3772 - val_accuracy: 0.8689\n",
      "Epoch 35/39\n",
      "1500/1500 [==============================] - 2s 1ms/step - loss: 0.3403 - accuracy: 0.8748 - val_loss: 0.3908 - val_accuracy: 0.8672\n",
      "Epoch 36/39\n",
      "1500/1500 [==============================] - 2s 1ms/step - loss: 0.3357 - accuracy: 0.8757 - val_loss: 0.3629 - val_accuracy: 0.8719\n",
      "Epoch 37/39\n",
      "1500/1500 [==============================] - 2s 1ms/step - loss: 0.3386 - accuracy: 0.8736 - val_loss: 0.3564 - val_accuracy: 0.8732\n",
      "Epoch 38/39\n",
      "1500/1500 [==============================] - 2s 1ms/step - loss: 0.3367 - accuracy: 0.8758 - val_loss: 0.3635 - val_accuracy: 0.8734\n",
      "Epoch 39/39\n",
      "1500/1500 [==============================] - 2s 2ms/step - loss: 0.3346 - accuracy: 0.8759 - val_loss: 0.3713 - val_accuracy: 0.8683\n"
     ]
    },
    {
     "data": {
      "text/plain": [
       "<tensorflow.python.keras.callbacks.History at 0x2c26f2d57f0>"
      ]
     },
     "execution_count": 21,
     "metadata": {},
     "output_type": "execute_result"
    }
   ],
   "source": [
    "hypermodel = tuner.hypermodel.build(best_hps)\n",
    "# Retrain the model\n",
    "hypermodel.fit(x_train,y_train, epochs=best_epoch, validation_split=0.2)"
   ]
  },
  {
   "cell_type": "code",
   "execution_count": 22,
   "id": "cordless-collapse",
   "metadata": {},
   "outputs": [
    {
     "name": "stdout",
     "output_type": "stream",
     "text": [
      "313/313 [==============================] - 0s 1ms/step - loss: 0.3961 - accuracy: 0.8632\n",
      "[test loss, test accuracy]: [0.39611566066741943, 0.8632000088691711]\n"
     ]
    }
   ],
   "source": [
    "eval_result = hypermodel.evaluate(x_test,y_test)\n",
    "print(\"[test loss, test accuracy]:\", eval_result)"
   ]
  },
  {
   "cell_type": "code",
   "execution_count": null,
   "id": "northern-azerbaijan",
   "metadata": {},
   "outputs": [],
   "source": []
  },
  {
   "cell_type": "markdown",
   "id": "invisible-vatican",
   "metadata": {},
   "source": [
    "## Outra abordagem, onde o modelo é recompilado"
   ]
  },
  {
   "cell_type": "code",
   "execution_count": 23,
   "id": "dried-madagascar",
   "metadata": {},
   "outputs": [
    {
     "name": "stdout",
     "output_type": "stream",
     "text": [
      "HyperParameters: {'num_hidden_layers': 2, 'num_units': 32, 'dropout_rate': 0.14717621946944304, 'learning_rate': 0.0016407017659114903}\n"
     ]
    }
   ],
   "source": [
    "# Retrieve the best model and hyperparameters\n",
    "best_model           = tuner.get_best_models(num_models=1)[0]\n",
    "best_hyperparameters = tuner.get_best_hyperparameters(1)[0]\n",
    "print('HyperParameters: {}'.format(best_hyperparameters.values))"
   ]
  },
  {
   "cell_type": "code",
   "execution_count": 24,
   "id": "numerous-platform",
   "metadata": {},
   "outputs": [
    {
     "name": "stdout",
     "output_type": "stream",
     "text": [
      "Model: \"sequential\"\n",
      "_________________________________________________________________\n",
      "Layer (type)                 Output Shape              Param #   \n",
      "=================================================================\n",
      "flatten (Flatten)            (None, 784)               0         \n",
      "_________________________________________________________________\n",
      "lambda (Lambda)              (None, 784)               0         \n",
      "_________________________________________________________________\n",
      "dense (Dense)                (None, 32)                25120     \n",
      "_________________________________________________________________\n",
      "dropout (Dropout)            (None, 32)                0         \n",
      "_________________________________________________________________\n",
      "dense_1 (Dense)              (None, 32)                1056      \n",
      "_________________________________________________________________\n",
      "dropout_1 (Dropout)          (None, 32)                0         \n",
      "_________________________________________________________________\n",
      "dense_2 (Dense)              (None, 10)                330       \n",
      "=================================================================\n",
      "Total params: 26,506\n",
      "Trainable params: 26,506\n",
      "Non-trainable params: 0\n",
      "_________________________________________________________________\n"
     ]
    }
   ],
   "source": [
    "best_model.summary()"
   ]
  },
  {
   "cell_type": "code",
   "execution_count": 25,
   "id": "consistent-copper",
   "metadata": {},
   "outputs": [
    {
     "name": "stdout",
     "output_type": "stream",
     "text": [
      "313/313 [==============================] - 0s 676us/step - loss: 0.4078 - accuracy: 0.8547\n"
     ]
    }
   ],
   "source": [
    "# Evaluate the best model.\n",
    "loss, accuracy = best_model.evaluate(x_test, y_test)"
   ]
  },
  {
   "cell_type": "code",
   "execution_count": 26,
   "id": "designing-foster",
   "metadata": {},
   "outputs": [
    {
     "name": "stdout",
     "output_type": "stream",
     "text": [
      "WARNING:tensorflow:Unresolved object in checkpoint: (root).optimizer.iter\n",
      "WARNING:tensorflow:Unresolved object in checkpoint: (root).optimizer.beta_1\n",
      "WARNING:tensorflow:Unresolved object in checkpoint: (root).optimizer.beta_2\n",
      "WARNING:tensorflow:Unresolved object in checkpoint: (root).optimizer.decay\n",
      "WARNING:tensorflow:Unresolved object in checkpoint: (root).optimizer.learning_rate\n",
      "WARNING:tensorflow:A checkpoint was restored (e.g. tf.train.Checkpoint.restore or tf.keras.Model.load_weights) but not all checkpointed values were used. See above for specific issues. Use expect_partial() on the load status object, e.g. tf.train.Checkpoint.restore(...).expect_partial(), to silence these warnings, or use assert_consumed() to make the check explicit. See https://www.tensorflow.org/guide/checkpoint#loading_mechanics for details.\n"
     ]
    }
   ],
   "source": [
    "best_model.compile(\n",
    "        loss='sparse_categorical_crossentropy',    \n",
    "        optimizer=tf.keras.optimizers.Adam(learning_rate = best_hyperparameters.get('learning_rate')),\n",
    "        metrics=['accuracy']\n",
    "    )"
   ]
  },
  {
   "cell_type": "code",
   "execution_count": 27,
   "id": "greenhouse-highlight",
   "metadata": {},
   "outputs": [
    {
     "name": "stdout",
     "output_type": "stream",
     "text": [
      "Epoch 1/20\n",
      "469/469 [==============================] - 1s 2ms/step - loss: 0.3994 - accuracy: 0.8564 - val_loss: 0.3964 - val_accuracy: 0.8577\n",
      "Epoch 2/20\n",
      "469/469 [==============================] - 1s 2ms/step - loss: 0.3903 - accuracy: 0.8600 - val_loss: 0.3851 - val_accuracy: 0.8639\n",
      "Epoch 3/20\n",
      "469/469 [==============================] - 1s 2ms/step - loss: 0.3856 - accuracy: 0.8609 - val_loss: 0.3828 - val_accuracy: 0.8644\n",
      "Epoch 4/20\n",
      "469/469 [==============================] - 1s 2ms/step - loss: 0.3782 - accuracy: 0.8630 - val_loss: 0.3852 - val_accuracy: 0.8643\n",
      "Epoch 5/20\n",
      "469/469 [==============================] - 1s 2ms/step - loss: 0.3756 - accuracy: 0.8624 - val_loss: 0.3897 - val_accuracy: 0.8611\n",
      "Epoch 6/20\n",
      "469/469 [==============================] - 1s 2ms/step - loss: 0.3754 - accuracy: 0.8641 - val_loss: 0.3785 - val_accuracy: 0.8658\n",
      "Epoch 7/20\n",
      "469/469 [==============================] - 1s 2ms/step - loss: 0.3721 - accuracy: 0.8650 - val_loss: 0.3808 - val_accuracy: 0.8673\n",
      "Epoch 8/20\n",
      "469/469 [==============================] - 1s 2ms/step - loss: 0.3658 - accuracy: 0.8679 - val_loss: 0.3834 - val_accuracy: 0.8624\n",
      "Epoch 9/20\n",
      "469/469 [==============================] - 1s 2ms/step - loss: 0.3646 - accuracy: 0.8680 - val_loss: 0.3783 - val_accuracy: 0.8653\n",
      "Epoch 10/20\n",
      "469/469 [==============================] - 1s 2ms/step - loss: 0.3641 - accuracy: 0.8665 - val_loss: 0.3839 - val_accuracy: 0.8620\n"
     ]
    }
   ],
   "source": [
    "_ = best_model.fit(\n",
    "    x_train,y_train,\n",
    "    validation_data = (x_test,y_test),\n",
    "    epochs=20, batch_size = 128,\n",
    "    callbacks = [tf.keras.callbacks.EarlyStopping(monitor='val_accuracy',patience=3)]\n",
    ")"
   ]
  },
  {
   "cell_type": "code",
   "execution_count": 28,
   "id": "parliamentary-moldova",
   "metadata": {},
   "outputs": [
    {
     "name": "stdout",
     "output_type": "stream",
     "text": [
      "313/313 [==============================] - 0s 780us/step - loss: 0.3839 - accuracy: 0.8620\n"
     ]
    }
   ],
   "source": [
    "# Evaluate the best model.\n",
    "loss, accuracy = best_model.evaluate(x_test, y_test)"
   ]
  },
  {
   "cell_type": "code",
   "execution_count": 29,
   "id": "expressed-pizza",
   "metadata": {},
   "outputs": [
    {
     "name": "stdout",
     "output_type": "stream",
     "text": [
      "Epoch 1/20\n",
      "469/469 [==============================] - 1s 2ms/step - loss: 0.3564 - accuracy: 0.8709 - val_loss: 0.3753 - val_accuracy: 0.8679\n",
      "Epoch 2/20\n",
      "469/469 [==============================] - 1s 2ms/step - loss: 0.3553 - accuracy: 0.8697 - val_loss: 0.3788 - val_accuracy: 0.8636\n",
      "Epoch 3/20\n",
      "469/469 [==============================] - 1s 2ms/step - loss: 0.3530 - accuracy: 0.8702 - val_loss: 0.3763 - val_accuracy: 0.8674\n",
      "Epoch 4/20\n",
      "469/469 [==============================] - 1s 2ms/step - loss: 0.3517 - accuracy: 0.8712 - val_loss: 0.3762 - val_accuracy: 0.8683\n",
      "Epoch 5/20\n",
      "469/469 [==============================] - 1s 2ms/step - loss: 0.3482 - accuracy: 0.8722 - val_loss: 0.3710 - val_accuracy: 0.8688\n",
      "Epoch 6/20\n",
      "469/469 [==============================] - 1s 2ms/step - loss: 0.3473 - accuracy: 0.8745 - val_loss: 0.3744 - val_accuracy: 0.8698\n",
      "Epoch 7/20\n",
      "469/469 [==============================] - 1s 2ms/step - loss: 0.3437 - accuracy: 0.8750 - val_loss: 0.3717 - val_accuracy: 0.8698\n",
      "Epoch 8/20\n",
      "469/469 [==============================] - 1s 2ms/step - loss: 0.3444 - accuracy: 0.8745 - val_loss: 0.3742 - val_accuracy: 0.8682\n",
      "Epoch 9/20\n",
      "469/469 [==============================] - 1s 2ms/step - loss: 0.3416 - accuracy: 0.8744 - val_loss: 0.3772 - val_accuracy: 0.8691\n"
     ]
    },
    {
     "data": {
      "text/plain": [
       "<tensorflow.python.keras.callbacks.History at 0x2c26e3293a0>"
      ]
     },
     "execution_count": 29,
     "metadata": {},
     "output_type": "execute_result"
    }
   ],
   "source": [
    "best_model.fit(\n",
    "    x_train,y_train,\n",
    "    validation_data = (x_test,y_test),\n",
    "    epochs=20, batch_size = 128,\n",
    "    callbacks = [tf.keras.callbacks.EarlyStopping(monitor='val_accuracy',patience=3)]\n",
    ")"
   ]
  },
  {
   "cell_type": "code",
   "execution_count": 30,
   "id": "oriental-atlanta",
   "metadata": {},
   "outputs": [
    {
     "name": "stdout",
     "output_type": "stream",
     "text": [
      "313/313 [==============================] - 0s 873us/step - loss: 0.3772 - accuracy: 0.8691\n"
     ]
    }
   ],
   "source": [
    "# Evaluate the best model.\n",
    "loss, accuracy = best_model.evaluate(x_test, y_test)"
   ]
  },
  {
   "cell_type": "code",
   "execution_count": null,
   "id": "sunrise-fluid",
   "metadata": {},
   "outputs": [],
   "source": []
  },
  {
   "cell_type": "code",
   "execution_count": null,
   "id": "brutal-watson",
   "metadata": {},
   "outputs": [],
   "source": []
  },
  {
   "cell_type": "code",
   "execution_count": null,
   "id": "resistant-wireless",
   "metadata": {},
   "outputs": [],
   "source": []
  },
  {
   "cell_type": "code",
   "execution_count": null,
   "id": "emerging-range",
   "metadata": {},
   "outputs": [],
   "source": []
  },
  {
   "cell_type": "code",
   "execution_count": null,
   "id": "respective-approval",
   "metadata": {},
   "outputs": [],
   "source": []
  },
  {
   "cell_type": "code",
   "execution_count": null,
   "id": "ancient-absence",
   "metadata": {},
   "outputs": [],
   "source": []
  },
  {
   "cell_type": "code",
   "execution_count": null,
   "id": "narrow-military",
   "metadata": {},
   "outputs": [],
   "source": []
  },
  {
   "cell_type": "code",
   "execution_count": null,
   "id": "accessory-leone",
   "metadata": {},
   "outputs": [],
   "source": []
  },
  {
   "cell_type": "code",
   "execution_count": null,
   "id": "known-salmon",
   "metadata": {},
   "outputs": [],
   "source": []
  }
 ],
 "metadata": {
  "kernelspec": {
   "display_name": "Python 3",
   "language": "python",
   "name": "python3"
  },
  "language_info": {
   "codemirror_mode": {
    "name": "ipython",
    "version": 3
   },
   "file_extension": ".py",
   "mimetype": "text/x-python",
   "name": "python",
   "nbconvert_exporter": "python",
   "pygments_lexer": "ipython3",
   "version": "3.8.2"
  }
 },
 "nbformat": 4,
 "nbformat_minor": 5
}
