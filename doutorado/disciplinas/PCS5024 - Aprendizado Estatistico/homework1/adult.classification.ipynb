{
 "cells": [
  {
   "cell_type": "markdown",
   "id": "0bb10210",
   "metadata": {},
   "source": [
    "## PCS5024 - Aprendizado Estatístico\n",
    " - Primeiro trimestre 2023 \n",
    " - Profs. Anna Helena Realli Costa e Fábio Gagliardi Cozman \n",
    " - Aluno: Caio Azevedo - caio.aze@alumni.usp.br\n",
    " - Entrega em: 30.03.23"
   ]
  },
  {
   "cell_type": "markdown",
   "id": "36e4e7b0",
   "metadata": {},
   "source": [
    "## Trabalho 1 - Descrição\n",
    "A entregar até 31/3 via edisciplinas: uma folha apenas (frente e verso) em formato pdf, contendo descrição concisa relativa às seguintes atividades:\n",
    "\n",
    "1) Obtenha a base Adult (por exemplo no UCI Repository or no Kaggle). \n",
    "\n",
    "Recomendação: leia sobre o UCI Repository e o Kaggle, são recursos importantes.\n",
    "\n",
    "2) Analise os atributos, dados faltantes, e características gerais da base Adult, usando ferramentas da sklearn. Selecione atributos, discretize atributos numéricos, processe dados faltantes. Se possível use Jupyter para desenvolver seu trabalho.\n",
    "\n",
    "3) Construa um classificador para a variável \">50k\" da base Adult (ou seja, se a pessoa ganha mais do que US$50k por ano ou não). Use um classificador Nearest Neighbour com seleção de hiperparâmetro via validação cruzada; se preferir, divida a base de treino em duas partes respectivamente para treino e validação. \n",
    "\n",
    "5) Apresente acurácia, precisão e revocação do melhor classificador Nearest Neighbour obtido.\n",
    "\n",
    "6) Ponto extra: teste um classificador Naive Bayes para a mesma variável com os mesmos atributos."
   ]
  },
  {
   "cell_type": "markdown",
   "id": "f318230e",
   "metadata": {},
   "source": [
    "## Objetivo\n",
    " - Análise para classificação das pessoas que ganham mais de U$50k por ano. \n",
    " - **Projeto Classificação Binária**"
   ]
  },
  {
   "cell_type": "markdown",
   "id": "6af401a6",
   "metadata": {},
   "source": [
    "## Sobre o dataset\n",
    "\n",
    "### Características descritivas\n",
    "| Data Set Characteristics | Number of Instances | Attribute Characteristics | Number of Attributes | Associated Tasks | Missing Values? \n",
    "| --- | --- | --- | --- | --- | --- \n",
    "| Multivariate | 48842 | Categorical, Integer | 14 | Classification | Yes \n",
    "\n",
    "### Sobre os atributos\n",
    "\n",
    "- **salary** (target): >50K, <=50K.\n",
    "\n",
    "- **age**: continuous.\n",
    "- **workclass**: Private, Self-emp-not-inc, Self-emp-inc, Federal-gov, Local-gov, State-gov, Without-pay, Never-worked.\n",
    "- **fnlwgt**: continuous.\n",
    "- **education**: Bachelors, Some-college, 11th, HS-grad, Prof-school, Assoc-acdm, Assoc-voc, 9th, 7th-8th, 12th, - -  - Masters, 1st-4th, 10th, Doctorate, 5th-6th, Preschool.\n",
    "- **education-num**: continuous.\n",
    "- **marital-status**: Married-civ-spouse, Divorced, Never-married, Separated, Widowed, Married-spouse-absent, Married-AF-spouse.\n",
    "- **occupation**: Tech-support, Craft-repair, Other-service, Sales, Exec-managerial, Prof-specialty, Handlers-cleaners, Machine-op-inspct, Adm-clerical, Farming-fishing, Transport-moving, Priv-house-serv, Protective-serv, Armed-Forces.\n",
    "- **relationship**: Wife, Own-child, Husband, Not-in-family, Other-relative, Unmarried.\n",
    "- **race**: White, Asian-Pac-Islander, Amer-Indian-Eskimo, Other, Black.\n",
    "- **sex**: Female, Male.\n",
    "- **capital-gain**: continuous.\n",
    "- **capital-loss**: continuous.\n",
    "- **hours-per-week**: continuous.\n",
    "- **native-country**: United-States, Cambodia, England, Puerto-Rico, Canada, Germany, Outlying-US(Guam-USVI-etc), India, Japan, Greece, South, China, Cuba, Iran, Honduras, Philippines, Italy, Poland, Jamaica, Vietnam, Mexico, Portugal, Ireland, France, Dominican-Republic, Laos, Ecuador, Taiwan, Haiti, Columbia, Hungary, Guatemala, Nicaragua, Scotland, Thailand, Yugoslavia, El-Salvador, Trinadad&Tobago, Peru, Hong, Holand-Netherlands."
   ]
  },
  {
   "cell_type": "markdown",
   "id": "7698a648",
   "metadata": {},
   "source": [
    "## Referências:\n",
    " - https://archive.ics.uci.edu/ml/datasets/adult\n",
    " - https://archive.ics.uci.edu/ml/machine-learning-databases/adult/\n",
    " - http://www.cs.toronto.edu/~delve/data/adult/adultDetail.html\n",
    " - http://www.cs.toronto.edu/~delve/data/adult/desc.html\n",
    " - https://www.scaler.com/topics/data-science/categorical-missing-values/ "
   ]
  },
  {
   "cell_type": "markdown",
   "id": "7ab35b19",
   "metadata": {},
   "source": []
  },
  {
   "cell_type": "markdown",
   "id": "954990a7",
   "metadata": {},
   "source": [
    " boas implementações\n",
    " - https://www.kaggle.com/code/bhupendrarajput/complete-eda-and-machine-learning\n",
    " - https://machinelearningmastery.com/imbalanced-classification-with-the-adult-income-dataset/\n",
    " - https://arxiv.org/ftp/arxiv/papers/1810/1810.10076.pdf\n",
    " - https://github.com/itdxer/adult-dataset-analysis"
   ]
  },
  {
   "cell_type": "markdown",
   "id": "aa7eadc7",
   "metadata": {},
   "source": [
    "## Implementação"
   ]
  },
  {
   "cell_type": "markdown",
   "id": "e9cbbe62",
   "metadata": {},
   "source": [
    "### Importação bibliotecas"
   ]
  },
  {
   "cell_type": "code",
   "execution_count": 10,
   "id": "6dfed108",
   "metadata": {},
   "outputs": [],
   "source": [
    "import pandas as pd\n",
    "import numpy as np\n",
    "from sklearn.linear_model import LogisticRegression\n",
    "from sklearn.ensemble import RandomForestClassifier\n",
    "from sklearn.naive_bayes import GaussianNB\n",
    "from sklearn.preprocessing import StandardScaler\n",
    "from sklearn.svm import SVC\n",
    "from sklearn.metrics import accuracy_score\n",
    "from sklearn.model_selection import RandomizedSearchCV\n",
    "from sklearn import preprocessing\n",
    "from sklearn.compose import ColumnTransformer\n",
    "from sklearn.preprocessing import OrdinalEncoder\n",
    "from sklearn.model_selection import GridSearchCV"
   ]
  },
  {
   "cell_type": "code",
   "execution_count": 11,
   "id": "aea1a868",
   "metadata": {},
   "outputs": [],
   "source": [
    "import matplotlib.pyplot as plt\n",
    "import seaborn as sns\n",
    "from pandas_profiling import ProfileReport"
   ]
  },
  {
   "cell_type": "code",
   "execution_count": 12,
   "id": "9941dc90",
   "metadata": {},
   "outputs": [],
   "source": [
    "import os, sys\n",
    "import pandas as pd\n",
    "from sklearn.model_selection import train_test_split\n",
    "import missingno as msno\n",
    "from sklearn.impute import SimpleImputer\n",
    "%matplotlib inline"
   ]
  },
  {
   "cell_type": "markdown",
   "id": "0ba6ff81",
   "metadata": {},
   "source": [
    "### Constantes"
   ]
  },
  {
   "cell_type": "code",
   "execution_count": 33,
   "id": "c2eef275",
   "metadata": {},
   "outputs": [],
   "source": [
    "#'https://raw.githubusercontent.com/Bhupendra1770/Adult-Census-Income-Prediction/main/adult.csv'\n",
    "APP_PATH = os.getcwd()\n",
    "DATA_DIR = os.path.join(APP_PATH, 'data')\n",
    "TRAIN_DATA_FILE = os.path.join(DATA_DIR, 'adult.data.csv')\n",
    "TEST_DATA_FILE = os.path.join(DATA_DIR, 'adult.test.csv')\n",
    "target_column = \"income\""
   ]
  },
  {
   "cell_type": "markdown",
   "id": "ed63f5ec",
   "metadata": {},
   "source": [
    "### Leitura e tratamento inicial da amostra"
   ]
  },
  {
   "cell_type": "markdown",
   "id": "aeb7d62b",
   "metadata": {},
   "source": [
    " **Considerações do autor**: \n",
    " - Os arquivos obtidos da url de referência foram divididos em adult.data, contendo **32.561** registros e o arquivo adult.test com 16.281 registros, um total de **48.842** registros. \n",
    " - Para esse estudo, mudei o formato dos arquivos para csv e incluir os nomes das colunas manualmente, conforme descrição do dataset e mantive os arquivos originais na pasta 'data' desse projeto. \n",
    " - Sendo assim, o arquivo adult.data.csv, será utilizado para o treinamento e validação das técnicas de classificação, enquanto que o arquivo adult.test.csv, será utilizada para testar seus respectivos desempenhos.\n",
    " **Preprocessamento & análise exploratória dos dados (EDA)**\n",
    " - observou-se que não temos atributos preenchidos com null (NaN), no entanto, dados desconhecidos/faltantes estão preenchidos com o caracter '?'\n",
    " - para facilitar o tratamento dos dados, por conta dos métodos de tratamento de nulls, substitui o caracter '?' por nulo/NaN"
   ]
  },
  {
   "cell_type": "code",
   "execution_count": 75,
   "id": "7e830cc0",
   "metadata": {},
   "outputs": [],
   "source": [
    "def read_dataset(path):\n",
    "    return pd.read_csv(\n",
    "        path,\n",
    "        index_col=None,\n",
    "\n",
    "        comment='|',  # test dataset has comment in it\n",
    "        skipinitialspace=True,  # Skip spaces after delimiter\n",
    "        na_values={              #identificamos que alguns atributos possuem '?'\n",
    "            'capital_gain': 99999,\n",
    "            'workclass': '?',\n",
    "            'native-country': '?',\n",
    "            'occupation': '?',\n",
    "        },\n",
    "    )\n",
    "\n",
    "def clean_dataset(data):\n",
    "    # Por algum motivo o dataset de teste tem um ponto (.) no final da coluna salary, sendo necessário remove-lo\n",
    "    data['salary'] = data.salary.str.rstrip('.')\n",
    "    \n",
    "    # Remoção das colunas colunas abaixo, pois entendemos que elas não são \n",
    "    # relevantes para classificação.\n",
    "    data = data.drop('fnlwgt', axis=1)\n",
    "    data = data.drop('education.num', axis=1)\n",
    "    data = data.drop('capital-gain', axis=1)\n",
    "    data = data.drop('capital-loss', axis=1)\n",
    "    \n",
    "    \n",
    "    # Duplicates might create biases during the analysis and\n",
    "    # during prediction stage they might give over-optimistic\n",
    "    # (or pessimistic) results.\n",
    "    data = data.drop_duplicates()\n",
    "    \n",
    "    # Binarize target variable (>50K == 1 and <=50K == 0)\n",
    "    data[target_column] = (data[target_column] == '>50K').astype(int)\n",
    "\n",
    "    return data"
   ]
  },
  {
   "cell_type": "code",
   "execution_count": 76,
   "id": "e4db62a7",
   "metadata": {},
   "outputs": [
    {
     "name": "stdout",
     "output_type": "stream",
     "text": [
      "Percentual da variável target positivas na amostra de treino: 23.77%\n"
     ]
    }
   ],
   "source": [
    "train_data = clean_dataset(read_dataset(TRAIN_DATA_FILE))\n",
    "test_data = clean_dataset(read_dataset(TEST_DATA_FILE))\n",
    "print(\"Percentual da variável target positivas na amostra de treino: {:.2%}\".format(np.mean(train_data.salary)))"
   ]
  },
  {
   "cell_type": "code",
   "execution_count": 77,
   "id": "cdf8ca13",
   "metadata": {},
   "outputs": [
    {
     "data": {
      "text/html": [
       "<div>\n",
       "<style scoped>\n",
       "    .dataframe tbody tr th:only-of-type {\n",
       "        vertical-align: middle;\n",
       "    }\n",
       "\n",
       "    .dataframe tbody tr th {\n",
       "        vertical-align: top;\n",
       "    }\n",
       "\n",
       "    .dataframe thead th {\n",
       "        text-align: right;\n",
       "    }\n",
       "</style>\n",
       "<table border=\"1\" class=\"dataframe\">\n",
       "  <thead>\n",
       "    <tr style=\"text-align: right;\">\n",
       "      <th></th>\n",
       "      <th>age</th>\n",
       "      <th>workclass</th>\n",
       "      <th>education</th>\n",
       "      <th>education-num</th>\n",
       "      <th>marital-status</th>\n",
       "      <th>occupation</th>\n",
       "      <th>relationship</th>\n",
       "      <th>race</th>\n",
       "      <th>sex</th>\n",
       "      <th>hours-per-week</th>\n",
       "      <th>native-country</th>\n",
       "      <th>salary</th>\n",
       "    </tr>\n",
       "  </thead>\n",
       "  <tbody>\n",
       "    <tr>\n",
       "      <th>0</th>\n",
       "      <td>39</td>\n",
       "      <td>State-gov</td>\n",
       "      <td>Bachelors</td>\n",
       "      <td>13</td>\n",
       "      <td>Never-married</td>\n",
       "      <td>Adm-clerical</td>\n",
       "      <td>Not-in-family</td>\n",
       "      <td>White</td>\n",
       "      <td>Male</td>\n",
       "      <td>40</td>\n",
       "      <td>United-States</td>\n",
       "      <td>0</td>\n",
       "    </tr>\n",
       "    <tr>\n",
       "      <th>1</th>\n",
       "      <td>50</td>\n",
       "      <td>Self-emp-not-inc</td>\n",
       "      <td>Bachelors</td>\n",
       "      <td>13</td>\n",
       "      <td>Married-civ-spouse</td>\n",
       "      <td>Exec-managerial</td>\n",
       "      <td>Husband</td>\n",
       "      <td>White</td>\n",
       "      <td>Male</td>\n",
       "      <td>13</td>\n",
       "      <td>United-States</td>\n",
       "      <td>0</td>\n",
       "    </tr>\n",
       "    <tr>\n",
       "      <th>2</th>\n",
       "      <td>38</td>\n",
       "      <td>Private</td>\n",
       "      <td>HS-grad</td>\n",
       "      <td>9</td>\n",
       "      <td>Divorced</td>\n",
       "      <td>Handlers-cleaners</td>\n",
       "      <td>Not-in-family</td>\n",
       "      <td>White</td>\n",
       "      <td>Male</td>\n",
       "      <td>40</td>\n",
       "      <td>United-States</td>\n",
       "      <td>0</td>\n",
       "    </tr>\n",
       "    <tr>\n",
       "      <th>3</th>\n",
       "      <td>53</td>\n",
       "      <td>Private</td>\n",
       "      <td>11th</td>\n",
       "      <td>7</td>\n",
       "      <td>Married-civ-spouse</td>\n",
       "      <td>Handlers-cleaners</td>\n",
       "      <td>Husband</td>\n",
       "      <td>Black</td>\n",
       "      <td>Male</td>\n",
       "      <td>40</td>\n",
       "      <td>United-States</td>\n",
       "      <td>0</td>\n",
       "    </tr>\n",
       "    <tr>\n",
       "      <th>4</th>\n",
       "      <td>28</td>\n",
       "      <td>Private</td>\n",
       "      <td>Bachelors</td>\n",
       "      <td>13</td>\n",
       "      <td>Married-civ-spouse</td>\n",
       "      <td>Prof-specialty</td>\n",
       "      <td>Wife</td>\n",
       "      <td>Black</td>\n",
       "      <td>Female</td>\n",
       "      <td>40</td>\n",
       "      <td>Cuba</td>\n",
       "      <td>0</td>\n",
       "    </tr>\n",
       "  </tbody>\n",
       "</table>\n",
       "</div>"
      ],
      "text/plain": [
       "   age         workclass  education  education-num      marital-status  \\\n",
       "0   39         State-gov  Bachelors             13       Never-married   \n",
       "1   50  Self-emp-not-inc  Bachelors             13  Married-civ-spouse   \n",
       "2   38           Private    HS-grad              9            Divorced   \n",
       "3   53           Private       11th              7  Married-civ-spouse   \n",
       "4   28           Private  Bachelors             13  Married-civ-spouse   \n",
       "\n",
       "          occupation   relationship   race     sex  hours-per-week  \\\n",
       "0       Adm-clerical  Not-in-family  White    Male              40   \n",
       "1    Exec-managerial        Husband  White    Male              13   \n",
       "2  Handlers-cleaners  Not-in-family  White    Male              40   \n",
       "3  Handlers-cleaners        Husband  Black    Male              40   \n",
       "4     Prof-specialty           Wife  Black  Female              40   \n",
       "\n",
       "  native-country  salary  \n",
       "0  United-States       0  \n",
       "1  United-States       0  \n",
       "2  United-States       0  \n",
       "3  United-States       0  \n",
       "4           Cuba       0  "
      ]
     },
     "execution_count": 77,
     "metadata": {},
     "output_type": "execute_result"
    }
   ],
   "source": [
    "train_data.head(5)"
   ]
  },
  {
   "cell_type": "code",
   "execution_count": 74,
   "id": "fc22feeb",
   "metadata": {},
   "outputs": [],
   "source": []
  },
  {
   "cell_type": "code",
   "execution_count": 67,
   "id": "5d42dad8",
   "metadata": {},
   "outputs": [],
   "source": [
    "df = train_data.copy()"
   ]
  },
  {
   "cell_type": "markdown",
   "id": "8df81d66",
   "metadata": {},
   "source": [
    "#profile = ProfileReport(df, title=\"Análise das features da base do Guarujá\")\n",
    "#profile"
   ]
  },
  {
   "cell_type": "code",
   "execution_count": 68,
   "id": "15ffef5e",
   "metadata": {},
   "outputs": [],
   "source": []
  },
  {
   "cell_type": "markdown",
   "id": "da3adddd",
   "metadata": {},
   "source": [
    " - remoção de atributos considerados irrelevantes para análise"
   ]
  },
  {
   "cell_type": "code",
   "execution_count": 40,
   "id": "f76d9ff4",
   "metadata": {},
   "outputs": [],
   "source": []
  },
  {
   "cell_type": "code",
   "execution_count": 41,
   "id": "f7722205",
   "metadata": {},
   "outputs": [
    {
     "data": {
      "text/html": [
       "<div>\n",
       "<style scoped>\n",
       "    .dataframe tbody tr th:only-of-type {\n",
       "        vertical-align: middle;\n",
       "    }\n",
       "\n",
       "    .dataframe tbody tr th {\n",
       "        vertical-align: top;\n",
       "    }\n",
       "\n",
       "    .dataframe thead th {\n",
       "        text-align: right;\n",
       "    }\n",
       "</style>\n",
       "<table border=\"1\" class=\"dataframe\">\n",
       "  <thead>\n",
       "    <tr style=\"text-align: right;\">\n",
       "      <th></th>\n",
       "      <th>age</th>\n",
       "      <th>workclass</th>\n",
       "      <th>education</th>\n",
       "      <th>education-num</th>\n",
       "      <th>marital-status</th>\n",
       "      <th>occupation</th>\n",
       "      <th>relationship</th>\n",
       "      <th>race</th>\n",
       "      <th>sex</th>\n",
       "      <th>hours-per-week</th>\n",
       "      <th>native-country</th>\n",
       "      <th>salary</th>\n",
       "    </tr>\n",
       "  </thead>\n",
       "  <tbody>\n",
       "    <tr>\n",
       "      <th>0</th>\n",
       "      <td>39</td>\n",
       "      <td>State-gov</td>\n",
       "      <td>Bachelors</td>\n",
       "      <td>13</td>\n",
       "      <td>Never-married</td>\n",
       "      <td>Adm-clerical</td>\n",
       "      <td>Not-in-family</td>\n",
       "      <td>White</td>\n",
       "      <td>Male</td>\n",
       "      <td>40</td>\n",
       "      <td>United-States</td>\n",
       "      <td>&lt;=50K</td>\n",
       "    </tr>\n",
       "    <tr>\n",
       "      <th>1</th>\n",
       "      <td>50</td>\n",
       "      <td>Self-emp-not-inc</td>\n",
       "      <td>Bachelors</td>\n",
       "      <td>13</td>\n",
       "      <td>Married-civ-spouse</td>\n",
       "      <td>Exec-managerial</td>\n",
       "      <td>Husband</td>\n",
       "      <td>White</td>\n",
       "      <td>Male</td>\n",
       "      <td>13</td>\n",
       "      <td>United-States</td>\n",
       "      <td>&lt;=50K</td>\n",
       "    </tr>\n",
       "    <tr>\n",
       "      <th>2</th>\n",
       "      <td>38</td>\n",
       "      <td>Private</td>\n",
       "      <td>HS-grad</td>\n",
       "      <td>9</td>\n",
       "      <td>Divorced</td>\n",
       "      <td>Handlers-cleaners</td>\n",
       "      <td>Not-in-family</td>\n",
       "      <td>White</td>\n",
       "      <td>Male</td>\n",
       "      <td>40</td>\n",
       "      <td>United-States</td>\n",
       "      <td>&lt;=50K</td>\n",
       "    </tr>\n",
       "    <tr>\n",
       "      <th>3</th>\n",
       "      <td>53</td>\n",
       "      <td>Private</td>\n",
       "      <td>11th</td>\n",
       "      <td>7</td>\n",
       "      <td>Married-civ-spouse</td>\n",
       "      <td>Handlers-cleaners</td>\n",
       "      <td>Husband</td>\n",
       "      <td>Black</td>\n",
       "      <td>Male</td>\n",
       "      <td>40</td>\n",
       "      <td>United-States</td>\n",
       "      <td>&lt;=50K</td>\n",
       "    </tr>\n",
       "    <tr>\n",
       "      <th>4</th>\n",
       "      <td>28</td>\n",
       "      <td>Private</td>\n",
       "      <td>Bachelors</td>\n",
       "      <td>13</td>\n",
       "      <td>Married-civ-spouse</td>\n",
       "      <td>Prof-specialty</td>\n",
       "      <td>Wife</td>\n",
       "      <td>Black</td>\n",
       "      <td>Female</td>\n",
       "      <td>40</td>\n",
       "      <td>Cuba</td>\n",
       "      <td>&lt;=50K</td>\n",
       "    </tr>\n",
       "  </tbody>\n",
       "</table>\n",
       "</div>"
      ],
      "text/plain": [
       "   age         workclass  education  education-num      marital-status  \\\n",
       "0   39         State-gov  Bachelors             13       Never-married   \n",
       "1   50  Self-emp-not-inc  Bachelors             13  Married-civ-spouse   \n",
       "2   38           Private    HS-grad              9            Divorced   \n",
       "3   53           Private       11th              7  Married-civ-spouse   \n",
       "4   28           Private  Bachelors             13  Married-civ-spouse   \n",
       "\n",
       "          occupation   relationship   race     sex  hours-per-week  \\\n",
       "0       Adm-clerical  Not-in-family  White    Male              40   \n",
       "1    Exec-managerial        Husband  White    Male              13   \n",
       "2  Handlers-cleaners  Not-in-family  White    Male              40   \n",
       "3  Handlers-cleaners        Husband  Black    Male              40   \n",
       "4     Prof-specialty           Wife  Black  Female              40   \n",
       "\n",
       "  native-country salary  \n",
       "0  United-States  <=50K  \n",
       "1  United-States  <=50K  \n",
       "2  United-States  <=50K  \n",
       "3  United-States  <=50K  \n",
       "4           Cuba  <=50K  "
      ]
     },
     "execution_count": 41,
     "metadata": {},
     "output_type": "execute_result"
    }
   ],
   "source": [
    "#remove eventuais espaços vazios no inicio e/ou fim das colunas do tipo string 'object'\n",
    "for i in df.columns:\n",
    "    if df[i].dtype=='object':\n",
    "        df[i] = df[i].str.strip()\n",
    "\n",
    "df.head()"
   ]
  },
  {
   "cell_type": "code",
   "execution_count": null,
   "id": "26592415",
   "metadata": {},
   "outputs": [],
   "source": [
    "df = df.replace('?', np.nan)"
   ]
  },
  {
   "cell_type": "code",
   "execution_count": null,
   "id": "858faf9d",
   "metadata": {},
   "outputs": [],
   "source": [
    "df.info()"
   ]
  },
  {
   "cell_type": "code",
   "execution_count": null,
   "id": "bfb2e7c3",
   "metadata": {},
   "outputs": [],
   "source": [
    "df.shape"
   ]
  },
  {
   "cell_type": "code",
   "execution_count": 69,
   "id": "6a6a6ba0",
   "metadata": {},
   "outputs": [
    {
     "data": {
      "text/plain": [
       "<AxesSubplot:>"
      ]
     },
     "execution_count": 69,
     "metadata": {},
     "output_type": "execute_result"
    },
    {
     "data": {
      "image/png": "[encoded data removed]",
      "text/plain": [
       "<Figure size 1800x720 with 3 Axes>"
      ]
     },
     "metadata": {
      "needs_background": "light"
     },
     "output_type": "display_data"
    }
   ],
   "source": [
    "#visualiza a quantidade de registros nulos por atributo\n",
    "msno.bar(df)"
   ]
  },
  {
   "cell_type": "markdown",
   "id": "81d4defe",
   "metadata": {},
   "source": [
    "- observa-se que algums colunas estão totalmente preenchidas, por exemplo age, education, race etc. no entanto, outras colunas possuem valor nulo, tais como workclass, occupation e country."
   ]
  },
  {
   "cell_type": "code",
   "execution_count": 70,
   "id": "3ec945b0",
   "metadata": {},
   "outputs": [
    {
     "data": {
      "text/plain": [
       "age                  0\n",
       "workclass         1632\n",
       "education            0\n",
       "education-num        0\n",
       "marital-status       0\n",
       "occupation        1639\n",
       "relationship         0\n",
       "race                 0\n",
       "sex                  0\n",
       "capital-gain         0\n",
       "capital-loss         0\n",
       "hours-per-week       0\n",
       "native-country       0\n",
       "salary               0\n",
       "dtype: int64"
      ]
     },
     "execution_count": 70,
     "metadata": {},
     "output_type": "execute_result"
    }
   ],
   "source": [
    "#total de registros nulos por atributo. \n",
    "df.isnull().sum()"
   ]
  },
  {
   "cell_type": "markdown",
   "id": "4c7dec2d",
   "metadata": {},
   "source": [
    "### Tratando dados faltantes\n",
    " - optaremos por três abordagens para o tratamento dos dados faltantes, visto que todos eles são categoricos.\n",
    " 1. remoção dos registros que possuam pelo menos um dado faltante.\n",
    " 2. preencher os dados faltantes pelo mais frequente na amostra (moda)\n",
    " 3. preencher os dados faltantes por meio de um modelo de classificação (RandomForest ou LogistcRegression)\n",
    " \n",
    " - as abordagens 2 e 3 foram consideradas, uma vez que somente menos que 1% (30162/32561) da amostra possui dados faltantes.\n",
    " - para efeito de classificação, será considerada a abordagem que resultar no melhor desempenho dos modelos utilizados"
   ]
  },
  {
   "cell_type": "code",
   "execution_count": null,
   "id": "9e08f98a",
   "metadata": {},
   "outputs": [],
   "source": [
    "#dropnulls | most_frequent | \n",
    "lang = \"nada\"\n",
    "\n",
    "match lang:\n",
    "    case \"dropnulls\":\n",
    "        #df.dropna(axis=0, inplace=True)\n",
    "        df.isnull().sum()\n",
    "        print(\"nulos apagados\")\n",
    "\n",
    "    case \"most_frequent\":\n",
    "        impute_mode = SimpleImputer(strategy = 'most_frequent')\n",
    "        impute_mode.fit(df[['workclass', 'occupation','native-country']])\n",
    "        df[['workclass', 'occupation','native-country']] = impute_mode.transform(df[['workclass', 'occupation','native-country']])\n",
    "        print(\"nulos preenchidos com os registros mais frequentes\")\n",
    "\n",
    "    case _:\n",
    "        print(\"nenhuma das opções válidas\")"
   ]
  },
  {
   "cell_type": "markdown",
   "id": "85ecaf90",
   "metadata": {},
   "source": [
    "#### remoção dos registros (linhas)"
   ]
  },
  {
   "cell_type": "code",
   "execution_count": null,
   "id": "a1760c6a",
   "metadata": {},
   "outputs": [],
   "source": [
    "#df.dropna(axis=0, inplace=True)\n",
    "df.isnull().sum()"
   ]
  },
  {
   "cell_type": "code",
   "execution_count": null,
   "id": "7f401883",
   "metadata": {},
   "outputs": [],
   "source": [
    "df.shape"
   ]
  },
  {
   "cell_type": "markdown",
   "id": "f3686d54",
   "metadata": {},
   "source": [
    " - **2399** de 32561 registros excluídos da amostra"
   ]
  },
  {
   "cell_type": "markdown",
   "id": "a2452fbf",
   "metadata": {},
   "source": [
    "#### dados faltantes com os mais frequentes"
   ]
  },
  {
   "cell_type": "code",
   "execution_count": null,
   "id": "a4599c42",
   "metadata": {},
   "outputs": [],
   "source": [
    "impute_mode = SimpleImputer(strategy = 'most_frequent')\n",
    "impute_mode.fit(df[['workclass', 'occupation','native-country']])\n",
    "df[['workclass', 'occupation','native-country']] = impute_mode.transform(df[['workclass', 'occupation','native-country']])"
   ]
  },
  {
   "cell_type": "code",
   "execution_count": null,
   "id": "a55199a2",
   "metadata": {},
   "outputs": [],
   "source": [
    "df.isnull().sum()"
   ]
  },
  {
   "cell_type": "code",
   "execution_count": null,
   "id": "4cdfcec9",
   "metadata": {},
   "outputs": [],
   "source": [
    "df.shape"
   ]
  },
  {
   "cell_type": "markdown",
   "id": "bd431d07",
   "metadata": {},
   "source": [
    "- nenhum registro excluído da amostra, todos os dados faltantes substituidos pelo mais frequente. "
   ]
  },
  {
   "cell_type": "markdown",
   "id": "cbae6464",
   "metadata": {},
   "source": [
    "#### dados faltantes com um modelo de classificação"
   ]
  },
  {
   "cell_type": "code",
   "execution_count": null,
   "id": "c4ca8779",
   "metadata": {},
   "outputs": [],
   "source": [
    "# To perform KNN imputation, we need to normalize the input data and perform One Hot Encoding to categorical variables\n",
    "#from sklearn.impute import KNNImputer\n",
    "#imputer = KNNImputer(n_neighbors = 3)\n",
    "#df = pd.DataFrame(imputer.fit_transform(df),columns = df.columns)"
   ]
  },
  {
   "cell_type": "code",
   "execution_count": null,
   "id": "0954df5d",
   "metadata": {},
   "outputs": [],
   "source": [
    "#X = df.drop(\"workclass\", axis=1).values\n",
    "#Y = df[\"workclass\"].values"
   ]
  },
  {
   "cell_type": "code",
   "execution_count": null,
   "id": "02035406",
   "metadata": {},
   "outputs": [],
   "source": [
    "#X_train, X_test, Y_train, Y_test = train_test_split(X, Y, test_size=0.1, random_state=0)"
   ]
  },
  {
   "cell_type": "code",
   "execution_count": null,
   "id": "374ff4ed",
   "metadata": {},
   "outputs": [],
   "source": [
    "#forest = RandomForestClassifier(n_estimators=45, max_depth=25, random_state=False, max_features=0.6, min_samples_leaf=3, n_jobs=-1)\n",
    "#forest.fit(X_train, Y_train)"
   ]
  },
  {
   "cell_type": "markdown",
   "id": "426e9b79",
   "metadata": {},
   "source": [
    "### Transformação da coluna target (salary)"
   ]
  },
  {
   "cell_type": "markdown",
   "id": "83dc440d",
   "metadata": {},
   "source": [
    " - optamos por atribuir 0 para os salários <= 50k e 1 para os maiores que 50k"
   ]
  },
  {
   "cell_type": "code",
   "execution_count": null,
   "id": "c189c7a3",
   "metadata": {},
   "outputs": [],
   "source": [
    "#codificação da coluna target, salario, para classificação binária.\n",
    "df['salary']=df['salary'].replace('<=50K',0)\n",
    "df['salary']=df['salary'].replace('>50K',1)"
   ]
  },
  {
   "cell_type": "markdown",
   "id": "537f771b",
   "metadata": {},
   "source": [
    "### Explorando relação da variável target e os demais atributos"
   ]
  },
  {
   "cell_type": "code",
   "execution_count": null,
   "id": "97420b7f",
   "metadata": {},
   "outputs": [],
   "source": [
    "#increasing default charts dimensions\n",
    "sns.set(rc={'figure.figsize':(11.7,8.27)})"
   ]
  },
  {
   "cell_type": "code",
   "execution_count": null,
   "id": "ed6cd155",
   "metadata": {},
   "outputs": [],
   "source": [
    "#Distribuição dos salários da amostra (percebe-se que ela está, sob esse critério, desbalanceada)\n",
    "ax = sns.countplot(x=\"salary\", data=df, palette=\"Blues_d\")\n",
    "plt.subplots_adjust(bottom=0.4)\n",
    "for p in ax.patches:\n",
    "    ax.annotate(str(p.get_height()), (p.get_x()+0.35, p.get_height()+2))\n",
    "plt.ylabel('Frequência')\n",
    "plt.show()"
   ]
  },
  {
   "cell_type": "code",
   "execution_count": null,
   "id": "bb63ba1b",
   "metadata": {},
   "outputs": [],
   "source": [
    "#checking male and female ration according to their salary\n",
    "class_sex = pd.crosstab(df['salary'],df['sex'])\n",
    "class_sex.plot(kind='bar')"
   ]
  },
  {
   "cell_type": "code",
   "execution_count": null,
   "id": "902f688c",
   "metadata": {},
   "outputs": [],
   "source": [
    "sns.barplot(x=\"sex\",y=\"tip\",data=tips, hue='day',capsize=.02)"
   ]
  },
  {
   "cell_type": "code",
   "execution_count": null,
   "id": "798055f6",
   "metadata": {},
   "outputs": [],
   "source": [
    "sns.histplot(x=\"workclass\",data=df, bins=15, kde=False, hue='salary')"
   ]
  },
  {
   "cell_type": "code",
   "execution_count": null,
   "id": "aceefe0b",
   "metadata": {},
   "outputs": [],
   "source": [
    "df_salary_view = df.copy()\n",
    "df_salary_view = df_salary_view.groupby('salary').agg(['mean','sum']) #,'std', 'max', 'min'"
   ]
  },
  {
   "cell_type": "code",
   "execution_count": null,
   "id": "f2a1e408",
   "metadata": {},
   "outputs": [],
   "source": [
    "df_view = df_salary_view.melt(ignore_index=False,var_name=['Variável','Estatística']).reset_index()\n",
    "df_view"
   ]
  },
  {
   "cell_type": "code",
   "execution_count": null,
   "id": "2481fb53",
   "metadata": {},
   "outputs": [],
   "source": [
    "var_names = df_view['Variável'].unique()"
   ]
  },
  {
   "cell_type": "code",
   "execution_count": null,
   "id": "67f079a6",
   "metadata": {},
   "outputs": [],
   "source": [
    "fig, ax = plt.subplots(len(var_names),1, figsize=(10, 30), );\n",
    "for i,j in enumerate(var_names):\n",
    "    if (j == 'workclass') | (j == 'education') | (j == 'race') | (j == 'relationship'):\n",
    "        ax[i].set_title('sum')\n",
    "        ESTATISTIC = 'sum'\n",
    "    else:\n",
    "        ax[i].set_title('mean')\n",
    "        ESTATISTIC = 'mean'\n",
    "    sns.barplot(data=df_view[(df_view['Estatística'] == ESTATISTIC) & (df_view['Variável'] == j)], \n",
    "                x='salary', \n",
    "                y='value', \n",
    "                ax=ax[i])\n",
    "    ax[i].grid(True)\n",
    "    if i < len(var_names)-1:\n",
    "        ax[i].set_xlabel('')\n",
    "    ax[i].set_ylabel(j)\n",
    "plt.show()"
   ]
  },
  {
   "cell_type": "code",
   "execution_count": null,
   "id": "d8ea6534",
   "metadata": {},
   "outputs": [],
   "source": [
    "#categorical columns\n",
    "cat_col=[]\n",
    "for i in df.columns:\n",
    "    if df[i].dtype=='object':\n",
    "        cat_col.append(i)\n",
    "        \n",
    "cat_col  "
   ]
  },
  {
   "cell_type": "code",
   "execution_count": null,
   "id": "973b0a97",
   "metadata": {},
   "outputs": [],
   "source": [
    "# categorical columns\n",
    "plt.suptitle('Univariate Analysis of Categorical Features', fontsize=20, fontweight='bold', alpha=0.8, y=1.)\n",
    "for i in range(0, len(cat_col)):\n",
    "    plt.figure(figsize=(40, 50))\n",
    "    plt.subplot(8, 3, i+1)\n",
    "    #sns.countplot(x=df[cat_col[i]])\n",
    "    #plt.xlabel(cat_col[i])\n",
    "    #plt.xticks(rotation=45)\n",
    "    #plt.tight_layout()\n",
    "    ax = sns.countplot(x=df[cat_col[i]], data=df, palette=\"Blues_d\")\n",
    "    plt.subplots_adjust(bottom=0.4)\n",
    "    for p in ax.patches:\n",
    "        ax.annotate(str(p.get_height()), (p.get_x()+0.35, p.get_height()+2))\n",
    "    plt.xticks(rotation=45)\n",
    "    plt.xlabel(cat_col[i])\n",
    "    plt.ylabel('Frequência')\n",
    "    plt.tight_layout()\n",
    "    #plt.show()"
   ]
  },
  {
   "cell_type": "code",
   "execution_count": null,
   "id": "d4e16605",
   "metadata": {},
   "outputs": [],
   "source": [
    "plt.suptitle('Univariate Analysis of Categorical Features', fontsize=20, fontweight='bold', alpha=0.8, y=1.)\n",
    "for i in range(0, len(cat_col)):\n",
    "    class_salary = pd.crosstab(df['salary'],df[cat_col[i]])\n",
    "    class_salary.plot(kind='bar')\n",
    "    #plt.subplots_adjust(bottom=0.4)\n",
    "    #for p in ax.patches:\n",
    "    #    ax.annotate(str(p.get_height()), (p.get_x()+0.35, p.get_height()+2))\n",
    "    plt.xticks(rotation=0)\n",
    "    plt.xlabel(cat_col[i])\n",
    "    plt.ylabel('Frequência')\n",
    "    plt.tight_layout()\n",
    "    #plt.show()"
   ]
  },
  {
   "cell_type": "markdown",
   "id": "d7749305",
   "metadata": {},
   "source": [
    " \n",
    " - Dados desbalanceados quanto a variável target com 7841 registros acima de 50k (24% do total) e 24720 abaixo.\n",
    " - Os homens são maioria independente da faixa salarial, embora sua proporção seja maior entre aqueles que ganham acima de 50K. Os trabalhadores alocados na iniciativa privata são a maioria da amostra de treino, com 74% do total, e os que concentram os maiores salários.\n",
    " - Os maiores salários estão entre aqueles dedicados à iniciativa privada, com maior grau de instrução (Graduatos, Doutores e mestres, embora tenhamos uma parcela significativa que apenas concluiram o ensino fundamental). Também estão nessa categoria os casados e maridos, brancos e oriundos dos EUA."
   ]
  },
  {
   "cell_type": "code",
   "execution_count": null,
   "id": "bbcbbc48",
   "metadata": {},
   "outputs": [],
   "source": [
    "#numeric columns\n",
    "num_col=[]\n",
    "for i in df.columns:\n",
    "    if df[i].dtype=='int64':\n",
    "        num_col.append(i)\n",
    "\n",
    "num_col = num_col[0:2]\n",
    "num_col"
   ]
  },
  {
   "cell_type": "code",
   "execution_count": null,
   "id": "fe1a961f",
   "metadata": {},
   "outputs": [],
   "source": [
    "plt.figure(figsize=(15, 15))\n",
    "plt.suptitle('Univariate Analysis of Numerical Features', fontsize=20, fontweight='bold', alpha=0.8, y=1.)\n",
    "\n",
    "for i in range(0, len(num_col)):\n",
    "    plt.subplot(5, 3, i+1)\n",
    "    sns.kdeplot(x=df[num_col[i]],shade=True, color='b')\n",
    "    plt.xlabel(num_col[i])\n",
    "    plt.tight_layout()"
   ]
  },
  {
   "cell_type": "markdown",
   "id": "9bf7de30",
   "metadata": {},
   "source": [
    "### Check Multicollinearity for Categorical features\n",
    "- A chi-squared test (also chi-square or χ2 test) is a statistical hypothesis test that is valid to perform when the test statistic is chi-squared distributed under the null hypothesis, specifically Pearson's chi-squared test\n",
    "- A chi-square statistic is one way to show a relationship between two categorical variables.\n",
    "- Here we test correlation of Categorical columns with Target column i.e Salary"
   ]
  },
  {
   "cell_type": "code",
   "execution_count": null,
   "id": "8faa336d",
   "metadata": {},
   "outputs": [],
   "source": [
    "from scipy.stats import chi2_contingency\n",
    "chi2_test = []\n",
    "for feature in df[cat_col]:\n",
    "    if chi2_contingency(pd.crosstab(df['salary'], df[feature]))[1] < 0.05:\n",
    "        chi2_test.append('Reject Null Hypothesis')\n",
    "    else:\n",
    "        chi2_test.append('Fail to Reject Null Hypothesis')\n",
    "result = pd.DataFrame(data=[cat_col, chi2_test]).T\n",
    "result.columns = ['Column', 'Hypothesis Result']\n",
    "result"
   ]
  },
  {
   "cell_type": "markdown",
   "id": "243ecdc0",
   "metadata": {},
   "source": [
    "Checking outliers"
   ]
  },
  {
   "cell_type": "code",
   "execution_count": null,
   "id": "03cb8112",
   "metadata": {},
   "outputs": [],
   "source": [
    "plt.figure(figsize=(10,40))\n",
    "for i in range(0,len(num_col)):\n",
    "    plt.subplot(5, 2, i+1)\n",
    "    sns.boxplot(data=df[num_col[i]])\n",
    "    plt.xlabel(num_col[i])"
   ]
  },
  {
   "cell_type": "markdown",
   "id": "22572acd",
   "metadata": {},
   "source": [
    "so we can see that to many outliers are there so we have to treat them before going to model building"
   ]
  },
  {
   "cell_type": "markdown",
   "id": "949af4c6",
   "metadata": {},
   "source": [
    "### Treating outliers"
   ]
  },
  {
   "cell_type": "code",
   "execution_count": null,
   "id": "b2692b56",
   "metadata": {},
   "outputs": [],
   "source": [
    "# Function to detect outliers\n",
    "def outlier_thresholds(dataframe, variable):\n",
    "    quartile1 = dataframe[variable].quantile(0.25)\n",
    "    quartile3 = dataframe[variable].quantile(0.75)\n",
    "    interquantile_range = quartile3 - quartile1\n",
    "    up_limit = quartile3 + 1.5 * interquantile_range\n",
    "    low_limit = quartile1 - 1.5 * interquantile_range\n",
    "    return low_limit, up_limit\n",
    "\n",
    "\n",
    "## function to remove outliers\n",
    "def replace_with_thresholds(dataframe, numeric_columns):\n",
    "    for variable in numeric_columns:\n",
    "        low_limit, up_limit = outlier_thresholds(dataframe, variable)\n",
    "        dataframe.loc[(dataframe[variable] < low_limit), variable] = dataframe[variable].mean()\n",
    "        dataframe.loc[(dataframe[variable] > up_limit), variable] = dataframe[variable].mean()"
   ]
  },
  {
   "cell_type": "code",
   "execution_count": null,
   "id": "a1c62527",
   "metadata": {},
   "outputs": [],
   "source": [
    "replace_with_thresholds(df,num_col)"
   ]
  },
  {
   "cell_type": "code",
   "execution_count": null,
   "id": "37d83d1b",
   "metadata": {},
   "outputs": [],
   "source": [
    "plt.figure(figsize=(10,40))\n",
    "for i in range(0,len(num_col)):\n",
    "    plt.subplot(5, 2, i+1)\n",
    "    sns.boxplot(data=df[num_col[i]])\n",
    "    plt.xlabel(num_col[i])"
   ]
  },
  {
   "cell_type": "markdown",
   "id": "dc4103e3",
   "metadata": {},
   "source": [
    "## Modelando os classificadores"
   ]
  },
  {
   "cell_type": "markdown",
   "id": "e1d1762b",
   "metadata": {},
   "source": [
    "creating a new copy of dataset(df) and convert it into numerical with the help of labelEncoder"
   ]
  },
  {
   "cell_type": "code",
   "execution_count": null,
   "id": "ee30735f",
   "metadata": {},
   "outputs": [],
   "source": [
    "new_df = df.copy()\n",
    "new_df.head()"
   ]
  },
  {
   "cell_type": "code",
   "execution_count": null,
   "id": "3f61d190",
   "metadata": {},
   "outputs": [],
   "source": [
    "from sklearn.preprocessing import OrdinalEncoder\n",
    "encoder = OrdinalEncoder()\n",
    "#data.drop('salary',axis=1,inplace=True)\n",
    "\n",
    "from sklearn.compose import make_column_selector as selector\n",
    "\n",
    "categorical_columns_selector = selector(dtype_include=object)\n",
    "categorical_columns = categorical_columns_selector(data)\n",
    "data_categorical = data[categorical_columns]\n",
    "data_categorical.head()\n",
    "\n",
    "\n",
    "data_encoded = encoder.fit_transform(data_categorical)\n",
    "\n",
    "a = pd.DataFrame(data_encoded,columns=['workclass', 'education', 'marital-status', 'occupation',\n",
    "       'relationship', 'race', 'sex', 'country','salary'])\n",
    "b = data[['age','hours-per-week']]\n",
    "#c=data['hours-per-week']\n",
    "new_df = pd.concat([b,a],axis=1)"
   ]
  },
  {
   "cell_type": "code",
   "execution_count": null,
   "id": "f0278917",
   "metadata": {},
   "outputs": [],
   "source": [
    "new_df"
   ]
  },
  {
   "cell_type": "code",
   "execution_count": null,
   "id": "38857fc3",
   "metadata": {},
   "outputs": [],
   "source": [
    "new_df.shape"
   ]
  },
  {
   "cell_type": "markdown",
   "id": "9b2ae3e6",
   "metadata": {},
   "source": [
    "Dependent and Independent features"
   ]
  },
  {
   "cell_type": "code",
   "execution_count": null,
   "id": "8b38bc24",
   "metadata": {},
   "outputs": [],
   "source": [
    "X = new_df.iloc[:,:-1]\n",
    "y = new_df.iloc[:,-1]"
   ]
  },
  {
   "cell_type": "code",
   "execution_count": null,
   "id": "801139c6",
   "metadata": {},
   "outputs": [],
   "source": [
    "from sklearn.model_selection import train_test_split\n",
    "X_train,X_test,y_train,y_test = train_test_split(X,y,random_state=7,test_size=0.33)"
   ]
  },
  {
   "cell_type": "code",
   "execution_count": null,
   "id": "3330ffe2",
   "metadata": {},
   "outputs": [],
   "source": [
    "print(X_train.shape)\n",
    "print(y_train.shape)\n",
    "print(X_test.shape)\n",
    "print(y_test.shape)"
   ]
  },
  {
   "cell_type": "markdown",
   "id": "4ed0e469",
   "metadata": {},
   "source": [
    "SVC"
   ]
  },
  {
   "cell_type": "code",
   "execution_count": null,
   "id": "cf64e37b",
   "metadata": {},
   "outputs": [],
   "source": [
    "svc = SVC().fit(X_train,y_train)"
   ]
  },
  {
   "cell_type": "code",
   "execution_count": null,
   "id": "238ed65d",
   "metadata": {},
   "outputs": [],
   "source": [
    "svc.score(X_train,y_train)"
   ]
  },
  {
   "cell_type": "code",
   "execution_count": null,
   "id": "35a6f856",
   "metadata": {},
   "outputs": [],
   "source": [
    "svc_pred = svc.predict(X_test)\n",
    "accuracy_score(y_test,svc_pred)"
   ]
  },
  {
   "cell_type": "markdown",
   "id": "e08a509c",
   "metadata": {},
   "source": [
    "Hyperparameter Tunning"
   ]
  },
  {
   "cell_type": "code",
   "execution_count": null,
   "id": "56bde2ea",
   "metadata": {},
   "outputs": [],
   "source": [
    "params = dict(kernel=['linear', 'poly'],C=[1,0.1,0.01])\n",
    "Grid_model = GridSearchCV(svc,params,n_jobs=-1)\n",
    "Grid_model.fit(X_train,y_train)\n",
    "Grid_model.best_params_"
   ]
  },
  {
   "cell_type": "code",
   "execution_count": null,
   "id": "1cb6256f",
   "metadata": {},
   "outputs": [],
   "source": [
    "best_model = SVC(kernel='poly',gamma='scale',C=1).fit(X_train,y_train)"
   ]
  },
  {
   "cell_type": "code",
   "execution_count": null,
   "id": "a2e60905",
   "metadata": {},
   "outputs": [],
   "source": [
    "best_model.score(X_train,y_train)"
   ]
  },
  {
   "cell_type": "code",
   "execution_count": null,
   "id": "0962c2e9",
   "metadata": {},
   "outputs": [],
   "source": [
    "best_pred = best_model.predict(X_test)"
   ]
  },
  {
   "cell_type": "code",
   "execution_count": null,
   "id": "43666610",
   "metadata": {},
   "outputs": [],
   "source": [
    "accuracy_score(y_test,best_pred)"
   ]
  },
  {
   "cell_type": "code",
   "execution_count": null,
   "id": "a364cfb7",
   "metadata": {},
   "outputs": [],
   "source": []
  }
 ],
 "metadata": {
  "kernelspec": {
   "display_name": "Python 3 (ipykernel)",
   "language": "python",
   "name": "python3"
  },
  "language_info": {
   "codemirror_mode": {
    "name": "ipython",
    "version": 3
   },
   "file_extension": ".py",
   "mimetype": "text/x-python",
   "name": "python",
   "nbconvert_exporter": "python",
   "pygments_lexer": "ipython3",
   "version": "3.10.4"
  },
  "toc": {
   "base_numbering": 1,
   "nav_menu": {},
   "number_sections": true,
   "sideBar": true,
   "skip_h1_title": false,
   "title_cell": "Table of Contents",
   "title_sidebar": "Contents",
   "toc_cell": false,
   "toc_position": {},
   "toc_section_display": true,
   "toc_window_display": true
  }
 },
 "nbformat": 4,
 "nbformat_minor": 5
}
