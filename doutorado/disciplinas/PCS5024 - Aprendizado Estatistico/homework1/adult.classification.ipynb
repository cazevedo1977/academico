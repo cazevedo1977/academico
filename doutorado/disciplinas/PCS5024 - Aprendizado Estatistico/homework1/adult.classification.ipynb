{
 "cells": [
  {
   "cell_type": "markdown",
   "id": "0bb10210",
   "metadata": {},
   "source": [
    "## PCS5024 - Aprendizado Estatístico\n",
    " - Primeiro trimestre 2023 \n",
    " - Profs. Anna Helena Realli Costa e Fábio Gagliardi Cozman \n",
    " - Aluno: Caio Azevedo - caio.aze@alumni.usp.br\n",
    " - Entrega em: 30.03.23"
   ]
  },
  {
   "cell_type": "markdown",
   "id": "36e4e7b0",
   "metadata": {},
   "source": [
    "## Trabalho 1 - Descrição\n",
    "A entregar até 31/3 via edisciplinas: uma folha apenas (frente e verso) em formato pdf, contendo descrição concisa relativa às seguintes atividades:\n",
    "\n",
    "1) Obtenha a base Adult (por exemplo no UCI Repository or no Kaggle). \n",
    "\n",
    "Recomendação: leia sobre o UCI Repository e o Kaggle, são recursos importantes.\n",
    "\n",
    "2) Analise os atributos, dados faltantes, e características gerais da base Adult, usando ferramentas da sklearn. Selecione atributos, discretize atributos numéricos, processe dados faltantes. Se possível use Jupyter para desenvolver seu trabalho.\n",
    "\n",
    "3) Construa um classificador para a variável \">50k\" da base Adult (ou seja, se a pessoa ganha mais do que US$50k por ano ou não). Use um classificador Nearest Neighbour com seleção de hiperparâmetro via validação cruzada; se preferir, divida a base de treino em duas partes respectivamente para treino e validação. \n",
    "\n",
    "5) Apresente acurácia, precisão e revocação do melhor classificador Nearest Neighbour obtido.\n",
    "\n",
    "6) Ponto extra: teste um classificador Naive Bayes para a mesma variável com os mesmos atributos."
   ]
  },
  {
   "cell_type": "markdown",
   "id": "f318230e",
   "metadata": {},
   "source": [
    "## Objetivo\n",
    " - Análise para classificação das pessoas que ganham mais de U$50k por ano. \n",
    " - **Projeto Classificação Binária**"
   ]
  },
  {
   "cell_type": "markdown",
   "id": "6af401a6",
   "metadata": {},
   "source": [
    "## Sobre o dataset\n",
    "\n",
    "### Características descritivas\n",
    "| Data Set Characteristics | Number of Instances | Attribute Characteristics | Number of Attributes | Associated Tasks | Missing Values? \n",
    "| --- | --- | --- | --- | --- | --- \n",
    "| Multivariate | 48842 | Categorical, Integer | 14 | Classification | Yes \n",
    "\n",
    "### Sobre os atributos\n",
    "\n",
    "- **salary** (target): >50K, <=50K.\n",
    "\n",
    "- **age**: continuous.\n",
    "- **workclass**: Private, Self-emp-not-inc, Self-emp-inc, Federal-gov, Local-gov, State-gov, Without-pay, Never-worked.\n",
    "- **fnlwgt**: continuous.\n",
    "- **education**: Bachelors, Some-college, 11th, HS-grad, Prof-school, Assoc-acdm, Assoc-voc, 9th, 7th-8th, 12th, - -  - Masters, 1st-4th, 10th, Doctorate, 5th-6th, Preschool.\n",
    "- **education-num**: continuous.\n",
    "- **marital-status**: Married-civ-spouse, Divorced, Never-married, Separated, Widowed, Married-spouse-absent, Married-AF-spouse.\n",
    "- **occupation**: Tech-support, Craft-repair, Other-service, Sales, Exec-managerial, Prof-specialty, Handlers-cleaners, Machine-op-inspct, Adm-clerical, Farming-fishing, Transport-moving, Priv-house-serv, Protective-serv, Armed-Forces.\n",
    "- **relationship**: Wife, Own-child, Husband, Not-in-family, Other-relative, Unmarried.\n",
    "- **race**: White, Asian-Pac-Islander, Amer-Indian-Eskimo, Other, Black.\n",
    "- **sex**: Female, Male.\n",
    "- **capital-gain**: continuous.\n",
    "- **capital-loss**: continuous.\n",
    "- **hours-per-week**: continuous.\n",
    "- **native-country**: United-States, Cambodia, England, Puerto-Rico, Canada, Germany, Outlying-US(Guam-USVI-etc), India, Japan, Greece, South, China, Cuba, Iran, Honduras, Philippines, Italy, Poland, Jamaica, Vietnam, Mexico, Portugal, Ireland, France, Dominican-Republic, Laos, Ecuador, Taiwan, Haiti, Columbia, Hungary, Guatemala, Nicaragua, Scotland, Thailand, Yugoslavia, El-Salvador, Trinadad&Tobago, Peru, Hong, Holand-Netherlands."
   ]
  },
  {
   "cell_type": "markdown",
   "id": "7698a648",
   "metadata": {},
   "source": [
    "## Referências:\n",
    " - https://archive.ics.uci.edu/ml/datasets/adult\n",
    " - https://archive.ics.uci.edu/ml/machine-learning-databases/adult/\n",
    " - http://www.cs.toronto.edu/~delve/data/adult/adultDetail.html\n",
    " - http://www.cs.toronto.edu/~delve/data/adult/desc.html\n",
    " - https://www.scaler.com/topics/data-science/categorical-missing-values/ \n",
    " \n",
    " \n",
    " **Sobre balanceamento e classificação**\n",
    " - https://machinelearningmastery.com/imbalanced-classification-with-the-adult-income-dataset/\n",
    " - https://medium.com/analytics-vidhya/handle-missing-values-in-categorical-features-b7c5b073dda2"
   ]
  },
  {
   "cell_type": "markdown",
   "id": "7ab35b19",
   "metadata": {},
   "source": []
  },
  {
   "cell_type": "markdown",
   "id": "954990a7",
   "metadata": {},
   "source": [
    " boas implementações\n",
    " - https://www.kaggle.com/code/bhupendrarajput/complete-eda-and-machine-learning\n",
    " - https://arxiv.org/ftp/arxiv/papers/1810/1810.10076.pdf\n",
    " - https://github.com/itdxer/adult-dataset-analysis"
   ]
  },
  {
   "cell_type": "markdown",
   "id": "aa7eadc7",
   "metadata": {},
   "source": [
    "## Implementação"
   ]
  },
  {
   "cell_type": "markdown",
   "id": "e9cbbe62",
   "metadata": {},
   "source": [
    "### Importação bibliotecas"
   ]
  },
  {
   "cell_type": "code",
   "execution_count": 1,
   "id": "6dfed108",
   "metadata": {},
   "outputs": [],
   "source": [
    "import pandas as pd\n",
    "import numpy as np\n",
    "from sklearn.linear_model import LogisticRegression\n",
    "from sklearn.ensemble import RandomForestClassifier\n",
    "from sklearn.naive_bayes import GaussianNB\n",
    "from sklearn.preprocessing import StandardScaler\n",
    "from sklearn.svm import SVC\n",
    "from sklearn.metrics import accuracy_score\n",
    "from sklearn.model_selection import RandomizedSearchCV\n",
    "from sklearn import preprocessing\n",
    "from sklearn.compose import ColumnTransformer\n",
    "from sklearn.preprocessing import OrdinalEncoder\n",
    "from sklearn.model_selection import GridSearchCV"
   ]
  },
  {
   "cell_type": "code",
   "execution_count": 2,
   "id": "aea1a868",
   "metadata": {},
   "outputs": [],
   "source": [
    "import matplotlib.pyplot as plt\n",
    "import seaborn as sns\n",
    "from pandas_profiling import ProfileReport"
   ]
  },
  {
   "cell_type": "code",
   "execution_count": 3,
   "id": "9941dc90",
   "metadata": {},
   "outputs": [],
   "source": [
    "import os, sys\n",
    "import pandas as pd\n",
    "from sklearn.model_selection import train_test_split\n",
    "import missingno as msno\n",
    "from sklearn.impute import SimpleImputer\n",
    "%matplotlib inline"
   ]
  },
  {
   "cell_type": "markdown",
   "id": "0ba6ff81",
   "metadata": {},
   "source": [
    "### Constantes"
   ]
  },
  {
   "cell_type": "code",
   "execution_count": 4,
   "id": "c2eef275",
   "metadata": {},
   "outputs": [],
   "source": [
    "#'https://raw.githubusercontent.com/Bhupendra1770/Adult-Census-Income-Prediction/main/adult.csv'\n",
    "APP_PATH = os.getcwd()\n",
    "DATA_DIR = os.path.join(APP_PATH, 'data')\n",
    "TRAIN_DATA_FILE = os.path.join(DATA_DIR, 'adult.data.csv')\n",
    "TEST_DATA_FILE = os.path.join(DATA_DIR, 'adult.test.csv')\n",
    "target_column = \"income\""
   ]
  },
  {
   "cell_type": "markdown",
   "id": "ed63f5ec",
   "metadata": {},
   "source": [
    "### Considerações para implementação do classsificador\n",
    "\n",
    "- O atributo fnlwgt será removido para implementação da classificação, seja porque sua definição não agrega valor à predição, seja pela análise estatística que provou sua baixa correlação ao atributo target.\n",
    "- O atributo education-num também será removido pois seu valor já está representado com o atributo education\n",
    "- O atributo native-country será transformado em um atributo binário chamado fromUS, cujo valor será 1 quando native_country for igual a United-States e 0 caso contrário.\n",
    "- Os atributos capital-gain e capital-loss, também são candidatos a exclusão pois concentram seu dominio em um único valor (zero)\n",
    "- Registros duplicados e impossíveis de classificar também devem ser removidos da amostra de treino.\n",
    "- Deve-se testar pelo menos duas abordagens para tratamento dos registros com NaN e utilizar o de melhor desempenho do classificador.\n",
    "- O atributo target deve ser tratado e seu valor convertido em 1 ou 0\n"
   ]
  },
  {
   "cell_type": "markdown",
   "id": "aeb7d62b",
   "metadata": {},
   "source": [
    "### Leitura e tratamento das amostras"
   ]
  },
  {
   "cell_type": "code",
   "execution_count": 5,
   "id": "7e830cc0",
   "metadata": {},
   "outputs": [],
   "source": [
    "def read_dataset(path):\n",
    "    return pd.read_csv(\n",
    "        path,\n",
    "        index_col=None,\n",
    "        comment='|',  \n",
    "        skipinitialspace=True,  \n",
    "        na_values={\n",
    "            'capital-gain': 99999,\n",
    "            'workclass': '?',\n",
    "            'native-country': '?',\n",
    "            'occupation': '?',\n",
    "        },\n",
    "    )\n",
    "\n",
    "def clean_dataset(data):\n",
    "\n",
    "    #remove eventuais espaços vazios no inicio e/ou fim das colunas do tipo string 'object'\n",
    "    for i in data.columns:\n",
    "        if data[i].dtype=='object':\n",
    "            data[i] = data[i].str.strip()\n",
    "\n",
    "    # Por algum motivo o dataset de teste tem um ponto (.) no final do atributo target, sendo necessário remove-lo\n",
    "    data[target_column] = data.income.str.rstrip('.')\n",
    "    \n",
    "    # Remoção das colunas colunas abaixo, pois entendemos que elas não são \n",
    "    # relevantes para classificação.\n",
    "    data = data.drop('fnlwgt', axis=1)\n",
    "    data = data.drop('education-num', axis=1)\n",
    "    data = data.drop('capital-gain', axis=1)\n",
    "    data = data.drop('capital-loss', axis=1)\n",
    "    \n",
    "    # Registros duplicados podem gerar viés na analise e classificação, \n",
    "    # logo devem ser removidos\n",
    "    data = data.drop_duplicates()\n",
    "    \n",
    "    # \"Binariza\" o atributo target  (>50K == 1 e <=50K == 0)\n",
    "    data[target_column] = (data[target_column] == '>50K').astype(int)\n",
    "\n",
    "    return data\n",
    "\n",
    "train_data = clean_dataset(read_dataset(TRAIN_DATA_FILE))\n",
    "test_data = clean_dataset(read_dataset(TEST_DATA_FILE))\n",
    "\n",
    "data = train_data"
   ]
  },
  {
   "cell_type": "code",
   "execution_count": 6,
   "id": "e4db62a7",
   "metadata": {},
   "outputs": [
    {
     "name": "stdout",
     "output_type": "stream",
     "text": [
      "Percentual da variável target positivas na amostra de treino: 23.77%\n"
     ]
    }
   ],
   "source": [
    "train_data = clean_dataset(read_dataset(TRAIN_DATA_FILE))\n",
    "test_data = clean_dataset(read_dataset(TEST_DATA_FILE))\n",
    "print(\"Percentual da variável target positivas na amostra de treino: {:.2%}\".format(np.mean(train_data.income)))"
   ]
  },
  {
   "cell_type": "code",
   "execution_count": 7,
   "id": "f76d9ff4",
   "metadata": {},
   "outputs": [
    {
     "name": "stdout",
     "output_type": "stream",
     "text": [
      "<class 'pandas.core.frame.DataFrame'>\n",
      "Int64Index: 28318 entries, 0 to 32560\n",
      "Data columns (total 11 columns):\n",
      " #   Column          Non-Null Count  Dtype \n",
      "---  ------          --------------  ----- \n",
      " 0   age             28318 non-null  int64 \n",
      " 1   workclass       26702 non-null  object\n",
      " 2   education       28318 non-null  object\n",
      " 3   marital-status  28318 non-null  object\n",
      " 4   occupation      26695 non-null  object\n",
      " 5   relationship    28318 non-null  object\n",
      " 6   race            28318 non-null  object\n",
      " 7   sex             28318 non-null  object\n",
      " 8   hours-per-week  28318 non-null  int64 \n",
      " 9   native-country  27738 non-null  object\n",
      " 10  income          28318 non-null  int32 \n",
      "dtypes: int32(1), int64(2), object(8)\n",
      "memory usage: 2.5+ MB\n"
     ]
    }
   ],
   "source": [
    "data.info()"
   ]
  },
  {
   "cell_type": "code",
   "execution_count": 8,
   "id": "858faf9d",
   "metadata": {},
   "outputs": [
    {
     "data": {
      "text/plain": [
       "(28318, 11)"
      ]
     },
     "execution_count": 8,
     "metadata": {},
     "output_type": "execute_result"
    }
   ],
   "source": [
    "data.shape"
   ]
  },
  {
   "cell_type": "code",
   "execution_count": 9,
   "id": "bfb2e7c3",
   "metadata": {},
   "outputs": [
    {
     "data": {
      "text/plain": [
       "<AxesSubplot:>"
      ]
     },
     "execution_count": 9,
     "metadata": {},
     "output_type": "execute_result"
    },
    {
     "data": {
      "image/png": "[encoded data removed]",
      "text/plain": [
       "<Figure size 1728x720 with 3 Axes>"
      ]
     },
     "metadata": {
      "needs_background": "light"
     },
     "output_type": "display_data"
    }
   ],
   "source": [
    "#visualiza a quantidade de registros nulos por atributo\n",
    "msno.bar(data)"
   ]
  },
  {
   "cell_type": "code",
   "execution_count": 10,
   "id": "3ec945b0",
   "metadata": {},
   "outputs": [
    {
     "data": {
      "text/plain": [
       "age                  0\n",
       "workclass         1616\n",
       "education            0\n",
       "marital-status       0\n",
       "occupation        1623\n",
       "relationship         0\n",
       "race                 0\n",
       "sex                  0\n",
       "hours-per-week       0\n",
       "native-country     580\n",
       "income               0\n",
       "dtype: int64"
      ]
     },
     "execution_count": 10,
     "metadata": {},
     "output_type": "execute_result"
    }
   ],
   "source": [
    "#total de registros nulos por atributo. \n",
    "data.isnull().sum()"
   ]
  },
  {
   "cell_type": "markdown",
   "id": "53837311",
   "metadata": {},
   "source": [
    "### Feature Engineering"
   ]
  },
  {
   "cell_type": "markdown",
   "id": "4c7dec2d",
   "metadata": {},
   "source": [
    "#### Tratando dados faltantes\n",
    " - optaremos por três abordagens para o tratamento dos dados faltantes, visto que todos eles são categoricos.\n",
    " 1. remoção dos registros que possuam pelo menos um dado faltante.\n",
    " 2. preencher os dados faltantes pelo mais frequente na amostra (moda)\n",
    " 3. preencher os dados faltantes por meio de um modelo de classificação (RandomForest ou LogistcRegression)\n",
    " \n",
    " - as abordagens 2 e 3 foram consideradas, uma vez que somente menos que 1% (30162/32561) da amostra possui dados faltantes.\n",
    " - para efeito de classificação, será considerada a abordagem que resultar no melhor desempenho dos modelos utilizados"
   ]
  },
  {
   "cell_type": "code",
   "execution_count": 11,
   "id": "9e08f98a",
   "metadata": {},
   "outputs": [
    {
     "name": "stdout",
     "output_type": "stream",
     "text": [
      "nulos apagados\n"
     ]
    }
   ],
   "source": [
    "#dropnulls | most_frequent | \n",
    "lang = \"dropnulls\"\n",
    "\n",
    "match lang:\n",
    "    case \"dropnulls\":\n",
    "        data.dropna(axis=0, inplace=True)\n",
    "        data.isnull().sum()\n",
    "        print(\"nulos apagados\")\n",
    "\n",
    "    case \"most_frequent\":\n",
    "        impute_mode = SimpleImputer(strategy = 'most_frequent')\n",
    "        impute_mode.fit(data[['workclass', 'occupation','native-country']])\n",
    "        data[['workclass', 'occupation','native-country']] = impute_mode.transform(df[['workclass', 'occupation','native-country']])\n",
    "        print(\"nulos preenchidos com os registros mais frequentes\")\n",
    "\n",
    "    case _:\n",
    "        # To perform KNN imputation, we need to normalize the input data and perform One Hot Encoding to categorical variables\n",
    "        #from sklearn.impute import KNNImputer\n",
    "        #imputer = KNNImputer(n_neighbors = 3)\n",
    "        #df = pd.DataFrame(imputer.fit_transform(df),columns = df.columns)\n",
    "        #X = df.drop(\"workclass\", axis=1).values\n",
    "        #Y = df[\"workclass\"].values\n",
    "        #X_train, X_test, Y_train, Y_test = train_test_split(X, Y, test_size=0.1, random_state=0)\n",
    "        #forest = RandomForestClassifier(n_estimators=45, max_depth=25, random_state=False, max_features=0.6, min_samples_leaf=3, n_jobs=-1)\n",
    "        #forest.fit(X_train, Y_train)\n",
    "        print(\"nenhuma das opções válidas\")"
   ]
  },
  {
   "cell_type": "code",
   "execution_count": 12,
   "id": "a1760c6a",
   "metadata": {},
   "outputs": [
    {
     "data": {
      "text/plain": [
       "<AxesSubplot:>"
      ]
     },
     "execution_count": 12,
     "metadata": {},
     "output_type": "execute_result"
    },
    {
     "data": {
      "image/png": "[encoded data removed]",
      "text/plain": [
       "<Figure size 1728x720 with 3 Axes>"
      ]
     },
     "metadata": {
      "needs_background": "light"
     },
     "output_type": "display_data"
    }
   ],
   "source": [
    "msno.bar(data)"
   ]
  },
  {
   "cell_type": "markdown",
   "id": "cbae6464",
   "metadata": {},
   "source": [
    "#### Reestruturando atributos"
   ]
  },
  {
   "cell_type": "code",
   "execution_count": 13,
   "id": "1bd3d77e",
   "metadata": {},
   "outputs": [],
   "source": [
    "data['fromUS'] = (data['native-country'] == 'United-States').astype(int)\n",
    "data = data.drop('native-country', axis=1)"
   ]
  },
  {
   "cell_type": "code",
   "execution_count": 14,
   "id": "c4ca8779",
   "metadata": {},
   "outputs": [
    {
     "data": {
      "text/plain": [
       "['workclass',\n",
       " 'education',\n",
       " 'marital-status',\n",
       " 'occupation',\n",
       " 'relationship',\n",
       " 'race',\n",
       " 'sex']"
      ]
     },
     "execution_count": 14,
     "metadata": {},
     "output_type": "execute_result"
    }
   ],
   "source": [
    "# Armazena os atributos categóricos dentre os atributos preditores\n",
    "cat_col=[]\n",
    "for i in data.columns:\n",
    "    if data[i].dtype=='object':\n",
    "        cat_col.append(i)\n",
    "cat_col"
   ]
  },
  {
   "cell_type": "code",
   "execution_count": 15,
   "id": "0954df5d",
   "metadata": {},
   "outputs": [
    {
     "data": {
      "text/plain": [
       "['age', 'hours-per-week', 'income', 'fromUS']"
      ]
     },
     "execution_count": 15,
     "metadata": {},
     "output_type": "execute_result"
    }
   ],
   "source": [
    "# Armazena os atributos numéricos dentre os atributos preditores\n",
    "num_col=[]\n",
    "for colname, column_series in data._get_numeric_data().iteritems():\n",
    "    num_col.append(colname)\n",
    "num_col    "
   ]
  },
  {
   "cell_type": "markdown",
   "id": "426e9b79",
   "metadata": {},
   "source": [
    "#### Registros de classificação impossível"
   ]
  },
  {
   "cell_type": "code",
   "execution_count": 22,
   "id": "c189c7a3",
   "metadata": {},
   "outputs": [
    {
     "data": {
      "text/plain": [
       "0"
      ]
     },
     "execution_count": 22,
     "metadata": {},
     "output_type": "execute_result"
    }
   ],
   "source": [
    "all_columns = data.columns.tolist()\n",
    "predictor_columns = list(set(all_columns).difference([target_column]))\n",
    "column_frequency = (data\n",
    "    .groupby(predictor_columns, as_index=False)\n",
    "    .agg({target_column: 'nunique'}))\n",
    "\n",
    "column_frequency[column_frequency.income > 1].shape[0]"
   ]
  },
  {
   "cell_type": "code",
   "execution_count": 23,
   "id": "6dd4a719",
   "metadata": {},
   "outputs": [
    {
     "data": {
      "text/html": [
       "<div>\n",
       "<style scoped>\n",
       "    .dataframe tbody tr th:only-of-type {\n",
       "        vertical-align: middle;\n",
       "    }\n",
       "\n",
       "    .dataframe tbody tr th {\n",
       "        vertical-align: top;\n",
       "    }\n",
       "\n",
       "    .dataframe thead th {\n",
       "        text-align: right;\n",
       "    }\n",
       "</style>\n",
       "<table border=\"1\" class=\"dataframe\">\n",
       "  <thead>\n",
       "    <tr style=\"text-align: right;\">\n",
       "      <th></th>\n",
       "      <th>age</th>\n",
       "      <th>workclass</th>\n",
       "      <th>education</th>\n",
       "      <th>marital-status</th>\n",
       "      <th>occupation</th>\n",
       "      <th>relationship</th>\n",
       "      <th>race</th>\n",
       "      <th>sex</th>\n",
       "      <th>hours-per-week</th>\n",
       "      <th>income</th>\n",
       "      <th>fromUS</th>\n",
       "    </tr>\n",
       "  </thead>\n",
       "  <tbody>\n",
       "  </tbody>\n",
       "</table>\n",
       "</div>"
      ],
      "text/plain": [
       "Empty DataFrame\n",
       "Columns: [age, workclass, education, marital-status, occupation, relationship, race, sex, hours-per-week, income, fromUS]\n",
       "Index: []"
      ]
     },
     "execution_count": 23,
     "metadata": {},
     "output_type": "execute_result"
    }
   ],
   "source": [
    "#exemplo de um dos registros de treino impossível de classificar\n",
    "impossible = data[(data['sex']=='Female') & (data['education']=='Assoc-acdm') & (data['workclass']=='Private') \\\n",
    "         & (data['marital-status']=='Divorced') & (data['occupation']=='Exec-managerial') \\\n",
    "         & (data['hours-per-week']==40)& (data['age']==40)& (data['marital-status']=='Divorced') ]\n",
    "impossible"
   ]
  },
  {
   "cell_type": "code",
   "execution_count": 24,
   "id": "31c028f1",
   "metadata": {},
   "outputs": [],
   "source": [
    "data = data.drop_duplicates(subset=predictor_columns, keep=False)"
   ]
  },
  {
   "cell_type": "code",
   "execution_count": 25,
   "id": "3bf5fc6b",
   "metadata": {},
   "outputs": [
    {
     "data": {
      "text/plain": [
       "(24524, 11)"
      ]
     },
     "execution_count": 25,
     "metadata": {},
     "output_type": "execute_result"
    }
   ],
   "source": [
    "data.shape"
   ]
  },
  {
   "cell_type": "markdown",
   "id": "b59dd895",
   "metadata": {},
   "source": [
    "#### Encoding"
   ]
  },
  {
   "cell_type": "code",
   "execution_count": 40,
   "id": "97420b7f",
   "metadata": {},
   "outputs": [],
   "source": [
    "def get_categorical_columns(data, cat_columns=None, fillna=True):\n",
    "    if cat_columns is None:\n",
    "        cat_data = data.select_dtypes('category')\n",
    "    else:\n",
    "        cat_data = data[cat_columns]\n",
    "\n",
    "    if fillna:\n",
    "        for colname, series in cat_data.iteritems():\n",
    "            if 'Other' not in series.cat.categories:\n",
    "                series = series.cat.add_categories(['Other'])\n",
    "\n",
    "            cat_data[colname] = series.fillna('Other')\n",
    "            \n",
    "    return cat_data\n",
    "\n",
    "def features_with_one_hot_encoded_categories(data, cat_columns=None, fillna=True):\n",
    "    #cat_data = get_categorical_columns(data, cat_columns, fillna)\n",
    "    cat_data = cat_col\n",
    "    one_hot_data = pd.get_dummies(cat_data)\n",
    "    df = pd.concat([data, one_hot_data], axis=1)\n",
    "\n",
    "    features = [\n",
    "        'age',\n",
    "        #'education_num',\n",
    "        'hours-per-week',\n",
    "        #'capital_gain',\n",
    "        #'capital_loss',\n",
    "    ] + one_hot_data.columns.tolist()\n",
    "\n",
    "    X = df[features].fillna(0).values.astype(float)\n",
    "    y = df[target_column].values\n",
    "    \n",
    "    return X, y"
   ]
  },
  {
   "cell_type": "code",
   "execution_count": 47,
   "id": "5ab3bc74",
   "metadata": {},
   "outputs": [
    {
     "data": {
      "text/html": [
       "<div>\n",
       "<style scoped>\n",
       "    .dataframe tbody tr th:only-of-type {\n",
       "        vertical-align: middle;\n",
       "    }\n",
       "\n",
       "    .dataframe tbody tr th {\n",
       "        vertical-align: top;\n",
       "    }\n",
       "\n",
       "    .dataframe thead th {\n",
       "        text-align: right;\n",
       "    }\n",
       "</style>\n",
       "<table border=\"1\" class=\"dataframe\">\n",
       "  <thead>\n",
       "    <tr style=\"text-align: right;\">\n",
       "      <th></th>\n",
       "      <th>age</th>\n",
       "      <th>workclass</th>\n",
       "      <th>education</th>\n",
       "      <th>marital-status</th>\n",
       "      <th>occupation</th>\n",
       "      <th>relationship</th>\n",
       "      <th>race</th>\n",
       "      <th>sex</th>\n",
       "      <th>hours-per-week</th>\n",
       "      <th>income</th>\n",
       "      <th>fromUS</th>\n",
       "      <th>education</th>\n",
       "      <th>marital-status</th>\n",
       "      <th>occupation</th>\n",
       "      <th>race</th>\n",
       "      <th>relationship</th>\n",
       "      <th>sex</th>\n",
       "      <th>workclass</th>\n",
       "    </tr>\n",
       "  </thead>\n",
       "  <tbody>\n",
       "    <tr>\n",
       "      <th>32554</th>\n",
       "      <td>53.0</td>\n",
       "      <td>Private</td>\n",
       "      <td>Masters</td>\n",
       "      <td>Married-civ-spouse</td>\n",
       "      <td>Exec-managerial</td>\n",
       "      <td>Husband</td>\n",
       "      <td>White</td>\n",
       "      <td>Male</td>\n",
       "      <td>40.0</td>\n",
       "      <td>0.22847</td>\n",
       "      <td>1.0</td>\n",
       "      <td>NaN</td>\n",
       "      <td>NaN</td>\n",
       "      <td>NaN</td>\n",
       "      <td>NaN</td>\n",
       "      <td>NaN</td>\n",
       "      <td>NaN</td>\n",
       "      <td>NaN</td>\n",
       "    </tr>\n",
       "    <tr>\n",
       "      <th>32555</th>\n",
       "      <td>22.0</td>\n",
       "      <td>Private</td>\n",
       "      <td>Some-college</td>\n",
       "      <td>Never-married</td>\n",
       "      <td>Protective-serv</td>\n",
       "      <td>Not-in-family</td>\n",
       "      <td>White</td>\n",
       "      <td>Male</td>\n",
       "      <td>40.0</td>\n",
       "      <td>0.00000</td>\n",
       "      <td>1.0</td>\n",
       "      <td>NaN</td>\n",
       "      <td>NaN</td>\n",
       "      <td>NaN</td>\n",
       "      <td>NaN</td>\n",
       "      <td>NaN</td>\n",
       "      <td>NaN</td>\n",
       "      <td>NaN</td>\n",
       "    </tr>\n",
       "    <tr>\n",
       "      <th>32556</th>\n",
       "      <td>27.0</td>\n",
       "      <td>Private</td>\n",
       "      <td>Assoc-acdm</td>\n",
       "      <td>Married-civ-spouse</td>\n",
       "      <td>Tech-support</td>\n",
       "      <td>Wife</td>\n",
       "      <td>White</td>\n",
       "      <td>Female</td>\n",
       "      <td>38.0</td>\n",
       "      <td>0.00000</td>\n",
       "      <td>1.0</td>\n",
       "      <td>NaN</td>\n",
       "      <td>NaN</td>\n",
       "      <td>NaN</td>\n",
       "      <td>NaN</td>\n",
       "      <td>NaN</td>\n",
       "      <td>NaN</td>\n",
       "      <td>NaN</td>\n",
       "    </tr>\n",
       "    <tr>\n",
       "      <th>32558</th>\n",
       "      <td>58.0</td>\n",
       "      <td>Private</td>\n",
       "      <td>HS-grad</td>\n",
       "      <td>Widowed</td>\n",
       "      <td>Adm-clerical</td>\n",
       "      <td>Unmarried</td>\n",
       "      <td>White</td>\n",
       "      <td>Female</td>\n",
       "      <td>40.0</td>\n",
       "      <td>0.00000</td>\n",
       "      <td>1.0</td>\n",
       "      <td>NaN</td>\n",
       "      <td>NaN</td>\n",
       "      <td>NaN</td>\n",
       "      <td>NaN</td>\n",
       "      <td>NaN</td>\n",
       "      <td>NaN</td>\n",
       "      <td>NaN</td>\n",
       "    </tr>\n",
       "    <tr>\n",
       "      <th>32560</th>\n",
       "      <td>52.0</td>\n",
       "      <td>Self-emp-inc</td>\n",
       "      <td>HS-grad</td>\n",
       "      <td>Married-civ-spouse</td>\n",
       "      <td>Exec-managerial</td>\n",
       "      <td>Wife</td>\n",
       "      <td>White</td>\n",
       "      <td>Female</td>\n",
       "      <td>40.0</td>\n",
       "      <td>0.22847</td>\n",
       "      <td>1.0</td>\n",
       "      <td>NaN</td>\n",
       "      <td>NaN</td>\n",
       "      <td>NaN</td>\n",
       "      <td>NaN</td>\n",
       "      <td>NaN</td>\n",
       "      <td>NaN</td>\n",
       "      <td>NaN</td>\n",
       "    </tr>\n",
       "  </tbody>\n",
       "</table>\n",
       "</div>"
      ],
      "text/plain": [
       "        age     workclass     education      marital-status       occupation  \\\n",
       "32554  53.0       Private       Masters  Married-civ-spouse  Exec-managerial   \n",
       "32555  22.0       Private  Some-college       Never-married  Protective-serv   \n",
       "32556  27.0       Private    Assoc-acdm  Married-civ-spouse     Tech-support   \n",
       "32558  58.0       Private       HS-grad             Widowed     Adm-clerical   \n",
       "32560  52.0  Self-emp-inc       HS-grad  Married-civ-spouse  Exec-managerial   \n",
       "\n",
       "        relationship   race     sex  hours-per-week   income  fromUS  \\\n",
       "32554        Husband  White    Male            40.0  0.22847     1.0   \n",
       "32555  Not-in-family  White    Male            40.0  0.00000     1.0   \n",
       "32556           Wife  White  Female            38.0  0.00000     1.0   \n",
       "32558      Unmarried  White  Female            40.0  0.00000     1.0   \n",
       "32560           Wife  White  Female            40.0  0.22847     1.0   \n",
       "\n",
       "       education  marital-status  occupation  race  relationship  sex  \\\n",
       "32554        NaN             NaN         NaN   NaN           NaN  NaN   \n",
       "32555        NaN             NaN         NaN   NaN           NaN  NaN   \n",
       "32556        NaN             NaN         NaN   NaN           NaN  NaN   \n",
       "32558        NaN             NaN         NaN   NaN           NaN  NaN   \n",
       "32560        NaN             NaN         NaN   NaN           NaN  NaN   \n",
       "\n",
       "       workclass  \n",
       "32554        NaN  \n",
       "32555        NaN  \n",
       "32556        NaN  \n",
       "32558        NaN  \n",
       "32560        NaN  "
      ]
     },
     "execution_count": 47,
     "metadata": {},
     "output_type": "execute_result"
    }
   ],
   "source": [
    "one_hot_data = pd.get_dummies(cat_col)\n",
    "#one_hot_data\n",
    "df = pd.concat([data, one_hot_data], axis=1)\n",
    "df.tail()"
   ]
  },
  {
   "cell_type": "code",
   "execution_count": 48,
   "id": "aceefe0b",
   "metadata": {},
   "outputs": [],
   "source": [
    "#X, y = features_with_one_hot_encoded_categories(data)\n",
    "#validate_model(model, X, y)"
   ]
  },
  {
   "cell_type": "code",
   "execution_count": null,
   "id": "f2a1e408",
   "metadata": {},
   "outputs": [],
   "source": []
  },
  {
   "cell_type": "code",
   "execution_count": null,
   "id": "bbcbbc48",
   "metadata": {},
   "outputs": [],
   "source": []
  },
  {
   "cell_type": "code",
   "execution_count": null,
   "id": "fe1a961f",
   "metadata": {},
   "outputs": [],
   "source": []
  },
  {
   "cell_type": "markdown",
   "id": "949af4c6",
   "metadata": {},
   "source": [
    "### Treating outliers"
   ]
  },
  {
   "cell_type": "code",
   "execution_count": 32,
   "id": "b2692b56",
   "metadata": {},
   "outputs": [],
   "source": [
    "# Function to detect outliers\n",
    "def outlier_thresholds(dataframe, variable):\n",
    "    quartile1 = dataframe[variable].quantile(0.25)\n",
    "    quartile3 = dataframe[variable].quantile(0.75)\n",
    "    interquantile_range = quartile3 - quartile1\n",
    "    up_limit = quartile3 + 1.5 * interquantile_range\n",
    "    low_limit = quartile1 - 1.5 * interquantile_range\n",
    "    return low_limit, up_limit\n",
    "\n",
    "\n",
    "## function to remove outliers\n",
    "def replace_with_thresholds(dataframe, numeric_columns):\n",
    "    for variable in numeric_columns:\n",
    "        low_limit, up_limit = outlier_thresholds(dataframe, variable)\n",
    "        dataframe.loc[(dataframe[variable] < low_limit), variable] = dataframe[variable].mean()\n",
    "        dataframe.loc[(dataframe[variable] > up_limit), variable] = dataframe[variable].mean()"
   ]
  },
  {
   "cell_type": "code",
   "execution_count": 33,
   "id": "a1c62527",
   "metadata": {},
   "outputs": [],
   "source": [
    "replace_with_thresholds(data,num_col)"
   ]
  },
  {
   "cell_type": "code",
   "execution_count": 34,
   "id": "37d83d1b",
   "metadata": {},
   "outputs": [
    {
     "data": {
      "image/png": "[encoded data removed]",
      "text/plain": [
       "<Figure size 720x2880 with 4 Axes>"
      ]
     },
     "metadata": {},
     "output_type": "display_data"
    }
   ],
   "source": [
    "plt.figure(figsize=(10,40))\n",
    "for i in range(0,len(num_col)):\n",
    "    plt.subplot(5, 2, i+1)\n",
    "    sns.boxplot(data=data[num_col[i]])\n",
    "    plt.xlabel(num_col[i])"
   ]
  },
  {
   "cell_type": "markdown",
   "id": "dc4103e3",
   "metadata": {},
   "source": [
    "## Modelando os classificadores"
   ]
  },
  {
   "cell_type": "markdown",
   "id": "e1d1762b",
   "metadata": {},
   "source": [
    "creating a new copy of dataset(df) and convert it into numerical with the help of labelEncoder"
   ]
  },
  {
   "cell_type": "code",
   "execution_count": null,
   "id": "ee30735f",
   "metadata": {},
   "outputs": [],
   "source": [
    "new_df = df.copy()\n",
    "new_df.head()"
   ]
  },
  {
   "cell_type": "code",
   "execution_count": null,
   "id": "3f61d190",
   "metadata": {},
   "outputs": [],
   "source": [
    "from sklearn.preprocessing import OrdinalEncoder\n",
    "encoder = OrdinalEncoder()\n",
    "#data.drop('salary',axis=1,inplace=True)\n",
    "\n",
    "from sklearn.compose import make_column_selector as selector\n",
    "\n",
    "categorical_columns_selector = selector(dtype_include=object)\n",
    "categorical_columns = categorical_columns_selector(data)\n",
    "data_categorical = data[categorical_columns]\n",
    "data_categorical.head()\n",
    "\n",
    "\n",
    "data_encoded = encoder.fit_transform(data_categorical)\n",
    "\n",
    "a = pd.DataFrame(data_encoded,columns=['workclass', 'education', 'marital-status', 'occupation',\n",
    "       'relationship', 'race', 'sex', 'country','salary'])\n",
    "b = data[['age','hours-per-week']]\n",
    "#c=data['hours-per-week']\n",
    "new_df = pd.concat([b,a],axis=1)"
   ]
  },
  {
   "cell_type": "code",
   "execution_count": null,
   "id": "f0278917",
   "metadata": {},
   "outputs": [],
   "source": [
    "new_df"
   ]
  },
  {
   "cell_type": "code",
   "execution_count": null,
   "id": "38857fc3",
   "metadata": {},
   "outputs": [],
   "source": [
    "new_df.shape"
   ]
  },
  {
   "cell_type": "markdown",
   "id": "9b2ae3e6",
   "metadata": {},
   "source": [
    "Dependent and Independent features"
   ]
  },
  {
   "cell_type": "code",
   "execution_count": null,
   "id": "8b38bc24",
   "metadata": {},
   "outputs": [],
   "source": [
    "X = new_df.iloc[:,:-1]\n",
    "y = new_df.iloc[:,-1]"
   ]
  },
  {
   "cell_type": "code",
   "execution_count": null,
   "id": "801139c6",
   "metadata": {},
   "outputs": [],
   "source": [
    "from sklearn.model_selection import train_test_split\n",
    "X_train,X_test,y_train,y_test = train_test_split(X,y,random_state=7,test_size=0.33)"
   ]
  },
  {
   "cell_type": "code",
   "execution_count": null,
   "id": "3330ffe2",
   "metadata": {},
   "outputs": [],
   "source": [
    "print(X_train.shape)\n",
    "print(y_train.shape)\n",
    "print(X_test.shape)\n",
    "print(y_test.shape)"
   ]
  },
  {
   "cell_type": "markdown",
   "id": "4ed0e469",
   "metadata": {},
   "source": [
    "SVC"
   ]
  },
  {
   "cell_type": "code",
   "execution_count": null,
   "id": "cf64e37b",
   "metadata": {},
   "outputs": [],
   "source": [
    "svc = SVC().fit(X_train,y_train)"
   ]
  },
  {
   "cell_type": "code",
   "execution_count": null,
   "id": "238ed65d",
   "metadata": {},
   "outputs": [],
   "source": [
    "svc.score(X_train,y_train)"
   ]
  },
  {
   "cell_type": "code",
   "execution_count": null,
   "id": "35a6f856",
   "metadata": {},
   "outputs": [],
   "source": [
    "svc_pred = svc.predict(X_test)\n",
    "accuracy_score(y_test,svc_pred)"
   ]
  },
  {
   "cell_type": "markdown",
   "id": "e08a509c",
   "metadata": {},
   "source": [
    "Hyperparameter Tunning"
   ]
  },
  {
   "cell_type": "code",
   "execution_count": null,
   "id": "56bde2ea",
   "metadata": {},
   "outputs": [],
   "source": [
    "params = dict(kernel=['linear', 'poly'],C=[1,0.1,0.01])\n",
    "Grid_model = GridSearchCV(svc,params,n_jobs=-1)\n",
    "Grid_model.fit(X_train,y_train)\n",
    "Grid_model.best_params_"
   ]
  },
  {
   "cell_type": "code",
   "execution_count": null,
   "id": "1cb6256f",
   "metadata": {},
   "outputs": [],
   "source": [
    "best_model = SVC(kernel='poly',gamma='scale',C=1).fit(X_train,y_train)"
   ]
  },
  {
   "cell_type": "code",
   "execution_count": null,
   "id": "a2e60905",
   "metadata": {},
   "outputs": [],
   "source": [
    "best_model.score(X_train,y_train)"
   ]
  },
  {
   "cell_type": "code",
   "execution_count": null,
   "id": "0962c2e9",
   "metadata": {},
   "outputs": [],
   "source": [
    "best_pred = best_model.predict(X_test)"
   ]
  },
  {
   "cell_type": "code",
   "execution_count": null,
   "id": "43666610",
   "metadata": {},
   "outputs": [],
   "source": [
    "accuracy_score(y_test,best_pred)"
   ]
  },
  {
   "cell_type": "code",
   "execution_count": null,
   "id": "a364cfb7",
   "metadata": {},
   "outputs": [],
   "source": []
  }
 ],
 "metadata": {
  "kernelspec": {
   "display_name": "Python 3 (ipykernel)",
   "language": "python",
   "name": "python3"
  },
  "language_info": {
   "codemirror_mode": {
    "name": "ipython",
    "version": 3
   },
   "file_extension": ".py",
   "mimetype": "text/x-python",
   "name": "python",
   "nbconvert_exporter": "python",
   "pygments_lexer": "ipython3",
   "version": "3.10.4"
  },
  "toc": {
   "base_numbering": 1,
   "nav_menu": {},
   "number_sections": true,
   "sideBar": true,
   "skip_h1_title": false,
   "title_cell": "Table of Contents",
   "title_sidebar": "Contents",
   "toc_cell": false,
   "toc_position": {},
   "toc_section_display": true,
   "toc_window_display": true
  }
 },
 "nbformat": 4,
 "nbformat_minor": 5
}
