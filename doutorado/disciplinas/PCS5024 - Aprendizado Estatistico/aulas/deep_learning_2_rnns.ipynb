{
 "cells": [
  {
   "cell_type": "markdown",
   "id": "1e876d74",
   "metadata": {},
   "source": [
    "# PCS5024 - Aprendizado Estatístico - Statistical Learning - 2023/1\n",
    "### Professors: \n",
    "### Anna Helena Reali Costa (anna.reali@usp.br)\n",
    "### Fabio G. Cozman (fgcozman@usp.br)"
   ]
  },
  {
   "cell_type": "code",
   "execution_count": 1,
   "id": "47f5e918",
   "metadata": {},
   "outputs": [],
   "source": [
    "#!pip install --quiet torch numpy pandas gdown uniplot matplotlib"
   ]
  },
  {
   "cell_type": "code",
   "execution_count": 2,
   "id": "d378e917-4b88-4ad6-8262-26bc03ca70c1",
   "metadata": {
    "tags": []
   },
   "outputs": [],
   "source": [
    "import torch\n",
    "import torch.nn as nn\n",
    "import torch.optim as optim\n",
    "import numpy as np\n",
    "import pandas as pd\n",
    "from torch.utils.data import TensorDataset, DataLoader\n",
    "import gdown\n",
    "from tqdm import tqdm\n",
    "import uniplot"
   ]
  },
  {
   "cell_type": "markdown",
   "id": "217d362d-d6b6-427d-bdab-ccd648bd94a7",
   "metadata": {},
   "source": [
    "# Recurrent Neural Networks\n",
    "\n",
    "Recurrent Neural Networks (RNNs) is a family of neural network specifically designed for processing sequential data (Rumelhart et al., 1986a). They can handle sequences of variable length and share parameters across different parts of the model, making them more adaptable to different input forms. RNNs can generalize across different sequence lengths and positions in time, which is particularly important when specific information can occur at multiple positions within a sequence.\n",
    "\n",
    "In contrast to traditional fully connected feedforward networks, RNNs share the same weights across several time steps. This allows the network to learn language rules at each position in the sequence without having to relearn them separately. Convolution across a 1-D temporal sequence is another related idea, used in Time-Delay Neural Networks (TDNNs) (Lang and Hinton, 1988; Waibel et al., 1989; Lang et al., 1990). While convolution allows for parameter sharing across time, it is shallow compared to the deep computational graph sharing in RNNs.\n",
    "\n",
    "**Sharing weights is an idea from 1980s ML and is still very commonly used in Deep Learning!**"
   ]
  },
  {
   "cell_type": "markdown",
   "id": "e811d73c",
   "metadata": {},
   "source": [
    "In general, a RNN can be represented as following:\n",
    "\n",
    "<img src='https://drive.google.com/uc?id=14x9VlBRucvDCwBqS00xjOYWoYqVuMb3w'  width=\"40%\" height=\"40%\">\n",
    "\n",
    "The transformations U, W and V are shared for all $x$ the same way CNNs share the same set of kernels for the whole image."
   ]
  },
  {
   "cell_type": "markdown",
   "id": "ab347de1-3c0b-4902-93bc-b042455f44bc",
   "metadata": {},
   "source": [
    "RNNs compute a new hidden state $h$ for each new input $x$:\n",
    "\n",
    "$h^{(t)} = f(h^{(t-1)},x^{(t)},\\theta)$\n",
    "\n",
    "There are several RNNs models. The most common are:\n",
    "\n",
    "<img src=\"https://miro.medium.com/v2/resize:fit:4800/format:webp/1*B0q2ZLsUUw31eEImeVf3PQ.png\"   width=\"60%\" height=\"60%\">"
   ]
  },
  {
   "cell_type": "markdown",
   "id": "63532fda",
   "metadata": {},
   "source": [
    "In this notebook we'll use the Gated Recurrent Unit or GRU (Chung et al. 2014) architecture to show how RNNs can be used in a forecast task.\n",
    "\n",
    "\n",
    "$r_t = \\sigma(W_{ir} x_t + b_{ir} + W_{hr} h_{(t-1)} + b_{hr}) \\\\\n",
    "z_t = \\sigma(W_{iz} x_t + b_{iz} + W_{hz} h_{(t-1)} + b_{hz}) \\\\\n",
    "n_t = \\tanh(W_{in} x_t + b_{in} + r_t * (W_{hn} h_{(t-1)}+ b_{hn})) \\\\\n",
    "h_t = (1 - z_t) * n_t + z_t * h_{(t-1)}$"
   ]
  },
  {
   "cell_type": "markdown",
   "id": "c32e6ba1",
   "metadata": {},
   "source": [
    "Let's see an example of a sequence of GPS measurements (2 features) being processed by an RNN with hidden size 4.\n",
    "\n",
    "<img src='https://drive.google.com/uc?id=1EbcmMY7pvodQO_8a9mUNOu2ahggvDSEc'  width=\"60%\" height=\"60%\" align=\"left\">"
   ]
  },
  {
   "cell_type": "markdown",
   "id": "1d17ab6c",
   "metadata": {},
   "source": [
    "To further illustrate how RNNs can be used now we'll use sea surface height (SSH) measurements extracted from the Santos Port Channel dataset. This dataset is a collection of measurements from several sensors, but we're only interested in SSH."
   ]
  },
  {
   "cell_type": "code",
   "execution_count": 3,
   "id": "ab244074",
   "metadata": {},
   "outputs": [],
   "source": [
    "import os\n",
    "import sys\n",
    "APP_PATH = os.getcwd()\n",
    "DATA_DIR = os.path.join(APP_PATH, 'data')\n",
    "DATA_FILE = os.path.join(DATA_DIR, 'santos_ssh.csv')"
   ]
  },
  {
   "cell_type": "code",
   "execution_count": 4,
   "id": "a24fb6d5",
   "metadata": {},
   "outputs": [],
   "source": [
    "def read_dataset(path):\n",
    "    data = pd.read_csv(\n",
    "        path,\n",
    "        index_col=None,\n",
    "        comment='|', \n",
    "    )\n",
    "    #remove eventuais espaços vazios no inicio e/ou fim das colunas do tipo string 'object'\n",
    "    for i in data.columns:\n",
    "        if data[i].dtype=='object':\n",
    "            data[i] = data[i].str.strip()\n",
    "\n",
    "    #data = data.drop('fnlwgt', axis=1)\n",
    "    return data"
   ]
  },
  {
   "cell_type": "code",
   "execution_count": 5,
   "id": "cbfd8178",
   "metadata": {},
   "outputs": [],
   "source": [
    "df = read_dataset(DATA_FILE)"
   ]
  },
  {
   "cell_type": "code",
   "execution_count": 6,
   "id": "a6d0a1f0-48a4-4d7a-b7aa-00a48330f4d7",
   "metadata": {
    "tags": []
   },
   "outputs": [
    {
     "data": {
      "text/plain": [
       "(                   datetime   ssh\n",
       " 0 2020-01-01 00:00:00+00:00  0.70\n",
       " 1 2020-01-01 00:10:00+00:00  0.69\n",
       " 2 2020-01-01 00:20:00+00:00  0.68\n",
       " 3 2020-01-01 00:30:00+00:00  0.67\n",
       " 4 2020-01-01 00:40:00+00:00  0.67,\n",
       "                        datetime   ssh\n",
       " 21293 2020-06-01 00:00:00+00:00  0.90\n",
       " 21294 2020-06-01 00:10:00+00:00  0.92\n",
       " 21295 2020-06-01 00:20:00+00:00  0.94\n",
       " 21296 2020-06-01 00:30:00+00:00  0.99\n",
       " 21297 2020-06-01 00:40:00+00:00  1.01)"
      ]
     },
     "execution_count": 6,
     "metadata": {},
     "output_type": "execute_result"
    }
   ],
   "source": [
    "#id = \"1qZv6wwHLyMIZQQNQN8NN676AIgF-XJt5\"\n",
    "#gdown.download(id=id, output=\"santos_ssh.csv\", quiet=False)\n",
    "#df = pd.read_csv(\"santos_ssh.csv\")\n",
    "df[\"datetime\"] = pd.to_datetime(df[\"datetime\"])\n",
    "train_df = df[df[\"datetime\"].dt.tz_convert(None) < np.datetime64(\"2020-06-01 00:00:00\")]\n",
    "test_df = df[df[\"datetime\"].dt.tz_convert(None) >= np.datetime64(\"2020-06-01 00:00:00\")]\n",
    "train_df.head(), test_df.head()"
   ]
  },
  {
   "cell_type": "code",
   "execution_count": 7,
   "id": "e882fb7e-942f-4f5b-a4e9-c79c625ed358",
   "metadata": {
    "tags": []
   },
   "outputs": [],
   "source": [
    "#train_df[\"ssh\"].iloc[:1000].plot()"
   ]
  },
  {
   "cell_type": "code",
   "execution_count": 8,
   "id": "93881bac-d0be-4916-9352-83131c3cff80",
   "metadata": {
    "tags": []
   },
   "outputs": [],
   "source": [
    "device = torch.device(\"cuda\" if torch.cuda.is_available() else \"cpu\")\n",
    "input_size = 1\n",
    "hidden_size = 64\n",
    "num_epochs = 15\n",
    "past_len = 800\n",
    "future_len = 100\n",
    "batch_size = 32\n",
    "learning_rate = 1e-3"
   ]
  },
  {
   "cell_type": "code",
   "execution_count": 9,
   "id": "1d2a52c5-7427-43a3-b255-ff46aa1363ba",
   "metadata": {
    "tags": []
   },
   "outputs": [],
   "source": [
    "# Here we write a SimpleARModel that uses the network \n",
    "# output as the input for the next prediction step (i.e. no teacher forcing)\n",
    "class SimpleARModel(nn.Module):\n",
    "    def __init__(self, input_size, hidden_size):\n",
    "        super().__init__()\n",
    "        self.hidden_size = hidden_size\n",
    "        self.rnn = nn.GRU(input_size, hidden_size, batch_first=True)\n",
    "        self.linear = nn.Linear(hidden_size, input_size)\n",
    "\n",
    "    def forward(self, x, target_seq_len):\n",
    "        # encoding\n",
    "        out, h_n = self.rnn(x)\n",
    "        inp = self.linear(out[:, -1]).unsqueeze(1)\n",
    "\n",
    "        output_seq = torch.empty(\n",
    "            x.shape[0], target_seq_len, x.shape[-1], device=inp.device\n",
    "        )\n",
    "\n",
    "        for i in range(target_seq_len):\n",
    "            out, h_n = self.rnn(inp, h_n)\n",
    "            output_seq[:, i] = self.linear(out[:, -1])\n",
    "        return output_seq\n",
    "\n",
    "\n",
    "def create_sequences(data, past_len, future_len):\n",
    "    xs, ys = [], []\n",
    "    for i in range(past_len, len(data) - future_len):\n",
    "        x = data[(i - past_len) : i]\n",
    "        y = data[i : (i + future_len)]\n",
    "        xs.append(x)\n",
    "        ys.append(y)\n",
    "    return np.array(xs), np.array(ys)"
   ]
  },
  {
   "cell_type": "code",
   "execution_count": 10,
   "id": "a1976190-0c56-4fd8-bd1a-f6c0976c2157",
   "metadata": {
    "tags": []
   },
   "outputs": [],
   "source": [
    "train_data = train_df[\"ssh\"].values\n",
    "test_data = test_df[\"ssh\"].values\n",
    "\n",
    "X_train, y_train = create_sequences(train_data, past_len, future_len)\n",
    "X_test, y_test = create_sequences(test_data, past_len, future_len)\n",
    "\n",
    "X_train = torch.from_numpy(X_train.astype(np.float32))\n",
    "y_train = torch.from_numpy(y_train.astype(np.float32))\n",
    "X_test = torch.from_numpy(X_test.astype(np.float32))\n",
    "y_test = torch.from_numpy(y_test.astype(np.float32))\n",
    "\n",
    "train_dataset = TensorDataset(X_train, y_train)\n",
    "train_dataloader = DataLoader(train_dataset, batch_size=batch_size, shuffle=True)\n",
    "\n",
    "test_dataset = TensorDataset(X_test, y_test)\n",
    "test_dataloader = DataLoader(test_dataset, batch_size=batch_size, shuffle=False)"
   ]
  },
  {
   "cell_type": "code",
   "execution_count": 11,
   "id": "40b1f272-31b2-43dd-8b77-5da47a1a4d07",
   "metadata": {
    "tags": []
   },
   "outputs": [
    {
     "name": "stderr",
     "output_type": "stream",
     "text": [
      "100%|████████████████████████████████████████████████| 638/638 [07:37<00:00,  1.40it/s]\n",
      "  2%|▉                                                 | 2/107 [00:00<00:19,  5.51it/s]"
     ]
    },
    {
     "name": "stdout",
     "output_type": "stream",
     "text": [
      "           Epoch: 1, Test Loss: 0.0942 - Example 0\n",
      "┌────────────────────────────────────────────────────────────┐\n",
      "│\u001b[34m▛\u001b[0m\u001b[34m▚\u001b[0m\u001b[34m▄\u001b[0m\u001b[34m▄\u001b[0m\u001b[34m▄\u001b[0m\u001b[34m▄\u001b[0m\u001b[34m▖\u001b[0m                     \u001b[35m▟\u001b[0m\u001b[35m▀\u001b[0m\u001b[35m▀\u001b[0m\u001b[35m▀\u001b[0m\u001b[35m▀\u001b[0m\u001b[35m▄\u001b[0m                          │ \n",
      "││     \u001b[34m▚\u001b[0m                   \u001b[35m▄\u001b[0m\u001b[35m▀\u001b[0m      \u001b[35m▀\u001b[0m\u001b[35m▚\u001b[0m                        │ 1\n",
      "││      \u001b[34m▀\u001b[0m\u001b[34m▖\u001b[0m                \u001b[35m▝\u001b[0m          \u001b[35m▚\u001b[0m\u001b[35m▖\u001b[0m                     \u001b[35m▄\u001b[0m│ \n",
      "││       \u001b[34m▘\u001b[0m\u001b[34m▖\u001b[0m              \u001b[35m▗\u001b[0m\u001b[35m▘\u001b[0m           \u001b[35m▝\u001b[0m\u001b[35m▀\u001b[0m\u001b[35m▖\u001b[0m               \u001b[35m▖\u001b[0m\u001b[35m▄\u001b[0m\u001b[35m▀\u001b[0m\u001b[35m▀\u001b[0m\u001b[35m▝\u001b[0m│ \n",
      "││       \u001b[34m▝\u001b[0m\u001b[34m▝\u001b[0m\u001b[34m▄\u001b[0m            \u001b[35m▗\u001b[0m\u001b[35m▀\u001b[0m              \u001b[35m▚\u001b[0m\u001b[35m▄\u001b[0m             \u001b[35m▗\u001b[0m\u001b[35m▝\u001b[0m    │ \n",
      "││          \u001b[34m▚\u001b[0m        \u001b[32m▟\u001b[0m\u001b[32m▀\u001b[0m\u001b[32m▀\u001b[0m\u001b[32m▀\u001b[0m\u001b[32m▀\u001b[0m\u001b[32m▀\u001b[0m\u001b[32m▀\u001b[0m\u001b[32m▀\u001b[0m\u001b[32m▀\u001b[0m\u001b[32m▀\u001b[0m\u001b[32m▀\u001b[0m\u001b[32m▀\u001b[0m\u001b[32m▀\u001b[0m\u001b[32m▀\u001b[0m\u001b[32m▀\u001b[0m\u001b[32m▀\u001b[0m\u001b[32m▀\u001b[0m\u001b[32m▀\u001b[0m\u001b[32m▀\u001b[0m\u001b[32m▀\u001b[0m\u001b[32m▀\u001b[0m\u001b[32m▀\u001b[0m\u001b[32m▀\u001b[0m\u001b[32m▀\u001b[0m\u001b[32m▀\u001b[0m\u001b[32m▀\u001b[0m\u001b[32m▀\u001b[0m\u001b[32m▀\u001b[0m\u001b[32m▀\u001b[0m\u001b[32m▀\u001b[0m\u001b[32m▀\u001b[0m\u001b[32m▀\u001b[0m\u001b[32m▀\u001b[0m\u001b[32m▀\u001b[0m\u001b[32m▀\u001b[0m\u001b[32m▀\u001b[0m\u001b[32m▀\u001b[0m\u001b[32m▀\u001b[0m\u001b[32m▀\u001b[0m\u001b[32m▀\u001b[0m│ 0\n",
      "││           \u001b[34m▚\u001b[0m         \u001b[35m▞\u001b[0m                  \u001b[35m▝\u001b[0m\u001b[35m▀\u001b[0m\u001b[35m▖\u001b[0m     \u001b[35m▗\u001b[0m\u001b[35m▄\u001b[0m\u001b[35m▞\u001b[0m        │ \n",
      "││           \u001b[34m▝\u001b[0m\u001b[34m▖\u001b[0m      \u001b[35m▄\u001b[0m                      \u001b[35m▀\u001b[0m\u001b[35m▀\u001b[0m\u001b[35m▀\u001b[0m\u001b[35m▄\u001b[0m\u001b[35m▄\u001b[0m\u001b[35m▄\u001b[0m\u001b[35m▘\u001b[0m          │ \n",
      "││            \u001b[34m▗\u001b[0m\u001b[34m▄\u001b[0m    \u001b[34m▗\u001b[0m\u001b[35m▝\u001b[0m\u001b[35m▀\u001b[0m                                      │ \n",
      "││              \u001b[34m▀\u001b[0m\u001b[34m▄\u001b[0m\u001b[34m▄\u001b[0m\u001b[34m▄\u001b[0m\u001b[34m▘\u001b[0m                                        │ \n",
      "└────────────────────────────────────────────────────────────┘\n",
      " 0                  50                  100\n",
      "                          \u001b[34m██\u001b[0m Input\n",
      "                          \u001b[35m██\u001b[0m Target\n",
      "                          \u001b[32m██\u001b[0m Output\n",
      "           Epoch: 1, Test Loss: 0.1575 - Example 1\n",
      "┌────────────────────────────────────────────────────────────┐\n",
      "││              \u001b[34m▄\u001b[0m\u001b[34m▀\u001b[0m\u001b[34m▀\u001b[0m\u001b[34m▀\u001b[0m\u001b[34m▀\u001b[0m\u001b[35m▄\u001b[0m                                       │ \n",
      "││            \u001b[34m▄\u001b[0m\u001b[34m▞\u001b[0m      \u001b[35m▀\u001b[0m\u001b[35m▜\u001b[0m                                     │ 1\n",
      "││           \u001b[34m▝\u001b[0m       \u001b[32m▚\u001b[0m\u001b[32m▄\u001b[0m\u001b[32m▄\u001b[0m\u001b[32m▄\u001b[0m\u001b[32m▄\u001b[0m\u001b[32m▄\u001b[0m\u001b[32m▄\u001b[0m\u001b[32m▄\u001b[0m\u001b[32m▄\u001b[0m\u001b[32m▄\u001b[0m\u001b[32m▄\u001b[0m\u001b[32m▄\u001b[0m\u001b[32m▄\u001b[0m\u001b[32m▄\u001b[0m\u001b[32m▄\u001b[0m\u001b[32m▄\u001b[0m\u001b[32m▄\u001b[0m\u001b[32m▄\u001b[0m\u001b[32m▄\u001b[0m\u001b[32m▄\u001b[0m\u001b[32m▄\u001b[0m\u001b[32m▄\u001b[0m\u001b[32m▄\u001b[0m\u001b[32m▄\u001b[0m\u001b[32m▄\u001b[0m\u001b[32m▄\u001b[0m\u001b[32m▄\u001b[0m\u001b[32m▄\u001b[0m\u001b[32m▄\u001b[0m\u001b[32m▄\u001b[0m\u001b[32m▄\u001b[0m\u001b[32m▄\u001b[0m\u001b[32m▄\u001b[0m\u001b[32m▄\u001b[0m\u001b[32m▄\u001b[0m\u001b[32m▄\u001b[0m\u001b[32m▄\u001b[0m\u001b[32m▄\u001b[0m\u001b[32m▄\u001b[0m\u001b[32m▄\u001b[0m│ \n",
      "││           \u001b[34m▞\u001b[0m           \u001b[35m▝\u001b[0m\u001b[35m▀\u001b[0m\u001b[35m▖\u001b[0m               \u001b[35m▖\u001b[0m\u001b[35m▄\u001b[0m\u001b[35m▀\u001b[0m\u001b[35m▀\u001b[0m \u001b[35m▀\u001b[0m\u001b[35m▀\u001b[0m\u001b[35m▙\u001b[0m\u001b[35m▄\u001b[0m\u001b[35m▄\u001b[0m        │ \n",
      "││         \u001b[34m▗\u001b[0m\u001b[34m▀\u001b[0m              \u001b[35m▐\u001b[0m\u001b[35m▄\u001b[0m             \u001b[35m▗\u001b[0m\u001b[35m▝\u001b[0m\u001b[35m▘\u001b[0m       \u001b[35m▝\u001b[0m\u001b[35m▀\u001b[0m\u001b[35m▀\u001b[0m\u001b[35m▄\u001b[0m\u001b[35m▖\u001b[0m    │ \n",
      "││         \u001b[34m▞\u001b[0m                 \u001b[35m▄\u001b[0m          \u001b[35m▄\u001b[0m\u001b[35m▀\u001b[0m\u001b[35m▘\u001b[0m             \u001b[35m▐\u001b[0m\u001b[35m▖\u001b[0m   │ 0\n",
      "││        \u001b[34m▞\u001b[0m                  \u001b[35m▝\u001b[0m\u001b[35m▀\u001b[0m\u001b[35m▖\u001b[0m      \u001b[35m▄\u001b[0m\u001b[35m▞\u001b[0m\u001b[35m▘\u001b[0m                \u001b[35m▝\u001b[0m\u001b[35m▖\u001b[0m  │ \n",
      "│\u001b[34m▌\u001b[0m      \u001b[34m▄\u001b[0m                      \u001b[35m▝\u001b[0m\u001b[35m▀\u001b[0m\u001b[35m▀\u001b[0m\u001b[35m▙\u001b[0m\u001b[35m▄\u001b[0m\u001b[35m▄\u001b[0m\u001b[35m▀\u001b[0m                    \u001b[35m▝\u001b[0m\u001b[35m▄\u001b[0m │ \n",
      "│\u001b[34m▗\u001b[0m\u001b[34m▄\u001b[0m\u001b[34m▖\u001b[0m   \u001b[34m▗\u001b[0m \u001b[34m▀\u001b[0m                                                  \u001b[35m▚\u001b[0m│ \n",
      "││ \u001b[34m▀\u001b[0m\u001b[34m▄\u001b[0m\u001b[34m▄\u001b[0m\u001b[34m▄\u001b[0m\u001b[34m▌\u001b[0m                                                    \u001b[35m▝\u001b[0m│ \n",
      "└────────────────────────────────────────────────────────────┘\n",
      " 0                  50                  100\n",
      "                          \u001b[34m██\u001b[0m Input\n",
      "                          \u001b[35m██\u001b[0m Target\n",
      "                          \u001b[32m██\u001b[0m Output\n"
     ]
    },
    {
     "name": "stderr",
     "output_type": "stream",
     "text": [
      "  4%|█▊                                                | 4/107 [00:00<00:18,  5.59it/s]"
     ]
    },
    {
     "name": "stdout",
     "output_type": "stream",
     "text": [
      "           Epoch: 1, Test Loss: 0.1695 - Example 2\n",
      "┌────────────────────────────────────────────────────────────┐\n",
      "││ \u001b[34m▞\u001b[0m\u001b[34m▀\u001b[0m\u001b[34m▀\u001b[0m\u001b[34m▀\u001b[0m\u001b[34m▀\u001b[0m\u001b[34m▚\u001b[0m\u001b[34m▄\u001b[0m                                                   │ \n",
      "│\u001b[34m▄\u001b[0m\u001b[34m▞\u001b[0m       \u001b[34m▀\u001b[0m\u001b[34m▄\u001b[0m                                                 │ 1\n",
      "││         \u001b[34m▝\u001b[0m\u001b[34m▚\u001b[0m\u001b[34m▄\u001b[0m                  \u001b[35m▄\u001b[0m\u001b[35m▄\u001b[0m\u001b[35m▄\u001b[0m\u001b[35m▄\u001b[0m\u001b[35m▄\u001b[0m                       \u001b[35m▐\u001b[0m│ \n",
      "││            \u001b[34m▚\u001b[0m               \u001b[35m▚\u001b[0m\u001b[35m▞\u001b[0m\u001b[35m▘\u001b[0m    \u001b[35m▀\u001b[0m\u001b[35m▀\u001b[0m\u001b[35m▀\u001b[0m\u001b[35m▄\u001b[0m\u001b[35m▄\u001b[0m\u001b[35m▖\u001b[0m                \u001b[35m▗\u001b[0m\u001b[35m▘\u001b[0m│ \n",
      "││             \u001b[34m▀\u001b[0m\u001b[34m▖\u001b[0m    \u001b[32m▞\u001b[0m\u001b[32m▀\u001b[0m\u001b[32m▀\u001b[0m\u001b[32m▀\u001b[0m\u001b[32m▀\u001b[0m\u001b[32m▀\u001b[0m\u001b[32m▀\u001b[0m\u001b[32m▀\u001b[0m\u001b[32m▀\u001b[0m\u001b[32m▀\u001b[0m\u001b[32m▀\u001b[0m\u001b[32m▀\u001b[0m\u001b[32m▀\u001b[0m\u001b[32m▀\u001b[0m\u001b[32m▀\u001b[0m\u001b[32m▀\u001b[0m\u001b[32m▀\u001b[0m\u001b[32m▀\u001b[0m\u001b[32m▀\u001b[0m\u001b[32m▀\u001b[0m\u001b[32m▀\u001b[0m\u001b[32m▀\u001b[0m\u001b[32m▀\u001b[0m\u001b[32m▀\u001b[0m\u001b[32m▀\u001b[0m\u001b[32m▀\u001b[0m\u001b[32m▀\u001b[0m\u001b[32m▀\u001b[0m\u001b[32m▀\u001b[0m\u001b[32m▀\u001b[0m\u001b[32m▀\u001b[0m\u001b[32m▀\u001b[0m\u001b[32m▀\u001b[0m\u001b[32m▀\u001b[0m\u001b[32m▀\u001b[0m\u001b[32m▀\u001b[0m\u001b[32m▀\u001b[0m\u001b[32m▀\u001b[0m\u001b[32m▀\u001b[0m\u001b[32m▀\u001b[0m│ \n",
      "││              \u001b[34m▝\u001b[0m\u001b[34m▜\u001b[0m        \u001b[35m▄\u001b[0m\u001b[35m▀\u001b[0m                \u001b[35m▀\u001b[0m\u001b[35m▖\u001b[0m           \u001b[35m▗\u001b[0m\u001b[35m▖\u001b[0m  │ \n",
      "││                \u001b[34m▀\u001b[0m\u001b[34m▄\u001b[0m\u001b[34m▄\u001b[0m\u001b[35m▄\u001b[0m\u001b[35m▄\u001b[0m\u001b[35m▄\u001b[0m\u001b[35m▄\u001b[0m\u001b[35m▀\u001b[0m                   \u001b[35m▝\u001b[0m\u001b[35m▄\u001b[0m         \u001b[35m▝\u001b[0m\u001b[35m▘\u001b[0m   │ \n",
      "││                                             \u001b[35m▚\u001b[0m       \u001b[35m▗\u001b[0m\u001b[35m▞\u001b[0m    │ \n",
      "││▁▁▁▁▁▁▁▁▁▁▁▁▁▁▁▁▁▁▁▁▁▁▁▁▁▁▁▁▁▁▁▁▁▁▁▁▁▁▁▁▁▁▁▁▁▁\u001b[35m▚\u001b[0m▁▁▁▁▁\u001b[35m▗\u001b[0m\u001b[35m▘\u001b[0m▁▁▁▁▁│ 0\n",
      "││                                               \u001b[35m▚\u001b[0m\u001b[35m▄\u001b[0m\u001b[35m▄\u001b[0m\u001b[35m▄\u001b[0m\u001b[35m▀\u001b[0m\u001b[35m▘\u001b[0m      │ \n",
      "└────────────────────────────────────────────────────────────┘\n",
      " 0                  50                  100\n",
      "                          \u001b[34m██\u001b[0m Input\n",
      "                          \u001b[35m██\u001b[0m Target\n",
      "                          \u001b[32m██\u001b[0m Output\n"
     ]
    },
    {
     "name": "stderr",
     "output_type": "stream",
     "text": [
      "100%|████████████████████████████████████████████████| 107/107 [00:17<00:00,  6.22it/s]\n",
      "100%|████████████████████████████████████████████████| 638/638 [06:27<00:00,  1.65it/s]\n",
      "100%|████████████████████████████████████████████████| 107/107 [00:16<00:00,  6.46it/s]\n",
      "100%|████████████████████████████████████████████████| 638/638 [08:21<00:00,  1.27it/s]\n",
      "100%|████████████████████████████████████████████████| 107/107 [00:16<00:00,  6.57it/s]\n",
      "100%|████████████████████████████████████████████████| 638/638 [08:21<00:00,  1.27it/s]\n",
      "  1%|▍                                                 | 1/107 [00:00<00:19,  5.57it/s]"
     ]
    },
    {
     "name": "stdout",
     "output_type": "stream",
     "text": [
      "           Epoch: 4, Test Loss: 0.1064 - Example 0\n",
      "┌────────────────────────────────────────────────────────────┐\n",
      "│\u001b[34m▛\u001b[0m\u001b[34m▚\u001b[0m\u001b[34m▄\u001b[0m\u001b[34m▄\u001b[0m\u001b[34m▄\u001b[0m\u001b[34m▄\u001b[0m\u001b[34m▖\u001b[0m                     \u001b[35m▟\u001b[0m\u001b[35m▀\u001b[0m\u001b[35m▀\u001b[0m\u001b[35m▀\u001b[0m\u001b[35m▀\u001b[0m\u001b[35m▄\u001b[0m                          │ \n",
      "││     \u001b[34m▚\u001b[0m                   \u001b[35m▄\u001b[0m\u001b[35m▀\u001b[0m      \u001b[35m▀\u001b[0m\u001b[35m▚\u001b[0m                        │ 1\n",
      "││      \u001b[34m▀\u001b[0m\u001b[34m▖\u001b[0m                \u001b[35m▝\u001b[0m          \u001b[35m▚\u001b[0m\u001b[35m▖\u001b[0m                     \u001b[35m▄\u001b[0m│ \n",
      "││       \u001b[34m▘\u001b[0m\u001b[34m▖\u001b[0m              \u001b[35m▗\u001b[0m\u001b[35m▘\u001b[0m           \u001b[35m▝\u001b[0m\u001b[35m▀\u001b[0m\u001b[35m▖\u001b[0m               \u001b[35m▖\u001b[0m\u001b[35m▄\u001b[0m\u001b[35m▀\u001b[0m\u001b[35m▀\u001b[0m\u001b[35m▝\u001b[0m│ \n",
      "││       \u001b[34m▝\u001b[0m\u001b[34m▝\u001b[0m\u001b[34m▄\u001b[0m         \u001b[32m▞\u001b[0m\u001b[32m▚\u001b[0m\u001b[32m▟\u001b[0m\u001b[32m▀\u001b[0m\u001b[32m▀\u001b[0m\u001b[32m▀\u001b[0m\u001b[32m▀\u001b[0m\u001b[32m▀\u001b[0m\u001b[32m▀\u001b[0m\u001b[32m▀\u001b[0m\u001b[32m▀\u001b[0m\u001b[32m▀\u001b[0m\u001b[32m▀\u001b[0m\u001b[32m▚\u001b[0m\u001b[32m▄\u001b[0m\u001b[32m▄\u001b[0m\u001b[32m▄\u001b[0m\u001b[32m▄\u001b[0m\u001b[32m▄\u001b[0m\u001b[32m▄\u001b[0m\u001b[32m▄\u001b[0m\u001b[32m▄\u001b[0m\u001b[32m▄\u001b[0m\u001b[32m▄\u001b[0m\u001b[32m▄\u001b[0m\u001b[32m▄\u001b[0m\u001b[32m▄\u001b[0m\u001b[32m▄\u001b[0m\u001b[32m▄\u001b[0m\u001b[32m▄\u001b[0m\u001b[32m▄\u001b[0m\u001b[32m▄\u001b[0m\u001b[32m▄\u001b[0m\u001b[32m▄\u001b[0m\u001b[32m▄\u001b[0m\u001b[32m▄\u001b[0m\u001b[32m▄\u001b[0m\u001b[32m▄\u001b[0m\u001b[32m▄\u001b[0m\u001b[32m▄\u001b[0m│ \n",
      "││          \u001b[34m▚\u001b[0m          \u001b[35m▗\u001b[0m\u001b[35m▘\u001b[0m                 \u001b[35m▖\u001b[0m          \u001b[35m▄\u001b[0m\u001b[35m▀\u001b[0m\u001b[35m▘\u001b[0m     │ 0\n",
      "││           \u001b[34m▚\u001b[0m         \u001b[35m▞\u001b[0m                  \u001b[35m▝\u001b[0m\u001b[35m▀\u001b[0m\u001b[35m▖\u001b[0m     \u001b[35m▗\u001b[0m\u001b[35m▄\u001b[0m\u001b[35m▞\u001b[0m        │ \n",
      "││           \u001b[34m▝\u001b[0m\u001b[34m▖\u001b[0m      \u001b[35m▄\u001b[0m                      \u001b[35m▀\u001b[0m\u001b[35m▀\u001b[0m\u001b[35m▀\u001b[0m\u001b[35m▄\u001b[0m\u001b[35m▄\u001b[0m\u001b[35m▄\u001b[0m\u001b[35m▘\u001b[0m          │ \n",
      "││            \u001b[34m▗\u001b[0m\u001b[34m▄\u001b[0m    \u001b[34m▗\u001b[0m\u001b[35m▝\u001b[0m\u001b[35m▀\u001b[0m                                      │ \n",
      "││              \u001b[34m▀\u001b[0m\u001b[34m▄\u001b[0m\u001b[34m▄\u001b[0m\u001b[34m▄\u001b[0m\u001b[34m▘\u001b[0m                                        │ \n",
      "└────────────────────────────────────────────────────────────┘\n",
      " 0                  50                  100\n",
      "                          \u001b[34m██\u001b[0m Input\n",
      "                          \u001b[35m██\u001b[0m Target\n",
      "                          \u001b[32m██\u001b[0m Output\n",
      "           Epoch: 4, Test Loss: 0.1678 - Example 1\n"
     ]
    },
    {
     "name": "stderr",
     "output_type": "stream",
     "text": [
      "  3%|█▍                                                | 3/107 [00:00<00:19,  5.43it/s]"
     ]
    },
    {
     "name": "stdout",
     "output_type": "stream",
     "text": [
      "┌────────────────────────────────────────────────────────────┐\n",
      "││              \u001b[34m▄\u001b[0m\u001b[34m▀\u001b[0m\u001b[34m▀\u001b[0m\u001b[34m▀\u001b[0m\u001b[34m▀\u001b[0m\u001b[35m▄\u001b[0m                                       │ \n",
      "││            \u001b[34m▄\u001b[0m\u001b[34m▞\u001b[0m      \u001b[35m▀\u001b[0m\u001b[35m▜\u001b[0m                                     │ 1\n",
      "││           \u001b[34m▝\u001b[0m       \u001b[32m▚\u001b[0m\u001b[32m▞\u001b[0m\u001b[32m▀\u001b[0m\u001b[32m▀\u001b[0m\u001b[32m▀\u001b[0m\u001b[32m▀\u001b[0m\u001b[32m▀\u001b[0m\u001b[32m▀\u001b[0m\u001b[32m▀\u001b[0m\u001b[32m▀\u001b[0m\u001b[32m▀\u001b[0m\u001b[32m▀\u001b[0m\u001b[32m▀\u001b[0m\u001b[32m▀\u001b[0m\u001b[32m▀\u001b[0m\u001b[32m▀\u001b[0m\u001b[32m▀\u001b[0m\u001b[32m▀\u001b[0m\u001b[32m▀\u001b[0m\u001b[32m▀\u001b[0m\u001b[32m▀\u001b[0m\u001b[32m▀\u001b[0m\u001b[32m▀\u001b[0m\u001b[32m▀\u001b[0m\u001b[32m▀\u001b[0m\u001b[32m▀\u001b[0m\u001b[32m▀\u001b[0m\u001b[32m▀\u001b[0m\u001b[32m▀\u001b[0m\u001b[32m▀\u001b[0m\u001b[32m▀\u001b[0m\u001b[32m▀\u001b[0m\u001b[32m▀\u001b[0m\u001b[32m▀\u001b[0m\u001b[32m▀\u001b[0m\u001b[32m▀\u001b[0m\u001b[32m▀\u001b[0m\u001b[32m▀\u001b[0m\u001b[32m▀\u001b[0m\u001b[32m▀\u001b[0m│ \n",
      "││           \u001b[34m▞\u001b[0m           \u001b[35m▝\u001b[0m\u001b[35m▀\u001b[0m\u001b[35m▖\u001b[0m               \u001b[35m▖\u001b[0m\u001b[35m▄\u001b[0m\u001b[35m▀\u001b[0m\u001b[35m▀\u001b[0m \u001b[35m▀\u001b[0m\u001b[35m▀\u001b[0m\u001b[35m▙\u001b[0m\u001b[35m▄\u001b[0m\u001b[35m▄\u001b[0m        │ \n",
      "││         \u001b[34m▗\u001b[0m\u001b[34m▀\u001b[0m              \u001b[35m▐\u001b[0m\u001b[35m▄\u001b[0m             \u001b[35m▗\u001b[0m\u001b[35m▝\u001b[0m\u001b[35m▘\u001b[0m       \u001b[35m▝\u001b[0m\u001b[35m▀\u001b[0m\u001b[35m▀\u001b[0m\u001b[35m▄\u001b[0m\u001b[35m▖\u001b[0m    │ \n",
      "││         \u001b[34m▞\u001b[0m                 \u001b[35m▄\u001b[0m          \u001b[35m▄\u001b[0m\u001b[35m▀\u001b[0m\u001b[35m▘\u001b[0m             \u001b[35m▐\u001b[0m\u001b[35m▖\u001b[0m   │ 0\n",
      "││        \u001b[34m▞\u001b[0m                  \u001b[35m▝\u001b[0m\u001b[35m▀\u001b[0m\u001b[35m▖\u001b[0m      \u001b[35m▄\u001b[0m\u001b[35m▞\u001b[0m\u001b[35m▘\u001b[0m                \u001b[35m▝\u001b[0m\u001b[35m▖\u001b[0m  │ \n",
      "│\u001b[34m▌\u001b[0m      \u001b[34m▄\u001b[0m                      \u001b[35m▝\u001b[0m\u001b[35m▀\u001b[0m\u001b[35m▀\u001b[0m\u001b[35m▙\u001b[0m\u001b[35m▄\u001b[0m\u001b[35m▄\u001b[0m\u001b[35m▀\u001b[0m                    \u001b[35m▝\u001b[0m\u001b[35m▄\u001b[0m │ \n",
      "│\u001b[34m▗\u001b[0m\u001b[34m▄\u001b[0m\u001b[34m▖\u001b[0m   \u001b[34m▗\u001b[0m \u001b[34m▀\u001b[0m                                                  \u001b[35m▚\u001b[0m│ \n",
      "││ \u001b[34m▀\u001b[0m\u001b[34m▄\u001b[0m\u001b[34m▄\u001b[0m\u001b[34m▄\u001b[0m\u001b[34m▌\u001b[0m                                                    \u001b[35m▝\u001b[0m│ \n",
      "└────────────────────────────────────────────────────────────┘\n",
      " 0                  50                  100\n",
      "                          \u001b[34m██\u001b[0m Input\n",
      "                          \u001b[35m██\u001b[0m Target\n",
      "                          \u001b[32m██\u001b[0m Output\n",
      "           Epoch: 4, Test Loss: 0.1855 - Example 2\n",
      "┌────────────────────────────────────────────────────────────┐\n",
      "││ \u001b[34m▞\u001b[0m\u001b[34m▀\u001b[0m\u001b[34m▀\u001b[0m\u001b[34m▀\u001b[0m\u001b[34m▀\u001b[0m\u001b[34m▚\u001b[0m\u001b[34m▄\u001b[0m                                                   │ \n",
      "│\u001b[34m▄\u001b[0m\u001b[34m▞\u001b[0m       \u001b[34m▀\u001b[0m\u001b[34m▄\u001b[0m                                                 │ 1\n",
      "││         \u001b[34m▝\u001b[0m\u001b[34m▚\u001b[0m\u001b[34m▄\u001b[0m                  \u001b[35m▄\u001b[0m\u001b[35m▄\u001b[0m\u001b[35m▄\u001b[0m\u001b[35m▄\u001b[0m\u001b[35m▄\u001b[0m                       \u001b[35m▐\u001b[0m│ \n",
      "││            \u001b[34m▚\u001b[0m      \u001b[32m▗\u001b[0m\u001b[32m▄\u001b[0m\u001b[32m▄\u001b[0m\u001b[32m▄\u001b[0m\u001b[32m▄\u001b[0m\u001b[32m▄\u001b[0m\u001b[32m▄\u001b[0m\u001b[32m▄\u001b[0m\u001b[32m▄\u001b[0m\u001b[32m▄\u001b[0m\u001b[32m▄\u001b[0m\u001b[32m▄\u001b[0m\u001b[32m▄\u001b[0m\u001b[32m▄\u001b[0m\u001b[32m▄\u001b[0m\u001b[32m▄\u001b[0m\u001b[32m▄\u001b[0m\u001b[32m▄\u001b[0m\u001b[32m▄\u001b[0m\u001b[32m▄\u001b[0m\u001b[32m▄\u001b[0m\u001b[32m▄\u001b[0m\u001b[32m▄\u001b[0m\u001b[32m▄\u001b[0m\u001b[32m▄\u001b[0m\u001b[32m▄\u001b[0m\u001b[32m▄\u001b[0m\u001b[32m▄\u001b[0m\u001b[32m▄\u001b[0m\u001b[32m▄\u001b[0m\u001b[32m▄\u001b[0m\u001b[32m▄\u001b[0m\u001b[32m▄\u001b[0m\u001b[32m▄\u001b[0m\u001b[32m▄\u001b[0m\u001b[32m▄\u001b[0m\u001b[32m▄\u001b[0m\u001b[32m▄\u001b[0m\u001b[32m▄\u001b[0m\u001b[32m▄\u001b[0m│ \n",
      "││             \u001b[34m▀\u001b[0m\u001b[34m▖\u001b[0m    \u001b[32m▘\u001b[0m      \u001b[35m▚\u001b[0m\u001b[35m▟\u001b[0m            \u001b[35m▀\u001b[0m\u001b[35m▚\u001b[0m              \u001b[35m▗\u001b[0m\u001b[35m▘\u001b[0m │ \n",
      "││              \u001b[34m▝\u001b[0m\u001b[34m▜\u001b[0m        \u001b[35m▄\u001b[0m\u001b[35m▀\u001b[0m                \u001b[35m▀\u001b[0m\u001b[35m▖\u001b[0m           \u001b[35m▗\u001b[0m\u001b[35m▖\u001b[0m  │ \n",
      "││                \u001b[34m▀\u001b[0m\u001b[34m▄\u001b[0m\u001b[34m▄\u001b[0m\u001b[35m▄\u001b[0m\u001b[35m▄\u001b[0m\u001b[35m▄\u001b[0m\u001b[35m▄\u001b[0m\u001b[35m▀\u001b[0m                   \u001b[35m▝\u001b[0m\u001b[35m▄\u001b[0m         \u001b[35m▝\u001b[0m\u001b[35m▘\u001b[0m   │ \n",
      "││                                             \u001b[35m▚\u001b[0m       \u001b[35m▗\u001b[0m\u001b[35m▞\u001b[0m    │ \n",
      "││▁▁▁▁▁▁▁▁▁▁▁▁▁▁▁▁▁▁▁▁▁▁▁▁▁▁▁▁▁▁▁▁▁▁▁▁▁▁▁▁▁▁▁▁▁▁\u001b[35m▚\u001b[0m▁▁▁▁▁\u001b[35m▗\u001b[0m\u001b[35m▘\u001b[0m▁▁▁▁▁│ 0\n",
      "││                                               \u001b[35m▚\u001b[0m\u001b[35m▄\u001b[0m\u001b[35m▄\u001b[0m\u001b[35m▄\u001b[0m\u001b[35m▀\u001b[0m\u001b[35m▘\u001b[0m      │ \n",
      "└────────────────────────────────────────────────────────────┘\n",
      " 0                  50                  100\n",
      "                          \u001b[34m██\u001b[0m Input\n",
      "                          \u001b[35m██\u001b[0m Target\n",
      "                          \u001b[32m██\u001b[0m Output\n"
     ]
    },
    {
     "name": "stderr",
     "output_type": "stream",
     "text": [
      "100%|████████████████████████████████████████████████| 107/107 [00:16<00:00,  6.51it/s]\n",
      "100%|████████████████████████████████████████████████| 638/638 [06:34<00:00,  1.62it/s]\n",
      "100%|████████████████████████████████████████████████| 107/107 [00:15<00:00,  6.71it/s]\n",
      "100%|████████████████████████████████████████████████| 638/638 [05:38<00:00,  1.88it/s]\n",
      "100%|████████████████████████████████████████████████| 107/107 [00:19<00:00,  5.54it/s]\n",
      "100%|████████████████████████████████████████████████| 638/638 [05:34<00:00,  1.90it/s]\n",
      "  1%|▍                                                 | 1/107 [00:00<00:19,  5.51it/s]"
     ]
    },
    {
     "name": "stdout",
     "output_type": "stream",
     "text": [
      "           Epoch: 7, Test Loss: 0.0272 - Example 0\n",
      "┌────────────────────────────────────────────────────────────┐\n",
      "│\u001b[34m▛\u001b[0m\u001b[34m▚\u001b[0m\u001b[34m▄\u001b[0m\u001b[34m▄\u001b[0m\u001b[34m▄\u001b[0m\u001b[34m▄\u001b[0m\u001b[34m▖\u001b[0m                     \u001b[35m▟\u001b[0m\u001b[32m▄\u001b[0m\u001b[32m▀\u001b[0m\u001b[32m▀\u001b[0m\u001b[32m▀\u001b[0m\u001b[32m▀\u001b[0m\u001b[32m▀\u001b[0m\u001b[32m▖\u001b[0m                        │ \n",
      "││     \u001b[34m▚\u001b[0m                   \u001b[35m▄\u001b[0m\u001b[32m▗\u001b[0m\u001b[32m▞\u001b[0m     \u001b[35m▀\u001b[0m\u001b[32m▝\u001b[0m\u001b[32m▚\u001b[0m\u001b[32m▖\u001b[0m                     \u001b[32m▗\u001b[0m│ 1\n",
      "││      \u001b[34m▀\u001b[0m\u001b[34m▖\u001b[0m                \u001b[35m▝\u001b[0m\u001b[32m▐\u001b[0m\u001b[32m▘\u001b[0m        \u001b[35m▚\u001b[0m\u001b[32m▀\u001b[0m\u001b[32m▄\u001b[0m                  \u001b[32m▗\u001b[0m\u001b[32m▀\u001b[0m\u001b[32m▀\u001b[0m│ \n",
      "││       \u001b[34m▘\u001b[0m\u001b[34m▖\u001b[0m              \u001b[32m▗\u001b[0m\u001b[32m▞\u001b[0m\u001b[32m▘\u001b[0m          \u001b[35m▝\u001b[0m\u001b[35m▀\u001b[0m\u001b[32m▙\u001b[0m               \u001b[32m▗\u001b[0m\u001b[32m▀\u001b[0m\u001b[32m▘\u001b[0m\u001b[35m▀\u001b[0m\u001b[35m▝\u001b[0m│ \n",
      "││       \u001b[34m▝\u001b[0m\u001b[34m▝\u001b[0m\u001b[34m▄\u001b[0m            \u001b[32m▗\u001b[0m\u001b[32m▞\u001b[0m              \u001b[35m▚\u001b[0m\u001b[32m▚\u001b[0m\u001b[32m▖\u001b[0m           \u001b[32m▗\u001b[0m\u001b[32m▞\u001b[0m\u001b[32m▘\u001b[0m    │ \n",
      "││          \u001b[34m▚\u001b[0m        \u001b[32m▄\u001b[0m\u001b[32m▄\u001b[0m\u001b[32m▟\u001b[0m\u001b[32m▘\u001b[0m                 \u001b[32m▀\u001b[0m\u001b[32m▄\u001b[0m        \u001b[32m▗\u001b[0m\u001b[32m▞\u001b[0m\u001b[32m▀\u001b[0m\u001b[35m▘\u001b[0m     │ 0\n",
      "││           \u001b[34m▚\u001b[0m         \u001b[35m▞\u001b[0m                  \u001b[35m▝\u001b[0m\u001b[35m▀\u001b[0m\u001b[32m▚\u001b[0m\u001b[32m▄\u001b[0m    \u001b[32m▄\u001b[0m\u001b[32m▄\u001b[0m\u001b[32m▀\u001b[0m        │ \n",
      "││           \u001b[34m▝\u001b[0m\u001b[34m▖\u001b[0m      \u001b[35m▄\u001b[0m                      \u001b[35m▀\u001b[0m\u001b[35m▀\u001b[0m\u001b[32m▀\u001b[0m\u001b[32m▀\u001b[0m\u001b[32m▀\u001b[0m\u001b[32m▀\u001b[0m\u001b[32m▘\u001b[0m          │ \n",
      "││            \u001b[34m▗\u001b[0m\u001b[34m▄\u001b[0m    \u001b[34m▗\u001b[0m\u001b[35m▝\u001b[0m\u001b[35m▀\u001b[0m                                      │ \n",
      "││              \u001b[34m▀\u001b[0m\u001b[34m▄\u001b[0m\u001b[34m▄\u001b[0m\u001b[34m▄\u001b[0m\u001b[34m▘\u001b[0m                                        │ \n",
      "└────────────────────────────────────────────────────────────┘\n",
      " 0                  50                  100\n",
      "                          \u001b[34m██\u001b[0m Input\n",
      "                          \u001b[35m██\u001b[0m Target\n",
      "                          \u001b[32m██\u001b[0m Output\n",
      "           Epoch: 7, Test Loss: 0.1085 - Example 1\n"
     ]
    },
    {
     "name": "stderr",
     "output_type": "stream",
     "text": [
      "  3%|█▍                                                | 3/107 [00:00<00:19,  5.36it/s]"
     ]
    },
    {
     "name": "stdout",
     "output_type": "stream",
     "text": [
      "┌────────────────────────────────────────────────────────────┐\n",
      "││               \u001b[34m▄\u001b[0m\u001b[34m▄\u001b[0m\u001b[34m▄\u001b[0m\u001b[34m▄\u001b[0m                         \u001b[32m▞\u001b[0m\u001b[32m▀\u001b[0m\u001b[32m▀\u001b[0m\u001b[32m▀\u001b[0m\u001b[32m▀\u001b[0m\u001b[32m▀\u001b[0m\u001b[32m▄\u001b[0m        │ \n",
      "││             \u001b[34m▗\u001b[0m\u001b[34m▀\u001b[0m    \u001b[32m▀\u001b[0m\u001b[32m▀\u001b[0m\u001b[32m▚\u001b[0m\u001b[32m▖\u001b[0m                   \u001b[32m▄\u001b[0m\u001b[32m▀\u001b[0m      \u001b[32m▝\u001b[0m\u001b[32m▀\u001b[0m\u001b[32m▄\u001b[0m      │ \n",
      "││           \u001b[34m▗\u001b[0m\u001b[34m▀\u001b[0m\u001b[34m▘\u001b[0m       \u001b[35m▝\u001b[0m\u001b[32m▝\u001b[0m\u001b[32m▚\u001b[0m                 \u001b[32m▞\u001b[0m\u001b[32m▘\u001b[0m         \u001b[32m▝\u001b[0m\u001b[32m▚\u001b[0m\u001b[32m▖\u001b[0m    │ 1\n",
      "││           \u001b[34m▝\u001b[0m          \u001b[35m▝\u001b[0m\u001b[35m▜\u001b[0m\u001b[32m▀\u001b[0m\u001b[32m▖\u001b[0m              \u001b[32m▛\u001b[0m  \u001b[35m▀\u001b[0m\u001b[35m▛\u001b[0m\u001b[35m▀\u001b[0m\u001b[35m▀\u001b[0m\u001b[35m▄\u001b[0m\u001b[35m▖\u001b[0m     \u001b[32m▝\u001b[0m\u001b[32m▄\u001b[0m   │ \n",
      "││         \u001b[34m▗\u001b[0m\u001b[34m▄\u001b[0m\u001b[34m▘\u001b[0m             \u001b[32m▝\u001b[0m\u001b[32m▄\u001b[0m           \u001b[32m▗\u001b[0m\u001b[32m▀\u001b[0m\u001b[35m▗\u001b[0m\u001b[35m▀\u001b[0m\u001b[35m▀\u001b[0m     \u001b[35m▝\u001b[0m\u001b[35m▀\u001b[0m\u001b[35m▀\u001b[0m\u001b[35m▀\u001b[0m\u001b[35m▚\u001b[0m\u001b[35m▄\u001b[0m\u001b[35m▖\u001b[0m \u001b[32m▜\u001b[0m\u001b[32m▄\u001b[0m │ \n",
      "││         \u001b[34m▄\u001b[0m                \u001b[35m▀\u001b[0m\u001b[32m▚\u001b[0m         \u001b[32m▄\u001b[0m\u001b[32m▘\u001b[0m\u001b[35m▀\u001b[0m\u001b[35m▖\u001b[0m             \u001b[35m▗\u001b[0m   \u001b[32m▀\u001b[0m│ \n",
      "││        \u001b[34m▝\u001b[0m                  \u001b[35m▝\u001b[0m\u001b[32m▀\u001b[0m\u001b[32m▄\u001b[0m\u001b[32m▖\u001b[0m    \u001b[32m▗\u001b[0m\u001b[32m▛\u001b[0m\u001b[35m▄\u001b[0m\u001b[35m▘\u001b[0m                \u001b[35m▀\u001b[0m\u001b[35m▖\u001b[0m  │ 0\n",
      "│\u001b[34m▌\u001b[0m        \u001b[34m▘\u001b[0m                    \u001b[35m▀\u001b[0m\u001b[32m▀\u001b[0m\u001b[32m▀\u001b[0m\u001b[32m▀\u001b[0m\u001b[32m▀\u001b[0m\u001b[32m▀\u001b[0m\u001b[32m▘\u001b[0m\u001b[35m▀\u001b[0m                   \u001b[35m▐\u001b[0m\u001b[35m▄\u001b[0m │ \n",
      "│\u001b[34m▗\u001b[0m\u001b[34m▄\u001b[0m    \u001b[34m▗\u001b[0m\u001b[34m▀\u001b[0m\u001b[34m▛\u001b[0m                                                  \u001b[35m▚\u001b[0m│ \n",
      "││ \u001b[34m▀\u001b[0m\u001b[34m▄\u001b[0m\u001b[34m▄\u001b[0m\u001b[34m▄\u001b[0m\u001b[34m▌\u001b[0m                                                    \u001b[35m▝\u001b[0m│ \n",
      "└────────────────────────────────────────────────────────────┘\n",
      " 0                  50                  100\n",
      "                          \u001b[34m██\u001b[0m Input\n",
      "                          \u001b[35m██\u001b[0m Target\n",
      "                          \u001b[32m██\u001b[0m Output\n",
      "           Epoch: 7, Test Loss: 0.0816 - Example 2\n",
      "┌────────────────────────────────────────────────────────────┐\n",
      "││ \u001b[34m▞\u001b[0m\u001b[34m▀\u001b[0m\u001b[34m▀\u001b[0m\u001b[34m▀\u001b[0m\u001b[34m▀\u001b[0m\u001b[34m▚\u001b[0m\u001b[34m▄\u001b[0m                      \u001b[32m▗\u001b[0m\u001b[32m▄\u001b[0m\u001b[32m▀\u001b[0m\u001b[32m▀\u001b[0m\u001b[32m▀\u001b[0m\u001b[32m▀\u001b[0m\u001b[32m▀\u001b[0m\u001b[32m▚\u001b[0m\u001b[32m▖\u001b[0m                    │ \n",
      "│\u001b[34m▄\u001b[0m\u001b[34m▞\u001b[0m       \u001b[34m▀\u001b[0m\u001b[34m▄\u001b[0m                  \u001b[32m▗\u001b[0m\u001b[32m▄\u001b[0m\u001b[32m▘\u001b[0m       \u001b[32m▝\u001b[0m\u001b[32m▚\u001b[0m\u001b[32m▖\u001b[0m                  │ 1\n",
      "││         \u001b[34m▝\u001b[0m\u001b[34m▚\u001b[0m\u001b[34m▄\u001b[0m               \u001b[32m▟\u001b[0m\u001b[32m▘\u001b[0m \u001b[35m▄\u001b[0m\u001b[35m▄\u001b[0m\u001b[35m▄\u001b[0m\u001b[35m▄\u001b[0m\u001b[35m▄\u001b[0m     \u001b[32m▀\u001b[0m\u001b[32m▄\u001b[0m                \u001b[35m▐\u001b[0m│ \n",
      "││            \u001b[34m▚\u001b[0m            \u001b[32m▄\u001b[0m\u001b[32m▀\u001b[0m \u001b[35m▚\u001b[0m\u001b[35m▞\u001b[0m\u001b[35m▘\u001b[0m    \u001b[35m▀\u001b[0m\u001b[35m▀\u001b[0m\u001b[35m▀\u001b[0m\u001b[35m▄\u001b[0m\u001b[35m▄\u001b[0m\u001b[35m▖\u001b[0m \u001b[32m▚\u001b[0m\u001b[32m▖\u001b[0m             \u001b[32m▄\u001b[0m\u001b[32m▞\u001b[0m│ \n",
      "││             \u001b[34m▀\u001b[0m\u001b[34m▖\u001b[0m        \u001b[32m▄\u001b[0m\u001b[32m▀\u001b[0m \u001b[35m▚\u001b[0m\u001b[35m▟\u001b[0m            \u001b[35m▀\u001b[0m\u001b[35m▚\u001b[0m \u001b[32m▝\u001b[0m\u001b[32m▙\u001b[0m         \u001b[32m▗\u001b[0m\u001b[32m▄\u001b[0m\u001b[32m▀\u001b[0m\u001b[35m▘\u001b[0m │ \n",
      "││              \u001b[34m▝\u001b[0m\u001b[34m▜\u001b[0m   \u001b[32m▀\u001b[0m\u001b[32m▀\u001b[0m\u001b[32m▀\u001b[0m\u001b[32m▀\u001b[0m \u001b[35m▄\u001b[0m\u001b[35m▀\u001b[0m                \u001b[35m▀\u001b[0m\u001b[35m▖\u001b[0m \u001b[32m▀\u001b[0m\u001b[32m▙\u001b[0m\u001b[32m▄\u001b[0m    \u001b[32m▄\u001b[0m\u001b[32m▞\u001b[0m\u001b[32m▀\u001b[0m\u001b[35m▗\u001b[0m\u001b[35m▖\u001b[0m  │ \n",
      "││                \u001b[34m▀\u001b[0m\u001b[34m▄\u001b[0m\u001b[34m▄\u001b[0m\u001b[35m▄\u001b[0m\u001b[35m▄\u001b[0m\u001b[35m▄\u001b[0m\u001b[35m▄\u001b[0m\u001b[35m▀\u001b[0m                   \u001b[35m▝\u001b[0m\u001b[35m▄\u001b[0m   \u001b[32m▀\u001b[0m\u001b[32m▀\u001b[0m\u001b[32m▀\u001b[0m\u001b[32m▀\u001b[0m  \u001b[35m▝\u001b[0m\u001b[35m▘\u001b[0m   │ \n",
      "││                                             \u001b[35m▚\u001b[0m       \u001b[35m▗\u001b[0m\u001b[35m▞\u001b[0m    │ \n",
      "││▁▁▁▁▁▁▁▁▁▁▁▁▁▁▁▁▁▁▁▁▁▁▁▁▁▁▁▁▁▁▁▁▁▁▁▁▁▁▁▁▁▁▁▁▁▁\u001b[35m▚\u001b[0m▁▁▁▁▁\u001b[35m▗\u001b[0m\u001b[35m▘\u001b[0m▁▁▁▁▁│ 0\n",
      "││                                               \u001b[35m▚\u001b[0m\u001b[35m▄\u001b[0m\u001b[35m▄\u001b[0m\u001b[35m▄\u001b[0m\u001b[35m▀\u001b[0m\u001b[35m▘\u001b[0m      │ \n",
      "└────────────────────────────────────────────────────────────┘\n",
      " 0                  50                  100\n",
      "                          \u001b[34m██\u001b[0m Input\n",
      "                          \u001b[35m██\u001b[0m Target\n",
      "                          \u001b[32m██\u001b[0m Output\n"
     ]
    },
    {
     "name": "stderr",
     "output_type": "stream",
     "text": [
      "100%|████████████████████████████████████████████████| 107/107 [00:15<00:00,  6.83it/s]\n",
      "100%|████████████████████████████████████████████████| 638/638 [05:33<00:00,  1.91it/s]\n",
      "100%|████████████████████████████████████████████████| 107/107 [00:15<00:00,  6.69it/s]\n",
      "100%|████████████████████████████████████████████████| 638/638 [05:37<00:00,  1.89it/s]\n",
      "100%|████████████████████████████████████████████████| 107/107 [00:16<00:00,  6.50it/s]\n",
      "100%|████████████████████████████████████████████████| 638/638 [05:34<00:00,  1.91it/s]\n",
      "  1%|▍                                                 | 1/107 [00:00<00:17,  6.06it/s]"
     ]
    },
    {
     "name": "stdout",
     "output_type": "stream",
     "text": [
      "           Epoch: 10, Test Loss: 0.0243 - Example 0\n",
      "┌────────────────────────────────────────────────────────────┐\n",
      "││                           \u001b[32m▗\u001b[0m\u001b[32m▀\u001b[0m\u001b[32m▀\u001b[0m\u001b[32m▀\u001b[0m\u001b[32m▀\u001b[0m\u001b[32m▚\u001b[0m\u001b[32m▖\u001b[0m                         │ \n",
      "│\u001b[34m▛\u001b[0m\u001b[34m▚\u001b[0m\u001b[34m▄\u001b[0m\u001b[34m▄\u001b[0m\u001b[34m▄\u001b[0m\u001b[34m▄\u001b[0m\u001b[34m▖\u001b[0m                    \u001b[32m▞\u001b[0m\u001b[32m▘\u001b[0m\u001b[35m▀\u001b[0m\u001b[35m▀\u001b[0m\u001b[35m▀\u001b[0m\u001b[35m▀\u001b[0m\u001b[35m▄\u001b[0m\u001b[32m▝\u001b[0m\u001b[32m▙\u001b[0m                        │ \n",
      "││     \u001b[34m▀\u001b[0m\u001b[34m▖\u001b[0m                 \u001b[35m▗\u001b[0m\u001b[32m▐\u001b[0m\u001b[35m▀\u001b[0m      \u001b[35m▀\u001b[0m\u001b[35m▚\u001b[0m\u001b[32m▚\u001b[0m\u001b[32m▖\u001b[0m                \u001b[32m▗\u001b[0m\u001b[32m▞\u001b[0m\u001b[32m▀\u001b[0m\u001b[32m▀\u001b[0m\u001b[32m▀\u001b[0m\u001b[32m▀\u001b[0m│ 1\n",
      "││      \u001b[34m▝\u001b[0m\u001b[34m▖\u001b[0m                \u001b[32m▞\u001b[0m\u001b[32m▘\u001b[0m         \u001b[35m▀\u001b[0m\u001b[32m▚\u001b[0m\u001b[32m▖\u001b[0m              \u001b[32m▟\u001b[0m\u001b[32m▘\u001b[0m  \u001b[35m▄\u001b[0m\u001b[35m▄\u001b[0m\u001b[35m▄\u001b[0m│ \n",
      "││       \u001b[34m▗\u001b[0m\u001b[34m▚\u001b[0m              \u001b[32m▐\u001b[0m             \u001b[32m▝\u001b[0m\u001b[32m▖\u001b[0m           \u001b[32m▗\u001b[0m\u001b[32m▀\u001b[0m  \u001b[35m▄\u001b[0m\u001b[35m▞\u001b[0m   │ \n",
      "││         \u001b[34m▀\u001b[0m\u001b[34m▖\u001b[0m           \u001b[32m▄\u001b[0m\u001b[32m▘\u001b[0m              \u001b[32m▝\u001b[0m\u001b[32m▚\u001b[0m         \u001b[32m▄\u001b[0m\u001b[32m▘\u001b[0m \u001b[35m▄\u001b[0m\u001b[35m▞\u001b[0m     │ \n",
      "││          \u001b[34m▝\u001b[0m\u001b[34m▖\u001b[0m         \u001b[32m▟\u001b[0m                  \u001b[32m▀\u001b[0m\u001b[32m▄\u001b[0m     \u001b[32m▗\u001b[0m\u001b[32m▛\u001b[0m \u001b[35m▗\u001b[0m\u001b[35m▀\u001b[0m       │ 0\n",
      "││           \u001b[34m▝\u001b[0m\u001b[34m▖\u001b[0m      \u001b[32m▀\u001b[0m\u001b[32m▀\u001b[0m\u001b[35m▘\u001b[0m                    \u001b[32m▀\u001b[0m\u001b[32m▄\u001b[0m\u001b[32m▄\u001b[0m\u001b[32m▄\u001b[0m\u001b[32m▞\u001b[0m\u001b[32m▘\u001b[0m\u001b[35m▞\u001b[0m\u001b[35m▀\u001b[0m\u001b[35m▘\u001b[0m        │ \n",
      "││            \u001b[34m▗\u001b[0m\u001b[34m▄\u001b[0m    \u001b[34m▗\u001b[0m\u001b[35m▜\u001b[0m\u001b[35m▄\u001b[0m                                      │ \n",
      "││             \u001b[34m▝\u001b[0m\u001b[34m▀\u001b[0m\u001b[34m▄\u001b[0m\u001b[34m▄\u001b[0m\u001b[34m▄\u001b[0m\u001b[34m▘\u001b[0m                                        │ \n",
      "└────────────────────────────────────────────────────────────┘\n",
      " 0                  50                  100\n",
      "                          \u001b[34m██\u001b[0m Input\n",
      "                          \u001b[35m██\u001b[0m Target\n",
      "                          \u001b[32m██\u001b[0m Output\n",
      "           Epoch: 10, Test Loss: 0.0298 - Example 1\n",
      "┌────────────────────────────────────────────────────────────┐\n",
      "││              \u001b[34m▄\u001b[0m\u001b[34m▀\u001b[0m\u001b[34m▀\u001b[0m\u001b[34m▀\u001b[0m\u001b[34m▀\u001b[0m\u001b[32m▀\u001b[0m\u001b[32m▚\u001b[0m\u001b[32m▖\u001b[0m                       \u001b[32m▗\u001b[0m\u001b[32m▄\u001b[0m\u001b[32m▄\u001b[0m           │ \n",
      "││            \u001b[34m▗\u001b[0m\u001b[34m▟\u001b[0m     \u001b[35m▝\u001b[0m\u001b[35m▀\u001b[0m\u001b[32m▝\u001b[0m\u001b[32m▖\u001b[0m                    \u001b[32m▄\u001b[0m\u001b[32m▀\u001b[0m\u001b[32m▘\u001b[0m  \u001b[32m▀\u001b[0m\u001b[32m▄\u001b[0m\u001b[32m▖\u001b[0m        │ 1\n",
      "││           \u001b[34m▝\u001b[0m\u001b[34m▘\u001b[0m         \u001b[32m▝\u001b[0m\u001b[32m▚\u001b[0m                  \u001b[32m▛\u001b[0m  \u001b[35m▄\u001b[0m    \u001b[32m▐\u001b[0m\u001b[32m▖\u001b[0m       │ \n",
      "││           \u001b[34m▞\u001b[0m           \u001b[32m▝\u001b[0m\u001b[32m▄\u001b[0m\u001b[35m▖\u001b[0m              \u001b[32m▗\u001b[0m\u001b[32m▀\u001b[0m\u001b[35m▄\u001b[0m\u001b[35m▀\u001b[0m\u001b[35m▀\u001b[0m \u001b[35m▀\u001b[0m\u001b[35m▀\u001b[0m\u001b[35m▙\u001b[0m\u001b[35m▄\u001b[0m\u001b[35m▄\u001b[0m\u001b[32m▝\u001b[0m\u001b[32m▚\u001b[0m      │ \n",
      "││         \u001b[34m▗\u001b[0m\u001b[34m▀\u001b[0m              \u001b[32m▚\u001b[0m\u001b[35m▄\u001b[0m            \u001b[32m▗\u001b[0m\u001b[32m▌\u001b[0m\u001b[35m▝\u001b[0m\u001b[35m▘\u001b[0m       \u001b[35m▝\u001b[0m\u001b[35m▀\u001b[0m\u001b[35m▀\u001b[0m\u001b[32m▚\u001b[0m\u001b[32m▖\u001b[0m    │ \n",
      "││         \u001b[34m▞\u001b[0m                \u001b[32m▚\u001b[0m\u001b[32m▖\u001b[0m          \u001b[32m▄\u001b[0m\u001b[32m▘\u001b[0m\u001b[35m▘\u001b[0m             \u001b[32m▐\u001b[0m\u001b[35m▖\u001b[0m   │ 0\n",
      "││        \u001b[34m▝\u001b[0m                  \u001b[32m▝\u001b[0m\u001b[32m▄\u001b[0m\u001b[35m▖\u001b[0m      \u001b[32m▗\u001b[0m\u001b[32m▄\u001b[0m\u001b[32m▘\u001b[0m                \u001b[32m▀\u001b[0m\u001b[32m▖\u001b[0m  │ \n",
      "│\u001b[34m▌\u001b[0m      \u001b[34m▗\u001b[0m \u001b[34m▘\u001b[0m                    \u001b[32m▀\u001b[0m\u001b[32m▙\u001b[0m\u001b[32m▄\u001b[0m\u001b[32m▄\u001b[0m\u001b[32m▄\u001b[0m\u001b[32m▄\u001b[0m\u001b[32m▞\u001b[0m\u001b[32m▘\u001b[0m                   \u001b[32m▝\u001b[0m\u001b[32m▄\u001b[0m │ \n",
      "│\u001b[34m▗\u001b[0m\u001b[34m▄\u001b[0m    \u001b[34m▗\u001b[0m\u001b[34m▘\u001b[0m\u001b[34m▛\u001b[0m                                                  \u001b[32m▜\u001b[0m│ \n",
      "││ \u001b[34m▀\u001b[0m\u001b[34m▄\u001b[0m\u001b[34m▄\u001b[0m\u001b[34m▄\u001b[0m\u001b[34m▌\u001b[0m                                                    \u001b[35m▝\u001b[0m│ \n",
      "└────────────────────────────────────────────────────────────┘\n",
      " 0                  50                  100\n",
      "                          \u001b[34m██\u001b[0m Input\n",
      "                          \u001b[35m██\u001b[0m Target\n",
      "                          \u001b[32m██\u001b[0m Output\n"
     ]
    },
    {
     "name": "stderr",
     "output_type": "stream",
     "text": [
      "  4%|█▊                                                | 4/107 [00:00<00:17,  5.94it/s]"
     ]
    },
    {
     "name": "stdout",
     "output_type": "stream",
     "text": [
      "           Epoch: 10, Test Loss: 0.0311 - Example 2\n",
      "┌────────────────────────────────────────────────────────────┐\n",
      "││ \u001b[34m▞\u001b[0m\u001b[34m▀\u001b[0m\u001b[34m▀\u001b[0m\u001b[34m▀\u001b[0m\u001b[34m▀\u001b[0m\u001b[34m▚\u001b[0m\u001b[34m▄\u001b[0m                       \u001b[32m▄\u001b[0m\u001b[32m▄\u001b[0m\u001b[32m▄\u001b[0m\u001b[32m▄\u001b[0m\u001b[32m▄\u001b[0m\u001b[32m▖\u001b[0m                      │ \n",
      "│\u001b[34m▄\u001b[0m\u001b[34m▞\u001b[0m       \u001b[34m▀\u001b[0m\u001b[34m▄\u001b[0m                   \u001b[32m▗\u001b[0m\u001b[32m▛\u001b[0m     \u001b[32m▝\u001b[0m\u001b[32m▀\u001b[0m\u001b[32m▖\u001b[0m                    │ 1\n",
      "││         \u001b[34m▝\u001b[0m\u001b[34m▚\u001b[0m\u001b[34m▄\u001b[0m               \u001b[32m▗\u001b[0m\u001b[32m▞\u001b[0m\u001b[32m▘\u001b[0m\u001b[35m▄\u001b[0m\u001b[35m▄\u001b[0m\u001b[35m▄\u001b[0m\u001b[35m▄\u001b[0m\u001b[35m▄\u001b[0m   \u001b[32m▝\u001b[0m\u001b[32m▚\u001b[0m                  \u001b[32m▗\u001b[0m│ \n",
      "││            \u001b[34m▚\u001b[0m             \u001b[32m▗\u001b[0m\u001b[32m▀\u001b[0m\u001b[35m▚\u001b[0m\u001b[35m▞\u001b[0m\u001b[35m▘\u001b[0m    \u001b[35m▀\u001b[0m\u001b[35m▀\u001b[0m\u001b[35m▀\u001b[0m\u001b[35m▄\u001b[0m\u001b[35m▄\u001b[0m\u001b[32m▚\u001b[0m                \u001b[32m▄\u001b[0m\u001b[32m▀\u001b[0m│ \n",
      "││             \u001b[34m▀\u001b[0m\u001b[34m▖\u001b[0m          \u001b[32m▟\u001b[0m\u001b[32m▘\u001b[0m\u001b[35m▟\u001b[0m            \u001b[35m▀\u001b[0m\u001b[32m▀\u001b[0m\u001b[32m▖\u001b[0m             \u001b[32m▟\u001b[0m\u001b[35m▘\u001b[0m │ \n",
      "││              \u001b[34m▝\u001b[0m\u001b[34m▜\u001b[0m       \u001b[32m▄\u001b[0m\u001b[32m▀\u001b[0m\u001b[35m▀\u001b[0m                \u001b[32m▝\u001b[0m\u001b[32m▄\u001b[0m          \u001b[32m▗\u001b[0m\u001b[32m▀\u001b[0m\u001b[35m▖\u001b[0m  │ \n",
      "││                \u001b[34m▀\u001b[0m\u001b[34m▄\u001b[0m\u001b[34m▄\u001b[0m\u001b[32m▚\u001b[0m\u001b[32m▄\u001b[0m\u001b[32m▟\u001b[0m\u001b[32m▀\u001b[0m\u001b[35m▀\u001b[0m                   \u001b[35m▝\u001b[0m\u001b[32m▚\u001b[0m\u001b[32m▖\u001b[0m       \u001b[32m▄\u001b[0m\u001b[32m▀\u001b[0m\u001b[35m▘\u001b[0m   │ \n",
      "││                                             \u001b[32m▝\u001b[0m\u001b[32m▙\u001b[0m\u001b[32m▄\u001b[0m\u001b[32m▖\u001b[0m\u001b[32m▗\u001b[0m\u001b[32m▄\u001b[0m\u001b[32m▄\u001b[0m\u001b[32m▀\u001b[0m\u001b[35m▗\u001b[0m\u001b[35m▞\u001b[0m    │ \n",
      "││▁▁▁▁▁▁▁▁▁▁▁▁▁▁▁▁▁▁▁▁▁▁▁▁▁▁▁▁▁▁▁▁▁▁▁▁▁▁▁▁▁▁▁▁▁▁\u001b[35m▚\u001b[0m▁\u001b[32m▀\u001b[0m\u001b[32m▘\u001b[0m▁▁\u001b[35m▗\u001b[0m\u001b[35m▘\u001b[0m▁▁▁▁▁│ 0\n",
      "││                                               \u001b[35m▚\u001b[0m\u001b[35m▄\u001b[0m\u001b[35m▄\u001b[0m\u001b[35m▄\u001b[0m\u001b[35m▀\u001b[0m\u001b[35m▘\u001b[0m      │ \n",
      "└────────────────────────────────────────────────────────────┘\n",
      " 0                  50                  100\n",
      "                          \u001b[34m██\u001b[0m Input\n",
      "                          \u001b[35m██\u001b[0m Target\n",
      "                          \u001b[32m██\u001b[0m Output\n"
     ]
    },
    {
     "name": "stderr",
     "output_type": "stream",
     "text": [
      "100%|████████████████████████████████████████████████| 107/107 [00:16<00:00,  6.50it/s]\n",
      "100%|████████████████████████████████████████████████| 638/638 [05:35<00:00,  1.90it/s]\n",
      "100%|████████████████████████████████████████████████| 107/107 [00:15<00:00,  6.76it/s]\n",
      "100%|████████████████████████████████████████████████| 638/638 [05:36<00:00,  1.90it/s]\n",
      "100%|████████████████████████████████████████████████| 107/107 [00:15<00:00,  6.79it/s]\n",
      "100%|████████████████████████████████████████████████| 638/638 [05:35<00:00,  1.90it/s]\n",
      "  1%|▍                                                 | 1/107 [00:00<00:21,  5.04it/s]"
     ]
    },
    {
     "name": "stdout",
     "output_type": "stream",
     "text": [
      "           Epoch: 13, Test Loss: 0.0416 - Example 0\n",
      "┌────────────────────────────────────────────────────────────┐\n",
      "││                           \u001b[32m▗\u001b[0m\u001b[32m▞\u001b[0m\u001b[32m▀\u001b[0m\u001b[32m▀\u001b[0m\u001b[32m▀\u001b[0m\u001b[32m▀\u001b[0m\u001b[32m▚\u001b[0m\u001b[32m▖\u001b[0m                        │ \n",
      "││                          \u001b[32m▗\u001b[0m\u001b[32m▀\u001b[0m\u001b[35m▄\u001b[0m\u001b[35m▖\u001b[0m\u001b[35m▄\u001b[0m\u001b[35m▖\u001b[0m  \u001b[32m▀\u001b[0m\u001b[32m▄\u001b[0m                   \u001b[32m▗\u001b[0m\u001b[32m▟\u001b[0m\u001b[32m▀\u001b[0m\u001b[32m▀\u001b[0m│ \n",
      "│\u001b[34m▀\u001b[0m\u001b[34m▀\u001b[0m\u001b[34m▀\u001b[0m\u001b[34m▀\u001b[0m\u001b[34m▛\u001b[0m\u001b[34m▀\u001b[0m\u001b[34m▌\u001b[0m                   \u001b[32m▗\u001b[0m\u001b[32m▘\u001b[0m\u001b[35m▀\u001b[0m \u001b[35m▝\u001b[0m\u001b[35m▘\u001b[0m\u001b[35m▝\u001b[0m\u001b[35m▚\u001b[0m\u001b[35m▄\u001b[0m\u001b[35m▖\u001b[0m \u001b[32m▙\u001b[0m                \u001b[32m▗\u001b[0m\u001b[32m▞\u001b[0m\u001b[32m▘\u001b[0m   │ \n",
      "││     \u001b[34m▝\u001b[0m\u001b[34m▚\u001b[0m                 \u001b[32m▗\u001b[0m\u001b[32m▘\u001b[0m        \u001b[35m▝\u001b[0m\u001b[35m▄\u001b[0m \u001b[32m▀\u001b[0m\u001b[32m▖\u001b[0m             \u001b[32m▐\u001b[0m\u001b[32m▘\u001b[0m     │ 1\n",
      "││       \u001b[34m▘\u001b[0m\u001b[34m▖\u001b[0m              \u001b[32m▗\u001b[0m\u001b[32m▘\u001b[0m           \u001b[35m▀\u001b[0m\u001b[35m▀\u001b[0m\u001b[32m▀\u001b[0m\u001b[32m▄\u001b[0m           \u001b[32m▞\u001b[0m\u001b[32m▘\u001b[0m  \u001b[35m▄\u001b[0m\u001b[35m▀\u001b[0m\u001b[35m▀\u001b[0m\u001b[35m▀\u001b[0m│ \n",
      "││       \u001b[34m▝\u001b[0m\u001b[34m▝\u001b[0m\u001b[34m▄\u001b[0m            \u001b[32m▗\u001b[0m\u001b[32m▘\u001b[0m              \u001b[35m▚\u001b[0m\u001b[35m▄\u001b[0m\u001b[32m▙\u001b[0m        \u001b[32m▗\u001b[0m\u001b[32m▞\u001b[0m \u001b[35m▖\u001b[0m\u001b[35m▗\u001b[0m\u001b[35m▀\u001b[0m    │ \n",
      "││          \u001b[34m▚\u001b[0m          \u001b[32m▟\u001b[0m\u001b[32m▘\u001b[0m                 \u001b[35m▙\u001b[0m\u001b[32m▀\u001b[0m\u001b[32m▙\u001b[0m\u001b[32m▖\u001b[0m   \u001b[32m▗\u001b[0m\u001b[32m▞\u001b[0m\u001b[32m▘\u001b[0m\u001b[35m▗\u001b[0m\u001b[35m▞\u001b[0m\u001b[35m▝\u001b[0m\u001b[35m▘\u001b[0m     │ 0\n",
      "││           \u001b[34m▜\u001b[0m       \u001b[32m▚\u001b[0m\u001b[32m▀\u001b[0m\u001b[35m▖\u001b[0m                    \u001b[35m▙\u001b[0m\u001b[32m▝\u001b[0m\u001b[32m▀\u001b[0m\u001b[32m▀\u001b[0m\u001b[32m▀\u001b[0m\u001b[32m▘\u001b[0m\u001b[35m▄\u001b[0m\u001b[35m▀\u001b[0m\u001b[35m▀\u001b[0m        │ \n",
      "││            \u001b[34m▚\u001b[0m\u001b[34m▄\u001b[0m     \u001b[35m▜\u001b[0m\u001b[35m▄\u001b[0m                        \u001b[35m▀\u001b[0m\u001b[35m▀\u001b[0m\u001b[35m▀\u001b[0m           │ \n",
      "││             \u001b[34m▝\u001b[0m\u001b[34m▀\u001b[0m\u001b[34m▄\u001b[0m\u001b[34m▄\u001b[0m\u001b[34m▄\u001b[0m\u001b[34m▀\u001b[0m                                        │ \n",
      "└────────────────────────────────────────────────────────────┘\n",
      " 0                  50                  100\n",
      "                          \u001b[34m██\u001b[0m Input\n",
      "                          \u001b[35m██\u001b[0m Target\n",
      "                          \u001b[32m██\u001b[0m Output\n"
     ]
    },
    {
     "name": "stderr",
     "output_type": "stream",
     "text": [
      "  3%|█▍                                                | 3/107 [00:00<00:19,  5.28it/s]"
     ]
    },
    {
     "name": "stdout",
     "output_type": "stream",
     "text": [
      "           Epoch: 13, Test Loss: 0.0273 - Example 1\n",
      "┌────────────────────────────────────────────────────────────┐\n",
      "││              \u001b[34m▄\u001b[0m\u001b[34m▀\u001b[0m\u001b[34m▀\u001b[0m\u001b[34m▀\u001b[0m\u001b[34m▀\u001b[0m\u001b[32m▀\u001b[0m\u001b[32m▚\u001b[0m\u001b[32m▄\u001b[0m                        \u001b[32m▄\u001b[0m\u001b[32m▖\u001b[0m           │ \n",
      "││            \u001b[34m▄\u001b[0m\u001b[34m▞\u001b[0m      \u001b[35m▀\u001b[0m\u001b[32m▝\u001b[0m\u001b[32m▄\u001b[0m                    \u001b[32m▄\u001b[0m\u001b[32m▀\u001b[0m\u001b[32m▀\u001b[0m \u001b[32m▝\u001b[0m\u001b[32m▀\u001b[0m\u001b[32m▚\u001b[0m\u001b[32m▖\u001b[0m        │ 1\n",
      "││           \u001b[34m▝\u001b[0m          \u001b[35m▚\u001b[0m\u001b[32m▚\u001b[0m                  \u001b[32m▛\u001b[0m  \u001b[35m▄\u001b[0m    \u001b[32m▝\u001b[0m\u001b[32m▄\u001b[0m       │ \n",
      "││           \u001b[34m▞\u001b[0m           \u001b[32m▝\u001b[0m\u001b[32m▄\u001b[0m\u001b[35m▖\u001b[0m              \u001b[32m▗\u001b[0m\u001b[32m▀\u001b[0m\u001b[35m▄\u001b[0m\u001b[35m▀\u001b[0m\u001b[35m▀\u001b[0m \u001b[35m▀\u001b[0m\u001b[35m▀\u001b[0m\u001b[35m▙\u001b[0m\u001b[35m▄\u001b[0m\u001b[35m▄\u001b[0m \u001b[32m▚\u001b[0m      │ \n",
      "││         \u001b[34m▗\u001b[0m\u001b[34m▀\u001b[0m              \u001b[32m▚\u001b[0m\u001b[35m▄\u001b[0m            \u001b[32m▗\u001b[0m\u001b[32m▘\u001b[0m\u001b[35m▝\u001b[0m\u001b[35m▘\u001b[0m       \u001b[35m▝\u001b[0m\u001b[35m▀\u001b[0m\u001b[35m▀\u001b[0m\u001b[32m▀\u001b[0m\u001b[32m▖\u001b[0m    │ \n",
      "││         \u001b[34m▞\u001b[0m               \u001b[32m▝\u001b[0m\u001b[32m▚\u001b[0m\u001b[35m▄\u001b[0m          \u001b[32m▞\u001b[0m\u001b[32m▘\u001b[0m\u001b[35m▘\u001b[0m             \u001b[32m▝\u001b[0m\u001b[32m▖\u001b[0m   │ 0\n",
      "││        \u001b[34m▞\u001b[0m                  \u001b[32m▜\u001b[0m\u001b[32m▄\u001b[0m\u001b[35m▖\u001b[0m      \u001b[32m▄\u001b[0m\u001b[32m▀\u001b[0m\u001b[35m▘\u001b[0m                \u001b[32m▝\u001b[0m\u001b[32m▚\u001b[0m  │ \n",
      "│\u001b[34m▌\u001b[0m      \u001b[34m▄\u001b[0m                      \u001b[32m▀\u001b[0m\u001b[32m▀\u001b[0m\u001b[32m▚\u001b[0m\u001b[32m▄\u001b[0m\u001b[32m▄\u001b[0m\u001b[32m▀\u001b[0m\u001b[32m▀\u001b[0m                    \u001b[35m▝\u001b[0m\u001b[32m▚\u001b[0m\u001b[32m▖\u001b[0m│ \n",
      "│\u001b[34m▗\u001b[0m\u001b[34m▄\u001b[0m\u001b[34m▖\u001b[0m   \u001b[34m▗\u001b[0m \u001b[34m▀\u001b[0m                                                  \u001b[32m▝\u001b[0m│ \n",
      "││ \u001b[34m▀\u001b[0m\u001b[34m▄\u001b[0m\u001b[34m▄\u001b[0m\u001b[34m▄\u001b[0m\u001b[34m▌\u001b[0m                                                    \u001b[35m▝\u001b[0m│ \n",
      "└────────────────────────────────────────────────────────────┘\n",
      " 0                  50                  100\n",
      "                          \u001b[34m██\u001b[0m Input\n",
      "                          \u001b[35m██\u001b[0m Target\n",
      "                          \u001b[32m██\u001b[0m Output\n",
      "           Epoch: 13, Test Loss: 0.0296 - Example 2\n",
      "┌────────────────────────────────────────────────────────────┐\n",
      "││ \u001b[34m▞\u001b[0m\u001b[34m▀\u001b[0m\u001b[34m▀\u001b[0m\u001b[34m▀\u001b[0m\u001b[34m▀\u001b[0m\u001b[34m▚\u001b[0m\u001b[34m▄\u001b[0m                       \u001b[32m▗\u001b[0m\u001b[32m▄\u001b[0m\u001b[32m▄\u001b[0m\u001b[32m▄\u001b[0m\u001b[32m▄\u001b[0m\u001b[32m▖\u001b[0m                      │ \n",
      "│\u001b[34m▄\u001b[0m\u001b[34m▞\u001b[0m       \u001b[34m▀\u001b[0m\u001b[34m▄\u001b[0m                   \u001b[32m▗\u001b[0m\u001b[32m▛\u001b[0m\u001b[32m▘\u001b[0m    \u001b[32m▀\u001b[0m\u001b[32m▚\u001b[0m\u001b[32m▖\u001b[0m                    │ 1\n",
      "││         \u001b[34m▝\u001b[0m\u001b[34m▚\u001b[0m\u001b[34m▄\u001b[0m               \u001b[32m▗\u001b[0m\u001b[32m▞\u001b[0m\u001b[32m▘\u001b[0m\u001b[35m▄\u001b[0m\u001b[35m▄\u001b[0m\u001b[35m▄\u001b[0m\u001b[35m▄\u001b[0m\u001b[35m▄\u001b[0m   \u001b[32m▝\u001b[0m\u001b[32m▚\u001b[0m\u001b[32m▖\u001b[0m                 \u001b[32m▐\u001b[0m│ \n",
      "││            \u001b[34m▚\u001b[0m             \u001b[32m▗\u001b[0m\u001b[32m▀\u001b[0m\u001b[35m▚\u001b[0m\u001b[35m▞\u001b[0m\u001b[35m▘\u001b[0m    \u001b[35m▀\u001b[0m\u001b[35m▀\u001b[0m\u001b[35m▀\u001b[0m\u001b[35m▄\u001b[0m\u001b[35m▄\u001b[0m\u001b[32m▚\u001b[0m\u001b[32m▖\u001b[0m               \u001b[32m▞\u001b[0m\u001b[32m▘\u001b[0m│ \n",
      "││             \u001b[34m▀\u001b[0m\u001b[34m▖\u001b[0m          \u001b[32m▟\u001b[0m\u001b[32m▘\u001b[0m\u001b[35m▟\u001b[0m            \u001b[35m▀\u001b[0m\u001b[32m▝\u001b[0m\u001b[32m▌\u001b[0m             \u001b[32m▞\u001b[0m\u001b[35m▘\u001b[0m │ \n",
      "││              \u001b[34m▝\u001b[0m\u001b[34m▜\u001b[0m   \u001b[32m▄\u001b[0m  \u001b[32m▗\u001b[0m\u001b[32m▟\u001b[0m\u001b[32m▀\u001b[0m\u001b[35m▀\u001b[0m                \u001b[32m▝\u001b[0m\u001b[32m▚\u001b[0m\u001b[32m▖\u001b[0m         \u001b[32m▗\u001b[0m\u001b[32m▀\u001b[0m\u001b[35m▖\u001b[0m  │ \n",
      "││                \u001b[34m▀\u001b[0m\u001b[34m▄\u001b[0m\u001b[34m▄\u001b[0m\u001b[32m▝\u001b[0m\u001b[32m▀\u001b[0m\u001b[32m▀\u001b[0m\u001b[32m▘\u001b[0m\u001b[35m▀\u001b[0m                   \u001b[35m▝\u001b[0m\u001b[32m▀\u001b[0m\u001b[32m▄\u001b[0m       \u001b[32m▄\u001b[0m\u001b[32m▀\u001b[0m\u001b[35m▘\u001b[0m   │ \n",
      "││                                             \u001b[35m▚\u001b[0m\u001b[32m▀\u001b[0m\u001b[32m▄\u001b[0m\u001b[32m▄\u001b[0m \u001b[32m▄\u001b[0m\u001b[32m▄\u001b[0m\u001b[32m▀\u001b[0m\u001b[35m▗\u001b[0m\u001b[35m▞\u001b[0m    │ \n",
      "││▁▁▁▁▁▁▁▁▁▁▁▁▁▁▁▁▁▁▁▁▁▁▁▁▁▁▁▁▁▁▁▁▁▁▁▁▁▁▁▁▁▁▁▁▁▁\u001b[35m▚\u001b[0m▁▁\u001b[32m▀\u001b[0m▁▁\u001b[35m▗\u001b[0m\u001b[35m▘\u001b[0m▁▁▁▁▁│ 0\n",
      "││                                               \u001b[35m▚\u001b[0m\u001b[35m▄\u001b[0m\u001b[35m▄\u001b[0m\u001b[35m▄\u001b[0m\u001b[35m▀\u001b[0m\u001b[35m▘\u001b[0m      │ \n",
      "└────────────────────────────────────────────────────────────┘\n",
      " 0                  50                  100\n",
      "                          \u001b[34m██\u001b[0m Input\n",
      "                          \u001b[35m██\u001b[0m Target\n",
      "                          \u001b[32m██\u001b[0m Output\n"
     ]
    },
    {
     "name": "stderr",
     "output_type": "stream",
     "text": [
      "100%|████████████████████████████████████████████████| 107/107 [00:16<00:00,  6.59it/s]\n",
      "100%|████████████████████████████████████████████████| 638/638 [05:34<00:00,  1.91it/s]\n",
      "100%|████████████████████████████████████████████████| 107/107 [00:15<00:00,  6.83it/s]\n",
      "100%|████████████████████████████████████████████████| 638/638 [05:32<00:00,  1.92it/s]\n",
      "100%|████████████████████████████████████████████████| 107/107 [00:16<00:00,  6.58it/s]\n"
     ]
    }
   ],
   "source": [
    "model = SimpleARModel(input_size, hidden_size).to(device)\n",
    "criterion = nn.MSELoss()\n",
    "optimizer = optim.Adam(model.parameters(), lr=learning_rate)\n",
    "\n",
    "for epoch in range(num_epochs):\n",
    "    model.train()\n",
    "    for inputs, targets in tqdm(train_dataloader):\n",
    "        inputs = inputs.unsqueeze(-1).to(device)\n",
    "        targets = targets.unsqueeze(-1).to(device)\n",
    "\n",
    "        outputs = model(inputs, targets.shape[1])\n",
    "        loss = criterion(outputs, targets)\n",
    "\n",
    "        optimizer.zero_grad()\n",
    "        loss.backward()\n",
    "        optimizer.step()\n",
    "\n",
    "    model.eval()\n",
    "    with torch.no_grad():\n",
    "        for i, (inputs, targets) in enumerate(tqdm(test_dataloader)):\n",
    "            inputs = inputs.unsqueeze(-1).to(device)\n",
    "            targets = targets.unsqueeze(-1).to(device)\n",
    "\n",
    "            outputs = model(inputs, targets.shape[1])\n",
    "            test_loss = criterion(outputs, targets)\n",
    "            past_view_size = 50\n",
    "            if i in [0, 1, 2] and epoch % 3 == 0:\n",
    "                inp = inputs[0, :, 0].cpu()\n",
    "                tar = targets[0, :, 0].cpu()\n",
    "                out = outputs[0, :, 0].cpu()\n",
    "                uniplot.plot(\n",
    "                    ys=[inp[-past_view_size:], tar, out],\n",
    "                    xs=[\n",
    "                        np.arange(0, past_view_size),\n",
    "                        np.arange(past_view_size, past_view_size + len(tar)),\n",
    "                        np.arange(past_view_size, past_view_size + len(tar)),\n",
    "                    ],\n",
    "                    color=True,\n",
    "                    legend_labels=[\"Input\", \"Target\", \"Output\"],\n",
    "                    title=f\"Epoch: {epoch + 1}, Test Loss: {test_loss.item():.4f} - Example {i}\",\n",
    "                    height=10\n",
    "                )\n"
   ]
  },
  {
   "cell_type": "markdown",
   "id": "67a93dce",
   "metadata": {},
   "source": [
    "# The Challenge of Long-Term Dependencies\n",
    "\n",
    "The basic problem is that gradients propagated over many stages tend to either vanish (most of the time) or explode (rarely, but with much damage to the optimization).\n",
    "\n",
    "Recurrent networks involve the composition of the same function multiple times, once per time step.\n",
    "\n",
    "In particular, the function composition employed by recurrent neural networks somewhat resembles matrix multiplication. We can think of the recurrence relation:\n",
    "\n",
    "$h^{(t)} = W^Th^{(t-1)}$\n",
    "\n",
    "as a very simple recurrent neural network lacking a nonlinear activation function and lacking inputs x. \n",
    "This recurrence relation essentially describes the power method. It may be simpliﬁed to:\n",
    "\n",
    "$h^{(t)} = (W^t)^Th^{(0)}$\n",
    "\n",
    "and if W admits an eigendecomposition of the form:\n",
    "\n",
    "$W = Q \\Lambda Q^T$\n",
    "\n",
    "with orthogonal Q, the recurrence may be simpliﬁed further to:\n",
    "\n",
    "$h^{(t)} = Q^T \\Lambda^{t} Q h^{(0)}$\n",
    "\n",
    "The eigenvalues are raised to the power of t, causing eigenvalues with magnitude less than one to decay to zero and eigenvalues with magnitude greater than one to explode. Any component of $h(0)$ that is not aligned with the largest eigenvector will eventually be discarded."
   ]
  },
  {
   "cell_type": "markdown",
   "id": "9167c5bd",
   "metadata": {},
   "source": [
    "Several approaches have been proposed to tackle this. Namely:\n",
    "- Adding Skip Connections through Time: One way to obtain coarse time scales is to add direct connections from variables in the distant past to variables in the present.\n",
    "- Adding other controlled gates: This allows the network to accumulate information (such as evidence for a particular feature or category) over a long duration. Once that information has been used, however, it might be useful for the neural network to forget the old state.\n",
    "- Gradient clipping: Prevents gradient explosion\n",
    "- Many others..."
   ]
  },
  {
   "cell_type": "markdown",
   "id": "05e7ce59",
   "metadata": {},
   "source": [
    "# Exercise\n",
    "A more comprehensive look into sequence modeling can be found at: https://www.deeplearningbook.org/contents/rnn.html\n",
    "\n",
    "One of the strategies to train RNNs is called teacher forcing. This strategy allows for the network to use the actual label instead of its generated output as input to the next step. This allows for the gradient to be propagated through fewer steps in some networks and also for the network to slowly be able to use its own outputs.\n",
    "\n",
    "Exercise:\n",
    "Implement the **teacher forcing** mechanism and compare the results."
   ]
  }
 ],
 "metadata": {
  "kernelspec": {
   "display_name": "Python [conda env:cashme] *",
   "language": "python",
   "name": "conda-env-cashme-py"
  },
  "language_info": {
   "codemirror_mode": {
    "name": "ipython",
    "version": 3
   },
   "file_extension": ".py",
   "mimetype": "text/x-python",
   "name": "python",
   "nbconvert_exporter": "python",
   "pygments_lexer": "ipython3",
   "version": "3.10.4"
  },
  "toc": {
   "base_numbering": 1,
   "nav_menu": {},
   "number_sections": true,
   "sideBar": true,
   "skip_h1_title": false,
   "title_cell": "Table of Contents",
   "title_sidebar": "Contents",
   "toc_cell": false,
   "toc_position": {},
   "toc_section_display": true,
   "toc_window_display": false
  }
 },
 "nbformat": 4,
 "nbformat_minor": 5
}
