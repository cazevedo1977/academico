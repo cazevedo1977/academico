{
 "cells": [
  {
   "cell_type": "markdown",
   "id": "1e876d74",
   "metadata": {
    "id": "1e876d74"
   },
   "source": [
    "# PCS5024 - Aprendizado Estatístico - Statistical Learning - 2023/1\n",
    "## Professors: \n",
    " - Anna Helena Reali Costa (anna.reali@usp.br)\n",
    " - Fabio G. Cozman (fgcozman@usp.br)\n",
    "## Student: \n",
    " - Caio Azevedo - (caio.aze@alumni.usp.br)"
   ]
  },
  {
   "cell_type": "markdown",
   "id": "dkgBxWMHGgpp",
   "metadata": {
    "id": "dkgBxWMHGgpp"
   },
   "source": [
    "# New section"
   ]
  },
  {
   "cell_type": "code",
   "execution_count": 1,
   "id": "47f5e918",
   "metadata": {
    "id": "47f5e918"
   },
   "outputs": [],
   "source": [
    "!pip install --quiet torch numpy pandas gdown uniplot matplotlib"
   ]
  },
  {
   "cell_type": "code",
   "execution_count": 2,
   "id": "d378e917-4b88-4ad6-8262-26bc03ca70c1",
   "metadata": {
    "id": "d378e917-4b88-4ad6-8262-26bc03ca70c1",
    "tags": []
   },
   "outputs": [],
   "source": [
    "import torch\n",
    "import torch.nn as nn\n",
    "import torch.optim as optim\n",
    "import numpy as np\n",
    "import pandas as pd\n",
    "from torch.utils.data import TensorDataset, DataLoader\n",
    "import gdown\n",
    "from tqdm import tqdm\n",
    "import uniplot\n",
    "import datetime\n",
    "import random"
   ]
  },
  {
   "cell_type": "markdown",
   "id": "217d362d-d6b6-427d-bdab-ccd648bd94a7",
   "metadata": {
    "id": "217d362d-d6b6-427d-bdab-ccd648bd94a7"
   },
   "source": [
    "# Recurrent Neural Networks\n",
    "\n",
    "Recurrent Neural Networks (RNNs) is a family of neural network specifically designed for processing sequential data (Rumelhart et al., 1986a). They can handle sequences of variable length and share parameters across different parts of the model, making them more adaptable to different input forms. RNNs can generalize across different sequence lengths and positions in time, which is particularly important when specific information can occur at multiple positions within a sequence.\n",
    "\n",
    "In contrast to traditional fully connected feedforward networks, RNNs share the same weights across several time steps. This allows the network to learn language rules at each position in the sequence without having to relearn them separately. Convolution across a 1-D temporal sequence is another related idea, used in Time-Delay Neural Networks (TDNNs) (Lang and Hinton, 1988; Waibel et al., 1989; Lang et al., 1990). While convolution allows for parameter sharing across time, it is shallow compared to the deep computational graph sharing in RNNs.\n",
    "\n",
    "**Sharing weights is an idea from 1980s ML and is still very commonly used in Deep Learning!**"
   ]
  },
  {
   "cell_type": "markdown",
   "id": "e811d73c",
   "metadata": {
    "id": "e811d73c"
   },
   "source": [
    "In general, a RNN can be represented as following:\n",
    "\n",
    "<img src='https://drive.google.com/uc?id=14x9VlBRucvDCwBqS00xjOYWoYqVuMb3w'  width=\"40%\" height=\"40%\">\n",
    "\n",
    "The transformations U, W and V are shared for all $x$ the same way CNNs share the same set of kernels for the whole image."
   ]
  },
  {
   "cell_type": "markdown",
   "id": "ab347de1-3c0b-4902-93bc-b042455f44bc",
   "metadata": {
    "id": "ab347de1-3c0b-4902-93bc-b042455f44bc"
   },
   "source": [
    "RNNs compute a new hidden state $h$ for each new input $x$:\n",
    "\n",
    "$h^{(t)} = f(h^{(t-1)},x^{(t)},\\theta)$\n",
    "\n",
    "There are several RNNs models. The most common are:\n",
    "\n",
    "<img src=\"https://miro.medium.com/v2/resize:fit:4800/format:webp/1*B0q2ZLsUUw31eEImeVf3PQ.png\"   width=\"60%\" height=\"60%\">"
   ]
  },
  {
   "cell_type": "markdown",
   "id": "63532fda",
   "metadata": {
    "id": "63532fda"
   },
   "source": [
    "In this notebook we'll use the Gated Recurrent Unit or GRU (Chung et al. 2014) architecture to show how RNNs can be used in a forecast task.\n",
    "\n",
    "\n",
    "$r_t = \\sigma(W_{ir} x_t + b_{ir} + W_{hr} h_{(t-1)} + b_{hr}) \\\\\n",
    "z_t = \\sigma(W_{iz} x_t + b_{iz} + W_{hz} h_{(t-1)} + b_{hz}) \\\\\n",
    "n_t = \\tanh(W_{in} x_t + b_{in} + r_t * (W_{hn} h_{(t-1)}+ b_{hn})) \\\\\n",
    "h_t = (1 - z_t) * n_t + z_t * h_{(t-1)}$"
   ]
  },
  {
   "cell_type": "markdown",
   "id": "c32e6ba1",
   "metadata": {
    "id": "c32e6ba1"
   },
   "source": [
    "Let's see an example of a sequence of GPS measurements (2 features) being processed by an RNN with hidden size 4.\n",
    "\n",
    "<img src='https://drive.google.com/uc?id=1EbcmMY7pvodQO_8a9mUNOu2ahggvDSEc'  width=\"60%\" height=\"60%\" align=\"left\">"
   ]
  },
  {
   "cell_type": "markdown",
   "id": "1d17ab6c",
   "metadata": {
    "id": "1d17ab6c"
   },
   "source": [
    "To further illustrate how RNNs can be used now we'll use sea surface height (SSH) measurements extracted from the Santos Port Channel dataset. This dataset is a collection of measurements from several sensors, but we're only interested in SSH."
   ]
  },
  {
   "cell_type": "code",
   "execution_count": 3,
   "id": "73490812",
   "metadata": {
    "colab": {
     "base_uri": "https://localhost:8080/",
     "height": 105
    },
    "id": "73490812",
    "outputId": "87a0137e-7e7d-468e-b357-411b98a03497"
   },
   "outputs": [
    {
     "name": "stderr",
     "output_type": "stream",
     "text": [
      "Downloading...\n",
      "From: https://drive.google.com/uc?id=1qZv6wwHLyMIZQQNQN8NN676AIgF-XJt5\n",
      "To: /content/santos_ssh.csv\n",
      "100%|██████████| 792k/792k [00:00<00:00, 107MB/s]\n"
     ]
    },
    {
     "data": {
      "application/vnd.google.colaboratory.intrinsic+json": {
       "type": "string"
      },
      "text/plain": [
       "'santos_ssh.csv'"
      ]
     },
     "execution_count": 3,
     "metadata": {},
     "output_type": "execute_result"
    }
   ],
   "source": [
    "id = \"1qZv6wwHLyMIZQQNQN8NN676AIgF-XJt5\"\n",
    "gdown.download(id=id, output=\"santos_ssh.csv\", quiet=False)"
   ]
  },
  {
   "cell_type": "code",
   "execution_count": 4,
   "id": "a6d0a1f0-48a4-4d7a-b7aa-00a48330f4d7",
   "metadata": {
    "colab": {
     "base_uri": "https://localhost:8080/"
    },
    "id": "a6d0a1f0-48a4-4d7a-b7aa-00a48330f4d7",
    "outputId": "567ad987-74f1-43a7-df58-85896dc886fa",
    "tags": []
   },
   "outputs": [
    {
     "data": {
      "text/plain": [
       "(                   datetime   ssh\n",
       " 0 2020-01-01 00:00:00+00:00  0.70\n",
       " 1 2020-01-01 00:10:00+00:00  0.69\n",
       " 2 2020-01-01 00:20:00+00:00  0.68\n",
       " 3 2020-01-01 00:30:00+00:00  0.67\n",
       " 4 2020-01-01 00:40:00+00:00  0.67,\n",
       "                        datetime   ssh\n",
       " 21293 2020-06-01 00:00:00+00:00  0.90\n",
       " 21294 2020-06-01 00:10:00+00:00  0.92\n",
       " 21295 2020-06-01 00:20:00+00:00  0.94\n",
       " 21296 2020-06-01 00:30:00+00:00  0.99\n",
       " 21297 2020-06-01 00:40:00+00:00  1.01)"
      ]
     },
     "execution_count": 4,
     "metadata": {},
     "output_type": "execute_result"
    }
   ],
   "source": [
    "df = pd.read_csv(\"santos_ssh.csv\")\n",
    "df[\"datetime\"] = pd.to_datetime(df[\"datetime\"])\n",
    "train_df = df[df[\"datetime\"].dt.tz_convert(None) < np.datetime64(\"2020-06-01 00:00:00\")]\n",
    "test_df = df[df[\"datetime\"].dt.tz_convert(None) >= np.datetime64(\"2020-06-01 00:00:00\")]\n",
    "train_df.head(), test_df.head()"
   ]
  },
  {
   "cell_type": "code",
   "execution_count": 5,
   "id": "e882fb7e-942f-4f5b-a4e9-c79c625ed358",
   "metadata": {
    "colab": {
     "base_uri": "https://localhost:8080/",
     "height": 447
    },
    "id": "e882fb7e-942f-4f5b-a4e9-c79c625ed358",
    "outputId": "9e1d9ae7-0b13-4303-9a0f-009bbf815ff5",
    "tags": []
   },
   "outputs": [
    {
     "data": {
      "text/plain": [
       "<Axes: >"
      ]
     },
     "execution_count": 5,
     "metadata": {},
     "output_type": "execute_result"
    },
    {
     "data": {
      "image/png": "[encoded data removed]",
      "text/plain": [
       "<Figure size 640x480 with 1 Axes>"
      ]
     },
     "metadata": {},
     "output_type": "display_data"
    }
   ],
   "source": [
    "train_df[\"ssh\"].iloc[:1000].plot()"
   ]
  },
  {
   "cell_type": "code",
   "execution_count": 6,
   "id": "2b175610",
   "metadata": {
    "colab": {
     "base_uri": "https://localhost:8080/"
    },
    "id": "2b175610",
    "outputId": "447bf657-8d1e-49c9-ea31-1ff1ede5d61c"
   },
   "outputs": [
    {
     "data": {
      "text/plain": [
       "device(type='cuda')"
      ]
     },
     "execution_count": 6,
     "metadata": {},
     "output_type": "execute_result"
    }
   ],
   "source": [
    "device = torch.device(\"cuda\" if torch.cuda.is_available() else \"cpu\")\n",
    "input_size = 1\n",
    "hidden_size_TF = 1 \n",
    "hidden_size = 64\n",
    "num_epochs = 24\n",
    "past_len = 800\n",
    "future_len = 100\n",
    "batch_size = 32\n",
    "learning_rate = 1e-3\n",
    "device"
   ]
  },
  {
   "cell_type": "code",
   "execution_count": 7,
   "id": "1d2a52c5-7427-43a3-b255-ff46aa1363ba",
   "metadata": {
    "id": "1d2a52c5-7427-43a3-b255-ff46aa1363ba",
    "tags": []
   },
   "outputs": [],
   "source": [
    "# Here we write a SimpleARModel that uses the network \n",
    "# output as the input for the next prediction step (i.e. no teacher forcing)\n",
    "class SimpleARModel(nn.Module):\n",
    "    def __init__(self, input_size, hidden_size):\n",
    "        super().__init__()\n",
    "        self.input_size = input_size\n",
    "        self.hidden_size = hidden_size\n",
    "        self.rnn = nn.GRU(input_size, hidden_size, batch_first=True)\n",
    "        self.linear = nn.Linear(hidden_size, input_size)\n",
    "\n",
    "    def forward(self, x, target_seq_len):\n",
    "        # encoding\n",
    "        out, h_n = self.rnn(x)\n",
    "        encoder_out_proj = self.linear(out.reshape(-1, self.hidden_size)).view(\n",
    "            x.shape[0], -1, self.input_size\n",
    "        ) # project the output of the encoder to the input size\n",
    "        inp = encoder_out_proj[:, -1]\n",
    "\n",
    "        output_seq = torch.empty(\n",
    "            x.shape[0], target_seq_len, x.shape[-1], device=inp.device\n",
    "        ) # allocate memory for the output sequence\n",
    "        output_seq[:, 0] = inp\n",
    "\n",
    "        for i in range(1,target_seq_len):\n",
    "            out, h_n = self.rnn(inp.unsqueeze(1), h_n)\n",
    "            inp = self.linear(out[:, -1])\n",
    "            output_seq[:, i] = inp\n",
    "        return encoder_out_proj[:,:-1],output_seq # last decoder proj is the first element of the output_seq\n",
    "\n",
    "\n",
    "def create_sequences(data, past_len, future_len):\n",
    "    xs, ys = [], []\n",
    "    for i in range(past_len, len(data) - future_len):\n",
    "        x = data[(i - past_len) : i]\n",
    "        y = data[i : (i + future_len)]\n",
    "        xs.append(x)\n",
    "        ys.append(y)\n",
    "    return np.array(xs), np.array(ys)"
   ]
  },
  {
   "cell_type": "code",
   "execution_count": 8,
   "id": "e6b75323",
   "metadata": {
    "id": "e6b75323"
   },
   "outputs": [],
   "source": [
    "# Here we write another class, TeacherForcingModel, that uses the t-1 actual target value as \n",
    "# the input for the next prediction step (i.e. teacher forcing) from the second iteration on.\n",
    "class TeacherForcingModel(nn.Module):\n",
    "    def __init__(self, input_size, hidden_size):\n",
    "        super().__init__()\n",
    "        self.step = None\n",
    "        self.input_size = input_size\n",
    "        self.hidden_size = hidden_size\n",
    "        self.rnn = nn.GRU(input_size, hidden_size, batch_first=True)\n",
    "        self.linear = nn.Linear(hidden_size, input_size)\n",
    "\n",
    "    def forward(self, x, y,target_seq_len):\n",
    "        # encoding\n",
    "        out, h_n = self.rnn(x)\n",
    "        inp = self.linear(out[:,-1]).unsqueeze(1)\n",
    "\n",
    "        output_seq = torch.empty(\n",
    "            x.shape[0], target_seq_len, x.shape[-1], device=inp.device\n",
    "        ) # allocate memory for the output sequence\n",
    "         \n",
    "        for i in range(target_seq_len):\n",
    "            if i == 0:\n",
    "                out, h_n = self.rnn(inp, h_n)\n",
    "                inp = self.linear(out[:,-1].unsqueeze(1))\n",
    "                output_seq[:, i] = self.linear(out[:,-1])\n",
    "            else:\n",
    "                out, h_n = self.rnn(inp, y[:,i-1].unsqueeze(0).contiguous())\n",
    "                inp = self.linear(out[:,-1].unsqueeze(1))\n",
    "                output_seq[:, i] = self.linear(out[:,-1])\n",
    "            \n",
    "        return output_seq # last decoder proj is the first element of the output_seq"
   ]
  },
  {
   "cell_type": "code",
   "execution_count": 9,
   "id": "9a5cf8bc",
   "metadata": {
    "id": "9a5cf8bc"
   },
   "outputs": [],
   "source": [
    "# Here we write another class, TeacherForcingModel, that uses the t-1 actual target value as \n",
    "# the input for the next prediction step (i.e. teacher forcing) from the second iteration on. \n",
    "# In addition, it´s been used the teacher forcing ratio decreasing during training, also known as dynamic teacher forcing.\n",
    "# By trial and error and inspired by Gridin, Ivan in \"Time Series Forecasting using Deep Learning Combining PyTorch, RNN, TCN, and Deep Neural Network Models to Provide Production-Ready Prediction Solutions\" book\n",
    "# the decreasing ratio was computed randomly according to the number of training steps. \n",
    "class TeacherForcingModelBonus(nn.Module):\n",
    "    def __init__(self, input_size, hidden_size):\n",
    "        super().__init__()\n",
    "        self.step = None\n",
    "        self.input_size = input_size\n",
    "        self.hidden_size = hidden_size\n",
    "        self.rnn = nn.GRU(input_size, hidden_size, batch_first=True)\n",
    "        self.linear = nn.Linear(hidden_size, input_size)\n",
    "\n",
    "    def forward(self, x, y,target_seq_len):\n",
    "        # encoding\n",
    "        tfr = 0.9\n",
    "        out, h_n = self.rnn(x)\n",
    "        inp = self.linear(out[:,-1]).unsqueeze(1)\n",
    "\n",
    "        output_seq = torch.empty(x.shape[0], target_seq_len, x.shape[-1], device=inp.device) \n",
    "         \n",
    "        for i in range(target_seq_len):\n",
    "            if i == 0:\n",
    "                out, h_n = self.rnn(inp, h_n)\n",
    "                inp = self.linear(out[:,-1].unsqueeze(1))\n",
    "                output_seq[:, i] = self.linear(out[:,-1])\n",
    "            else:\n",
    "                if random.random() < np.maximum((0.9 - (self.step/num_epochs)),0.5):\n",
    "                    out, h_n = self.rnn(inp, y[:,i-1].unsqueeze(0).contiguous())\n",
    "                    inp = self.linear(out[:,-1].unsqueeze(1))\n",
    "                    output_seq[:, i] = self.linear(out[:,-1])\n",
    "                else:\n",
    "                    out, h_n = self.rnn(inp, h_n)\n",
    "                    inp = self.linear(out[:,-1].unsqueeze(1))\n",
    "                    output_seq[:, i] = self.linear(out[:,-1])\n",
    "                #if tfr >  0:\n",
    "                #  tfr = tfr - 0.02\n",
    "                \n",
    "        return output_seq # last decoder proj is the first element of the output_seq"
   ]
  },
  {
   "cell_type": "code",
   "execution_count": 10,
   "id": "a1976190-0c56-4fd8-bd1a-f6c0976c2157",
   "metadata": {
    "id": "a1976190-0c56-4fd8-bd1a-f6c0976c2157",
    "tags": []
   },
   "outputs": [],
   "source": [
    "train_data = train_df[\"ssh\"].values\n",
    "test_data = test_df[\"ssh\"].values\n",
    "\n",
    "X_train, y_train = create_sequences(train_data, past_len, future_len)\n",
    "X_test, y_test = create_sequences(test_data, past_len, future_len)\n",
    "\n",
    "X_train = torch.from_numpy(X_train.astype(np.float32))\n",
    "y_train = torch.from_numpy(y_train.astype(np.float32))\n",
    "X_test = torch.from_numpy(X_test.astype(np.float32))\n",
    "y_test = torch.from_numpy(y_test.astype(np.float32))\n",
    "\n",
    "train_dataset = TensorDataset(X_train, y_train)\n",
    "train_dataloader = DataLoader(train_dataset, batch_size=batch_size, shuffle=True)\n",
    "\n",
    "test_dataset = TensorDataset(X_test, y_test)\n",
    "test_dataloader = DataLoader(test_dataset, batch_size=batch_size, shuffle=False)"
   ]
  },
  {
   "cell_type": "code",
   "execution_count": 11,
   "id": "597567e5",
   "metadata": {
    "id": "597567e5"
   },
   "outputs": [],
   "source": [
    "def run_experiment(model):\n",
    "    start_time = datetime.datetime.now()\n",
    "    criterion = nn.MSELoss()\n",
    "    optimizer = optim.Adam(model.parameters(), lr=learning_rate)\n",
    "    TFModel = not isinstance(model,SimpleARModel)\n",
    "    TestLossList = []\n",
    "    print('Start model training..')\n",
    "    \n",
    "    for epoch in range(num_epochs):\n",
    "        if TFModel:\n",
    "          model.step = epoch\n",
    "        model.train()\n",
    "        for inputs, targets in tqdm(train_dataloader):\n",
    "            inputs = inputs.unsqueeze(-1).to(device)\n",
    "            targets = targets.unsqueeze(-1).to(device)\n",
    "            if TFModel:\n",
    "                outputs = model(inputs,targets,targets.shape[1])\n",
    "            else:\n",
    "                encoder_proj,outputs = model(inputs, targets.shape[1])\n",
    "\n",
    "            loss = criterion(outputs, targets)\n",
    "            optimizer.zero_grad()\n",
    "            loss.backward()\n",
    "            optimizer.step()\n",
    "        model.eval()\n",
    "        with torch.no_grad():\n",
    "            testSumofLoss = 0\n",
    "            for i, (inputs, targets) in enumerate(tqdm(test_dataloader)):\n",
    "                inputs = inputs.unsqueeze(-1).to(device)\n",
    "                targets = targets.unsqueeze(-1).to(device)\n",
    "                \n",
    "                if TFModel:\n",
    "                    outputs = model(inputs, targets,targets.shape[1])\n",
    "                else:\n",
    "                    _,outputs = model(inputs, targets.shape[1])\n",
    "                \n",
    "                test_loss = criterion(outputs, targets) # but evaluate the model only on decoder outputs\n",
    "                testSumofLoss += test_loss.item()\n",
    "                past_view_size = 50\n",
    "                if i in [0, 1, 2] and (epoch+1) % 3 == 0:\n",
    "                    inp = inputs[0, :, 0].cpu()\n",
    "                    tar = targets[0, :, 0].cpu()\n",
    "                    out = outputs[0, :, 0].cpu()\n",
    "                    uniplot.plot(\n",
    "                        ys=[inp[-past_view_size:], tar, out],\n",
    "                        xs=[\n",
    "                            np.arange(0, past_view_size),\n",
    "                            np.arange(past_view_size, past_view_size + len(tar)),\n",
    "                            np.arange(past_view_size, past_view_size + len(tar)),\n",
    "                        ],\n",
    "                        color=True,\n",
    "                        legend_labels=[\"Input\", \"Target\", \"Output\"],\n",
    "                        title=f\"Epoch: {epoch + 1}, Test Loss: {test_loss.item():.4f} - Example {i}\",\n",
    "                        height=10\n",
    "                    )\n",
    "        TestLossList.append(testSumofLoss)\n",
    "    end_time = datetime.datetime.now()\n",
    "    return end_time - start_time, TestLossList"
   ]
  },
  {
   "cell_type": "code",
   "execution_count": 12,
   "id": "qHAc099leUYq",
   "metadata": {
    "id": "qHAc099leUYq"
   },
   "outputs": [],
   "source": [
    "#results = {}\n",
    "#models = [SimpleARModel(input_size, hidden_size).to(device), TeacherForcingModel(input_size, hidden_size_TF).to(device), TeacherForcingModelBonus(input_size, hidden_size_TF).to(device)]\n",
    "#ListofLoss = []\n",
    "#ListofLossTF = []\n",
    "#ListofLossBonus = []\n",
    "#for model in models:\n",
    "#  leapsedTime, Losses = run_experiment(model)\n",
    "#  ListofLoss = \n",
    "#  if model not in results.keys():\n",
    "#    results['model'] = model\n",
    "#    results['runningTime'] = leapsedTime\n",
    "#    results['lossSet'] = Losses"
   ]
  },
  {
   "cell_type": "code",
   "execution_count": 13,
   "id": "MshepFGYXLzP",
   "metadata": {
    "colab": {
     "base_uri": "https://localhost:8080/"
    },
    "id": "MshepFGYXLzP",
    "outputId": "b53ed8a2-537d-455f-fbf1-9213c98fa1a9"
   },
   "outputs": [
    {
     "name": "stdout",
     "output_type": "stream",
     "text": [
      "Start model training..\n"
     ]
    },
    {
     "name": "stderr",
     "output_type": "stream",
     "text": [
      "100%|██████████| 638/638 [01:08<00:00,  9.30it/s]\n",
      "100%|██████████| 107/107 [00:02<00:00, 42.36it/s]\n",
      "100%|██████████| 638/638 [00:50<00:00, 12.54it/s]\n",
      "100%|██████████| 107/107 [00:02<00:00, 42.14it/s]\n",
      "100%|██████████| 638/638 [00:49<00:00, 12.87it/s]\n",
      "  3%|▎         | 3/107 [00:00<00:05, 20.19it/s]"
     ]
    },
    {
     "name": "stdout",
     "output_type": "stream",
     "text": [
      "           Epoch: 3, Test Loss: 0.0403 - Example 0\n",
      "┌────────────────────────────────────────────────────────────┐\n",
      "│\u001b[34m▛\u001b[0m\u001b[34m▚\u001b[0m\u001b[34m▄\u001b[0m\u001b[34m▄\u001b[0m\u001b[34m▄\u001b[0m\u001b[34m▄\u001b[0m\u001b[34m▖\u001b[0m                     \u001b[35m▟\u001b[0m\u001b[32m▄\u001b[0m\u001b[32m▞\u001b[0m\u001b[32m▀\u001b[0m\u001b[32m▀\u001b[0m\u001b[32m▀\u001b[0m\u001b[32m▀\u001b[0m\u001b[32m▖\u001b[0m                      \u001b[32m▗\u001b[0m\u001b[32m▞\u001b[0m│ \n",
      "││     \u001b[34m▚\u001b[0m                   \u001b[35m▄\u001b[0m\u001b[32m▗\u001b[0m\u001b[32m▞\u001b[0m     \u001b[35m▀\u001b[0m\u001b[32m▝\u001b[0m\u001b[32m▚\u001b[0m\u001b[32m▖\u001b[0m                   \u001b[32m▟\u001b[0m\u001b[32m▘\u001b[0m │ 1\n",
      "││      \u001b[34m▀\u001b[0m\u001b[34m▖\u001b[0m                \u001b[35m▝\u001b[0m\u001b[32m▗\u001b[0m\u001b[32m▘\u001b[0m        \u001b[35m▚\u001b[0m\u001b[32m▀\u001b[0m\u001b[32m▄\u001b[0m                \u001b[32m▗\u001b[0m\u001b[32m▀\u001b[0m  \u001b[35m▄\u001b[0m│ \n",
      "││       \u001b[34m▘\u001b[0m\u001b[34m▖\u001b[0m              \u001b[35m▗\u001b[0m\u001b[32m▗\u001b[0m\u001b[32m▘\u001b[0m          \u001b[35m▝\u001b[0m\u001b[35m▀\u001b[0m\u001b[32m▙\u001b[0m              \u001b[32m▗\u001b[0m\u001b[32m▀\u001b[0m\u001b[35m▄\u001b[0m\u001b[35m▀\u001b[0m\u001b[35m▀\u001b[0m\u001b[35m▝\u001b[0m│ \n",
      "││       \u001b[34m▝\u001b[0m\u001b[34m▝\u001b[0m\u001b[34m▄\u001b[0m            \u001b[35m▗\u001b[0m\u001b[32m▐\u001b[0m\u001b[32m▘\u001b[0m             \u001b[35m▚\u001b[0m\u001b[32m▀\u001b[0m\u001b[32m▖\u001b[0m           \u001b[32m▗\u001b[0m\u001b[32m▘\u001b[0m\u001b[35m▝\u001b[0m    │ \n",
      "││          \u001b[34m▚\u001b[0m          \u001b[35m▗\u001b[0m\u001b[32m▄\u001b[0m\u001b[32m▘\u001b[0m                \u001b[32m▀\u001b[0m\u001b[32m▄\u001b[0m         \u001b[32m▄\u001b[0m\u001b[32m▘\u001b[0m\u001b[35m▘\u001b[0m     │ 0\n",
      "││           \u001b[34m▚\u001b[0m         \u001b[32m▟\u001b[0m                  \u001b[35m▝\u001b[0m\u001b[35m▀\u001b[0m\u001b[32m▚\u001b[0m\u001b[32m▖\u001b[0m    \u001b[35m▗\u001b[0m\u001b[32m▗\u001b[0m\u001b[32m▞\u001b[0m        │ \n",
      "││           \u001b[34m▝\u001b[0m\u001b[34m▖\u001b[0m      \u001b[32m▗\u001b[0m\u001b[32m▞\u001b[0m                     \u001b[35m▀\u001b[0m\u001b[32m▝\u001b[0m\u001b[32m▀\u001b[0m\u001b[32m▄\u001b[0m\u001b[32m▄\u001b[0m\u001b[32m▄\u001b[0m\u001b[32m▛\u001b[0m\u001b[32m▘\u001b[0m         │ \n",
      "││            \u001b[34m▗\u001b[0m\u001b[34m▄\u001b[0m    \u001b[34m▗\u001b[0m\u001b[32m▘\u001b[0m\u001b[35m▀\u001b[0m                                      │ \n",
      "││              \u001b[34m▀\u001b[0m\u001b[34m▄\u001b[0m\u001b[34m▄\u001b[0m\u001b[34m▄\u001b[0m\u001b[34m▘\u001b[0m                                        │ \n",
      "└────────────────────────────────────────────────────────────┘\n",
      " 0                  50                  100\n",
      "                          \u001b[34m██\u001b[0m Input\n",
      "                          \u001b[35m██\u001b[0m Target\n",
      "                          \u001b[32m██\u001b[0m Output\n",
      "           Epoch: 3, Test Loss: 0.0705 - Example 1\n",
      "┌────────────────────────────────────────────────────────────┐\n",
      "││              \u001b[34m▗\u001b[0m\u001b[34m▄\u001b[0m\u001b[34m▄\u001b[0m\u001b[34m▟\u001b[0m\u001b[34m▄\u001b[0m\u001b[32m▀\u001b[0m\u001b[32m▚\u001b[0m\u001b[32m▄\u001b[0m                      \u001b[32m▗\u001b[0m\u001b[32m▞\u001b[0m\u001b[32m▀\u001b[0m\u001b[32m▀\u001b[0m\u001b[32m▀\u001b[0m\u001b[32m▀\u001b[0m\u001b[32m▚\u001b[0m\u001b[32m▖\u001b[0m       │ \n",
      "││             \u001b[34m▐\u001b[0m\u001b[34m▘\u001b[0m    \u001b[35m▝\u001b[0m\u001b[35m▀\u001b[0m\u001b[32m▝\u001b[0m\u001b[32m▚\u001b[0m\u001b[32m▖\u001b[0m                   \u001b[32m▄\u001b[0m\u001b[32m▘\u001b[0m      \u001b[32m▝\u001b[0m\u001b[32m▚\u001b[0m      │ \n",
      "││           \u001b[34m▝\u001b[0m\u001b[34m▀\u001b[0m\u001b[34m▘\u001b[0m       \u001b[35m▝\u001b[0m\u001b[35m▄\u001b[0m\u001b[32m▝\u001b[0m\u001b[32m▖\u001b[0m                 \u001b[32m▛\u001b[0m          \u001b[32m▀\u001b[0m\u001b[32m▖\u001b[0m    │ 1\n",
      "││           \u001b[34m▝\u001b[0m           \u001b[35m▀\u001b[0m\u001b[32m▝\u001b[0m\u001b[32m▚\u001b[0m              \u001b[32m▗\u001b[0m\u001b[32m▞\u001b[0m\u001b[35m▗\u001b[0m\u001b[35m▀\u001b[0m\u001b[35m▛\u001b[0m\u001b[35m▀\u001b[0m\u001b[35m▀\u001b[0m\u001b[35m▄\u001b[0m\u001b[35m▄\u001b[0m\u001b[35m▄\u001b[0m\u001b[35m▖\u001b[0m   \u001b[32m▝\u001b[0m\u001b[32m▄\u001b[0m   │ \n",
      "││         \u001b[34m▗\u001b[0m\u001b[34m▄\u001b[0m\u001b[34m▘\u001b[0m             \u001b[32m▝\u001b[0m\u001b[32m▚\u001b[0m\u001b[32m▖\u001b[0m           \u001b[32m▗\u001b[0m\u001b[32m▌\u001b[0m\u001b[35m▀\u001b[0m\u001b[35m▘\u001b[0m       \u001b[35m▝\u001b[0m\u001b[35m▀\u001b[0m\u001b[35m▚\u001b[0m\u001b[35m▄\u001b[0m\u001b[35m▖\u001b[0m \u001b[32m▚\u001b[0m  │ \n",
      "││         \u001b[34m▞\u001b[0m                \u001b[35m▝\u001b[0m\u001b[32m▐\u001b[0m\u001b[32m▖\u001b[0m         \u001b[32m▄\u001b[0m\u001b[32m▘\u001b[0m\u001b[35m▘\u001b[0m             \u001b[35m▐\u001b[0m  \u001b[32m▀\u001b[0m\u001b[32m▄\u001b[0m│ \n",
      "││        \u001b[34m▝\u001b[0m                  \u001b[35m▝\u001b[0m\u001b[32m▝\u001b[0m\u001b[32m▚\u001b[0m\u001b[32m▖\u001b[0m     \u001b[35m▄\u001b[0m\u001b[32m▄\u001b[0m\u001b[32m▘\u001b[0m                \u001b[35m▀\u001b[0m\u001b[35m▖\u001b[0m \u001b[32m▝\u001b[0m│ 0\n",
      "│\u001b[34m▌\u001b[0m        \u001b[34m▘\u001b[0m                    \u001b[35m▝\u001b[0m\u001b[32m▀\u001b[0m\u001b[32m▚\u001b[0m\u001b[32m▄\u001b[0m\u001b[32m▄\u001b[0m\u001b[32m▄\u001b[0m\u001b[32m▄\u001b[0m\u001b[32m▀\u001b[0m                   \u001b[35m▐\u001b[0m\u001b[35m▄\u001b[0m │ \n",
      "│\u001b[34m▗\u001b[0m\u001b[34m▄\u001b[0m    \u001b[34m▗\u001b[0m\u001b[34m▀\u001b[0m\u001b[34m▛\u001b[0m                                                  \u001b[35m▚\u001b[0m│ \n",
      "││ \u001b[34m▀\u001b[0m\u001b[34m▄\u001b[0m\u001b[34m▄\u001b[0m\u001b[34m▄\u001b[0m\u001b[34m▌\u001b[0m                                                    \u001b[35m▝\u001b[0m│ \n",
      "└────────────────────────────────────────────────────────────┘\n",
      " 0                  50                  100\n",
      "                          \u001b[34m██\u001b[0m Input\n",
      "                          \u001b[35m██\u001b[0m Target\n",
      "                          \u001b[32m██\u001b[0m Output\n",
      "           Epoch: 3, Test Loss: 0.0793 - Example 2\n",
      "┌────────────────────────────────────────────────────────────┐\n",
      "││ \u001b[34m▄\u001b[0m\u001b[34m▞\u001b[0m\u001b[34m▚\u001b[0m\u001b[34m▞\u001b[0m\u001b[34m▚\u001b[0m\u001b[34m▄\u001b[0m                        \u001b[32m▗\u001b[0m\u001b[32m▛\u001b[0m\u001b[32m▀\u001b[0m\u001b[32m▀\u001b[0m\u001b[32m▀\u001b[0m\u001b[32m▀\u001b[0m\u001b[32m▚\u001b[0m\u001b[32m▖\u001b[0m                    │ \n",
      "│\u001b[34m▄\u001b[0m\u001b[34m▄\u001b[0m\u001b[34m▘\u001b[0m     \u001b[34m▀\u001b[0m\u001b[34m▚\u001b[0m\u001b[34m▖\u001b[0m                    \u001b[32m▞\u001b[0m\u001b[32m▘\u001b[0m      \u001b[32m▀\u001b[0m\u001b[32m▚\u001b[0m                   │ 1\n",
      "│\u001b[34m▘\u001b[0m         \u001b[34m▐\u001b[0m\u001b[34m▄\u001b[0m                 \u001b[32m▗\u001b[0m\u001b[32m▀\u001b[0m\u001b[35m▄\u001b[0m\u001b[35m▖\u001b[0m\u001b[35m▄\u001b[0m\u001b[35m▄\u001b[0m\u001b[35m▖\u001b[0m     \u001b[32m▚\u001b[0m\u001b[32m▖\u001b[0m               \u001b[32m▗\u001b[0m\u001b[32m▞\u001b[0m│ \n",
      "││           \u001b[34m▀\u001b[0m\u001b[34m▖\u001b[0m              \u001b[32m▐\u001b[0m\u001b[32m▘\u001b[0m\u001b[35m▄\u001b[0m\u001b[35m▘\u001b[0m\u001b[35m▝\u001b[0m  \u001b[35m▀\u001b[0m\u001b[35m▀\u001b[0m\u001b[35m▀\u001b[0m\u001b[35m▚\u001b[0m\u001b[35m▄\u001b[0m\u001b[35m▄\u001b[0m \u001b[32m▝\u001b[0m\u001b[32m▙\u001b[0m             \u001b[32m▗\u001b[0m\u001b[32m▘\u001b[0m\u001b[35m▘\u001b[0m│ \n",
      "││            \u001b[34m▝\u001b[0m\u001b[34m▜\u001b[0m            \u001b[32m▞\u001b[0m\u001b[32m▘\u001b[0m            \u001b[35m▀\u001b[0m\u001b[35m▚\u001b[0m \u001b[32m▚\u001b[0m\u001b[32m▖\u001b[0m          \u001b[32m▄\u001b[0m\u001b[32m▘\u001b[0m\u001b[35m▀\u001b[0m │ \n",
      "││              \u001b[34m▀\u001b[0m\u001b[34m▄\u001b[0m        \u001b[35m▗\u001b[0m\u001b[32m▞\u001b[0m                \u001b[35m▚\u001b[0m \u001b[32m▀\u001b[0m\u001b[32m▄\u001b[0m\u001b[32m▖\u001b[0m      \u001b[32m▗\u001b[0m\u001b[32m▞\u001b[0m \u001b[35m▞\u001b[0m  │ \n",
      "││                \u001b[34m▀\u001b[0m\u001b[34m▄\u001b[0m\u001b[34m▄\u001b[0m\u001b[35m▄\u001b[0m\u001b[35m▄\u001b[0m\u001b[35m▄\u001b[0m\u001b[35m▄\u001b[0m\u001b[32m▗\u001b[0m\u001b[32m▀\u001b[0m                  \u001b[35m▀\u001b[0m\u001b[35m▖\u001b[0m \u001b[32m▀\u001b[0m\u001b[32m▚\u001b[0m\u001b[32m▄\u001b[0m\u001b[32m▖\u001b[0m\u001b[32m▗\u001b[0m\u001b[32m▄\u001b[0m\u001b[32m▟\u001b[0m\u001b[32m▘\u001b[0m\u001b[35m▗\u001b[0m\u001b[35m▀\u001b[0m   │ \n",
      "││                   \u001b[32m▜\u001b[0m\u001b[32m▄\u001b[0m\u001b[32m▟\u001b[0m\u001b[32m▀\u001b[0m\u001b[32m▘\u001b[0m                    \u001b[35m▝\u001b[0m\u001b[35m▚\u001b[0m   \u001b[32m▝\u001b[0m\u001b[32m▀\u001b[0m   \u001b[35m▞\u001b[0m    │ \n",
      "││▁▁▁▁▁▁▁▁▁▁▁▁▁▁▁▁▁▁▁▁▁▁▁▁▁▁▁▁▁▁▁▁▁▁▁▁▁▁▁▁▁▁▁▁▁▁\u001b[35m▚\u001b[0m▁▁▁▁▁\u001b[35m▗\u001b[0m\u001b[35m▀\u001b[0m▁▁▁▁▁│ 0\n",
      "││                                               \u001b[35m▚\u001b[0m\u001b[35m▄\u001b[0m\u001b[35m▄\u001b[0m\u001b[35m▄\u001b[0m\u001b[35m▀\u001b[0m\u001b[35m▘\u001b[0m      │ \n",
      "└────────────────────────────────────────────────────────────┘\n",
      " 0                  50                  100\n",
      "                          \u001b[34m██\u001b[0m Input\n",
      "                          \u001b[35m██\u001b[0m Target\n",
      "                          \u001b[32m██\u001b[0m Output\n"
     ]
    },
    {
     "name": "stderr",
     "output_type": "stream",
     "text": [
      "100%|██████████| 107/107 [00:03<00:00, 34.59it/s]\n",
      "100%|██████████| 638/638 [00:52<00:00, 12.05it/s]\n",
      "100%|██████████| 107/107 [00:03<00:00, 31.32it/s]\n",
      "100%|██████████| 638/638 [00:52<00:00, 12.13it/s]\n",
      "100%|██████████| 107/107 [00:03<00:00, 35.58it/s]\n",
      "100%|██████████| 638/638 [00:50<00:00, 12.63it/s]\n",
      "  5%|▍         | 5/107 [00:00<00:04, 23.30it/s]"
     ]
    },
    {
     "name": "stdout",
     "output_type": "stream",
     "text": [
      "           Epoch: 6, Test Loss: 0.0600 - Example 0\n",
      "┌────────────────────────────────────────────────────────────┐\n",
      "│\u001b[34m▗\u001b[0m\u001b[34m▖\u001b[0m                          \u001b[35m▗\u001b[0m\u001b[32m▗\u001b[0m\u001b[32m▞\u001b[0m\u001b[32m▀\u001b[0m\u001b[32m▀\u001b[0m\u001b[32m▀\u001b[0m\u001b[32m▀\u001b[0m\u001b[32m▙\u001b[0m                       \u001b[32m▗\u001b[0m│ \n",
      "│\u001b[34m▘\u001b[0m\u001b[34m▝\u001b[0m\u001b[34m▀\u001b[0m\u001b[34m▀\u001b[0m\u001b[34m▀\u001b[0m\u001b[34m▀\u001b[0m\u001b[34m▌\u001b[0m                    \u001b[35m▄\u001b[0m\u001b[32m▟\u001b[0m\u001b[32m▘\u001b[0m   \u001b[35m▀\u001b[0m\u001b[35m▄\u001b[0m\u001b[35m▖\u001b[0m\u001b[32m▀\u001b[0m\u001b[32m▖\u001b[0m                   \u001b[32m▗\u001b[0m\u001b[32m▞\u001b[0m\u001b[32m▘\u001b[0m│ \n",
      "││     \u001b[34m▝\u001b[0m\u001b[34m▚\u001b[0m                 \u001b[35m▗\u001b[0m\u001b[32m▗\u001b[0m\u001b[32m▞\u001b[0m       \u001b[35m▝\u001b[0m\u001b[35m▖\u001b[0m\u001b[32m▝\u001b[0m\u001b[32m▚\u001b[0m                 \u001b[32m▗\u001b[0m\u001b[32m▀\u001b[0m  │ 1\n",
      "││       \u001b[34m▌\u001b[0m                \u001b[35m▘\u001b[0m\u001b[32m▞\u001b[0m         \u001b[35m▝\u001b[0m\u001b[35m▚\u001b[0m\u001b[35m▄\u001b[0m\u001b[32m▚\u001b[0m               \u001b[32m▗\u001b[0m\u001b[32m▘\u001b[0m\u001b[35m▟\u001b[0m\u001b[35m▞\u001b[0m\u001b[35m▀\u001b[0m│ \n",
      "││       \u001b[34m▝\u001b[0m\u001b[34m▀\u001b[0m\u001b[34m▄\u001b[0m            \u001b[35m▗\u001b[0m\u001b[32m▗\u001b[0m\u001b[32m▞\u001b[0m             \u001b[35m▙\u001b[0m\u001b[32m▀\u001b[0m\u001b[32m▖\u001b[0m            \u001b[32m▗\u001b[0m\u001b[32m▘\u001b[0m\u001b[35m▀\u001b[0m   │ \n",
      "││          \u001b[34m▖\u001b[0m          \u001b[35m▗\u001b[0m\u001b[35m▖\u001b[0m\u001b[32m▞\u001b[0m               \u001b[35m▀\u001b[0m\u001b[32m▀\u001b[0m\u001b[32m▄\u001b[0m         \u001b[35m▗\u001b[0m\u001b[32m▐\u001b[0m\u001b[32m▘\u001b[0m     │ \n",
      "││          \u001b[34m▝\u001b[0m\u001b[34m▖\u001b[0m         \u001b[32m▗\u001b[0m\u001b[32m▞\u001b[0m                 \u001b[35m▀\u001b[0m\u001b[35m▀\u001b[0m\u001b[32m▙\u001b[0m\u001b[32m▖\u001b[0m      \u001b[32m▗\u001b[0m\u001b[32m▞\u001b[0m\u001b[32m▘\u001b[0m      │ 0\n",
      "││           \u001b[34m▝\u001b[0m\u001b[34m▖\u001b[0m       \u001b[32m▗\u001b[0m\u001b[32m▞\u001b[0m                    \u001b[35m▚\u001b[0m\u001b[32m▝\u001b[0m\u001b[32m▙\u001b[0m\u001b[32m▄\u001b[0m\u001b[35m▄\u001b[0m\u001b[35m▄\u001b[0m\u001b[32m▗\u001b[0m\u001b[32m▄\u001b[0m\u001b[32m▀\u001b[0m        │ \n",
      "││            \u001b[34m▗\u001b[0m\u001b[34m▄\u001b[0m    \u001b[34m▗\u001b[0m\u001b[32m▞\u001b[0m\u001b[32m▘\u001b[0m                         \u001b[32m▀\u001b[0m\u001b[32m▀\u001b[0m\u001b[32m▘\u001b[0m          │ \n",
      "││             \u001b[34m▝\u001b[0m\u001b[34m▀\u001b[0m\u001b[34m▄\u001b[0m\u001b[34m▄\u001b[0m\u001b[34m▄\u001b[0m\u001b[34m▘\u001b[0m                                        │ \n",
      "└────────────────────────────────────────────────────────────┘\n",
      " 0                  50                  100\n",
      "                          \u001b[34m██\u001b[0m Input\n",
      "                          \u001b[35m██\u001b[0m Target\n",
      "                          \u001b[32m██\u001b[0m Output\n",
      "           Epoch: 6, Test Loss: 0.0835 - Example 1\n",
      "┌────────────────────────────────────────────────────────────┐\n",
      "││                 \u001b[34m▗\u001b[0m \u001b[32m▀\u001b[0m\u001b[32m▚\u001b[0m\u001b[32m▄\u001b[0m                       \u001b[32m▗\u001b[0m\u001b[32m▞\u001b[0m\u001b[32m▀\u001b[0m\u001b[32m▀\u001b[0m\u001b[32m▀\u001b[0m\u001b[32m▜\u001b[0m\u001b[32m▄\u001b[0m       │ \n",
      "││             \u001b[34m▗\u001b[0m\u001b[34m▞\u001b[0m\u001b[34m▀\u001b[0m\u001b[34m▀\u001b[0m\u001b[34m▀\u001b[0m\u001b[34m▀\u001b[0m\u001b[35m▚\u001b[0m\u001b[35m▄\u001b[0m\u001b[32m▝\u001b[0m\u001b[32m▚\u001b[0m\u001b[32m▖\u001b[0m                    \u001b[32m▞\u001b[0m\u001b[32m▘\u001b[0m      \u001b[32m▜\u001b[0m\u001b[32m▖\u001b[0m     │ \n",
      "││           \u001b[34m▗\u001b[0m\u001b[34m▄\u001b[0m\u001b[34m▞\u001b[0m       \u001b[35m▜\u001b[0m\u001b[35m▖\u001b[0m\u001b[32m▝\u001b[0m\u001b[32m▖\u001b[0m                 \u001b[32m▗\u001b[0m\u001b[32m▞\u001b[0m         \u001b[32m▝\u001b[0m\u001b[32m▄\u001b[0m    │ 1\n",
      "││           \u001b[34m▗\u001b[0m          \u001b[35m▝\u001b[0m\u001b[35m▚\u001b[0m\u001b[32m▝\u001b[0m\u001b[32m▚\u001b[0m                \u001b[32m▌\u001b[0m\u001b[35m▄\u001b[0m\u001b[35m▄\u001b[0m\u001b[35m▄\u001b[0m\u001b[35m▄\u001b[0m\u001b[35m▄\u001b[0m      \u001b[32m▝\u001b[0m\u001b[32m▚\u001b[0m   │ \n",
      "││          \u001b[34m▄\u001b[0m\u001b[34m▖\u001b[0m             \u001b[32m▝\u001b[0m\u001b[32m▄\u001b[0m             \u001b[32m▗\u001b[0m\u001b[32m▀\u001b[0m\u001b[35m▛\u001b[0m     \u001b[35m▀\u001b[0m\u001b[35m▀\u001b[0m\u001b[35m▜\u001b[0m\u001b[35m▄\u001b[0m\u001b[35m▄\u001b[0m   \u001b[32m▜\u001b[0m  │ \n",
      "││         \u001b[34m▐\u001b[0m               \u001b[35m▝\u001b[0m\u001b[35m▀\u001b[0m\u001b[32m▚\u001b[0m           \u001b[32m▗\u001b[0m\u001b[32m▌\u001b[0m            \u001b[35m▀\u001b[0m\u001b[35m▚\u001b[0m  \u001b[32m▀\u001b[0m\u001b[32m▄\u001b[0m│ \n",
      "││        \u001b[34m▗\u001b[0m\u001b[34m▘\u001b[0m                 \u001b[35m▜\u001b[0m\u001b[32m▀\u001b[0m\u001b[32m▄\u001b[0m       \u001b[35m▗\u001b[0m\u001b[32m▄\u001b[0m\u001b[32m▘\u001b[0m              \u001b[35m▝\u001b[0m\u001b[35m▀\u001b[0m\u001b[35m▖\u001b[0m \u001b[32m▝\u001b[0m│ 0\n",
      "│\u001b[34m▌\u001b[0m        \u001b[34m▘\u001b[0m                    \u001b[35m▀\u001b[0m\u001b[32m▚\u001b[0m\u001b[32m▄\u001b[0m\u001b[35m▄\u001b[0m\u001b[35m▄\u001b[0m\u001b[35m▄\u001b[0m\u001b[35m▄\u001b[0m\u001b[32m▗\u001b[0m\u001b[32m▞\u001b[0m\u001b[32m▘\u001b[0m                 \u001b[35m▐\u001b[0m\u001b[35m▖\u001b[0m │ \n",
      "│\u001b[34m▗\u001b[0m\u001b[34m▄\u001b[0m    \u001b[34m▗\u001b[0m\u001b[34m▀\u001b[0m\u001b[34m▞\u001b[0m                        \u001b[32m▀\u001b[0m\u001b[32m▀\u001b[0m\u001b[32m▀\u001b[0m\u001b[32m▀\u001b[0m\u001b[32m▘\u001b[0m                    \u001b[35m▝\u001b[0m\u001b[35m▚\u001b[0m│ \n",
      "││ \u001b[34m▀\u001b[0m\u001b[34m▄\u001b[0m\u001b[34m▄\u001b[0m\u001b[34m▄\u001b[0m\u001b[34m▌\u001b[0m                                                    \u001b[35m▝\u001b[0m│ \n",
      "└────────────────────────────────────────────────────────────┘\n",
      " 0                  50                  100\n",
      "                          \u001b[34m██\u001b[0m Input\n",
      "                          \u001b[35m██\u001b[0m Target\n",
      "                          \u001b[32m██\u001b[0m Output\n",
      "           Epoch: 6, Test Loss: 0.0782 - Example 2\n",
      "┌────────────────────────────────────────────────────────────┐\n",
      "││ \u001b[34m▗\u001b[0m\u001b[34m▄\u001b[0m\u001b[34m▄\u001b[0m\u001b[34m▄\u001b[0m\u001b[34m▄\u001b[0m\u001b[34m▖\u001b[0m                         \u001b[32m▄\u001b[0m\u001b[32m▀\u001b[0m\u001b[32m▀\u001b[0m\u001b[32m▀\u001b[0m\u001b[32m▀\u001b[0m\u001b[32m▀\u001b[0m\u001b[32m▄\u001b[0m                    │ \n",
      "││\u001b[34m▄\u001b[0m\u001b[34m▘\u001b[0m    \u001b[34m▝\u001b[0m\u001b[34m▀\u001b[0m\u001b[34m▚\u001b[0m                     \u001b[32m▄\u001b[0m\u001b[32m▀\u001b[0m       \u001b[32m▀\u001b[0m\u001b[32m▖\u001b[0m                  │ 1\n",
      "│\u001b[34m▀\u001b[0m         \u001b[34m▜\u001b[0m\u001b[34m▄\u001b[0m                  \u001b[32m▄\u001b[0m\u001b[32m▘\u001b[0m \u001b[35m▄\u001b[0m       \u001b[32m▝\u001b[0m\u001b[32m▄\u001b[0m                \u001b[32m▗\u001b[0m│ \n",
      "││           \u001b[34m▀\u001b[0m\u001b[34m▖\u001b[0m              \u001b[32m▗\u001b[0m\u001b[32m▞\u001b[0m\u001b[35m▄\u001b[0m\u001b[35m▛\u001b[0m\u001b[35m▀\u001b[0m\u001b[35m▘\u001b[0m\u001b[35m▀\u001b[0m\u001b[35m▀\u001b[0m\u001b[35m▀\u001b[0m\u001b[35m▄\u001b[0m\u001b[35m▄\u001b[0m\u001b[35m▄\u001b[0m\u001b[35m▖\u001b[0m  \u001b[32m▚\u001b[0m              \u001b[32m▗\u001b[0m\u001b[32m▀\u001b[0m│ \n",
      "││            \u001b[34m▝\u001b[0m\u001b[34m▚\u001b[0m            \u001b[35m▄\u001b[0m\u001b[32m▞\u001b[0m           \u001b[35m▝\u001b[0m\u001b[35m▀\u001b[0m\u001b[35m▚\u001b[0m \u001b[32m▀\u001b[0m\u001b[32m▖\u001b[0m           \u001b[32m▐\u001b[0m\u001b[32m▘\u001b[0m │ \n",
      "││              \u001b[34m▀\u001b[0m\u001b[34m▄\u001b[0m        \u001b[35m▗\u001b[0m\u001b[32m▗\u001b[0m\u001b[32m▀\u001b[0m               \u001b[35m▚\u001b[0m \u001b[32m▝\u001b[0m\u001b[32m▚\u001b[0m\u001b[32m▖\u001b[0m       \u001b[32m▗\u001b[0m\u001b[32m▞\u001b[0m\u001b[32m▘\u001b[0m  │ \n",
      "││                \u001b[34m▚\u001b[0m\u001b[34m▄\u001b[0m\u001b[34m▄\u001b[0m\u001b[35m▄\u001b[0m\u001b[35m▄\u001b[0m \u001b[35m▄\u001b[0m\u001b[35m▀\u001b[0m\u001b[32m▄\u001b[0m\u001b[32m▀\u001b[0m                 \u001b[35m▚\u001b[0m\u001b[35m▖\u001b[0m \u001b[32m▀\u001b[0m\u001b[32m▄\u001b[0m\u001b[32m▖\u001b[0m   \u001b[32m▗\u001b[0m\u001b[32m▄\u001b[0m\u001b[32m▀\u001b[0m\u001b[35m▀\u001b[0m   │ \n",
      "││                   \u001b[32m▄\u001b[0m \u001b[32m▗\u001b[0m\u001b[32m▄\u001b[0m\u001b[32m▞\u001b[0m                    \u001b[35m▝\u001b[0m\u001b[35m▚\u001b[0m  \u001b[32m▝\u001b[0m\u001b[32m▀\u001b[0m\u001b[32m▀\u001b[0m\u001b[32m▀\u001b[0m\u001b[32m▀\u001b[0m \u001b[35m▞\u001b[0m    │ \n",
      "││                    \u001b[32m▀\u001b[0m\u001b[32m▀\u001b[0m                        \u001b[35m▙\u001b[0m     \u001b[35m▗\u001b[0m\u001b[35m▀\u001b[0m     │ \n",
      "││▔▔▔▔▔▔▔▔▔▔▔▔▔▔▔▔▔▔▔▔▔▔▔▔▔▔▔▔▔▔▔▔▔▔▔▔▔▔▔▔▔▔▔▔▔▔▔\u001b[35m▚\u001b[0m\u001b[35m▄\u001b[0m\u001b[35m▄\u001b[0m\u001b[35m▄\u001b[0m\u001b[35m▀\u001b[0m\u001b[35m▘\u001b[0m▔▔▔▔▔▔│ 0\n",
      "└────────────────────────────────────────────────────────────┘\n",
      " 0                  50                  100\n",
      "                          \u001b[34m██\u001b[0m Input\n",
      "                          \u001b[35m██\u001b[0m Target\n",
      "                          \u001b[32m██\u001b[0m Output\n"
     ]
    },
    {
     "name": "stderr",
     "output_type": "stream",
     "text": [
      "100%|██████████| 107/107 [00:02<00:00, 40.53it/s]\n",
      "100%|██████████| 638/638 [00:50<00:00, 12.51it/s]\n",
      "100%|██████████| 107/107 [00:03<00:00, 27.15it/s]\n",
      "100%|██████████| 638/638 [00:51<00:00, 12.35it/s]\n",
      "100%|██████████| 107/107 [00:02<00:00, 42.55it/s]\n",
      "100%|██████████| 638/638 [00:50<00:00, 12.58it/s]\n",
      "  5%|▍         | 5/107 [00:00<00:04, 25.27it/s]"
     ]
    },
    {
     "name": "stdout",
     "output_type": "stream",
     "text": [
      "           Epoch: 9, Test Loss: 0.0470 - Example 0\n",
      "┌────────────────────────────────────────────────────────────┐\n",
      "│\u001b[34m▄\u001b[0m\u001b[34m▚\u001b[0m\u001b[34m▄\u001b[0m\u001b[34m▄\u001b[0m\u001b[34m▄\u001b[0m\u001b[34m▄\u001b[0m\u001b[34m▖\u001b[0m                     \u001b[35m▄\u001b[0m\u001b[32m▗\u001b[0m\u001b[32m▄\u001b[0m\u001b[32m▀\u001b[0m\u001b[32m▀\u001b[0m\u001b[32m▀\u001b[0m\u001b[32m▀\u001b[0m\u001b[32m▙\u001b[0m\u001b[32m▖\u001b[0m                      \u001b[32m▗\u001b[0m│ \n",
      "││   \u001b[34m▘\u001b[0m \u001b[34m▚\u001b[0m                   \u001b[35m▗\u001b[0m\u001b[35m▞\u001b[0m\u001b[32m▗\u001b[0m\u001b[32m▘\u001b[0m   \u001b[35m▝\u001b[0m\u001b[35m▀\u001b[0m\u001b[35m▌\u001b[0m\u001b[32m▝\u001b[0m\u001b[32m▙\u001b[0m                    \u001b[32m▄\u001b[0m\u001b[32m▀\u001b[0m│ 1\n",
      "││      \u001b[34m▀\u001b[0m                 \u001b[35m▝\u001b[0m\u001b[35m▀\u001b[0m\u001b[32m▞\u001b[0m\u001b[32m▘\u001b[0m      \u001b[35m▝\u001b[0m\u001b[35m▚\u001b[0m\u001b[35m▖\u001b[0m\u001b[32m▚\u001b[0m\u001b[32m▖\u001b[0m                 \u001b[32m▞\u001b[0m \u001b[35m▖\u001b[0m│ \n",
      "││       \u001b[34m▘\u001b[0m\u001b[34m▖\u001b[0m               \u001b[35m▘\u001b[0m\u001b[32m▟\u001b[0m          \u001b[35m▀\u001b[0m\u001b[35m▀\u001b[0m\u001b[32m▚\u001b[0m\u001b[32m▖\u001b[0m              \u001b[32m▗\u001b[0m\u001b[32m▀\u001b[0m\u001b[35m▀\u001b[0m\u001b[35m▀\u001b[0m\u001b[35m▝\u001b[0m│ \n",
      "││       \u001b[34m▝\u001b[0m\u001b[34m▝\u001b[0m\u001b[34m▄\u001b[0m            \u001b[35m▗\u001b[0m\u001b[35m▞\u001b[0m\u001b[32m▞\u001b[0m             \u001b[35m▙\u001b[0m\u001b[32m▝\u001b[0m\u001b[32m▖\u001b[0m            \u001b[32m▗\u001b[0m\u001b[32m▀\u001b[0m    │ \n",
      "││          \u001b[34m▄\u001b[0m          \u001b[35m▗\u001b[0m\u001b[35m▘\u001b[0m\u001b[32m▟\u001b[0m               \u001b[35m▝\u001b[0m\u001b[32m▝\u001b[0m\u001b[32m▄\u001b[0m         \u001b[35m▄\u001b[0m\u001b[32m▐\u001b[0m\u001b[32m▘\u001b[0m     │ 0\n",
      "││           \u001b[34m▄\u001b[0m         \u001b[32m▗\u001b[0m\u001b[32m▞\u001b[0m                 \u001b[35m▝\u001b[0m\u001b[35m▀\u001b[0m\u001b[32m▚\u001b[0m\u001b[32m▖\u001b[0m     \u001b[35m▄\u001b[0m\u001b[32m▗\u001b[0m\u001b[32m▞\u001b[0m\u001b[32m▘\u001b[0m      │ \n",
      "││           \u001b[34m▝\u001b[0m\u001b[34m▖\u001b[0m      \u001b[35m▗\u001b[0m\u001b[32m▗\u001b[0m\u001b[32m▞\u001b[0m                    \u001b[35m▀\u001b[0m\u001b[32m▝\u001b[0m\u001b[32m▙\u001b[0m\u001b[32m▄\u001b[0m\u001b[32m▖\u001b[0m\u001b[35m▄\u001b[0m\u001b[32m▄\u001b[0m\u001b[32m▄\u001b[0m\u001b[32m▀\u001b[0m        │ \n",
      "││            \u001b[34m▗\u001b[0m\u001b[34m▄\u001b[0m    \u001b[34m▗\u001b[0m\u001b[32m▀\u001b[0m\u001b[32m▘\u001b[0m                         \u001b[32m▀\u001b[0m\u001b[32m▀\u001b[0m\u001b[32m▘\u001b[0m          │ \n",
      "││             \u001b[34m▝\u001b[0m\u001b[34m▀\u001b[0m\u001b[34m▄\u001b[0m\u001b[34m▄\u001b[0m\u001b[34m▄\u001b[0m\u001b[34m▘\u001b[0m                                        │ \n",
      "└────────────────────────────────────────────────────────────┘\n",
      " 0                  50                  100\n",
      "                          \u001b[34m██\u001b[0m Input\n",
      "                          \u001b[35m██\u001b[0m Target\n",
      "                          \u001b[32m██\u001b[0m Output\n",
      "           Epoch: 9, Test Loss: 0.0677 - Example 1\n",
      "┌────────────────────────────────────────────────────────────┐\n",
      "││                 \u001b[34m▗\u001b[0m \u001b[32m▀\u001b[0m\u001b[32m▀\u001b[0m\u001b[32m▄\u001b[0m                        \u001b[32m▗\u001b[0m\u001b[32m▄\u001b[0m\u001b[32m▄\u001b[0m\u001b[32m▄\u001b[0m\u001b[32m▄\u001b[0m        │ \n",
      "││             \u001b[34m▗\u001b[0m\u001b[34m▀\u001b[0m\u001b[34m▀\u001b[0m\u001b[34m▀\u001b[0m\u001b[34m▀\u001b[0m\u001b[34m▀\u001b[0m\u001b[35m▚\u001b[0m\u001b[35m▄\u001b[0m \u001b[32m▀\u001b[0m\u001b[32m▄\u001b[0m                    \u001b[32m▗\u001b[0m\u001b[32m▞\u001b[0m\u001b[32m▘\u001b[0m   \u001b[32m▝\u001b[0m\u001b[32m▀\u001b[0m\u001b[32m▄\u001b[0m      │ \n",
      "││           \u001b[34m▗\u001b[0m\u001b[34m▄\u001b[0m\u001b[34m▞\u001b[0m       \u001b[35m▜\u001b[0m\u001b[35m▖\u001b[0m\u001b[32m▝\u001b[0m\u001b[32m▄\u001b[0m                  \u001b[32m▄\u001b[0m\u001b[32m▘\u001b[0m        \u001b[32m▚\u001b[0m\u001b[32m▖\u001b[0m    │ 1\n",
      "││           \u001b[34m▗\u001b[0m          \u001b[35m▝\u001b[0m\u001b[35m▚\u001b[0m\u001b[35m▄\u001b[0m\u001b[32m▚\u001b[0m                \u001b[32m▛\u001b[0m\u001b[35m▄\u001b[0m\u001b[35m▄\u001b[0m\u001b[35m▄\u001b[0m\u001b[35m▄\u001b[0m\u001b[35m▄\u001b[0m      \u001b[32m▝\u001b[0m\u001b[32m▄\u001b[0m   │ \n",
      "││          \u001b[34m▄\u001b[0m\u001b[34m▖\u001b[0m             \u001b[35m▄\u001b[0m\u001b[32m▚\u001b[0m\u001b[32m▖\u001b[0m            \u001b[32m▗\u001b[0m\u001b[32m▀\u001b[0m\u001b[35m▛\u001b[0m     \u001b[35m▀\u001b[0m\u001b[35m▀\u001b[0m\u001b[35m▜\u001b[0m\u001b[35m▄\u001b[0m\u001b[35m▄\u001b[0m   \u001b[32m▚\u001b[0m  │ \n",
      "││         \u001b[34m▐\u001b[0m               \u001b[35m▝\u001b[0m\u001b[35m▀\u001b[0m\u001b[32m▐\u001b[0m\u001b[32m▖\u001b[0m          \u001b[32m▗\u001b[0m\u001b[32m▘\u001b[0m            \u001b[35m▀\u001b[0m\u001b[35m▚\u001b[0m  \u001b[32m▀\u001b[0m\u001b[32m▖\u001b[0m│ \n",
      "││        \u001b[34m▗\u001b[0m\u001b[34m▘\u001b[0m                 \u001b[35m▜\u001b[0m\u001b[32m▝\u001b[0m\u001b[32m▚\u001b[0m\u001b[32m▖\u001b[0m      \u001b[35m▗\u001b[0m\u001b[32m▞\u001b[0m\u001b[32m▘\u001b[0m              \u001b[35m▝\u001b[0m\u001b[35m▀\u001b[0m\u001b[35m▖\u001b[0m \u001b[32m▝\u001b[0m│ 0\n",
      "│\u001b[34m▌\u001b[0m        \u001b[34m▘\u001b[0m                    \u001b[35m▀\u001b[0m\u001b[32m▀\u001b[0m\u001b[32m▚\u001b[0m\u001b[32m▄\u001b[0m\u001b[35m▄\u001b[0m\u001b[35m▄\u001b[0m\u001b[32m▗\u001b[0m\u001b[32m▄\u001b[0m\u001b[32m▀\u001b[0m                  \u001b[35m▐\u001b[0m\u001b[35m▖\u001b[0m │ \n",
      "│\u001b[34m▗\u001b[0m\u001b[34m▄\u001b[0m    \u001b[34m▗\u001b[0m\u001b[34m▀\u001b[0m\u001b[34m▞\u001b[0m                         \u001b[32m▀\u001b[0m\u001b[32m▀\u001b[0m\u001b[32m▘\u001b[0m                     \u001b[35m▝\u001b[0m\u001b[35m▚\u001b[0m│ \n",
      "││ \u001b[34m▀\u001b[0m\u001b[34m▄\u001b[0m\u001b[34m▄\u001b[0m\u001b[34m▄\u001b[0m\u001b[34m▌\u001b[0m                                                    \u001b[35m▝\u001b[0m│ \n",
      "└────────────────────────────────────────────────────────────┘\n",
      " 0                  50                  100\n",
      "                          \u001b[34m██\u001b[0m Input\n",
      "                          \u001b[35m██\u001b[0m Target\n",
      "                          \u001b[32m██\u001b[0m Output\n",
      "           Epoch: 9, Test Loss: 0.0653 - Example 2\n",
      "┌────────────────────────────────────────────────────────────┐\n",
      "││ \u001b[34m▄\u001b[0m\u001b[34m▀\u001b[0m\u001b[34m▀\u001b[0m\u001b[34m▀\u001b[0m\u001b[34m▀\u001b[0m\u001b[34m▄\u001b[0m\u001b[34m▖\u001b[0m                        \u001b[32m▄\u001b[0m\u001b[32m▀\u001b[0m\u001b[32m▀\u001b[0m\u001b[32m▀\u001b[0m\u001b[32m▀\u001b[0m\u001b[32m▀\u001b[0m\u001b[32m▖\u001b[0m                    │ \n",
      "│\u001b[34m▄\u001b[0m\u001b[34m▞\u001b[0m\u001b[34m▘\u001b[0m     \u001b[34m▀\u001b[0m\u001b[34m▀\u001b[0m\u001b[34m▖\u001b[0m                    \u001b[32m▄\u001b[0m\u001b[32m▀\u001b[0m      \u001b[32m▝\u001b[0m\u001b[32m▀\u001b[0m\u001b[32m▖\u001b[0m                  │ 1\n",
      "││         \u001b[34m▝\u001b[0m\u001b[34m▄\u001b[0m\u001b[34m▄\u001b[0m                 \u001b[32m▞\u001b[0m\u001b[32m▘\u001b[0m\u001b[35m▖\u001b[0m\u001b[35m▄\u001b[0m\u001b[35m▄\u001b[0m\u001b[35m▖\u001b[0m     \u001b[32m▀\u001b[0m\u001b[32m▄\u001b[0m                \u001b[32m▗\u001b[0m│ \n",
      "││           \u001b[34m▝\u001b[0m\u001b[34m▖\u001b[0m              \u001b[32m▗\u001b[0m\u001b[32m▀\u001b[0m\u001b[35m▄\u001b[0m\u001b[35m▘\u001b[0m\u001b[35m▝\u001b[0m  \u001b[35m▀\u001b[0m\u001b[35m▀\u001b[0m\u001b[35m▀\u001b[0m\u001b[35m▀\u001b[0m\u001b[35m▄\u001b[0m\u001b[35m▄\u001b[0m  \u001b[32m▙\u001b[0m              \u001b[32m▄\u001b[0m\u001b[32m▀\u001b[0m│ \n",
      "││            \u001b[34m▝\u001b[0m\u001b[34m▀\u001b[0m            \u001b[32m▗\u001b[0m\u001b[32m▞\u001b[0m            \u001b[35m▀\u001b[0m\u001b[35m▚\u001b[0m \u001b[32m▀\u001b[0m\u001b[32m▖\u001b[0m           \u001b[32m▟\u001b[0m\u001b[35m▘\u001b[0m │ \n",
      "││              \u001b[34m▀\u001b[0m\u001b[34m▄\u001b[0m        \u001b[35m▗\u001b[0m\u001b[32m▗\u001b[0m\u001b[32m▘\u001b[0m               \u001b[35m▀\u001b[0m\u001b[35m▖\u001b[0m\u001b[32m▝\u001b[0m\u001b[32m▚\u001b[0m\u001b[32m▖\u001b[0m       \u001b[32m▗\u001b[0m\u001b[32m▀\u001b[0m\u001b[35m▞\u001b[0m  │ \n",
      "││                \u001b[34m▀\u001b[0m\u001b[34m▄\u001b[0m\u001b[34m▄\u001b[0m\u001b[35m▄\u001b[0m\u001b[35m▄\u001b[0m\u001b[35m▄\u001b[0m\u001b[35m▄\u001b[0m\u001b[32m▗\u001b[0m\u001b[32m▞\u001b[0m\u001b[32m▘\u001b[0m                 \u001b[35m▝\u001b[0m\u001b[35m▖\u001b[0m \u001b[32m▀\u001b[0m\u001b[32m▄\u001b[0m\u001b[32m▖\u001b[0m   \u001b[32m▗\u001b[0m\u001b[32m▞\u001b[0m\u001b[32m▀\u001b[0m\u001b[35m▀\u001b[0m   │ \n",
      "││                   \u001b[32m▄\u001b[0m\u001b[32m▄\u001b[0m\u001b[32m▄\u001b[0m\u001b[32m▞\u001b[0m\u001b[32m▀\u001b[0m                    \u001b[35m▝\u001b[0m\u001b[35m▚\u001b[0m  \u001b[32m▝\u001b[0m\u001b[32m▀\u001b[0m\u001b[32m▀\u001b[0m\u001b[32m▀\u001b[0m\u001b[32m▘\u001b[0m \u001b[35m▞\u001b[0m    │ \n",
      "││▁▁▁▁▁▁▁▁▁▁▁▁▁▁▁▁▁▁▁▁▁▁▁▁▁▁▁▁▁▁▁▁▁▁▁▁▁▁▁▁▁▁▁▁▁▁\u001b[35m▚\u001b[0m▁▁▁▁▁\u001b[35m▗\u001b[0m\u001b[35m▀\u001b[0m▁▁▁▁▁│ 0\n",
      "││                                               \u001b[35m▚\u001b[0m\u001b[35m▄\u001b[0m\u001b[35m▄\u001b[0m\u001b[35m▄\u001b[0m\u001b[35m▀\u001b[0m\u001b[35m▘\u001b[0m      │ \n",
      "└────────────────────────────────────────────────────────────┘\n",
      " 0                  50                  100\n",
      "                          \u001b[34m██\u001b[0m Input\n",
      "                          \u001b[35m██\u001b[0m Target\n",
      "                          \u001b[32m██\u001b[0m Output\n"
     ]
    },
    {
     "name": "stderr",
     "output_type": "stream",
     "text": [
      "100%|██████████| 107/107 [00:02<00:00, 40.76it/s]\n",
      "100%|██████████| 638/638 [00:51<00:00, 12.44it/s]\n",
      "100%|██████████| 107/107 [00:02<00:00, 43.25it/s]\n",
      "100%|██████████| 638/638 [00:51<00:00, 12.46it/s]\n",
      "100%|██████████| 107/107 [00:02<00:00, 42.88it/s]\n",
      "100%|██████████| 638/638 [00:51<00:00, 12.41it/s]\n",
      "  2%|▏         | 2/107 [00:00<00:08, 13.07it/s]"
     ]
    },
    {
     "name": "stdout",
     "output_type": "stream",
     "text": [
      "           Epoch: 12, Test Loss: 0.0392 - Example 0\n",
      "┌────────────────────────────────────────────────────────────┐\n",
      "│\u001b[34m▛\u001b[0m\u001b[34m▚\u001b[0m\u001b[34m▄\u001b[0m\u001b[34m▄\u001b[0m\u001b[34m▄\u001b[0m\u001b[34m▄\u001b[0m\u001b[34m▖\u001b[0m                     \u001b[35m▟\u001b[0m\u001b[32m▗\u001b[0m\u001b[32m▞\u001b[0m\u001b[32m▀\u001b[0m\u001b[32m▀\u001b[0m\u001b[32m▀\u001b[0m\u001b[32m▀\u001b[0m\u001b[32m▄\u001b[0m                       \u001b[32m▗\u001b[0m│ \n",
      "││     \u001b[34m▚\u001b[0m                   \u001b[35m▄\u001b[0m\u001b[35m▀\u001b[0m\u001b[32m▟\u001b[0m\u001b[32m▘\u001b[0m    \u001b[35m▀\u001b[0m\u001b[35m▚\u001b[0m\u001b[32m▀\u001b[0m\u001b[32m▖\u001b[0m                   \u001b[32m▗\u001b[0m\u001b[32m▞\u001b[0m\u001b[32m▘\u001b[0m│ 1\n",
      "││      \u001b[34m▀\u001b[0m\u001b[34m▖\u001b[0m                \u001b[35m▝\u001b[0m\u001b[32m▗\u001b[0m\u001b[32m▞\u001b[0m        \u001b[35m▚\u001b[0m\u001b[32m▀\u001b[0m\u001b[32m▖\u001b[0m                 \u001b[32m▗\u001b[0m\u001b[32m▞\u001b[0m \u001b[35m▄\u001b[0m│ \n",
      "││       \u001b[34m▘\u001b[0m\u001b[34m▖\u001b[0m              \u001b[35m▗\u001b[0m\u001b[35m▘\u001b[0m\u001b[32m▞\u001b[0m          \u001b[35m▝\u001b[0m\u001b[32m▝\u001b[0m\u001b[32m▌\u001b[0m               \u001b[32m▗\u001b[0m\u001b[32m▘\u001b[0m\u001b[35m▀\u001b[0m\u001b[35m▀\u001b[0m\u001b[35m▝\u001b[0m│ \n",
      "││       \u001b[34m▝\u001b[0m\u001b[34m▝\u001b[0m\u001b[34m▄\u001b[0m            \u001b[35m▗\u001b[0m\u001b[32m▗\u001b[0m\u001b[32m▀\u001b[0m             \u001b[32m▝\u001b[0m\u001b[32m▄\u001b[0m             \u001b[32m▗\u001b[0m\u001b[32m▀\u001b[0m    │ \n",
      "││          \u001b[34m▚\u001b[0m          \u001b[35m▗\u001b[0m\u001b[35m▘\u001b[0m\u001b[32m▞\u001b[0m                \u001b[32m▌\u001b[0m          \u001b[35m▄\u001b[0m\u001b[32m▗\u001b[0m\u001b[32m▘\u001b[0m     │ 0\n",
      "││           \u001b[34m▄\u001b[0m         \u001b[32m▗\u001b[0m\u001b[32m▀\u001b[0m                 \u001b[32m▝\u001b[0m\u001b[32m▚\u001b[0m\u001b[35m▖\u001b[0m      \u001b[35m▄\u001b[0m\u001b[35m▞\u001b[0m\u001b[32m▗\u001b[0m\u001b[32m▀\u001b[0m      │ \n",
      "││           \u001b[34m▝\u001b[0m\u001b[34m▖\u001b[0m      \u001b[35m▗\u001b[0m\u001b[32m▗\u001b[0m\u001b[32m▞\u001b[0m                    \u001b[32m▚\u001b[0m\u001b[32m▖\u001b[0m\u001b[35m▚\u001b[0m\u001b[35m▄\u001b[0m\u001b[35m▄\u001b[0m\u001b[35m▄\u001b[0m\u001b[35m▛\u001b[0m \u001b[32m▟\u001b[0m\u001b[32m▘\u001b[0m       │ \n",
      "││            \u001b[34m▗\u001b[0m\u001b[34m▄\u001b[0m    \u001b[34m▗\u001b[0m\u001b[32m▞\u001b[0m\u001b[32m▘\u001b[0m                      \u001b[32m▝\u001b[0m\u001b[32m▚\u001b[0m\u001b[32m▄\u001b[0m\u001b[32m▄\u001b[0m\u001b[32m▄\u001b[0m\u001b[32m▄\u001b[0m\u001b[32m▀\u001b[0m         │ \n",
      "││              \u001b[34m▀\u001b[0m\u001b[34m▄\u001b[0m\u001b[34m▄\u001b[0m\u001b[34m▄\u001b[0m\u001b[34m▘\u001b[0m                                        │ \n",
      "└────────────────────────────────────────────────────────────┘\n",
      " 0                  50                  100\n",
      "                          \u001b[34m██\u001b[0m Input\n",
      "                          \u001b[35m██\u001b[0m Target\n",
      "                          \u001b[32m██\u001b[0m Output\n",
      "           Epoch: 12, Test Loss: 0.0497 - Example 1\n",
      "┌────────────────────────────────────────────────────────────┐\n",
      "││               \u001b[34m▗\u001b[0m\u001b[34m▄\u001b[0m\u001b[34m▄\u001b[0m\u001b[34m▖\u001b[0m\u001b[32m▀\u001b[0m\u001b[32m▚\u001b[0m\u001b[32m▄\u001b[0m                        \u001b[32m▄\u001b[0m\u001b[32m▀\u001b[0m\u001b[32m▀\u001b[0m\u001b[32m▄\u001b[0m\u001b[32m▄\u001b[0m        │ \n",
      "││             \u001b[34m▗\u001b[0m\u001b[34m▀\u001b[0m\u001b[34m▘\u001b[0m  \u001b[34m▝\u001b[0m\u001b[35m▜\u001b[0m\u001b[35m▄\u001b[0m\u001b[32m▝\u001b[0m\u001b[32m▚\u001b[0m                     \u001b[32m▞\u001b[0m\u001b[32m▀\u001b[0m    \u001b[32m▝\u001b[0m\u001b[32m▀\u001b[0m\u001b[32m▄\u001b[0m      │ \n",
      "││           \u001b[34m▗\u001b[0m\u001b[34m▞\u001b[0m\u001b[34m▀\u001b[0m       \u001b[35m▝\u001b[0m\u001b[35m▖\u001b[0m\u001b[32m▜\u001b[0m\u001b[32m▖\u001b[0m                 \u001b[32m▗\u001b[0m\u001b[32m▞\u001b[0m        \u001b[32m▝\u001b[0m\u001b[32m▄\u001b[0m     │ 1\n",
      "││           \u001b[34m▗\u001b[0m          \u001b[35m▝\u001b[0m\u001b[35m▜\u001b[0m\u001b[32m▝\u001b[0m\u001b[32m▖\u001b[0m               \u001b[32m▗\u001b[0m\u001b[32m▌\u001b[0m\u001b[35m▄\u001b[0m\u001b[35m▄\u001b[0m\u001b[35m▀\u001b[0m\u001b[35m▄\u001b[0m\u001b[35m▄\u001b[0m\u001b[35m▖\u001b[0m     \u001b[32m▚\u001b[0m    │ \n",
      "││         \u001b[34m▗\u001b[0m\u001b[34m▄\u001b[0m\u001b[34m▘\u001b[0m             \u001b[32m▝\u001b[0m\u001b[32m▖\u001b[0m             \u001b[32m▗\u001b[0m\u001b[32m▘\u001b[0m\u001b[35m▀\u001b[0m     \u001b[35m▝\u001b[0m\u001b[35m▀\u001b[0m\u001b[35m▀\u001b[0m\u001b[35m▄\u001b[0m\u001b[35m▄\u001b[0m\u001b[35m▄\u001b[0m\u001b[32m▝\u001b[0m\u001b[32m▚\u001b[0m   │ \n",
      "││         \u001b[34m▄\u001b[0m                \u001b[32m▝\u001b[0m\u001b[32m▄\u001b[0m          \u001b[35m▗\u001b[0m\u001b[32m▗\u001b[0m\u001b[32m▘\u001b[0m             \u001b[35m▚\u001b[0m \u001b[32m▜\u001b[0m  │ \n",
      "││        \u001b[34m▗\u001b[0m                  \u001b[32m▝\u001b[0m\u001b[32m▄\u001b[0m        \u001b[35m▄\u001b[0m\u001b[32m▄\u001b[0m\u001b[32m▘\u001b[0m              \u001b[35m▝\u001b[0m\u001b[35m▀\u001b[0m\u001b[35m▖\u001b[0m\u001b[32m▚\u001b[0m\u001b[32m▖\u001b[0m│ 0\n",
      "│\u001b[34m▌\u001b[0m        \u001b[34m▘\u001b[0m                    \u001b[32m▀\u001b[0m\u001b[32m▖\u001b[0m\u001b[35m▄\u001b[0m\u001b[35m▄\u001b[0m\u001b[35m▄\u001b[0m\u001b[35m▄\u001b[0m\u001b[35m▄\u001b[0m\u001b[35m▀\u001b[0m\u001b[32m▄\u001b[0m\u001b[32m▘\u001b[0m                 \u001b[35m▐\u001b[0m\u001b[35m▄\u001b[0m\u001b[32m▝\u001b[0m│ \n",
      "│\u001b[34m▗\u001b[0m\u001b[34m▄\u001b[0m    \u001b[34m▗\u001b[0m\u001b[34m▀\u001b[0m\u001b[34m▞\u001b[0m                      \u001b[32m▝\u001b[0m\u001b[32m▀\u001b[0m\u001b[32m▄\u001b[0m\u001b[32m▄\u001b[0m\u001b[32m▄\u001b[0m\u001b[32m▄\u001b[0m\u001b[32m▀\u001b[0m                     \u001b[35m▚\u001b[0m│ \n",
      "││ \u001b[34m▀\u001b[0m\u001b[34m▄\u001b[0m\u001b[34m▄\u001b[0m\u001b[34m▄\u001b[0m\u001b[34m▌\u001b[0m                                                    \u001b[35m▝\u001b[0m│ \n",
      "└────────────────────────────────────────────────────────────┘\n",
      " 0                  50                  100\n",
      "                          \u001b[34m██\u001b[0m Input\n",
      "                          \u001b[35m██\u001b[0m Target\n",
      "                          \u001b[32m██\u001b[0m Output\n",
      "           Epoch: 12, Test Loss: 0.0399 - Example 2\n",
      "┌────────────────────────────────────────────────────────────┐\n",
      "││ \u001b[34m▞\u001b[0m\u001b[34m▀\u001b[0m\u001b[34m▀\u001b[0m\u001b[34m▀\u001b[0m\u001b[34m▀\u001b[0m\u001b[34m▚\u001b[0m\u001b[34m▄\u001b[0m                       \u001b[32m▗\u001b[0m\u001b[32m▞\u001b[0m\u001b[32m▀\u001b[0m\u001b[32m▀\u001b[0m\u001b[32m▀\u001b[0m\u001b[32m▀\u001b[0m\u001b[32m▄\u001b[0m\u001b[32m▖\u001b[0m                    │ \n",
      "│\u001b[34m▄\u001b[0m\u001b[34m▞\u001b[0m       \u001b[34m▀\u001b[0m\u001b[34m▄\u001b[0m                    \u001b[32m▞\u001b[0m\u001b[32m▘\u001b[0m      \u001b[32m▀\u001b[0m\u001b[32m▄\u001b[0m                   │ 1\n",
      "││         \u001b[34m▝\u001b[0m\u001b[34m▚\u001b[0m\u001b[34m▄\u001b[0m                \u001b[32m▗\u001b[0m\u001b[32m▞\u001b[0m\u001b[35m▄\u001b[0m\u001b[35m▄\u001b[0m\u001b[35m▄\u001b[0m\u001b[35m▄\u001b[0m\u001b[35m▄\u001b[0m     \u001b[32m▚\u001b[0m                 \u001b[32m▗\u001b[0m│ \n",
      "││            \u001b[34m▚\u001b[0m              \u001b[32m▗\u001b[0m\u001b[32m▘\u001b[0m\u001b[35m▞\u001b[0m\u001b[35m▘\u001b[0m    \u001b[35m▀\u001b[0m\u001b[35m▀\u001b[0m\u001b[35m▀\u001b[0m\u001b[35m▄\u001b[0m\u001b[35m▄\u001b[0m\u001b[35m▖\u001b[0m\u001b[32m▀\u001b[0m\u001b[32m▖\u001b[0m              \u001b[32m▗\u001b[0m\u001b[32m▀\u001b[0m│ \n",
      "││             \u001b[34m▀\u001b[0m\u001b[34m▖\u001b[0m           \u001b[32m▄\u001b[0m\u001b[32m▘\u001b[0m            \u001b[35m▀\u001b[0m\u001b[35m▚\u001b[0m\u001b[32m▀\u001b[0m\u001b[32m▖\u001b[0m            \u001b[32m▗\u001b[0m\u001b[32m▘\u001b[0m │ \n",
      "││              \u001b[34m▝\u001b[0m\u001b[34m▜\u001b[0m        \u001b[35m▄\u001b[0m\u001b[32m▟\u001b[0m                \u001b[35m▀\u001b[0m\u001b[32m▝\u001b[0m\u001b[32m▙\u001b[0m          \u001b[32m▄\u001b[0m\u001b[32m▘\u001b[0m  │ \n",
      "││                \u001b[34m▀\u001b[0m\u001b[34m▄\u001b[0m\u001b[34m▄\u001b[0m\u001b[35m▄\u001b[0m\u001b[35m▄\u001b[0m\u001b[35m▄\u001b[0m\u001b[35m▄\u001b[0m\u001b[32m▗\u001b[0m\u001b[32m▞\u001b[0m                  \u001b[35m▝\u001b[0m\u001b[35m▄\u001b[0m\u001b[32m▀\u001b[0m\u001b[32m▖\u001b[0m       \u001b[32m▞\u001b[0m\u001b[35m▘\u001b[0m   │ \n",
      "││                   \u001b[32m▄\u001b[0m\u001b[32m▄\u001b[0m\u001b[32m▄\u001b[0m\u001b[32m▞\u001b[0m\u001b[32m▘\u001b[0m                     \u001b[35m▚\u001b[0m\u001b[32m▝\u001b[0m\u001b[32m▚\u001b[0m\u001b[32m▄\u001b[0m\u001b[32m▄\u001b[0m\u001b[32m▗\u001b[0m\u001b[32m▄\u001b[0m\u001b[32m▟\u001b[0m\u001b[32m▀\u001b[0m\u001b[35m▞\u001b[0m    │ \n",
      "││▁▁▁▁▁▁▁▁▁▁▁▁▁▁▁▁▁▁▁▁▁▁▁▁▁▁▁▁▁▁▁▁▁▁▁▁▁▁▁▁▁▁▁▁▁▁\u001b[35m▚\u001b[0m▁▁▁\u001b[32m▀\u001b[0m▁\u001b[35m▗\u001b[0m\u001b[35m▘\u001b[0m▁▁▁▁▁│ 0\n",
      "││                                               \u001b[35m▚\u001b[0m\u001b[35m▄\u001b[0m\u001b[35m▄\u001b[0m\u001b[35m▄\u001b[0m\u001b[35m▀\u001b[0m\u001b[35m▘\u001b[0m      │ \n",
      "└────────────────────────────────────────────────────────────┘\n",
      " 0                  50                  100\n",
      "                          \u001b[34m██\u001b[0m Input\n",
      "                          \u001b[35m██\u001b[0m Target\n",
      "                          \u001b[32m██\u001b[0m Output\n"
     ]
    },
    {
     "name": "stderr",
     "output_type": "stream",
     "text": [
      "100%|██████████| 107/107 [00:03<00:00, 33.64it/s]\n",
      "100%|██████████| 638/638 [00:53<00:00, 11.97it/s]\n",
      "100%|██████████| 107/107 [00:03<00:00, 33.81it/s]\n",
      "100%|██████████| 638/638 [00:52<00:00, 12.08it/s]\n",
      "100%|██████████| 107/107 [00:02<00:00, 42.37it/s]\n",
      "100%|██████████| 638/638 [00:51<00:00, 12.34it/s]\n",
      "  6%|▌         | 6/107 [00:00<00:03, 27.73it/s]"
     ]
    },
    {
     "name": "stdout",
     "output_type": "stream",
     "text": [
      "           Epoch: 15, Test Loss: 0.0512 - Example 0\n",
      "┌────────────────────────────────────────────────────────────┐\n",
      "││                            \u001b[32m▗\u001b[0m\u001b[32m▞\u001b[0m\u001b[32m▀\u001b[0m\u001b[32m▀\u001b[0m\u001b[32m▀\u001b[0m\u001b[32m▀\u001b[0m\u001b[32m▄\u001b[0m                        │ \n",
      "│\u001b[34m▞\u001b[0m\u001b[34m▚\u001b[0m\u001b[34m▄\u001b[0m\u001b[34m▄\u001b[0m\u001b[34m▄\u001b[0m\u001b[34m▄\u001b[0m\u001b[34m▖\u001b[0m                     \u001b[32m▟\u001b[0m\u001b[32m▘\u001b[0m\u001b[35m▀\u001b[0m\u001b[35m▀\u001b[0m\u001b[35m▀\u001b[0m\u001b[35m▄\u001b[0m  \u001b[32m▀\u001b[0m\u001b[32m▖\u001b[0m                   \u001b[32m▗\u001b[0m\u001b[32m▄\u001b[0m\u001b[32m▀\u001b[0m│ \n",
      "││     \u001b[34m▀\u001b[0m\u001b[34m▖\u001b[0m                 \u001b[35m▗\u001b[0m\u001b[32m▗\u001b[0m\u001b[32m▀\u001b[0m      \u001b[35m▀\u001b[0m\u001b[35m▚\u001b[0m \u001b[32m▝\u001b[0m\u001b[32m▄\u001b[0m                 \u001b[32m▄\u001b[0m\u001b[32m▀\u001b[0m  │ 1\n",
      "││      \u001b[34m▝\u001b[0m\u001b[34m▖\u001b[0m                \u001b[35m▖\u001b[0m\u001b[32m▞\u001b[0m         \u001b[35m▀\u001b[0m\u001b[35m▄\u001b[0m\u001b[35m▖\u001b[0m\u001b[32m▌\u001b[0m              \u001b[32m▗\u001b[0m\u001b[32m▞\u001b[0m \u001b[35m▄\u001b[0m\u001b[35m▗\u001b[0m\u001b[35m▄\u001b[0m│ \n",
      "││       \u001b[34m▚\u001b[0m\u001b[34m▚\u001b[0m              \u001b[32m▗\u001b[0m\u001b[32m▀\u001b[0m            \u001b[35m▝\u001b[0m\u001b[32m▝\u001b[0m\u001b[32m▚\u001b[0m            \u001b[32m▗\u001b[0m\u001b[32m▘\u001b[0m\u001b[35m▄\u001b[0m\u001b[35m▞\u001b[0m \u001b[35m▘\u001b[0m │ \n",
      "││         \u001b[34m▀\u001b[0m\u001b[34m▖\u001b[0m           \u001b[35m▞\u001b[0m\u001b[32m▞\u001b[0m              \u001b[35m▀\u001b[0m\u001b[35m▚\u001b[0m\u001b[32m▚\u001b[0m\u001b[32m▖\u001b[0m         \u001b[32m▄\u001b[0m\u001b[32m▀\u001b[0m\u001b[35m▞\u001b[0m     │ \n",
      "││          \u001b[34m▝\u001b[0m\u001b[34m▖\u001b[0m         \u001b[32m▗\u001b[0m\u001b[32m▞\u001b[0m                 \u001b[35m▚\u001b[0m\u001b[32m▝\u001b[0m\u001b[32m▄\u001b[0m      \u001b[32m▗\u001b[0m\u001b[32m▟\u001b[0m\u001b[35m▀\u001b[0m       │ 0\n",
      "││           \u001b[34m▝\u001b[0m        \u001b[32m▗\u001b[0m\u001b[32m▞\u001b[0m                    \u001b[35m▚\u001b[0m\u001b[32m▀\u001b[0m\u001b[32m▄\u001b[0m\u001b[32m▄\u001b[0m\u001b[32m▄\u001b[0m\u001b[32m▄\u001b[0m\u001b[32m▛\u001b[0m\u001b[32m▘\u001b[0m\u001b[35m▘\u001b[0m        │ \n",
      "││            \u001b[34m▚\u001b[0m\u001b[34m▄\u001b[0m    \u001b[34m▗\u001b[0m\u001b[32m▟\u001b[0m\u001b[32m▘\u001b[0m                        \u001b[35m▝\u001b[0m\u001b[35m▝\u001b[0m\u001b[35m▀\u001b[0m           │ \n",
      "││             \u001b[34m▝\u001b[0m\u001b[34m▀\u001b[0m\u001b[34m▄\u001b[0m\u001b[34m▄\u001b[0m\u001b[34m▄\u001b[0m\u001b[34m▘\u001b[0m                                        │ \n",
      "└────────────────────────────────────────────────────────────┘\n",
      " 0                  50                  100\n",
      "                          \u001b[34m██\u001b[0m Input\n",
      "                          \u001b[35m██\u001b[0m Target\n",
      "                          \u001b[32m██\u001b[0m Output\n",
      "           Epoch: 15, Test Loss: 0.0494 - Example 1\n",
      "┌────────────────────────────────────────────────────────────┐\n",
      "││                   \u001b[32m▜\u001b[0m\u001b[32m▄\u001b[0m                                      │ \n",
      "││              \u001b[34m▄\u001b[0m\u001b[34m▞\u001b[0m\u001b[34m▚\u001b[0m\u001b[34m▞\u001b[0m\u001b[34m▚\u001b[0m\u001b[35m▄\u001b[0m \u001b[32m▀\u001b[0m\u001b[32m▄\u001b[0m                    \u001b[32m▗\u001b[0m\u001b[32m▞\u001b[0m\u001b[32m▀\u001b[0m\u001b[32m▀\u001b[0m\u001b[32m▀\u001b[0m\u001b[32m▀\u001b[0m\u001b[32m▚\u001b[0m\u001b[32m▄\u001b[0m        │ \n",
      "││            \u001b[34m▄\u001b[0m\u001b[34m▟\u001b[0m     \u001b[35m▝\u001b[0m\u001b[35m▀\u001b[0m\u001b[35m▚\u001b[0m \u001b[32m▚\u001b[0m                  \u001b[32m▞\u001b[0m\u001b[32m▘\u001b[0m      \u001b[32m▝\u001b[0m\u001b[32m▚\u001b[0m\u001b[32m▖\u001b[0m      │ 1\n",
      "││           \u001b[34m▐\u001b[0m          \u001b[35m▚\u001b[0m\u001b[35m▄\u001b[0m\u001b[32m▀\u001b[0m\u001b[32m▖\u001b[0m              \u001b[32m▗\u001b[0m\u001b[32m▀\u001b[0m \u001b[35m▄\u001b[0m\u001b[35m▄\u001b[0m\u001b[35m▄\u001b[0m\u001b[35m▄\u001b[0m     \u001b[32m▝\u001b[0m\u001b[32m▄\u001b[0m     │ \n",
      "││          \u001b[34m▗\u001b[0m\u001b[34m▖\u001b[0m           \u001b[35m▝\u001b[0m\u001b[35m▀\u001b[0m\u001b[32m▐\u001b[0m\u001b[32m▖\u001b[0m            \u001b[32m▗\u001b[0m\u001b[32m▘\u001b[0m\u001b[35m▄\u001b[0m\u001b[35m▞\u001b[0m \u001b[35m▘\u001b[0m  \u001b[35m▀\u001b[0m\u001b[35m▀\u001b[0m\u001b[35m▀\u001b[0m\u001b[35m▚\u001b[0m\u001b[35m▄\u001b[0m\u001b[35m▄\u001b[0m \u001b[32m▚\u001b[0m    │ \n",
      "││         \u001b[34m▐\u001b[0m\u001b[34m▘\u001b[0m              \u001b[35m▝\u001b[0m\u001b[32m▝\u001b[0m\u001b[32m▚\u001b[0m          \u001b[32m▄\u001b[0m\u001b[32m▘\u001b[0m\u001b[35m▞\u001b[0m           \u001b[35m▝\u001b[0m\u001b[35m▀\u001b[0m\u001b[35m▚\u001b[0m\u001b[32m▀\u001b[0m\u001b[32m▖\u001b[0m  │ \n",
      "││        \u001b[34m▗\u001b[0m\u001b[34m▘\u001b[0m                 \u001b[32m▝\u001b[0m\u001b[32m▚\u001b[0m\u001b[32m▖\u001b[0m      \u001b[32m▗\u001b[0m\u001b[32m▞\u001b[0m\u001b[32m▘\u001b[0m               \u001b[35m▝\u001b[0m\u001b[35m▚\u001b[0m\u001b[32m▝\u001b[0m\u001b[32m▖\u001b[0m │ 0\n",
      "│\u001b[34m▖\u001b[0m        \u001b[34m▘\u001b[0m                    \u001b[32m▝\u001b[0m\u001b[32m▚\u001b[0m\u001b[32m▄\u001b[0m\u001b[32m▖\u001b[0m\u001b[35m▄\u001b[0m\u001b[32m▄\u001b[0m\u001b[32m▄\u001b[0m\u001b[32m▘\u001b[0m\u001b[35m▘\u001b[0m                  \u001b[35m▚\u001b[0m\u001b[32m▝\u001b[0m\u001b[32m▚\u001b[0m│ \n",
      "│\u001b[34m▚\u001b[0m\u001b[34m▄\u001b[0m    \u001b[34m▗\u001b[0m\u001b[34m▀\u001b[0m\u001b[34m▄\u001b[0m                        \u001b[32m▀\u001b[0m\u001b[32m▀\u001b[0m\u001b[32m▘\u001b[0m                      \u001b[35m▝\u001b[0m\u001b[35m▚\u001b[0m│ \n",
      "││ \u001b[34m▀\u001b[0m\u001b[34m▄\u001b[0m\u001b[34m▄\u001b[0m\u001b[34m▄\u001b[0m\u001b[34m▌\u001b[0m                                                    \u001b[35m▝\u001b[0m│ \n",
      "└────────────────────────────────────────────────────────────┘\n",
      " 0                  50                  100\n",
      "                          \u001b[34m██\u001b[0m Input\n",
      "                          \u001b[35m██\u001b[0m Target\n",
      "                          \u001b[32m██\u001b[0m Output\n",
      "           Epoch: 15, Test Loss: 0.0375 - Example 2\n",
      "┌────────────────────────────────────────────────────────────┐\n",
      "││ \u001b[34m▄\u001b[0m\u001b[34m▀\u001b[0m\u001b[34m▀\u001b[0m\u001b[34m▀\u001b[0m\u001b[34m▀\u001b[0m\u001b[34m▄\u001b[0m\u001b[34m▖\u001b[0m                      \u001b[32m▄\u001b[0m\u001b[32m▀\u001b[0m\u001b[32m▀\u001b[0m\u001b[32m▀\u001b[0m\u001b[32m▀\u001b[0m\u001b[32m▀\u001b[0m\u001b[32m▙\u001b[0m\u001b[32m▖\u001b[0m                     │ \n",
      "│\u001b[34m▄\u001b[0m\u001b[34m▞\u001b[0m\u001b[34m▘\u001b[0m     \u001b[34m▀\u001b[0m\u001b[34m▀\u001b[0m\u001b[34m▖\u001b[0m                  \u001b[32m▄\u001b[0m\u001b[32m▀\u001b[0m       \u001b[32m▝\u001b[0m\u001b[32m▙\u001b[0m                   \u001b[32m▗\u001b[0m│ 1\n",
      "│\u001b[34m▘\u001b[0m         \u001b[34m▝\u001b[0m\u001b[34m▄\u001b[0m\u001b[34m▄\u001b[0m               \u001b[32m▟\u001b[0m  \u001b[35m▄\u001b[0m\u001b[35m▖\u001b[0m\u001b[35m▄\u001b[0m\u001b[35m▄\u001b[0m\u001b[35m▖\u001b[0m    \u001b[32m▚\u001b[0m\u001b[32m▖\u001b[0m                \u001b[32m▗\u001b[0m\u001b[32m▀\u001b[0m│ \n",
      "││           \u001b[34m▝\u001b[0m\u001b[34m▖\u001b[0m            \u001b[32m▗\u001b[0m\u001b[32m▞\u001b[0m \u001b[35m▄\u001b[0m\u001b[35m▄\u001b[0m\u001b[35m▘\u001b[0m\u001b[35m▝\u001b[0m  \u001b[35m▀\u001b[0m\u001b[35m▀\u001b[0m\u001b[35m▀\u001b[0m\u001b[35m▀\u001b[0m\u001b[35m▄\u001b[0m\u001b[35m▄\u001b[0m\u001b[32m▀\u001b[0m\u001b[32m▖\u001b[0m              \u001b[32m▗\u001b[0m\u001b[32m▘\u001b[0m\u001b[35m▘\u001b[0m│ \n",
      "││            \u001b[34m▝\u001b[0m\u001b[34m▀\u001b[0m          \u001b[32m▗\u001b[0m\u001b[32m▞\u001b[0m\u001b[35m▄\u001b[0m\u001b[35m▟\u001b[0m            \u001b[35m▀\u001b[0m\u001b[32m▝\u001b[0m\u001b[32m▙\u001b[0m            \u001b[32m▗\u001b[0m\u001b[32m▘\u001b[0m\u001b[35m▘\u001b[0m │ \n",
      "││              \u001b[34m▀\u001b[0m\u001b[34m▄\u001b[0m       \u001b[32m▗\u001b[0m\u001b[32m▘\u001b[0m\u001b[35m▞\u001b[0m                \u001b[35m▀\u001b[0m\u001b[32m▚\u001b[0m\u001b[32m▖\u001b[0m         \u001b[32m▗\u001b[0m\u001b[32m▘\u001b[0m\u001b[35m▞\u001b[0m  │ \n",
      "││                \u001b[34m▀\u001b[0m\u001b[34m▄\u001b[0m\u001b[34m▄\u001b[0m\u001b[35m▄\u001b[0m\u001b[35m▄\u001b[0m\u001b[32m▗\u001b[0m\u001b[32m▞\u001b[0m\u001b[32m▘\u001b[0m\u001b[35m▘\u001b[0m                  \u001b[35m▝\u001b[0m\u001b[32m▚\u001b[0m\u001b[32m▖\u001b[0m       \u001b[32m▄\u001b[0m\u001b[32m▘\u001b[0m\u001b[35m▀\u001b[0m   │ \n",
      "││                   \u001b[32m▀\u001b[0m\u001b[32m▀\u001b[0m\u001b[32m▘\u001b[0m                      \u001b[35m▝\u001b[0m\u001b[32m▝\u001b[0m\u001b[32m▙\u001b[0m\u001b[32m▖\u001b[0m   \u001b[32m▄\u001b[0m\u001b[32m▞\u001b[0m \u001b[35m▞\u001b[0m    │ \n",
      "││▁▁▁▁▁▁▁▁▁▁▁▁▁▁▁▁▁▁▁▁▁▁▁▁▁▁▁▁▁▁▁▁▁▁▁▁▁▁▁▁▁▁▁▁▁▁\u001b[35m▚\u001b[0m\u001b[32m▝\u001b[0m\u001b[32m▀\u001b[0m\u001b[32m▀\u001b[0m\u001b[32m▀\u001b[0m▁\u001b[35m▗\u001b[0m\u001b[35m▀\u001b[0m▁▁▁▁▁│ 0\n",
      "││                                               \u001b[35m▚\u001b[0m\u001b[35m▄\u001b[0m\u001b[35m▄\u001b[0m\u001b[35m▄\u001b[0m\u001b[35m▀\u001b[0m\u001b[35m▘\u001b[0m      │ \n",
      "└────────────────────────────────────────────────────────────┘\n",
      " 0                  50                  100\n",
      "                          \u001b[34m██\u001b[0m Input\n",
      "                          \u001b[35m██\u001b[0m Target\n",
      "                          \u001b[32m██\u001b[0m Output\n"
     ]
    },
    {
     "name": "stderr",
     "output_type": "stream",
     "text": [
      "100%|██████████| 107/107 [00:02<00:00, 40.72it/s]\n",
      "100%|██████████| 638/638 [00:51<00:00, 12.46it/s]\n",
      "100%|██████████| 107/107 [00:02<00:00, 39.01it/s]\n",
      "100%|██████████| 638/638 [00:55<00:00, 11.59it/s]\n",
      "100%|██████████| 107/107 [00:03<00:00, 33.12it/s]\n",
      "100%|██████████| 638/638 [00:52<00:00, 12.16it/s]\n",
      "  6%|▌         | 6/107 [00:00<00:03, 27.28it/s]"
     ]
    },
    {
     "name": "stdout",
     "output_type": "stream",
     "text": [
      "           Epoch: 18, Test Loss: 0.0499 - Example 0\n",
      "┌────────────────────────────────────────────────────────────┐\n",
      "││                           \u001b[32m▗\u001b[0m\u001b[32m▄\u001b[0m\u001b[32m▀\u001b[0m\u001b[32m▀\u001b[0m\u001b[32m▀\u001b[0m\u001b[32m▀\u001b[0m\u001b[32m▚\u001b[0m\u001b[32m▖\u001b[0m                     \u001b[32m▗\u001b[0m\u001b[32m▞\u001b[0m\u001b[32m▀\u001b[0m│ \n",
      "│\u001b[34m▀\u001b[0m\u001b[34m▀\u001b[0m\u001b[34m▞\u001b[0m\u001b[34m▚\u001b[0m\u001b[34m▄\u001b[0m\u001b[34m▞\u001b[0m\u001b[34m▖\u001b[0m                    \u001b[32m▄\u001b[0m\u001b[32m▀\u001b[0m\u001b[35m▀\u001b[0m\u001b[35m▀\u001b[0m\u001b[35m▘\u001b[0m\u001b[35m▀\u001b[0m\u001b[35m▙\u001b[0m\u001b[35m▄\u001b[0m\u001b[32m▝\u001b[0m\u001b[32m▚\u001b[0m                  \u001b[32m▗\u001b[0m\u001b[32m▞\u001b[0m\u001b[32m▘\u001b[0m  │ \n",
      "││     \u001b[34m▝\u001b[0m\u001b[34m▄\u001b[0m                 \u001b[35m▗\u001b[0m\u001b[32m▐\u001b[0m\u001b[35m▘\u001b[0m       \u001b[35m▚\u001b[0m\u001b[35m▖\u001b[0m\u001b[32m▚\u001b[0m                \u001b[32m▗\u001b[0m\u001b[32m▞\u001b[0m    │ 1\n",
      "││       \u001b[34m▖\u001b[0m                \u001b[32m▞\u001b[0m\u001b[32m▘\u001b[0m         \u001b[35m▝\u001b[0m\u001b[35m▙\u001b[0m\u001b[32m▀\u001b[0m\u001b[32m▖\u001b[0m             \u001b[32m▗\u001b[0m\u001b[32m▘\u001b[0m  \u001b[35m▄\u001b[0m\u001b[35m▄\u001b[0m\u001b[35m▚\u001b[0m│ \n",
      "││       \u001b[34m▗\u001b[0m\u001b[34m▚\u001b[0m\u001b[34m▖\u001b[0m             \u001b[32m▐\u001b[0m              \u001b[32m▚\u001b[0m\u001b[32m▖\u001b[0m           \u001b[32m▄\u001b[0m\u001b[32m▘\u001b[0m \u001b[35m▚\u001b[0m\u001b[35m▀\u001b[0m   │ \n",
      "││         \u001b[34m▝\u001b[0m\u001b[34m▖\u001b[0m           \u001b[32m▄\u001b[0m\u001b[32m▘\u001b[0m              \u001b[35m▝\u001b[0m\u001b[32m▝\u001b[0m\u001b[32m▖\u001b[0m         \u001b[32m▟\u001b[0m \u001b[35m▚\u001b[0m\u001b[35m▞\u001b[0m     │ \n",
      "││          \u001b[34m▝\u001b[0m\u001b[34m▖\u001b[0m         \u001b[32m▐\u001b[0m                  \u001b[32m▝\u001b[0m\u001b[32m▚\u001b[0m\u001b[32m▖\u001b[0m     \u001b[32m▗\u001b[0m\u001b[32m▞\u001b[0m\u001b[35m▗\u001b[0m\u001b[35m▀\u001b[0m       │ 0\n",
      "││           \u001b[34m▝\u001b[0m\u001b[34m▖\u001b[0m       \u001b[32m▞\u001b[0m\u001b[32m▘\u001b[0m                    \u001b[32m▀\u001b[0m\u001b[32m▚\u001b[0m\u001b[32m▄\u001b[0m\u001b[32m▄\u001b[0m\u001b[32m▄\u001b[0m\u001b[32m▞\u001b[0m\u001b[32m▘\u001b[0m\u001b[35m▀\u001b[0m\u001b[35m▘\u001b[0m        │ \n",
      "││            \u001b[34m▗\u001b[0m\u001b[34m▄\u001b[0m    \u001b[34m▗\u001b[0m\u001b[32m▀\u001b[0m\u001b[35m▞\u001b[0m                                      │ \n",
      "││             \u001b[34m▝\u001b[0m\u001b[34m▀\u001b[0m\u001b[34m▄\u001b[0m\u001b[34m▄\u001b[0m\u001b[34m▄\u001b[0m\u001b[34m▘\u001b[0m                                        │ \n",
      "└────────────────────────────────────────────────────────────┘\n",
      " 0                  50                  100\n",
      "                          \u001b[34m██\u001b[0m Input\n",
      "                          \u001b[35m██\u001b[0m Target\n",
      "                          \u001b[32m██\u001b[0m Output\n",
      "           Epoch: 18, Test Loss: 0.0544 - Example 1\n",
      "┌────────────────────────────────────────────────────────────┐\n",
      "││               \u001b[34m▗\u001b[0m\u001b[34m▖\u001b[0m\u001b[34m▗\u001b[0m\u001b[34m▖\u001b[0m\u001b[32m▜\u001b[0m\u001b[32m▄\u001b[0m                      \u001b[32m▗\u001b[0m\u001b[32m▞\u001b[0m\u001b[32m▀\u001b[0m\u001b[32m▀\u001b[0m\u001b[32m▀\u001b[0m\u001b[32m▙\u001b[0m\u001b[32m▖\u001b[0m         │ \n",
      "││             \u001b[34m▗\u001b[0m\u001b[34m▀\u001b[0m\u001b[34m▘\u001b[0m\u001b[34m▝\u001b[0m\u001b[34m▘\u001b[0m\u001b[34m▝\u001b[0m\u001b[35m▚\u001b[0m\u001b[35m▄\u001b[0m\u001b[32m▜\u001b[0m\u001b[32m▖\u001b[0m                   \u001b[32m▞\u001b[0m\u001b[32m▘\u001b[0m     \u001b[32m▝\u001b[0m\u001b[32m▚\u001b[0m        │ \n",
      "││           \u001b[34m▗\u001b[0m\u001b[34m▄\u001b[0m\u001b[34m▀\u001b[0m       \u001b[35m▐\u001b[0m\u001b[32m▝\u001b[0m\u001b[32m▚\u001b[0m                \u001b[32m▗\u001b[0m\u001b[32m▀\u001b[0m         \u001b[32m▚\u001b[0m\u001b[32m▖\u001b[0m      │ 1\n",
      "││           \u001b[34m▗\u001b[0m          \u001b[35m▝\u001b[0m\u001b[32m▝\u001b[0m\u001b[32m▚\u001b[0m              \u001b[32m▗\u001b[0m\u001b[32m▌\u001b[0m  \u001b[35m▄\u001b[0m\u001b[35m▄\u001b[0m\u001b[35m▚\u001b[0m\u001b[35m▄\u001b[0m\u001b[35m▄\u001b[0m\u001b[35m▖\u001b[0m   \u001b[32m▐\u001b[0m\u001b[32m▖\u001b[0m     │ \n",
      "││          \u001b[34m▄\u001b[0m\u001b[34m▘\u001b[0m             \u001b[32m▚\u001b[0m            \u001b[32m▗\u001b[0m\u001b[32m▘\u001b[0m \u001b[35m▚\u001b[0m\u001b[35m▛\u001b[0m     \u001b[35m▀\u001b[0m\u001b[35m▀\u001b[0m\u001b[35m▜\u001b[0m\u001b[35m▄\u001b[0m\u001b[35m▄\u001b[0m\u001b[32m▝\u001b[0m\u001b[32m▄\u001b[0m    │ \n",
      "││         \u001b[34m▐\u001b[0m               \u001b[35m▝\u001b[0m\u001b[32m▚\u001b[0m\u001b[32m▖\u001b[0m         \u001b[32m▗\u001b[0m\u001b[32m▘\u001b[0m\u001b[35m▚\u001b[0m\u001b[35m▞\u001b[0m            \u001b[35m▀\u001b[0m\u001b[32m▝\u001b[0m\u001b[32m▄\u001b[0m   │ \n",
      "││        \u001b[34m▗\u001b[0m\u001b[34m▘\u001b[0m                 \u001b[32m▝\u001b[0m\u001b[32m▄\u001b[0m       \u001b[32m▞\u001b[0m\u001b[32m▘\u001b[0m\u001b[35m▀\u001b[0m               \u001b[35m▝\u001b[0m\u001b[35m▀\u001b[0m\u001b[32m▚\u001b[0m  │ 0\n",
      "│\u001b[34m▌\u001b[0m        \u001b[34m▘\u001b[0m                    \u001b[32m▀\u001b[0m\u001b[32m▄\u001b[0m\u001b[32m▖\u001b[0m\u001b[35m▄\u001b[0m\u001b[35m▄\u001b[0m\u001b[32m▄\u001b[0m\u001b[32m▀\u001b[0m\u001b[35m▀\u001b[0m\u001b[35m▘\u001b[0m                  \u001b[35m▐\u001b[0m\u001b[32m▀\u001b[0m\u001b[32m▄\u001b[0m│ \n",
      "│\u001b[34m▗\u001b[0m\u001b[34m▄\u001b[0m    \u001b[34m▗\u001b[0m\u001b[34m▀\u001b[0m\u001b[34m▞\u001b[0m                       \u001b[32m▝\u001b[0m\u001b[32m▀\u001b[0m\u001b[32m▀\u001b[0m\u001b[32m▘\u001b[0m                      \u001b[35m▝\u001b[0m\u001b[32m▝\u001b[0m│ \n",
      "││ \u001b[34m▀\u001b[0m\u001b[34m▄\u001b[0m\u001b[34m▄\u001b[0m\u001b[34m▄\u001b[0m\u001b[34m▌\u001b[0m                                                    \u001b[35m▝\u001b[0m│ \n",
      "└────────────────────────────────────────────────────────────┘\n",
      " 0                  50                  100\n",
      "                          \u001b[34m██\u001b[0m Input\n",
      "                          \u001b[35m██\u001b[0m Target\n",
      "                          \u001b[32m██\u001b[0m Output\n",
      "           Epoch: 18, Test Loss: 0.0425 - Example 2\n",
      "┌────────────────────────────────────────────────────────────┐\n",
      "││ \u001b[34m▄\u001b[0m\u001b[34m▄\u001b[0m\u001b[34m▄\u001b[0m\u001b[34m▄\u001b[0m\u001b[34m▙\u001b[0m\u001b[34m▖\u001b[0m                      \u001b[32m▗\u001b[0m\u001b[32m▞\u001b[0m\u001b[32m▀\u001b[0m\u001b[32m▀\u001b[0m\u001b[32m▀\u001b[0m\u001b[32m▀\u001b[0m\u001b[32m▚\u001b[0m\u001b[32m▖\u001b[0m                      │ \n",
      "││\u001b[34m▄\u001b[0m\u001b[34m▘\u001b[0m    \u001b[34m▝\u001b[0m\u001b[34m▀\u001b[0m\u001b[34m▚\u001b[0m                   \u001b[32m▞\u001b[0m\u001b[32m▘\u001b[0m      \u001b[32m▝\u001b[0m\u001b[32m▚\u001b[0m\u001b[32m▖\u001b[0m                   \u001b[32m▞\u001b[0m│ 1\n",
      "│\u001b[34m▀\u001b[0m         \u001b[34m▜\u001b[0m\u001b[34m▄\u001b[0m               \u001b[32m▗\u001b[0m\u001b[32m▞\u001b[0m  \u001b[35m▗\u001b[0m \u001b[35m▄\u001b[0m\u001b[35m▄\u001b[0m    \u001b[32m▀\u001b[0m\u001b[32m▖\u001b[0m                \u001b[32m▗\u001b[0m\u001b[32m▞\u001b[0m\u001b[35m▐\u001b[0m│ \n",
      "││           \u001b[34m▀\u001b[0m\u001b[34m▖\u001b[0m            \u001b[32m▗\u001b[0m\u001b[32m▘\u001b[0m \u001b[35m▄\u001b[0m\u001b[35m▄\u001b[0m\u001b[35m▌\u001b[0m\u001b[35m▀\u001b[0m  \u001b[35m▀\u001b[0m\u001b[35m▀\u001b[0m\u001b[35m▄\u001b[0m\u001b[35m▄\u001b[0m\u001b[35m▄\u001b[0m\u001b[32m▝\u001b[0m\u001b[32m▌\u001b[0m               \u001b[32m▞\u001b[0m \u001b[35m▘\u001b[0m│ \n",
      "││            \u001b[34m▝\u001b[0m\u001b[34m▜\u001b[0m          \u001b[32m▄\u001b[0m\u001b[32m▘\u001b[0m\u001b[35m▄\u001b[0m\u001b[35m▟\u001b[0m           \u001b[35m▝\u001b[0m\u001b[32m▝\u001b[0m\u001b[32m▚\u001b[0m\u001b[32m▖\u001b[0m           \u001b[32m▗\u001b[0m\u001b[32m▀\u001b[0m\u001b[35m▗\u001b[0m\u001b[35m▞\u001b[0m │ \n",
      "││              \u001b[34m▀\u001b[0m\u001b[34m▄\u001b[0m       \u001b[32m▟\u001b[0m\u001b[35m▗\u001b[0m\u001b[35m▞\u001b[0m                \u001b[32m▀\u001b[0m\u001b[32m▄\u001b[0m         \u001b[32m▗\u001b[0m\u001b[32m▞\u001b[0m \u001b[35m▞\u001b[0m  │ \n",
      "││                \u001b[34m▚\u001b[0m\u001b[34m▄\u001b[0m\u001b[34m▄\u001b[0m\u001b[35m▄\u001b[0m\u001b[35m▄\u001b[0m\u001b[32m▄\u001b[0m\u001b[32m▀\u001b[0m\u001b[35m▀\u001b[0m\u001b[35m▘\u001b[0m                  \u001b[35m▚\u001b[0m\u001b[32m▚\u001b[0m\u001b[32m▖\u001b[0m      \u001b[32m▗\u001b[0m\u001b[32m▘\u001b[0m\u001b[35m▗\u001b[0m\u001b[35m▀\u001b[0m   │ \n",
      "││                   \u001b[32m▀\u001b[0m\u001b[32m▀\u001b[0m\u001b[35m▀\u001b[0m                      \u001b[35m▝\u001b[0m\u001b[32m▝\u001b[0m\u001b[32m▚\u001b[0m\u001b[32m▄\u001b[0m\u001b[32m▖\u001b[0m \u001b[32m▗\u001b[0m\u001b[32m▄\u001b[0m\u001b[32m▘\u001b[0m \u001b[35m▞\u001b[0m    │ \n",
      "││                                              \u001b[35m▙\u001b[0m \u001b[32m▀\u001b[0m\u001b[32m▀\u001b[0m\u001b[32m▀\u001b[0m \u001b[35m▗\u001b[0m\u001b[35m▀\u001b[0m     │ \n",
      "││▔▔▔▔▔▔▔▔▔▔▔▔▔▔▔▔▔▔▔▔▔▔▔▔▔▔▔▔▔▔▔▔▔▔▔▔▔▔▔▔▔▔▔▔▔▔▔\u001b[35m▚\u001b[0m\u001b[35m▄\u001b[0m\u001b[35m▄\u001b[0m\u001b[35m▄\u001b[0m\u001b[35m▀\u001b[0m\u001b[35m▘\u001b[0m▔▔▔▔▔▔│ 0\n",
      "└────────────────────────────────────────────────────────────┘\n",
      " 0                  50                  100\n",
      "                          \u001b[34m██\u001b[0m Input\n",
      "                          \u001b[35m██\u001b[0m Target\n",
      "                          \u001b[32m██\u001b[0m Output\n"
     ]
    },
    {
     "name": "stderr",
     "output_type": "stream",
     "text": [
      "100%|██████████| 107/107 [00:03<00:00, 33.48it/s]\n",
      "100%|██████████| 638/638 [00:55<00:00, 11.49it/s]\n",
      "100%|██████████| 107/107 [00:02<00:00, 42.18it/s]\n",
      "100%|██████████| 638/638 [00:50<00:00, 12.76it/s]\n",
      "100%|██████████| 107/107 [00:02<00:00, 42.91it/s]\n",
      "100%|██████████| 638/638 [00:50<00:00, 12.54it/s]\n",
      "  5%|▍         | 5/107 [00:00<00:04, 24.76it/s]"
     ]
    },
    {
     "name": "stdout",
     "output_type": "stream",
     "text": [
      "           Epoch: 21, Test Loss: 0.0476 - Example 0\n",
      "┌────────────────────────────────────────────────────────────┐\n",
      "││                           \u001b[32m▗\u001b[0m\u001b[32m▄\u001b[0m\u001b[32m▀\u001b[0m\u001b[32m▀\u001b[0m\u001b[32m▀\u001b[0m\u001b[32m▀\u001b[0m\u001b[32m▀\u001b[0m\u001b[32m▖\u001b[0m                       \u001b[32m▗\u001b[0m│ \n",
      "│\u001b[34m▞\u001b[0m\u001b[34m▚\u001b[0m\u001b[34m▄\u001b[0m\u001b[34m▄\u001b[0m\u001b[34m▄\u001b[0m\u001b[34m▄\u001b[0m\u001b[34m▖\u001b[0m                    \u001b[32m▗\u001b[0m\u001b[32m▞\u001b[0m\u001b[35m▀\u001b[0m\u001b[35m▀\u001b[0m\u001b[35m▀\u001b[0m\u001b[35m▀\u001b[0m\u001b[35m▄\u001b[0m \u001b[32m▝\u001b[0m\u001b[32m▚\u001b[0m\u001b[32m▖\u001b[0m                  \u001b[32m▗\u001b[0m\u001b[32m▞\u001b[0m\u001b[32m▀\u001b[0m\u001b[32m▘\u001b[0m│ \n",
      "││     \u001b[34m▀\u001b[0m\u001b[34m▖\u001b[0m                 \u001b[35m▗\u001b[0m\u001b[32m▗\u001b[0m\u001b[32m▘\u001b[0m      \u001b[35m▀\u001b[0m\u001b[35m▚\u001b[0m \u001b[32m▚\u001b[0m\u001b[32m▖\u001b[0m                \u001b[32m▟\u001b[0m\u001b[32m▘\u001b[0m   │ 1\n",
      "││      \u001b[34m▝\u001b[0m\u001b[34m▖\u001b[0m                \u001b[32m▗\u001b[0m\u001b[32m▘\u001b[0m         \u001b[35m▀\u001b[0m\u001b[35m▄\u001b[0m\u001b[32m▝\u001b[0m\u001b[32m▖\u001b[0m             \u001b[32m▗\u001b[0m\u001b[32m▀\u001b[0m  \u001b[35m▄\u001b[0m\u001b[35m▗\u001b[0m\u001b[35m▄\u001b[0m│ \n",
      "││       \u001b[34m▚\u001b[0m\u001b[34m▚\u001b[0m              \u001b[32m▗\u001b[0m\u001b[32m▘\u001b[0m            \u001b[35m▝\u001b[0m\u001b[32m▝\u001b[0m\u001b[32m▖\u001b[0m           \u001b[32m▄\u001b[0m\u001b[32m▘\u001b[0m \u001b[35m▄\u001b[0m\u001b[35m▞\u001b[0m \u001b[35m▘\u001b[0m │ \n",
      "││         \u001b[34m▀\u001b[0m\u001b[34m▖\u001b[0m           \u001b[32m▗\u001b[0m\u001b[32m▀\u001b[0m              \u001b[35m▀\u001b[0m\u001b[32m▝\u001b[0m\u001b[32m▌\u001b[0m         \u001b[32m▟\u001b[0m \u001b[35m▄\u001b[0m\u001b[35m▞\u001b[0m     │ \n",
      "││          \u001b[34m▝\u001b[0m\u001b[34m▖\u001b[0m         \u001b[32m▗\u001b[0m\u001b[32m▘\u001b[0m                 \u001b[32m▝\u001b[0m\u001b[32m▚\u001b[0m\u001b[32m▖\u001b[0m     \u001b[32m▞\u001b[0m\u001b[32m▀\u001b[0m\u001b[35m▗\u001b[0m\u001b[35m▀\u001b[0m       │ 0\n",
      "││           \u001b[34m▝\u001b[0m        \u001b[32m▄\u001b[0m\u001b[32m▘\u001b[0m                    \u001b[32m▝\u001b[0m\u001b[32m▀\u001b[0m\u001b[32m▀\u001b[0m\u001b[32m▄\u001b[0m\u001b[32m▞\u001b[0m\u001b[32m▀\u001b[0m\u001b[35m▞\u001b[0m\u001b[35m▀\u001b[0m\u001b[35m▘\u001b[0m        │ \n",
      "││            \u001b[34m▚\u001b[0m\u001b[34m▄\u001b[0m    \u001b[34m▗\u001b[0m\u001b[32m▀\u001b[0m\u001b[35m▄\u001b[0m                        \u001b[35m▝\u001b[0m\u001b[35m▝\u001b[0m\u001b[35m▀\u001b[0m           │ \n",
      "││             \u001b[34m▝\u001b[0m\u001b[34m▀\u001b[0m\u001b[34m▄\u001b[0m\u001b[34m▄\u001b[0m\u001b[34m▄\u001b[0m\u001b[34m▘\u001b[0m                                        │ \n",
      "└────────────────────────────────────────────────────────────┘\n",
      " 0                  50                  100\n",
      "                          \u001b[34m██\u001b[0m Input\n",
      "                          \u001b[35m██\u001b[0m Target\n",
      "                          \u001b[32m██\u001b[0m Output\n",
      "           Epoch: 21, Test Loss: 0.0479 - Example 1\n",
      "┌────────────────────────────────────────────────────────────┐\n",
      "││                   \u001b[32m▚\u001b[0m\u001b[32m▖\u001b[0m                                      │ \n",
      "││              \u001b[34m▄\u001b[0m\u001b[34m▀\u001b[0m\u001b[34m▀\u001b[0m\u001b[34m▀\u001b[0m\u001b[34m▀\u001b[0m\u001b[35m▄\u001b[0m\u001b[32m▝\u001b[0m\u001b[32m▜\u001b[0m\u001b[32m▖\u001b[0m                   \u001b[32m▗\u001b[0m\u001b[32m▞\u001b[0m\u001b[32m▀\u001b[0m\u001b[32m▀\u001b[0m\u001b[32m▀\u001b[0m\u001b[32m▀\u001b[0m\u001b[32m▙\u001b[0m\u001b[32m▖\u001b[0m         │ \n",
      "││            \u001b[34m▄\u001b[0m\u001b[34m▞\u001b[0m      \u001b[35m▀\u001b[0m\u001b[35m▜\u001b[0m\u001b[32m▝\u001b[0m\u001b[32m▚\u001b[0m                 \u001b[32m▄\u001b[0m\u001b[32m▘\u001b[0m      \u001b[32m▝\u001b[0m\u001b[32m▚\u001b[0m        │ 1\n",
      "││           \u001b[34m▐\u001b[0m          \u001b[35m▀\u001b[0m\u001b[32m▝\u001b[0m\u001b[32m▚\u001b[0m              \u001b[32m▗\u001b[0m\u001b[32m▛\u001b[0m  \u001b[35m▄\u001b[0m\u001b[35m▄\u001b[0m\u001b[35m▄\u001b[0m\u001b[35m▄\u001b[0m    \u001b[32m▀\u001b[0m\u001b[32m▄\u001b[0m      │ \n",
      "││          \u001b[34m▗\u001b[0m\u001b[34m▖\u001b[0m            \u001b[35m▝\u001b[0m\u001b[32m▜\u001b[0m            \u001b[32m▄\u001b[0m\u001b[32m▘\u001b[0m \u001b[35m▄\u001b[0m\u001b[35m▞\u001b[0m \u001b[35m▘\u001b[0m  \u001b[35m▀\u001b[0m\u001b[35m▀\u001b[0m\u001b[35m▀\u001b[0m\u001b[35m▜\u001b[0m\u001b[35m▄\u001b[0m\u001b[32m▝\u001b[0m\u001b[32m▄\u001b[0m     │ \n",
      "││         \u001b[34m▐\u001b[0m\u001b[34m▘\u001b[0m              \u001b[35m▝\u001b[0m\u001b[32m▀\u001b[0m\u001b[32m▖\u001b[0m         \u001b[32m▄\u001b[0m\u001b[32m▘\u001b[0m\u001b[35m▄\u001b[0m\u001b[35m▞\u001b[0m           \u001b[35m▝\u001b[0m\u001b[35m▀\u001b[0m\u001b[32m▜\u001b[0m\u001b[32m▖\u001b[0m   │ \n",
      "││        \u001b[34m▗\u001b[0m\u001b[34m▘\u001b[0m                 \u001b[32m▝\u001b[0m\u001b[32m▄\u001b[0m\u001b[32m▖\u001b[0m     \u001b[32m▄\u001b[0m\u001b[32m▛\u001b[0m\u001b[35m▗\u001b[0m\u001b[35m▛\u001b[0m               \u001b[35m▝\u001b[0m\u001b[32m▝\u001b[0m\u001b[32m▚\u001b[0m  │ 0\n",
      "│\u001b[34m▘\u001b[0m        \u001b[34m▘\u001b[0m                    \u001b[32m▝\u001b[0m\u001b[32m▀\u001b[0m\u001b[32m▚\u001b[0m\u001b[32m▄\u001b[0m\u001b[32m▄\u001b[0m\u001b[32m▀\u001b[0m\u001b[35m▄\u001b[0m\u001b[35m▀\u001b[0m\u001b[35m▘\u001b[0m                  \u001b[32m▝\u001b[0m\u001b[32m▚\u001b[0m\u001b[32m▄\u001b[0m│ \n",
      "│\u001b[34m▚\u001b[0m\u001b[34m▄\u001b[0m    \u001b[34m▗\u001b[0m\u001b[34m▀\u001b[0m\u001b[34m▄\u001b[0m                        \u001b[35m▝\u001b[0m \u001b[35m▀\u001b[0m                      \u001b[35m▝\u001b[0m\u001b[32m▝\u001b[0m│ \n",
      "││ \u001b[34m▀\u001b[0m\u001b[34m▄\u001b[0m\u001b[34m▄\u001b[0m\u001b[34m▄\u001b[0m\u001b[34m▌\u001b[0m                                                    \u001b[35m▝\u001b[0m│ \n",
      "└────────────────────────────────────────────────────────────┘\n",
      " 0                  50                  100\n",
      "                          \u001b[34m██\u001b[0m Input\n",
      "                          \u001b[35m██\u001b[0m Target\n",
      "                          \u001b[32m██\u001b[0m Output\n",
      "           Epoch: 21, Test Loss: 0.0377 - Example 2\n",
      "┌────────────────────────────────────────────────────────────┐\n",
      "││ \u001b[34m▞\u001b[0m\u001b[34m▀\u001b[0m\u001b[34m▀\u001b[0m\u001b[34m▀\u001b[0m\u001b[34m▀\u001b[0m\u001b[34m▚\u001b[0m\u001b[34m▄\u001b[0m                     \u001b[32m▄\u001b[0m\u001b[32m▛\u001b[0m\u001b[32m▀\u001b[0m\u001b[32m▀\u001b[0m\u001b[32m▀\u001b[0m\u001b[32m▚\u001b[0m\u001b[32m▄\u001b[0m                      \u001b[32m▗\u001b[0m│ \n",
      "│\u001b[34m▄\u001b[0m\u001b[34m▞\u001b[0m       \u001b[34m▀\u001b[0m\u001b[34m▄\u001b[0m                 \u001b[32m▗\u001b[0m\u001b[32m▀\u001b[0m       \u001b[32m▚\u001b[0m\u001b[32m▖\u001b[0m                   \u001b[32m▄\u001b[0m\u001b[32m▘\u001b[0m│ 1\n",
      "││         \u001b[34m▝\u001b[0m\u001b[34m▚\u001b[0m\u001b[34m▄\u001b[0m              \u001b[32m▄\u001b[0m\u001b[32m▘\u001b[0m  \u001b[35m▄\u001b[0m\u001b[35m▄\u001b[0m\u001b[35m▄\u001b[0m\u001b[35m▄\u001b[0m\u001b[35m▄\u001b[0m  \u001b[32m▝\u001b[0m\u001b[32m▙\u001b[0m                 \u001b[32m▐\u001b[0m \u001b[35m▐\u001b[0m│ \n",
      "││            \u001b[34m▚\u001b[0m            \u001b[32m▞\u001b[0m  \u001b[35m▚\u001b[0m\u001b[35m▞\u001b[0m\u001b[35m▘\u001b[0m    \u001b[35m▀\u001b[0m\u001b[35m▀\u001b[0m\u001b[35m▀\u001b[0m\u001b[35m▄\u001b[0m\u001b[32m▀\u001b[0m\u001b[32m▖\u001b[0m              \u001b[32m▞\u001b[0m\u001b[32m▘\u001b[0m\u001b[35m▗\u001b[0m\u001b[35m▘\u001b[0m│ \n",
      "││             \u001b[34m▀\u001b[0m\u001b[34m▖\u001b[0m        \u001b[32m▗\u001b[0m\u001b[32m▀\u001b[0m \u001b[35m▚\u001b[0m\u001b[35m▟\u001b[0m            \u001b[32m▀\u001b[0m\u001b[32m▄\u001b[0m            \u001b[32m▐\u001b[0m \u001b[35m▗\u001b[0m\u001b[35m▘\u001b[0m │ \n",
      "││              \u001b[34m▝\u001b[0m\u001b[34m▜\u001b[0m     \u001b[32m▗\u001b[0m\u001b[32m▞\u001b[0m\u001b[32m▀\u001b[0m\u001b[35m▄\u001b[0m\u001b[35m▀\u001b[0m                \u001b[32m▚\u001b[0m\u001b[32m▖\u001b[0m         \u001b[32m▞\u001b[0m\u001b[32m▘\u001b[0m\u001b[35m▗\u001b[0m\u001b[35m▖\u001b[0m  │ \n",
      "││                \u001b[34m▀\u001b[0m\u001b[34m▄\u001b[0m\u001b[34m▄\u001b[0m\u001b[32m▄\u001b[0m\u001b[32m▀\u001b[0m\u001b[32m▘\u001b[0m\u001b[35m▄\u001b[0m\u001b[35m▀\u001b[0m                   \u001b[32m▝\u001b[0m\u001b[32m▙\u001b[0m       \u001b[32m▟\u001b[0m \u001b[35m▝\u001b[0m\u001b[35m▘\u001b[0m   │ \n",
      "││                                             \u001b[32m▀\u001b[0m\u001b[32m▙\u001b[0m\u001b[32m▄\u001b[0m\u001b[32m▄\u001b[0m\u001b[32m▄\u001b[0m\u001b[32m▟\u001b[0m\u001b[32m▀\u001b[0m \u001b[35m▗\u001b[0m\u001b[35m▞\u001b[0m    │ \n",
      "││▁▁▁▁▁▁▁▁▁▁▁▁▁▁▁▁▁▁▁▁▁▁▁▁▁▁▁▁▁▁▁▁▁▁▁▁▁▁▁▁▁▁▁▁▁▁\u001b[35m▚\u001b[0m▁▁▁▁▁\u001b[35m▗\u001b[0m\u001b[35m▘\u001b[0m▁▁▁▁▁│ 0\n",
      "││                                               \u001b[35m▚\u001b[0m\u001b[35m▄\u001b[0m\u001b[35m▄\u001b[0m\u001b[35m▄\u001b[0m\u001b[35m▀\u001b[0m\u001b[35m▘\u001b[0m      │ \n",
      "└────────────────────────────────────────────────────────────┘\n",
      " 0                  50                  100\n",
      "                          \u001b[34m██\u001b[0m Input\n",
      "                          \u001b[35m██\u001b[0m Target\n",
      "                          \u001b[32m██\u001b[0m Output\n"
     ]
    },
    {
     "name": "stderr",
     "output_type": "stream",
     "text": [
      "100%|██████████| 107/107 [00:03<00:00, 33.20it/s]\n",
      "100%|██████████| 638/638 [00:50<00:00, 12.76it/s]\n",
      "100%|██████████| 107/107 [00:02<00:00, 42.30it/s]\n",
      "100%|██████████| 638/638 [00:50<00:00, 12.72it/s]\n",
      "100%|██████████| 107/107 [00:02<00:00, 42.74it/s]\n",
      "100%|██████████| 638/638 [00:50<00:00, 12.74it/s]\n",
      "  3%|▎         | 3/107 [00:00<00:05, 19.20it/s]"
     ]
    },
    {
     "name": "stdout",
     "output_type": "stream",
     "text": [
      "           Epoch: 24, Test Loss: 0.0459 - Example 0\n",
      "┌────────────────────────────────────────────────────────────┐\n",
      "││                            \u001b[32m▄\u001b[0m\u001b[32m▀\u001b[0m\u001b[32m▀\u001b[0m\u001b[32m▀\u001b[0m\u001b[32m▀\u001b[0m\u001b[32m▀\u001b[0m\u001b[32m▄\u001b[0m                        │ \n",
      "│\u001b[34m▛\u001b[0m\u001b[34m▀\u001b[0m\u001b[34m▄\u001b[0m\u001b[34m▚\u001b[0m\u001b[34m▄\u001b[0m\u001b[34m▞\u001b[0m\u001b[34m▖\u001b[0m                    \u001b[32m▗\u001b[0m\u001b[32m▞\u001b[0m\u001b[35m▀\u001b[0m\u001b[35m▀\u001b[0m\u001b[35m▀\u001b[0m\u001b[35m▀\u001b[0m\u001b[35m▙\u001b[0m  \u001b[32m▀\u001b[0m\u001b[32m▖\u001b[0m                   \u001b[32m▄\u001b[0m\u001b[32m▀\u001b[0m\u001b[32m▀\u001b[0m│ \n",
      "││     \u001b[34m▀\u001b[0m\u001b[34m▖\u001b[0m                 \u001b[35m▗\u001b[0m\u001b[32m▗\u001b[0m\u001b[32m▘\u001b[0m      \u001b[35m▀\u001b[0m\u001b[35m▚\u001b[0m\u001b[35m▖\u001b[0m\u001b[32m▝\u001b[0m\u001b[32m▚\u001b[0m                \u001b[32m▗\u001b[0m\u001b[32m▀\u001b[0m   │ 1\n",
      "││      \u001b[34m▝\u001b[0m\u001b[34m▖\u001b[0m                \u001b[32m▗\u001b[0m\u001b[32m▀\u001b[0m         \u001b[35m▝\u001b[0m\u001b[35m▄\u001b[0m\u001b[35m▄\u001b[0m\u001b[32m▚\u001b[0m             \u001b[32m▗\u001b[0m\u001b[32m▞\u001b[0m\u001b[32m▘\u001b[0m \u001b[35m▄\u001b[0m\u001b[35m▄\u001b[0m\u001b[35m▄\u001b[0m│ \n",
      "││       \u001b[34m▗\u001b[0m\u001b[34m▚\u001b[0m              \u001b[32m▗\u001b[0m\u001b[32m▘\u001b[0m             \u001b[35m▖\u001b[0m\u001b[32m▀\u001b[0m\u001b[32m▖\u001b[0m          \u001b[32m▗\u001b[0m\u001b[32m▞\u001b[0m \u001b[35m▄\u001b[0m\u001b[35m▀\u001b[0m   │ \n",
      "││         \u001b[34m▀\u001b[0m\u001b[34m▖\u001b[0m           \u001b[32m▗\u001b[0m\u001b[32m▀\u001b[0m              \u001b[35m▝\u001b[0m\u001b[35m▀\u001b[0m\u001b[32m▀\u001b[0m\u001b[32m▄\u001b[0m        \u001b[32m▗\u001b[0m\u001b[32m▘\u001b[0m\u001b[35m▄\u001b[0m\u001b[35m▞\u001b[0m     │ \n",
      "││          \u001b[34m▝\u001b[0m\u001b[34m▖\u001b[0m         \u001b[32m▗\u001b[0m\u001b[32m▘\u001b[0m                 \u001b[35m▚\u001b[0m\u001b[35m▄\u001b[0m\u001b[32m▚\u001b[0m\u001b[32m▄\u001b[0m    \u001b[32m▄\u001b[0m\u001b[32m▀\u001b[0m\u001b[32m▘\u001b[0m\u001b[35m▀\u001b[0m       │ 0\n",
      "││           \u001b[34m▝\u001b[0m\u001b[34m▖\u001b[0m       \u001b[32m▗\u001b[0m\u001b[32m▀\u001b[0m                    \u001b[35m▚\u001b[0m\u001b[35m▄\u001b[0m\u001b[32m▀\u001b[0m\u001b[32m▀\u001b[0m\u001b[32m▀\u001b[0m\u001b[32m▀\u001b[0m\u001b[32m▘\u001b[0m\u001b[35m▀\u001b[0m\u001b[35m▘\u001b[0m        │ \n",
      "││            \u001b[34m▗\u001b[0m\u001b[34m▄\u001b[0m    \u001b[34m▗\u001b[0m\u001b[32m▟\u001b[0m\u001b[32m▘\u001b[0m                                      │ \n",
      "││             \u001b[34m▝\u001b[0m\u001b[34m▀\u001b[0m\u001b[34m▄\u001b[0m\u001b[34m▄\u001b[0m\u001b[34m▄\u001b[0m\u001b[34m▘\u001b[0m                                        │ \n",
      "└────────────────────────────────────────────────────────────┘\n",
      " 0                  50                  100\n",
      "                          \u001b[34m██\u001b[0m Input\n",
      "                          \u001b[35m██\u001b[0m Target\n",
      "                          \u001b[32m██\u001b[0m Output\n",
      "           Epoch: 24, Test Loss: 0.0344 - Example 1\n",
      "┌────────────────────────────────────────────────────────────┐\n",
      "││                   \u001b[32m▜\u001b[0m\u001b[32m▄\u001b[0m                                      │ \n",
      "││              \u001b[34m▄\u001b[0m\u001b[34m▞\u001b[0m\u001b[34m▀\u001b[0m\u001b[34m▀\u001b[0m\u001b[34m▚\u001b[0m\u001b[35m▄\u001b[0m \u001b[32m▀\u001b[0m\u001b[32m▄\u001b[0m                     \u001b[32m▄\u001b[0m\u001b[32m▞\u001b[0m\u001b[32m▀\u001b[0m\u001b[32m▚\u001b[0m\u001b[32m▄\u001b[0m          │ \n",
      "││            \u001b[34m▄\u001b[0m\u001b[34m▞\u001b[0m     \u001b[35m▝\u001b[0m\u001b[35m▀\u001b[0m\u001b[35m▜\u001b[0m \u001b[32m▜\u001b[0m\u001b[32m▖\u001b[0m                 \u001b[32m▞\u001b[0m\u001b[32m▀\u001b[0m     \u001b[32m▀\u001b[0m\u001b[32m▚\u001b[0m        │ 1\n",
      "││           \u001b[34m▐\u001b[0m          \u001b[35m▀\u001b[0m\u001b[35m▄\u001b[0m\u001b[32m▝\u001b[0m\u001b[32m▄\u001b[0m              \u001b[32m▄\u001b[0m\u001b[32m▀\u001b[0m \u001b[35m▄\u001b[0m\u001b[35m▄\u001b[0m\u001b[35m▄\u001b[0m\u001b[35m▄\u001b[0m    \u001b[32m▀\u001b[0m\u001b[32m▄\u001b[0m      │ \n",
      "││          \u001b[34m▗\u001b[0m\u001b[34m▖\u001b[0m           \u001b[35m▝\u001b[0m\u001b[35m▀\u001b[0m\u001b[32m▝\u001b[0m\u001b[32m▄\u001b[0m            \u001b[32m▄\u001b[0m\u001b[32m▘\u001b[0m\u001b[35m▄\u001b[0m\u001b[35m▞\u001b[0m \u001b[35m▘\u001b[0m  \u001b[35m▀\u001b[0m\u001b[35m▀\u001b[0m\u001b[35m▀\u001b[0m\u001b[35m▚\u001b[0m\u001b[35m▄\u001b[0m\u001b[32m▝\u001b[0m\u001b[32m▚\u001b[0m\u001b[32m▖\u001b[0m    │ \n",
      "││         \u001b[34m▐\u001b[0m\u001b[34m▘\u001b[0m              \u001b[35m▝\u001b[0m\u001b[35m▚\u001b[0m\u001b[32m▜\u001b[0m\u001b[32m▖\u001b[0m        \u001b[32m▗\u001b[0m\u001b[32m▛\u001b[0m\u001b[35m▄\u001b[0m\u001b[35m▞\u001b[0m           \u001b[35m▝\u001b[0m\u001b[35m▀\u001b[0m\u001b[32m▝\u001b[0m\u001b[32m▄\u001b[0m   │ \n",
      "││        \u001b[34m▗\u001b[0m\u001b[34m▘\u001b[0m                 \u001b[35m▜\u001b[0m\u001b[32m▝\u001b[0m\u001b[32m▚\u001b[0m\u001b[32m▄\u001b[0m    \u001b[32m▄\u001b[0m\u001b[32m▞\u001b[0m\u001b[32m▘\u001b[0m\u001b[35m▛\u001b[0m               \u001b[35m▝\u001b[0m\u001b[35m▚\u001b[0m\u001b[32m▜\u001b[0m\u001b[32m▖\u001b[0m │ 0\n",
      "│\u001b[34m▖\u001b[0m        \u001b[34m▘\u001b[0m                    \u001b[35m▚\u001b[0m\u001b[35m▄\u001b[0m\u001b[32m▀\u001b[0m\u001b[32m▀\u001b[0m\u001b[32m▀\u001b[0m\u001b[32m▀\u001b[0m\u001b[35m▄\u001b[0m\u001b[35m▀\u001b[0m\u001b[35m▘\u001b[0m                  \u001b[35m▚\u001b[0m\u001b[32m▝\u001b[0m\u001b[32m▚\u001b[0m│ \n",
      "│\u001b[34m▚\u001b[0m\u001b[34m▄\u001b[0m    \u001b[34m▗\u001b[0m\u001b[34m▀\u001b[0m\u001b[34m▄\u001b[0m                        \u001b[35m▝\u001b[0m \u001b[35m▀\u001b[0m                      \u001b[35m▝\u001b[0m\u001b[35m▚\u001b[0m│ \n",
      "││ \u001b[34m▀\u001b[0m\u001b[34m▄\u001b[0m\u001b[34m▄\u001b[0m\u001b[34m▄\u001b[0m\u001b[34m▌\u001b[0m                                                    \u001b[35m▝\u001b[0m│ \n",
      "└────────────────────────────────────────────────────────────┘\n",
      " 0                  50                  100\n",
      "                          \u001b[34m██\u001b[0m Input\n",
      "                          \u001b[35m██\u001b[0m Target\n",
      "                          \u001b[32m██\u001b[0m Output\n",
      "           Epoch: 24, Test Loss: 0.0261 - Example 2\n",
      "┌────────────────────────────────────────────────────────────┐\n",
      "││ \u001b[34m▞\u001b[0m\u001b[34m▀\u001b[0m\u001b[34m▀\u001b[0m\u001b[34m▀\u001b[0m\u001b[34m▀\u001b[0m\u001b[34m▚\u001b[0m\u001b[34m▄\u001b[0m                      \u001b[32m▄\u001b[0m\u001b[32m▄\u001b[0m\u001b[32m▀\u001b[0m\u001b[32m▀\u001b[0m\u001b[32m▚\u001b[0m\u001b[32m▄\u001b[0m                       │ \n",
      "│\u001b[34m▄\u001b[0m\u001b[34m▞\u001b[0m       \u001b[34m▀\u001b[0m\u001b[34m▄\u001b[0m                  \u001b[32m▗\u001b[0m\u001b[32m▞\u001b[0m\u001b[32m▘\u001b[0m     \u001b[32m▀\u001b[0m\u001b[32m▄\u001b[0m                    \u001b[32m▗\u001b[0m│ 1\n",
      "││         \u001b[34m▝\u001b[0m\u001b[34m▚\u001b[0m\u001b[34m▄\u001b[0m               \u001b[32m▟\u001b[0m\u001b[32m▘\u001b[0m \u001b[35m▄\u001b[0m\u001b[35m▄\u001b[0m\u001b[35m▄\u001b[0m\u001b[35m▄\u001b[0m\u001b[35m▄\u001b[0m   \u001b[32m▚\u001b[0m                  \u001b[32m▗\u001b[0m\u001b[32m▀\u001b[0m│ \n",
      "││            \u001b[34m▚\u001b[0m            \u001b[32m▗\u001b[0m\u001b[32m▞\u001b[0m \u001b[35m▚\u001b[0m\u001b[35m▞\u001b[0m\u001b[35m▘\u001b[0m    \u001b[35m▀\u001b[0m\u001b[35m▀\u001b[0m\u001b[35m▀\u001b[0m\u001b[35m▄\u001b[0m\u001b[32m▀\u001b[0m\u001b[32m▖\u001b[0m               \u001b[32m▐\u001b[0m\u001b[32m▘\u001b[0m\u001b[35m▘\u001b[0m│ \n",
      "││             \u001b[34m▀\u001b[0m\u001b[34m▖\u001b[0m         \u001b[32m▗\u001b[0m\u001b[32m▞\u001b[0m\u001b[35m▚\u001b[0m\u001b[35m▟\u001b[0m            \u001b[32m▝\u001b[0m\u001b[32m▚\u001b[0m             \u001b[32m▄\u001b[0m\u001b[32m▘\u001b[0m\u001b[35m▘\u001b[0m │ \n",
      "││              \u001b[34m▝\u001b[0m\u001b[34m▜\u001b[0m      \u001b[32m▗\u001b[0m\u001b[32m▟\u001b[0m\u001b[32m▘\u001b[0m\u001b[35m▀\u001b[0m                \u001b[32m▚\u001b[0m\u001b[32m▖\u001b[0m          \u001b[32m▐\u001b[0m\u001b[35m▗\u001b[0m\u001b[35m▖\u001b[0m  │ \n",
      "││                \u001b[34m▀\u001b[0m\u001b[34m▄\u001b[0m\u001b[34m▄\u001b[0m\u001b[32m▀\u001b[0m\u001b[32m▀\u001b[0m\u001b[32m▀\u001b[0m\u001b[32m▘\u001b[0m\u001b[35m▀\u001b[0m                   \u001b[32m▝\u001b[0m\u001b[32m▙\u001b[0m        \u001b[32m▞\u001b[0m\u001b[32m▘\u001b[0m\u001b[35m▘\u001b[0m   │ \n",
      "││                                             \u001b[32m▀\u001b[0m\u001b[32m▙\u001b[0m\u001b[32m▖\u001b[0m   \u001b[32m▄\u001b[0m\u001b[32m▞\u001b[0m\u001b[35m▗\u001b[0m\u001b[35m▞\u001b[0m    │ \n",
      "││▁▁▁▁▁▁▁▁▁▁▁▁▁▁▁▁▁▁▁▁▁▁▁▁▁▁▁▁▁▁▁▁▁▁▁▁▁▁▁▁▁▁▁▁▁▁\u001b[35m▚\u001b[0m\u001b[32m▝\u001b[0m\u001b[32m▀\u001b[0m\u001b[32m▀\u001b[0m\u001b[32m▀\u001b[0m▁\u001b[35m▗\u001b[0m\u001b[35m▘\u001b[0m▁▁▁▁▁│ 0\n",
      "││                                               \u001b[35m▚\u001b[0m\u001b[35m▄\u001b[0m\u001b[35m▄\u001b[0m\u001b[35m▄\u001b[0m\u001b[35m▀\u001b[0m\u001b[35m▘\u001b[0m      │ \n",
      "└────────────────────────────────────────────────────────────┘\n",
      " 0                  50                  100\n",
      "                          \u001b[34m██\u001b[0m Input\n",
      "                          \u001b[35m██\u001b[0m Target\n",
      "                          \u001b[32m██\u001b[0m Output\n"
     ]
    },
    {
     "name": "stderr",
     "output_type": "stream",
     "text": [
      "100%|██████████| 107/107 [00:03<00:00, 33.84it/s]\n"
     ]
    }
   ],
   "source": [
    "leapsedTime, ListofLoss = run_experiment(SimpleARModel(input_size, hidden_size).to(device))"
   ]
  },
  {
   "cell_type": "code",
   "execution_count": 14,
   "id": "YVfO7ohbu3gH",
   "metadata": {
    "colab": {
     "base_uri": "https://localhost:8080/"
    },
    "id": "YVfO7ohbu3gH",
    "outputId": "7d348cf1-16ed-4d2c-c18f-aa5819140793"
   },
   "outputs": [
    {
     "name": "stdout",
     "output_type": "stream",
     "text": [
      "Start model training..\n"
     ]
    },
    {
     "name": "stderr",
     "output_type": "stream",
     "text": [
      "100%|██████████| 638/638 [01:15<00:00,  8.47it/s]\n",
      "100%|██████████| 107/107 [00:03<00:00, 30.98it/s]\n",
      "100%|██████████| 638/638 [01:07<00:00,  9.39it/s]\n",
      "100%|██████████| 107/107 [00:03<00:00, 30.38it/s]\n",
      "100%|██████████| 638/638 [01:06<00:00,  9.60it/s]\n",
      "  2%|▏         | 2/107 [00:00<00:06, 15.17it/s]"
     ]
    },
    {
     "name": "stdout",
     "output_type": "stream",
     "text": [
      "           Epoch: 3, Test Loss: 0.0024 - Example 0\n",
      "┌────────────────────────────────────────────────────────────┐\n",
      "│\u001b[34m▛\u001b[0m\u001b[34m▚\u001b[0m\u001b[34m▄\u001b[0m\u001b[34m▄\u001b[0m\u001b[34m▄\u001b[0m\u001b[34m▄\u001b[0m\u001b[34m▖\u001b[0m                     \u001b[32m▗\u001b[0m\u001b[32m▀\u001b[0m\u001b[32m▀\u001b[0m\u001b[32m▀\u001b[0m\u001b[32m▀\u001b[0m\u001b[32m▙\u001b[0m\u001b[32m▖\u001b[0m                         │ \n",
      "││     \u001b[34m▚\u001b[0m                   \u001b[32m▗\u001b[0m\u001b[32m▞\u001b[0m\u001b[32m▘\u001b[0m     \u001b[32m▝\u001b[0m\u001b[32m▀\u001b[0m\u001b[32m▖\u001b[0m                       │ 1\n",
      "││      \u001b[34m▀\u001b[0m\u001b[34m▖\u001b[0m                \u001b[35m▝\u001b[0m\u001b[32m▘\u001b[0m         \u001b[32m▝\u001b[0m\u001b[32m▄\u001b[0m                     \u001b[32m▗\u001b[0m│ \n",
      "││       \u001b[34m▘\u001b[0m\u001b[34m▖\u001b[0m              \u001b[35m▗\u001b[0m\u001b[32m▞\u001b[0m           \u001b[35m▝\u001b[0m\u001b[32m▀\u001b[0m\u001b[32m▌\u001b[0m               \u001b[32m▗\u001b[0m\u001b[32m▗\u001b[0m\u001b[32m▞\u001b[0m\u001b[32m▀\u001b[0m\u001b[32m▘\u001b[0m│ \n",
      "││       \u001b[34m▝\u001b[0m\u001b[34m▝\u001b[0m\u001b[34m▄\u001b[0m         \u001b[32m▖\u001b[0m  \u001b[35m▗\u001b[0m\u001b[32m▞\u001b[0m              \u001b[32m▝\u001b[0m\u001b[32m▄\u001b[0m\u001b[32m▖\u001b[0m           \u001b[32m▗\u001b[0m\u001b[35m▗\u001b[0m\u001b[32m▞\u001b[0m\u001b[32m▘\u001b[0m   │ \n",
      "││          \u001b[34m▚\u001b[0m          \u001b[35m▗\u001b[0m\u001b[32m▞\u001b[0m                 \u001b[32m▄\u001b[0m          \u001b[32m▗\u001b[0m\u001b[32m▞\u001b[0m\u001b[32m▀\u001b[0m     │ 0\n",
      "││           \u001b[34m▚\u001b[0m         \u001b[32m▐\u001b[0m                  \u001b[35m▝\u001b[0m\u001b[32m▀\u001b[0m\u001b[32m▌\u001b[0m     \u001b[35m▗\u001b[0m\u001b[32m▄\u001b[0m\u001b[32m▟\u001b[0m\u001b[32m▘\u001b[0m       │ \n",
      "││           \u001b[34m▝\u001b[0m\u001b[34m▖\u001b[0m      \u001b[32m▗\u001b[0m                      \u001b[32m▝\u001b[0m\u001b[32m▀\u001b[0m\u001b[32m▀\u001b[0m\u001b[32m▚\u001b[0m\u001b[32m▙\u001b[0m\u001b[32m▄\u001b[0m\u001b[32m▛\u001b[0m          │ \n",
      "││            \u001b[34m▗\u001b[0m\u001b[34m▄\u001b[0m    \u001b[34m▗\u001b[0m\u001b[35m▝\u001b[0m\u001b[32m▀\u001b[0m\u001b[32m▘\u001b[0m                                     │ \n",
      "││              \u001b[34m▀\u001b[0m\u001b[34m▄\u001b[0m\u001b[34m▄\u001b[0m\u001b[34m▄\u001b[0m\u001b[34m▘\u001b[0m                                        │ \n",
      "└────────────────────────────────────────────────────────────┘\n",
      " 0                  50                  100\n",
      "                          \u001b[34m██\u001b[0m Input\n",
      "                          \u001b[35m██\u001b[0m Target\n",
      "                          \u001b[32m██\u001b[0m Output\n",
      "           Epoch: 3, Test Loss: 0.0024 - Example 1\n",
      "┌────────────────────────────────────────────────────────────┐\n",
      "││              \u001b[34m▄\u001b[0m\u001b[34m▀\u001b[0m\u001b[34m▀\u001b[0m\u001b[34m▀\u001b[0m\u001b[34m▀\u001b[0m\u001b[32m▗\u001b[0m\u001b[32m▖\u001b[0m                                      │ \n",
      "││            \u001b[34m▄\u001b[0m\u001b[34m▞\u001b[0m      \u001b[32m▝\u001b[0m\u001b[32m▀\u001b[0m\u001b[32m▖\u001b[0m                                    │ 1\n",
      "││           \u001b[34m▝\u001b[0m          \u001b[32m▝\u001b[0m\u001b[32m▄\u001b[0m                     \u001b[32m▗\u001b[0m\u001b[32m▖\u001b[0m            │ \n",
      "││           \u001b[34m▞\u001b[0m       \u001b[32m▖\u001b[0m   \u001b[35m▝\u001b[0m\u001b[32m▀\u001b[0m\u001b[32m▚\u001b[0m               \u001b[32m▗\u001b[0m\u001b[32m▗\u001b[0m\u001b[32m▞\u001b[0m\u001b[32m▀\u001b[0m\u001b[32m▘\u001b[0m\u001b[32m▀\u001b[0m\u001b[32m▀\u001b[0m\u001b[32m▚\u001b[0m\u001b[32m▄\u001b[0m\u001b[32m▄\u001b[0m        │ \n",
      "││         \u001b[34m▗\u001b[0m\u001b[34m▀\u001b[0m              \u001b[32m▝\u001b[0m\u001b[32m▄\u001b[0m\u001b[32m▖\u001b[0m           \u001b[32m▗\u001b[0m\u001b[35m▗\u001b[0m\u001b[32m▖\u001b[0m\u001b[32m▘\u001b[0m       \u001b[35m▝\u001b[0m\u001b[32m▀\u001b[0m\u001b[32m▀\u001b[0m\u001b[32m▚\u001b[0m\u001b[32m▄\u001b[0m    │ \n",
      "││         \u001b[34m▞\u001b[0m                 \u001b[32m▗\u001b[0m          \u001b[32m▗\u001b[0m\u001b[32m▖\u001b[0m\u001b[32m▀\u001b[0m             \u001b[32m▝\u001b[0m\u001b[32m▄\u001b[0m   │ 0\n",
      "││        \u001b[34m▞\u001b[0m                  \u001b[35m▝\u001b[0m\u001b[32m▀\u001b[0m\u001b[32m▚\u001b[0m      \u001b[32m▄\u001b[0m\u001b[32m▄\u001b[0m\u001b[32m▘\u001b[0m                \u001b[35m▝\u001b[0m\u001b[32m▚\u001b[0m  │ \n",
      "│\u001b[34m▌\u001b[0m      \u001b[34m▄\u001b[0m                      \u001b[35m▝\u001b[0m\u001b[32m▀\u001b[0m\u001b[32m▀\u001b[0m\u001b[32m▚\u001b[0m\u001b[32m▞\u001b[0m\u001b[32m▄\u001b[0m\u001b[32m▞\u001b[0m\u001b[32m▘\u001b[0m                   \u001b[32m▝\u001b[0m\u001b[32m▚\u001b[0m\u001b[32m▖\u001b[0m│ \n",
      "│\u001b[34m▗\u001b[0m\u001b[34m▄\u001b[0m\u001b[34m▖\u001b[0m   \u001b[34m▗\u001b[0m \u001b[34m▀\u001b[0m                                                  \u001b[32m▝\u001b[0m│ \n",
      "││ \u001b[34m▀\u001b[0m\u001b[34m▄\u001b[0m\u001b[34m▄\u001b[0m\u001b[34m▄\u001b[0m\u001b[34m▌\u001b[0m                                                    \u001b[35m▝\u001b[0m│ \n",
      "└────────────────────────────────────────────────────────────┘\n",
      " 0                  50                  100\n",
      "                          \u001b[34m██\u001b[0m Input\n",
      "                          \u001b[35m██\u001b[0m Target\n",
      "                          \u001b[32m██\u001b[0m Output\n",
      "           Epoch: 3, Test Loss: 0.0026 - Example 2\n",
      "┌────────────────────────────────────────────────────────────┐\n",
      "││ \u001b[34m▞\u001b[0m\u001b[34m▀\u001b[0m\u001b[34m▀\u001b[0m\u001b[34m▀\u001b[0m\u001b[34m▀\u001b[0m\u001b[34m▚\u001b[0m\u001b[34m▄\u001b[0m                                                   │ \n",
      "│\u001b[34m▄\u001b[0m\u001b[34m▞\u001b[0m       \u001b[34m▀\u001b[0m\u001b[34m▄\u001b[0m                                                 │ 1\n",
      "││         \u001b[34m▝\u001b[0m\u001b[34m▚\u001b[0m\u001b[34m▄\u001b[0m                  \u001b[32m▗\u001b[0m\u001b[32m▄\u001b[0m\u001b[32m▄\u001b[0m\u001b[32m▄\u001b[0m\u001b[32m▄\u001b[0m\u001b[32m▖\u001b[0m                      \u001b[32m▗\u001b[0m│ \n",
      "││            \u001b[34m▚\u001b[0m      \u001b[32m▖\u001b[0m        \u001b[32m▗\u001b[0m\u001b[32m▄\u001b[0m\u001b[32m▘\u001b[0m    \u001b[32m▝\u001b[0m\u001b[32m▀\u001b[0m\u001b[32m▀\u001b[0m\u001b[32m▙\u001b[0m\u001b[32m▄\u001b[0m\u001b[32m▖\u001b[0m                \u001b[35m▗\u001b[0m\u001b[32m▞\u001b[0m│ \n",
      "││             \u001b[34m▀\u001b[0m\u001b[34m▖\u001b[0m           \u001b[32m▝\u001b[0m\u001b[32m▄\u001b[0m\u001b[32m▘\u001b[0m           \u001b[32m▝\u001b[0m\u001b[32m▀\u001b[0m\u001b[32m▖\u001b[0m             \u001b[32m▗\u001b[0m\u001b[32m▞\u001b[0m │ \n",
      "││              \u001b[34m▝\u001b[0m\u001b[34m▜\u001b[0m        \u001b[32m▗\u001b[0m\u001b[32m▞\u001b[0m\u001b[32m▘\u001b[0m               \u001b[32m▀\u001b[0m\u001b[32m▚\u001b[0m           \u001b[35m▗\u001b[0m\u001b[32m▄\u001b[0m  │ \n",
      "││                \u001b[34m▀\u001b[0m\u001b[34m▄\u001b[0m\u001b[34m▄\u001b[0m\u001b[32m▗\u001b[0m\u001b[32m▄\u001b[0m\u001b[32m▄\u001b[0m\u001b[32m▄\u001b[0m\u001b[32m▀\u001b[0m\u001b[32m▘\u001b[0m                  \u001b[35m▝\u001b[0m\u001b[32m▙\u001b[0m\u001b[32m▖\u001b[0m        \u001b[35m▝\u001b[0m\u001b[32m▀\u001b[0m   │ \n",
      "││                                             \u001b[32m▝\u001b[0m\u001b[32m▌\u001b[0m      \u001b[35m▗\u001b[0m\u001b[32m▟\u001b[0m    │ \n",
      "││▁▁▁▁▁▁▁▁▁▁▁▁▁▁▁▁▁▁▁▁▁▁▁▁▁▁▁▁▁▁▁▁▁▁▁▁▁▁▁▁▁▁▁▁▁▁\u001b[32m▝\u001b[0m\u001b[32m▘\u001b[0m▁▁▁▁\u001b[32m▄\u001b[0m\u001b[32m▀\u001b[0m▁▁▁▁▁│ 0\n",
      "││                                               \u001b[32m▝\u001b[0m\u001b[32m▄\u001b[0m\u001b[32m▄\u001b[0m\u001b[32m▄\u001b[0m\u001b[32m▀\u001b[0m\u001b[35m▘\u001b[0m      │ \n",
      "└────────────────────────────────────────────────────────────┘\n",
      " 0                  50                  100\n",
      "                          \u001b[34m██\u001b[0m Input\n",
      "                          \u001b[35m██\u001b[0m Target\n",
      "                          \u001b[32m██\u001b[0m Output\n"
     ]
    },
    {
     "name": "stderr",
     "output_type": "stream",
     "text": [
      "100%|██████████| 107/107 [00:04<00:00, 25.26it/s]\n",
      "100%|██████████| 638/638 [01:07<00:00,  9.42it/s]\n",
      "100%|██████████| 107/107 [00:03<00:00, 28.00it/s]\n",
      "100%|██████████| 638/638 [01:08<00:00,  9.28it/s]\n",
      "100%|██████████| 107/107 [00:03<00:00, 30.76it/s]\n",
      "100%|██████████| 638/638 [01:08<00:00,  9.28it/s]\n",
      "  2%|▏         | 2/107 [00:00<00:06, 16.07it/s]"
     ]
    },
    {
     "name": "stdout",
     "output_type": "stream",
     "text": [
      "           Epoch: 6, Test Loss: 0.0022 - Example 0\n",
      "┌────────────────────────────────────────────────────────────┐\n",
      "│\u001b[34m▛\u001b[0m\u001b[34m▚\u001b[0m\u001b[34m▄\u001b[0m\u001b[34m▄\u001b[0m\u001b[34m▄\u001b[0m\u001b[34m▄\u001b[0m\u001b[34m▖\u001b[0m                     \u001b[32m▗\u001b[0m\u001b[32m▀\u001b[0m\u001b[32m▀\u001b[0m\u001b[32m▀\u001b[0m\u001b[32m▀\u001b[0m\u001b[32m▙\u001b[0m\u001b[32m▖\u001b[0m                         │ \n",
      "││     \u001b[34m▚\u001b[0m                   \u001b[32m▗\u001b[0m\u001b[32m▞\u001b[0m\u001b[32m▘\u001b[0m     \u001b[32m▝\u001b[0m\u001b[32m▀\u001b[0m\u001b[32m▖\u001b[0m                       │ 1\n",
      "││      \u001b[34m▀\u001b[0m\u001b[34m▖\u001b[0m                \u001b[35m▝\u001b[0m\u001b[32m▘\u001b[0m         \u001b[32m▝\u001b[0m\u001b[32m▄\u001b[0m                     \u001b[32m▗\u001b[0m│ \n",
      "││       \u001b[34m▘\u001b[0m\u001b[34m▖\u001b[0m              \u001b[35m▗\u001b[0m\u001b[32m▞\u001b[0m           \u001b[35m▝\u001b[0m\u001b[32m▀\u001b[0m\u001b[32m▌\u001b[0m               \u001b[32m▗\u001b[0m\u001b[32m▄\u001b[0m\u001b[32m▞\u001b[0m\u001b[32m▀\u001b[0m\u001b[32m▘\u001b[0m│ \n",
      "││       \u001b[34m▝\u001b[0m\u001b[34m▝\u001b[0m\u001b[34m▄\u001b[0m            \u001b[35m▗\u001b[0m\u001b[32m▞\u001b[0m              \u001b[32m▝\u001b[0m\u001b[32m▄\u001b[0m\u001b[32m▖\u001b[0m           \u001b[32m▗\u001b[0m\u001b[35m▗\u001b[0m\u001b[32m▖\u001b[0m    │ \n",
      "││          \u001b[34m▚\u001b[0m          \u001b[35m▗\u001b[0m\u001b[32m▞\u001b[0m                 \u001b[32m▚\u001b[0m          \u001b[32m▗\u001b[0m\u001b[32m▞\u001b[0m\u001b[32m▀\u001b[0m     │ 0\n",
      "││           \u001b[34m▚\u001b[0m         \u001b[32m▝\u001b[0m                  \u001b[35m▝\u001b[0m\u001b[32m▀\u001b[0m\u001b[32m▌\u001b[0m     \u001b[35m▗\u001b[0m\u001b[32m▄\u001b[0m\u001b[32m▟\u001b[0m\u001b[32m▘\u001b[0m       │ \n",
      "││           \u001b[34m▝\u001b[0m\u001b[34m▖\u001b[0m      \u001b[32m▚\u001b[0m \u001b[32m▝\u001b[0m                    \u001b[32m▝\u001b[0m\u001b[32m▀\u001b[0m\u001b[32m▀\u001b[0m\u001b[32m▚\u001b[0m\u001b[32m▄\u001b[0m\u001b[32m▄\u001b[0m\u001b[32m▛\u001b[0m          │ \n",
      "││            \u001b[34m▗\u001b[0m\u001b[34m▄\u001b[0m    \u001b[34m▗\u001b[0m\u001b[35m▝\u001b[0m\u001b[32m▀\u001b[0m\u001b[32m▘\u001b[0m                                     │ \n",
      "││              \u001b[34m▀\u001b[0m\u001b[34m▄\u001b[0m\u001b[34m▄\u001b[0m\u001b[34m▄\u001b[0m\u001b[34m▘\u001b[0m                                        │ \n",
      "└────────────────────────────────────────────────────────────┘\n",
      " 0                  50                  100\n",
      "                          \u001b[34m██\u001b[0m Input\n",
      "                          \u001b[35m██\u001b[0m Target\n",
      "                          \u001b[32m██\u001b[0m Output\n",
      "           Epoch: 6, Test Loss: 0.0021 - Example 1\n",
      "┌────────────────────────────────────────────────────────────┐\n",
      "││              \u001b[34m▄\u001b[0m\u001b[34m▀\u001b[0m\u001b[34m▀\u001b[0m\u001b[34m▀\u001b[0m\u001b[34m▀\u001b[0m\u001b[32m▗\u001b[0m\u001b[32m▖\u001b[0m                                      │ \n",
      "││            \u001b[34m▄\u001b[0m\u001b[34m▞\u001b[0m      \u001b[32m▝\u001b[0m\u001b[32m▀\u001b[0m\u001b[32m▖\u001b[0m                                    │ 1\n",
      "││           \u001b[34m▝\u001b[0m          \u001b[32m▝\u001b[0m\u001b[32m▄\u001b[0m                     \u001b[32m▗\u001b[0m\u001b[32m▖\u001b[0m            │ \n",
      "││           \u001b[34m▞\u001b[0m       \u001b[32m▘\u001b[0m   \u001b[35m▝\u001b[0m\u001b[32m▀\u001b[0m\u001b[32m▚\u001b[0m               \u001b[32m▗\u001b[0m\u001b[32m▄\u001b[0m\u001b[32m▞\u001b[0m\u001b[32m▀\u001b[0m\u001b[32m▘\u001b[0m\u001b[32m▝\u001b[0m\u001b[32m▀\u001b[0m\u001b[32m▀\u001b[0m\u001b[32m▄\u001b[0m\u001b[32m▄\u001b[0m\u001b[32m▖\u001b[0m       │ \n",
      "││         \u001b[34m▗\u001b[0m\u001b[34m▀\u001b[0m              \u001b[32m▝\u001b[0m\u001b[32m▄\u001b[0m\u001b[32m▖\u001b[0m           \u001b[32m▗\u001b[0m\u001b[35m▗\u001b[0m\u001b[32m▖\u001b[0m\u001b[35m▘\u001b[0m       \u001b[35m▝\u001b[0m\u001b[32m▝\u001b[0m\u001b[32m▀\u001b[0m\u001b[32m▚\u001b[0m\u001b[32m▄\u001b[0m    │ \n",
      "││         \u001b[34m▞\u001b[0m                 \u001b[32m▐\u001b[0m          \u001b[32m▗\u001b[0m\u001b[32m▖\u001b[0m\u001b[32m▀\u001b[0m             \u001b[32m▝\u001b[0m\u001b[32m▄\u001b[0m   │ 0\n",
      "││        \u001b[34m▞\u001b[0m                  \u001b[35m▝\u001b[0m\u001b[32m▀\u001b[0m\u001b[32m▚\u001b[0m      \u001b[32m▄\u001b[0m\u001b[32m▄\u001b[0m\u001b[32m▘\u001b[0m                \u001b[35m▝\u001b[0m\u001b[32m▚\u001b[0m  │ \n",
      "│\u001b[34m▌\u001b[0m      \u001b[34m▄\u001b[0m                      \u001b[35m▝\u001b[0m\u001b[32m▀\u001b[0m\u001b[32m▀\u001b[0m\u001b[32m▚\u001b[0m\u001b[32m▄\u001b[0m\u001b[32m▄\u001b[0m\u001b[32m▞\u001b[0m\u001b[32m▘\u001b[0m                   \u001b[32m▝\u001b[0m\u001b[32m▚\u001b[0m\u001b[32m▖\u001b[0m│ \n",
      "│\u001b[34m▗\u001b[0m\u001b[34m▄\u001b[0m\u001b[34m▖\u001b[0m   \u001b[34m▗\u001b[0m \u001b[34m▀\u001b[0m                                                  \u001b[32m▐\u001b[0m│ \n",
      "││ \u001b[34m▀\u001b[0m\u001b[34m▄\u001b[0m\u001b[34m▄\u001b[0m\u001b[34m▄\u001b[0m\u001b[34m▌\u001b[0m                                                    \u001b[35m▝\u001b[0m│ \n",
      "└────────────────────────────────────────────────────────────┘\n",
      " 0                  50                  100\n",
      "                          \u001b[34m██\u001b[0m Input\n",
      "                          \u001b[35m██\u001b[0m Target\n",
      "                          \u001b[32m██\u001b[0m Output\n",
      "           Epoch: 6, Test Loss: 0.0022 - Example 2\n",
      "┌────────────────────────────────────────────────────────────┐\n",
      "││ \u001b[34m▞\u001b[0m\u001b[34m▀\u001b[0m\u001b[34m▀\u001b[0m\u001b[34m▀\u001b[0m\u001b[34m▀\u001b[0m\u001b[34m▚\u001b[0m\u001b[34m▄\u001b[0m                                                   │ \n",
      "│\u001b[34m▄\u001b[0m\u001b[34m▞\u001b[0m       \u001b[34m▀\u001b[0m\u001b[34m▄\u001b[0m                                                 │ 1\n",
      "││         \u001b[34m▝\u001b[0m\u001b[34m▚\u001b[0m\u001b[34m▄\u001b[0m                  \u001b[32m▗\u001b[0m\u001b[32m▄\u001b[0m\u001b[32m▞\u001b[0m\u001b[32m▄\u001b[0m\u001b[32m▄\u001b[0m\u001b[32m▄\u001b[0m                      \u001b[32m▗\u001b[0m│ \n",
      "││            \u001b[34m▚\u001b[0m               \u001b[32m▝\u001b[0m\u001b[32m▀\u001b[0m\u001b[32m▘\u001b[0m    \u001b[35m▀\u001b[0m\u001b[32m▀\u001b[0m\u001b[32m▀\u001b[0m\u001b[32m▚\u001b[0m\u001b[32m▄\u001b[0m\u001b[32m▄\u001b[0m\u001b[32m▖\u001b[0m               \u001b[35m▗\u001b[0m\u001b[32m▞\u001b[0m│ \n",
      "││             \u001b[34m▀\u001b[0m\u001b[34m▖\u001b[0m    \u001b[32m▘\u001b[0m     \u001b[35m▗\u001b[0m\u001b[32m▞\u001b[0m\u001b[32m▚\u001b[0m\u001b[32m▘\u001b[0m           \u001b[35m▀\u001b[0m\u001b[32m▝\u001b[0m\u001b[32m▖\u001b[0m             \u001b[32m▗\u001b[0m\u001b[32m▞\u001b[0m │ \n",
      "││              \u001b[34m▝\u001b[0m\u001b[34m▀\u001b[0m\u001b[34m▖\u001b[0m      \u001b[32m▗\u001b[0m\u001b[32m▄\u001b[0m\u001b[32m▞\u001b[0m                \u001b[32m▝\u001b[0m\u001b[32m▚\u001b[0m           \u001b[35m▗\u001b[0m\u001b[32m▄\u001b[0m  │ \n",
      "││                \u001b[34m▝\u001b[0m\u001b[34m▄\u001b[0m\u001b[34m▞\u001b[0m\u001b[32m▐\u001b[0m\u001b[32m▄\u001b[0m\u001b[32m▄\u001b[0m\u001b[32m▄\u001b[0m\u001b[32m▀\u001b[0m                   \u001b[35m▝\u001b[0m\u001b[32m▙\u001b[0m\u001b[32m▖\u001b[0m        \u001b[35m▝\u001b[0m\u001b[32m▀\u001b[0m   │ \n",
      "││                                             \u001b[32m▝\u001b[0m\u001b[32m▌\u001b[0m      \u001b[35m▗\u001b[0m\u001b[32m▟\u001b[0m    │ \n",
      "││▁▁▁▁▁▁▁▁▁▁▁▁▁▁▁▁▁▁▁▁▁▁▁▁▁▁▁▁▁▁▁▁▁▁▁▁▁▁▁▁▁▁▁▁▁▁\u001b[32m▝\u001b[0m\u001b[32m▖\u001b[0m▁▁▁▁\u001b[32m▗\u001b[0m\u001b[32m▀\u001b[0m▁▁▁▁▁│ 0\n",
      "││                                               \u001b[32m▝\u001b[0m\u001b[32m▄\u001b[0m\u001b[32m▄\u001b[0m\u001b[32m▄\u001b[0m\u001b[32m▄\u001b[0m\u001b[32m▀\u001b[0m      │ \n",
      "└────────────────────────────────────────────────────────────┘\n",
      " 0                  50                  100\n",
      "                          \u001b[34m██\u001b[0m Input\n",
      "                          \u001b[35m██\u001b[0m Target\n",
      "                          \u001b[32m██\u001b[0m Output\n"
     ]
    },
    {
     "name": "stderr",
     "output_type": "stream",
     "text": [
      "100%|██████████| 107/107 [00:03<00:00, 29.88it/s]\n",
      "100%|██████████| 638/638 [01:08<00:00,  9.34it/s]\n",
      "100%|██████████| 107/107 [00:03<00:00, 30.87it/s]\n",
      "100%|██████████| 638/638 [01:08<00:00,  9.29it/s]\n",
      "100%|██████████| 107/107 [00:03<00:00, 30.47it/s]\n",
      "100%|██████████| 638/638 [01:11<00:00,  8.98it/s]\n",
      "  2%|▏         | 2/107 [00:00<00:06, 15.48it/s]"
     ]
    },
    {
     "name": "stdout",
     "output_type": "stream",
     "text": [
      "           Epoch: 9, Test Loss: 0.0019 - Example 0\n",
      "┌────────────────────────────────────────────────────────────┐\n",
      "│\u001b[34m▛\u001b[0m\u001b[34m▚\u001b[0m\u001b[34m▄\u001b[0m\u001b[34m▄\u001b[0m\u001b[34m▄\u001b[0m\u001b[34m▄\u001b[0m\u001b[34m▖\u001b[0m                     \u001b[32m▗\u001b[0m\u001b[32m▀\u001b[0m\u001b[32m▀\u001b[0m\u001b[32m▀\u001b[0m\u001b[32m▀\u001b[0m\u001b[32m▙\u001b[0m\u001b[32m▖\u001b[0m                         │ \n",
      "││     \u001b[34m▚\u001b[0m                   \u001b[32m▗\u001b[0m\u001b[32m▞\u001b[0m\u001b[32m▘\u001b[0m     \u001b[32m▝\u001b[0m\u001b[32m▀\u001b[0m\u001b[32m▖\u001b[0m                       │ 1\n",
      "││      \u001b[34m▀\u001b[0m\u001b[34m▖\u001b[0m                \u001b[35m▝\u001b[0m\u001b[32m▘\u001b[0m         \u001b[32m▝\u001b[0m\u001b[32m▄\u001b[0m                   \u001b[32m▗\u001b[0m \u001b[32m▄\u001b[0m│ \n",
      "││       \u001b[34m▘\u001b[0m\u001b[34m▖\u001b[0m              \u001b[35m▗\u001b[0m\u001b[32m▞\u001b[0m           \u001b[35m▝\u001b[0m\u001b[32m▀\u001b[0m\u001b[32m▌\u001b[0m               \u001b[32m▗\u001b[0m\u001b[32m▄\u001b[0m\u001b[32m▞\u001b[0m\u001b[32m▀\u001b[0m\u001b[35m▝\u001b[0m│ \n",
      "││       \u001b[34m▝\u001b[0m\u001b[34m▝\u001b[0m\u001b[34m▄\u001b[0m            \u001b[35m▗\u001b[0m\u001b[32m▞\u001b[0m              \u001b[32m▝\u001b[0m\u001b[32m▄\u001b[0m\u001b[32m▖\u001b[0m            \u001b[35m▗\u001b[0m\u001b[32m▖\u001b[0m    │ \n",
      "││          \u001b[34m▚\u001b[0m          \u001b[35m▗\u001b[0m\u001b[32m▞\u001b[0m                 \u001b[32m▚\u001b[0m          \u001b[32m▗\u001b[0m\u001b[32m▞\u001b[0m\u001b[32m▀\u001b[0m     │ 0\n",
      "││           \u001b[34m▚\u001b[0m         \u001b[32m▝\u001b[0m                  \u001b[35m▝\u001b[0m\u001b[32m▀\u001b[0m\u001b[32m▌\u001b[0m     \u001b[35m▗\u001b[0m\u001b[32m▗\u001b[0m\u001b[32m▟\u001b[0m\u001b[32m▘\u001b[0m       │ \n",
      "││           \u001b[34m▝\u001b[0m\u001b[34m▖\u001b[0m      \u001b[32m▄\u001b[0m \u001b[32m▝\u001b[0m                    \u001b[32m▝\u001b[0m\u001b[32m▀\u001b[0m\u001b[32m▀\u001b[0m\u001b[32m▚\u001b[0m\u001b[32m▄\u001b[0m\u001b[32m▄\u001b[0m\u001b[32m▞\u001b[0m\u001b[32m▘\u001b[0m         │ \n",
      "││            \u001b[34m▗\u001b[0m\u001b[34m▄\u001b[0m    \u001b[34m▗\u001b[0m\u001b[35m▝\u001b[0m\u001b[32m▀\u001b[0m\u001b[32m▘\u001b[0m                                     │ \n",
      "││              \u001b[34m▀\u001b[0m\u001b[34m▄\u001b[0m\u001b[34m▄\u001b[0m\u001b[34m▄\u001b[0m\u001b[34m▘\u001b[0m                                        │ \n",
      "└────────────────────────────────────────────────────────────┘\n",
      " 0                  50                  100\n",
      "                          \u001b[34m██\u001b[0m Input\n",
      "                          \u001b[35m██\u001b[0m Target\n",
      "                          \u001b[32m██\u001b[0m Output\n",
      "           Epoch: 9, Test Loss: 0.0020 - Example 1\n",
      "┌────────────────────────────────────────────────────────────┐\n",
      "││              \u001b[34m▄\u001b[0m\u001b[34m▀\u001b[0m\u001b[34m▀\u001b[0m\u001b[34m▀\u001b[0m\u001b[34m▀\u001b[0m\u001b[32m▗\u001b[0m\u001b[32m▖\u001b[0m                                      │ \n",
      "││            \u001b[34m▄\u001b[0m\u001b[34m▞\u001b[0m      \u001b[32m▝\u001b[0m\u001b[32m▀\u001b[0m\u001b[32m▖\u001b[0m                                    │ 1\n",
      "││           \u001b[34m▝\u001b[0m       \u001b[32m▖\u001b[0m  \u001b[32m▝\u001b[0m\u001b[32m▄\u001b[0m                    \u001b[32m▖\u001b[0m\u001b[32m▄\u001b[0m\u001b[32m▄\u001b[0m            │ \n",
      "││           \u001b[34m▞\u001b[0m           \u001b[35m▝\u001b[0m\u001b[32m▀\u001b[0m\u001b[32m▚\u001b[0m               \u001b[32m▗\u001b[0m\u001b[32m▄\u001b[0m\u001b[32m▞\u001b[0m\u001b[32m▀\u001b[0m \u001b[35m▀\u001b[0m\u001b[32m▀\u001b[0m\u001b[32m▀\u001b[0m\u001b[32m▄\u001b[0m\u001b[32m▄\u001b[0m\u001b[32m▖\u001b[0m       │ \n",
      "││         \u001b[34m▗\u001b[0m\u001b[34m▀\u001b[0m              \u001b[32m▝\u001b[0m\u001b[32m▄\u001b[0m\u001b[32m▖\u001b[0m            \u001b[35m▗\u001b[0m\u001b[32m▖\u001b[0m\u001b[35m▘\u001b[0m       \u001b[35m▝\u001b[0m\u001b[32m▝\u001b[0m\u001b[32m▀\u001b[0m\u001b[32m▚\u001b[0m\u001b[32m▄\u001b[0m    │ \n",
      "││         \u001b[34m▞\u001b[0m                 \u001b[32m▐\u001b[0m          \u001b[32m▗\u001b[0m\u001b[32m▞\u001b[0m\u001b[32m▀\u001b[0m             \u001b[32m▝\u001b[0m\u001b[32m▄\u001b[0m\u001b[32m▖\u001b[0m  │ 0\n",
      "││        \u001b[34m▞\u001b[0m                  \u001b[35m▝\u001b[0m\u001b[32m▀\u001b[0m\u001b[32m▚\u001b[0m      \u001b[32m▗\u001b[0m\u001b[32m▄\u001b[0m\u001b[32m▘\u001b[0m                \u001b[35m▝\u001b[0m\u001b[32m▗\u001b[0m  │ \n",
      "│\u001b[34m▌\u001b[0m      \u001b[34m▄\u001b[0m                      \u001b[35m▝\u001b[0m\u001b[32m▀\u001b[0m\u001b[32m▀\u001b[0m\u001b[32m▚\u001b[0m\u001b[32m▄\u001b[0m\u001b[32m▄\u001b[0m\u001b[32m▄\u001b[0m\u001b[32m▘\u001b[0m                   \u001b[32m▝\u001b[0m\u001b[32m▚\u001b[0m\u001b[32m▖\u001b[0m│ \n",
      "│\u001b[34m▗\u001b[0m\u001b[34m▄\u001b[0m\u001b[34m▖\u001b[0m   \u001b[34m▗\u001b[0m \u001b[34m▀\u001b[0m                                                  \u001b[32m▝\u001b[0m│ \n",
      "││ \u001b[34m▀\u001b[0m\u001b[34m▄\u001b[0m\u001b[34m▄\u001b[0m\u001b[34m▄\u001b[0m\u001b[34m▌\u001b[0m                                                    \u001b[35m▝\u001b[0m│ \n",
      "└────────────────────────────────────────────────────────────┘\n",
      " 0                  50                  100\n",
      "                          \u001b[34m██\u001b[0m Input\n",
      "                          \u001b[35m██\u001b[0m Target\n",
      "                          \u001b[32m██\u001b[0m Output\n",
      "           Epoch: 9, Test Loss: 0.0023 - Example 2\n",
      "┌────────────────────────────────────────────────────────────┐\n",
      "││ \u001b[34m▞\u001b[0m\u001b[34m▀\u001b[0m\u001b[34m▀\u001b[0m\u001b[34m▀\u001b[0m\u001b[34m▀\u001b[0m\u001b[34m▚\u001b[0m\u001b[34m▄\u001b[0m                                                   │ \n",
      "│\u001b[34m▄\u001b[0m\u001b[34m▞\u001b[0m       \u001b[34m▀\u001b[0m\u001b[34m▄\u001b[0m                                                 │ 1\n",
      "││         \u001b[34m▝\u001b[0m\u001b[34m▚\u001b[0m\u001b[34m▄\u001b[0m                  \u001b[32m▗\u001b[0m\u001b[32m▄\u001b[0m\u001b[32m▞\u001b[0m\u001b[32m▄\u001b[0m\u001b[32m▄\u001b[0m\u001b[32m▄\u001b[0m                      \u001b[32m▗\u001b[0m│ \n",
      "││            \u001b[34m▚\u001b[0m               \u001b[32m▝\u001b[0m\u001b[32m▀\u001b[0m\u001b[32m▘\u001b[0m    \u001b[35m▝\u001b[0m\u001b[32m▀\u001b[0m\u001b[32m▀\u001b[0m\u001b[32m▚\u001b[0m\u001b[32m▄\u001b[0m\u001b[32m▄\u001b[0m\u001b[32m▖\u001b[0m               \u001b[35m▗\u001b[0m\u001b[32m▞\u001b[0m│ \n",
      "││             \u001b[34m▀\u001b[0m\u001b[34m▖\u001b[0m    \u001b[32m▖\u001b[0m     \u001b[35m▗\u001b[0m\u001b[32m▞\u001b[0m\u001b[32m▚\u001b[0m\u001b[32m▘\u001b[0m           \u001b[35m▀\u001b[0m\u001b[32m▝\u001b[0m\u001b[32m▌\u001b[0m             \u001b[32m▗\u001b[0m\u001b[32m▞\u001b[0m │ \n",
      "││              \u001b[34m▝\u001b[0m\u001b[34m▀\u001b[0m\u001b[34m▖\u001b[0m      \u001b[32m▗\u001b[0m\u001b[32m▄\u001b[0m\u001b[32m▞\u001b[0m                \u001b[32m▝\u001b[0m\u001b[32m▚\u001b[0m           \u001b[35m▗\u001b[0m\u001b[32m▄\u001b[0m  │ \n",
      "││                \u001b[34m▝\u001b[0m\u001b[34m▚\u001b[0m\u001b[34m▀\u001b[0m\u001b[32m▐\u001b[0m\u001b[32m▄\u001b[0m\u001b[32m▄\u001b[0m\u001b[32m▄\u001b[0m\u001b[32m▀\u001b[0m                   \u001b[35m▝\u001b[0m\u001b[32m▚\u001b[0m\u001b[32m▖\u001b[0m        \u001b[35m▝\u001b[0m\u001b[32m▀\u001b[0m   │ \n",
      "││                                             \u001b[32m▝\u001b[0m\u001b[32m▌\u001b[0m      \u001b[35m▗\u001b[0m\u001b[32m▟\u001b[0m    │ \n",
      "││▁▁▁▁▁▁▁▁▁▁▁▁▁▁▁▁▁▁▁▁▁▁▁▁▁▁▁▁▁▁▁▁▁▁▁▁▁▁▁▁▁▁▁▁▁▁\u001b[32m▝\u001b[0m\u001b[32m▖\u001b[0m▁▁▁▁\u001b[32m▗\u001b[0m\u001b[32m▞\u001b[0m▁▁▁▁▁│ 0\n",
      "││                                               \u001b[32m▝\u001b[0m\u001b[32m▄\u001b[0m\u001b[32m▄\u001b[0m\u001b[32m▄\u001b[0m\u001b[32m▄\u001b[0m\u001b[32m▀\u001b[0m      │ \n",
      "└────────────────────────────────────────────────────────────┘\n",
      " 0                  50                  100\n",
      "                          \u001b[34m██\u001b[0m Input\n",
      "                          \u001b[35m██\u001b[0m Target\n",
      "                          \u001b[32m██\u001b[0m Output\n"
     ]
    },
    {
     "name": "stderr",
     "output_type": "stream",
     "text": [
      "100%|██████████| 107/107 [00:03<00:00, 29.82it/s]\n",
      "100%|██████████| 638/638 [01:09<00:00,  9.19it/s]\n",
      "100%|██████████| 107/107 [00:03<00:00, 30.32it/s]\n",
      "100%|██████████| 638/638 [01:08<00:00,  9.36it/s]\n",
      "100%|██████████| 107/107 [00:03<00:00, 30.65it/s]\n",
      "100%|██████████| 638/638 [01:08<00:00,  9.29it/s]\n",
      "  3%|▎         | 3/107 [00:00<00:09, 11.45it/s]"
     ]
    },
    {
     "name": "stdout",
     "output_type": "stream",
     "text": [
      "           Epoch: 12, Test Loss: 0.0019 - Example 0\n",
      "┌────────────────────────────────────────────────────────────┐\n",
      "│\u001b[34m▛\u001b[0m\u001b[34m▚\u001b[0m\u001b[34m▄\u001b[0m\u001b[34m▄\u001b[0m\u001b[34m▄\u001b[0m\u001b[34m▄\u001b[0m\u001b[34m▖\u001b[0m                     \u001b[32m▗\u001b[0m\u001b[32m▀\u001b[0m\u001b[32m▀\u001b[0m\u001b[32m▀\u001b[0m\u001b[32m▀\u001b[0m\u001b[32m▙\u001b[0m\u001b[32m▖\u001b[0m                         │ \n",
      "││     \u001b[34m▚\u001b[0m                   \u001b[32m▗\u001b[0m\u001b[32m▞\u001b[0m\u001b[32m▘\u001b[0m     \u001b[32m▝\u001b[0m\u001b[32m▀\u001b[0m\u001b[32m▖\u001b[0m                       │ 1\n",
      "││      \u001b[34m▀\u001b[0m\u001b[34m▖\u001b[0m                \u001b[35m▝\u001b[0m\u001b[32m▘\u001b[0m         \u001b[32m▝\u001b[0m\u001b[32m▄\u001b[0m                   \u001b[32m▗\u001b[0m \u001b[32m▄\u001b[0m│ \n",
      "││       \u001b[34m▘\u001b[0m\u001b[34m▖\u001b[0m              \u001b[35m▗\u001b[0m\u001b[32m▞\u001b[0m           \u001b[35m▝\u001b[0m\u001b[32m▀\u001b[0m\u001b[32m▌\u001b[0m               \u001b[32m▗\u001b[0m\u001b[32m▄\u001b[0m\u001b[32m▞\u001b[0m\u001b[32m▀\u001b[0m\u001b[35m▝\u001b[0m│ \n",
      "││       \u001b[34m▝\u001b[0m\u001b[34m▝\u001b[0m\u001b[34m▄\u001b[0m            \u001b[35m▗\u001b[0m\u001b[32m▞\u001b[0m              \u001b[32m▝\u001b[0m\u001b[32m▄\u001b[0m\u001b[32m▖\u001b[0m            \u001b[35m▗\u001b[0m\u001b[32m▖\u001b[0m    │ \n",
      "││          \u001b[34m▚\u001b[0m          \u001b[35m▗\u001b[0m\u001b[32m▞\u001b[0m                 \u001b[32m▚\u001b[0m          \u001b[32m▗\u001b[0m\u001b[32m▞\u001b[0m\u001b[32m▀\u001b[0m     │ 0\n",
      "││           \u001b[34m▚\u001b[0m         \u001b[32m▝\u001b[0m                  \u001b[35m▝\u001b[0m\u001b[32m▀\u001b[0m\u001b[32m▌\u001b[0m     \u001b[35m▗\u001b[0m\u001b[32m▗\u001b[0m\u001b[32m▟\u001b[0m\u001b[32m▘\u001b[0m       │ \n",
      "││           \u001b[34m▝\u001b[0m\u001b[34m▖\u001b[0m      \u001b[32m▄\u001b[0m \u001b[32m▝\u001b[0m                    \u001b[32m▝\u001b[0m\u001b[32m▀\u001b[0m\u001b[32m▛\u001b[0m\u001b[32m▚\u001b[0m\u001b[32m▄\u001b[0m\u001b[32m▄\u001b[0m\u001b[32m▞\u001b[0m\u001b[32m▘\u001b[0m         │ \n",
      "││            \u001b[34m▗\u001b[0m\u001b[34m▄\u001b[0m    \u001b[34m▗\u001b[0m\u001b[35m▝\u001b[0m\u001b[32m▀\u001b[0m\u001b[32m▘\u001b[0m                                     │ \n",
      "││              \u001b[34m▀\u001b[0m\u001b[34m▄\u001b[0m\u001b[34m▄\u001b[0m\u001b[34m▄\u001b[0m\u001b[34m▘\u001b[0m                                        │ \n",
      "└────────────────────────────────────────────────────────────┘\n",
      " 0                  50                  100\n",
      "                          \u001b[34m██\u001b[0m Input\n",
      "                          \u001b[35m██\u001b[0m Target\n",
      "                          \u001b[32m██\u001b[0m Output\n",
      "           Epoch: 12, Test Loss: 0.0020 - Example 1\n",
      "┌────────────────────────────────────────────────────────────┐\n",
      "││              \u001b[34m▄\u001b[0m\u001b[34m▀\u001b[0m\u001b[34m▀\u001b[0m\u001b[34m▀\u001b[0m\u001b[34m▀\u001b[0m\u001b[32m▗\u001b[0m\u001b[32m▖\u001b[0m                                      │ \n",
      "││            \u001b[34m▄\u001b[0m\u001b[34m▞\u001b[0m      \u001b[32m▝\u001b[0m\u001b[32m▀\u001b[0m\u001b[32m▖\u001b[0m                                    │ 1\n",
      "││           \u001b[34m▝\u001b[0m       \u001b[32m▘\u001b[0m  \u001b[32m▝\u001b[0m\u001b[32m▄\u001b[0m                    \u001b[32m▖\u001b[0m\u001b[32m▄\u001b[0m\u001b[32m▄\u001b[0m            │ \n",
      "││           \u001b[34m▞\u001b[0m           \u001b[35m▝\u001b[0m\u001b[32m▀\u001b[0m\u001b[32m▚\u001b[0m               \u001b[32m▗\u001b[0m\u001b[32m▄\u001b[0m\u001b[32m▞\u001b[0m\u001b[32m▀\u001b[0m \u001b[35m▀\u001b[0m\u001b[32m▀\u001b[0m\u001b[32m▀\u001b[0m\u001b[32m▄\u001b[0m\u001b[32m▄\u001b[0m\u001b[32m▖\u001b[0m       │ \n",
      "││         \u001b[34m▗\u001b[0m\u001b[34m▀\u001b[0m              \u001b[32m▝\u001b[0m\u001b[32m▄\u001b[0m\u001b[32m▖\u001b[0m            \u001b[35m▗\u001b[0m\u001b[32m▖\u001b[0m\u001b[35m▘\u001b[0m       \u001b[35m▝\u001b[0m\u001b[32m▝\u001b[0m\u001b[32m▀\u001b[0m\u001b[32m▚\u001b[0m\u001b[32m▄\u001b[0m    │ \n",
      "││         \u001b[34m▞\u001b[0m                 \u001b[32m▐\u001b[0m          \u001b[32m▗\u001b[0m\u001b[32m▞\u001b[0m\u001b[32m▀\u001b[0m             \u001b[32m▝\u001b[0m\u001b[32m▄\u001b[0m   │ 0\n",
      "││        \u001b[34m▞\u001b[0m                  \u001b[35m▝\u001b[0m\u001b[32m▀\u001b[0m\u001b[32m▚\u001b[0m      \u001b[32m▗\u001b[0m\u001b[32m▄\u001b[0m\u001b[32m▘\u001b[0m                \u001b[35m▝\u001b[0m\u001b[32m▚\u001b[0m  │ \n",
      "│\u001b[34m▌\u001b[0m      \u001b[34m▄\u001b[0m                      \u001b[35m▝\u001b[0m\u001b[32m▀\u001b[0m\u001b[32m▞\u001b[0m\u001b[32m▚\u001b[0m\u001b[32m▄\u001b[0m\u001b[32m▄\u001b[0m\u001b[32m▄\u001b[0m\u001b[32m▘\u001b[0m                   \u001b[32m▝\u001b[0m\u001b[32m▚\u001b[0m\u001b[32m▖\u001b[0m│ \n",
      "│\u001b[34m▗\u001b[0m\u001b[34m▄\u001b[0m\u001b[34m▖\u001b[0m   \u001b[34m▗\u001b[0m \u001b[34m▀\u001b[0m                                                  \u001b[32m▝\u001b[0m│ \n",
      "││ \u001b[34m▀\u001b[0m\u001b[34m▄\u001b[0m\u001b[34m▄\u001b[0m\u001b[34m▄\u001b[0m\u001b[34m▌\u001b[0m                                                    \u001b[35m▝\u001b[0m│ \n",
      "└────────────────────────────────────────────────────────────┘\n",
      " 0                  50                  100\n",
      "                          \u001b[34m██\u001b[0m Input\n",
      "                          \u001b[35m██\u001b[0m Target\n",
      "                          \u001b[32m██\u001b[0m Output\n",
      "           Epoch: 12, Test Loss: 0.0022 - Example 2\n",
      "┌────────────────────────────────────────────────────────────┐\n",
      "││ \u001b[34m▞\u001b[0m\u001b[34m▀\u001b[0m\u001b[34m▀\u001b[0m\u001b[34m▀\u001b[0m\u001b[34m▀\u001b[0m\u001b[34m▚\u001b[0m\u001b[34m▄\u001b[0m                                                   │ \n",
      "│\u001b[34m▄\u001b[0m\u001b[34m▞\u001b[0m       \u001b[34m▀\u001b[0m\u001b[34m▄\u001b[0m                                                 │ 1\n",
      "││         \u001b[34m▝\u001b[0m\u001b[34m▚\u001b[0m\u001b[34m▄\u001b[0m                  \u001b[32m▗\u001b[0m\u001b[32m▄\u001b[0m\u001b[32m▄\u001b[0m\u001b[32m▄\u001b[0m\u001b[32m▄\u001b[0m\u001b[32m▖\u001b[0m                      \u001b[32m▗\u001b[0m│ \n",
      "││            \u001b[34m▚\u001b[0m               \u001b[32m▗\u001b[0m\u001b[32m▄\u001b[0m\u001b[32m▘\u001b[0m    \u001b[32m▝\u001b[0m\u001b[32m▀\u001b[0m\u001b[32m▀\u001b[0m\u001b[32m▙\u001b[0m\u001b[32m▄\u001b[0m\u001b[32m▖\u001b[0m                \u001b[35m▗\u001b[0m\u001b[32m▞\u001b[0m│ \n",
      "││             \u001b[34m▀\u001b[0m\u001b[34m▖\u001b[0m           \u001b[32m▗\u001b[0m\u001b[32m▄\u001b[0m\u001b[32m▘\u001b[0m           \u001b[32m▝\u001b[0m\u001b[32m▀\u001b[0m\u001b[32m▖\u001b[0m             \u001b[35m▗\u001b[0m\u001b[32m▞\u001b[0m │ \n",
      "││              \u001b[34m▝\u001b[0m\u001b[34m▜\u001b[0m   \u001b[32m▘\u001b[0m    \u001b[35m▄\u001b[0m\u001b[32m▟\u001b[0m\u001b[32m▘\u001b[0m               \u001b[32m▀\u001b[0m\u001b[32m▚\u001b[0m           \u001b[35m▗\u001b[0m\u001b[32m▐\u001b[0m  │ \n",
      "││                \u001b[34m▀\u001b[0m\u001b[34m▄\u001b[0m\u001b[34m▄\u001b[0m\u001b[32m▐\u001b[0m\u001b[32m▄\u001b[0m\u001b[32m▄\u001b[0m\u001b[32m▄\u001b[0m\u001b[32m▞\u001b[0m\u001b[32m▀\u001b[0m                  \u001b[35m▝\u001b[0m\u001b[32m▙\u001b[0m\u001b[32m▖\u001b[0m        \u001b[35m▝\u001b[0m\u001b[32m▞\u001b[0m\u001b[32m▘\u001b[0m  │ \n",
      "││                                             \u001b[32m▝\u001b[0m\u001b[32m▖\u001b[0m      \u001b[35m▗\u001b[0m\u001b[32m▐\u001b[0m    │ \n",
      "││▁▁▁▁▁▁▁▁▁▁▁▁▁▁▁▁▁▁▁▁▁▁▁▁▁▁▁▁▁▁▁▁▁▁▁▁▁▁▁▁▁▁▁▁▁▁\u001b[32m▝\u001b[0m\u001b[32m▖\u001b[0m▁▁▁▁\u001b[32m▗\u001b[0m\u001b[32m▞\u001b[0m\u001b[32m▘\u001b[0m▁▁▁▁│ 0\n",
      "││                                               \u001b[32m▝\u001b[0m\u001b[32m▄\u001b[0m\u001b[32m▄\u001b[0m\u001b[32m▄\u001b[0m\u001b[32m▄\u001b[0m\u001b[32m▀\u001b[0m      │ \n",
      "└────────────────────────────────────────────────────────────┘\n",
      " 0                  50                  100\n",
      "                          \u001b[34m██\u001b[0m Input\n",
      "                          \u001b[35m██\u001b[0m Target\n",
      "                          \u001b[32m██\u001b[0m Output\n"
     ]
    },
    {
     "name": "stderr",
     "output_type": "stream",
     "text": [
      "100%|██████████| 107/107 [00:03<00:00, 27.56it/s]\n",
      "100%|██████████| 638/638 [01:07<00:00,  9.47it/s]\n",
      "100%|██████████| 107/107 [00:04<00:00, 25.37it/s]\n",
      "100%|██████████| 638/638 [01:08<00:00,  9.29it/s]\n",
      "100%|██████████| 107/107 [00:03<00:00, 27.12it/s]\n",
      "100%|██████████| 638/638 [01:07<00:00,  9.40it/s]\n",
      "  2%|▏         | 2/107 [00:00<00:06, 17.03it/s]"
     ]
    },
    {
     "name": "stdout",
     "output_type": "stream",
     "text": [
      "           Epoch: 15, Test Loss: 0.0019 - Example 0\n",
      "┌────────────────────────────────────────────────────────────┐\n",
      "│\u001b[34m▛\u001b[0m\u001b[34m▚\u001b[0m\u001b[34m▄\u001b[0m\u001b[34m▄\u001b[0m\u001b[34m▄\u001b[0m\u001b[34m▄\u001b[0m\u001b[34m▖\u001b[0m                     \u001b[32m▐\u001b[0m\u001b[32m▀\u001b[0m\u001b[32m▀\u001b[0m\u001b[32m▀\u001b[0m\u001b[32m▀\u001b[0m\u001b[32m▚\u001b[0m\u001b[32m▖\u001b[0m                         │ \n",
      "││     \u001b[34m▚\u001b[0m                   \u001b[32m▗\u001b[0m\u001b[32m▞\u001b[0m\u001b[32m▘\u001b[0m     \u001b[32m▝\u001b[0m\u001b[32m▀\u001b[0m\u001b[32m▖\u001b[0m                       │ 1\n",
      "││      \u001b[34m▀\u001b[0m\u001b[34m▖\u001b[0m                \u001b[35m▝\u001b[0m\u001b[32m▘\u001b[0m         \u001b[32m▝\u001b[0m\u001b[32m▄\u001b[0m                   \u001b[32m▗\u001b[0m \u001b[32m▄\u001b[0m│ \n",
      "││       \u001b[34m▘\u001b[0m\u001b[34m▖\u001b[0m              \u001b[35m▗\u001b[0m\u001b[32m▞\u001b[0m           \u001b[35m▝\u001b[0m\u001b[32m▀\u001b[0m\u001b[32m▌\u001b[0m               \u001b[32m▗\u001b[0m\u001b[32m▄\u001b[0m\u001b[32m▞\u001b[0m\u001b[32m▀\u001b[0m\u001b[35m▝\u001b[0m│ \n",
      "││       \u001b[34m▝\u001b[0m\u001b[34m▝\u001b[0m\u001b[34m▄\u001b[0m            \u001b[35m▗\u001b[0m\u001b[32m▞\u001b[0m              \u001b[32m▝\u001b[0m\u001b[32m▄\u001b[0m\u001b[32m▖\u001b[0m            \u001b[35m▗\u001b[0m\u001b[32m▖\u001b[0m    │ \n",
      "││          \u001b[34m▚\u001b[0m          \u001b[35m▗\u001b[0m\u001b[32m▞\u001b[0m                 \u001b[32m▚\u001b[0m          \u001b[32m▗\u001b[0m\u001b[32m▞\u001b[0m\u001b[32m▀\u001b[0m     │ 0\n",
      "││           \u001b[34m▚\u001b[0m         \u001b[32m▝\u001b[0m                  \u001b[35m▝\u001b[0m\u001b[32m▀\u001b[0m\u001b[32m▌\u001b[0m     \u001b[35m▗\u001b[0m\u001b[32m▗\u001b[0m\u001b[32m▟\u001b[0m\u001b[32m▘\u001b[0m       │ \n",
      "││           \u001b[34m▝\u001b[0m\u001b[34m▖\u001b[0m      \u001b[32m▄\u001b[0m \u001b[32m▝\u001b[0m                    \u001b[32m▝\u001b[0m\u001b[32m▀\u001b[0m\u001b[32m▛\u001b[0m\u001b[32m▚\u001b[0m\u001b[32m▄\u001b[0m\u001b[32m▄\u001b[0m\u001b[32m▞\u001b[0m\u001b[32m▘\u001b[0m         │ \n",
      "││            \u001b[34m▗\u001b[0m\u001b[34m▄\u001b[0m    \u001b[34m▗\u001b[0m\u001b[35m▝\u001b[0m\u001b[32m▀\u001b[0m\u001b[32m▘\u001b[0m                                     │ \n",
      "││              \u001b[34m▀\u001b[0m\u001b[34m▄\u001b[0m\u001b[34m▄\u001b[0m\u001b[34m▄\u001b[0m\u001b[34m▘\u001b[0m                                        │ \n",
      "└────────────────────────────────────────────────────────────┘\n",
      " 0                  50                  100\n",
      "                          \u001b[34m██\u001b[0m Input\n",
      "                          \u001b[35m██\u001b[0m Target\n",
      "                          \u001b[32m██\u001b[0m Output\n",
      "           Epoch: 15, Test Loss: 0.0020 - Example 1\n",
      "┌────────────────────────────────────────────────────────────┐\n",
      "││              \u001b[34m▄\u001b[0m\u001b[34m▀\u001b[0m\u001b[34m▀\u001b[0m\u001b[34m▀\u001b[0m\u001b[34m▀\u001b[0m\u001b[32m▗\u001b[0m\u001b[32m▖\u001b[0m                                      │ \n",
      "││            \u001b[34m▄\u001b[0m\u001b[34m▞\u001b[0m      \u001b[32m▝\u001b[0m\u001b[32m▀\u001b[0m\u001b[32m▖\u001b[0m                                    │ 1\n",
      "││           \u001b[34m▝\u001b[0m       \u001b[32m▘\u001b[0m  \u001b[32m▝\u001b[0m\u001b[32m▄\u001b[0m                    \u001b[32m▖\u001b[0m\u001b[32m▄\u001b[0m\u001b[32m▄\u001b[0m            │ \n",
      "││           \u001b[34m▞\u001b[0m           \u001b[35m▝\u001b[0m\u001b[32m▀\u001b[0m\u001b[32m▚\u001b[0m               \u001b[32m▗\u001b[0m\u001b[32m▄\u001b[0m\u001b[32m▞\u001b[0m\u001b[32m▀\u001b[0m \u001b[35m▀\u001b[0m\u001b[32m▀\u001b[0m\u001b[32m▀\u001b[0m\u001b[32m▄\u001b[0m\u001b[32m▄\u001b[0m\u001b[32m▖\u001b[0m       │ \n",
      "││         \u001b[34m▗\u001b[0m\u001b[34m▀\u001b[0m              \u001b[32m▝\u001b[0m\u001b[32m▄\u001b[0m\u001b[32m▖\u001b[0m            \u001b[35m▗\u001b[0m\u001b[32m▖\u001b[0m\u001b[35m▘\u001b[0m       \u001b[35m▝\u001b[0m\u001b[32m▝\u001b[0m\u001b[32m▀\u001b[0m\u001b[32m▚\u001b[0m\u001b[32m▄\u001b[0m    │ \n",
      "││         \u001b[34m▞\u001b[0m                 \u001b[32m▐\u001b[0m          \u001b[32m▗\u001b[0m\u001b[32m▞\u001b[0m\u001b[32m▀\u001b[0m             \u001b[32m▝\u001b[0m\u001b[32m▄\u001b[0m   │ 0\n",
      "││        \u001b[34m▞\u001b[0m                  \u001b[35m▝\u001b[0m\u001b[32m▀\u001b[0m\u001b[32m▚\u001b[0m      \u001b[32m▗\u001b[0m\u001b[32m▄\u001b[0m\u001b[32m▘\u001b[0m                \u001b[35m▝\u001b[0m\u001b[32m▚\u001b[0m  │ \n",
      "│\u001b[34m▌\u001b[0m      \u001b[34m▄\u001b[0m                      \u001b[35m▝\u001b[0m\u001b[32m▀\u001b[0m\u001b[32m▞\u001b[0m\u001b[32m▚\u001b[0m\u001b[32m▄\u001b[0m\u001b[32m▄\u001b[0m\u001b[32m▄\u001b[0m\u001b[32m▘\u001b[0m                   \u001b[32m▝\u001b[0m\u001b[32m▚\u001b[0m\u001b[32m▖\u001b[0m│ \n",
      "│\u001b[34m▗\u001b[0m\u001b[34m▄\u001b[0m\u001b[34m▖\u001b[0m   \u001b[34m▗\u001b[0m \u001b[34m▀\u001b[0m                                                  \u001b[32m▝\u001b[0m│ \n",
      "││ \u001b[34m▀\u001b[0m\u001b[34m▄\u001b[0m\u001b[34m▄\u001b[0m\u001b[34m▄\u001b[0m\u001b[34m▌\u001b[0m                                                    \u001b[35m▝\u001b[0m│ \n",
      "└────────────────────────────────────────────────────────────┘\n",
      " 0                  50                  100\n",
      "                          \u001b[34m██\u001b[0m Input\n",
      "                          \u001b[35m██\u001b[0m Target\n",
      "                          \u001b[32m██\u001b[0m Output\n",
      "           Epoch: 15, Test Loss: 0.0022 - Example 2\n",
      "┌────────────────────────────────────────────────────────────┐\n",
      "││ \u001b[34m▞\u001b[0m\u001b[34m▀\u001b[0m\u001b[34m▀\u001b[0m\u001b[34m▀\u001b[0m\u001b[34m▀\u001b[0m\u001b[34m▚\u001b[0m\u001b[34m▄\u001b[0m                                                   │ \n",
      "│\u001b[34m▄\u001b[0m\u001b[34m▞\u001b[0m       \u001b[34m▀\u001b[0m\u001b[34m▄\u001b[0m                                                 │ 1\n",
      "││         \u001b[34m▝\u001b[0m\u001b[34m▚\u001b[0m\u001b[34m▄\u001b[0m                  \u001b[32m▗\u001b[0m\u001b[32m▄\u001b[0m\u001b[32m▞\u001b[0m\u001b[32m▄\u001b[0m\u001b[32m▄\u001b[0m\u001b[32m▄\u001b[0m                      \u001b[32m▗\u001b[0m│ \n",
      "││            \u001b[34m▚\u001b[0m               \u001b[32m▗\u001b[0m\u001b[32m▄\u001b[0m\u001b[32m▘\u001b[0m    \u001b[35m▀\u001b[0m\u001b[32m▀\u001b[0m\u001b[32m▀\u001b[0m\u001b[32m▚\u001b[0m\u001b[32m▄\u001b[0m\u001b[32m▖\u001b[0m                \u001b[35m▗\u001b[0m\u001b[32m▞\u001b[0m│ \n",
      "││             \u001b[34m▀\u001b[0m\u001b[34m▖\u001b[0m           \u001b[32m▗\u001b[0m\u001b[32m▄\u001b[0m\u001b[32m▘\u001b[0m           \u001b[32m▝\u001b[0m\u001b[32m▀\u001b[0m\u001b[32m▖\u001b[0m             \u001b[35m▗\u001b[0m\u001b[32m▞\u001b[0m │ \n",
      "││              \u001b[34m▝\u001b[0m\u001b[34m▜\u001b[0m   \u001b[32m▘\u001b[0m    \u001b[35m▄\u001b[0m\u001b[32m▟\u001b[0m\u001b[32m▘\u001b[0m               \u001b[32m▀\u001b[0m\u001b[32m▚\u001b[0m           \u001b[35m▗\u001b[0m\u001b[32m▐\u001b[0m  │ \n",
      "││                \u001b[34m▀\u001b[0m\u001b[34m▄\u001b[0m\u001b[34m▄\u001b[0m\u001b[32m▐\u001b[0m\u001b[32m▄\u001b[0m\u001b[32m▄\u001b[0m\u001b[32m▄\u001b[0m\u001b[32m▞\u001b[0m\u001b[32m▀\u001b[0m                  \u001b[35m▝\u001b[0m\u001b[32m▙\u001b[0m\u001b[32m▖\u001b[0m        \u001b[35m▝\u001b[0m\u001b[32m▞\u001b[0m\u001b[32m▘\u001b[0m  │ \n",
      "││                                             \u001b[32m▝\u001b[0m\u001b[32m▖\u001b[0m      \u001b[35m▗\u001b[0m\u001b[32m▐\u001b[0m    │ \n",
      "││▁▁▁▁▁▁▁▁▁▁▁▁▁▁▁▁▁▁▁▁▁▁▁▁▁▁▁▁▁▁▁▁▁▁▁▁▁▁▁▁▁▁▁▁▁▁\u001b[32m▝\u001b[0m\u001b[32m▖\u001b[0m▁▁▁▁\u001b[32m▗\u001b[0m\u001b[32m▞\u001b[0m\u001b[32m▘\u001b[0m▁▁▁▁│ 0\n",
      "││                                               \u001b[32m▝\u001b[0m\u001b[32m▄\u001b[0m\u001b[32m▄\u001b[0m\u001b[32m▄\u001b[0m\u001b[32m▄\u001b[0m\u001b[32m▀\u001b[0m      │ \n",
      "└────────────────────────────────────────────────────────────┘\n",
      " 0                  50                  100\n",
      "                          \u001b[34m██\u001b[0m Input\n",
      "                          \u001b[35m██\u001b[0m Target\n",
      "                          \u001b[32m██\u001b[0m Output\n"
     ]
    },
    {
     "name": "stderr",
     "output_type": "stream",
     "text": [
      "100%|██████████| 107/107 [00:03<00:00, 29.77it/s]\n",
      "100%|██████████| 638/638 [01:08<00:00,  9.33it/s]\n",
      "100%|██████████| 107/107 [00:03<00:00, 30.69it/s]\n",
      "100%|██████████| 638/638 [01:09<00:00,  9.23it/s]\n",
      "100%|██████████| 107/107 [00:03<00:00, 29.61it/s]\n",
      "100%|██████████| 638/638 [01:11<00:00,  8.98it/s]\n",
      "  2%|▏         | 2/107 [00:00<00:06, 15.73it/s]"
     ]
    },
    {
     "name": "stdout",
     "output_type": "stream",
     "text": [
      "           Epoch: 18, Test Loss: 0.0019 - Example 0\n",
      "┌────────────────────────────────────────────────────────────┐\n",
      "│\u001b[34m▛\u001b[0m\u001b[34m▚\u001b[0m\u001b[34m▄\u001b[0m\u001b[34m▄\u001b[0m\u001b[34m▄\u001b[0m\u001b[34m▄\u001b[0m\u001b[34m▖\u001b[0m                     \u001b[32m▗\u001b[0m\u001b[32m▀\u001b[0m\u001b[32m▀\u001b[0m\u001b[32m▀\u001b[0m\u001b[32m▀\u001b[0m\u001b[32m▚\u001b[0m\u001b[32m▖\u001b[0m                         │ \n",
      "││     \u001b[34m▚\u001b[0m                   \u001b[32m▗\u001b[0m\u001b[32m▞\u001b[0m\u001b[32m▘\u001b[0m     \u001b[32m▝\u001b[0m\u001b[32m▀\u001b[0m\u001b[32m▖\u001b[0m                       │ 1\n",
      "││      \u001b[34m▀\u001b[0m\u001b[34m▖\u001b[0m                \u001b[35m▝\u001b[0m\u001b[32m▘\u001b[0m         \u001b[32m▝\u001b[0m\u001b[32m▄\u001b[0m                   \u001b[32m▗\u001b[0m \u001b[32m▄\u001b[0m│ \n",
      "││       \u001b[34m▘\u001b[0m\u001b[34m▖\u001b[0m              \u001b[35m▗\u001b[0m\u001b[32m▞\u001b[0m           \u001b[35m▝\u001b[0m\u001b[32m▀\u001b[0m\u001b[32m▌\u001b[0m               \u001b[32m▗\u001b[0m\u001b[32m▄\u001b[0m\u001b[32m▞\u001b[0m\u001b[32m▀\u001b[0m\u001b[35m▝\u001b[0m│ \n",
      "││       \u001b[34m▝\u001b[0m\u001b[34m▝\u001b[0m\u001b[34m▄\u001b[0m            \u001b[35m▗\u001b[0m\u001b[32m▞\u001b[0m              \u001b[32m▝\u001b[0m\u001b[32m▄\u001b[0m\u001b[32m▖\u001b[0m            \u001b[35m▗\u001b[0m\u001b[32m▖\u001b[0m    │ \n",
      "││          \u001b[34m▚\u001b[0m          \u001b[35m▗\u001b[0m\u001b[32m▞\u001b[0m                 \u001b[32m▚\u001b[0m          \u001b[32m▗\u001b[0m\u001b[32m▞\u001b[0m\u001b[32m▀\u001b[0m     │ 0\n",
      "││           \u001b[34m▚\u001b[0m         \u001b[32m▝\u001b[0m                  \u001b[35m▝\u001b[0m\u001b[32m▀\u001b[0m\u001b[32m▌\u001b[0m     \u001b[35m▗\u001b[0m\u001b[32m▗\u001b[0m\u001b[32m▟\u001b[0m\u001b[32m▘\u001b[0m       │ \n",
      "││           \u001b[34m▝\u001b[0m\u001b[34m▖\u001b[0m      \u001b[32m▄\u001b[0m \u001b[32m▝\u001b[0m                    \u001b[32m▝\u001b[0m\u001b[32m▀\u001b[0m\u001b[32m▛\u001b[0m\u001b[32m▚\u001b[0m\u001b[32m▄\u001b[0m\u001b[32m▄\u001b[0m\u001b[32m▞\u001b[0m\u001b[32m▘\u001b[0m         │ \n",
      "││            \u001b[34m▗\u001b[0m\u001b[34m▄\u001b[0m    \u001b[34m▗\u001b[0m\u001b[35m▝\u001b[0m\u001b[32m▀\u001b[0m\u001b[32m▘\u001b[0m                                     │ \n",
      "││              \u001b[34m▀\u001b[0m\u001b[34m▄\u001b[0m\u001b[34m▄\u001b[0m\u001b[34m▄\u001b[0m\u001b[34m▘\u001b[0m                                        │ \n",
      "└────────────────────────────────────────────────────────────┘\n",
      " 0                  50                  100\n",
      "                          \u001b[34m██\u001b[0m Input\n",
      "                          \u001b[35m██\u001b[0m Target\n",
      "                          \u001b[32m██\u001b[0m Output\n",
      "           Epoch: 18, Test Loss: 0.0020 - Example 1\n",
      "┌────────────────────────────────────────────────────────────┐\n",
      "││              \u001b[34m▄\u001b[0m\u001b[34m▀\u001b[0m\u001b[34m▀\u001b[0m\u001b[34m▀\u001b[0m\u001b[34m▀\u001b[0m\u001b[32m▗\u001b[0m\u001b[32m▖\u001b[0m                                      │ \n",
      "││            \u001b[34m▄\u001b[0m\u001b[34m▞\u001b[0m      \u001b[32m▝\u001b[0m\u001b[32m▀\u001b[0m\u001b[32m▖\u001b[0m                                    │ 1\n",
      "││           \u001b[34m▝\u001b[0m       \u001b[32m▘\u001b[0m  \u001b[32m▝\u001b[0m\u001b[32m▄\u001b[0m                    \u001b[32m▖\u001b[0m\u001b[32m▄\u001b[0m\u001b[32m▄\u001b[0m            │ \n",
      "││           \u001b[34m▞\u001b[0m           \u001b[35m▝\u001b[0m\u001b[32m▀\u001b[0m\u001b[32m▚\u001b[0m               \u001b[32m▗\u001b[0m\u001b[32m▄\u001b[0m\u001b[32m▞\u001b[0m\u001b[32m▀\u001b[0m \u001b[35m▀\u001b[0m\u001b[32m▀\u001b[0m\u001b[32m▀\u001b[0m\u001b[32m▄\u001b[0m\u001b[32m▄\u001b[0m\u001b[32m▖\u001b[0m       │ \n",
      "││         \u001b[34m▗\u001b[0m\u001b[34m▀\u001b[0m              \u001b[32m▝\u001b[0m\u001b[32m▄\u001b[0m\u001b[32m▖\u001b[0m            \u001b[35m▗\u001b[0m\u001b[32m▖\u001b[0m\u001b[35m▘\u001b[0m       \u001b[35m▝\u001b[0m\u001b[32m▝\u001b[0m\u001b[32m▀\u001b[0m\u001b[32m▚\u001b[0m\u001b[32m▄\u001b[0m    │ \n",
      "││         \u001b[34m▞\u001b[0m                 \u001b[32m▐\u001b[0m          \u001b[32m▗\u001b[0m\u001b[32m▞\u001b[0m\u001b[32m▀\u001b[0m             \u001b[32m▝\u001b[0m\u001b[32m▄\u001b[0m   │ 0\n",
      "││        \u001b[34m▞\u001b[0m                  \u001b[35m▝\u001b[0m\u001b[32m▀\u001b[0m\u001b[32m▚\u001b[0m      \u001b[32m▗\u001b[0m\u001b[32m▄\u001b[0m\u001b[32m▘\u001b[0m                \u001b[35m▝\u001b[0m\u001b[32m▚\u001b[0m  │ \n",
      "│\u001b[34m▌\u001b[0m      \u001b[34m▄\u001b[0m                      \u001b[35m▝\u001b[0m\u001b[32m▀\u001b[0m\u001b[32m▞\u001b[0m\u001b[32m▚\u001b[0m\u001b[32m▄\u001b[0m\u001b[32m▄\u001b[0m\u001b[32m▄\u001b[0m\u001b[32m▘\u001b[0m                   \u001b[32m▝\u001b[0m\u001b[32m▚\u001b[0m\u001b[32m▖\u001b[0m│ \n",
      "│\u001b[34m▗\u001b[0m\u001b[34m▄\u001b[0m\u001b[34m▖\u001b[0m   \u001b[34m▗\u001b[0m \u001b[34m▀\u001b[0m                                                  \u001b[32m▝\u001b[0m│ \n",
      "││ \u001b[34m▀\u001b[0m\u001b[34m▄\u001b[0m\u001b[34m▄\u001b[0m\u001b[34m▄\u001b[0m\u001b[34m▌\u001b[0m                                                    \u001b[35m▝\u001b[0m│ \n",
      "└────────────────────────────────────────────────────────────┘\n",
      " 0                  50                  100\n",
      "                          \u001b[34m██\u001b[0m Input\n",
      "                          \u001b[35m██\u001b[0m Target\n",
      "                          \u001b[32m██\u001b[0m Output\n",
      "           Epoch: 18, Test Loss: 0.0022 - Example 2\n",
      "┌────────────────────────────────────────────────────────────┐\n",
      "││ \u001b[34m▞\u001b[0m\u001b[34m▀\u001b[0m\u001b[34m▀\u001b[0m\u001b[34m▀\u001b[0m\u001b[34m▀\u001b[0m\u001b[34m▚\u001b[0m\u001b[34m▄\u001b[0m                                                   │ \n",
      "│\u001b[34m▄\u001b[0m\u001b[34m▞\u001b[0m       \u001b[34m▀\u001b[0m\u001b[34m▄\u001b[0m                                                 │ 1\n",
      "││         \u001b[34m▝\u001b[0m\u001b[34m▚\u001b[0m\u001b[34m▄\u001b[0m                  \u001b[32m▗\u001b[0m\u001b[32m▄\u001b[0m\u001b[32m▞\u001b[0m\u001b[32m▄\u001b[0m\u001b[32m▄\u001b[0m\u001b[32m▄\u001b[0m                      \u001b[32m▗\u001b[0m│ \n",
      "││            \u001b[34m▚\u001b[0m               \u001b[32m▗\u001b[0m\u001b[32m▄\u001b[0m\u001b[32m▘\u001b[0m    \u001b[35m▀\u001b[0m\u001b[32m▀\u001b[0m\u001b[32m▀\u001b[0m\u001b[32m▙\u001b[0m\u001b[32m▄\u001b[0m\u001b[32m▖\u001b[0m                \u001b[35m▗\u001b[0m\u001b[32m▞\u001b[0m│ \n",
      "││             \u001b[34m▀\u001b[0m\u001b[34m▖\u001b[0m           \u001b[32m▗\u001b[0m\u001b[32m▄\u001b[0m\u001b[32m▘\u001b[0m           \u001b[32m▝\u001b[0m\u001b[32m▀\u001b[0m\u001b[32m▖\u001b[0m             \u001b[35m▗\u001b[0m\u001b[32m▞\u001b[0m │ \n",
      "││              \u001b[34m▝\u001b[0m\u001b[34m▜\u001b[0m   \u001b[32m▘\u001b[0m    \u001b[35m▄\u001b[0m\u001b[32m▟\u001b[0m\u001b[32m▘\u001b[0m               \u001b[32m▀\u001b[0m\u001b[32m▚\u001b[0m           \u001b[35m▗\u001b[0m\u001b[32m▐\u001b[0m  │ \n",
      "││                \u001b[34m▀\u001b[0m\u001b[34m▄\u001b[0m\u001b[34m▄\u001b[0m\u001b[32m▐\u001b[0m\u001b[32m▄\u001b[0m\u001b[32m▄\u001b[0m\u001b[32m▄\u001b[0m\u001b[32m▞\u001b[0m\u001b[32m▀\u001b[0m                  \u001b[35m▝\u001b[0m\u001b[32m▙\u001b[0m\u001b[32m▖\u001b[0m        \u001b[35m▝\u001b[0m\u001b[32m▞\u001b[0m\u001b[32m▘\u001b[0m  │ \n",
      "││                                             \u001b[32m▝\u001b[0m\u001b[32m▖\u001b[0m      \u001b[35m▗\u001b[0m\u001b[32m▐\u001b[0m    │ \n",
      "││▁▁▁▁▁▁▁▁▁▁▁▁▁▁▁▁▁▁▁▁▁▁▁▁▁▁▁▁▁▁▁▁▁▁▁▁▁▁▁▁▁▁▁▁▁▁\u001b[32m▝\u001b[0m\u001b[32m▖\u001b[0m▁▁▁▁\u001b[32m▗\u001b[0m\u001b[32m▞\u001b[0m\u001b[32m▘\u001b[0m▁▁▁▁│ 0\n",
      "││                                               \u001b[32m▝\u001b[0m\u001b[32m▄\u001b[0m\u001b[32m▄\u001b[0m\u001b[32m▄\u001b[0m\u001b[32m▄\u001b[0m\u001b[32m▀\u001b[0m      │ \n",
      "└────────────────────────────────────────────────────────────┘\n",
      " 0                  50                  100\n",
      "                          \u001b[34m██\u001b[0m Input\n",
      "                          \u001b[35m██\u001b[0m Target\n",
      "                          \u001b[32m██\u001b[0m Output\n"
     ]
    },
    {
     "name": "stderr",
     "output_type": "stream",
     "text": [
      "100%|██████████| 107/107 [00:03<00:00, 28.77it/s]\n",
      "100%|██████████| 638/638 [01:10<00:00,  9.08it/s]\n",
      "100%|██████████| 107/107 [00:03<00:00, 30.40it/s]\n",
      "100%|██████████| 638/638 [01:09<00:00,  9.18it/s]\n",
      "100%|██████████| 107/107 [00:03<00:00, 30.43it/s]\n",
      "100%|██████████| 638/638 [01:09<00:00,  9.20it/s]\n",
      "  4%|▎         | 4/107 [00:00<00:05, 17.37it/s]"
     ]
    },
    {
     "name": "stdout",
     "output_type": "stream",
     "text": [
      "           Epoch: 21, Test Loss: 0.0019 - Example 0\n",
      "┌────────────────────────────────────────────────────────────┐\n",
      "│\u001b[34m▛\u001b[0m\u001b[34m▚\u001b[0m\u001b[34m▄\u001b[0m\u001b[34m▄\u001b[0m\u001b[34m▄\u001b[0m\u001b[34m▄\u001b[0m\u001b[34m▖\u001b[0m                     \u001b[32m▗\u001b[0m\u001b[32m▀\u001b[0m\u001b[32m▀\u001b[0m\u001b[32m▀\u001b[0m\u001b[32m▀\u001b[0m\u001b[32m▙\u001b[0m\u001b[32m▖\u001b[0m                         │ \n",
      "││     \u001b[34m▚\u001b[0m                   \u001b[32m▗\u001b[0m\u001b[32m▞\u001b[0m\u001b[32m▘\u001b[0m     \u001b[32m▝\u001b[0m\u001b[32m▀\u001b[0m\u001b[32m▖\u001b[0m                       │ 1\n",
      "││      \u001b[34m▀\u001b[0m\u001b[34m▖\u001b[0m                \u001b[35m▝\u001b[0m\u001b[32m▘\u001b[0m         \u001b[32m▝\u001b[0m\u001b[32m▄\u001b[0m                   \u001b[32m▗\u001b[0m \u001b[32m▄\u001b[0m│ \n",
      "││       \u001b[34m▘\u001b[0m\u001b[34m▖\u001b[0m              \u001b[35m▗\u001b[0m\u001b[32m▞\u001b[0m           \u001b[35m▝\u001b[0m\u001b[32m▀\u001b[0m\u001b[32m▌\u001b[0m               \u001b[32m▗\u001b[0m\u001b[32m▄\u001b[0m\u001b[32m▞\u001b[0m\u001b[32m▀\u001b[0m\u001b[35m▝\u001b[0m│ \n",
      "││       \u001b[34m▝\u001b[0m\u001b[34m▝\u001b[0m\u001b[34m▄\u001b[0m            \u001b[35m▗\u001b[0m\u001b[32m▞\u001b[0m              \u001b[32m▝\u001b[0m\u001b[32m▄\u001b[0m\u001b[32m▖\u001b[0m            \u001b[35m▗\u001b[0m\u001b[32m▖\u001b[0m    │ \n",
      "││          \u001b[34m▚\u001b[0m          \u001b[35m▗\u001b[0m\u001b[32m▞\u001b[0m                 \u001b[32m▄\u001b[0m          \u001b[32m▗\u001b[0m\u001b[32m▞\u001b[0m\u001b[32m▀\u001b[0m     │ 0\n",
      "││           \u001b[34m▚\u001b[0m         \u001b[32m▝\u001b[0m                  \u001b[35m▝\u001b[0m\u001b[32m▀\u001b[0m\u001b[32m▌\u001b[0m     \u001b[35m▗\u001b[0m\u001b[32m▗\u001b[0m\u001b[32m▄\u001b[0m\u001b[32m▘\u001b[0m       │ \n",
      "││           \u001b[34m▝\u001b[0m\u001b[34m▖\u001b[0m      \u001b[32m▄\u001b[0m \u001b[32m▝\u001b[0m                    \u001b[32m▝\u001b[0m\u001b[32m▀\u001b[0m\u001b[32m▛\u001b[0m\u001b[32m▚\u001b[0m\u001b[32m▄\u001b[0m\u001b[32m▄\u001b[0m\u001b[32m▞\u001b[0m\u001b[32m▘\u001b[0m         │ \n",
      "││            \u001b[34m▗\u001b[0m\u001b[34m▄\u001b[0m    \u001b[34m▗\u001b[0m\u001b[35m▝\u001b[0m\u001b[32m▀\u001b[0m\u001b[32m▘\u001b[0m                                     │ \n",
      "││              \u001b[34m▀\u001b[0m\u001b[34m▄\u001b[0m\u001b[34m▄\u001b[0m\u001b[34m▄\u001b[0m\u001b[34m▘\u001b[0m                                        │ \n",
      "└────────────────────────────────────────────────────────────┘\n",
      " 0                  50                  100\n",
      "                          \u001b[34m██\u001b[0m Input\n",
      "                          \u001b[35m██\u001b[0m Target\n",
      "                          \u001b[32m██\u001b[0m Output\n",
      "           Epoch: 21, Test Loss: 0.0019 - Example 1\n",
      "┌────────────────────────────────────────────────────────────┐\n",
      "││              \u001b[34m▄\u001b[0m\u001b[34m▀\u001b[0m\u001b[34m▀\u001b[0m\u001b[34m▀\u001b[0m\u001b[34m▀\u001b[0m\u001b[32m▗\u001b[0m\u001b[32m▖\u001b[0m                                      │ \n",
      "││            \u001b[34m▄\u001b[0m\u001b[34m▞\u001b[0m      \u001b[32m▝\u001b[0m\u001b[32m▀\u001b[0m\u001b[32m▖\u001b[0m                                    │ 1\n",
      "││           \u001b[34m▝\u001b[0m       \u001b[32m▘\u001b[0m  \u001b[32m▝\u001b[0m\u001b[32m▄\u001b[0m                    \u001b[32m▖\u001b[0m\u001b[32m▄\u001b[0m\u001b[32m▄\u001b[0m            │ \n",
      "││           \u001b[34m▞\u001b[0m           \u001b[35m▝\u001b[0m\u001b[32m▀\u001b[0m\u001b[32m▚\u001b[0m               \u001b[32m▗\u001b[0m\u001b[32m▄\u001b[0m\u001b[32m▞\u001b[0m\u001b[32m▀\u001b[0m \u001b[35m▀\u001b[0m\u001b[32m▀\u001b[0m\u001b[32m▀\u001b[0m\u001b[32m▄\u001b[0m\u001b[32m▄\u001b[0m\u001b[32m▖\u001b[0m       │ \n",
      "││         \u001b[34m▗\u001b[0m\u001b[34m▀\u001b[0m              \u001b[32m▝\u001b[0m\u001b[32m▄\u001b[0m\u001b[32m▖\u001b[0m            \u001b[35m▗\u001b[0m\u001b[32m▖\u001b[0m\u001b[35m▘\u001b[0m       \u001b[35m▝\u001b[0m\u001b[32m▝\u001b[0m\u001b[32m▀\u001b[0m\u001b[32m▚\u001b[0m\u001b[32m▄\u001b[0m    │ \n",
      "││         \u001b[34m▞\u001b[0m                 \u001b[32m▗\u001b[0m          \u001b[32m▗\u001b[0m\u001b[32m▞\u001b[0m\u001b[32m▀\u001b[0m             \u001b[32m▝\u001b[0m\u001b[32m▄\u001b[0m   │ 0\n",
      "││        \u001b[34m▞\u001b[0m                  \u001b[35m▝\u001b[0m\u001b[32m▀\u001b[0m\u001b[32m▚\u001b[0m      \u001b[32m▗\u001b[0m\u001b[32m▄\u001b[0m\u001b[32m▌\u001b[0m                \u001b[35m▝\u001b[0m\u001b[32m▚\u001b[0m  │ \n",
      "│\u001b[34m▌\u001b[0m      \u001b[34m▄\u001b[0m                      \u001b[35m▝\u001b[0m\u001b[32m▀\u001b[0m\u001b[32m▞\u001b[0m\u001b[32m▚\u001b[0m\u001b[32m▄\u001b[0m\u001b[32m▄\u001b[0m\u001b[32m▄\u001b[0m\u001b[32m▘\u001b[0m                   \u001b[32m▝\u001b[0m\u001b[32m▚\u001b[0m\u001b[32m▖\u001b[0m│ \n",
      "│\u001b[34m▗\u001b[0m\u001b[34m▄\u001b[0m\u001b[34m▖\u001b[0m   \u001b[34m▗\u001b[0m \u001b[34m▀\u001b[0m                                                  \u001b[32m▝\u001b[0m│ \n",
      "││ \u001b[34m▀\u001b[0m\u001b[34m▄\u001b[0m\u001b[34m▄\u001b[0m\u001b[34m▄\u001b[0m\u001b[34m▌\u001b[0m                                                    \u001b[35m▝\u001b[0m│ \n",
      "└────────────────────────────────────────────────────────────┘\n",
      " 0                  50                  100\n",
      "                          \u001b[34m██\u001b[0m Input\n",
      "                          \u001b[35m██\u001b[0m Target\n",
      "                          \u001b[32m██\u001b[0m Output\n",
      "           Epoch: 21, Test Loss: 0.0022 - Example 2\n",
      "┌────────────────────────────────────────────────────────────┐\n",
      "││ \u001b[34m▞\u001b[0m\u001b[34m▀\u001b[0m\u001b[34m▀\u001b[0m\u001b[34m▀\u001b[0m\u001b[34m▀\u001b[0m\u001b[34m▚\u001b[0m\u001b[34m▄\u001b[0m                                                   │ \n",
      "│\u001b[34m▄\u001b[0m\u001b[34m▞\u001b[0m       \u001b[34m▀\u001b[0m\u001b[34m▄\u001b[0m                                                 │ 1\n",
      "││         \u001b[34m▝\u001b[0m\u001b[34m▚\u001b[0m\u001b[34m▄\u001b[0m                  \u001b[32m▗\u001b[0m\u001b[32m▄\u001b[0m\u001b[32m▞\u001b[0m\u001b[32m▄\u001b[0m\u001b[32m▄\u001b[0m\u001b[32m▖\u001b[0m                      \u001b[32m▗\u001b[0m│ \n",
      "││            \u001b[34m▚\u001b[0m               \u001b[32m▗\u001b[0m\u001b[32m▄\u001b[0m\u001b[32m▘\u001b[0m    \u001b[32m▝\u001b[0m\u001b[32m▀\u001b[0m\u001b[32m▀\u001b[0m\u001b[32m▙\u001b[0m\u001b[32m▄\u001b[0m\u001b[32m▖\u001b[0m                \u001b[35m▗\u001b[0m\u001b[32m▞\u001b[0m│ \n",
      "││             \u001b[34m▀\u001b[0m\u001b[34m▖\u001b[0m           \u001b[32m▗\u001b[0m\u001b[32m▄\u001b[0m\u001b[32m▘\u001b[0m           \u001b[32m▝\u001b[0m\u001b[32m▀\u001b[0m\u001b[32m▖\u001b[0m             \u001b[35m▗\u001b[0m\u001b[32m▞\u001b[0m │ \n",
      "││              \u001b[34m▝\u001b[0m\u001b[34m▜\u001b[0m   \u001b[32m▘\u001b[0m    \u001b[35m▄\u001b[0m\u001b[32m▟\u001b[0m\u001b[32m▘\u001b[0m               \u001b[32m▀\u001b[0m\u001b[32m▚\u001b[0m           \u001b[35m▗\u001b[0m\u001b[32m▐\u001b[0m  │ \n",
      "││                \u001b[34m▀\u001b[0m\u001b[34m▄\u001b[0m\u001b[34m▄\u001b[0m\u001b[32m▐\u001b[0m\u001b[32m▄\u001b[0m\u001b[32m▄\u001b[0m\u001b[32m▄\u001b[0m\u001b[32m▞\u001b[0m\u001b[32m▀\u001b[0m                  \u001b[35m▝\u001b[0m\u001b[32m▙\u001b[0m\u001b[32m▖\u001b[0m        \u001b[35m▝\u001b[0m\u001b[32m▞\u001b[0m\u001b[32m▘\u001b[0m  │ \n",
      "││                                             \u001b[32m▝\u001b[0m\u001b[32m▖\u001b[0m      \u001b[35m▗\u001b[0m\u001b[32m▐\u001b[0m    │ \n",
      "││▁▁▁▁▁▁▁▁▁▁▁▁▁▁▁▁▁▁▁▁▁▁▁▁▁▁▁▁▁▁▁▁▁▁▁▁▁▁▁▁▁▁▁▁▁▁\u001b[32m▝\u001b[0m\u001b[32m▖\u001b[0m▁▁▁▁\u001b[32m▗\u001b[0m\u001b[32m▞\u001b[0m\u001b[32m▘\u001b[0m▁▁▁▁│ 0\n",
      "││                                               \u001b[32m▝\u001b[0m\u001b[32m▄\u001b[0m\u001b[32m▄\u001b[0m\u001b[32m▄\u001b[0m\u001b[32m▄\u001b[0m\u001b[32m▀\u001b[0m      │ \n",
      "└────────────────────────────────────────────────────────────┘\n",
      " 0                  50                  100\n",
      "                          \u001b[34m██\u001b[0m Input\n",
      "                          \u001b[35m██\u001b[0m Target\n",
      "                          \u001b[32m██\u001b[0m Output\n"
     ]
    },
    {
     "name": "stderr",
     "output_type": "stream",
     "text": [
      "100%|██████████| 107/107 [00:03<00:00, 29.49it/s]\n",
      "100%|██████████| 638/638 [01:11<00:00,  8.96it/s]\n",
      "100%|██████████| 107/107 [00:04<00:00, 24.91it/s]\n",
      "100%|██████████| 638/638 [01:08<00:00,  9.27it/s]\n",
      "100%|██████████| 107/107 [00:03<00:00, 30.85it/s]\n",
      "100%|██████████| 638/638 [01:07<00:00,  9.40it/s]\n",
      "  2%|▏         | 2/107 [00:00<00:06, 15.98it/s]"
     ]
    },
    {
     "name": "stdout",
     "output_type": "stream",
     "text": [
      "           Epoch: 24, Test Loss: 0.0018 - Example 0\n",
      "┌────────────────────────────────────────────────────────────┐\n",
      "│\u001b[34m▛\u001b[0m\u001b[34m▚\u001b[0m\u001b[34m▄\u001b[0m\u001b[34m▄\u001b[0m\u001b[34m▄\u001b[0m\u001b[34m▄\u001b[0m\u001b[34m▖\u001b[0m                     \u001b[32m▗\u001b[0m\u001b[32m▀\u001b[0m\u001b[32m▀\u001b[0m\u001b[32m▀\u001b[0m\u001b[32m▀\u001b[0m\u001b[32m▙\u001b[0m\u001b[32m▖\u001b[0m                         │ \n",
      "││     \u001b[34m▚\u001b[0m                   \u001b[32m▗\u001b[0m\u001b[32m▞\u001b[0m\u001b[32m▘\u001b[0m     \u001b[32m▝\u001b[0m\u001b[32m▀\u001b[0m\u001b[32m▖\u001b[0m                       │ 1\n",
      "││      \u001b[34m▀\u001b[0m\u001b[34m▖\u001b[0m                \u001b[35m▝\u001b[0m\u001b[32m▘\u001b[0m         \u001b[32m▝\u001b[0m\u001b[32m▄\u001b[0m                   \u001b[32m▗\u001b[0m \u001b[32m▄\u001b[0m│ \n",
      "││       \u001b[34m▘\u001b[0m\u001b[34m▖\u001b[0m              \u001b[35m▗\u001b[0m\u001b[32m▞\u001b[0m           \u001b[35m▝\u001b[0m\u001b[32m▀\u001b[0m\u001b[32m▌\u001b[0m               \u001b[32m▗\u001b[0m\u001b[32m▄\u001b[0m\u001b[32m▞\u001b[0m\u001b[32m▀\u001b[0m\u001b[35m▝\u001b[0m│ \n",
      "││       \u001b[34m▝\u001b[0m\u001b[34m▝\u001b[0m\u001b[34m▄\u001b[0m            \u001b[35m▗\u001b[0m\u001b[32m▞\u001b[0m              \u001b[32m▝\u001b[0m\u001b[32m▄\u001b[0m\u001b[32m▖\u001b[0m            \u001b[35m▗\u001b[0m\u001b[32m▖\u001b[0m    │ \n",
      "││          \u001b[34m▚\u001b[0m          \u001b[35m▗\u001b[0m\u001b[32m▞\u001b[0m                 \u001b[32m▄\u001b[0m          \u001b[32m▗\u001b[0m\u001b[32m▞\u001b[0m\u001b[32m▀\u001b[0m     │ 0\n",
      "││           \u001b[34m▚\u001b[0m         \u001b[32m▝\u001b[0m                  \u001b[35m▝\u001b[0m\u001b[32m▀\u001b[0m\u001b[32m▌\u001b[0m     \u001b[35m▗\u001b[0m\u001b[32m▗\u001b[0m\u001b[32m▄\u001b[0m\u001b[32m▘\u001b[0m       │ \n",
      "││           \u001b[34m▝\u001b[0m\u001b[34m▖\u001b[0m      \u001b[32m▄\u001b[0m \u001b[32m▝\u001b[0m                    \u001b[32m▝\u001b[0m\u001b[32m▀\u001b[0m\u001b[32m▛\u001b[0m\u001b[32m▚\u001b[0m\u001b[32m▄\u001b[0m\u001b[32m▄\u001b[0m\u001b[32m▞\u001b[0m\u001b[32m▘\u001b[0m         │ \n",
      "││            \u001b[34m▗\u001b[0m\u001b[34m▄\u001b[0m    \u001b[34m▗\u001b[0m\u001b[35m▝\u001b[0m\u001b[32m▀\u001b[0m\u001b[32m▘\u001b[0m                                     │ \n",
      "││              \u001b[34m▀\u001b[0m\u001b[34m▄\u001b[0m\u001b[34m▄\u001b[0m\u001b[34m▄\u001b[0m\u001b[34m▘\u001b[0m                                        │ \n",
      "└────────────────────────────────────────────────────────────┘\n",
      " 0                  50                  100\n",
      "                          \u001b[34m██\u001b[0m Input\n",
      "                          \u001b[35m██\u001b[0m Target\n",
      "                          \u001b[32m██\u001b[0m Output\n",
      "           Epoch: 24, Test Loss: 0.0019 - Example 1\n",
      "┌────────────────────────────────────────────────────────────┐\n",
      "││              \u001b[34m▄\u001b[0m\u001b[34m▀\u001b[0m\u001b[34m▀\u001b[0m\u001b[34m▀\u001b[0m\u001b[34m▀\u001b[0m\u001b[32m▗\u001b[0m\u001b[32m▖\u001b[0m                                      │ \n",
      "││            \u001b[34m▄\u001b[0m\u001b[34m▞\u001b[0m      \u001b[32m▝\u001b[0m\u001b[32m▀\u001b[0m\u001b[32m▖\u001b[0m                                    │ 1\n",
      "││           \u001b[34m▝\u001b[0m       \u001b[32m▘\u001b[0m  \u001b[32m▝\u001b[0m\u001b[32m▄\u001b[0m                    \u001b[32m▖\u001b[0m\u001b[32m▄\u001b[0m\u001b[32m▄\u001b[0m            │ \n",
      "││           \u001b[34m▞\u001b[0m           \u001b[35m▝\u001b[0m\u001b[32m▀\u001b[0m\u001b[32m▚\u001b[0m               \u001b[32m▗\u001b[0m\u001b[32m▄\u001b[0m\u001b[32m▞\u001b[0m\u001b[32m▀\u001b[0m \u001b[35m▀\u001b[0m\u001b[32m▀\u001b[0m\u001b[32m▀\u001b[0m\u001b[32m▄\u001b[0m\u001b[32m▄\u001b[0m\u001b[32m▖\u001b[0m       │ \n",
      "││         \u001b[34m▗\u001b[0m\u001b[34m▀\u001b[0m              \u001b[32m▝\u001b[0m\u001b[32m▄\u001b[0m\u001b[32m▖\u001b[0m            \u001b[35m▗\u001b[0m\u001b[32m▖\u001b[0m\u001b[35m▘\u001b[0m       \u001b[35m▝\u001b[0m\u001b[32m▝\u001b[0m\u001b[32m▀\u001b[0m\u001b[32m▚\u001b[0m\u001b[32m▄\u001b[0m    │ \n",
      "││         \u001b[34m▞\u001b[0m                 \u001b[32m▗\u001b[0m          \u001b[32m▗\u001b[0m\u001b[32m▞\u001b[0m\u001b[32m▀\u001b[0m             \u001b[32m▝\u001b[0m\u001b[32m▄\u001b[0m   │ 0\n",
      "││        \u001b[34m▞\u001b[0m                  \u001b[35m▝\u001b[0m\u001b[32m▀\u001b[0m\u001b[32m▚\u001b[0m      \u001b[32m▗\u001b[0m\u001b[32m▄\u001b[0m\u001b[32m▌\u001b[0m                \u001b[35m▝\u001b[0m\u001b[32m▚\u001b[0m  │ \n",
      "│\u001b[34m▌\u001b[0m      \u001b[34m▄\u001b[0m                      \u001b[35m▝\u001b[0m\u001b[32m▀\u001b[0m\u001b[32m▞\u001b[0m\u001b[32m▚\u001b[0m\u001b[32m▄\u001b[0m\u001b[32m▄\u001b[0m\u001b[32m▄\u001b[0m\u001b[32m▘\u001b[0m                   \u001b[32m▝\u001b[0m\u001b[32m▚\u001b[0m\u001b[32m▖\u001b[0m│ \n",
      "│\u001b[34m▗\u001b[0m\u001b[34m▄\u001b[0m\u001b[34m▖\u001b[0m   \u001b[34m▗\u001b[0m \u001b[34m▀\u001b[0m                                                  \u001b[32m▝\u001b[0m│ \n",
      "││ \u001b[34m▀\u001b[0m\u001b[34m▄\u001b[0m\u001b[34m▄\u001b[0m\u001b[34m▄\u001b[0m\u001b[34m▌\u001b[0m                                                    \u001b[35m▝\u001b[0m│ \n",
      "└────────────────────────────────────────────────────────────┘\n",
      " 0                  50                  100\n",
      "                          \u001b[34m██\u001b[0m Input\n",
      "                          \u001b[35m██\u001b[0m Target\n",
      "                          \u001b[32m██\u001b[0m Output\n",
      "           Epoch: 24, Test Loss: 0.0022 - Example 2\n",
      "┌────────────────────────────────────────────────────────────┐\n",
      "││ \u001b[34m▞\u001b[0m\u001b[34m▀\u001b[0m\u001b[34m▀\u001b[0m\u001b[34m▀\u001b[0m\u001b[34m▀\u001b[0m\u001b[34m▚\u001b[0m\u001b[34m▄\u001b[0m                                                   │ \n",
      "│\u001b[34m▄\u001b[0m\u001b[34m▞\u001b[0m       \u001b[34m▀\u001b[0m\u001b[34m▄\u001b[0m                                                 │ 1\n",
      "││         \u001b[34m▝\u001b[0m\u001b[34m▚\u001b[0m\u001b[34m▄\u001b[0m                  \u001b[32m▗\u001b[0m\u001b[32m▄\u001b[0m\u001b[32m▄\u001b[0m\u001b[32m▄\u001b[0m\u001b[32m▄\u001b[0m\u001b[32m▖\u001b[0m                      \u001b[32m▗\u001b[0m│ \n",
      "││            \u001b[34m▚\u001b[0m               \u001b[32m▗\u001b[0m\u001b[32m▄\u001b[0m\u001b[32m▘\u001b[0m    \u001b[32m▝\u001b[0m\u001b[32m▀\u001b[0m\u001b[32m▀\u001b[0m\u001b[32m▙\u001b[0m\u001b[32m▄\u001b[0m\u001b[32m▖\u001b[0m                \u001b[35m▗\u001b[0m\u001b[32m▞\u001b[0m│ \n",
      "││             \u001b[34m▀\u001b[0m\u001b[34m▖\u001b[0m           \u001b[32m▗\u001b[0m\u001b[32m▄\u001b[0m\u001b[32m▘\u001b[0m           \u001b[32m▝\u001b[0m\u001b[32m▀\u001b[0m\u001b[32m▖\u001b[0m             \u001b[35m▗\u001b[0m\u001b[32m▞\u001b[0m │ \n",
      "││              \u001b[34m▝\u001b[0m\u001b[34m▜\u001b[0m   \u001b[32m▘\u001b[0m    \u001b[35m▄\u001b[0m\u001b[32m▟\u001b[0m\u001b[32m▘\u001b[0m               \u001b[32m▀\u001b[0m\u001b[32m▚\u001b[0m           \u001b[35m▗\u001b[0m\u001b[32m▐\u001b[0m  │ \n",
      "││                \u001b[34m▀\u001b[0m\u001b[34m▄\u001b[0m\u001b[34m▄\u001b[0m\u001b[32m▐\u001b[0m\u001b[32m▄\u001b[0m\u001b[32m▄\u001b[0m\u001b[32m▄\u001b[0m\u001b[32m▞\u001b[0m\u001b[32m▀\u001b[0m                  \u001b[35m▝\u001b[0m\u001b[32m▙\u001b[0m\u001b[32m▖\u001b[0m        \u001b[35m▝\u001b[0m\u001b[32m▞\u001b[0m\u001b[32m▘\u001b[0m  │ \n",
      "││                                             \u001b[32m▝\u001b[0m\u001b[32m▖\u001b[0m      \u001b[35m▗\u001b[0m\u001b[32m▐\u001b[0m    │ \n",
      "││▁▁▁▁▁▁▁▁▁▁▁▁▁▁▁▁▁▁▁▁▁▁▁▁▁▁▁▁▁▁▁▁▁▁▁▁▁▁▁▁▁▁▁▁▁▁\u001b[32m▝\u001b[0m\u001b[32m▖\u001b[0m▁▁▁▁\u001b[32m▗\u001b[0m\u001b[32m▞\u001b[0m\u001b[32m▘\u001b[0m▁▁▁▁│ 0\n",
      "││                                               \u001b[32m▝\u001b[0m\u001b[32m▄\u001b[0m\u001b[32m▄\u001b[0m\u001b[32m▄\u001b[0m\u001b[32m▄\u001b[0m\u001b[32m▀\u001b[0m      │ \n",
      "└────────────────────────────────────────────────────────────┘\n",
      " 0                  50                  100\n",
      "                          \u001b[34m██\u001b[0m Input\n",
      "                          \u001b[35m██\u001b[0m Target\n",
      "                          \u001b[32m██\u001b[0m Output\n"
     ]
    },
    {
     "name": "stderr",
     "output_type": "stream",
     "text": [
      "100%|██████████| 107/107 [00:03<00:00, 30.06it/s]\n"
     ]
    }
   ],
   "source": [
    "leapsedTimeTF, ListofLossTF = run_experiment(TeacherForcingModel(input_size, hidden_size_TF).to(device))"
   ]
  },
  {
   "cell_type": "code",
   "execution_count": 15,
   "id": "vLQeZwT2u6Qe",
   "metadata": {
    "colab": {
     "base_uri": "https://localhost:8080/"
    },
    "id": "vLQeZwT2u6Qe",
    "outputId": "6135d9d6-d64f-43f6-9f7e-8ea6349f3050"
   },
   "outputs": [
    {
     "metadata": {
      "tags": null
     },
     "name": "stdout",
     "output_type": "stream",
     "text": [
      "Start model training..\n"
     ]
    },
    {
     "metadata": {
      "tags": null
     },
     "name": "stderr",
     "output_type": "stream",
     "text": [
      "100%|██████████| 638/638 [01:09<00:00,  9.23it/s]\n",
      "100%|██████████| 107/107 [00:03<00:00, 29.07it/s]\n",
      "100%|██████████| 638/638 [01:09<00:00,  9.21it/s]\n",
      "100%|██████████| 107/107 [00:03<00:00, 28.67it/s]\n",
      "100%|██████████| 638/638 [01:09<00:00,  9.18it/s]\n",
      "  2%|▏         | 2/107 [00:00<00:06, 15.58it/s]"
     ]
    },
    {
     "metadata": {
      "tags": null
     },
     "name": "stdout",
     "output_type": "stream",
     "text": [
      "           Epoch: 3, Test Loss: 0.0488 - Example 0\n",
      "┌────────────────────────────────────────────────────────────┐\n",
      "│\u001b[34m▛\u001b[0m\u001b[34m▚\u001b[0m\u001b[34m▄\u001b[0m\u001b[34m▄\u001b[0m\u001b[34m▄\u001b[0m\u001b[34m▄\u001b[0m\u001b[34m▖\u001b[0m                     \u001b[35m▟\u001b[0m\u001b[35m▀\u001b[0m\u001b[35m▀\u001b[0m\u001b[35m▀\u001b[0m\u001b[35m▀\u001b[0m\u001b[35m▄\u001b[0m                          │ \n",
      "││     \u001b[34m▚\u001b[0m                   \u001b[32m▄\u001b[0m\u001b[35m▀\u001b[0m\u001b[32m▐\u001b[0m\u001b[32m▝\u001b[0m\u001b[32m▝\u001b[0m\u001b[32m▄\u001b[0m\u001b[32m▘\u001b[0m\u001b[32m▙\u001b[0m\u001b[32m▄\u001b[0m\u001b[32m▄\u001b[0m                        │ 1\n",
      "││      \u001b[34m▀\u001b[0m\u001b[34m▖\u001b[0m                \u001b[35m▝\u001b[0m \u001b[32m▀\u001b[0m        \u001b[35m▚\u001b[0m\u001b[32m▌\u001b[0m\u001b[32m▘\u001b[0m\u001b[32m▖\u001b[0m                \u001b[32m▖\u001b[0m\u001b[32m▗\u001b[0m\u001b[32m▘\u001b[0m\u001b[32m▝\u001b[0m│ \n",
      "││       \u001b[34m▘\u001b[0m\u001b[34m▖\u001b[0m             \u001b[32m▗\u001b[0m\u001b[32m▞\u001b[0m\u001b[32m▘\u001b[0m    \u001b[32m▖\u001b[0m      \u001b[35m▝\u001b[0m\u001b[35m▀\u001b[0m\u001b[32m▀\u001b[0m\u001b[32m▄\u001b[0m\u001b[32m▖\u001b[0m          \u001b[32m▗\u001b[0m\u001b[32m▄\u001b[0m\u001b[32m▗\u001b[0m\u001b[32m▞\u001b[0m\u001b[32m▝\u001b[0m\u001b[32m▘\u001b[0m\u001b[32m▝\u001b[0m\u001b[35m▝\u001b[0m│ \n",
      "││       \u001b[34m▝\u001b[0m\u001b[34m▝\u001b[0m\u001b[34m▄\u001b[0m         \u001b[32m▄\u001b[0m\u001b[32m▄\u001b[0m\u001b[32m▞\u001b[0m\u001b[32m▖\u001b[0m\u001b[35m▀\u001b[0m\u001b[32m▗\u001b[0m\u001b[32m▝\u001b[0m \u001b[32m▘\u001b[0m\u001b[32m▘\u001b[0m  \u001b[32m▝\u001b[0m  \u001b[32m▘\u001b[0m\u001b[32m▚\u001b[0m\u001b[32m▗\u001b[0m\u001b[32m▗\u001b[0m\u001b[35m▚\u001b[0m\u001b[35m▄\u001b[0m\u001b[32m▝\u001b[0m\u001b[32m▀\u001b[0m\u001b[32m▚\u001b[0m\u001b[32m▄\u001b[0m\u001b[32m▞\u001b[0m\u001b[32m▄\u001b[0m\u001b[32m▄\u001b[0m\u001b[32m▄\u001b[0m\u001b[32m▄\u001b[0m\u001b[32m▀\u001b[0m\u001b[32m▀\u001b[0m\u001b[32m▘\u001b[0m \u001b[32m▖\u001b[0m\u001b[32m▗\u001b[0m \u001b[32m▗\u001b[0m \u001b[32m▞\u001b[0m│ \n",
      "││          \u001b[34m▚\u001b[0m          \u001b[35m▗\u001b[0m\u001b[35m▘\u001b[0m                 \u001b[35m▖\u001b[0m          \u001b[35m▄\u001b[0m\u001b[35m▀\u001b[0m\u001b[35m▘\u001b[0m     │ 0\n",
      "││           \u001b[34m▚\u001b[0m         \u001b[35m▞\u001b[0m                  \u001b[35m▝\u001b[0m\u001b[35m▀\u001b[0m\u001b[35m▖\u001b[0m     \u001b[35m▗\u001b[0m\u001b[35m▄\u001b[0m\u001b[35m▞\u001b[0m        │ \n",
      "││           \u001b[34m▝\u001b[0m\u001b[34m▖\u001b[0m      \u001b[35m▄\u001b[0m                      \u001b[35m▀\u001b[0m\u001b[35m▀\u001b[0m\u001b[35m▀\u001b[0m\u001b[35m▄\u001b[0m\u001b[35m▄\u001b[0m\u001b[35m▄\u001b[0m\u001b[35m▘\u001b[0m          │ \n",
      "││            \u001b[34m▗\u001b[0m\u001b[34m▄\u001b[0m    \u001b[34m▗\u001b[0m\u001b[35m▝\u001b[0m\u001b[35m▀\u001b[0m                                      │ \n",
      "││              \u001b[34m▀\u001b[0m\u001b[34m▄\u001b[0m\u001b[34m▄\u001b[0m\u001b[34m▄\u001b[0m\u001b[34m▘\u001b[0m                                        │ \n",
      "└────────────────────────────────────────────────────────────┘\n",
      " 0                  50                  100\n",
      "                          \u001b[34m██\u001b[0m Input\n",
      "                          \u001b[35m██\u001b[0m Target\n",
      "                          \u001b[32m██\u001b[0m Output\n",
      "           Epoch: 3, Test Loss: 0.1053 - Example 1\n",
      "┌────────────────────────────────────────────────────────────┐\n",
      "││              \u001b[34m▄\u001b[0m\u001b[34m▀\u001b[0m\u001b[34m▀\u001b[0m\u001b[34m▀\u001b[0m\u001b[34m▀\u001b[0m\u001b[35m▄\u001b[0m                                       │ \n",
      "││            \u001b[34m▄\u001b[0m\u001b[34m▞\u001b[0m     \u001b[32m▐\u001b[0m\u001b[32m▄\u001b[0m\u001b[32m▖\u001b[0m                                     │ 1\n",
      "││           \u001b[34m▝\u001b[0m         \u001b[32m▝\u001b[0m\u001b[32m▀\u001b[0m\u001b[32m▄\u001b[0m\u001b[32m▄\u001b[0m\u001b[32m▗\u001b[0m                  \u001b[32m▙\u001b[0m\u001b[32m▄\u001b[0m\u001b[32m▄\u001b[0m\u001b[32m▖\u001b[0m\u001b[32m▖\u001b[0m \u001b[32m▗\u001b[0m        │ \n",
      "││           \u001b[34m▞\u001b[0m           \u001b[35m▝\u001b[0m\u001b[35m▀\u001b[0m\u001b[32m▗\u001b[0m\u001b[32m▘\u001b[0m\u001b[32m▘\u001b[0m\u001b[32m▗\u001b[0m          \u001b[32m▖\u001b[0m\u001b[32m▚\u001b[0m\u001b[32m▀\u001b[0m\u001b[32m▀\u001b[0m\u001b[32m▘\u001b[0m\u001b[35m▀\u001b[0m \u001b[35m▀\u001b[0m\u001b[35m▀\u001b[0m\u001b[32m▝\u001b[0m\u001b[32m▀\u001b[0m\u001b[32m▘\u001b[0m\u001b[32m▀\u001b[0m\u001b[32m▘\u001b[0m\u001b[32m▚\u001b[0m\u001b[32m▚\u001b[0m    │ \n",
      "││         \u001b[34m▗\u001b[0m\u001b[34m▀\u001b[0m        \u001b[32m▖\u001b[0m     \u001b[32m▖\u001b[0m\u001b[32m▗\u001b[0m\u001b[32m▝\u001b[0m\u001b[32m▖\u001b[0m\u001b[32m▀\u001b[0m\u001b[32m▄\u001b[0m\u001b[32m▄\u001b[0m\u001b[32m▄\u001b[0m\u001b[32m▄\u001b[0m\u001b[32m▄\u001b[0m\u001b[32m▄\u001b[0m\u001b[32m▛\u001b[0m\u001b[32m▀\u001b[0m\u001b[32m▚\u001b[0m\u001b[32m▗\u001b[0m\u001b[32m▖\u001b[0m\u001b[35m▝\u001b[0m\u001b[35m▘\u001b[0m\u001b[32m▗\u001b[0m   \u001b[32m▗\u001b[0m\u001b[32m▖\u001b[0m \u001b[32m▗\u001b[0m\u001b[35m▀\u001b[0m\u001b[32m▗\u001b[0m\u001b[35m▄\u001b[0m\u001b[35m▖\u001b[0m\u001b[32m▀\u001b[0m\u001b[32m▜\u001b[0m\u001b[32m▄\u001b[0m\u001b[32m▄\u001b[0m│ \n",
      "││         \u001b[34m▞\u001b[0m                 \u001b[35m▄\u001b[0m          \u001b[35m▄\u001b[0m\u001b[35m▀\u001b[0m\u001b[35m▘\u001b[0m             \u001b[35m▐\u001b[0m\u001b[35m▖\u001b[0m   │ 0\n",
      "││        \u001b[34m▞\u001b[0m                  \u001b[35m▝\u001b[0m\u001b[35m▀\u001b[0m\u001b[35m▖\u001b[0m      \u001b[35m▄\u001b[0m\u001b[35m▞\u001b[0m\u001b[35m▘\u001b[0m                \u001b[35m▝\u001b[0m\u001b[35m▖\u001b[0m  │ \n",
      "│\u001b[34m▌\u001b[0m      \u001b[34m▄\u001b[0m                      \u001b[35m▝\u001b[0m\u001b[35m▀\u001b[0m\u001b[35m▀\u001b[0m\u001b[35m▙\u001b[0m\u001b[35m▄\u001b[0m\u001b[35m▄\u001b[0m\u001b[35m▀\u001b[0m                    \u001b[35m▝\u001b[0m\u001b[35m▄\u001b[0m │ \n",
      "│\u001b[34m▗\u001b[0m\u001b[34m▄\u001b[0m\u001b[34m▖\u001b[0m   \u001b[34m▗\u001b[0m \u001b[34m▀\u001b[0m                                                  \u001b[35m▚\u001b[0m│ \n",
      "││ \u001b[34m▀\u001b[0m\u001b[34m▄\u001b[0m\u001b[34m▄\u001b[0m\u001b[34m▄\u001b[0m\u001b[34m▌\u001b[0m                                                    \u001b[35m▝\u001b[0m│ \n",
      "└────────────────────────────────────────────────────────────┘\n",
      " 0                  50                  100\n",
      "                          \u001b[34m██\u001b[0m Input\n",
      "                          \u001b[35m██\u001b[0m Target\n",
      "                          \u001b[32m██\u001b[0m Output\n",
      "           Epoch: 3, Test Loss: 0.1211 - Example 2\n",
      "┌────────────────────────────────────────────────────────────┐\n",
      "││ \u001b[34m▞\u001b[0m\u001b[34m▀\u001b[0m\u001b[34m▀\u001b[0m\u001b[34m▀\u001b[0m\u001b[34m▀\u001b[0m\u001b[34m▚\u001b[0m\u001b[34m▄\u001b[0m                                                   │ \n",
      "│\u001b[34m▄\u001b[0m\u001b[34m▞\u001b[0m       \u001b[34m▀\u001b[0m\u001b[34m▄\u001b[0m                                                 │ 1\n",
      "││         \u001b[34m▝\u001b[0m\u001b[34m▚\u001b[0m\u001b[34m▄\u001b[0m                \u001b[32m▗\u001b[0m\u001b[32m▄\u001b[0m\u001b[32m▞\u001b[0m\u001b[32m▄\u001b[0m\u001b[32m▛\u001b[0m\u001b[32m▚\u001b[0m\u001b[32m▄\u001b[0m\u001b[32m▄\u001b[0m\u001b[32m▄\u001b[0m\u001b[32m▄\u001b[0m\u001b[32m▄\u001b[0m\u001b[32m▖\u001b[0m\u001b[32m▖\u001b[0m                 \u001b[32m▟\u001b[0m│ \n",
      "││            \u001b[34m▚\u001b[0m          \u001b[32m▗\u001b[0m\u001b[32m▄\u001b[0m\u001b[32m▗\u001b[0m\u001b[32m▀\u001b[0m\u001b[32m▀\u001b[0m\u001b[32m▘\u001b[0m\u001b[35m▞\u001b[0m\u001b[35m▘\u001b[0m    \u001b[35m▀\u001b[0m\u001b[35m▀\u001b[0m\u001b[35m▀\u001b[0m\u001b[35m▄\u001b[0m\u001b[35m▄\u001b[0m\u001b[32m▝\u001b[0m\u001b[32m▀\u001b[0m\u001b[32m▙\u001b[0m\u001b[32m▄\u001b[0m           \u001b[32m▄\u001b[0m\u001b[32m▐\u001b[0m\u001b[35m▗\u001b[0m\u001b[35m▘\u001b[0m│ \n",
      "││             \u001b[34m▀\u001b[0m\u001b[34m▖\u001b[0m    \u001b[32m▀\u001b[0m\u001b[32m▀\u001b[0m\u001b[32m▀\u001b[0m\u001b[32m▀\u001b[0m\u001b[32m▘\u001b[0m \u001b[32m▘\u001b[0m\u001b[35m▚\u001b[0m\u001b[35m▟\u001b[0m           \u001b[32m▝\u001b[0m\u001b[32m▘\u001b[0m\u001b[35m▚\u001b[0m  \u001b[32m▀\u001b[0m\u001b[32m▀\u001b[0m\u001b[32m▀\u001b[0m\u001b[32m▄\u001b[0m\u001b[32m▄\u001b[0m\u001b[32m▄\u001b[0m\u001b[32m▚\u001b[0m\u001b[32m▄\u001b[0m\u001b[32m▟\u001b[0m\u001b[32m▞\u001b[0m\u001b[32m▀\u001b[0m \u001b[32m▘\u001b[0m\u001b[32m▀\u001b[0m │ \n",
      "││              \u001b[34m▝\u001b[0m\u001b[34m▜\u001b[0m        \u001b[35m▄\u001b[0m\u001b[35m▀\u001b[0m                \u001b[35m▀\u001b[0m\u001b[35m▖\u001b[0m           \u001b[35m▗\u001b[0m\u001b[35m▖\u001b[0m  │ \n",
      "││                \u001b[34m▀\u001b[0m\u001b[34m▄\u001b[0m\u001b[34m▄\u001b[0m\u001b[35m▄\u001b[0m\u001b[35m▄\u001b[0m\u001b[35m▄\u001b[0m\u001b[35m▄\u001b[0m\u001b[35m▀\u001b[0m                   \u001b[35m▝\u001b[0m\u001b[35m▄\u001b[0m         \u001b[35m▝\u001b[0m\u001b[35m▘\u001b[0m   │ \n",
      "││                                             \u001b[35m▚\u001b[0m       \u001b[35m▗\u001b[0m\u001b[35m▞\u001b[0m    │ \n",
      "││▁▁▁▁▁▁▁▁▁▁▁▁▁▁▁▁▁▁▁▁▁▁▁▁▁▁▁▁▁▁▁▁▁▁▁▁▁▁▁▁▁▁▁▁▁▁\u001b[35m▚\u001b[0m▁▁▁▁▁\u001b[35m▗\u001b[0m\u001b[35m▘\u001b[0m▁▁▁▁▁│ 0\n",
      "││                                               \u001b[35m▚\u001b[0m\u001b[35m▄\u001b[0m\u001b[35m▄\u001b[0m\u001b[35m▄\u001b[0m\u001b[35m▀\u001b[0m\u001b[35m▘\u001b[0m      │ \n",
      "└────────────────────────────────────────────────────────────┘\n",
      " 0                  50                  100\n",
      "                          \u001b[34m██\u001b[0m Input\n",
      "                          \u001b[35m██\u001b[0m Target\n",
      "                          \u001b[32m██\u001b[0m Output\n"
     ]
    },
    {
     "metadata": {
      "tags": null
     },
     "name": "stderr",
     "output_type": "stream",
     "text": [
      "100%|██████████| 107/107 [00:04<00:00, 25.36it/s]\n",
      "100%|██████████| 638/638 [01:08<00:00,  9.25it/s]\n",
      "100%|██████████| 107/107 [00:03<00:00, 29.37it/s]\n",
      "100%|██████████| 638/638 [01:09<00:00,  9.23it/s]\n",
      "100%|██████████| 107/107 [00:03<00:00, 29.23it/s]\n",
      "100%|██████████| 638/638 [01:08<00:00,  9.32it/s]\n",
      "  2%|▏         | 2/107 [00:00<00:06, 15.24it/s]"
     ]
    },
    {
     "metadata": {
      "tags": null
     },
     "name": "stdout",
     "output_type": "stream",
     "text": [
      "           Epoch: 6, Test Loss: 0.0059 - Example 0\n",
      "┌────────────────────────────────────────────────────────────┐\n",
      "│\u001b[34m▞\u001b[0m\u001b[34m▚\u001b[0m\u001b[34m▄\u001b[0m\u001b[34m▄\u001b[0m\u001b[34m▄\u001b[0m\u001b[34m▄\u001b[0m\u001b[34m▖\u001b[0m                     \u001b[32m▝\u001b[0m\u001b[32m▀\u001b[0m\u001b[32m▀\u001b[0m\u001b[32m▀\u001b[0m\u001b[32m▚\u001b[0m\u001b[32m▚\u001b[0m\u001b[32m▄\u001b[0m\u001b[32m▖\u001b[0m                        │ \n",
      "││     \u001b[34m▚\u001b[0m                   \u001b[32m▄\u001b[0m\u001b[32m▚\u001b[0m\u001b[32m▖\u001b[0m    \u001b[35m▝\u001b[0m\u001b[35m▀\u001b[0m\u001b[32m▝\u001b[0m\u001b[32m▄\u001b[0m                       │ 1\n",
      "││      \u001b[34m▀\u001b[0m\u001b[34m▖\u001b[0m                \u001b[32m▗\u001b[0m\u001b[35m▘\u001b[0m \u001b[32m▝\u001b[0m       \u001b[35m▚\u001b[0m\u001b[32m▚\u001b[0m\u001b[32m▄\u001b[0m                  \u001b[32m▗\u001b[0m\u001b[32m▖\u001b[0m\u001b[32m▄\u001b[0m│ \n",
      "││       \u001b[34m▘\u001b[0m\u001b[34m▖\u001b[0m              \u001b[35m▗\u001b[0m\u001b[32m▖\u001b[0m           \u001b[35m▝\u001b[0m\u001b[35m▀\u001b[0m\u001b[32m▙\u001b[0m               \u001b[32m▗\u001b[0m\u001b[32m▄\u001b[0m\u001b[32m▞\u001b[0m\u001b[32m▝\u001b[0m\u001b[35m▝\u001b[0m│ \n",
      "││       \u001b[34m▝\u001b[0m\u001b[34m▝\u001b[0m\u001b[34m▄\u001b[0m            \u001b[35m▗\u001b[0m\u001b[32m▐\u001b[0m              \u001b[35m▚\u001b[0m\u001b[32m▚\u001b[0m\u001b[32m▖\u001b[0m            \u001b[35m▗\u001b[0m\u001b[32m▝\u001b[0m    │ \n",
      "││          \u001b[34m▚\u001b[0m          \u001b[35m▗\u001b[0m\u001b[35m▘\u001b[0m                 \u001b[32m▚\u001b[0m          \u001b[35m▄\u001b[0m\u001b[35m▀\u001b[0m\u001b[32m▗\u001b[0m\u001b[32m▘\u001b[0m    │ 0\n",
      "││           \u001b[34m▄\u001b[0m         \u001b[35m▝\u001b[0m\u001b[32m▝\u001b[0m\u001b[32m▘\u001b[0m                \u001b[35m▝\u001b[0m\u001b[32m▚\u001b[0m\u001b[32m▖\u001b[0m      \u001b[35m▄\u001b[0m\u001b[32m▗\u001b[0m\u001b[32m▄\u001b[0m\u001b[32m▀\u001b[0m\u001b[32m▘\u001b[0m     │ \n",
      "││           \u001b[34m▝\u001b[0m\u001b[34m▖\u001b[0m      \u001b[32m▟\u001b[0m\u001b[32m▖\u001b[0m\u001b[32m▟\u001b[0m\u001b[32m▘\u001b[0m                   \u001b[32m▀\u001b[0m\u001b[32m▄\u001b[0m\u001b[32m▄\u001b[0m\u001b[35m▄\u001b[0m\u001b[35m▄\u001b[0m\u001b[32m▞\u001b[0m\u001b[32m▄\u001b[0m\u001b[32m▀\u001b[0m\u001b[32m▘\u001b[0m        │ \n",
      "││            \u001b[34m▗\u001b[0m\u001b[34m▄\u001b[0m    \u001b[34m▗\u001b[0m\u001b[35m▚\u001b[0m\u001b[32m▝\u001b[0m                       \u001b[32m▘\u001b[0m\u001b[32m▀\u001b[0m\u001b[32m▀\u001b[0m            │ \n",
      "││             \u001b[34m▝\u001b[0m\u001b[34m▀\u001b[0m\u001b[34m▄\u001b[0m\u001b[34m▄\u001b[0m\u001b[34m▄\u001b[0m\u001b[34m▘\u001b[0m                                        │ \n",
      "└────────────────────────────────────────────────────────────┘\n",
      " 0                  50                  100\n",
      "                          \u001b[34m██\u001b[0m Input\n",
      "                          \u001b[35m██\u001b[0m Target\n",
      "                          \u001b[32m██\u001b[0m Output\n",
      "           Epoch: 6, Test Loss: 0.0313 - Example 1\n",
      "┌────────────────────────────────────────────────────────────┐\n",
      "││              \u001b[34m▄\u001b[0m\u001b[34m▀\u001b[0m\u001b[34m▀\u001b[0m\u001b[34m▀\u001b[0m\u001b[34m▀\u001b[0m\u001b[32m▝\u001b[0m\u001b[32m▄\u001b[0m\u001b[32m▄\u001b[0m                                     │ \n",
      "││            \u001b[34m▄\u001b[0m\u001b[34m▞\u001b[0m     \u001b[32m▖\u001b[0m\u001b[35m▀\u001b[0m\u001b[32m▝\u001b[0m\u001b[32m▚\u001b[0m                                    │ 1\n",
      "││           \u001b[34m▝\u001b[0m          \u001b[35m▚\u001b[0m\u001b[32m▜\u001b[0m\u001b[32m▄\u001b[0m\u001b[32m▖\u001b[0m                  \u001b[32m▖\u001b[0m\u001b[32m▄\u001b[0m\u001b[32m▄\u001b[0m\u001b[32m▖\u001b[0m           │ \n",
      "││           \u001b[34m▞\u001b[0m           \u001b[35m▝\u001b[0m\u001b[35m▀\u001b[0m\u001b[32m▗\u001b[0m               \u001b[35m▖\u001b[0m\u001b[32m▄\u001b[0m\u001b[32m▄\u001b[0m\u001b[32m▝\u001b[0m \u001b[35m▀\u001b[0m\u001b[32m▝\u001b[0m\u001b[32m▚\u001b[0m\u001b[32m▄\u001b[0m\u001b[32m▟\u001b[0m\u001b[32m▄\u001b[0m       │ \n",
      "││         \u001b[34m▗\u001b[0m\u001b[34m▀\u001b[0m              \u001b[32m▝\u001b[0m\u001b[32m▄\u001b[0m\u001b[32m▖\u001b[0m            \u001b[35m▗\u001b[0m\u001b[32m▞\u001b[0m\u001b[35m▘\u001b[0m       \u001b[35m▝\u001b[0m\u001b[35m▀\u001b[0m\u001b[32m▀\u001b[0m\u001b[32m▀\u001b[0m\u001b[32m▄\u001b[0m\u001b[32m▖\u001b[0m   │ \n",
      "││         \u001b[34m▞\u001b[0m                 \u001b[32m▗\u001b[0m          \u001b[35m▄\u001b[0m\u001b[32m▗\u001b[0m\u001b[32m▀\u001b[0m             \u001b[35m▐\u001b[0m\u001b[32m▗\u001b[0m \u001b[32m▗\u001b[0m\u001b[32m▖\u001b[0m│ 0\n",
      "││        \u001b[34m▞\u001b[0m                  \u001b[35m▝\u001b[0m\u001b[32m▀\u001b[0m\u001b[32m▖\u001b[0m      \u001b[35m▄\u001b[0m\u001b[35m▞\u001b[0m\u001b[32m▄\u001b[0m\u001b[32m▘\u001b[0m               \u001b[35m▝\u001b[0m\u001b[32m▀\u001b[0m\u001b[32m▘\u001b[0m\u001b[32m▗\u001b[0m│ \n",
      "│\u001b[34m▌\u001b[0m      \u001b[34m▄\u001b[0m                      \u001b[32m▝\u001b[0m\u001b[32m▙\u001b[0m\u001b[32m▄\u001b[0m\u001b[32m▞\u001b[0m\u001b[32m▞\u001b[0m\u001b[32m▖\u001b[0m\u001b[35m▀\u001b[0m\u001b[32m▄\u001b[0m\u001b[32m▞\u001b[0m\u001b[32m▘\u001b[0m                 \u001b[35m▝\u001b[0m\u001b[35m▄\u001b[0m\u001b[32m▝\u001b[0m│ \n",
      "│\u001b[34m▗\u001b[0m\u001b[34m▄\u001b[0m\u001b[34m▖\u001b[0m   \u001b[34m▗\u001b[0m \u001b[34m▀\u001b[0m                          \u001b[32m▝\u001b[0m\u001b[32m▀\u001b[0m\u001b[32m▘\u001b[0m                     \u001b[35m▚\u001b[0m│ \n",
      "││ \u001b[34m▀\u001b[0m\u001b[34m▄\u001b[0m\u001b[34m▄\u001b[0m\u001b[34m▄\u001b[0m\u001b[34m▌\u001b[0m                                                    \u001b[35m▝\u001b[0m│ \n",
      "└────────────────────────────────────────────────────────────┘\n",
      " 0                  50                  100\n",
      "                          \u001b[34m██\u001b[0m Input\n",
      "                          \u001b[35m██\u001b[0m Target\n",
      "                          \u001b[32m██\u001b[0m Output\n",
      "           Epoch: 6, Test Loss: 0.0403 - Example 2\n",
      "┌────────────────────────────────────────────────────────────┐\n",
      "││ \u001b[34m▞\u001b[0m\u001b[34m▀\u001b[0m\u001b[34m▀\u001b[0m\u001b[34m▀\u001b[0m\u001b[34m▀\u001b[0m\u001b[34m▚\u001b[0m\u001b[34m▄\u001b[0m                                                   │ \n",
      "│\u001b[34m▄\u001b[0m\u001b[34m▞\u001b[0m       \u001b[34m▀\u001b[0m\u001b[34m▄\u001b[0m                                                 │ 1\n",
      "││         \u001b[34m▝\u001b[0m\u001b[34m▚\u001b[0m\u001b[34m▄\u001b[0m                  \u001b[32m▗\u001b[0m\u001b[32m▄\u001b[0m\u001b[32m▞\u001b[0m\u001b[32m▚\u001b[0m\u001b[32m▚\u001b[0m\u001b[32m▄\u001b[0m\u001b[32m▖\u001b[0m                     \u001b[35m▐\u001b[0m│ \n",
      "││            \u001b[34m▚\u001b[0m               \u001b[32m▗\u001b[0m\u001b[32m▚\u001b[0m\u001b[32m▘\u001b[0m    \u001b[35m▀\u001b[0m\u001b[32m▀\u001b[0m\u001b[32m▀\u001b[0m\u001b[32m▚\u001b[0m\u001b[32m▄\u001b[0m\u001b[32m▖\u001b[0m                \u001b[35m▗\u001b[0m\u001b[32m▐\u001b[0m│ \n",
      "││             \u001b[34m▀\u001b[0m\u001b[34m▖\u001b[0m           \u001b[35m▚\u001b[0m\u001b[32m▗\u001b[0m\u001b[32m▘\u001b[0m           \u001b[32m▝\u001b[0m\u001b[32m▀\u001b[0m\u001b[32m▘\u001b[0m             \u001b[35m▗\u001b[0m\u001b[32m▗\u001b[0m\u001b[32m▖\u001b[0m│ \n",
      "││              \u001b[34m▝\u001b[0m\u001b[34m▜\u001b[0m        \u001b[35m▄\u001b[0m\u001b[32m▗\u001b[0m\u001b[32m▄\u001b[0m\u001b[32m▘\u001b[0m              \u001b[32m▀\u001b[0m\u001b[32m▄\u001b[0m    \u001b[32m▗\u001b[0m\u001b[32m▄\u001b[0m\u001b[32m▄\u001b[0m\u001b[32m▖\u001b[0m\u001b[32m▄\u001b[0m  \u001b[35m▗\u001b[0m\u001b[32m▗\u001b[0m\u001b[32m▘\u001b[0m │ \n",
      "││                \u001b[34m▀\u001b[0m\u001b[34m▄\u001b[0m\u001b[34m▄\u001b[0m\u001b[32m▚\u001b[0m\u001b[35m▄\u001b[0m\u001b[32m▄\u001b[0m\u001b[32m▄\u001b[0m\u001b[32m▄\u001b[0m\u001b[32m▀\u001b[0m\u001b[32m▀\u001b[0m                 \u001b[35m▝\u001b[0m\u001b[32m▙\u001b[0m\u001b[32m▗\u001b[0m\u001b[32m▖\u001b[0m\u001b[32m▄\u001b[0m\u001b[32m▘\u001b[0m  \u001b[32m▝\u001b[0m\u001b[32m▝\u001b[0m\u001b[32m▚\u001b[0m\u001b[32m▗\u001b[0m\u001b[32m▄\u001b[0m\u001b[32m▞\u001b[0m  │ \n",
      "││                    \u001b[32m▀\u001b[0m                        \u001b[32m▘\u001b[0m\u001b[32m▀\u001b[0m      \u001b[35m▗\u001b[0m\u001b[32m▀\u001b[0m    │ \n",
      "││▁▁▁▁▁▁▁▁▁▁▁▁▁▁▁▁▁▁▁▁▁▁▁▁▁▁▁▁▁▁▁▁▁▁▁▁▁▁▁▁▁▁▁▁▁▁\u001b[35m▚\u001b[0m▁▁▁▁▁\u001b[35m▗\u001b[0m\u001b[35m▘\u001b[0m▁▁▁▁▁│ 0\n",
      "││                                               \u001b[35m▚\u001b[0m\u001b[35m▄\u001b[0m\u001b[35m▄\u001b[0m\u001b[35m▄\u001b[0m\u001b[35m▀\u001b[0m\u001b[35m▘\u001b[0m      │ \n",
      "└────────────────────────────────────────────────────────────┘\n",
      " 0                  50                  100\n",
      "                          \u001b[34m██\u001b[0m Input\n",
      "                          \u001b[35m██\u001b[0m Target\n",
      "                          \u001b[32m██\u001b[0m Output\n"
     ]
    },
    {
     "metadata": {
      "tags": null
     },
     "name": "stderr",
     "output_type": "stream",
     "text": [
      "100%|██████████| 107/107 [00:04<00:00, 25.41it/s]\n",
      "100%|██████████| 638/638 [01:08<00:00,  9.27it/s]\n",
      "100%|██████████| 107/107 [00:03<00:00, 29.13it/s]\n",
      "100%|██████████| 638/638 [01:08<00:00,  9.25it/s]\n",
      "100%|██████████| 107/107 [00:03<00:00, 29.65it/s]\n",
      "100%|██████████| 638/638 [01:08<00:00,  9.38it/s]\n",
      "  4%|▎         | 4/107 [00:00<00:05, 18.45it/s]"
     ]
    },
    {
     "metadata": {
      "tags": null
     },
     "name": "stdout",
     "output_type": "stream",
     "text": [
      "           Epoch: 9, Test Loss: 0.0045 - Example 0\n",
      "┌────────────────────────────────────────────────────────────┐\n",
      "│\u001b[34m▛\u001b[0m\u001b[34m▚\u001b[0m\u001b[34m▄\u001b[0m\u001b[34m▄\u001b[0m\u001b[34m▄\u001b[0m\u001b[34m▄\u001b[0m\u001b[34m▖\u001b[0m                     \u001b[32m▟\u001b[0m\u001b[32m▀\u001b[0m\u001b[32m▀\u001b[0m\u001b[32m▀\u001b[0m\u001b[32m▀\u001b[0m\u001b[32m▙\u001b[0m\u001b[32m▄\u001b[0m\u001b[32m▖\u001b[0m                        │ \n",
      "││     \u001b[34m▚\u001b[0m                   \u001b[32m▐\u001b[0m\u001b[32m▚\u001b[0m      \u001b[35m▀\u001b[0m\u001b[32m▀\u001b[0m\u001b[32m▖\u001b[0m                       │ 1\n",
      "││      \u001b[34m▀\u001b[0m\u001b[34m▖\u001b[0m                \u001b[32m▝\u001b[0m\u001b[32m▘\u001b[0m         \u001b[32m▝\u001b[0m\u001b[32m▙\u001b[0m                    \u001b[32m▖\u001b[0m\u001b[32m▄\u001b[0m│ \n",
      "││       \u001b[34m▘\u001b[0m\u001b[34m▖\u001b[0m              \u001b[35m▗\u001b[0m\u001b[35m▘\u001b[0m           \u001b[35m▝\u001b[0m\u001b[32m▀\u001b[0m\u001b[32m▘\u001b[0m               \u001b[32m▗\u001b[0m\u001b[32m▄\u001b[0m\u001b[32m▄\u001b[0m\u001b[32m▝\u001b[0m\u001b[35m▝\u001b[0m│ \n",
      "││       \u001b[34m▝\u001b[0m\u001b[34m▝\u001b[0m\u001b[34m▄\u001b[0m            \u001b[35m▗\u001b[0m\u001b[32m▚\u001b[0m\u001b[32m▖\u001b[0m             \u001b[32m▝\u001b[0m\u001b[32m▄\u001b[0m\u001b[32m▖\u001b[0m           \u001b[32m▗\u001b[0m\u001b[35m▗\u001b[0m\u001b[35m▝\u001b[0m    │ \n",
      "││          \u001b[34m▚\u001b[0m          \u001b[35m▗\u001b[0m\u001b[32m▝\u001b[0m                 \u001b[32m▄\u001b[0m          \u001b[35m▄\u001b[0m\u001b[32m▞\u001b[0m\u001b[32m▀\u001b[0m\u001b[32m▘\u001b[0m    │ 0\n",
      "││           \u001b[34m▄\u001b[0m         \u001b[35m▝\u001b[0m\u001b[32m▘\u001b[0m                 \u001b[35m▝\u001b[0m\u001b[32m▀\u001b[0m\u001b[32m▙\u001b[0m\u001b[32m▖\u001b[0m     \u001b[35m▄\u001b[0m\u001b[35m▞\u001b[0m\u001b[32m▀\u001b[0m       │ \n",
      "││           \u001b[34m▝\u001b[0m\u001b[34m▖\u001b[0m      \u001b[35m▄\u001b[0m \u001b[35m▘\u001b[0m                    \u001b[35m▀\u001b[0m\u001b[32m▗\u001b[0m\u001b[32m▙\u001b[0m\u001b[32m▄\u001b[0m\u001b[32m▖\u001b[0m\u001b[32m▖\u001b[0m\u001b[32m▄\u001b[0m\u001b[32m▀\u001b[0m\u001b[32m▀\u001b[0m        │ \n",
      "││            \u001b[34m▗\u001b[0m\u001b[34m▄\u001b[0m    \u001b[34m▗\u001b[0m\u001b[32m▀\u001b[0m\u001b[32m▀\u001b[0m\u001b[32m▀\u001b[0m                        \u001b[32m▀\u001b[0m\u001b[32m▝\u001b[0m           │ \n",
      "││              \u001b[34m▀\u001b[0m\u001b[34m▄\u001b[0m\u001b[34m▄\u001b[0m\u001b[34m▄\u001b[0m\u001b[34m▘\u001b[0m                                        │ \n",
      "└────────────────────────────────────────────────────────────┘\n",
      " 0                  50                  100\n",
      "                          \u001b[34m██\u001b[0m Input\n",
      "                          \u001b[35m██\u001b[0m Target\n",
      "                          \u001b[32m██\u001b[0m Output\n",
      "           Epoch: 9, Test Loss: 0.0190 - Example 1\n",
      "┌────────────────────────────────────────────────────────────┐\n",
      "││              \u001b[34m▄\u001b[0m\u001b[34m▀\u001b[0m\u001b[34m▀\u001b[0m\u001b[34m▀\u001b[0m\u001b[34m▀\u001b[0m\u001b[32m▟\u001b[0m\u001b[32m▄\u001b[0m\u001b[32m▄\u001b[0m                                     │ \n",
      "││            \u001b[34m▄\u001b[0m\u001b[34m▞\u001b[0m      \u001b[35m▀\u001b[0m\u001b[32m▝\u001b[0m\u001b[32m▄\u001b[0m                                    │ 1\n",
      "││           \u001b[34m▝\u001b[0m          \u001b[35m▚\u001b[0m\u001b[32m▚\u001b[0m\u001b[32m▄\u001b[0m\u001b[32m▖\u001b[0m                 \u001b[32m▗\u001b[0m\u001b[32m▖\u001b[0m\u001b[32m▄\u001b[0m\u001b[32m▄\u001b[0m\u001b[32m▄\u001b[0m           │ \n",
      "││           \u001b[34m▞\u001b[0m           \u001b[35m▝\u001b[0m\u001b[35m▀\u001b[0m\u001b[32m▝\u001b[0m\u001b[32m▀\u001b[0m              \u001b[32m▗\u001b[0m\u001b[32m▄\u001b[0m\u001b[32m▖\u001b[0m\u001b[32m▝\u001b[0m \u001b[35m▀\u001b[0m\u001b[35m▀\u001b[0m\u001b[32m▀\u001b[0m\u001b[32m▀\u001b[0m\u001b[32m▜\u001b[0m\u001b[32m▄\u001b[0m\u001b[32m▄\u001b[0m      │ \n",
      "││         \u001b[34m▗\u001b[0m\u001b[34m▀\u001b[0m              \u001b[35m▐\u001b[0m\u001b[35m▄\u001b[0m             \u001b[35m▗\u001b[0m\u001b[35m▝\u001b[0m\u001b[35m▘\u001b[0m       \u001b[35m▝\u001b[0m\u001b[35m▀\u001b[0m\u001b[32m▝\u001b[0m\u001b[32m▀\u001b[0m\u001b[32m▚\u001b[0m    │ \n",
      "││         \u001b[34m▞\u001b[0m                 \u001b[32m▜\u001b[0m          \u001b[35m▄\u001b[0m\u001b[32m▝\u001b[0m\u001b[32m▀\u001b[0m\u001b[32m▘\u001b[0m            \u001b[32m▝\u001b[0m\u001b[32m▀\u001b[0m   │ 0\n",
      "││        \u001b[34m▞\u001b[0m                  \u001b[35m▝\u001b[0m\u001b[32m▀\u001b[0m\u001b[32m▚\u001b[0m\u001b[32m▖\u001b[0m     \u001b[35m▄\u001b[0m\u001b[35m▞\u001b[0m\u001b[32m▛\u001b[0m\u001b[32m▘\u001b[0m               \u001b[35m▝\u001b[0m\u001b[32m▚\u001b[0m  │ \n",
      "│\u001b[34m▌\u001b[0m      \u001b[34m▄\u001b[0m                      \u001b[35m▝\u001b[0m\u001b[32m▄\u001b[0m\u001b[32m▄\u001b[0m\u001b[32m▄\u001b[0m\u001b[32m▄\u001b[0m\u001b[32m▖\u001b[0m\u001b[32m▗\u001b[0m\u001b[32m▞\u001b[0m\u001b[32m▀\u001b[0m                  \u001b[32m▝\u001b[0m\u001b[32m▄\u001b[0m\u001b[32m▖\u001b[0m│ \n",
      "│\u001b[34m▗\u001b[0m\u001b[34m▄\u001b[0m\u001b[34m▖\u001b[0m   \u001b[34m▗\u001b[0m \u001b[34m▀\u001b[0m                          \u001b[32m▀\u001b[0m\u001b[32m▘\u001b[0m                      \u001b[32m▐\u001b[0m│ \n",
      "││ \u001b[34m▀\u001b[0m\u001b[34m▄\u001b[0m\u001b[34m▄\u001b[0m\u001b[34m▄\u001b[0m\u001b[34m▌\u001b[0m                                                    \u001b[35m▝\u001b[0m│ \n",
      "└────────────────────────────────────────────────────────────┘\n",
      " 0                  50                  100\n",
      "                          \u001b[34m██\u001b[0m Input\n",
      "                          \u001b[35m██\u001b[0m Target\n",
      "                          \u001b[32m██\u001b[0m Output\n",
      "           Epoch: 9, Test Loss: 0.0268 - Example 2\n",
      "┌────────────────────────────────────────────────────────────┐\n",
      "││ \u001b[34m▞\u001b[0m\u001b[34m▀\u001b[0m\u001b[34m▀\u001b[0m\u001b[34m▀\u001b[0m\u001b[34m▀\u001b[0m\u001b[34m▚\u001b[0m\u001b[34m▄\u001b[0m                                                   │ \n",
      "│\u001b[34m▄\u001b[0m\u001b[34m▞\u001b[0m       \u001b[34m▀\u001b[0m\u001b[34m▄\u001b[0m                                                 │ 1\n",
      "││         \u001b[34m▝\u001b[0m\u001b[34m▚\u001b[0m\u001b[34m▄\u001b[0m                  \u001b[32m▝\u001b[0m\u001b[32m▚\u001b[0m\u001b[32m▄\u001b[0m\u001b[32m▀\u001b[0m\u001b[32m▙\u001b[0m\u001b[32m▄\u001b[0m\u001b[32m▖\u001b[0m                     \u001b[32m▐\u001b[0m│ \n",
      "││            \u001b[34m▚\u001b[0m               \u001b[32m▄\u001b[0m\u001b[32m▀\u001b[0m\u001b[32m▌\u001b[0m    \u001b[35m▀\u001b[0m\u001b[32m▀\u001b[0m\u001b[32m▀\u001b[0m\u001b[32m▀\u001b[0m\u001b[32m▀\u001b[0m\u001b[32m▖\u001b[0m\u001b[32m▖\u001b[0m               \u001b[35m▗\u001b[0m\u001b[32m▖\u001b[0m│ \n",
      "││             \u001b[34m▀\u001b[0m\u001b[34m▖\u001b[0m           \u001b[35m▚\u001b[0m\u001b[32m▗\u001b[0m            \u001b[32m▝\u001b[0m\u001b[32m▝\u001b[0m\u001b[32m▘\u001b[0m             \u001b[35m▗\u001b[0m\u001b[32m▄\u001b[0m │ \n",
      "││              \u001b[34m▝\u001b[0m\u001b[34m▜\u001b[0m        \u001b[35m▄\u001b[0m\u001b[32m▗\u001b[0m\u001b[32m▀\u001b[0m\u001b[32m▀\u001b[0m              \u001b[32m▀\u001b[0m\u001b[32m▘\u001b[0m           \u001b[35m▗\u001b[0m\u001b[32m▝\u001b[0m  │ \n",
      "││                \u001b[34m▀\u001b[0m\u001b[34m▄\u001b[0m\u001b[34m▄\u001b[0m\u001b[32m▚\u001b[0m\u001b[32m▗\u001b[0m\u001b[32m▗\u001b[0m\u001b[35m▄\u001b[0m\u001b[32m▟\u001b[0m\u001b[32m▀\u001b[0m\u001b[32m▘\u001b[0m                 \u001b[32m▝\u001b[0m\u001b[32m▌\u001b[0m  \u001b[32m▄\u001b[0m\u001b[32m▄\u001b[0m\u001b[32m▄\u001b[0m\u001b[32m▀\u001b[0m\u001b[32m▄\u001b[0m  \u001b[35m▝\u001b[0m\u001b[32m▗\u001b[0m\u001b[32m▀\u001b[0m  │ \n",
      "││                    \u001b[32m▘\u001b[0m\u001b[32m▘\u001b[0m\u001b[32m▀\u001b[0m                     \u001b[32m▝\u001b[0m\u001b[32m▀\u001b[0m\u001b[32m▀\u001b[0m     \u001b[32m▀\u001b[0m\u001b[32m▄\u001b[0m\u001b[32m▄\u001b[0m\u001b[32m▖\u001b[0m   │ \n",
      "││▁▁▁▁▁▁▁▁▁▁▁▁▁▁▁▁▁▁▁▁▁▁▁▁▁▁▁▁▁▁▁▁▁▁▁▁▁▁▁▁▁▁▁▁▁▁\u001b[35m▚\u001b[0m▁▁▁▁▁\u001b[35m▗\u001b[0m\u001b[35m▘\u001b[0m▁▁▁▁▁│ 0\n",
      "││                                               \u001b[35m▚\u001b[0m\u001b[35m▄\u001b[0m\u001b[35m▄\u001b[0m\u001b[35m▄\u001b[0m\u001b[35m▀\u001b[0m\u001b[35m▘\u001b[0m      │ \n",
      "└────────────────────────────────────────────────────────────┘\n",
      " 0                  50                  100\n",
      "                          \u001b[34m██\u001b[0m Input\n",
      "                          \u001b[35m██\u001b[0m Target\n",
      "                          \u001b[32m██\u001b[0m Output\n"
     ]
    },
    {
     "name": "stderr",
     "output_type": "stream",
     "text": [
      "100%|██████████| 107/107 [00:04<00:00, 26.00it/s]\n",
      "100%|██████████| 638/638 [01:08<00:00,  9.37it/s]\n",
      "100%|██████████| 107/107 [00:03<00:00, 30.34it/s]\n",
      "100%|██████████| 638/638 [01:08<00:00,  9.38it/s]\n",
      "100%|██████████| 107/107 [00:03<00:00, 30.05it/s]\n",
      "100%|██████████| 638/638 [01:08<00:00,  9.31it/s]\n",
      "  2%|▏         | 2/107 [00:00<00:06, 16.37it/s]"
     ]
    },
    {
     "name": "stdout",
     "output_type": "stream",
     "text": [
      "           Epoch: 12, Test Loss: 0.0047 - Example 0\n",
      "┌────────────────────────────────────────────────────────────┐\n",
      "│\u001b[34m▛\u001b[0m\u001b[34m▚\u001b[0m\u001b[34m▄\u001b[0m\u001b[34m▄\u001b[0m\u001b[34m▄\u001b[0m\u001b[34m▄\u001b[0m\u001b[34m▖\u001b[0m                     \u001b[32m▄\u001b[0m\u001b[32m▀\u001b[0m\u001b[32m▀\u001b[0m\u001b[32m▀\u001b[0m\u001b[32m▀\u001b[0m\u001b[32m▀\u001b[0m\u001b[32m▘\u001b[0m\u001b[32m▖\u001b[0m                        │ \n",
      "││     \u001b[34m▚\u001b[0m                   \u001b[32m▄\u001b[0m\u001b[32m▄\u001b[0m      \u001b[32m▝\u001b[0m\u001b[32m▀\u001b[0m\u001b[32m▄\u001b[0m\u001b[32m▖\u001b[0m                      │ 1\n",
      "││      \u001b[34m▀\u001b[0m\u001b[34m▖\u001b[0m                \u001b[32m▗\u001b[0m          \u001b[35m▚\u001b[0m\u001b[32m▄\u001b[0m                   \u001b[32m▗\u001b[0m \u001b[32m▄\u001b[0m│ \n",
      "││       \u001b[34m▘\u001b[0m\u001b[34m▖\u001b[0m              \u001b[32m▗\u001b[0m\u001b[32m▖\u001b[0m           \u001b[35m▝\u001b[0m\u001b[32m▀\u001b[0m\u001b[32m▀\u001b[0m               \u001b[32m▗\u001b[0m\u001b[32m▄\u001b[0m\u001b[32m▄\u001b[0m\u001b[32m▀\u001b[0m\u001b[35m▝\u001b[0m│ \n",
      "││       \u001b[34m▝\u001b[0m\u001b[34m▝\u001b[0m\u001b[34m▄\u001b[0m            \u001b[35m▗\u001b[0m\u001b[35m▀\u001b[0m              \u001b[35m▚\u001b[0m\u001b[32m▄\u001b[0m             \u001b[35m▗\u001b[0m\u001b[32m▘\u001b[0m    │ \n",
      "││          \u001b[34m▚\u001b[0m          \u001b[35m▗\u001b[0m\u001b[32m▞\u001b[0m\u001b[32m▀\u001b[0m                \u001b[32m▙\u001b[0m          \u001b[32m▗\u001b[0m\u001b[32m▞\u001b[0m\u001b[32m▀\u001b[0m     │ 0\n",
      "││           \u001b[34m▚\u001b[0m         \u001b[32m▝\u001b[0m                  \u001b[35m▝\u001b[0m\u001b[32m▀\u001b[0m\u001b[32m▌\u001b[0m     \u001b[35m▗\u001b[0m\u001b[35m▄\u001b[0m\u001b[35m▞\u001b[0m\u001b[32m▘\u001b[0m\u001b[32m▝\u001b[0m      │ \n",
      "││           \u001b[34m▝\u001b[0m\u001b[34m▖\u001b[0m      \u001b[35m▄\u001b[0m                      \u001b[32m▝\u001b[0m\u001b[32m▄\u001b[0m\u001b[32m▄\u001b[0m\u001b[32m▄\u001b[0m\u001b[32m▄\u001b[0m\u001b[32m▄\u001b[0m\u001b[32m▄\u001b[0m\u001b[32m▀\u001b[0m\u001b[32m▀\u001b[0m        │ \n",
      "││            \u001b[34m▗\u001b[0m\u001b[34m▄\u001b[0m    \u001b[34m▗\u001b[0m\u001b[32m▟\u001b[0m\u001b[32m▚\u001b[0m\u001b[32m▀\u001b[0m                                     │ \n",
      "││              \u001b[34m▀\u001b[0m\u001b[34m▄\u001b[0m\u001b[34m▄\u001b[0m\u001b[34m▄\u001b[0m\u001b[34m▘\u001b[0m                                        │ \n",
      "└────────────────────────────────────────────────────────────┘\n",
      " 0                  50                  100\n",
      "                          \u001b[34m██\u001b[0m Input\n",
      "                          \u001b[35m██\u001b[0m Target\n",
      "                          \u001b[32m██\u001b[0m Output\n",
      "           Epoch: 12, Test Loss: 0.0132 - Example 1\n",
      "┌────────────────────────────────────────────────────────────┐\n",
      "││              \u001b[34m▄\u001b[0m\u001b[34m▀\u001b[0m\u001b[34m▀\u001b[0m\u001b[34m▀\u001b[0m\u001b[34m▀\u001b[0m\u001b[32m▜\u001b[0m\u001b[32m▄\u001b[0m\u001b[32m▖\u001b[0m                                     │ \n",
      "││            \u001b[34m▄\u001b[0m\u001b[34m▞\u001b[0m      \u001b[35m▀\u001b[0m\u001b[32m▝\u001b[0m\u001b[32m▖\u001b[0m                                    │ 1\n",
      "││           \u001b[34m▝\u001b[0m          \u001b[32m▝\u001b[0m\u001b[32m▀\u001b[0m                   \u001b[32m▄\u001b[0m\u001b[32m▄\u001b[0m\u001b[32m▖\u001b[0m\u001b[32m▗\u001b[0m            │ \n",
      "││           \u001b[34m▞\u001b[0m           \u001b[32m▝\u001b[0m\u001b[32m▀\u001b[0m\u001b[32m▘\u001b[0m               \u001b[35m▖\u001b[0m\u001b[35m▄\u001b[0m\u001b[35m▀\u001b[0m\u001b[35m▀\u001b[0m\u001b[32m▝\u001b[0m\u001b[32m▘\u001b[0m\u001b[32m▀\u001b[0m\u001b[32m▀\u001b[0m\u001b[32m▀\u001b[0m\u001b[32m▄\u001b[0m        │ \n",
      "││         \u001b[34m▗\u001b[0m\u001b[34m▀\u001b[0m              \u001b[32m▝\u001b[0m\u001b[32m▄\u001b[0m\u001b[32m▖\u001b[0m            \u001b[35m▗\u001b[0m\u001b[35m▝\u001b[0m\u001b[35m▘\u001b[0m       \u001b[35m▝\u001b[0m\u001b[32m▀\u001b[0m\u001b[32m▀\u001b[0m\u001b[32m▀\u001b[0m\u001b[32m▄\u001b[0m    │ \n",
      "││         \u001b[34m▞\u001b[0m                 \u001b[32m▗\u001b[0m          \u001b[32m▗\u001b[0m\u001b[32m▖\u001b[0m\u001b[32m▀\u001b[0m\u001b[32m▀\u001b[0m\u001b[32m▄\u001b[0m           \u001b[32m▝\u001b[0m\u001b[32m▄\u001b[0m   │ 0\n",
      "││        \u001b[34m▞\u001b[0m                  \u001b[35m▝\u001b[0m\u001b[32m▀\u001b[0m\u001b[32m▀\u001b[0m\u001b[32m▖\u001b[0m     \u001b[35m▄\u001b[0m\u001b[35m▞\u001b[0m\u001b[32m▌\u001b[0m\u001b[32m▝\u001b[0m\u001b[32m▘\u001b[0m              \u001b[35m▝\u001b[0m\u001b[32m▚\u001b[0m\u001b[32m▖\u001b[0m │ \n",
      "│\u001b[34m▌\u001b[0m      \u001b[34m▄\u001b[0m                      \u001b[35m▝\u001b[0m\u001b[32m▚\u001b[0m\u001b[32m▄\u001b[0m\u001b[32m▄\u001b[0m\u001b[32m▄\u001b[0m\u001b[32m▄\u001b[0m\u001b[32m▄\u001b[0m\u001b[32m▛\u001b[0m\u001b[32m▀\u001b[0m                  \u001b[35m▝\u001b[0m\u001b[32m▗\u001b[0m\u001b[32m▄\u001b[0m│ \n",
      "│\u001b[34m▗\u001b[0m\u001b[34m▄\u001b[0m\u001b[34m▖\u001b[0m   \u001b[34m▗\u001b[0m \u001b[34m▀\u001b[0m                                                  \u001b[32m▝\u001b[0m│ \n",
      "││ \u001b[34m▀\u001b[0m\u001b[34m▄\u001b[0m\u001b[34m▄\u001b[0m\u001b[34m▄\u001b[0m\u001b[34m▌\u001b[0m                                                    \u001b[35m▝\u001b[0m│ \n",
      "└────────────────────────────────────────────────────────────┘\n",
      " 0                  50                  100\n",
      "                          \u001b[34m██\u001b[0m Input\n",
      "                          \u001b[35m██\u001b[0m Target\n",
      "                          \u001b[32m██\u001b[0m Output\n",
      "           Epoch: 12, Test Loss: 0.0224 - Example 2\n",
      "┌────────────────────────────────────────────────────────────┐\n",
      "││ \u001b[34m▞\u001b[0m\u001b[34m▀\u001b[0m\u001b[34m▀\u001b[0m\u001b[34m▀\u001b[0m\u001b[34m▀\u001b[0m\u001b[34m▚\u001b[0m\u001b[34m▄\u001b[0m                                                   │ \n",
      "│\u001b[34m▄\u001b[0m\u001b[34m▞\u001b[0m       \u001b[34m▀\u001b[0m\u001b[34m▄\u001b[0m                                                 │ 1\n",
      "││         \u001b[34m▝\u001b[0m\u001b[34m▚\u001b[0m\u001b[34m▄\u001b[0m                  \u001b[35m▄\u001b[0m\u001b[35m▄\u001b[0m\u001b[32m▀\u001b[0m\u001b[32m▄\u001b[0m\u001b[32m▄\u001b[0m\u001b[32m▄\u001b[0m                      \u001b[35m▐\u001b[0m│ \n",
      "││            \u001b[34m▚\u001b[0m               \u001b[32m▞\u001b[0m\u001b[32m▞\u001b[0m\u001b[32m▛\u001b[0m\u001b[32m▀\u001b[0m\u001b[32m▘\u001b[0m  \u001b[35m▀\u001b[0m\u001b[32m▀\u001b[0m\u001b[32m▀\u001b[0m\u001b[32m▚\u001b[0m\u001b[32m▄\u001b[0m\u001b[32m▄\u001b[0m                \u001b[35m▗\u001b[0m\u001b[32m▄\u001b[0m│ \n",
      "││             \u001b[34m▀\u001b[0m\u001b[34m▖\u001b[0m           \u001b[32m▝\u001b[0m\u001b[32m▄\u001b[0m            \u001b[35m▀\u001b[0m\u001b[32m▀\u001b[0m\u001b[32m▘\u001b[0m             \u001b[35m▗\u001b[0m\u001b[32m▄\u001b[0m │ \n",
      "││              \u001b[34m▝\u001b[0m\u001b[34m▜\u001b[0m        \u001b[35m▄\u001b[0m\u001b[35m▀\u001b[0m                \u001b[32m▀\u001b[0m\u001b[32m▄\u001b[0m           \u001b[35m▗\u001b[0m\u001b[32m▗\u001b[0m  │ \n",
      "││                \u001b[34m▀\u001b[0m\u001b[34m▄\u001b[0m\u001b[34m▄\u001b[0m\u001b[32m▄\u001b[0m\u001b[32m▄\u001b[0m\u001b[32m▖\u001b[0m\u001b[35m▄\u001b[0m\u001b[35m▀\u001b[0m                   \u001b[35m▝\u001b[0m\u001b[32m▚\u001b[0m         \u001b[35m▝\u001b[0m\u001b[35m▘\u001b[0m\u001b[32m▘\u001b[0m  │ \n",
      "││                     \u001b[32m▝\u001b[0m\u001b[32m▀\u001b[0m\u001b[32m▀\u001b[0m\u001b[32m▀\u001b[0m\u001b[32m▀\u001b[0m\u001b[32m▘\u001b[0m                  \u001b[32m▀\u001b[0m\u001b[32m▙\u001b[0m\u001b[32m▗\u001b[0m\u001b[32m▄\u001b[0m\u001b[32m▀\u001b[0m\u001b[32m▀\u001b[0m\u001b[32m▀\u001b[0m\u001b[32m▀\u001b[0m\u001b[32m▄\u001b[0m\u001b[32m▄\u001b[0m\u001b[32m▀\u001b[0m   │ \n",
      "││▁▁▁▁▁▁▁▁▁▁▁▁▁▁▁▁▁▁▁▁▁▁▁▁▁▁▁▁▁▁▁▁▁▁▁▁▁▁▁▁▁▁▁▁▁▁\u001b[35m▚\u001b[0m\u001b[32m▘\u001b[0m▁▁▁▁\u001b[35m▗\u001b[0m\u001b[35m▘\u001b[0m▁▁▁▁▁│ 0\n",
      "││                                               \u001b[35m▚\u001b[0m\u001b[35m▄\u001b[0m\u001b[35m▄\u001b[0m\u001b[35m▄\u001b[0m\u001b[35m▀\u001b[0m\u001b[35m▘\u001b[0m      │ \n",
      "└────────────────────────────────────────────────────────────┘\n",
      " 0                  50                  100\n",
      "                          \u001b[34m██\u001b[0m Input\n",
      "                          \u001b[35m██\u001b[0m Target\n",
      "                          \u001b[32m██\u001b[0m Output\n"
     ]
    },
    {
     "name": "stderr",
     "output_type": "stream",
     "text": [
      "100%|██████████| 107/107 [00:03<00:00, 27.56it/s]\n",
      "100%|██████████| 638/638 [01:07<00:00,  9.41it/s]\n",
      "100%|██████████| 107/107 [00:04<00:00, 26.34it/s]\n",
      "100%|██████████| 638/638 [01:08<00:00,  9.34it/s]\n",
      "100%|██████████| 107/107 [00:03<00:00, 29.94it/s]\n",
      "100%|██████████| 638/638 [01:08<00:00,  9.37it/s]\n",
      "  2%|▏         | 2/107 [00:00<00:06, 15.89it/s]"
     ]
    },
    {
     "name": "stdout",
     "output_type": "stream",
     "text": [
      "           Epoch: 15, Test Loss: 0.0054 - Example 0\n",
      "┌────────────────────────────────────────────────────────────┐\n",
      "│\u001b[34m▄\u001b[0m\u001b[34m▄\u001b[0m\u001b[34m▗\u001b[0m\u001b[34m▖\u001b[0m \u001b[34m▗\u001b[0m                     \u001b[32m▝\u001b[0m\u001b[35m▄\u001b[0m\u001b[32m▝\u001b[0m\u001b[32m▄\u001b[0m\u001b[32m▞\u001b[0m\u001b[32m▚\u001b[0m\u001b[32m▄\u001b[0m                          │ \n",
      "││ \u001b[34m▘\u001b[0m\u001b[34m▝\u001b[0m\u001b[34m▀\u001b[0m\u001b[34m▘\u001b[0m\u001b[34m▚\u001b[0m                    \u001b[35m▞\u001b[0m\u001b[32m▄\u001b[0m\u001b[32m▖\u001b[0m   \u001b[35m▀\u001b[0m\u001b[32m▄\u001b[0m\u001b[32m▀\u001b[0m                        │ \n",
      "││      \u001b[34m▚\u001b[0m                 \u001b[35m▝\u001b[0m\u001b[35m▀\u001b[0m        \u001b[35m▝\u001b[0m\u001b[32m▀\u001b[0m\u001b[32m▘\u001b[0m                      │ 1\n",
      "││       \u001b[34m▌\u001b[0m\u001b[34m▖\u001b[0m               \u001b[35m▘\u001b[0m           \u001b[32m▀\u001b[0m\u001b[32m▀\u001b[0m\u001b[32m▀\u001b[0m\u001b[32m▘\u001b[0m              \u001b[32m▝\u001b[0m\u001b[32m▀\u001b[0m\u001b[32m▜\u001b[0m\u001b[32m▚\u001b[0m\u001b[32m▀\u001b[0m│ \n",
      "││       \u001b[34m▝\u001b[0m\u001b[34m▝\u001b[0m\u001b[34m▄\u001b[0m            \u001b[32m▗\u001b[0m\u001b[32m▟\u001b[0m\u001b[32m▀\u001b[0m\u001b[32m▀\u001b[0m\u001b[32m▘\u001b[0m           \u001b[35m▙\u001b[0m\u001b[35m▖\u001b[0m             \u001b[35m▗\u001b[0m\u001b[35m▀\u001b[0m\u001b[35m▘\u001b[0m   │ \n",
      "││          \u001b[34m▄\u001b[0m          \u001b[35m▗\u001b[0m\u001b[35m▘\u001b[0m                \u001b[32m▝\u001b[0m\u001b[32m▙\u001b[0m          \u001b[32m▗\u001b[0m\u001b[32m▄\u001b[0m\u001b[35m▘\u001b[0m     │ \n",
      "││           \u001b[34m▄\u001b[0m         \u001b[35m▝\u001b[0m                  \u001b[35m▝\u001b[0m\u001b[32m▀\u001b[0m\u001b[32m▘\u001b[0m      \u001b[35m▄\u001b[0m\u001b[35m▟\u001b[0m \u001b[32m▝\u001b[0m\u001b[32m▀\u001b[0m\u001b[32m▀\u001b[0m    │ 0\n",
      "││           \u001b[34m▝\u001b[0m\u001b[34m▖\u001b[0m      \u001b[35m▗\u001b[0m \u001b[35m▘\u001b[0m                    \u001b[32m▀\u001b[0m\u001b[32m▀\u001b[0m\u001b[32m▄\u001b[0m\u001b[32m▄\u001b[0m\u001b[32m▄\u001b[0m\u001b[32m▄\u001b[0m\u001b[32m▄\u001b[0m\u001b[32m▀\u001b[0m\u001b[32m▀\u001b[0m\u001b[32m▘\u001b[0m       │ \n",
      "││            \u001b[34m▗\u001b[0m\u001b[34m▄\u001b[0m    \u001b[34m▗\u001b[0m\u001b[32m▟\u001b[0m\u001b[32m▄\u001b[0m\u001b[32m▞\u001b[0m\u001b[32m▘\u001b[0m                                    │ \n",
      "││             \u001b[34m▝\u001b[0m\u001b[34m▀\u001b[0m\u001b[34m▄\u001b[0m\u001b[34m▄\u001b[0m\u001b[34m▄\u001b[0m\u001b[34m▘\u001b[0m                                        │ \n",
      "└────────────────────────────────────────────────────────────┘\n",
      " 0                  50                  100\n",
      "                          \u001b[34m██\u001b[0m Input\n",
      "                          \u001b[35m██\u001b[0m Target\n",
      "                          \u001b[32m██\u001b[0m Output\n",
      "           Epoch: 15, Test Loss: 0.0084 - Example 1\n",
      "┌────────────────────────────────────────────────────────────┐\n",
      "││              \u001b[34m▄\u001b[0m\u001b[34m▀\u001b[0m\u001b[34m▀\u001b[0m\u001b[34m▀\u001b[0m\u001b[34m▀\u001b[0m\u001b[32m▚\u001b[0m\u001b[32m▗\u001b[0m\u001b[32m▄\u001b[0m                                     │ \n",
      "││            \u001b[34m▄\u001b[0m\u001b[34m▞\u001b[0m      \u001b[32m▘\u001b[0m\u001b[32m▗\u001b[0m\u001b[32m▖\u001b[0m                                    │ 1\n",
      "││           \u001b[34m▝\u001b[0m          \u001b[32m▝\u001b[0m\u001b[32m▚\u001b[0m\u001b[32m▖\u001b[0m                  \u001b[32m▗\u001b[0m\u001b[32m▖\u001b[0m\u001b[35m▄\u001b[0m\u001b[32m▖\u001b[0m            │ \n",
      "││           \u001b[34m▞\u001b[0m           \u001b[35m▝\u001b[0m\u001b[32m▝\u001b[0m\u001b[32m▀\u001b[0m               \u001b[32m▗\u001b[0m\u001b[32m▗\u001b[0m\u001b[32m▖\u001b[0m\u001b[32m▝\u001b[0m\u001b[32m▀\u001b[0m\u001b[32m▀\u001b[0m\u001b[32m▀\u001b[0m\u001b[32m▀\u001b[0m\u001b[32m▄\u001b[0m\u001b[32m▄\u001b[0m\u001b[32m▄\u001b[0m       │ \n",
      "││         \u001b[34m▗\u001b[0m\u001b[34m▀\u001b[0m              \u001b[32m▗\u001b[0m\u001b[32m▚\u001b[0m\u001b[32m▖\u001b[0m            \u001b[35m▗\u001b[0m\u001b[32m▘\u001b[0m\u001b[32m▘\u001b[0m       \u001b[35m▝\u001b[0m\u001b[35m▀\u001b[0m\u001b[32m▀\u001b[0m\u001b[32m▀\u001b[0m\u001b[32m▄\u001b[0m    │ \n",
      "││         \u001b[34m▞\u001b[0m                 \u001b[32m▗\u001b[0m          \u001b[32m▗\u001b[0m\u001b[32m▄\u001b[0m\u001b[32m▀\u001b[0m             \u001b[32m▝\u001b[0m\u001b[32m▄\u001b[0m   │ 0\n",
      "││        \u001b[34m▞\u001b[0m                  \u001b[35m▝\u001b[0m\u001b[32m▀\u001b[0m\u001b[32m▚\u001b[0m      \u001b[32m▗\u001b[0m\u001b[32m▄\u001b[0m\u001b[32m▖\u001b[0m                \u001b[35m▝\u001b[0m\u001b[32m▀\u001b[0m  │ \n",
      "│\u001b[34m▌\u001b[0m      \u001b[34m▄\u001b[0m                      \u001b[35m▝\u001b[0m\u001b[32m▙\u001b[0m\u001b[32m▄\u001b[0m\u001b[32m▙\u001b[0m\u001b[32m▄\u001b[0m\u001b[32m▄\u001b[0m\u001b[32m▄\u001b[0m\u001b[32m▌\u001b[0m                   \u001b[32m▝\u001b[0m\u001b[32m▄\u001b[0m\u001b[32m▖\u001b[0m│ \n",
      "│\u001b[34m▗\u001b[0m\u001b[34m▄\u001b[0m\u001b[34m▖\u001b[0m   \u001b[34m▗\u001b[0m \u001b[34m▀\u001b[0m                                                  \u001b[32m▝\u001b[0m│ \n",
      "││ \u001b[34m▀\u001b[0m\u001b[34m▄\u001b[0m\u001b[34m▄\u001b[0m\u001b[34m▄\u001b[0m\u001b[34m▌\u001b[0m                                                    \u001b[35m▝\u001b[0m│ \n",
      "└────────────────────────────────────────────────────────────┘\n",
      " 0                  50                  100\n",
      "                          \u001b[34m██\u001b[0m Input\n",
      "                          \u001b[35m██\u001b[0m Target\n",
      "                          \u001b[32m██\u001b[0m Output\n",
      "           Epoch: 15, Test Loss: 0.0129 - Example 2\n",
      "┌────────────────────────────────────────────────────────────┐\n",
      "││ \u001b[34m▞\u001b[0m\u001b[34m▀\u001b[0m\u001b[34m▀\u001b[0m\u001b[34m▀\u001b[0m\u001b[34m▀\u001b[0m\u001b[34m▚\u001b[0m\u001b[34m▄\u001b[0m                                                   │ \n",
      "│\u001b[34m▄\u001b[0m\u001b[34m▞\u001b[0m       \u001b[34m▀\u001b[0m\u001b[34m▄\u001b[0m                                                 │ 1\n",
      "││         \u001b[34m▝\u001b[0m\u001b[34m▚\u001b[0m\u001b[34m▄\u001b[0m                \u001b[32m▗\u001b[0m\u001b[32m▖\u001b[0m\u001b[32m▗\u001b[0m\u001b[32m▄\u001b[0m\u001b[32m▛\u001b[0m\u001b[32m▚\u001b[0m\u001b[32m▄\u001b[0m\u001b[32m▄\u001b[0m\u001b[32m▖\u001b[0m                     \u001b[32m▝\u001b[0m│ \n",
      "││            \u001b[34m▚\u001b[0m               \u001b[35m▚\u001b[0m\u001b[32m▗\u001b[0m\u001b[32m▌\u001b[0m    \u001b[35m▀\u001b[0m\u001b[32m▝\u001b[0m\u001b[32m▀\u001b[0m\u001b[32m▀\u001b[0m\u001b[32m▄\u001b[0m\u001b[32m▄\u001b[0m                \u001b[35m▗\u001b[0m\u001b[32m▄\u001b[0m│ \n",
      "││             \u001b[34m▀\u001b[0m\u001b[34m▖\u001b[0m           \u001b[32m▄\u001b[0m\u001b[32m▄\u001b[0m\u001b[32m▖\u001b[0m           \u001b[35m▀\u001b[0m\u001b[32m▀\u001b[0m\u001b[32m▀\u001b[0m             \u001b[32m▗\u001b[0m\u001b[32m▞\u001b[0m │ \n",
      "││              \u001b[34m▝\u001b[0m\u001b[34m▜\u001b[0m        \u001b[35m▄\u001b[0m\u001b[35m▀\u001b[0m                \u001b[35m▀\u001b[0m\u001b[32m▄\u001b[0m\u001b[32m▖\u001b[0m          \u001b[35m▗\u001b[0m\u001b[32m▗\u001b[0m  │ \n",
      "││                \u001b[34m▀\u001b[0m\u001b[34m▄\u001b[0m\u001b[34m▄\u001b[0m\u001b[32m▄\u001b[0m\u001b[35m▄\u001b[0m\u001b[32m▄\u001b[0m\u001b[35m▄\u001b[0m\u001b[32m▞\u001b[0m\u001b[32m▀\u001b[0m\u001b[32m▄\u001b[0m                 \u001b[35m▝\u001b[0m\u001b[32m▄\u001b[0m         \u001b[35m▝\u001b[0m\u001b[32m▝\u001b[0m\u001b[32m▘\u001b[0m  │ \n",
      "││                    \u001b[32m▀\u001b[0m\u001b[32m▝\u001b[0m\u001b[32m▀\u001b[0m                      \u001b[32m▀\u001b[0m\u001b[32m▖\u001b[0m\u001b[32m▖\u001b[0m\u001b[32m▄\u001b[0m\u001b[32m▄\u001b[0m\u001b[32m▄\u001b[0m\u001b[32m▖\u001b[0m\u001b[32m▖\u001b[0m\u001b[32m▖\u001b[0m\u001b[32m▐\u001b[0m\u001b[32m▘\u001b[0m   │ \n",
      "││▁▁▁▁▁▁▁▁▁▁▁▁▁▁▁▁▁▁▁▁▁▁▁▁▁▁▁▁▁▁▁▁▁▁▁▁▁▁▁▁▁▁▁▁▁▁\u001b[32m▝\u001b[0m\u001b[32m▝\u001b[0m\u001b[32m▘\u001b[0m▁▁\u001b[32m▝\u001b[0m\u001b[32m▝\u001b[0m\u001b[32m▝\u001b[0m\u001b[32m▘\u001b[0m▁▁▁▁│ 0\n",
      "││                                               \u001b[35m▚\u001b[0m\u001b[35m▄\u001b[0m\u001b[35m▄\u001b[0m\u001b[35m▄\u001b[0m\u001b[35m▀\u001b[0m\u001b[35m▘\u001b[0m      │ \n",
      "└────────────────────────────────────────────────────────────┘\n",
      " 0                  50                  100\n",
      "                          \u001b[34m██\u001b[0m Input\n",
      "                          \u001b[35m██\u001b[0m Target\n",
      "                          \u001b[32m██\u001b[0m Output\n"
     ]
    },
    {
     "name": "stderr",
     "output_type": "stream",
     "text": [
      "100%|██████████| 107/107 [00:03<00:00, 29.14it/s]\n",
      "100%|██████████| 638/638 [01:07<00:00,  9.43it/s]\n",
      "100%|██████████| 107/107 [00:04<00:00, 24.83it/s]\n",
      "100%|██████████| 638/638 [01:07<00:00,  9.44it/s]\n",
      "100%|██████████| 107/107 [00:04<00:00, 26.43it/s]\n",
      "100%|██████████| 638/638 [01:07<00:00,  9.41it/s]\n",
      "  2%|▏         | 2/107 [00:00<00:06, 17.04it/s]"
     ]
    },
    {
     "name": "stdout",
     "output_type": "stream",
     "text": [
      "           Epoch: 18, Test Loss: 0.0044 - Example 0\n",
      "┌────────────────────────────────────────────────────────────┐\n",
      "│\u001b[34m▞\u001b[0m\u001b[34m▚\u001b[0m\u001b[34m▄\u001b[0m\u001b[34m▄\u001b[0m\u001b[34m▄\u001b[0m\u001b[34m▄\u001b[0m\u001b[34m▖\u001b[0m                     \u001b[32m▐\u001b[0m\u001b[32m▄\u001b[0m\u001b[32m▀\u001b[0m\u001b[32m▀\u001b[0m\u001b[32m▀\u001b[0m\u001b[32m▞\u001b[0m                          │ \n",
      "││     \u001b[34m▚\u001b[0m                   \u001b[32m▄\u001b[0m\u001b[32m▞\u001b[0m\u001b[32m▘\u001b[0m    \u001b[35m▝\u001b[0m\u001b[32m▀\u001b[0m\u001b[32m▀\u001b[0m                        │ 1\n",
      "││      \u001b[34m▀\u001b[0m                 \u001b[32m▗\u001b[0m\u001b[35m▘\u001b[0m         \u001b[32m▀\u001b[0m\u001b[32m▘\u001b[0m                   \u001b[32m▗\u001b[0m\u001b[32m▖\u001b[0m\u001b[32m▗\u001b[0m│ \n",
      "││       \u001b[34m▘\u001b[0m\u001b[34m▖\u001b[0m              \u001b[35m▗\u001b[0m\u001b[32m▖\u001b[0m           \u001b[32m▝\u001b[0m\u001b[32m▀\u001b[0m\u001b[32m▘\u001b[0m               \u001b[32m▝\u001b[0m\u001b[32m▘\u001b[0m\u001b[35m▀\u001b[0m\u001b[32m▗\u001b[0m\u001b[32m▞\u001b[0m│ \n",
      "││       \u001b[34m▝\u001b[0m\u001b[34m▝\u001b[0m\u001b[34m▄\u001b[0m            \u001b[35m▗\u001b[0m\u001b[32m▚\u001b[0m              \u001b[32m▗\u001b[0m\u001b[32m▄\u001b[0m\u001b[32m▖\u001b[0m            \u001b[35m▗\u001b[0m\u001b[35m▝\u001b[0m\u001b[32m▝\u001b[0m\u001b[32m▀\u001b[0m  │ \n",
      "││          \u001b[34m▚\u001b[0m          \u001b[35m▗\u001b[0m\u001b[35m▘\u001b[0m                 \u001b[32m▝\u001b[0m          \u001b[35m▄\u001b[0m\u001b[32m▄\u001b[0m\u001b[32m▄\u001b[0m\u001b[32m▖\u001b[0m    │ 0\n",
      "││           \u001b[34m▄\u001b[0m         \u001b[32m▝\u001b[0m\u001b[32m▀\u001b[0m                 \u001b[35m▝\u001b[0m\u001b[32m▀\u001b[0m\u001b[32m▘\u001b[0m      \u001b[32m▗\u001b[0m\u001b[32m▄\u001b[0m\u001b[32m▀\u001b[0m       │ \n",
      "││           \u001b[34m▝\u001b[0m\u001b[34m▖\u001b[0m      \u001b[35m▗\u001b[0m \u001b[32m▝\u001b[0m                    \u001b[32m▝\u001b[0m\u001b[32m▀\u001b[0m\u001b[32m▞\u001b[0m\u001b[32m▄\u001b[0m\u001b[32m▄\u001b[0m\u001b[32m▄\u001b[0m\u001b[32m▄\u001b[0m\u001b[32m▘\u001b[0m\u001b[32m▝\u001b[0m        │ \n",
      "││            \u001b[34m▗\u001b[0m\u001b[34m▄\u001b[0m    \u001b[34m▗\u001b[0m\u001b[32m▟\u001b[0m\u001b[32m▀\u001b[0m\u001b[32m▘\u001b[0m                                     │ \n",
      "││             \u001b[34m▝\u001b[0m\u001b[34m▀\u001b[0m\u001b[34m▄\u001b[0m\u001b[34m▄\u001b[0m\u001b[34m▄\u001b[0m\u001b[34m▘\u001b[0m                                        │ \n",
      "└────────────────────────────────────────────────────────────┘\n",
      " 0                  50                  100\n",
      "                          \u001b[34m██\u001b[0m Input\n",
      "                          \u001b[35m██\u001b[0m Target\n",
      "                          \u001b[32m██\u001b[0m Output\n",
      "           Epoch: 18, Test Loss: 0.0091 - Example 1\n",
      "┌────────────────────────────────────────────────────────────┐\n",
      "││              \u001b[34m▄\u001b[0m\u001b[34m▀\u001b[0m\u001b[34m▀\u001b[0m\u001b[34m▀\u001b[0m\u001b[34m▀\u001b[0m\u001b[32m▚\u001b[0m\u001b[32m▀\u001b[0m\u001b[32m▘\u001b[0m                                     │ \n",
      "││            \u001b[34m▄\u001b[0m\u001b[34m▞\u001b[0m      \u001b[35m▀\u001b[0m\u001b[32m▝\u001b[0m\u001b[32m▄\u001b[0m                                    │ 1\n",
      "││           \u001b[34m▝\u001b[0m          \u001b[35m▚\u001b[0m\u001b[32m▄\u001b[0m                   \u001b[32m▗\u001b[0m\u001b[32m▄\u001b[0m\u001b[32m▄\u001b[0m\u001b[32m▄\u001b[0m\u001b[32m▄\u001b[0m\u001b[32m▖\u001b[0m          │ \n",
      "││           \u001b[34m▞\u001b[0m           \u001b[35m▝\u001b[0m\u001b[32m▀\u001b[0m\u001b[32m▘\u001b[0m               \u001b[32m▝\u001b[0m\u001b[32m▚\u001b[0m\u001b[32m▘\u001b[0m\u001b[35m▀\u001b[0m \u001b[35m▀\u001b[0m\u001b[35m▀\u001b[0m\u001b[32m▀\u001b[0m\u001b[32m▄\u001b[0m\u001b[32m▄\u001b[0m\u001b[32m▖\u001b[0m\u001b[32m▄\u001b[0m      │ \n",
      "││         \u001b[34m▗\u001b[0m\u001b[34m▀\u001b[0m              \u001b[32m▝\u001b[0m\u001b[32m▄\u001b[0m\u001b[32m▄\u001b[0m            \u001b[35m▗\u001b[0m\u001b[35m▝\u001b[0m\u001b[35m▘\u001b[0m       \u001b[35m▝\u001b[0m\u001b[32m▝\u001b[0m\u001b[32m▝\u001b[0m\u001b[32m▚\u001b[0m\u001b[32m▄\u001b[0m\u001b[32m▖\u001b[0m   │ \n",
      "││         \u001b[34m▞\u001b[0m                 \u001b[35m▄\u001b[0m          \u001b[35m▄\u001b[0m\u001b[32m▄\u001b[0m\u001b[32m▀\u001b[0m\u001b[32m▘\u001b[0m            \u001b[35m▐\u001b[0m\u001b[35m▖\u001b[0m   │ 0\n",
      "││        \u001b[34m▞\u001b[0m                  \u001b[32m▝\u001b[0m\u001b[32m▀\u001b[0m\u001b[32m▀\u001b[0m\u001b[32m▘\u001b[0m     \u001b[32m▗\u001b[0m\u001b[32m▄\u001b[0m\u001b[32m▀\u001b[0m                \u001b[32m▝\u001b[0m\u001b[32m▀\u001b[0m\u001b[32m▀\u001b[0m │ \n",
      "│\u001b[34m▌\u001b[0m      \u001b[34m▄\u001b[0m                      \u001b[35m▝\u001b[0m\u001b[32m▄\u001b[0m\u001b[32m▄\u001b[0m\u001b[32m▚\u001b[0m\u001b[32m▄\u001b[0m\u001b[32m▄\u001b[0m\u001b[32m▄\u001b[0m\u001b[32m▘\u001b[0m                   \u001b[35m▝\u001b[0m\u001b[35m▄\u001b[0m\u001b[32m▖\u001b[0m│ \n",
      "│\u001b[34m▗\u001b[0m\u001b[34m▄\u001b[0m\u001b[34m▖\u001b[0m   \u001b[34m▗\u001b[0m \u001b[34m▀\u001b[0m                                                  \u001b[32m▝\u001b[0m│ \n",
      "││ \u001b[34m▀\u001b[0m\u001b[34m▄\u001b[0m\u001b[34m▄\u001b[0m\u001b[34m▄\u001b[0m\u001b[34m▌\u001b[0m                                                    \u001b[35m▝\u001b[0m│ \n",
      "└────────────────────────────────────────────────────────────┘\n",
      " 0                  50                  100\n",
      "                          \u001b[34m██\u001b[0m Input\n",
      "                          \u001b[35m██\u001b[0m Target\n",
      "                          \u001b[32m██\u001b[0m Output\n",
      "           Epoch: 18, Test Loss: 0.0098 - Example 2\n",
      "┌────────────────────────────────────────────────────────────┐\n",
      "││ \u001b[34m▞\u001b[0m\u001b[34m▀\u001b[0m\u001b[34m▀\u001b[0m\u001b[34m▀\u001b[0m\u001b[34m▀\u001b[0m\u001b[34m▚\u001b[0m\u001b[34m▄\u001b[0m                                                   │ \n",
      "│\u001b[34m▄\u001b[0m\u001b[34m▞\u001b[0m       \u001b[34m▀\u001b[0m\u001b[34m▄\u001b[0m                                                 │ 1\n",
      "││         \u001b[34m▝\u001b[0m\u001b[34m▚\u001b[0m\u001b[34m▄\u001b[0m                  \u001b[35m▄\u001b[0m\u001b[32m▚\u001b[0m\u001b[32m▛\u001b[0m\u001b[32m▚\u001b[0m\u001b[32m▄\u001b[0m\u001b[32m▄\u001b[0m                      \u001b[32m▝\u001b[0m│ \n",
      "││            \u001b[34m▚\u001b[0m               \u001b[32m▄\u001b[0m\u001b[32m▞\u001b[0m\u001b[32m▀\u001b[0m    \u001b[35m▀\u001b[0m\u001b[32m▀\u001b[0m\u001b[32m▀\u001b[0m\u001b[32m▙\u001b[0m\u001b[32m▄\u001b[0m\u001b[32m▖\u001b[0m                \u001b[35m▗\u001b[0m\u001b[32m▄\u001b[0m│ \n",
      "││             \u001b[34m▀\u001b[0m\u001b[34m▖\u001b[0m           \u001b[35m▚\u001b[0m\u001b[32m▚\u001b[0m            \u001b[32m▝\u001b[0m\u001b[32m▀\u001b[0m\u001b[32m▖\u001b[0m             \u001b[32m▗\u001b[0m\u001b[32m▞\u001b[0m │ \n",
      "││              \u001b[34m▝\u001b[0m\u001b[34m▜\u001b[0m        \u001b[35m▄\u001b[0m\u001b[32m▝\u001b[0m\u001b[32m▀\u001b[0m               \u001b[32m▝\u001b[0m\u001b[32m▀\u001b[0m\u001b[32m▖\u001b[0m          \u001b[35m▗\u001b[0m\u001b[35m▖\u001b[0m  │ \n",
      "││                \u001b[34m▀\u001b[0m\u001b[34m▄\u001b[0m\u001b[34m▄\u001b[0m\u001b[32m▄\u001b[0m\u001b[32m▄\u001b[0m\u001b[32m▄\u001b[0m\u001b[32m▄\u001b[0m\u001b[32m▄\u001b[0m\u001b[32m▄\u001b[0m\u001b[32m▖\u001b[0m                 \u001b[35m▝\u001b[0m\u001b[32m▄\u001b[0m         \u001b[35m▝\u001b[0m\u001b[32m▄\u001b[0m\u001b[32m▀\u001b[0m  │ \n",
      "││                                             \u001b[32m▀\u001b[0m\u001b[32m▖\u001b[0m  \u001b[32m▗\u001b[0m\u001b[32m▄\u001b[0m\u001b[32m▖\u001b[0m \u001b[35m▗\u001b[0m\u001b[32m▗\u001b[0m    │ \n",
      "││▁▁▁▁▁▁▁▁▁▁▁▁▁▁▁▁▁▁▁▁▁▁▁▁▁▁▁▁▁▁▁▁▁▁▁▁▁▁▁▁▁▁▁▁▁▁\u001b[32m▝\u001b[0m\u001b[32m▀\u001b[0m\u001b[32m▀\u001b[0m\u001b[32m▘\u001b[0m▁\u001b[32m▝\u001b[0m\u001b[32m▀\u001b[0m\u001b[32m▀\u001b[0m\u001b[32m▘\u001b[0m▁▁▁▁│ 0\n",
      "││                                               \u001b[35m▚\u001b[0m\u001b[35m▄\u001b[0m\u001b[35m▄\u001b[0m\u001b[35m▄\u001b[0m\u001b[35m▀\u001b[0m\u001b[35m▘\u001b[0m      │ \n",
      "└────────────────────────────────────────────────────────────┘\n",
      " 0                  50                  100\n",
      "                          \u001b[34m██\u001b[0m Input\n",
      "                          \u001b[35m██\u001b[0m Target\n",
      "                          \u001b[32m██\u001b[0m Output\n"
     ]
    },
    {
     "name": "stderr",
     "output_type": "stream",
     "text": [
      "100%|██████████| 107/107 [00:03<00:00, 29.51it/s]\n",
      "100%|██████████| 638/638 [01:08<00:00,  9.27it/s]\n",
      "100%|██████████| 107/107 [00:03<00:00, 30.26it/s]\n",
      "100%|██████████| 638/638 [01:08<00:00,  9.30it/s]\n",
      "100%|██████████| 107/107 [00:03<00:00, 26.91it/s]\n",
      "100%|██████████| 638/638 [01:08<00:00,  9.27it/s]\n",
      "  2%|▏         | 2/107 [00:00<00:06, 17.00it/s]"
     ]
    },
    {
     "name": "stdout",
     "output_type": "stream",
     "text": [
      "           Epoch: 21, Test Loss: 0.0033 - Example 0\n",
      "┌────────────────────────────────────────────────────────────┐\n",
      "│\u001b[34m▞\u001b[0m\u001b[34m▚\u001b[0m\u001b[34m▄\u001b[0m\u001b[34m▄\u001b[0m\u001b[34m▄\u001b[0m\u001b[34m▄\u001b[0m\u001b[34m▖\u001b[0m                     \u001b[32m▄\u001b[0m\u001b[32m▀\u001b[0m\u001b[32m▀\u001b[0m\u001b[32m▀\u001b[0m\u001b[32m▀\u001b[0m\u001b[32m▘\u001b[0m\u001b[32m▄\u001b[0m\u001b[32m▖\u001b[0m                        │ \n",
      "││     \u001b[34m▚\u001b[0m                   \u001b[32m▄\u001b[0m\u001b[32m▄\u001b[0m     \u001b[32m▝\u001b[0m\u001b[35m▀\u001b[0m\u001b[32m▗\u001b[0m\u001b[32m▄\u001b[0m                       │ 1\n",
      "││      \u001b[34m▀\u001b[0m                 \u001b[32m▝\u001b[0m\u001b[35m▘\u001b[0m         \u001b[35m▚\u001b[0m\u001b[32m▖\u001b[0m                   \u001b[32m▗\u001b[0m \u001b[32m▗\u001b[0m│ \n",
      "││       \u001b[34m▘\u001b[0m\u001b[34m▖\u001b[0m              \u001b[35m▗\u001b[0m\u001b[35m▘\u001b[0m           \u001b[32m▝\u001b[0m\u001b[32m▀\u001b[0m\u001b[32m▘\u001b[0m               \u001b[32m▝\u001b[0m\u001b[35m▄\u001b[0m\u001b[32m▘\u001b[0m\u001b[32m▀\u001b[0m\u001b[32m▘\u001b[0m│ \n",
      "││       \u001b[34m▝\u001b[0m\u001b[34m▝\u001b[0m\u001b[34m▄\u001b[0m            \u001b[35m▗\u001b[0m\u001b[32m▝\u001b[0m\u001b[32m▘\u001b[0m             \u001b[32m▚\u001b[0m\u001b[32m▄\u001b[0m            \u001b[32m▗\u001b[0m\u001b[32m▖\u001b[0m\u001b[32m▝\u001b[0m\u001b[32m▀\u001b[0m   │ \n",
      "││          \u001b[34m▚\u001b[0m          \u001b[35m▗\u001b[0m\u001b[32m▀\u001b[0m\u001b[32m▘\u001b[0m                \u001b[32m▙\u001b[0m          \u001b[32m▗\u001b[0m\u001b[32m▖\u001b[0m\u001b[32m▝\u001b[0m\u001b[32m▘\u001b[0m    │ 0\n",
      "││           \u001b[34m▄\u001b[0m         \u001b[35m▝\u001b[0m                  \u001b[35m▝\u001b[0m\u001b[32m▀\u001b[0m\u001b[32m▘\u001b[0m      \u001b[35m▄\u001b[0m\u001b[32m▗\u001b[0m\u001b[32m▖\u001b[0m       │ \n",
      "││           \u001b[34m▝\u001b[0m\u001b[34m▖\u001b[0m      \u001b[35m▗\u001b[0m \u001b[35m▘\u001b[0m                    \u001b[32m▀\u001b[0m\u001b[32m▄\u001b[0m\u001b[32m▄\u001b[0m\u001b[32m▄\u001b[0m\u001b[32m▄\u001b[0m\u001b[32m▄\u001b[0m\u001b[32m▄\u001b[0m\u001b[32m▀\u001b[0m\u001b[32m▘\u001b[0m        │ \n",
      "││            \u001b[34m▗\u001b[0m\u001b[34m▄\u001b[0m    \u001b[34m▗\u001b[0m\u001b[32m▟\u001b[0m\u001b[32m▄\u001b[0m\u001b[32m▀\u001b[0m                                     │ \n",
      "││             \u001b[34m▝\u001b[0m\u001b[34m▀\u001b[0m\u001b[34m▄\u001b[0m\u001b[34m▄\u001b[0m\u001b[34m▄\u001b[0m\u001b[34m▘\u001b[0m                                        │ \n",
      "└────────────────────────────────────────────────────────────┘\n",
      " 0                  50                  100\n",
      "                          \u001b[34m██\u001b[0m Input\n",
      "                          \u001b[35m██\u001b[0m Target\n",
      "                          \u001b[32m██\u001b[0m Output\n",
      "           Epoch: 21, Test Loss: 0.0092 - Example 1\n",
      "┌────────────────────────────────────────────────────────────┐\n",
      "││              \u001b[34m▄\u001b[0m\u001b[34m▀\u001b[0m\u001b[34m▀\u001b[0m\u001b[34m▀\u001b[0m\u001b[34m▀\u001b[0m\u001b[32m▀\u001b[0m\u001b[32m▀\u001b[0m\u001b[32m▗\u001b[0m                                     │ \n",
      "││            \u001b[34m▄\u001b[0m\u001b[34m▞\u001b[0m      \u001b[35m▀\u001b[0m\u001b[32m▘\u001b[0m                                     │ 1\n",
      "││           \u001b[34m▝\u001b[0m          \u001b[32m▀\u001b[0m\u001b[32m▚\u001b[0m\u001b[32m▖\u001b[0m                  \u001b[32m▗\u001b[0m\u001b[32m▖\u001b[0m\u001b[35m▄\u001b[0m\u001b[32m▗\u001b[0m            │ \n",
      "││           \u001b[34m▞\u001b[0m           \u001b[35m▝\u001b[0m\u001b[32m▝\u001b[0m\u001b[32m▀\u001b[0m               \u001b[35m▖\u001b[0m\u001b[32m▝\u001b[0m\u001b[32m▖\u001b[0m\u001b[32m▀\u001b[0m\u001b[32m▀\u001b[0m\u001b[32m▘\u001b[0m\u001b[32m▀\u001b[0m\u001b[32m▀\u001b[0m\u001b[32m▚\u001b[0m\u001b[32m▄\u001b[0m\u001b[32m▄\u001b[0m       │ \n",
      "││         \u001b[34m▗\u001b[0m\u001b[34m▀\u001b[0m              \u001b[32m▗\u001b[0m\u001b[32m▚\u001b[0m\u001b[32m▄\u001b[0m\u001b[32m▖\u001b[0m           \u001b[35m▗\u001b[0m\u001b[35m▝\u001b[0m\u001b[35m▘\u001b[0m       \u001b[35m▝\u001b[0m\u001b[35m▀\u001b[0m\u001b[32m▀\u001b[0m\u001b[32m▀\u001b[0m\u001b[32m▄\u001b[0m    │ \n",
      "││         \u001b[34m▞\u001b[0m                 \u001b[35m▄\u001b[0m\u001b[32m▝\u001b[0m         \u001b[35m▄\u001b[0m\u001b[32m▄\u001b[0m\u001b[32m▛\u001b[0m\u001b[32m▀\u001b[0m\u001b[32m▘\u001b[0m           \u001b[35m▐\u001b[0m\u001b[32m▗\u001b[0m   │ 0\n",
      "││        \u001b[34m▞\u001b[0m                  \u001b[35m▝\u001b[0m\u001b[35m▀\u001b[0m\u001b[32m▄\u001b[0m\u001b[32m▄\u001b[0m\u001b[32m▄\u001b[0m    \u001b[32m▗\u001b[0m\u001b[32m▖\u001b[0m\u001b[32m▚\u001b[0m                \u001b[32m▘\u001b[0m\u001b[32m▀\u001b[0m  │ \n",
      "│\u001b[34m▌\u001b[0m      \u001b[34m▄\u001b[0m                      \u001b[35m▝\u001b[0m\u001b[35m▀\u001b[0m\u001b[35m▀\u001b[0m\u001b[32m▄\u001b[0m\u001b[32m▄\u001b[0m\u001b[32m▄\u001b[0m\u001b[32m▄\u001b[0m\u001b[32m▖\u001b[0m\u001b[32m▝\u001b[0m                  \u001b[35m▝\u001b[0m\u001b[32m▄\u001b[0m\u001b[32m▖\u001b[0m│ \n",
      "│\u001b[34m▗\u001b[0m\u001b[34m▄\u001b[0m\u001b[34m▖\u001b[0m   \u001b[34m▗\u001b[0m \u001b[34m▀\u001b[0m                                                  \u001b[32m▝\u001b[0m│ \n",
      "││ \u001b[34m▀\u001b[0m\u001b[34m▄\u001b[0m\u001b[34m▄\u001b[0m\u001b[34m▄\u001b[0m\u001b[34m▌\u001b[0m                                                    \u001b[35m▝\u001b[0m│ \n",
      "└────────────────────────────────────────────────────────────┘\n",
      " 0                  50                  100\n",
      "                          \u001b[34m██\u001b[0m Input\n",
      "                          \u001b[35m██\u001b[0m Target\n",
      "                          \u001b[32m██\u001b[0m Output\n",
      "           Epoch: 21, Test Loss: 0.0115 - Example 2\n",
      "┌────────────────────────────────────────────────────────────┐\n",
      "││ \u001b[34m▞\u001b[0m\u001b[34m▀\u001b[0m\u001b[34m▀\u001b[0m\u001b[34m▀\u001b[0m\u001b[34m▀\u001b[0m\u001b[34m▚\u001b[0m\u001b[34m▄\u001b[0m                                                   │ \n",
      "│\u001b[34m▄\u001b[0m\u001b[34m▞\u001b[0m       \u001b[34m▀\u001b[0m\u001b[34m▄\u001b[0m                                                 │ 1\n",
      "││         \u001b[34m▝\u001b[0m\u001b[34m▚\u001b[0m\u001b[34m▄\u001b[0m                  \u001b[32m▝\u001b[0m\u001b[32m▄\u001b[0m\u001b[32m▄\u001b[0m\u001b[32m▄\u001b[0m\u001b[32m▄\u001b[0m\u001b[32m▖\u001b[0m                      \u001b[32m▝\u001b[0m│ \n",
      "││            \u001b[34m▚\u001b[0m               \u001b[32m▄\u001b[0m\u001b[32m▚\u001b[0m\u001b[32m▘\u001b[0m    \u001b[32m▝\u001b[0m\u001b[32m▀\u001b[0m\u001b[32m▀\u001b[0m\u001b[32m▙\u001b[0m\u001b[32m▄\u001b[0m\u001b[32m▄\u001b[0m\u001b[32m▄\u001b[0m\u001b[32m▖\u001b[0m              \u001b[32m▗\u001b[0m\u001b[32m▄\u001b[0m│ \n",
      "││             \u001b[34m▀\u001b[0m\u001b[34m▖\u001b[0m           \u001b[32m▞\u001b[0m\u001b[32m▄\u001b[0m            \u001b[35m▀\u001b[0m\u001b[35m▚\u001b[0m              \u001b[35m▗\u001b[0m\u001b[35m▘\u001b[0m │ \n",
      "││              \u001b[34m▝\u001b[0m\u001b[34m▜\u001b[0m        \u001b[35m▄\u001b[0m\u001b[35m▀\u001b[0m                \u001b[32m▗\u001b[0m\u001b[32m▀\u001b[0m\u001b[32m▖\u001b[0m          \u001b[35m▗\u001b[0m\u001b[32m▗\u001b[0m\u001b[32m▖\u001b[0m │ \n",
      "││                \u001b[34m▀\u001b[0m\u001b[34m▄\u001b[0m\u001b[34m▄\u001b[0m\u001b[32m▄\u001b[0m\u001b[32m▄\u001b[0m\u001b[32m▄\u001b[0m\u001b[32m▗\u001b[0m\u001b[32m▟\u001b[0m\u001b[32m▀\u001b[0m\u001b[32m▀\u001b[0m                 \u001b[35m▝\u001b[0m\u001b[32m▄\u001b[0m         \u001b[35m▝\u001b[0m\u001b[32m▄\u001b[0m\u001b[32m▘\u001b[0m  │ \n",
      "││                     \u001b[32m▝\u001b[0m\u001b[32m▘\u001b[0m                      \u001b[32m▀\u001b[0m\u001b[32m▄\u001b[0m      \u001b[35m▗\u001b[0m\u001b[32m▗\u001b[0m    │ \n",
      "││▁▁▁▁▁▁▁▁▁▁▁▁▁▁▁▁▁▁▁▁▁▁▁▁▁▁▁▁▁▁▁▁▁▁▁▁▁▁▁▁▁▁▁▁▁▁\u001b[32m▘\u001b[0m\u001b[32m▚\u001b[0m\u001b[32m▄\u001b[0m\u001b[32m▀\u001b[0m\u001b[32m▟\u001b[0m\u001b[32m▚\u001b[0m\u001b[32m▄\u001b[0m\u001b[32m▀\u001b[0m\u001b[32m▘\u001b[0m▁▁▁▁│ 0\n",
      "││                                               \u001b[35m▚\u001b[0m\u001b[35m▄\u001b[0m\u001b[35m▄\u001b[0m\u001b[35m▄\u001b[0m\u001b[35m▀\u001b[0m\u001b[35m▘\u001b[0m      │ \n",
      "└────────────────────────────────────────────────────────────┘\n",
      " 0                  50                  100\n",
      "                          \u001b[34m██\u001b[0m Input\n",
      "                          \u001b[35m██\u001b[0m Target\n",
      "                          \u001b[32m██\u001b[0m Output\n"
     ]
    },
    {
     "name": "stderr",
     "output_type": "stream",
     "text": [
      "100%|██████████| 107/107 [00:03<00:00, 29.02it/s]\n",
      "100%|██████████| 638/638 [01:08<00:00,  9.35it/s]\n",
      "100%|██████████| 107/107 [00:03<00:00, 29.70it/s]\n",
      "100%|██████████| 638/638 [01:08<00:00,  9.37it/s]\n",
      "100%|██████████| 107/107 [00:03<00:00, 28.35it/s]\n",
      "100%|██████████| 638/638 [01:08<00:00,  9.33it/s]\n",
      "  2%|▏         | 2/107 [00:00<00:09, 11.27it/s]"
     ]
    },
    {
     "name": "stdout",
     "output_type": "stream",
     "text": [
      "           Epoch: 24, Test Loss: 0.0046 - Example 0\n",
      "┌────────────────────────────────────────────────────────────┐\n",
      "│\u001b[34m▛\u001b[0m\u001b[34m▚\u001b[0m\u001b[34m▄\u001b[0m\u001b[34m▄\u001b[0m\u001b[34m▄\u001b[0m\u001b[34m▄\u001b[0m\u001b[34m▖\u001b[0m                     \u001b[32m▟\u001b[0m\u001b[32m▀\u001b[0m\u001b[32m▀\u001b[0m\u001b[32m▀\u001b[0m\u001b[32m▀\u001b[0m\u001b[32m▚\u001b[0m\u001b[32m▄\u001b[0m\u001b[32m▖\u001b[0m                        │ \n",
      "││     \u001b[34m▚\u001b[0m                   \u001b[32m▄\u001b[0m\u001b[32m▞\u001b[0m      \u001b[35m▀\u001b[0m\u001b[32m▗\u001b[0m\u001b[32m▄\u001b[0m\u001b[32m▖\u001b[0m                      │ 1\n",
      "││      \u001b[34m▀\u001b[0m\u001b[34m▖\u001b[0m                \u001b[32m▗\u001b[0m          \u001b[35m▚\u001b[0m\u001b[35m▖\u001b[0m                    \u001b[32m▗\u001b[0m\u001b[32m▄\u001b[0m│ \n",
      "││       \u001b[34m▘\u001b[0m\u001b[34m▖\u001b[0m              \u001b[35m▗\u001b[0m\u001b[32m▖\u001b[0m           \u001b[32m▝\u001b[0m\u001b[32m▀\u001b[0m\u001b[32m▘\u001b[0m               \u001b[32m▗\u001b[0m\u001b[32m▄\u001b[0m\u001b[32m▄\u001b[0m\u001b[32m▖\u001b[0m\u001b[35m▝\u001b[0m│ \n",
      "││       \u001b[34m▝\u001b[0m\u001b[34m▝\u001b[0m\u001b[34m▄\u001b[0m            \u001b[32m▗\u001b[0m\u001b[32m▜\u001b[0m              \u001b[32m▀\u001b[0m\u001b[32m▄\u001b[0m\u001b[32m▖\u001b[0m            \u001b[35m▗\u001b[0m\u001b[32m▀\u001b[0m    │ \n",
      "││          \u001b[34m▚\u001b[0m          \u001b[35m▗\u001b[0m\u001b[35m▘\u001b[0m                 \u001b[35m▖\u001b[0m          \u001b[35m▄\u001b[0m\u001b[35m▀\u001b[0m\u001b[32m▀\u001b[0m     │ 0\n",
      "││           \u001b[34m▚\u001b[0m         \u001b[35m▞\u001b[0m                  \u001b[32m▝\u001b[0m\u001b[32m▀\u001b[0m\u001b[32m▘\u001b[0m     \u001b[35m▗\u001b[0m\u001b[35m▄\u001b[0m\u001b[32m▄\u001b[0m\u001b[32m▀\u001b[0m\u001b[32m▀\u001b[0m      │ \n",
      "││           \u001b[34m▝\u001b[0m\u001b[34m▖\u001b[0m      \u001b[35m▄\u001b[0m \u001b[32m▝\u001b[0m\u001b[32m▘\u001b[0m                   \u001b[32m▀\u001b[0m\u001b[32m▚\u001b[0m\u001b[32m▄\u001b[0m\u001b[32m▄\u001b[0m\u001b[32m▄\u001b[0m\u001b[32m▄\u001b[0m\u001b[32m▄\u001b[0m\u001b[32m▀\u001b[0m         │ \n",
      "││            \u001b[34m▗\u001b[0m\u001b[34m▄\u001b[0m    \u001b[34m▗\u001b[0m\u001b[32m▟\u001b[0m\u001b[32m▞\u001b[0m\u001b[32m▘\u001b[0m                                     │ \n",
      "││              \u001b[34m▀\u001b[0m\u001b[34m▄\u001b[0m\u001b[34m▄\u001b[0m\u001b[34m▄\u001b[0m\u001b[34m▘\u001b[0m                                        │ \n",
      "└────────────────────────────────────────────────────────────┘\n",
      " 0                  50                  100\n",
      "                          \u001b[34m██\u001b[0m Input\n",
      "                          \u001b[35m██\u001b[0m Target\n",
      "                          \u001b[32m██\u001b[0m Output\n",
      "           Epoch: 24, Test Loss: 0.0078 - Example 1\n",
      "┌────────────────────────────────────────────────────────────┐\n",
      "││              \u001b[34m▄\u001b[0m\u001b[34m▀\u001b[0m\u001b[34m▀\u001b[0m\u001b[34m▀\u001b[0m\u001b[34m▀\u001b[0m\u001b[32m▀\u001b[0m\u001b[32m▗\u001b[0m                                      │ \n",
      "││            \u001b[34m▄\u001b[0m\u001b[34m▞\u001b[0m      \u001b[32m▘\u001b[0m\u001b[32m▀\u001b[0m\u001b[32m▘\u001b[0m                                    │ 1\n",
      "││           \u001b[34m▝\u001b[0m          \u001b[32m▗\u001b[0m\u001b[32m▀\u001b[0m\u001b[32m▗\u001b[0m                   \u001b[32m▖\u001b[0m\u001b[32m▄\u001b[0m\u001b[32m▄\u001b[0m\u001b[32m▖\u001b[0m           │ \n",
      "││           \u001b[34m▞\u001b[0m           \u001b[35m▝\u001b[0m\u001b[32m▘\u001b[0m\u001b[32m▀\u001b[0m               \u001b[35m▖\u001b[0m\u001b[32m▄\u001b[0m\u001b[32m▄\u001b[0m\u001b[32m▀\u001b[0m \u001b[35m▀\u001b[0m\u001b[32m▝\u001b[0m\u001b[32m▀\u001b[0m\u001b[32m▄\u001b[0m\u001b[32m▄\u001b[0m        │ \n",
      "││         \u001b[34m▗\u001b[0m\u001b[34m▀\u001b[0m              \u001b[32m▗\u001b[0m\u001b[32m▚\u001b[0m             \u001b[35m▗\u001b[0m\u001b[32m▀\u001b[0m\u001b[35m▘\u001b[0m       \u001b[35m▝\u001b[0m\u001b[32m▀\u001b[0m\u001b[32m▀\u001b[0m\u001b[32m▄\u001b[0m\u001b[32m▄\u001b[0m    │ \n",
      "││         \u001b[34m▞\u001b[0m                 \u001b[32m▀\u001b[0m          \u001b[32m▗\u001b[0m\u001b[32m▄\u001b[0m\u001b[32m▞\u001b[0m             \u001b[35m▐\u001b[0m\u001b[32m▗\u001b[0m\u001b[32m▖\u001b[0m  │ 0\n",
      "││        \u001b[34m▞\u001b[0m                  \u001b[32m▝\u001b[0m\u001b[32m▀\u001b[0m\u001b[32m▀\u001b[0m\u001b[32m▀\u001b[0m     \u001b[35m▄\u001b[0m\u001b[32m▄\u001b[0m\u001b[32m▘\u001b[0m                \u001b[32m▘\u001b[0m\u001b[32m▝\u001b[0m  │ \n",
      "│\u001b[34m▌\u001b[0m      \u001b[34m▄\u001b[0m                      \u001b[35m▝\u001b[0m\u001b[35m▀\u001b[0m\u001b[32m▄\u001b[0m\u001b[32m▄\u001b[0m\u001b[32m▄\u001b[0m\u001b[32m▄\u001b[0m\u001b[32m▄\u001b[0m\u001b[32m▄\u001b[0m                   \u001b[32m▝\u001b[0m\u001b[32m▚\u001b[0m\u001b[32m▖\u001b[0m│ \n",
      "│\u001b[34m▗\u001b[0m\u001b[34m▄\u001b[0m\u001b[34m▖\u001b[0m   \u001b[34m▗\u001b[0m \u001b[34m▀\u001b[0m                                                  \u001b[32m▝\u001b[0m│ \n",
      "││ \u001b[34m▀\u001b[0m\u001b[34m▄\u001b[0m\u001b[34m▄\u001b[0m\u001b[34m▄\u001b[0m\u001b[34m▌\u001b[0m                                                    \u001b[35m▝\u001b[0m│ \n",
      "└────────────────────────────────────────────────────────────┘\n",
      " 0                  50                  100\n",
      "                          \u001b[34m██\u001b[0m Input\n",
      "                          \u001b[35m██\u001b[0m Target\n",
      "                          \u001b[32m██\u001b[0m Output\n",
      "           Epoch: 24, Test Loss: 0.0096 - Example 2\n"
     ]
    },
    {
     "name": "stderr",
     "output_type": "stream",
     "text": [
      "  7%|▋         | 7/107 [00:00<00:06, 16.19it/s]"
     ]
    },
    {
     "name": "stdout",
     "output_type": "stream",
     "text": [
      "┌────────────────────────────────────────────────────────────┐\n",
      "││ \u001b[34m▞\u001b[0m\u001b[34m▀\u001b[0m\u001b[34m▀\u001b[0m\u001b[34m▀\u001b[0m\u001b[34m▀\u001b[0m\u001b[34m▚\u001b[0m\u001b[34m▄\u001b[0m                                                   │ \n",
      "│\u001b[34m▄\u001b[0m\u001b[34m▞\u001b[0m       \u001b[34m▀\u001b[0m\u001b[34m▄\u001b[0m                                                 │ 1\n",
      "││         \u001b[34m▝\u001b[0m\u001b[34m▚\u001b[0m\u001b[34m▄\u001b[0m                  \u001b[35m▄\u001b[0m\u001b[32m▝\u001b[0m\u001b[32m▀\u001b[0m\u001b[32m▚\u001b[0m\u001b[32m▄\u001b[0m\u001b[32m▄\u001b[0m                      \u001b[35m▐\u001b[0m│ \n",
      "││            \u001b[34m▚\u001b[0m               \u001b[32m▄\u001b[0m\u001b[32m▀\u001b[0m\u001b[32m▀\u001b[0m\u001b[32m▘\u001b[0m\u001b[32m▘\u001b[0m  \u001b[35m▀\u001b[0m\u001b[32m▀\u001b[0m\u001b[32m▀\u001b[0m\u001b[32m▚\u001b[0m\u001b[32m▄\u001b[0m\u001b[32m▖\u001b[0m                \u001b[35m▗\u001b[0m\u001b[32m▀\u001b[0m│ \n",
      "││             \u001b[34m▀\u001b[0m\u001b[34m▖\u001b[0m           \u001b[32m▝\u001b[0m\u001b[32m▚\u001b[0m            \u001b[32m▝\u001b[0m\u001b[32m▀\u001b[0m\u001b[32m▄\u001b[0m\u001b[32m▖\u001b[0m            \u001b[35m▗\u001b[0m\u001b[35m▘\u001b[0m │ \n",
      "││              \u001b[34m▝\u001b[0m\u001b[34m▜\u001b[0m        \u001b[35m▄\u001b[0m\u001b[32m▟\u001b[0m\u001b[32m▘\u001b[0m               \u001b[35m▀\u001b[0m\u001b[35m▖\u001b[0m           \u001b[35m▗\u001b[0m\u001b[32m▗\u001b[0m\u001b[32m▄\u001b[0m │ \n",
      "││                \u001b[34m▀\u001b[0m\u001b[34m▄\u001b[0m\u001b[34m▄\u001b[0m\u001b[32m▄\u001b[0m\u001b[35m▄\u001b[0m\u001b[32m▄\u001b[0m\u001b[32m▗\u001b[0m\u001b[32m▄\u001b[0m\u001b[32m▀\u001b[0m                  \u001b[32m▝\u001b[0m\u001b[32m▄\u001b[0m\u001b[32m▖\u001b[0m        \u001b[35m▝\u001b[0m\u001b[32m▄\u001b[0m\u001b[32m▖\u001b[0m  │ \n",
      "││                    \u001b[32m▀\u001b[0m\u001b[32m▝\u001b[0m\u001b[32m▘\u001b[0m                      \u001b[32m▝\u001b[0m\u001b[32m▙\u001b[0m  \u001b[32m▖\u001b[0m   \u001b[35m▗\u001b[0m\u001b[32m▐\u001b[0m    │ \n",
      "││▁▁▁▁▁▁▁▁▁▁▁▁▁▁▁▁▁▁▁▁▁▁▁▁▁▁▁▁▁▁▁▁▁▁▁▁▁▁▁▁▁▁▁▁▁▁\u001b[35m▚\u001b[0m\u001b[32m▚\u001b[0m\u001b[32m▀\u001b[0m\u001b[32m▝\u001b[0m\u001b[32m▀\u001b[0m\u001b[32m▞\u001b[0m\u001b[32m▟\u001b[0m\u001b[32m▀\u001b[0m\u001b[32m▘\u001b[0m▁▁▁▁│ 0\n",
      "││                                               \u001b[35m▚\u001b[0m\u001b[35m▄\u001b[0m\u001b[35m▄\u001b[0m\u001b[35m▄\u001b[0m\u001b[35m▀\u001b[0m\u001b[35m▘\u001b[0m      │ \n",
      "└────────────────────────────────────────────────────────────┘\n",
      " 0                  50                  100\n",
      "                          \u001b[34m██\u001b[0m Input\n",
      "                          \u001b[35m██\u001b[0m Target\n",
      "                          \u001b[32m██\u001b[0m Output\n"
     ]
    },
    {
     "name": "stderr",
     "output_type": "stream",
     "text": [
      "100%|██████████| 107/107 [00:04<00:00, 25.85it/s]\n"
     ]
    }
   ],
   "source": [
    "leapsedTimeBonus, ListofLossBonus = run_experiment(TeacherForcingModelBonus(input_size, hidden_size_TF).to(device))"
   ]
  },
  {
   "cell_type": "code",
   "execution_count": 16,
   "id": "w5AGrdIff9OE",
   "metadata": {
    "colab": {
     "base_uri": "https://localhost:8080/",
     "height": 472
    },
    "id": "w5AGrdIff9OE",
    "outputId": "5c47879c-2dd2-4207-af7f-c6f9f15c4019"
   },
   "outputs": [
    {
     "data": {
      "image/png": "[encoded data removed]",
      "text/plain": [
       "<Figure size 640x480 with 1 Axes>"
      ]
     },
     "metadata": {},
     "output_type": "display_data"
    }
   ],
   "source": [
    "import matplotlib.pyplot as plt\n",
    "x_axis = [i for i in range(num_epochs)]\n",
    "y_curriculum = ListofLoss\n",
    "y_curriculum2 = ListofLossTF\n",
    "y_curriculum3 = ListofLossBonus\n",
    "plt.plot(x_axis, y_curriculum, label = \"Simple GRU\")\n",
    "plt.plot(x_axis, y_curriculum2, label = \"Teacher Forcing\")\n",
    "plt.plot(x_axis, y_curriculum3, label = \"Curriculum Strategy (dynamic)\")\n",
    "plt.title('Loss by RNN Strategy')\n",
    "plt.xlabel('Epochs')\n",
    "plt.ylabel('Loss')\n",
    "plt.legend()\n",
    "plt.show()"
   ]
  },
  {
   "cell_type": "code",
   "execution_count": 17,
   "id": "qC-ehHhraHFB",
   "metadata": {
    "colab": {
     "base_uri": "https://localhost:8080/"
    },
    "id": "qC-ehHhraHFB",
    "outputId": "1b967704-5794-4514-bbe6-42b949db5c47"
   },
   "outputs": [
    {
     "data": {
      "text/plain": [
       "1735.142736"
      ]
     },
     "execution_count": 17,
     "metadata": {},
     "output_type": "execute_result"
    }
   ],
   "source": [
    "#leapsedTime\n",
    "#leapsedTimeTF\n",
    "leapsedTimeBonus.total_seconds()"
   ]
  },
  {
   "cell_type": "code",
   "execution_count": 18,
   "id": "rn2Dh64naHi3",
   "metadata": {
    "colab": {
     "base_uri": "https://localhost:8080/",
     "height": 430
    },
    "id": "rn2Dh64naHi3",
    "outputId": "58412c84-7d27-4853-94df-9a2b5f6446ac"
   },
   "outputs": [
    {
     "data": {
      "image/png": "[encoded data removed]",
      "text/plain": [
       "<Figure size 640x480 with 1 Axes>"
      ]
     },
     "metadata": {},
     "output_type": "display_data"
    }
   ],
   "source": [
    "x = np.array([\"Simple GRU\", \"Teacher Forcing\", \"Curriculum Strategy (dynamic)\"])\n",
    "y = np.array([leapsedTime.total_seconds(),leapsedTimeTF.total_seconds(), leapsedTimeBonus.total_seconds()])\n",
    "\n",
    "plt.bar(x,y)\n",
    "plt.show()"
   ]
  },
  {
   "cell_type": "code",
   "execution_count": 18,
   "id": "ydVpT_AWaH1Y",
   "metadata": {
    "id": "ydVpT_AWaH1Y"
   },
   "outputs": [],
   "source": []
  },
  {
   "cell_type": "markdown",
   "id": "67a93dce",
   "metadata": {
    "id": "67a93dce"
   },
   "source": [
    "# The Challenge of Long-Term Dependencies\n",
    "\n",
    "The basic problem is that gradients propagated over many stages tend to either vanish (most of the time) or explode (rarely, but with much damage to the optimization).\n",
    "\n",
    "Recurrent networks involve the composition of the same function multiple times, once per time step.\n",
    "\n",
    "In particular, the function composition employed by recurrent neural networks somewhat resembles matrix multiplication. We can think of the recurrence relation:\n",
    "\n",
    "$h^{(t)} = W^Th^{(t-1)}$\n",
    "\n",
    "as a very simple recurrent neural network lacking a nonlinear activation function and lacking inputs x. \n",
    "This recurrence relation essentially describes the power method. It may be simpliﬁed to:\n",
    "\n",
    "$h^{(t)} = (W^t)^Th^{(0)}$\n",
    "\n",
    "and if W admits an eigendecomposition of the form:\n",
    "\n",
    "$W = Q \\Lambda Q^T$\n",
    "\n",
    "with orthogonal Q, the recurrence may be simpliﬁed further to:\n",
    "\n",
    "$h^{(t)} = Q^T \\Lambda^{t} Q h^{(0)}$\n",
    "\n",
    "The eigenvalues are raised to the power of t, causing eigenvalues with magnitude less than one to decay to zero and eigenvalues with magnitude greater than one to explode. Any component of $h(0)$ that is not aligned with the largest eigenvector will eventually be discarded."
   ]
  },
  {
   "cell_type": "markdown",
   "id": "9167c5bd",
   "metadata": {
    "id": "9167c5bd"
   },
   "source": [
    "Several approaches have been proposed to tackle this. Namely:\n",
    "- Adding Skip Connections through Time: One way to obtain coarse time scales is to add direct connections from variables in the distant past to variables in the present.\n",
    "- Adding other controlled gates: This allows the network to accumulate information (such as evidence for a particular feature or category) over a long duration. Once that information has been used, however, it might be useful for the neural network to forget the old state.\n",
    "- Gradient clipping: Prevents gradient explosion\n",
    "- Many others..."
   ]
  },
  {
   "cell_type": "markdown",
   "id": "05e7ce59",
   "metadata": {
    "id": "05e7ce59"
   },
   "source": [
    "# Exercise\n",
    "A more comprehensive look into sequence modeling can be found at: https://www.deeplearningbook.org/contents/rnn.html\n",
    "\n",
    "One of the strategies to train RNNs is called teacher forcing. This strategy allows for the network to use the actual label instead of its generated output as input to the next step. This allows for the gradient to be propagated through fewer steps in some networks and also for the network to slowly be able to use its own outputs.\n",
    "\n",
    "Exercise:\n",
    "Implement the **teacher forcing** mechanism and compare the results."
   ]
  },
  {
   "cell_type": "markdown",
   "id": "74e75e0e",
   "metadata": {
    "id": "74e75e0e"
   },
   "source": []
  },
  {
   "cell_type": "markdown",
   "id": "lcc5_5h_iNPo",
   "metadata": {
    "id": "lcc5_5h_iNPo"
   },
   "source": [
    "## Answer"
   ]
  },
  {
   "cell_type": "markdown",
   "id": "iw81nyNziQFO",
   "metadata": {
    "id": "iw81nyNziQFO"
   },
   "source": [
    "**Introduction**: \n",
    "- RNNs are a class of neural network designed to __process sequence of related data__ by allowing previous output to be used as inputs while having hidden states. \n",
    "- As main __advantages__ they are capable of process input of any length, model size does not increase with the size of input, computation takes into account historical information and weights are shared across time. \n",
    "- However computation may be __slow and they have difficulty of accessing information from a long time ago__, also known as the vanishing gradient problem. Thus GRU and LSTM architectures are used to handle this."
   ]
  },
  {
   "cell_type": "markdown",
   "id": "g0zg_23EiUKJ",
   "metadata": {
    "id": "g0zg_23EiUKJ"
   },
   "source": [
    "**The Problem**: \n",
    "- In our example a special kind of RNN architecture called GRU, was used to predict the sea surface height (SSH) based on measurements extracted from the Santos Port Channel dataset.\n",
    "- The GRU is an advanced version of the classical RNN, as well as LSTM achitecture. Their primary purpose is to store long-term information.\n",
    "- In order to improve RNN performance teacher forcing mechanism was used. It is one of the strategies used to train the so-called Encoder-Decoder model which is a logial continuation of RNN model and they have provided the state-of-the-art results in sequence-to-sequence multistep time series forecasting."
   ]
  },
  {
   "cell_type": "markdown",
   "id": "Of0nM8Pai1uk",
   "metadata": {
    "id": "Of0nM8Pai1uk"
   },
   "source": [
    "**More about _Teacher Forcing_**: \n",
    "- Teacher forcing training adds external information to the training before loss calculation.\n",
    "- During teacher forcing training, the decoder RNN cell receives actual previous target values on each step, as shown in figure below:"
   ]
  },
  {
   "cell_type": "markdown",
   "id": "kpVpGQyei6BD",
   "metadata": {
    "id": "kpVpGQyei6BD"
   },
   "source": [
    "<img src='https://drive.google.com/uc?id=1wksfIrXGPgCyrkIyGJFAX3X16T3QMz_t' width=\"50%\" height=\"50%\">"
   ]
  },
  {
   "cell_type": "markdown",
   "id": "_H9eqQazkJuW",
   "metadata": {
    "id": "_H9eqQazkJuW"
   },
   "source": [
    "**The Implementation**: \n",
    "- As RNN cell will be feed by actual previous target values to training, hidden_size parameter must to be equal to **1** (target dimension) instead of 64;\n",
    "- A new class, TeacherForcingModel, was created. It uses the t-1 actual target value as the input for the next prediction step (i.e. teacher forcing) from the second iteration on. Forward method requires target values (y) as additional parameter;\n",
    "- Training and evaluation model compute outputs having target_values as new parameter having _outputs = model(inputs, targets,targets.shape[1])_, as opposite as _outputs = model(inputs, targets.shape[1])_ previously used."
   ]
  },
  {
   "cell_type": "markdown",
   "id": "0B4QZRvRkOIx",
   "metadata": {
    "id": "0B4QZRvRkOIx"
   },
   "source": [
    "**The Scenarios**: \n",
    "- The teacher forcing model as well as the classical GRU model were performed locally, at mini-conda and Google Colab environments.\n",
    "- In order to measure performance three metrics were used: overall execution lapsed time, best test loss and time-to-fit."
   ]
  },
  {
   "cell_type": "markdown",
   "id": "9LHLkei1kZtS",
   "metadata": {
    "id": "9LHLkei1kZtS"
   },
   "source": [
    "**Results**: \n",
    "- As expected, teacher forcing approach improved network performance under all metrics no matter the environment.\n",
    "\n",
    "|Trainning strategie | Environment | Execution time | Best Test Loss \n",
    "| --- | --- | --- | --- \n",
    "|no teacher forcing | running at **colab** device(type='cpu') | 1:09:03.001693 | Epoch: 13, Test Loss: 0.0388 - Example 2 \n",
    "|**with teacher forcing** | running at colab device device(type='cpu') | 0:45:35.660404 | Epoch: 13, Test Loss: 0.0013 - Example 0 \n",
    "|no teacher forcing | running at **mini-conda** device(type='cpu') | 1:59:40.389969 | Epoch: 7, Test Loss: 0.0318 - Example 0 \n",
    "|**with teacher forcing** | running at mini-conda device(type='cpu') | 1:06:54.284348 | Epoch: 4, Test Loss: 0.0011 - Example 0\n",
    "\n",
    "- The use of teacher forcing was proved to be ~65% faster and 30 times more accurate given our problem context running at Google Colab. Not very different when executed at mini-conda environment it was ~56% faster and 29 times more accurate.\n",
    "- Last, but not least, by visual inspection we notice that with the use of teacher forcing since the first epoch the model outputs shapes of actual values, on the other hand without it, the model takes much longer to do it. See figure below:"
   ]
  },
  {
   "cell_type": "markdown",
   "id": "G-D9rK0KkTuZ",
   "metadata": {
    "id": "G-D9rK0KkTuZ"
   },
   "source": [
    "**References:**\n",
    "\n",
    "- Article: The Unreasonable Effectiveness of Recurrent Neural Networks, available at: https://karpathy.github.io/2015/05/21/rnn-effectiveness/\n",
    "- Book: Deep Learning, provided by MIT, available at: https://www.deeplearningbook.org/\n",
    "- Book: Time Series Forecasting using Deep Learning: Combining PyTorch, RNN, TCN, and Deep Neural Network Models to Provide Production-Ready Prediction Solutions (English Edition)\n",
    "- PyTorch Tutorial, by Patrick Loeber, available at: https://www.youtube.com/watch?v=EMXfZB8FVUA&list=PLqnslRFeH2UrcDBWF5mfPGpqQDSta6VK4"
   ]
  }
 ],
 "metadata": {
  "accelerator": "GPU",
  "colab": {
   "gpuType": "T4",
   "provenance": []
  },
  "kernelspec": {
   "display_name": "Python 3 (ipykernel)",
   "language": "python",
   "name": "python3"
  },
  "language_info": {
   "codemirror_mode": {
    "name": "ipython",
    "version": 3
   },
   "file_extension": ".py",
   "mimetype": "text/x-python",
   "name": "python",
   "nbconvert_exporter": "python",
   "pygments_lexer": "ipython3",
   "version": "3.10.4"
  },
  "toc": {
   "base_numbering": 1,
   "nav_menu": {},
   "number_sections": true,
   "sideBar": true,
   "skip_h1_title": false,
   "title_cell": "Table of Contents",
   "title_sidebar": "Contents",
   "toc_cell": false,
   "toc_position": {},
   "toc_section_display": true,
   "toc_window_display": true
  }
 },
 "nbformat": 4,
 "nbformat_minor": 5
}
