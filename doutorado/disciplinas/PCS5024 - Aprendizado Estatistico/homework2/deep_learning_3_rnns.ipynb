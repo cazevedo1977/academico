{
 "cells": [
  {
   "cell_type": "markdown",
   "id": "1e876d74",
   "metadata": {
    "id": "1e876d74"
   },
   "source": [
    "# PCS5024 - Aprendizado Estatístico - Statistical Learning - 2023/1\n",
    "### Professors: \n",
    "### Anna Helena Reali Costa (anna.reali@usp.br)\n",
    "### Fabio G. Cozman (fgcozman@usp.br)"
   ]
  },
  {
   "cell_type": "code",
   "execution_count": 1,
   "id": "47f5e918",
   "metadata": {
    "id": "47f5e918"
   },
   "outputs": [],
   "source": [
    "!pip install --quiet torch numpy pandas gdown uniplot matplotlib"
   ]
  },
  {
   "cell_type": "code",
   "execution_count": 2,
   "id": "d378e917-4b88-4ad6-8262-26bc03ca70c1",
   "metadata": {
    "id": "d378e917-4b88-4ad6-8262-26bc03ca70c1"
   },
   "outputs": [],
   "source": [
    "import torch\n",
    "import torch.nn as nn\n",
    "import torch.optim as optim\n",
    "import numpy as np\n",
    "import pandas as pd\n",
    "from torch.utils.data import TensorDataset, DataLoader\n",
    "import gdown\n",
    "from tqdm import tqdm\n",
    "import uniplot\n",
    "import datetime\n",
    "import random"
   ]
  },
  {
   "cell_type": "markdown",
   "id": "217d362d-d6b6-427d-bdab-ccd648bd94a7",
   "metadata": {
    "id": "217d362d-d6b6-427d-bdab-ccd648bd94a7"
   },
   "source": [
    "# Recurrent Neural Networks\n",
    "\n",
    "Recurrent Neural Networks (RNNs) is a family of neural network specifically designed for processing **sequential data** (Rumelhart et al., 1986a). They can handle sequences of _variable length_ and _share parameters_ across different parts of the model, making them more adaptable to different input forms. RNNs can generalize across different sequence lengths and positions in time, which is particularly important when specific information can occur at multiple positions within a sequence.\n",
    "\n",
    "In contrast to traditional fully connected feedforward networks, RNNs share the same weights across several time steps. This allows the network to learn language rules at each position in the sequence without having to relearn them separately. Convolution across a 1-D temporal sequence is another related idea, used in Time-Delay Neural Networks (TDNNs) (Lang and Hinton, 1988; Waibel et al., 1989; Lang et al., 1990). While convolution allows for parameter sharing across time, it is shallow compared to the deep computational graph sharing in RNNs.\n",
    "\n",
    "**Sharing weights is an idea from 1980s ML and is still very commonly used in Deep Learning!**"
   ]
  },
  {
   "cell_type": "markdown",
   "id": "e811d73c",
   "metadata": {
    "id": "e811d73c"
   },
   "source": [
    "In general, a RNN can be represented as following:\n",
    "\n",
    "<img src='https://drive.google.com/uc?id=14x9VlBRucvDCwBqS00xjOYWoYqVuMb3w'  width=\"40%\" height=\"40%\">\n",
    "\n",
    "The transformations U, W and V are shared for all $x$ the same way CNNs share the same set of kernels for the whole image."
   ]
  },
  {
   "cell_type": "markdown",
   "id": "ab347de1-3c0b-4902-93bc-b042455f44bc",
   "metadata": {
    "id": "ab347de1-3c0b-4902-93bc-b042455f44bc"
   },
   "source": [
    "RNNs compute a new hidden state $h$ for each new input $x$:\n",
    "\n",
    "$h^{(t)} = f(h^{(t-1)},x^{(t)},\\theta)$\n",
    "\n",
    "There are several RNNs models. The most common are:\n",
    "\n",
    "<img src=\"https://miro.medium.com/v2/resize:fit:4800/format:webp/1*B0q2ZLsUUw31eEImeVf3PQ.png\"   width=\"60%\" height=\"60%\">"
   ]
  },
  {
   "cell_type": "markdown",
   "id": "63532fda",
   "metadata": {
    "id": "63532fda"
   },
   "source": [
    "In this notebook we'll use the Gated Recurrent Unit or GRU (Chung et al. 2014) architecture to show how RNNs can be used in a forecast task.\n",
    "\n",
    "\n",
    "$r_t = \\sigma(W_{ir} x_t + b_{ir} + W_{hr} h_{(t-1)} + b_{hr}) \\\\\n",
    "z_t = \\sigma(W_{iz} x_t + b_{iz} + W_{hz} h_{(t-1)} + b_{hz}) \\\\\n",
    "n_t = \\tanh(W_{in} x_t + b_{in} + r_t * (W_{hn} h_{(t-1)}+ b_{hn})) \\\\\n",
    "h_t = (1 - z_t) * n_t + z_t * h_{(t-1)}$"
   ]
  },
  {
   "cell_type": "markdown",
   "id": "c32e6ba1",
   "metadata": {
    "id": "c32e6ba1"
   },
   "source": [
    "Let's see an example of a sequence of GPS measurements (2 features) being processed by an RNN with hidden size 4.\n",
    "\n",
    "<img src='https://drive.google.com/uc?id=1EbcmMY7pvodQO_8a9mUNOu2ahggvDSEc'  width=\"60%\" height=\"60%\" align=\"left\">"
   ]
  },
  {
   "cell_type": "markdown",
   "id": "1d17ab6c",
   "metadata": {
    "id": "1d17ab6c"
   },
   "source": [
    "To further illustrate how RNNs can be used now we'll use sea surface height (SSH) measurements extracted from the Santos Port Channel dataset. This dataset is a collection of measurements from several sensors, but we're only interested in SSH."
   ]
  },
  {
   "cell_type": "code",
   "execution_count": 2,
   "id": "1931697c",
   "metadata": {},
   "outputs": [
    {
     "name": "stderr",
     "output_type": "stream",
     "text": [
      "Downloading...\n",
      "From: https://drive.google.com/uc?id=1qZv6wwHLyMIZQQNQN8NN676AIgF-XJt5\n",
      "To: C:\\Caio\\DevProjects\\Python\\academico\\doutorado\\disciplinas\\PCS5024 - Aprendizado Estatistico\\homework2\\santos_ssh.csv\n",
      "100%|███████████████████████████████████████████████| 792k/792k [00:00<00:00, 2.92MB/s]\n"
     ]
    },
    {
     "data": {
      "text/plain": [
       "'santos_ssh.csv'"
      ]
     },
     "execution_count": 2,
     "metadata": {},
     "output_type": "execute_result"
    }
   ],
   "source": [
    "id = \"1qZv6wwHLyMIZQQNQN8NN676AIgF-XJt5\"\n",
    "gdown.download(id=id, output=\"santos_ssh.csv\", quiet=False)"
   ]
  },
  {
   "cell_type": "code",
   "execution_count": 3,
   "id": "a6d0a1f0-48a4-4d7a-b7aa-00a48330f4d7",
   "metadata": {
    "colab": {
     "base_uri": "https://localhost:8080/"
    },
    "id": "a6d0a1f0-48a4-4d7a-b7aa-00a48330f4d7",
    "outputId": "22e0f9c7-afd5-4f7a-f9f3-1526aefc85fb"
   },
   "outputs": [
    {
     "data": {
      "text/plain": [
       "(                   datetime   ssh\n",
       " 0 2020-01-01 00:00:00+00:00  0.70\n",
       " 1 2020-01-01 00:10:00+00:00  0.69\n",
       " 2 2020-01-01 00:20:00+00:00  0.68\n",
       " 3 2020-01-01 00:30:00+00:00  0.67\n",
       " 4 2020-01-01 00:40:00+00:00  0.67,\n",
       "                        datetime   ssh\n",
       " 21293 2020-06-01 00:00:00+00:00  0.90\n",
       " 21294 2020-06-01 00:10:00+00:00  0.92\n",
       " 21295 2020-06-01 00:20:00+00:00  0.94\n",
       " 21296 2020-06-01 00:30:00+00:00  0.99\n",
       " 21297 2020-06-01 00:40:00+00:00  1.01)"
      ]
     },
     "execution_count": 3,
     "metadata": {},
     "output_type": "execute_result"
    }
   ],
   "source": [
    "df = pd.read_csv(\"santos_ssh.csv\")\n",
    "df[\"datetime\"] = pd.to_datetime(df[\"datetime\"])\n",
    "train_df = df[df[\"datetime\"].dt.tz_convert(None) < np.datetime64(\"2020-06-01 00:00:00\")]\n",
    "test_df = df[df[\"datetime\"].dt.tz_convert(None) >= np.datetime64(\"2020-06-01 00:00:00\")]\n",
    "train_df.head(), test_df.head()\n",
    "#ssh valume da maré - sea surface height"
   ]
  },
  {
   "cell_type": "code",
   "execution_count": null,
   "id": "e882fb7e-942f-4f5b-a4e9-c79c625ed358",
   "metadata": {
    "colab": {
     "base_uri": "https://localhost:8080/",
     "height": 447
    },
    "id": "e882fb7e-942f-4f5b-a4e9-c79c625ed358",
    "outputId": "583ee8bf-7596-431a-a171-39dda9e18033"
   },
   "outputs": [],
   "source": [
    "train_df[\"ssh\"].iloc[:1000].plot()"
   ]
  },
  {
   "cell_type": "code",
   "execution_count": 4,
   "id": "93881bac-d0be-4916-9352-83131c3cff80",
   "metadata": {
    "colab": {
     "base_uri": "https://localhost:8080/"
    },
    "id": "93881bac-d0be-4916-9352-83131c3cff80",
    "outputId": "fc149057-3033-44f3-ffde-e6886f1972cc"
   },
   "outputs": [
    {
     "data": {
      "text/plain": [
       "device(type='cpu')"
      ]
     },
     "execution_count": 4,
     "metadata": {},
     "output_type": "execute_result"
    }
   ],
   "source": [
    "device = torch.device(\"cuda\" if torch.cuda.is_available() else \"cpu\")\n",
    "input_size = 1\n",
    "hidden_size = 1#64\n",
    "num_epochs = 15\n",
    "past_len = 800\n",
    "future_len = 100\n",
    "batch_size = 32\n",
    "learning_rate = 1e-3\n",
    "device"
   ]
  },
  {
   "cell_type": "code",
   "execution_count": 5,
   "id": "1d2a52c5-7427-43a3-b255-ff46aa1363ba",
   "metadata": {
    "id": "1d2a52c5-7427-43a3-b255-ff46aa1363ba"
   },
   "outputs": [],
   "source": [
    "# Here we write a SimpleARModel that uses the network \n",
    "# output as the input for the next prediction step (i.e. no teacher forcing)\n",
    "class SimpleARModel(nn.Module):\n",
    "    def __init__(self, input_size, hidden_size):\n",
    "        super().__init__()\n",
    "        self.hidden_size = hidden_size\n",
    "        self.rnn = nn.GRU(input_size, hidden_size, batch_first=True)\n",
    "        self.linear = nn.Linear(hidden_size, input_size)\n",
    "\n",
    "    def forward(self, x, target_seq_len):\n",
    "        # encoding\n",
    "        out, h_n = self.rnn(x)\n",
    "        inp = self.linear(out[:, -1]).unsqueeze(1)\n",
    "\n",
    "        output_seq = torch.empty(\n",
    "            x.shape[0], target_seq_len, x.shape[-1], device=inp.device\n",
    "        )\n",
    "\n",
    "        for i in range(target_seq_len):\n",
    "            out, h_n = self.rnn(inp, h_n)\n",
    "            output_seq[:, i] = self.linear(out[:, -1])\n",
    "        return output_seq\n",
    "\n",
    "\n",
    "def create_sequences(data, past_len, future_len):\n",
    "    xs, ys = [], []\n",
    "    for i in range(past_len, len(data) - future_len):\n",
    "        x = data[(i - past_len) : i]\n",
    "        y = data[i : (i + future_len)]\n",
    "        xs.append(x)\n",
    "        ys.append(y)\n",
    "    return np.array(xs), np.array(ys)"
   ]
  },
  {
   "cell_type": "code",
   "execution_count": 6,
   "id": "iPGIe3w5mnFq",
   "metadata": {
    "id": "iPGIe3w5mnFq"
   },
   "outputs": [],
   "source": [
    "# Here we write another class, TeacherForcingModel, that uses the t-1 actual target value as \n",
    "# the input for the next prediction step (i.e. teacher forcing) from the second iteration on.\n",
    "class TeacherForcingModel(nn.Module):\n",
    "    def __init__(self, input_size, hidden_size):\n",
    "        super().__init__()\n",
    "        self.hidden_size = hidden_size\n",
    "        self.rnn = nn.GRU(input_size, hidden_size, batch_first=True)\n",
    "        self.linear = nn.Linear(hidden_size, input_size)\n",
    "\n",
    "    def forward(self, x, y, target_seq_len):\n",
    "        # encoding\n",
    "        out, h_n = self.rnn(x)\n",
    "        inp = self.linear(out[:, -1]).unsqueeze(1)\n",
    "\n",
    "        output_seq = torch.empty(\n",
    "            x.shape[0], target_seq_len, x.shape[-1], device=inp.device\n",
    "        )\n",
    "\n",
    "\n",
    "        for i in range(target_seq_len):\n",
    "          if i == 0:\n",
    "            out, h_n = self.rnn(inp, x[:,x.size()[1] - 1].unsqueeze(0))\n",
    "            output_seq[:,i] = self.linear(out[:,-1])\n",
    "          else:\n",
    "            out, h_n = self.rnn(inp, y[:,i-1].unsqueeze(0).contiguous())\n",
    "            output_seq[:,i] = self.linear(out[:,-1])\n",
    "\n",
    "        return output_seq"
   ]
  },
  {
   "cell_type": "code",
   "execution_count": 7,
   "id": "RQXRtXJzhs8c",
   "metadata": {
    "id": "RQXRtXJzhs8c"
   },
   "outputs": [],
   "source": [
    "# Here we write another class, TeacherForcingModel, that uses the t-1 actual target value as \n",
    "# the input for the next prediction step (i.e. teacher forcing) from the second iteration on.\n",
    "class TeacherForcingBonusModel(nn.Module):\n",
    "    def __init__(self, input_size, hidden_size):\n",
    "        super().__init__()\n",
    "        self.hidden_size = hidden_size\n",
    "        self.rnn = nn.GRU(input_size, hidden_size, batch_first=True)\n",
    "        self.linear = nn.Linear(hidden_size, input_size)\n",
    "\n",
    "    def forward(self, x, y, target_seq_len):\n",
    "        # encoding\n",
    "        out, h_n = self.rnn(x)\n",
    "        inp = self.linear(out[:, -1]).unsqueeze(1)\n",
    "        tfr = 0.5\n",
    "        output_seq = torch.empty(\n",
    "            x.shape[0], target_seq_len, x.shape[-1], device=inp.device\n",
    "        )\n",
    "\n",
    "\n",
    "        for i in range(target_seq_len):\n",
    "          if i == 0:\n",
    "            out, h_n = self.rnn(inp, x[:,x.size()[1] - 1].unsqueeze(0))\n",
    "            output_seq[:,i] = self.linear(out[:,-1])\n",
    "          else:\n",
    "            if random.random() < tfr:\n",
    "                out, h_n = self.rnn(inp, y[:,i-1].unsqueeze(0).contiguous())\n",
    "                output_seq[:,i] = self.linear(out[:,-1])\n",
    "            else:\n",
    "                out, h_n = self.rnn(inp, x[:,x.size()[1] - 1].unsqueeze(0))\n",
    "                output_seq[:,i] = self.linear(out[:,-1])\n",
    "                \n",
    "\n",
    "        return output_seq"
   ]
  },
  {
   "cell_type": "code",
   "execution_count": 8,
   "id": "a1976190-0c56-4fd8-bd1a-f6c0976c2157",
   "metadata": {
    "id": "a1976190-0c56-4fd8-bd1a-f6c0976c2157"
   },
   "outputs": [],
   "source": [
    "train_data = train_df[\"ssh\"].values\n",
    "test_data = test_df[\"ssh\"].values\n",
    "\n",
    "X_train, y_train = create_sequences(train_data, past_len, future_len)\n",
    "X_test, y_test = create_sequences(test_data, past_len, future_len)\n",
    "\n",
    "X_train = torch.from_numpy(X_train.astype(np.float32))\n",
    "y_train = torch.from_numpy(y_train.astype(np.float32))\n",
    "X_test = torch.from_numpy(X_test.astype(np.float32))\n",
    "y_test = torch.from_numpy(y_test.astype(np.float32))\n",
    "\n",
    "train_dataset = TensorDataset(X_train, y_train)\n",
    "train_dataloader = DataLoader(train_dataset, batch_size=batch_size, shuffle=True)\n",
    "\n",
    "test_dataset = TensorDataset(X_test, y_test)\n",
    "test_dataloader = DataLoader(test_dataset, batch_size=batch_size, shuffle=False)"
   ]
  },
  {
   "cell_type": "code",
   "execution_count": null,
   "id": "DEAFBnAMml_a",
   "metadata": {
    "id": "DEAFBnAMml_a"
   },
   "outputs": [],
   "source": []
  },
  {
   "cell_type": "code",
   "execution_count": 9,
   "id": "40b1f272-31b2-43dd-8b77-5da47a1a4d07",
   "metadata": {
    "colab": {
     "base_uri": "https://localhost:8080/"
    },
    "id": "40b1f272-31b2-43dd-8b77-5da47a1a4d07",
    "outputId": "7d8f9c73-9be8-493f-e466-133a8cb1373c"
   },
   "outputs": [
    {
     "name": "stderr",
     "output_type": "stream",
     "text": [
      "100%|████████████████████████████████████████████████| 638/638 [04:08<00:00,  2.57it/s]\n",
      "  1%|▍                                                 | 1/107 [00:00<00:11,  8.95it/s]"
     ]
    },
    {
     "name": "stdout",
     "output_type": "stream",
     "text": [
      "           Epoch: 1, Test Loss: 0.0865 - Example 0\n",
      "┌────────────────────────────────────────────────────────────┐\n",
      "│\u001b[34m▛\u001b[0m\u001b[34m▚\u001b[0m\u001b[34m▄\u001b[0m\u001b[34m▄\u001b[0m\u001b[34m▄\u001b[0m\u001b[34m▄\u001b[0m\u001b[34m▖\u001b[0m                     \u001b[35m▟\u001b[0m\u001b[35m▀\u001b[0m\u001b[35m▀\u001b[0m\u001b[35m▀\u001b[0m\u001b[35m▀\u001b[0m\u001b[35m▄\u001b[0m                          │ \n",
      "││     \u001b[34m▚\u001b[0m                   \u001b[35m▄\u001b[0m\u001b[35m▀\u001b[0m \u001b[32m▄\u001b[0m\u001b[32m▖\u001b[0m\u001b[32m▖\u001b[0m \u001b[32m▖\u001b[0m\u001b[35m▀\u001b[0m\u001b[35m▚\u001b[0m                        │ 1\n",
      "││      \u001b[34m▀\u001b[0m\u001b[34m▖\u001b[0m                \u001b[35m▝\u001b[0m\u001b[32m▝\u001b[0m\u001b[32m▝\u001b[0m\u001b[32m▘\u001b[0m    \u001b[32m▝\u001b[0m\u001b[32m▀\u001b[0m\u001b[32m▝\u001b[0m\u001b[32m▗\u001b[0m\u001b[32m▄\u001b[0m\u001b[32m▗\u001b[0m\u001b[32m▖\u001b[0m                 \u001b[32m▗\u001b[0m\u001b[32m▖\u001b[0m\u001b[32m▗\u001b[0m│ \n",
      "││       \u001b[34m▘\u001b[0m\u001b[34m▖\u001b[0m             \u001b[32m▖\u001b[0m\u001b[32m▀\u001b[0m\u001b[35m▘\u001b[0m           \u001b[35m▝\u001b[0m\u001b[35m▀\u001b[0m\u001b[32m▘\u001b[0m\u001b[32m▝\u001b[0m\u001b[32m▗\u001b[0m          \u001b[32m▗\u001b[0m \u001b[32m▖\u001b[0m\u001b[32m▀\u001b[0m\u001b[32m▘\u001b[0m\u001b[32m▘\u001b[0m\u001b[35m▀\u001b[0m\u001b[35m▝\u001b[0m│ \n",
      "││       \u001b[34m▝\u001b[0m\u001b[34m▝\u001b[0m\u001b[34m▄\u001b[0m         \u001b[32m▄\u001b[0m\u001b[32m▄\u001b[0m\u001b[32m▄\u001b[0m\u001b[32m▗\u001b[0m\u001b[32m▗\u001b[0m\u001b[32m▄\u001b[0m\u001b[32m▄\u001b[0m\u001b[32m▖\u001b[0m\u001b[32m▗\u001b[0m \u001b[32m▗\u001b[0m\u001b[32m▄\u001b[0m\u001b[32m▄\u001b[0m\u001b[32m▖\u001b[0m \u001b[32m▖\u001b[0m\u001b[32m▖\u001b[0m\u001b[32m▖\u001b[0m\u001b[32m▖\u001b[0m\u001b[32m▗\u001b[0m\u001b[32m▖\u001b[0m\u001b[32m▖\u001b[0m\u001b[32m▄\u001b[0m\u001b[32m▄\u001b[0m\u001b[32m▞\u001b[0m\u001b[32m▛\u001b[0m\u001b[32m▚\u001b[0m\u001b[32m▙\u001b[0m\u001b[32m▄\u001b[0m\u001b[32m▙\u001b[0m\u001b[32m▞\u001b[0m\u001b[32m▄\u001b[0m\u001b[32m▖\u001b[0m\u001b[32m▄\u001b[0m\u001b[32m▗\u001b[0m\u001b[35m▝\u001b[0m\u001b[32m▗\u001b[0m\u001b[32m▗\u001b[0m\u001b[32m▗\u001b[0m\u001b[32m▄\u001b[0m│ \n",
      "││          \u001b[34m▚\u001b[0m          \u001b[35m▗\u001b[0m\u001b[35m▘\u001b[0m                 \u001b[35m▖\u001b[0m          \u001b[35m▄\u001b[0m\u001b[35m▀\u001b[0m\u001b[35m▘\u001b[0m     │ 0\n",
      "││           \u001b[34m▚\u001b[0m         \u001b[35m▞\u001b[0m                  \u001b[35m▝\u001b[0m\u001b[35m▀\u001b[0m\u001b[35m▖\u001b[0m     \u001b[35m▗\u001b[0m\u001b[35m▄\u001b[0m\u001b[35m▞\u001b[0m        │ \n",
      "││           \u001b[34m▝\u001b[0m\u001b[34m▖\u001b[0m      \u001b[35m▄\u001b[0m                      \u001b[35m▀\u001b[0m\u001b[35m▀\u001b[0m\u001b[35m▀\u001b[0m\u001b[35m▄\u001b[0m\u001b[35m▄\u001b[0m\u001b[35m▄\u001b[0m\u001b[35m▘\u001b[0m          │ \n",
      "││            \u001b[34m▗\u001b[0m\u001b[34m▄\u001b[0m    \u001b[34m▗\u001b[0m\u001b[35m▝\u001b[0m\u001b[35m▀\u001b[0m                                      │ \n",
      "││              \u001b[34m▀\u001b[0m\u001b[34m▄\u001b[0m\u001b[34m▄\u001b[0m\u001b[34m▄\u001b[0m\u001b[34m▘\u001b[0m                                        │ \n",
      "└────────────────────────────────────────────────────────────┘\n",
      " 0                  50                  100\n",
      "                          \u001b[34m██\u001b[0m Input\n",
      "                          \u001b[35m██\u001b[0m Target\n",
      "                          \u001b[32m██\u001b[0m Output\n",
      "           Epoch: 1, Test Loss: 0.1438 - Example 1\n"
     ]
    },
    {
     "name": "stderr",
     "output_type": "stream",
     "text": [
      "  3%|█▍                                                | 3/107 [00:00<00:13,  7.69it/s]"
     ]
    },
    {
     "name": "stdout",
     "output_type": "stream",
     "text": [
      "┌────────────────────────────────────────────────────────────┐\n",
      "││              \u001b[34m▄\u001b[0m\u001b[34m▀\u001b[0m\u001b[34m▀\u001b[0m\u001b[34m▀\u001b[0m\u001b[34m▀\u001b[0m\u001b[35m▄\u001b[0m                                       │ \n",
      "││            \u001b[34m▄\u001b[0m\u001b[34m▞\u001b[0m     \u001b[32m▄\u001b[0m\u001b[35m▀\u001b[0m\u001b[32m▗\u001b[0m\u001b[32m▄\u001b[0m\u001b[32m▗\u001b[0m\u001b[32m▄\u001b[0m \u001b[32m▗\u001b[0m\u001b[32m▖\u001b[0m\u001b[32m▄\u001b[0m \u001b[32m▖\u001b[0m \u001b[32m▖\u001b[0m\u001b[32m▖\u001b[0m \u001b[32m▄\u001b[0m\u001b[32m▖\u001b[0m\u001b[32m▗\u001b[0m \u001b[32m▄\u001b[0m \u001b[32m▗\u001b[0m\u001b[32m▖\u001b[0m \u001b[32m▖\u001b[0m\u001b[32m▖\u001b[0m\u001b[32m▖\u001b[0m \u001b[32m▗\u001b[0m\u001b[32m▖\u001b[0m\u001b[32m▄\u001b[0m  \u001b[32m▄\u001b[0m\u001b[32m▄\u001b[0m  \u001b[32m▖\u001b[0m\u001b[32m▄\u001b[0m│ 1\n",
      "││           \u001b[34m▝\u001b[0m       \u001b[32m▝\u001b[0m\u001b[32m▀\u001b[0m\u001b[32m▀\u001b[0m\u001b[35m▚\u001b[0m\u001b[32m▄\u001b[0m \u001b[32m▖\u001b[0m                 \u001b[32m▗\u001b[0m\u001b[32m▄\u001b[0m\u001b[32m▗\u001b[0m\u001b[32m▗\u001b[0m\u001b[32m▄\u001b[0m\u001b[32m▖\u001b[0m          │ \n",
      "││           \u001b[34m▞\u001b[0m           \u001b[35m▝\u001b[0m\u001b[35m▀\u001b[0m\u001b[32m▝\u001b[0m\u001b[32m▘\u001b[0m\u001b[32m▗\u001b[0m          \u001b[32m▗\u001b[0m \u001b[32m▄\u001b[0m\u001b[32m▘\u001b[0m\u001b[32m▝\u001b[0m\u001b[32m▘\u001b[0m\u001b[35m▀\u001b[0m \u001b[35m▀\u001b[0m\u001b[35m▀\u001b[0m\u001b[32m▘\u001b[0m\u001b[32m▝\u001b[0m\u001b[35m▄\u001b[0m\u001b[32m▀\u001b[0m\u001b[32m▀\u001b[0m \u001b[32m▝\u001b[0m\u001b[32m▄\u001b[0m\u001b[32m▖\u001b[0m  │ \n",
      "││         \u001b[34m▗\u001b[0m\u001b[34m▀\u001b[0m              \u001b[35m▐\u001b[0m\u001b[35m▄\u001b[0m  \u001b[32m▀\u001b[0m\u001b[32m▝\u001b[0m\u001b[32m▀\u001b[0m\u001b[32m▗\u001b[0m\u001b[32m▗\u001b[0m\u001b[32m▄\u001b[0m \u001b[32m▝\u001b[0m\u001b[32m▘\u001b[0m\u001b[32m▘\u001b[0m \u001b[35m▗\u001b[0m\u001b[35m▝\u001b[0m\u001b[35m▘\u001b[0m       \u001b[35m▝\u001b[0m\u001b[35m▀\u001b[0m\u001b[35m▀\u001b[0m\u001b[35m▄\u001b[0m\u001b[35m▖\u001b[0m \u001b[32m▝\u001b[0m\u001b[32m▗\u001b[0m\u001b[32m▗\u001b[0m│ \n",
      "││         \u001b[34m▞\u001b[0m                 \u001b[35m▄\u001b[0m          \u001b[35m▄\u001b[0m\u001b[35m▀\u001b[0m\u001b[35m▘\u001b[0m             \u001b[35m▐\u001b[0m\u001b[35m▖\u001b[0m   │ 0\n",
      "││        \u001b[34m▞\u001b[0m                  \u001b[35m▝\u001b[0m\u001b[35m▀\u001b[0m\u001b[35m▖\u001b[0m      \u001b[35m▄\u001b[0m\u001b[35m▞\u001b[0m\u001b[35m▘\u001b[0m                \u001b[35m▝\u001b[0m\u001b[35m▖\u001b[0m  │ \n",
      "│\u001b[34m▌\u001b[0m      \u001b[34m▄\u001b[0m                      \u001b[35m▝\u001b[0m\u001b[35m▀\u001b[0m\u001b[35m▀\u001b[0m\u001b[35m▙\u001b[0m\u001b[35m▄\u001b[0m\u001b[35m▄\u001b[0m\u001b[35m▀\u001b[0m                    \u001b[35m▝\u001b[0m\u001b[35m▄\u001b[0m │ \n",
      "│\u001b[34m▗\u001b[0m\u001b[34m▄\u001b[0m\u001b[34m▖\u001b[0m   \u001b[34m▗\u001b[0m \u001b[34m▀\u001b[0m                                                  \u001b[35m▚\u001b[0m│ \n",
      "││ \u001b[34m▀\u001b[0m\u001b[34m▄\u001b[0m\u001b[34m▄\u001b[0m\u001b[34m▄\u001b[0m\u001b[34m▌\u001b[0m                                                    \u001b[35m▝\u001b[0m│ \n",
      "└────────────────────────────────────────────────────────────┘\n",
      " 0                  50                  100\n",
      "                          \u001b[34m██\u001b[0m Input\n",
      "                          \u001b[35m██\u001b[0m Target\n",
      "                          \u001b[32m██\u001b[0m Output\n",
      "           Epoch: 1, Test Loss: 0.1413 - Example 2\n",
      "┌────────────────────────────────────────────────────────────┐\n",
      "││ \u001b[34m▞\u001b[0m\u001b[34m▀\u001b[0m\u001b[34m▀\u001b[0m\u001b[34m▀\u001b[0m\u001b[34m▀\u001b[0m\u001b[34m▚\u001b[0m\u001b[34m▄\u001b[0m                                                   │ \n",
      "│\u001b[34m▄\u001b[0m\u001b[34m▞\u001b[0m       \u001b[34m▀\u001b[0m\u001b[34m▄\u001b[0m                                                 │ 1\n",
      "││         \u001b[34m▝\u001b[0m\u001b[34m▚\u001b[0m\u001b[34m▄\u001b[0m                 \u001b[32m▗\u001b[0m\u001b[32m▖\u001b[0m\u001b[32m▗\u001b[0m\u001b[32m▞\u001b[0m\u001b[32m▄\u001b[0m\u001b[32m▄\u001b[0m\u001b[32m▗\u001b[0m\u001b[32m▖\u001b[0m\u001b[32m▗\u001b[0m\u001b[32m▄\u001b[0m                   \u001b[32m▄\u001b[0m│ \n",
      "││            \u001b[34m▚\u001b[0m      \u001b[32m▄\u001b[0m\u001b[32m▄\u001b[0m\u001b[32m▄\u001b[0m\u001b[32m▗\u001b[0m\u001b[32m▄\u001b[0m\u001b[32m▄\u001b[0m\u001b[32m▟\u001b[0m\u001b[32m▞\u001b[0m\u001b[32m▜\u001b[0m\u001b[32m▄\u001b[0m\u001b[32m▖\u001b[0m\u001b[32m▗\u001b[0m\u001b[32m▖\u001b[0m  \u001b[32m▖\u001b[0m\u001b[32m▖\u001b[0m\u001b[32m▄\u001b[0m\u001b[32m▖\u001b[0m\u001b[32m▖\u001b[0m\u001b[32m▄\u001b[0m\u001b[32m▞\u001b[0m\u001b[32m▚\u001b[0m\u001b[32m▛\u001b[0m\u001b[32m▄\u001b[0m\u001b[32m▄\u001b[0m\u001b[32m▗\u001b[0m\u001b[32m▄\u001b[0m\u001b[32m▗\u001b[0m\u001b[32m▖\u001b[0m\u001b[32m▗\u001b[0m\u001b[32m▗\u001b[0m \u001b[32m▄\u001b[0m\u001b[32m▗\u001b[0m\u001b[32m▖\u001b[0m\u001b[32m▄\u001b[0m\u001b[32m▟\u001b[0m\u001b[32m▀\u001b[0m\u001b[32m▗\u001b[0m│ \n",
      "││             \u001b[34m▀\u001b[0m\u001b[34m▖\u001b[0m    \u001b[32m▝\u001b[0m \u001b[32m▝\u001b[0m\u001b[32m▘\u001b[0m   \u001b[35m▚\u001b[0m\u001b[35m▟\u001b[0m            \u001b[35m▀\u001b[0m\u001b[35m▚\u001b[0m   \u001b[32m▘\u001b[0m\u001b[32m▘\u001b[0m\u001b[32m▖\u001b[0m   \u001b[32m▗\u001b[0m\u001b[32m▗\u001b[0m\u001b[32m▖\u001b[0m\u001b[32m▝\u001b[0m \u001b[35m▗\u001b[0m\u001b[35m▘\u001b[0m │ \n",
      "││              \u001b[34m▝\u001b[0m\u001b[34m▜\u001b[0m        \u001b[35m▄\u001b[0m\u001b[35m▀\u001b[0m                \u001b[35m▀\u001b[0m\u001b[35m▖\u001b[0m    \u001b[32m▀\u001b[0m\u001b[32m▘\u001b[0m\u001b[32m▀\u001b[0m\u001b[32m▘\u001b[0m   \u001b[35m▗\u001b[0m\u001b[35m▖\u001b[0m  │ \n",
      "││                \u001b[34m▀\u001b[0m\u001b[34m▄\u001b[0m\u001b[34m▄\u001b[0m\u001b[35m▄\u001b[0m\u001b[35m▄\u001b[0m\u001b[35m▄\u001b[0m\u001b[35m▄\u001b[0m\u001b[35m▀\u001b[0m                   \u001b[35m▝\u001b[0m\u001b[35m▄\u001b[0m         \u001b[35m▝\u001b[0m\u001b[35m▘\u001b[0m   │ \n",
      "││                                             \u001b[35m▚\u001b[0m       \u001b[35m▗\u001b[0m\u001b[35m▞\u001b[0m    │ \n",
      "││▁▁▁▁▁▁▁▁▁▁▁▁▁▁▁▁▁▁▁▁▁▁▁▁▁▁▁▁▁▁▁▁▁▁▁▁▁▁▁▁▁▁▁▁▁▁\u001b[35m▚\u001b[0m▁▁▁▁▁\u001b[35m▗\u001b[0m\u001b[35m▘\u001b[0m▁▁▁▁▁│ 0\n",
      "││                                               \u001b[35m▚\u001b[0m\u001b[35m▄\u001b[0m\u001b[35m▄\u001b[0m\u001b[35m▄\u001b[0m\u001b[35m▀\u001b[0m\u001b[35m▘\u001b[0m      │ \n",
      "└────────────────────────────────────────────────────────────┘\n",
      " 0                  50                  100\n",
      "                          \u001b[34m██\u001b[0m Input\n",
      "                          \u001b[35m██\u001b[0m Target\n",
      "                          \u001b[32m██\u001b[0m Output\n"
     ]
    },
    {
     "name": "stderr",
     "output_type": "stream",
     "text": [
      "100%|████████████████████████████████████████████████| 107/107 [00:09<00:00, 10.80it/s]\n",
      "100%|████████████████████████████████████████████████| 638/638 [04:07<00:00,  2.58it/s]\n",
      "100%|████████████████████████████████████████████████| 107/107 [00:09<00:00, 10.97it/s]\n",
      "100%|████████████████████████████████████████████████| 638/638 [04:13<00:00,  2.52it/s]\n",
      "100%|████████████████████████████████████████████████| 107/107 [00:11<00:00,  9.54it/s]\n",
      "100%|████████████████████████████████████████████████| 638/638 [04:13<00:00,  2.51it/s]\n",
      "  1%|▍                                                 | 1/107 [00:00<00:15,  7.01it/s]"
     ]
    },
    {
     "name": "stdout",
     "output_type": "stream",
     "text": [
      "           Epoch: 4, Test Loss: 0.0896 - Example 0\n",
      "┌────────────────────────────────────────────────────────────┐\n",
      "│\u001b[34m▛\u001b[0m\u001b[34m▚\u001b[0m\u001b[34m▄\u001b[0m\u001b[34m▄\u001b[0m\u001b[34m▄\u001b[0m\u001b[34m▄\u001b[0m\u001b[34m▖\u001b[0m                     \u001b[35m▟\u001b[0m\u001b[35m▀\u001b[0m\u001b[35m▀\u001b[0m\u001b[35m▀\u001b[0m\u001b[35m▀\u001b[0m\u001b[35m▄\u001b[0m                          │ \n",
      "││     \u001b[34m▚\u001b[0m                   \u001b[35m▄\u001b[0m\u001b[35m▀\u001b[0m\u001b[32m▗\u001b[0m\u001b[32m▝\u001b[0m\u001b[32m▘\u001b[0m\u001b[32m▘\u001b[0m\u001b[32m▘\u001b[0m\u001b[32m▄\u001b[0m\u001b[32m▗\u001b[0m\u001b[32m▖\u001b[0m                        │ 1\n",
      "││      \u001b[34m▀\u001b[0m\u001b[34m▖\u001b[0m                \u001b[35m▝\u001b[0m\u001b[32m▝\u001b[0m\u001b[32m▝\u001b[0m        \u001b[32m▗\u001b[0m\u001b[32m▖\u001b[0m                     \u001b[35m▄\u001b[0m│ \n",
      "││       \u001b[34m▘\u001b[0m\u001b[34m▖\u001b[0m              \u001b[32m▗\u001b[0m\u001b[32m▖\u001b[0m           \u001b[32m▝\u001b[0m\u001b[32m▀\u001b[0m\u001b[32m▘\u001b[0m               \u001b[35m▖\u001b[0m\u001b[32m▖\u001b[0m\u001b[32m▞\u001b[0m\u001b[35m▀\u001b[0m\u001b[35m▝\u001b[0m│ \n",
      "││       \u001b[34m▝\u001b[0m\u001b[34m▝\u001b[0m\u001b[34m▄\u001b[0m            \u001b[32m▝\u001b[0m\u001b[32m▘\u001b[0m              \u001b[35m▚\u001b[0m\u001b[35m▄\u001b[0m\u001b[32m▖\u001b[0m           \u001b[32m▝\u001b[0m\u001b[32m▘\u001b[0m\u001b[35m▝\u001b[0m    │ \n",
      "││          \u001b[34m▚\u001b[0m          \u001b[32m▝\u001b[0m\u001b[35m▘\u001b[0m                 \u001b[35m▖\u001b[0m\u001b[32m▘\u001b[0m \u001b[32m▄\u001b[0m\u001b[32m▖\u001b[0m\u001b[32m▄\u001b[0m\u001b[32m▄\u001b[0m \u001b[32m▖\u001b[0m \u001b[32m▝\u001b[0m\u001b[32m▘\u001b[0m\u001b[35m▀\u001b[0m\u001b[35m▘\u001b[0m     │ 0\n",
      "││           \u001b[34m▚\u001b[0m       \u001b[32m▄\u001b[0m\u001b[32m▀\u001b[0m\u001b[32m▚\u001b[0m\u001b[32m▖\u001b[0m\u001b[32m▗\u001b[0m\u001b[32m▗\u001b[0m\u001b[32m▄\u001b[0m\u001b[32m▖\u001b[0m\u001b[32m▄\u001b[0m\u001b[32m▖\u001b[0m\u001b[32m▗\u001b[0m\u001b[32m▗\u001b[0m\u001b[32m▗\u001b[0m\u001b[32m▖\u001b[0m\u001b[32m▖\u001b[0m\u001b[32m▄\u001b[0m\u001b[32m▖\u001b[0m\u001b[32m▖\u001b[0m \u001b[32m▄\u001b[0m\u001b[32m▄\u001b[0m\u001b[32m▄\u001b[0m\u001b[32m▗\u001b[0m\u001b[32m▄\u001b[0m \u001b[32m▄\u001b[0m  \u001b[32m▄\u001b[0m\u001b[32m▗\u001b[0m\u001b[32m▄\u001b[0m\u001b[32m▄\u001b[0m\u001b[32m▗\u001b[0m\u001b[32m▖\u001b[0m\u001b[32m▗\u001b[0m\u001b[32m▄\u001b[0m\u001b[32m▗\u001b[0m\u001b[32m▗\u001b[0m\u001b[32m▄\u001b[0m\u001b[32m▄\u001b[0m│ \n",
      "││           \u001b[34m▝\u001b[0m\u001b[34m▖\u001b[0m      \u001b[35m▄\u001b[0m                      \u001b[35m▀\u001b[0m\u001b[35m▀\u001b[0m\u001b[35m▀\u001b[0m\u001b[35m▄\u001b[0m\u001b[35m▄\u001b[0m\u001b[35m▄\u001b[0m\u001b[35m▘\u001b[0m          │ \n",
      "││            \u001b[34m▗\u001b[0m\u001b[34m▄\u001b[0m    \u001b[34m▗\u001b[0m\u001b[35m▝\u001b[0m\u001b[35m▀\u001b[0m                                      │ \n",
      "││              \u001b[34m▀\u001b[0m\u001b[34m▄\u001b[0m\u001b[34m▄\u001b[0m\u001b[34m▄\u001b[0m\u001b[34m▘\u001b[0m                                        │ \n",
      "└────────────────────────────────────────────────────────────┘\n",
      " 0                  50                  100\n",
      "                          \u001b[34m██\u001b[0m Input\n",
      "                          \u001b[35m██\u001b[0m Target\n",
      "                          \u001b[32m██\u001b[0m Output\n",
      "           Epoch: 4, Test Loss: 0.0955 - Example 1\n"
     ]
    },
    {
     "name": "stderr",
     "output_type": "stream",
     "text": [
      "  3%|█▍                                                | 3/107 [00:00<00:17,  5.81it/s]"
     ]
    },
    {
     "name": "stdout",
     "output_type": "stream",
     "text": [
      "┌────────────────────────────────────────────────────────────┐\n",
      "││              \u001b[34m▄\u001b[0m\u001b[34m▀\u001b[0m\u001b[34m▀\u001b[0m\u001b[34m▀\u001b[0m\u001b[34m▀\u001b[0m\u001b[35m▄\u001b[0m                                       │ \n",
      "││            \u001b[34m▄\u001b[0m\u001b[34m▞\u001b[0m     \u001b[32m▜\u001b[0m\u001b[32m▀\u001b[0m\u001b[32m▚\u001b[0m\u001b[32m▝\u001b[0m \u001b[32m▘\u001b[0m\u001b[32m▝\u001b[0m \u001b[32m▝\u001b[0m\u001b[32m▀\u001b[0m\u001b[32m▀\u001b[0m\u001b[32m▀\u001b[0m \u001b[32m▘\u001b[0m\u001b[32m▝\u001b[0m\u001b[32m▀\u001b[0m\u001b[32m▘\u001b[0m\u001b[32m▘\u001b[0m\u001b[32m▀\u001b[0m\u001b[32m▘\u001b[0m\u001b[32m▝\u001b[0m\u001b[32m▘\u001b[0m\u001b[32m▝\u001b[0m\u001b[32m▀\u001b[0m\u001b[32m▝\u001b[0m \u001b[32m▝\u001b[0m\u001b[32m▀\u001b[0m \u001b[32m▀\u001b[0m \u001b[32m▝\u001b[0m\u001b[32m▘\u001b[0m\u001b[32m▝\u001b[0m \u001b[32m▘\u001b[0m\u001b[32m▝\u001b[0m\u001b[32m▀\u001b[0m\u001b[32m▝\u001b[0m │ 1\n",
      "││           \u001b[34m▝\u001b[0m         \u001b[32m▝\u001b[0m\u001b[32m▘\u001b[0m\u001b[32m▄\u001b[0m                     \u001b[35m▄\u001b[0m             │ \n",
      "││           \u001b[34m▞\u001b[0m           \u001b[32m▝\u001b[0m\u001b[32m▝\u001b[0m\u001b[32m▘\u001b[0m               \u001b[35m▖\u001b[0m\u001b[35m▄\u001b[0m\u001b[32m▖\u001b[0m\u001b[32m▀\u001b[0m\u001b[32m▘\u001b[0m\u001b[32m▘\u001b[0m\u001b[32m▀\u001b[0m\u001b[32m▘\u001b[0m\u001b[32m▄\u001b[0m\u001b[32m▖\u001b[0m\u001b[32m▗\u001b[0m\u001b[32m▄\u001b[0m\u001b[32m▖\u001b[0m     │ \n",
      "││         \u001b[34m▗\u001b[0m\u001b[34m▀\u001b[0m              \u001b[35m▐\u001b[0m\u001b[32m▀\u001b[0m\u001b[32m▚\u001b[0m          \u001b[32m▗\u001b[0m\u001b[32m▖\u001b[0m\u001b[32m▚\u001b[0m\u001b[32m▘\u001b[0m\u001b[35m▘\u001b[0m       \u001b[35m▝\u001b[0m\u001b[35m▀\u001b[0m\u001b[35m▀\u001b[0m\u001b[32m▝\u001b[0m\u001b[32m▐\u001b[0m\u001b[32m▖\u001b[0m   │ \n",
      "││         \u001b[34m▞\u001b[0m                 \u001b[35m▄\u001b[0m  \u001b[32m▖\u001b[0m\u001b[32m▄\u001b[0m   \u001b[32m▗\u001b[0m\u001b[32m▄\u001b[0m \u001b[35m▄\u001b[0m\u001b[35m▀\u001b[0m\u001b[35m▘\u001b[0m             \u001b[35m▐\u001b[0m\u001b[35m▖\u001b[0m\u001b[32m▗\u001b[0m\u001b[32m▖\u001b[0m │ 0\n",
      "││        \u001b[34m▞\u001b[0m                  \u001b[35m▝\u001b[0m\u001b[35m▀\u001b[0m\u001b[35m▖\u001b[0m  \u001b[32m▝\u001b[0m\u001b[32m▘\u001b[0m\u001b[32m▘\u001b[0m \u001b[35m▄\u001b[0m\u001b[35m▞\u001b[0m\u001b[35m▘\u001b[0m                \u001b[35m▝\u001b[0m\u001b[35m▖\u001b[0m \u001b[32m▜\u001b[0m│ \n",
      "│\u001b[34m▌\u001b[0m      \u001b[34m▄\u001b[0m                      \u001b[35m▝\u001b[0m\u001b[35m▀\u001b[0m\u001b[35m▀\u001b[0m\u001b[35m▙\u001b[0m\u001b[35m▄\u001b[0m\u001b[35m▄\u001b[0m\u001b[35m▀\u001b[0m                    \u001b[35m▝\u001b[0m\u001b[35m▄\u001b[0m │ \n",
      "│\u001b[34m▗\u001b[0m\u001b[34m▄\u001b[0m\u001b[34m▖\u001b[0m   \u001b[34m▗\u001b[0m \u001b[34m▀\u001b[0m                                                  \u001b[35m▚\u001b[0m│ \n",
      "││ \u001b[34m▀\u001b[0m\u001b[34m▄\u001b[0m\u001b[34m▄\u001b[0m\u001b[34m▄\u001b[0m\u001b[34m▌\u001b[0m                                                    \u001b[35m▝\u001b[0m│ \n",
      "└────────────────────────────────────────────────────────────┘\n",
      " 0                  50                  100\n",
      "                          \u001b[34m██\u001b[0m Input\n",
      "                          \u001b[35m██\u001b[0m Target\n",
      "                          \u001b[32m██\u001b[0m Output\n",
      "           Epoch: 4, Test Loss: 0.1012 - Example 2\n",
      "┌────────────────────────────────────────────────────────────┐\n",
      "││ \u001b[34m▞\u001b[0m\u001b[34m▀\u001b[0m\u001b[34m▀\u001b[0m\u001b[34m▀\u001b[0m\u001b[34m▀\u001b[0m\u001b[34m▚\u001b[0m\u001b[34m▄\u001b[0m                                                   │ \n",
      "│\u001b[34m▄\u001b[0m\u001b[34m▞\u001b[0m       \u001b[34m▀\u001b[0m\u001b[34m▄\u001b[0m                                                 │ 1\n",
      "││         \u001b[34m▝\u001b[0m\u001b[34m▚\u001b[0m\u001b[34m▄\u001b[0m                  \u001b[32m▗\u001b[0m\u001b[32m▗\u001b[0m\u001b[32m▄\u001b[0m\u001b[35m▄\u001b[0m\u001b[35m▄\u001b[0m                       \u001b[35m▐\u001b[0m│ \n",
      "││            \u001b[34m▚\u001b[0m             \u001b[32m▗\u001b[0m\u001b[32m▖\u001b[0m\u001b[35m▚\u001b[0m\u001b[35m▞\u001b[0m\u001b[32m▘\u001b[0m    \u001b[35m▀\u001b[0m\u001b[32m▘\u001b[0m\u001b[32m▝\u001b[0m\u001b[32m▀\u001b[0m\u001b[32m▀\u001b[0m\u001b[35m▖\u001b[0m                \u001b[32m▗\u001b[0m\u001b[32m▘\u001b[0m│ \n",
      "││             \u001b[34m▀\u001b[0m\u001b[34m▖\u001b[0m        \u001b[32m▗\u001b[0m \u001b[32m▟\u001b[0m\u001b[32m▘\u001b[0m\u001b[32m▝\u001b[0m            \u001b[35m▀\u001b[0m\u001b[35m▚\u001b[0m\u001b[32m▘\u001b[0m            \u001b[32m▗\u001b[0m\u001b[32m▗\u001b[0m\u001b[32m▘\u001b[0m │ \n",
      "││              \u001b[34m▝\u001b[0m\u001b[34m▜\u001b[0m   \u001b[32m▀\u001b[0m\u001b[32m▀\u001b[0m\u001b[32m▀\u001b[0m\u001b[32m▀\u001b[0m\u001b[32m▀\u001b[0m\u001b[32m▀\u001b[0m\u001b[35m▀\u001b[0m \u001b[32m▝\u001b[0m\u001b[32m▀\u001b[0m\u001b[32m▀\u001b[0m\u001b[32m▘\u001b[0m\u001b[32m▘\u001b[0m\u001b[32m▘\u001b[0m\u001b[32m▀\u001b[0m\u001b[32m▀\u001b[0m\u001b[32m▀\u001b[0m\u001b[32m▝\u001b[0m\u001b[32m▘\u001b[0m  \u001b[32m▀\u001b[0m\u001b[32m▀\u001b[0m\u001b[32m▝\u001b[0m\u001b[32m▀\u001b[0m\u001b[32m▀\u001b[0m\u001b[32m▀\u001b[0m\u001b[32m▛\u001b[0m\u001b[32m▀\u001b[0m\u001b[32m▀\u001b[0m\u001b[32m▝\u001b[0m\u001b[32m▘\u001b[0m\u001b[32m▝\u001b[0m \u001b[32m▀\u001b[0m\u001b[32m▐\u001b[0m\u001b[32m▘\u001b[0m\u001b[32m▀\u001b[0m \u001b[32m▝\u001b[0m│ \n",
      "││                \u001b[34m▀\u001b[0m\u001b[34m▄\u001b[0m\u001b[34m▄\u001b[0m\u001b[35m▄\u001b[0m\u001b[35m▄\u001b[0m\u001b[35m▄\u001b[0m\u001b[35m▄\u001b[0m\u001b[35m▀\u001b[0m                   \u001b[35m▝\u001b[0m\u001b[35m▄\u001b[0m       \u001b[32m▄\u001b[0m \u001b[32m▘\u001b[0m\u001b[35m▘\u001b[0m   │ \n",
      "││                                             \u001b[35m▚\u001b[0m  \u001b[32m▘\u001b[0m\u001b[32m▘\u001b[0m\u001b[32m▝\u001b[0m\u001b[32m▘\u001b[0m \u001b[35m▗\u001b[0m\u001b[35m▞\u001b[0m    │ \n",
      "││▁▁▁▁▁▁▁▁▁▁▁▁▁▁▁▁▁▁▁▁▁▁▁▁▁▁▁▁▁▁▁▁▁▁▁▁▁▁▁▁▁▁▁▁▁▁\u001b[35m▚\u001b[0m▁▁▁▁▁\u001b[35m▗\u001b[0m\u001b[35m▘\u001b[0m▁▁▁▁▁│ 0\n",
      "││                                               \u001b[35m▚\u001b[0m\u001b[35m▄\u001b[0m\u001b[35m▄\u001b[0m\u001b[35m▄\u001b[0m\u001b[35m▀\u001b[0m\u001b[35m▘\u001b[0m      │ \n",
      "└────────────────────────────────────────────────────────────┘\n",
      " 0                  50                  100\n",
      "                          \u001b[34m██\u001b[0m Input\n",
      "                          \u001b[35m██\u001b[0m Target\n",
      "                          \u001b[32m██\u001b[0m Output\n"
     ]
    },
    {
     "name": "stderr",
     "output_type": "stream",
     "text": [
      "100%|████████████████████████████████████████████████| 107/107 [00:10<00:00, 10.59it/s]\n",
      "100%|████████████████████████████████████████████████| 638/638 [04:10<00:00,  2.55it/s]\n",
      "100%|████████████████████████████████████████████████| 107/107 [00:10<00:00, 10.53it/s]\n",
      "100%|████████████████████████████████████████████████| 638/638 [04:14<00:00,  2.50it/s]\n",
      "100%|████████████████████████████████████████████████| 107/107 [00:09<00:00, 10.82it/s]\n",
      "100%|████████████████████████████████████████████████| 638/638 [04:07<00:00,  2.58it/s]\n",
      "  1%|▍                                                 | 1/107 [00:00<00:16,  6.47it/s]"
     ]
    },
    {
     "name": "stdout",
     "output_type": "stream",
     "text": [
      "           Epoch: 7, Test Loss: 0.0965 - Example 0\n",
      "┌────────────────────────────────────────────────────────────┐\n",
      "│\u001b[34m▛\u001b[0m\u001b[34m▚\u001b[0m\u001b[34m▄\u001b[0m\u001b[34m▄\u001b[0m\u001b[34m▄\u001b[0m\u001b[34m▄\u001b[0m\u001b[34m▖\u001b[0m                     \u001b[35m▟\u001b[0m\u001b[35m▀\u001b[0m\u001b[35m▀\u001b[0m\u001b[35m▀\u001b[0m\u001b[35m▀\u001b[0m\u001b[35m▄\u001b[0m                          │ \n",
      "││     \u001b[34m▚\u001b[0m                   \u001b[35m▄\u001b[0m\u001b[35m▀\u001b[0m \u001b[32m▝\u001b[0m\u001b[32m▘\u001b[0m\u001b[32m▖\u001b[0m\u001b[32m▘\u001b[0m\u001b[32m▖\u001b[0m\u001b[35m▀\u001b[0m\u001b[35m▚\u001b[0m                        │ 1\n",
      "││      \u001b[34m▀\u001b[0m\u001b[34m▖\u001b[0m                \u001b[35m▝\u001b[0m\u001b[32m▟\u001b[0m\u001b[32m▝\u001b[0m\u001b[32m▘\u001b[0m     \u001b[32m▝\u001b[0m\u001b[32m▝\u001b[0m\u001b[32m▘\u001b[0m\u001b[35m▖\u001b[0m                     \u001b[35m▄\u001b[0m│ \n",
      "││       \u001b[34m▘\u001b[0m\u001b[34m▖\u001b[0m              \u001b[35m▗\u001b[0m\u001b[35m▘\u001b[0m           \u001b[35m▝\u001b[0m\u001b[32m▝\u001b[0m\u001b[32m▚\u001b[0m               \u001b[32m▗\u001b[0m\u001b[35m▄\u001b[0m\u001b[35m▀\u001b[0m\u001b[32m▘\u001b[0m\u001b[35m▝\u001b[0m│ \n",
      "││       \u001b[34m▝\u001b[0m\u001b[34m▝\u001b[0m\u001b[34m▄\u001b[0m            \u001b[32m▞\u001b[0m\u001b[35m▀\u001b[0m              \u001b[35m▚\u001b[0m\u001b[35m▄\u001b[0m\u001b[32m▙\u001b[0m\u001b[32m▄\u001b[0m         \u001b[32m▄\u001b[0m \u001b[35m▗\u001b[0m\u001b[35m▝\u001b[0m    │ \n",
      "││          \u001b[34m▚\u001b[0m          \u001b[32m▝\u001b[0m\u001b[35m▘\u001b[0m                 \u001b[35m▖\u001b[0m \u001b[32m▝\u001b[0m\u001b[32m▗\u001b[0m\u001b[32m▖\u001b[0m \u001b[32m▖\u001b[0m\u001b[32m▖\u001b[0m \u001b[32m▀\u001b[0m \u001b[35m▄\u001b[0m\u001b[35m▀\u001b[0m\u001b[35m▘\u001b[0m     │ 0\n",
      "││           \u001b[34m▚\u001b[0m       \u001b[32m▀\u001b[0m\u001b[32m▀\u001b[0m\u001b[32m▘\u001b[0m \u001b[32m▀\u001b[0m\u001b[32m▀\u001b[0m \u001b[32m▘\u001b[0m\u001b[32m▝\u001b[0m\u001b[32m▘\u001b[0m\u001b[32m▝\u001b[0m\u001b[32m▀\u001b[0m\u001b[32m▝\u001b[0m\u001b[32m▀\u001b[0m\u001b[32m▘\u001b[0m\u001b[32m▘\u001b[0m\u001b[32m▝\u001b[0m\u001b[32m▀\u001b[0m\u001b[32m▘\u001b[0m\u001b[32m▘\u001b[0m\u001b[32m▀\u001b[0m\u001b[35m▝\u001b[0m\u001b[35m▀\u001b[0m\u001b[32m▘\u001b[0m\u001b[32m▘\u001b[0m\u001b[32m▀\u001b[0m\u001b[32m▀\u001b[0m\u001b[32m▀\u001b[0m\u001b[32m▝\u001b[0m\u001b[32m▀\u001b[0m\u001b[35m▄\u001b[0m\u001b[32m▀\u001b[0m \u001b[32m▀\u001b[0m\u001b[32m▀\u001b[0m\u001b[32m▀\u001b[0m\u001b[32m▀\u001b[0m\u001b[32m▀\u001b[0m\u001b[32m▝\u001b[0m\u001b[32m▀\u001b[0m│ \n",
      "││           \u001b[34m▝\u001b[0m\u001b[34m▖\u001b[0m      \u001b[35m▄\u001b[0m                      \u001b[35m▀\u001b[0m\u001b[35m▀\u001b[0m\u001b[35m▀\u001b[0m\u001b[35m▄\u001b[0m\u001b[35m▄\u001b[0m\u001b[35m▄\u001b[0m\u001b[35m▘\u001b[0m          │ \n",
      "││            \u001b[34m▗\u001b[0m\u001b[34m▄\u001b[0m    \u001b[34m▗\u001b[0m\u001b[35m▝\u001b[0m\u001b[35m▀\u001b[0m                                      │ \n",
      "││              \u001b[34m▀\u001b[0m\u001b[34m▄\u001b[0m\u001b[34m▄\u001b[0m\u001b[34m▄\u001b[0m\u001b[34m▘\u001b[0m                                        │ \n",
      "└────────────────────────────────────────────────────────────┘\n",
      " 0                  50                  100\n",
      "                          \u001b[34m██\u001b[0m Input\n",
      "                          \u001b[35m██\u001b[0m Target\n",
      "                          \u001b[32m██\u001b[0m Output\n",
      "           Epoch: 7, Test Loss: 0.1050 - Example 1\n"
     ]
    },
    {
     "name": "stderr",
     "output_type": "stream",
     "text": [
      "  3%|█▍                                                | 3/107 [00:00<00:15,  6.56it/s]"
     ]
    },
    {
     "name": "stdout",
     "output_type": "stream",
     "text": [
      "┌────────────────────────────────────────────────────────────┐\n",
      "││              \u001b[34m▄\u001b[0m\u001b[34m▀\u001b[0m\u001b[34m▀\u001b[0m\u001b[34m▀\u001b[0m\u001b[34m▀\u001b[0m\u001b[35m▄\u001b[0m                                       │ \n",
      "││            \u001b[34m▄\u001b[0m\u001b[34m▞\u001b[0m     \u001b[32m▜\u001b[0m\u001b[32m▞\u001b[0m\u001b[32m▟\u001b[0m\u001b[32m▀\u001b[0m\u001b[32m▝\u001b[0m\u001b[32m▀\u001b[0m\u001b[32m▝\u001b[0m \u001b[32m▀\u001b[0m\u001b[32m▀\u001b[0m \u001b[32m▀\u001b[0m\u001b[32m▘\u001b[0m\u001b[32m▘\u001b[0m\u001b[32m▝\u001b[0m\u001b[32m▘\u001b[0m\u001b[32m▘\u001b[0m \u001b[32m▝\u001b[0m\u001b[32m▘\u001b[0m   \u001b[32m▀\u001b[0m\u001b[32m▘\u001b[0m\u001b[32m▘\u001b[0m\u001b[32m▘\u001b[0m\u001b[32m▝\u001b[0m\u001b[32m▝\u001b[0m \u001b[32m▝\u001b[0m   \u001b[32m▘\u001b[0m\u001b[32m▀\u001b[0m\u001b[32m▀\u001b[0m\u001b[32m▝\u001b[0m\u001b[32m▀\u001b[0m\u001b[32m▝\u001b[0m│ 1\n",
      "││           \u001b[34m▝\u001b[0m          \u001b[35m▚\u001b[0m\u001b[32m▖\u001b[0m                     \u001b[35m▄\u001b[0m             │ \n",
      "││           \u001b[34m▞\u001b[0m           \u001b[32m▝\u001b[0m\u001b[35m▀\u001b[0m\u001b[32m▚\u001b[0m               \u001b[32m▗\u001b[0m\u001b[35m▄\u001b[0m\u001b[32m▝\u001b[0m\u001b[32m▀\u001b[0m\u001b[32m▝\u001b[0m\u001b[32m▘\u001b[0m\u001b[32m▘\u001b[0m\u001b[32m▀\u001b[0m\u001b[32m▖\u001b[0m\u001b[32m▄\u001b[0m\u001b[32m▄\u001b[0m\u001b[32m▄\u001b[0m      │ \n",
      "││         \u001b[34m▗\u001b[0m\u001b[34m▀\u001b[0m              \u001b[35m▐\u001b[0m\u001b[32m▀\u001b[0m           \u001b[32m▗\u001b[0m\u001b[32m▞\u001b[0m\u001b[32m▄\u001b[0m\u001b[32m▘\u001b[0m\u001b[35m▘\u001b[0m       \u001b[35m▝\u001b[0m\u001b[35m▀\u001b[0m\u001b[35m▀\u001b[0m\u001b[32m▝\u001b[0m\u001b[35m▖\u001b[0m    │ \n",
      "││         \u001b[34m▞\u001b[0m                 \u001b[35m▄\u001b[0m \u001b[32m▚\u001b[0m \u001b[32m▗\u001b[0m\u001b[32m▖\u001b[0m   \u001b[32m▄\u001b[0m\u001b[32m▖\u001b[0m\u001b[35m▄\u001b[0m\u001b[35m▀\u001b[0m\u001b[35m▘\u001b[0m             \u001b[35m▐\u001b[0m\u001b[35m▖\u001b[0m\u001b[32m▚\u001b[0m  │ 0\n",
      "││        \u001b[34m▞\u001b[0m                  \u001b[35m▝\u001b[0m\u001b[35m▀\u001b[0m\u001b[35m▖\u001b[0m  \u001b[32m▝\u001b[0m\u001b[32m▘\u001b[0m\u001b[32m▀\u001b[0m\u001b[32m▝\u001b[0m\u001b[35m▄\u001b[0m\u001b[35m▞\u001b[0m\u001b[35m▘\u001b[0m                \u001b[35m▝\u001b[0m\u001b[35m▖\u001b[0m \u001b[32m▀\u001b[0m│ \n",
      "│\u001b[34m▌\u001b[0m      \u001b[34m▄\u001b[0m                      \u001b[35m▝\u001b[0m\u001b[35m▀\u001b[0m\u001b[35m▀\u001b[0m\u001b[35m▙\u001b[0m\u001b[35m▄\u001b[0m\u001b[35m▄\u001b[0m\u001b[35m▀\u001b[0m                    \u001b[35m▝\u001b[0m\u001b[35m▄\u001b[0m │ \n",
      "│\u001b[34m▗\u001b[0m\u001b[34m▄\u001b[0m\u001b[34m▖\u001b[0m   \u001b[34m▗\u001b[0m \u001b[34m▀\u001b[0m                                                  \u001b[35m▚\u001b[0m│ \n",
      "││ \u001b[34m▀\u001b[0m\u001b[34m▄\u001b[0m\u001b[34m▄\u001b[0m\u001b[34m▄\u001b[0m\u001b[34m▌\u001b[0m                                                    \u001b[35m▝\u001b[0m│ \n",
      "└────────────────────────────────────────────────────────────┘\n",
      " 0                  50                  100\n",
      "                          \u001b[34m██\u001b[0m Input\n",
      "                          \u001b[35m██\u001b[0m Target\n",
      "                          \u001b[32m██\u001b[0m Output\n",
      "           Epoch: 7, Test Loss: 0.0905 - Example 2\n",
      "┌────────────────────────────────────────────────────────────┐\n",
      "││ \u001b[34m▞\u001b[0m\u001b[34m▀\u001b[0m\u001b[34m▀\u001b[0m\u001b[34m▀\u001b[0m\u001b[34m▀\u001b[0m\u001b[34m▚\u001b[0m\u001b[34m▄\u001b[0m                                                   │ \n",
      "│\u001b[34m▄\u001b[0m\u001b[34m▞\u001b[0m       \u001b[34m▀\u001b[0m\u001b[34m▄\u001b[0m                                                 │ 1\n",
      "││         \u001b[34m▝\u001b[0m\u001b[34m▚\u001b[0m\u001b[34m▄\u001b[0m                  \u001b[32m▗\u001b[0m\u001b[32m▄\u001b[0m\u001b[32m▄\u001b[0m\u001b[32m▖\u001b[0m\u001b[32m▖\u001b[0m\u001b[32m▖\u001b[0m                      \u001b[32m▗\u001b[0m│ \n",
      "││            \u001b[34m▚\u001b[0m               \u001b[35m▚\u001b[0m\u001b[32m▝\u001b[0m\u001b[35m▘\u001b[0m    \u001b[35m▀\u001b[0m\u001b[32m▝\u001b[0m\u001b[35m▀\u001b[0m\u001b[32m▘\u001b[0m\u001b[35m▄\u001b[0m\u001b[32m▌\u001b[0m\u001b[32m▄\u001b[0m               \u001b[32m▗\u001b[0m\u001b[32m▞\u001b[0m│ \n",
      "││             \u001b[34m▀\u001b[0m\u001b[34m▖\u001b[0m        \u001b[32m▗\u001b[0m\u001b[32m▗\u001b[0m\u001b[32m▄\u001b[0m\u001b[35m▚\u001b[0m\u001b[32m▝\u001b[0m            \u001b[35m▀\u001b[0m\u001b[35m▚\u001b[0m\u001b[32m▀\u001b[0m\u001b[32m▘\u001b[0m           \u001b[32m▗\u001b[0m\u001b[32m▞\u001b[0m\u001b[35m▘\u001b[0m │ \n",
      "││              \u001b[34m▝\u001b[0m\u001b[34m▜\u001b[0m   \u001b[32m▀\u001b[0m\u001b[32m▀\u001b[0m\u001b[32m▀\u001b[0m\u001b[32m▀\u001b[0m\u001b[32m▀\u001b[0m\u001b[32m▘\u001b[0m\u001b[32m▝\u001b[0m\u001b[32m▀\u001b[0m\u001b[32m▘\u001b[0m\u001b[32m▀\u001b[0m\u001b[32m▘\u001b[0m\u001b[32m▘\u001b[0m  \u001b[32m▝\u001b[0m\u001b[32m▝\u001b[0m\u001b[32m▝\u001b[0m\u001b[32m▘\u001b[0m\u001b[32m▀\u001b[0m\u001b[32m▀\u001b[0m\u001b[32m▀\u001b[0m\u001b[32m▝\u001b[0m \u001b[35m▀\u001b[0m\u001b[32m▝\u001b[0m\u001b[32m▀\u001b[0m\u001b[32m▀\u001b[0m\u001b[32m▀\u001b[0m \u001b[32m▝\u001b[0m\u001b[32m▘\u001b[0m  \u001b[32m▀\u001b[0m\u001b[32m▀\u001b[0m\u001b[32m▚\u001b[0m\u001b[32m▘\u001b[0m\u001b[32m▝\u001b[0m\u001b[32m▘\u001b[0m │ \n",
      "││                \u001b[34m▀\u001b[0m\u001b[34m▄\u001b[0m\u001b[34m▄\u001b[0m\u001b[35m▄\u001b[0m\u001b[35m▄\u001b[0m\u001b[35m▄\u001b[0m\u001b[35m▄\u001b[0m\u001b[35m▀\u001b[0m                   \u001b[35m▝\u001b[0m\u001b[35m▄\u001b[0m \u001b[32m▘\u001b[0m\u001b[32m▚\u001b[0m   \u001b[32m▄\u001b[0m\u001b[32m▗\u001b[0m \u001b[35m▝\u001b[0m\u001b[35m▘\u001b[0m   │ \n",
      "││                                             \u001b[35m▚\u001b[0m  \u001b[32m▘\u001b[0m\u001b[32m▝\u001b[0m\u001b[32m▀\u001b[0m  \u001b[35m▗\u001b[0m\u001b[35m▞\u001b[0m    │ \n",
      "││▁▁▁▁▁▁▁▁▁▁▁▁▁▁▁▁▁▁▁▁▁▁▁▁▁▁▁▁▁▁▁▁▁▁▁▁▁▁▁▁▁▁▁▁▁▁\u001b[35m▚\u001b[0m▁▁▁▁▁\u001b[35m▗\u001b[0m\u001b[35m▘\u001b[0m▁▁▁▁▁│ 0\n",
      "││                                               \u001b[35m▚\u001b[0m\u001b[35m▄\u001b[0m\u001b[35m▄\u001b[0m\u001b[35m▄\u001b[0m\u001b[35m▀\u001b[0m\u001b[35m▘\u001b[0m      │ \n",
      "└────────────────────────────────────────────────────────────┘\n",
      " 0                  50                  100\n",
      "                          \u001b[34m██\u001b[0m Input\n",
      "                          \u001b[35m██\u001b[0m Target\n",
      "                          \u001b[32m██\u001b[0m Output\n"
     ]
    },
    {
     "name": "stderr",
     "output_type": "stream",
     "text": [
      "100%|████████████████████████████████████████████████| 107/107 [00:09<00:00, 10.74it/s]\n",
      "100%|████████████████████████████████████████████████| 638/638 [04:08<00:00,  2.56it/s]\n",
      "100%|████████████████████████████████████████████████| 107/107 [00:09<00:00, 10.74it/s]\n",
      "100%|████████████████████████████████████████████████| 638/638 [04:24<00:00,  2.41it/s]\n",
      "100%|████████████████████████████████████████████████| 107/107 [00:10<00:00, 10.58it/s]\n",
      "100%|████████████████████████████████████████████████| 638/638 [04:14<00:00,  2.50it/s]\n",
      "  1%|▍                                                 | 1/107 [00:00<00:17,  5.90it/s]"
     ]
    },
    {
     "name": "stdout",
     "output_type": "stream",
     "text": [
      "           Epoch: 10, Test Loss: 0.0841 - Example 0\n",
      "┌────────────────────────────────────────────────────────────┐\n",
      "│\u001b[34m▛\u001b[0m\u001b[34m▚\u001b[0m\u001b[34m▄\u001b[0m\u001b[34m▄\u001b[0m\u001b[34m▄\u001b[0m\u001b[34m▄\u001b[0m\u001b[34m▖\u001b[0m                     \u001b[35m▟\u001b[0m\u001b[35m▀\u001b[0m\u001b[35m▀\u001b[0m\u001b[35m▀\u001b[0m\u001b[35m▀\u001b[0m\u001b[35m▄\u001b[0m                          │ \n",
      "││     \u001b[34m▚\u001b[0m                   \u001b[35m▄\u001b[0m\u001b[35m▀\u001b[0m \u001b[32m▗\u001b[0m \u001b[32m▄\u001b[0m\u001b[32m▘\u001b[0m\u001b[32m▄\u001b[0m\u001b[35m▀\u001b[0m\u001b[35m▚\u001b[0m                        │ 1\n",
      "││      \u001b[34m▀\u001b[0m\u001b[34m▖\u001b[0m                \u001b[35m▝\u001b[0m \u001b[32m▞\u001b[0m      \u001b[32m▘\u001b[0m\u001b[32m▘\u001b[0m\u001b[32m▗\u001b[0m\u001b[35m▖\u001b[0m                     \u001b[35m▄\u001b[0m│ \n",
      "││       \u001b[34m▘\u001b[0m\u001b[34m▖\u001b[0m              \u001b[35m▗\u001b[0m\u001b[32m▝\u001b[0m           \u001b[32m▝\u001b[0m\u001b[32m▝\u001b[0m\u001b[32m▌\u001b[0m               \u001b[32m▗\u001b[0m\u001b[32m▖\u001b[0m\u001b[32m▞\u001b[0m\u001b[32m▝\u001b[0m\u001b[32m▀\u001b[0m│ \n",
      "││       \u001b[34m▝\u001b[0m\u001b[34m▝\u001b[0m\u001b[34m▄\u001b[0m            \u001b[35m▗\u001b[0m\u001b[32m▘\u001b[0m              \u001b[32m▝\u001b[0m\u001b[32m▀\u001b[0m \u001b[32m▖\u001b[0m\u001b[32m▖\u001b[0m        \u001b[32m▗\u001b[0m \u001b[32m▘\u001b[0m\u001b[32m▘\u001b[0m    │ \n",
      "││          \u001b[34m▚\u001b[0m        \u001b[32m▗\u001b[0m\u001b[32m▄\u001b[0m\u001b[35m▗\u001b[0m\u001b[35m▘\u001b[0m                 \u001b[35m▖\u001b[0m  \u001b[32m▚\u001b[0m\u001b[32m▝\u001b[0m \u001b[32m▖\u001b[0m \u001b[32m▝\u001b[0m \u001b[32m▀\u001b[0m\u001b[35m▄\u001b[0m\u001b[35m▀\u001b[0m\u001b[35m▘\u001b[0m     │ 0\n",
      "││           \u001b[34m▚\u001b[0m       \u001b[32m▀\u001b[0m \u001b[32m▀\u001b[0m\u001b[32m▀\u001b[0m\u001b[32m▝\u001b[0m\u001b[32m▘\u001b[0m\u001b[32m▀\u001b[0m \u001b[32m▀\u001b[0m\u001b[32m▘\u001b[0m\u001b[32m▀\u001b[0m\u001b[32m▘\u001b[0m\u001b[32m▝\u001b[0m\u001b[32m▘\u001b[0m\u001b[32m▝\u001b[0m\u001b[32m▀\u001b[0m\u001b[32m▘\u001b[0m\u001b[32m▘\u001b[0m\u001b[32m▘\u001b[0m  \u001b[32m▀\u001b[0m\u001b[32m▝\u001b[0m\u001b[32m▀\u001b[0m \u001b[32m▘\u001b[0m\u001b[32m▀\u001b[0m\u001b[32m▀\u001b[0m\u001b[32m▀\u001b[0m\u001b[32m▘\u001b[0m\u001b[32m▀\u001b[0m\u001b[35m▞\u001b[0m\u001b[32m▘\u001b[0m\u001b[32m▀\u001b[0m\u001b[32m▝\u001b[0m\u001b[32m▝\u001b[0m\u001b[32m▝\u001b[0m\u001b[32m▝\u001b[0m\u001b[32m▘\u001b[0m │ \n",
      "││           \u001b[34m▝\u001b[0m\u001b[34m▖\u001b[0m      \u001b[35m▄\u001b[0m                      \u001b[35m▀\u001b[0m\u001b[35m▀\u001b[0m\u001b[35m▀\u001b[0m\u001b[35m▄\u001b[0m\u001b[35m▄\u001b[0m\u001b[35m▄\u001b[0m\u001b[35m▘\u001b[0m          │ \n",
      "││            \u001b[34m▗\u001b[0m\u001b[34m▄\u001b[0m    \u001b[34m▗\u001b[0m\u001b[35m▝\u001b[0m\u001b[35m▀\u001b[0m                                      │ \n",
      "││              \u001b[34m▀\u001b[0m\u001b[34m▄\u001b[0m\u001b[34m▄\u001b[0m\u001b[34m▄\u001b[0m\u001b[34m▘\u001b[0m                                        │ \n",
      "└────────────────────────────────────────────────────────────┘\n",
      " 0                  50                  100\n",
      "                          \u001b[34m██\u001b[0m Input\n",
      "                          \u001b[35m██\u001b[0m Target\n",
      "                          \u001b[32m██\u001b[0m Output\n",
      "           Epoch: 10, Test Loss: 0.0890 - Example 1\n"
     ]
    },
    {
     "name": "stderr",
     "output_type": "stream",
     "text": [
      "  3%|█▍                                                | 3/107 [00:00<00:13,  7.44it/s]"
     ]
    },
    {
     "name": "stdout",
     "output_type": "stream",
     "text": [
      "┌────────────────────────────────────────────────────────────┐\n",
      "││              \u001b[34m▄\u001b[0m\u001b[34m▀\u001b[0m\u001b[34m▀\u001b[0m\u001b[34m▀\u001b[0m\u001b[34m▀\u001b[0m\u001b[35m▄\u001b[0m                                       │ \n",
      "││            \u001b[34m▄\u001b[0m\u001b[34m▞\u001b[0m     \u001b[32m▜\u001b[0m\u001b[32m▚\u001b[0m\u001b[32m▞\u001b[0m\u001b[32m▘\u001b[0m\u001b[32m▝\u001b[0m \u001b[32m▝\u001b[0m\u001b[32m▀\u001b[0m\u001b[32m▀\u001b[0m\u001b[32m▝\u001b[0m\u001b[32m▝\u001b[0m \u001b[32m▝\u001b[0m\u001b[32m▀\u001b[0m\u001b[32m▀\u001b[0m\u001b[32m▀\u001b[0m\u001b[32m▝\u001b[0m\u001b[32m▀\u001b[0m\u001b[32m▘\u001b[0m\u001b[32m▘\u001b[0m\u001b[32m▀\u001b[0m\u001b[32m▘\u001b[0m\u001b[32m▝\u001b[0m\u001b[32m▘\u001b[0m\u001b[32m▝\u001b[0m\u001b[32m▘\u001b[0m\u001b[32m▘\u001b[0m\u001b[32m▀\u001b[0m  \u001b[32m▝\u001b[0m\u001b[32m▀\u001b[0m\u001b[32m▝\u001b[0m\u001b[32m▀\u001b[0m  \u001b[32m▘\u001b[0m\u001b[32m▝\u001b[0m\u001b[32m▘\u001b[0m │ 1\n",
      "││           \u001b[34m▝\u001b[0m          \u001b[32m▗\u001b[0m\u001b[32m▖\u001b[0m                     \u001b[35m▄\u001b[0m             │ \n",
      "││           \u001b[34m▞\u001b[0m           \u001b[35m▝\u001b[0m\u001b[32m▀\u001b[0m\u001b[32m▘\u001b[0m               \u001b[35m▖\u001b[0m\u001b[32m▗\u001b[0m\u001b[32m▖\u001b[0m\u001b[32m▀\u001b[0m\u001b[32m▝\u001b[0m\u001b[32m▘\u001b[0m\u001b[32m▀\u001b[0m\u001b[32m▀\u001b[0m\u001b[32m▖\u001b[0m\u001b[32m▗\u001b[0m\u001b[32m▖\u001b[0m\u001b[32m▗\u001b[0m      │ \n",
      "││         \u001b[34m▗\u001b[0m\u001b[34m▀\u001b[0m              \u001b[32m▝\u001b[0m\u001b[35m▄\u001b[0m\u001b[32m▗\u001b[0m            \u001b[32m▄\u001b[0m\u001b[32m▘\u001b[0m\u001b[35m▘\u001b[0m       \u001b[35m▝\u001b[0m\u001b[35m▀\u001b[0m\u001b[35m▀\u001b[0m\u001b[32m▀\u001b[0m\u001b[32m▜\u001b[0m    │ \n",
      "││         \u001b[34m▞\u001b[0m                 \u001b[35m▄\u001b[0m\u001b[32m▘\u001b[0m\u001b[32m▘\u001b[0m\u001b[32m▖\u001b[0m     \u001b[32m▖\u001b[0m\u001b[32m▗\u001b[0m\u001b[32m▀\u001b[0m\u001b[35m▀\u001b[0m\u001b[35m▘\u001b[0m             \u001b[35m▐\u001b[0m\u001b[32m▝\u001b[0m\u001b[32m▚\u001b[0m  │ 0\n",
      "││        \u001b[34m▞\u001b[0m                  \u001b[35m▝\u001b[0m\u001b[35m▀\u001b[0m\u001b[35m▖\u001b[0m\u001b[32m▀\u001b[0m\u001b[32m▘\u001b[0m  \u001b[32m▘\u001b[0m\u001b[32m▘\u001b[0m\u001b[35m▄\u001b[0m\u001b[35m▞\u001b[0m\u001b[35m▘\u001b[0m                \u001b[35m▝\u001b[0m\u001b[35m▖\u001b[0m\u001b[32m▝\u001b[0m\u001b[32m▚\u001b[0m│ \n",
      "│\u001b[34m▌\u001b[0m      \u001b[34m▄\u001b[0m                      \u001b[35m▝\u001b[0m\u001b[35m▀\u001b[0m\u001b[35m▀\u001b[0m\u001b[35m▙\u001b[0m\u001b[35m▄\u001b[0m\u001b[35m▄\u001b[0m\u001b[35m▀\u001b[0m                    \u001b[35m▝\u001b[0m\u001b[35m▄\u001b[0m │ \n",
      "│\u001b[34m▗\u001b[0m\u001b[34m▄\u001b[0m\u001b[34m▖\u001b[0m   \u001b[34m▗\u001b[0m \u001b[34m▀\u001b[0m                                                  \u001b[35m▚\u001b[0m│ \n",
      "││ \u001b[34m▀\u001b[0m\u001b[34m▄\u001b[0m\u001b[34m▄\u001b[0m\u001b[34m▄\u001b[0m\u001b[34m▌\u001b[0m                                                    \u001b[35m▝\u001b[0m│ \n",
      "└────────────────────────────────────────────────────────────┘\n",
      " 0                  50                  100\n",
      "                          \u001b[34m██\u001b[0m Input\n",
      "                          \u001b[35m██\u001b[0m Target\n",
      "                          \u001b[32m██\u001b[0m Output\n",
      "           Epoch: 10, Test Loss: 0.1035 - Example 2\n",
      "┌────────────────────────────────────────────────────────────┐\n",
      "││ \u001b[34m▞\u001b[0m\u001b[34m▀\u001b[0m\u001b[34m▀\u001b[0m\u001b[34m▀\u001b[0m\u001b[34m▀\u001b[0m\u001b[34m▚\u001b[0m\u001b[34m▄\u001b[0m                                                   │ \n",
      "│\u001b[34m▄\u001b[0m\u001b[34m▞\u001b[0m       \u001b[34m▀\u001b[0m\u001b[34m▄\u001b[0m                                                 │ 1\n",
      "││         \u001b[34m▝\u001b[0m\u001b[34m▚\u001b[0m\u001b[34m▄\u001b[0m                  \u001b[32m▗\u001b[0m\u001b[32m▗\u001b[0m\u001b[35m▄\u001b[0m\u001b[35m▄\u001b[0m\u001b[32m▖\u001b[0m                       \u001b[35m▐\u001b[0m│ \n",
      "││            \u001b[34m▚\u001b[0m             \u001b[32m▗\u001b[0m \u001b[32m▝\u001b[0m\u001b[32m▘\u001b[0m\u001b[35m▘\u001b[0m    \u001b[32m▝\u001b[0m\u001b[35m▀\u001b[0m\u001b[35m▀\u001b[0m\u001b[32m▘\u001b[0m\u001b[32m▘\u001b[0m\u001b[32m▌\u001b[0m\u001b[32m▖\u001b[0m               \u001b[32m▗\u001b[0m\u001b[32m▖\u001b[0m│ \n",
      "││             \u001b[34m▀\u001b[0m\u001b[34m▖\u001b[0m          \u001b[32m▝\u001b[0m\u001b[35m▚\u001b[0m\u001b[32m▝\u001b[0m            \u001b[35m▀\u001b[0m\u001b[35m▚\u001b[0m\u001b[32m▘\u001b[0m\u001b[32m▗\u001b[0m\u001b[32m▖\u001b[0m          \u001b[32m▗\u001b[0m\u001b[32m▗\u001b[0m\u001b[32m▘\u001b[0m │ \n",
      "││              \u001b[34m▝\u001b[0m\u001b[34m▜\u001b[0m   \u001b[32m▀\u001b[0m\u001b[32m▀\u001b[0m\u001b[32m▀\u001b[0m\u001b[32m▀\u001b[0m\u001b[32m▀\u001b[0m\u001b[32m▀\u001b[0m\u001b[32m▘\u001b[0m\u001b[32m▘\u001b[0m\u001b[32m▀\u001b[0m\u001b[32m▘\u001b[0m\u001b[32m▝\u001b[0m\u001b[32m▘\u001b[0m\u001b[32m▘\u001b[0m\u001b[32m▀\u001b[0m\u001b[32m▀\u001b[0m\u001b[32m▀\u001b[0m\u001b[32m▘\u001b[0m\u001b[32m▀\u001b[0m\u001b[32m▀\u001b[0m\u001b[32m▝\u001b[0m\u001b[32m▝\u001b[0m\u001b[32m▝\u001b[0m\u001b[32m▝\u001b[0m\u001b[32m▀\u001b[0m\u001b[32m▘\u001b[0m\u001b[32m▀\u001b[0m\u001b[32m▀\u001b[0m\u001b[32m▘\u001b[0m \u001b[32m▀\u001b[0m\u001b[32m▀\u001b[0m\u001b[32m▀\u001b[0m\u001b[32m▘\u001b[0m\u001b[32m▝\u001b[0m\u001b[32m▘\u001b[0m\u001b[32m▀\u001b[0m\u001b[32m▘\u001b[0m\u001b[32m▀\u001b[0m \u001b[32m▝\u001b[0m│ \n",
      "││                \u001b[34m▀\u001b[0m\u001b[34m▄\u001b[0m\u001b[34m▄\u001b[0m\u001b[35m▄\u001b[0m\u001b[35m▄\u001b[0m\u001b[35m▄\u001b[0m\u001b[35m▄\u001b[0m\u001b[35m▀\u001b[0m                   \u001b[35m▝\u001b[0m\u001b[35m▄\u001b[0m \u001b[32m▝\u001b[0m\u001b[32m▚\u001b[0m   \u001b[32m▗\u001b[0m\u001b[32m▞\u001b[0m\u001b[32m▝\u001b[0m\u001b[35m▝\u001b[0m\u001b[35m▘\u001b[0m   │ \n",
      "││                                             \u001b[35m▚\u001b[0m       \u001b[35m▗\u001b[0m\u001b[35m▞\u001b[0m    │ \n",
      "││▁▁▁▁▁▁▁▁▁▁▁▁▁▁▁▁▁▁▁▁▁▁▁▁▁▁▁▁▁▁▁▁▁▁▁▁▁▁▁▁▁▁▁▁▁▁\u001b[35m▚\u001b[0m▁▁▁▁▁\u001b[35m▗\u001b[0m\u001b[35m▘\u001b[0m▁▁▁▁▁│ 0\n",
      "││                                               \u001b[35m▚\u001b[0m\u001b[35m▄\u001b[0m\u001b[35m▄\u001b[0m\u001b[35m▄\u001b[0m\u001b[35m▀\u001b[0m\u001b[35m▘\u001b[0m      │ \n",
      "└────────────────────────────────────────────────────────────┘\n",
      " 0                  50                  100\n",
      "                          \u001b[34m██\u001b[0m Input\n",
      "                          \u001b[35m██\u001b[0m Target\n",
      "                          \u001b[32m██\u001b[0m Output\n"
     ]
    },
    {
     "name": "stderr",
     "output_type": "stream",
     "text": [
      "100%|████████████████████████████████████████████████| 107/107 [00:10<00:00,  9.77it/s]\n",
      "100%|████████████████████████████████████████████████| 638/638 [04:11<00:00,  2.53it/s]\n",
      "100%|████████████████████████████████████████████████| 107/107 [00:09<00:00, 10.75it/s]\n",
      "100%|████████████████████████████████████████████████| 638/638 [04:21<00:00,  2.44it/s]\n",
      "100%|████████████████████████████████████████████████| 107/107 [00:10<00:00, 10.35it/s]\n",
      "100%|████████████████████████████████████████████████| 638/638 [04:08<00:00,  2.57it/s]\n",
      "  2%|▉                                                 | 2/107 [00:00<00:14,  7.31it/s]"
     ]
    },
    {
     "name": "stdout",
     "output_type": "stream",
     "text": [
      "           Epoch: 13, Test Loss: 0.0694 - Example 0\n",
      "┌────────────────────────────────────────────────────────────┐\n",
      "│\u001b[34m▛\u001b[0m\u001b[34m▚\u001b[0m\u001b[34m▄\u001b[0m\u001b[34m▄\u001b[0m\u001b[34m▄\u001b[0m\u001b[34m▄\u001b[0m\u001b[34m▖\u001b[0m                     \u001b[35m▟\u001b[0m\u001b[35m▀\u001b[0m\u001b[35m▀\u001b[0m\u001b[35m▀\u001b[0m\u001b[35m▀\u001b[0m\u001b[35m▄\u001b[0m                          │ \n",
      "││     \u001b[34m▚\u001b[0m                   \u001b[35m▄\u001b[0m\u001b[35m▀\u001b[0m\u001b[32m▗\u001b[0m\u001b[32m▖\u001b[0m\u001b[32m▗\u001b[0m\u001b[32m▄\u001b[0m\u001b[32m▘\u001b[0m\u001b[32m▄\u001b[0m\u001b[35m▀\u001b[0m\u001b[35m▚\u001b[0m                        │ 1\n",
      "││      \u001b[34m▀\u001b[0m\u001b[34m▖\u001b[0m                \u001b[35m▝\u001b[0m\u001b[32m▖\u001b[0m\u001b[32m▀\u001b[0m\u001b[32m▘\u001b[0m      \u001b[32m▀\u001b[0m\u001b[32m▗\u001b[0m\u001b[35m▖\u001b[0m                     \u001b[35m▄\u001b[0m│ \n",
      "││       \u001b[34m▘\u001b[0m\u001b[34m▖\u001b[0m              \u001b[32m▗\u001b[0m\u001b[35m▘\u001b[0m           \u001b[32m▝\u001b[0m\u001b[35m▀\u001b[0m\u001b[32m▗\u001b[0m               \u001b[32m▗\u001b[0m\u001b[32m▄\u001b[0m\u001b[32m▖\u001b[0m\u001b[32m▀\u001b[0m\u001b[32m▀\u001b[0m│ \n",
      "││       \u001b[34m▝\u001b[0m\u001b[34m▝\u001b[0m\u001b[34m▄\u001b[0m            \u001b[32m▖\u001b[0m\u001b[35m▀\u001b[0m              \u001b[35m▚\u001b[0m\u001b[32m▀\u001b[0m\u001b[32m▗\u001b[0m\u001b[32m▄\u001b[0m        \u001b[32m▗\u001b[0m \u001b[32m▞\u001b[0m\u001b[32m▀\u001b[0m\u001b[35m▝\u001b[0m    │ \n",
      "││          \u001b[34m▚\u001b[0m        \u001b[32m▗\u001b[0m \u001b[32m▝\u001b[0m\u001b[35m▘\u001b[0m                 \u001b[35m▖\u001b[0m \u001b[32m▀\u001b[0m\u001b[32m▀\u001b[0m\u001b[32m▀\u001b[0m\u001b[32m▘\u001b[0m\u001b[32m▄\u001b[0m\u001b[32m▗\u001b[0m\u001b[32m▝\u001b[0m \u001b[32m▀\u001b[0m\u001b[35m▄\u001b[0m\u001b[35m▀\u001b[0m\u001b[35m▘\u001b[0m     │ 0\n",
      "││           \u001b[34m▚\u001b[0m       \u001b[32m▀\u001b[0m\u001b[32m▀\u001b[0m\u001b[32m▀\u001b[0m\u001b[32m▝\u001b[0m\u001b[32m▘\u001b[0m\u001b[32m▀\u001b[0m\u001b[32m▝\u001b[0m  \u001b[32m▝\u001b[0m\u001b[32m▘\u001b[0m \u001b[32m▝\u001b[0m\u001b[32m▘\u001b[0m\u001b[32m▀\u001b[0m\u001b[32m▘\u001b[0m\u001b[32m▘\u001b[0m\u001b[32m▘\u001b[0m\u001b[32m▀\u001b[0m\u001b[32m▘\u001b[0m \u001b[32m▘\u001b[0m\u001b[35m▀\u001b[0m\u001b[32m▘\u001b[0m  \u001b[32m▝\u001b[0m\u001b[32m▘\u001b[0m\u001b[32m▘\u001b[0m\u001b[32m▘\u001b[0m\u001b[32m▀\u001b[0m\u001b[35m▞\u001b[0m\u001b[32m▀\u001b[0m  \u001b[32m▘\u001b[0m \u001b[32m▝\u001b[0m  │ \n",
      "││           \u001b[34m▝\u001b[0m\u001b[34m▖\u001b[0m      \u001b[35m▄\u001b[0m                      \u001b[35m▀\u001b[0m\u001b[35m▀\u001b[0m\u001b[35m▀\u001b[0m\u001b[35m▄\u001b[0m\u001b[35m▄\u001b[0m\u001b[35m▄\u001b[0m\u001b[35m▘\u001b[0m          │ \n",
      "││            \u001b[34m▗\u001b[0m\u001b[34m▄\u001b[0m    \u001b[34m▗\u001b[0m\u001b[35m▝\u001b[0m\u001b[35m▀\u001b[0m                                      │ \n",
      "││              \u001b[34m▀\u001b[0m\u001b[34m▄\u001b[0m\u001b[34m▄\u001b[0m\u001b[34m▄\u001b[0m\u001b[34m▘\u001b[0m                                        │ \n",
      "└────────────────────────────────────────────────────────────┘\n",
      " 0                  50                  100\n",
      "                          \u001b[34m██\u001b[0m Input\n",
      "                          \u001b[35m██\u001b[0m Target\n",
      "                          \u001b[32m██\u001b[0m Output\n",
      "           Epoch: 13, Test Loss: 0.0885 - Example 1\n",
      "┌────────────────────────────────────────────────────────────┐\n",
      "││              \u001b[34m▄\u001b[0m\u001b[34m▀\u001b[0m\u001b[34m▀\u001b[0m\u001b[34m▀\u001b[0m\u001b[34m▀\u001b[0m\u001b[35m▄\u001b[0m                                       │ \n",
      "││            \u001b[34m▄\u001b[0m\u001b[34m▞\u001b[0m     \u001b[32m▜\u001b[0m\u001b[32m▀\u001b[0m\u001b[32m▀\u001b[0m\u001b[32m▝\u001b[0m \u001b[32m▘\u001b[0m\u001b[32m▀\u001b[0m\u001b[32m▝\u001b[0m \u001b[32m▝\u001b[0m\u001b[32m▀\u001b[0m\u001b[32m▝\u001b[0m \u001b[32m▀\u001b[0m\u001b[32m▀\u001b[0m\u001b[32m▀\u001b[0m\u001b[32m▘\u001b[0m\u001b[32m▀\u001b[0m\u001b[32m▘\u001b[0m\u001b[32m▀\u001b[0m \u001b[32m▀\u001b[0m\u001b[32m▘\u001b[0m\u001b[32m▘\u001b[0m\u001b[32m▀\u001b[0m\u001b[32m▀\u001b[0m \u001b[32m▀\u001b[0m\u001b[32m▝\u001b[0m \u001b[32m▀\u001b[0m\u001b[32m▘\u001b[0m\u001b[32m▘\u001b[0m \u001b[32m▝\u001b[0m \u001b[32m▀\u001b[0m\u001b[32m▀\u001b[0m  │ 1\n",
      "││           \u001b[34m▝\u001b[0m          \u001b[32m▘\u001b[0m\u001b[32m▄\u001b[0m                     \u001b[35m▄\u001b[0m             │ \n",
      "││           \u001b[34m▞\u001b[0m           \u001b[32m▝\u001b[0m\u001b[32m▝\u001b[0m\u001b[35m▖\u001b[0m               \u001b[32m▗\u001b[0m\u001b[32m▗\u001b[0m\u001b[35m▀\u001b[0m\u001b[32m▘\u001b[0m\u001b[32m▀\u001b[0m\u001b[32m▘\u001b[0m\u001b[32m▘\u001b[0m\u001b[32m▀\u001b[0m\u001b[35m▄\u001b[0m\u001b[32m▗\u001b[0m\u001b[32m▗\u001b[0m\u001b[32m▄\u001b[0m      │ \n",
      "││         \u001b[34m▗\u001b[0m\u001b[34m▀\u001b[0m              \u001b[32m▝\u001b[0m\u001b[32m▘\u001b[0m\u001b[32m▚\u001b[0m           \u001b[32m▞\u001b[0m\u001b[32m▖\u001b[0m\u001b[35m▝\u001b[0m\u001b[35m▘\u001b[0m       \u001b[35m▝\u001b[0m\u001b[35m▀\u001b[0m\u001b[35m▀\u001b[0m\u001b[32m▘\u001b[0m\u001b[32m▜\u001b[0m    │ \n",
      "││         \u001b[34m▞\u001b[0m                 \u001b[32m▝\u001b[0m\u001b[32m▘\u001b[0m \u001b[32m▖\u001b[0m      \u001b[32m▗\u001b[0m\u001b[32m▘\u001b[0m\u001b[35m▀\u001b[0m\u001b[35m▘\u001b[0m             \u001b[35m▐\u001b[0m\u001b[35m▖\u001b[0m\u001b[32m▗\u001b[0m  │ 0\n",
      "││        \u001b[34m▞\u001b[0m                  \u001b[35m▝\u001b[0m\u001b[35m▀\u001b[0m\u001b[35m▖\u001b[0m\u001b[32m▘\u001b[0m\u001b[32m▀\u001b[0m\u001b[32m▘\u001b[0m  \u001b[32m▝\u001b[0m\u001b[32m▘\u001b[0m\u001b[35m▞\u001b[0m\u001b[35m▘\u001b[0m                \u001b[35m▝\u001b[0m\u001b[35m▖\u001b[0m\u001b[32m▀\u001b[0m\u001b[32m▚\u001b[0m│ \n",
      "│\u001b[34m▌\u001b[0m      \u001b[34m▄\u001b[0m                      \u001b[35m▝\u001b[0m\u001b[35m▀\u001b[0m\u001b[35m▀\u001b[0m\u001b[35m▙\u001b[0m\u001b[35m▄\u001b[0m\u001b[35m▄\u001b[0m\u001b[35m▀\u001b[0m                    \u001b[35m▝\u001b[0m\u001b[35m▄\u001b[0m │ \n",
      "│\u001b[34m▗\u001b[0m\u001b[34m▄\u001b[0m\u001b[34m▖\u001b[0m   \u001b[34m▗\u001b[0m \u001b[34m▀\u001b[0m                                                  \u001b[35m▚\u001b[0m│ \n",
      "││ \u001b[34m▀\u001b[0m\u001b[34m▄\u001b[0m\u001b[34m▄\u001b[0m\u001b[34m▄\u001b[0m\u001b[34m▌\u001b[0m                                                    \u001b[35m▝\u001b[0m│ \n",
      "└────────────────────────────────────────────────────────────┘\n",
      " 0                  50                  100\n",
      "                          \u001b[34m██\u001b[0m Input\n",
      "                          \u001b[35m██\u001b[0m Target\n",
      "                          \u001b[32m██\u001b[0m Output\n"
     ]
    },
    {
     "name": "stderr",
     "output_type": "stream",
     "text": [
      "  4%|█▊                                                | 4/107 [00:00<00:12,  7.95it/s]"
     ]
    },
    {
     "name": "stdout",
     "output_type": "stream",
     "text": [
      "           Epoch: 13, Test Loss: 0.1162 - Example 2\n",
      "┌────────────────────────────────────────────────────────────┐\n",
      "││ \u001b[34m▞\u001b[0m\u001b[34m▀\u001b[0m\u001b[34m▀\u001b[0m\u001b[34m▀\u001b[0m\u001b[34m▀\u001b[0m\u001b[34m▚\u001b[0m\u001b[34m▄\u001b[0m                                                   │ \n",
      "│\u001b[34m▄\u001b[0m\u001b[34m▞\u001b[0m       \u001b[34m▀\u001b[0m\u001b[34m▄\u001b[0m                                                 │ 1\n",
      "││         \u001b[34m▝\u001b[0m\u001b[34m▚\u001b[0m\u001b[34m▄\u001b[0m                  \u001b[35m▄\u001b[0m\u001b[32m▄\u001b[0m\u001b[32m▖\u001b[0m\u001b[35m▄\u001b[0m\u001b[32m▖\u001b[0m\u001b[32m▖\u001b[0m                      \u001b[32m▗\u001b[0m│ \n",
      "││            \u001b[34m▚\u001b[0m             \u001b[32m▗\u001b[0m\u001b[32m▄\u001b[0m\u001b[32m▞\u001b[0m\u001b[32m▀\u001b[0m\u001b[35m▘\u001b[0m    \u001b[35m▀\u001b[0m\u001b[35m▀\u001b[0m\u001b[35m▀\u001b[0m\u001b[32m▘\u001b[0m\u001b[35m▄\u001b[0m\u001b[32m▗\u001b[0m \u001b[32m▖\u001b[0m              \u001b[35m▗\u001b[0m\u001b[35m▘\u001b[0m│ \n",
      "││             \u001b[34m▀\u001b[0m\u001b[34m▖\u001b[0m        \u001b[32m▗\u001b[0m\u001b[32m▗\u001b[0m\u001b[32m▞\u001b[0m\u001b[32m▘\u001b[0m\u001b[35m▟\u001b[0m            \u001b[35m▀\u001b[0m\u001b[35m▚\u001b[0m\u001b[32m▀\u001b[0m             \u001b[32m▝\u001b[0m\u001b[32m▘\u001b[0m │ \n",
      "││              \u001b[34m▝\u001b[0m\u001b[34m▜\u001b[0m   \u001b[32m▀\u001b[0m\u001b[32m▀\u001b[0m\u001b[32m▀\u001b[0m\u001b[32m▀\u001b[0m\u001b[32m▀\u001b[0m\u001b[32m▘\u001b[0m\u001b[35m▀\u001b[0m    \u001b[32m▀\u001b[0m \u001b[32m▝\u001b[0m\u001b[32m▀\u001b[0m\u001b[32m▀\u001b[0m\u001b[32m▝\u001b[0m\u001b[32m▀\u001b[0m\u001b[32m▀\u001b[0m\u001b[32m▝\u001b[0m\u001b[32m▀\u001b[0m\u001b[32m▘\u001b[0m\u001b[32m▀\u001b[0m\u001b[35m▀\u001b[0m\u001b[32m▀\u001b[0m\u001b[32m▀\u001b[0m\u001b[32m▀\u001b[0m\u001b[32m▀\u001b[0m\u001b[32m▝\u001b[0m\u001b[32m▘\u001b[0m\u001b[32m▘\u001b[0m\u001b[32m▝\u001b[0m\u001b[32m▀\u001b[0m \u001b[32m▘\u001b[0m\u001b[32m▜\u001b[0m\u001b[32m▀\u001b[0m\u001b[32m▀\u001b[0m\u001b[32m▝\u001b[0m\u001b[32m▀\u001b[0m│ \n",
      "││                \u001b[34m▀\u001b[0m\u001b[34m▄\u001b[0m\u001b[34m▄\u001b[0m\u001b[35m▄\u001b[0m\u001b[35m▄\u001b[0m\u001b[35m▄\u001b[0m\u001b[35m▄\u001b[0m\u001b[35m▀\u001b[0m                   \u001b[35m▝\u001b[0m\u001b[35m▄\u001b[0m  \u001b[32m▘\u001b[0m\u001b[32m▗\u001b[0m\u001b[32m▗\u001b[0m\u001b[32m▖\u001b[0m \u001b[32m▞\u001b[0m\u001b[32m▝\u001b[0m\u001b[35m▝\u001b[0m\u001b[35m▘\u001b[0m   │ \n",
      "││                                             \u001b[35m▚\u001b[0m       \u001b[35m▗\u001b[0m\u001b[35m▞\u001b[0m    │ \n",
      "││▁▁▁▁▁▁▁▁▁▁▁▁▁▁▁▁▁▁▁▁▁▁▁▁▁▁▁▁▁▁▁▁▁▁▁▁▁▁▁▁▁▁▁▁▁▁\u001b[35m▚\u001b[0m▁▁▁▁▁\u001b[35m▗\u001b[0m\u001b[35m▘\u001b[0m▁▁▁▁▁│ 0\n",
      "││                                               \u001b[35m▚\u001b[0m\u001b[35m▄\u001b[0m\u001b[35m▄\u001b[0m\u001b[35m▄\u001b[0m\u001b[35m▀\u001b[0m\u001b[35m▘\u001b[0m      │ \n",
      "└────────────────────────────────────────────────────────────┘\n",
      " 0                  50                  100\n",
      "                          \u001b[34m██\u001b[0m Input\n",
      "                          \u001b[35m██\u001b[0m Target\n",
      "                          \u001b[32m██\u001b[0m Output\n"
     ]
    },
    {
     "name": "stderr",
     "output_type": "stream",
     "text": [
      "100%|████████████████████████████████████████████████| 107/107 [00:10<00:00, 10.11it/s]\n",
      "100%|████████████████████████████████████████████████| 638/638 [04:11<00:00,  2.54it/s]\n",
      "100%|████████████████████████████████████████████████| 107/107 [00:11<00:00,  9.26it/s]\n",
      "100%|████████████████████████████████████████████████| 638/638 [04:23<00:00,  2.42it/s]\n",
      "100%|████████████████████████████████████████████████| 107/107 [00:09<00:00, 11.06it/s]\n"
     ]
    }
   ],
   "source": [
    "start_time = datetime.datetime.now()\n",
    "#model = SimpleARModel(input_size, hidden_size).to(device)\n",
    "#model = TeacherForcingModel(input_size,hidden_size).to(device)\n",
    "model = TeacherForcingBonusModel(input_size,hidden_size).to(device)\n",
    "\n",
    "\n",
    "criterion = nn.MSELoss()\n",
    "optimizer = optim.Adam(model.parameters(), lr=learning_rate)\n",
    "\n",
    "for epoch in range(num_epochs):\n",
    "    model.train()\n",
    "    for inputs, targets in tqdm(train_dataloader):\n",
    "        inputs = inputs.unsqueeze(-1).to(device)\n",
    "        targets = targets.unsqueeze(-1).to(device)\n",
    "\n",
    "        #outputs = model(inputs, targets.shape[1])\n",
    "        outputs = model(inputs, targets,targets.shape[1])\n",
    "\n",
    "        loss = criterion(outputs, targets)\n",
    "\n",
    "        optimizer.zero_grad()\n",
    "        loss.backward()\n",
    "        optimizer.step()\n",
    "\n",
    "    model.eval()\n",
    "    with torch.no_grad():\n",
    "        for i, (inputs, targets) in enumerate(tqdm(test_dataloader)):\n",
    "            inputs = inputs.unsqueeze(-1).to(device)\n",
    "            targets = targets.unsqueeze(-1).to(device)\n",
    "\n",
    "            #outputs = model(inputs, targets.shape[1])\n",
    "            outputs = model(inputs, targets,targets.shape[1])\n",
    "            test_loss = criterion(outputs, targets)\n",
    "            past_view_size = 50\n",
    "            if i in [0, 1, 2] and epoch % 3 == 0:\n",
    "                inp = inputs[0, :, 0].cpu()\n",
    "                tar = targets[0, :, 0].cpu()\n",
    "                out = outputs[0, :, 0].cpu()\n",
    "                uniplot.plot(\n",
    "                    ys=[inp[-past_view_size:], tar, out],\n",
    "                    xs=[\n",
    "                        np.arange(0, past_view_size),\n",
    "                        np.arange(past_view_size, past_view_size + len(tar)),\n",
    "                        np.arange(past_view_size, past_view_size + len(tar)),\n",
    "                    ],\n",
    "                    color=True,\n",
    "                    legend_labels=[\"Input\", \"Target\", \"Output\"],\n",
    "                    title=f\"Epoch: {epoch + 1}, Test Loss: {test_loss.item():.4f} - Example {i}\",\n",
    "                    height=10\n",
    "                )\n"
   ]
  },
  {
   "cell_type": "code",
   "execution_count": 10,
   "id": "f73a99f0",
   "metadata": {
    "colab": {
     "base_uri": "https://localhost:8080/"
    },
    "id": "f73a99f0",
    "outputId": "96e06003-89bb-445b-e9c9-32d9e6715698",
    "scrolled": true
   },
   "outputs": [
    {
     "name": "stdout",
     "output_type": "stream",
     "text": [
      "1:05:54.770522\n"
     ]
    }
   ],
   "source": [
    "end_time = datetime.datetime.now()\n",
    "print(end_time - start_time)"
   ]
  },
  {
   "cell_type": "markdown",
   "id": "67a93dce",
   "metadata": {
    "id": "67a93dce"
   },
   "source": [
    "# The Challenge of Long-Term Dependencies\n",
    "\n",
    "The basic problem is that gradients propagated over many stages tend to either vanish (most of the time) or explode (rarely, but with much damage to the optimization).\n",
    "\n",
    "Recurrent networks involve the composition of the same function multiple times, once per time step.\n",
    "\n",
    "In particular, the function composition employed by recurrent neural networks somewhat resembles matrix multiplication. We can think of the recurrence relation:\n",
    "\n",
    "$h^{(t)} = W^Th^{(t-1)}$\n",
    "\n",
    "as a very simple recurrent neural network lacking a nonlinear activation function and lacking inputs x. \n",
    "This recurrence relation essentially describes the power method. It may be simpliﬁed to:\n",
    "\n",
    "$h^{(t)} = (W^t)^Th^{(0)}$\n",
    "\n",
    "and if W admits an eigendecomposition of the form:\n",
    "\n",
    "$W = Q \\Lambda Q^T$\n",
    "\n",
    "with orthogonal Q, the recurrence may be simpliﬁed further to:\n",
    "\n",
    "$h^{(t)} = Q^T \\Lambda^{t} Q h^{(0)}$\n",
    "\n",
    "The eigenvalues are raised to the power of t, causing eigenvalues with magnitude less than one to decay to zero and eigenvalues with magnitude greater than one to explode. Any component of $h(0)$ that is not aligned with the largest eigenvector will eventually be discarded."
   ]
  },
  {
   "cell_type": "markdown",
   "id": "9167c5bd",
   "metadata": {
    "id": "9167c5bd"
   },
   "source": [
    "Several approaches have been proposed to tackle this. Namely:\n",
    "- Adding Skip Connections through Time: One way to obtain coarse time scales is to add direct connections from variables in the distant past to variables in the present.\n",
    "- Adding other controlled gates: This allows the network to accumulate information (such as evidence for a particular feature or category) over a long duration. Once that information has been used, however, it might be useful for the neural network to forget the old state.\n",
    "- Gradient clipping: Prevents gradient explosion\n",
    "- Many others..."
   ]
  },
  {
   "cell_type": "markdown",
   "id": "05e7ce59",
   "metadata": {
    "id": "05e7ce59"
   },
   "source": [
    "# Exercise\n",
    "A more comprehensive look into sequence modeling can be found at: https://www.deeplearningbook.org/contents/rnn.html\n",
    "\n",
    "One of the strategies to train RNNs is called teacher forcing. This strategy allows for the network to use the actual label instead of its generated output as input to the next step. This allows for the gradient to be propagated through fewer steps in some networks and also for the network to slowly be able to use its own outputs.\n",
    "\n",
    "Exercise:\n",
    " - Implement the **teacher forcing** mechanism and compare the results.\n",
    " - It is described at '10.2.1 Teacher Forcing and Networks with Output Recurrence' section of the deeplearningbook.org book"
   ]
  },
  {
   "cell_type": "markdown",
   "id": "774e2a64",
   "metadata": {},
   "source": [
    "## Answer"
   ]
  },
  {
   "cell_type": "markdown",
   "id": "08d3b602",
   "metadata": {},
   "source": [
    "**Introduction**: \n",
    "- RNNs are a class of neural network designed to __process sequence of related data__ by allowing previous output to be used as inputs while having hidden states. \n",
    "- As main __advantages__ they are capable of process input of any length, model size does not increase with the size of input, computation takes into account historical information and weights are shared across time. \n",
    "- However computation may be __slow and they have difficulty of accessing information from a long time ago__, also known as the vanishing gradient problem. Thus GRU and LSTM architectures are used to handle this."
   ]
  },
  {
   "cell_type": "markdown",
   "id": "bbed318b",
   "metadata": {},
   "source": [
    "**The Problem**: \n",
    "- In our example a special kind of RNN architecture called GRU, was used to predict the sea surface height (SSH) based on measurements extracted from the Santos Port Channel dataset.\n",
    "- The GRU is an advanced version of the classical RNN, as well as LSTM achitecture. Their primary purpose is to store long-term information.\n",
    "- In order to improve RNN performance teacher forcing mechanism was used. It is one of the strategies used to train the so-called Encoder-Decoder model which is a logial continuation of RNN model and they have provided the state-of-the-art results in sequence-to-sequence multistep time series forecasting."
   ]
  },
  {
   "cell_type": "markdown",
   "id": "5de831f6",
   "metadata": {},
   "source": [
    "**More about _Teacher Forcing_**: \n",
    "- Teacher forcing training adds external information to the training before loss calculation.\n",
    "- During teacher forcing training, the decoder RNN cell receives actual previous target values on each step, as shown in figure below:"
   ]
  },
  {
   "cell_type": "markdown",
   "id": "65c8d7b4",
   "metadata": {},
   "source": [
    "![<caption>](teacher_forcing.jpg)"
   ]
  },
  {
   "cell_type": "markdown",
   "id": "ca42bd2d",
   "metadata": {},
   "source": [
    "**The Implementation**: \n",
    "- As RNN cell will be feed by actual previous target values to training, hidden_size parameter must to be equal to **1** (target dimension) instead of 64;\n",
    "- A new class, TeacherForcingModel, was created. It uses the t-1 actual target value as the input for the next prediction step (i.e. teacher forcing) from the second iteration on. Forward method requires target values (y) as additional parameter;\n",
    "- Training and evaluation model compute outputs having target_values as new parameter having _outputs = model(inputs, targets,targets.shape[1])_, as opposite as _outputs = model(inputs, targets.shape[1])_ previously used."
   ]
  },
  {
   "cell_type": "markdown",
   "id": "1541edca",
   "metadata": {},
   "source": [
    "**The Scenarios**: \n",
    "- The teacher forcing model as well as the classical GRU model were performed locally, at mini-conda and Google Colab environments.\n",
    "- In order to measure performance three metrics were used: overall execution lapsed time, best test loss and time-to-fit."
   ]
  },
  {
   "cell_type": "markdown",
   "id": "75abe492",
   "metadata": {},
   "source": [
    "**Results**: \n",
    "- As expected, teacher forcing approach improved network performance under all metrics no matter the environment.\n",
    "\n",
    "|Trainning strategie | Environment | Execution time | Best Test Loss \n",
    "| --- | --- | --- | --- \n",
    "|no teacher forcing | running at **colab** device(type='cpu') | 1:09:03.001693 | Epoch: 13, Test Loss: 0.0388 - Example 2 \n",
    "|**with teacher forcing** | running at colab device device(type='cpu') | 0:45:35.660404 | Epoch: 13, Test Loss: 0.0013 - Example 0 \n",
    "|no teacher forcing | running at **mini-conda** device(type='cpu') | 1:59:40.389969 | Epoch: 7, Test Loss: 0.0318 - Example 0 \n",
    "|**with teacher forcing** | running at mini-conda device(type='cpu') | 1:06:54.284348 | Epoch: 4, Test Loss: 0.0011 - Example 0\n",
    "\n",
    "- The use of teacher forcing was proved to be ~65% faster and 30 times more accurate given our problem context running at Google Colab. Not very different when executed at mini-conda environment it was ~56% faster and 29 times more accurate.\n",
    "- Last, but not least, by visual inspection we notice that with the use of teacher forcing since the first epoch the model outputs shapes of actual values, on the other hand without it, the model takes much longer to do it. See figure below:"
   ]
  },
  {
   "cell_type": "markdown",
   "id": "8a6cb5c2",
   "metadata": {},
   "source": [
    "                                                no teacher forcing training\n",
    "![<caption>](no_teacherforcing_training.jpg)"
   ]
  },
  {
   "cell_type": "markdown",
   "id": "f646509a",
   "metadata": {},
   "source": [
    "                                                 teacher forcing training\n",
    "![<caption>](with_teacherforcing_training.jpg)"
   ]
  },
  {
   "cell_type": "markdown",
   "id": "81ec6879",
   "metadata": {},
   "source": [
    "**References:**\n",
    "\n",
    "- Article: The Unreasonable Effectiveness of Recurrent Neural Networks, available at: https://karpathy.github.io/2015/05/21/rnn-effectiveness/\n",
    "- Book: Deep Learning, provided by MIT, available at: https://www.deeplearningbook.org/\n",
    "- Book: Time Series Forecasting using Deep Learning: Combining PyTorch, RNN, TCN, and Deep Neural Network Models to Provide Production-Ready Prediction Solutions (English Edition)\n",
    "- PyTorch Tutorial, by Patrick Loeber, available at: https://www.youtube.com/watch?v=EMXfZB8FVUA&list=PLqnslRFeH2UrcDBWF5mfPGpqQDSta6VK4"
   ]
  },
  {
   "cell_type": "code",
   "execution_count": 9,
   "id": "c410fd31",
   "metadata": {},
   "outputs": [],
   "source": [
    "models = {t:TeacherForcingModel(input_size, hidden_size).to(device) for t in [True,False]}"
   ]
  },
  {
   "cell_type": "code",
   "execution_count": 10,
   "id": "0a8ca1ad",
   "metadata": {},
   "outputs": [],
   "source": [
    "test_losses = {t:[] for t in models.keys()}"
   ]
  },
  {
   "cell_type": "code",
   "execution_count": 15,
   "id": "c7e544ab",
   "metadata": {},
   "outputs": [
    {
     "name": "stdout",
     "output_type": "stream",
     "text": [
      "True\n",
      "False\n"
     ]
    }
   ],
   "source": [
    "for use_encoder_loss,model in models.items():\n",
    "    print(use_encoder_loss)"
   ]
  },
  {
   "cell_type": "code",
   "execution_count": 31,
   "id": "2889df0e",
   "metadata": {},
   "outputs": [
    {
     "name": "stdout",
     "output_type": "stream",
     "text": [
      "TeacherForcingModel(\n",
      "  (rnn): GRU(1, 1, batch_first=True)\n",
      "  (linear): Linear(in_features=1, out_features=1, bias=True)\n",
      ")\n",
      "TeacherForcingBonusModel(\n",
      "  (rnn): GRU(1, 1, batch_first=True)\n",
      "  (linear): Linear(in_features=1, out_features=1, bias=True)\n",
      ")\n"
     ]
    }
   ],
   "source": [
    "models = [SimpleARModel(input_size, hidden_size).to(device), TeacherForcingModel(input_size, hidden_size_TF).to(device), TeacherForcingBonusModel(input_size, hidden_size_TF).to(device)]\n",
    "for model in models:\n",
    "    if(not isinstance(model,SimpleARModel)):\n",
    "        print(model)"
   ]
  },
  {
   "cell_type": "code",
   "execution_count": null,
   "id": "b1b6c5a9",
   "metadata": {},
   "outputs": [],
   "source": []
  }
 ],
 "metadata": {
  "colab": {
   "provenance": []
  },
  "kernelspec": {
   "display_name": "Python 3 (ipykernel)",
   "language": "python",
   "name": "python3"
  },
  "language_info": {
   "codemirror_mode": {
    "name": "ipython",
    "version": 3
   },
   "file_extension": ".py",
   "mimetype": "text/x-python",
   "name": "python",
   "nbconvert_exporter": "python",
   "pygments_lexer": "ipython3",
   "version": "3.10.4"
  },
  "toc": {
   "base_numbering": 1,
   "nav_menu": {},
   "number_sections": true,
   "sideBar": true,
   "skip_h1_title": false,
   "title_cell": "Table of Contents",
   "title_sidebar": "Contents",
   "toc_cell": false,
   "toc_position": {
    "height": "calc(100% - 180px)",
    "left": "10px",
    "top": "150px",
    "width": "640px"
   },
   "toc_section_display": true,
   "toc_window_display": true
  }
 },
 "nbformat": 4,
 "nbformat_minor": 5
}
