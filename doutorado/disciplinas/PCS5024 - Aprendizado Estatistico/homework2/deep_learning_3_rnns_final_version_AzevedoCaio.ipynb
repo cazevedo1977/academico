{
  "cells": [
    {
      "cell_type": "markdown",
      "id": "1e876d74",
      "metadata": {
        "id": "1e876d74"
      },
      "source": [
        "# PCS5024 - Aprendizado Estatístico - Statistical Learning - 2023/1\n",
        "## Professors: \n",
        " - Anna Helena Reali Costa (anna.reali@usp.br)\n",
        " - Fabio G. Cozman (fgcozman@usp.br)\n",
        "## Student: \n",
        " - Caio Azevedo - (caio.aze@alumni.usp.br)"
      ]
    },
    {
      "cell_type": "markdown",
      "id": "dkgBxWMHGgpp",
      "metadata": {
        "id": "dkgBxWMHGgpp"
      },
      "source": [
        "# New section"
      ]
    },
    {
      "cell_type": "code",
      "execution_count": 14,
      "id": "47f5e918",
      "metadata": {
        "id": "47f5e918"
      },
      "outputs": [],
      "source": [
        "!pip install --quiet torch numpy pandas gdown uniplot matplotlib"
      ]
    },
    {
      "cell_type": "code",
      "execution_count": 16,
      "id": "d378e917-4b88-4ad6-8262-26bc03ca70c1",
      "metadata": {
        "id": "d378e917-4b88-4ad6-8262-26bc03ca70c1",
        "tags": []
      },
      "outputs": [],
      "source": [
        "import torch\n",
        "import torch.nn as nn\n",
        "import torch.optim as optim\n",
        "import numpy as np\n",
        "import pandas as pd\n",
        "from torch.utils.data import TensorDataset, DataLoader\n",
        "import gdown\n",
        "from tqdm import tqdm\n",
        "import uniplot\n",
        "import datetime\n",
        "import random"
      ]
    },
    {
      "cell_type": "markdown",
      "id": "217d362d-d6b6-427d-bdab-ccd648bd94a7",
      "metadata": {
        "id": "217d362d-d6b6-427d-bdab-ccd648bd94a7"
      },
      "source": [
        "# Recurrent Neural Networks\n",
        "\n",
        "Recurrent Neural Networks (RNNs) is a family of neural network specifically designed for processing sequential data (Rumelhart et al., 1986a). They can handle sequences of variable length and share parameters across different parts of the model, making them more adaptable to different input forms. RNNs can generalize across different sequence lengths and positions in time, which is particularly important when specific information can occur at multiple positions within a sequence.\n",
        "\n",
        "In contrast to traditional fully connected feedforward networks, RNNs share the same weights across several time steps. This allows the network to learn language rules at each position in the sequence without having to relearn them separately. Convolution across a 1-D temporal sequence is another related idea, used in Time-Delay Neural Networks (TDNNs) (Lang and Hinton, 1988; Waibel et al., 1989; Lang et al., 1990). While convolution allows for parameter sharing across time, it is shallow compared to the deep computational graph sharing in RNNs.\n",
        "\n",
        "**Sharing weights is an idea from 1980s ML and is still very commonly used in Deep Learning!**"
      ]
    },
    {
      "cell_type": "markdown",
      "id": "e811d73c",
      "metadata": {
        "id": "e811d73c"
      },
      "source": [
        "In general, a RNN can be represented as following:\n",
        "\n",
        "<img src='https://drive.google.com/uc?id=14x9VlBRucvDCwBqS00xjOYWoYqVuMb3w'  width=\"40%\" height=\"40%\">\n",
        "\n",
        "The transformations U, W and V are shared for all $x$ the same way CNNs share the same set of kernels for the whole image."
      ]
    },
    {
      "cell_type": "markdown",
      "id": "ab347de1-3c0b-4902-93bc-b042455f44bc",
      "metadata": {
        "id": "ab347de1-3c0b-4902-93bc-b042455f44bc"
      },
      "source": [
        "RNNs compute a new hidden state $h$ for each new input $x$:\n",
        "\n",
        "$h^{(t)} = f(h^{(t-1)},x^{(t)},\\theta)$\n",
        "\n",
        "There are several RNNs models. The most common are:\n",
        "\n",
        "<img src=\"https://miro.medium.com/v2/resize:fit:4800/format:webp/1*B0q2ZLsUUw31eEImeVf3PQ.png\"   width=\"60%\" height=\"60%\">"
      ]
    },
    {
      "cell_type": "markdown",
      "id": "63532fda",
      "metadata": {
        "id": "63532fda"
      },
      "source": [
        "In this notebook we'll use the Gated Recurrent Unit or GRU (Chung et al. 2014) architecture to show how RNNs can be used in a forecast task.\n",
        "\n",
        "\n",
        "$r_t = \\sigma(W_{ir} x_t + b_{ir} + W_{hr} h_{(t-1)} + b_{hr}) \\\\\n",
        "z_t = \\sigma(W_{iz} x_t + b_{iz} + W_{hz} h_{(t-1)} + b_{hz}) \\\\\n",
        "n_t = \\tanh(W_{in} x_t + b_{in} + r_t * (W_{hn} h_{(t-1)}+ b_{hn})) \\\\\n",
        "h_t = (1 - z_t) * n_t + z_t * h_{(t-1)}$"
      ]
    },
    {
      "cell_type": "markdown",
      "id": "c32e6ba1",
      "metadata": {
        "id": "c32e6ba1"
      },
      "source": [
        "Let's see an example of a sequence of GPS measurements (2 features) being processed by an RNN with hidden size 4.\n",
        "\n",
        "<img src='https://drive.google.com/uc?id=1EbcmMY7pvodQO_8a9mUNOu2ahggvDSEc'  width=\"60%\" height=\"60%\" align=\"left\">"
      ]
    },
    {
      "cell_type": "markdown",
      "id": "1d17ab6c",
      "metadata": {
        "id": "1d17ab6c"
      },
      "source": [
        "To further illustrate how RNNs can be used now we'll use sea surface height (SSH) measurements extracted from the Santos Port Channel dataset. This dataset is a collection of measurements from several sensors, but we're only interested in SSH."
      ]
    },
    {
      "cell_type": "code",
      "execution_count": 17,
      "id": "73490812",
      "metadata": {
        "colab": {
          "base_uri": "https://localhost:8080/",
          "height": 105
        },
        "id": "73490812",
        "outputId": "79ac51ce-161c-4659-b54c-f606f78a93b3"
      },
      "outputs": [
        {
          "output_type": "stream",
          "name": "stderr",
          "text": [
            "Downloading...\n",
            "From: https://drive.google.com/uc?id=1qZv6wwHLyMIZQQNQN8NN676AIgF-XJt5\n",
            "To: /content/santos_ssh.csv\n",
            "100%|██████████| 792k/792k [00:00<00:00, 131MB/s]\n"
          ]
        },
        {
          "output_type": "execute_result",
          "data": {
            "text/plain": [
              "'santos_ssh.csv'"
            ],
            "application/vnd.google.colaboratory.intrinsic+json": {
              "type": "string"
            }
          },
          "metadata": {},
          "execution_count": 17
        }
      ],
      "source": [
        "id = \"1qZv6wwHLyMIZQQNQN8NN676AIgF-XJt5\"\n",
        "gdown.download(id=id, output=\"santos_ssh.csv\", quiet=False)"
      ]
    },
    {
      "cell_type": "code",
      "execution_count": 18,
      "id": "a6d0a1f0-48a4-4d7a-b7aa-00a48330f4d7",
      "metadata": {
        "colab": {
          "base_uri": "https://localhost:8080/"
        },
        "id": "a6d0a1f0-48a4-4d7a-b7aa-00a48330f4d7",
        "outputId": "076be964-adc4-4ffd-c8af-49b08ceb62a2",
        "tags": []
      },
      "outputs": [
        {
          "output_type": "execute_result",
          "data": {
            "text/plain": [
              "(                   datetime   ssh\n",
              " 0 2020-01-01 00:00:00+00:00  0.70\n",
              " 1 2020-01-01 00:10:00+00:00  0.69\n",
              " 2 2020-01-01 00:20:00+00:00  0.68\n",
              " 3 2020-01-01 00:30:00+00:00  0.67\n",
              " 4 2020-01-01 00:40:00+00:00  0.67,\n",
              "                        datetime   ssh\n",
              " 21293 2020-06-01 00:00:00+00:00  0.90\n",
              " 21294 2020-06-01 00:10:00+00:00  0.92\n",
              " 21295 2020-06-01 00:20:00+00:00  0.94\n",
              " 21296 2020-06-01 00:30:00+00:00  0.99\n",
              " 21297 2020-06-01 00:40:00+00:00  1.01)"
            ]
          },
          "metadata": {},
          "execution_count": 18
        }
      ],
      "source": [
        "df = pd.read_csv(\"santos_ssh.csv\")\n",
        "df[\"datetime\"] = pd.to_datetime(df[\"datetime\"])\n",
        "train_df = df[df[\"datetime\"].dt.tz_convert(None) < np.datetime64(\"2020-06-01 00:00:00\")]\n",
        "test_df = df[df[\"datetime\"].dt.tz_convert(None) >= np.datetime64(\"2020-06-01 00:00:00\")]\n",
        "train_df.head(), test_df.head()"
      ]
    },
    {
      "cell_type": "code",
      "execution_count": 19,
      "id": "e882fb7e-942f-4f5b-a4e9-c79c625ed358",
      "metadata": {
        "colab": {
          "base_uri": "https://localhost:8080/",
          "height": 447
        },
        "id": "e882fb7e-942f-4f5b-a4e9-c79c625ed358",
        "outputId": "12105c89-2247-4ab1-9a2d-f8c1921b505e",
        "tags": []
      },
      "outputs": [
        {
          "output_type": "execute_result",
          "data": {
            "text/plain": [
              "<Axes: >"
            ]
          },
          "metadata": {},
          "execution_count": 19
        },
        {
          "output_type": "display_data",
          "data": {
            "text/plain": [
              "<Figure size 640x480 with 1 Axes>"
            ],
            "image/png": "[encoded data removed]"
          },
          "metadata": {}
        }
      ],
      "source": [
        "train_df[\"ssh\"].iloc[:1000].plot()"
      ]
    },
    {
      "cell_type": "code",
      "execution_count": 20,
      "id": "2b175610",
      "metadata": {
        "colab": {
          "base_uri": "https://localhost:8080/"
        },
        "id": "2b175610",
        "outputId": "e168502e-9db9-4f29-9fcd-aabf55f8c6d7"
      },
      "outputs": [
        {
          "output_type": "execute_result",
          "data": {
            "text/plain": [
              "device(type='cuda')"
            ]
          },
          "metadata": {},
          "execution_count": 20
        }
      ],
      "source": [
        "device = torch.device(\"cuda\" if torch.cuda.is_available() else \"cpu\")\n",
        "input_size = 1\n",
        "hidden_size_TF = 1 \n",
        "hidden_size = 64\n",
        "num_epochs = 24\n",
        "past_len = 800\n",
        "future_len = 100\n",
        "batch_size = 32\n",
        "learning_rate = 1e-3\n",
        "device"
      ]
    },
    {
      "cell_type": "code",
      "execution_count": 21,
      "id": "1d2a52c5-7427-43a3-b255-ff46aa1363ba",
      "metadata": {
        "id": "1d2a52c5-7427-43a3-b255-ff46aa1363ba",
        "tags": []
      },
      "outputs": [],
      "source": [
        "# Here we write a SimpleARModel that uses the network \n",
        "# output as the input for the next prediction step (i.e. no teacher forcing)\n",
        "class SimpleARModel(nn.Module):\n",
        "    def __init__(self, input_size, hidden_size):\n",
        "        super().__init__()\n",
        "        self.input_size = input_size\n",
        "        self.hidden_size = hidden_size\n",
        "        self.rnn = nn.GRU(input_size, hidden_size, batch_first=True)\n",
        "        self.linear = nn.Linear(hidden_size, input_size)\n",
        "\n",
        "    def forward(self, x, target_seq_len):\n",
        "        # encoding\n",
        "        out, h_n = self.rnn(x)\n",
        "        encoder_out_proj = self.linear(out.reshape(-1, self.hidden_size)).view(\n",
        "            x.shape[0], -1, self.input_size\n",
        "        ) # project the output of the encoder to the input size\n",
        "        inp = encoder_out_proj[:, -1]\n",
        "\n",
        "        output_seq = torch.empty(\n",
        "            x.shape[0], target_seq_len, x.shape[-1], device=inp.device\n",
        "        ) # allocate memory for the output sequence\n",
        "        output_seq[:, 0] = inp\n",
        "\n",
        "        for i in range(1,target_seq_len):\n",
        "            out, h_n = self.rnn(inp.unsqueeze(1), h_n)\n",
        "            inp = self.linear(out[:, -1])\n",
        "            output_seq[:, i] = inp\n",
        "        return encoder_out_proj[:,:-1],output_seq # last decoder proj is the first element of the output_seq\n",
        "\n",
        "\n",
        "def create_sequences(data, past_len, future_len):\n",
        "    xs, ys = [], []\n",
        "    for i in range(past_len, len(data) - future_len):\n",
        "        x = data[(i - past_len) : i]\n",
        "        y = data[i : (i + future_len)]\n",
        "        xs.append(x)\n",
        "        ys.append(y)\n",
        "    return np.array(xs), np.array(ys)"
      ]
    },
    {
      "cell_type": "code",
      "execution_count": 22,
      "id": "e6b75323",
      "metadata": {
        "id": "e6b75323"
      },
      "outputs": [],
      "source": [
        "# Here we write another class, TeacherForcingModel, that uses the t-1 actual target value as \n",
        "# the input for the next prediction step (i.e. teacher forcing) from the second iteration on.\n",
        "class TeacherForcingModel(nn.Module):\n",
        "    def __init__(self, input_size, hidden_size):\n",
        "        super().__init__()\n",
        "        self.step = None\n",
        "        self.input_size = input_size\n",
        "        self.hidden_size = hidden_size\n",
        "        self.rnn = nn.GRU(input_size, hidden_size, batch_first=True)\n",
        "        self.linear = nn.Linear(hidden_size, input_size)\n",
        "\n",
        "    def forward(self, x, y,target_seq_len):\n",
        "        # encoding\n",
        "        out, h_n = self.rnn(x)\n",
        "        inp = self.linear(out[:,-1]).unsqueeze(1)\n",
        "\n",
        "        output_seq = torch.empty(\n",
        "            x.shape[0], target_seq_len, x.shape[-1], device=inp.device\n",
        "        ) # allocate memory for the output sequence\n",
        "         \n",
        "        for i in range(target_seq_len):\n",
        "            if i == 0:\n",
        "                out, h_n = self.rnn(inp, h_n)\n",
        "                inp = self.linear(out[:,-1].unsqueeze(1))\n",
        "                output_seq[:, i] = self.linear(out[:,-1])\n",
        "            else:\n",
        "                out, h_n = self.rnn(inp, y[:,i-1].unsqueeze(0).contiguous())\n",
        "                inp = self.linear(out[:,-1].unsqueeze(1))\n",
        "                output_seq[:, i] = self.linear(out[:,-1])\n",
        "            \n",
        "        return output_seq # last decoder proj is the first element of the output_seq"
      ]
    },
    {
      "cell_type": "code",
      "execution_count": 23,
      "id": "9a5cf8bc",
      "metadata": {
        "id": "9a5cf8bc"
      },
      "outputs": [],
      "source": [
        "# Here we write another class, TeacherForcingModel, that uses the t-1 actual target value as \n",
        "# the input for the next prediction step (i.e. teacher forcing) from the second iteration on. \n",
        "# In addition, it´s been used the teacher forcing ratio decreasing during training, also known as dynamic teacher forcing.\n",
        "# By trial and error and inspired by Gridin, Ivan in \"Time Series Forecasting using Deep Learning Combining PyTorch, RNN, TCN, and Deep Neural Network Models to Provide Production-Ready Prediction Solutions\" book\n",
        "# the decreasing ratio was computed randomly according to the number of training steps. \n",
        "class TeacherForcingModelBonus(nn.Module):\n",
        "    def __init__(self, input_size, hidden_size):\n",
        "        super().__init__()\n",
        "        self.step = None\n",
        "        self.input_size = input_size\n",
        "        self.hidden_size = hidden_size\n",
        "        self.rnn = nn.GRU(input_size, hidden_size, batch_first=True)\n",
        "        self.linear = nn.Linear(hidden_size, input_size)\n",
        "\n",
        "    def forward(self, x, y,target_seq_len):\n",
        "        # encoding\n",
        "        tfr = 0.9\n",
        "        out, h_n = self.rnn(x)\n",
        "        inp = self.linear(out[:,-1]).unsqueeze(1)\n",
        "\n",
        "        output_seq = torch.empty(x.shape[0], target_seq_len, x.shape[-1], device=inp.device) \n",
        "         \n",
        "        for i in range(target_seq_len):\n",
        "            if i == 0:\n",
        "                out, h_n = self.rnn(inp, h_n)\n",
        "                inp = self.linear(out[:,-1].unsqueeze(1))\n",
        "                output_seq[:, i] = self.linear(out[:,-1])\n",
        "            else:\n",
        "                if random.random() < np.maximum((0.9 - (self.step/num_epochs)),0.5):\n",
        "                    out, h_n = self.rnn(inp, y[:,i-1].unsqueeze(0).contiguous())\n",
        "                    inp = self.linear(out[:,-1].unsqueeze(1))\n",
        "                    output_seq[:, i] = self.linear(out[:,-1])\n",
        "                else:\n",
        "                    out, h_n = self.rnn(inp, h_n)\n",
        "                    inp = self.linear(out[:,-1].unsqueeze(1))\n",
        "                    output_seq[:, i] = self.linear(out[:,-1])\n",
        "                #if tfr >  0:\n",
        "                #  tfr = tfr - 0.02\n",
        "                \n",
        "        return output_seq # last decoder proj is the first element of the output_seq"
      ]
    },
    {
      "cell_type": "code",
      "execution_count": 24,
      "id": "a1976190-0c56-4fd8-bd1a-f6c0976c2157",
      "metadata": {
        "id": "a1976190-0c56-4fd8-bd1a-f6c0976c2157",
        "tags": []
      },
      "outputs": [],
      "source": [
        "train_data = train_df[\"ssh\"].values\n",
        "test_data = test_df[\"ssh\"].values\n",
        "\n",
        "X_train, y_train = create_sequences(train_data, past_len, future_len)\n",
        "X_test, y_test = create_sequences(test_data, past_len, future_len)\n",
        "\n",
        "X_train = torch.from_numpy(X_train.astype(np.float32))\n",
        "y_train = torch.from_numpy(y_train.astype(np.float32))\n",
        "X_test = torch.from_numpy(X_test.astype(np.float32))\n",
        "y_test = torch.from_numpy(y_test.astype(np.float32))\n",
        "\n",
        "train_dataset = TensorDataset(X_train, y_train)\n",
        "train_dataloader = DataLoader(train_dataset, batch_size=batch_size, shuffle=True)\n",
        "\n",
        "test_dataset = TensorDataset(X_test, y_test)\n",
        "test_dataloader = DataLoader(test_dataset, batch_size=batch_size, shuffle=False)"
      ]
    },
    {
      "cell_type": "code",
      "execution_count": 25,
      "id": "597567e5",
      "metadata": {
        "id": "597567e5"
      },
      "outputs": [],
      "source": [
        "def run_experiment(model):\n",
        "    start_time = datetime.datetime.now()\n",
        "    criterion = nn.MSELoss()\n",
        "    optimizer = optim.Adam(model.parameters(), lr=learning_rate)\n",
        "    TFModel = not isinstance(model,SimpleARModel)\n",
        "    TestLossList = []\n",
        "    print('Start model training..')\n",
        "    \n",
        "    for epoch in range(num_epochs):\n",
        "        if TFModel:\n",
        "          model.step = epoch\n",
        "        model.train()\n",
        "        for inputs, targets in tqdm(train_dataloader):\n",
        "            inputs = inputs.unsqueeze(-1).to(device)\n",
        "            targets = targets.unsqueeze(-1).to(device)\n",
        "            if TFModel:\n",
        "                outputs = model(inputs,targets,targets.shape[1])\n",
        "            else:\n",
        "                encoder_proj,outputs = model(inputs, targets.shape[1])\n",
        "\n",
        "            loss = criterion(outputs, targets)\n",
        "            optimizer.zero_grad()\n",
        "            loss.backward()\n",
        "            optimizer.step()\n",
        "        model.eval()\n",
        "        with torch.no_grad():\n",
        "            testSumofLoss = 0\n",
        "            for i, (inputs, targets) in enumerate(tqdm(test_dataloader)):\n",
        "                inputs = inputs.unsqueeze(-1).to(device)\n",
        "                targets = targets.unsqueeze(-1).to(device)\n",
        "                \n",
        "                if TFModel:\n",
        "                    outputs = model(inputs, targets,targets.shape[1])\n",
        "                else:\n",
        "                    _,outputs = model(inputs, targets.shape[1])\n",
        "                \n",
        "                test_loss = criterion(outputs, targets) # but evaluate the model only on decoder outputs\n",
        "                testSumofLoss += test_loss.item()\n",
        "                past_view_size = 50\n",
        "                if i in [0, 1, 2] and (epoch+1) % 3 == 0:\n",
        "                    inp = inputs[0, :, 0].cpu()\n",
        "                    tar = targets[0, :, 0].cpu()\n",
        "                    out = outputs[0, :, 0].cpu()\n",
        "                    uniplot.plot(\n",
        "                        ys=[inp[-past_view_size:], tar, out],\n",
        "                        xs=[\n",
        "                            np.arange(0, past_view_size),\n",
        "                            np.arange(past_view_size, past_view_size + len(tar)),\n",
        "                            np.arange(past_view_size, past_view_size + len(tar)),\n",
        "                        ],\n",
        "                        color=True,\n",
        "                        legend_labels=[\"Input\", \"Target\", \"Output\"],\n",
        "                        title=f\"Epoch: {epoch + 1}, Test Loss: {test_loss.item():.4f} - Example {i}\",\n",
        "                        height=10\n",
        "                    )\n",
        "        TestLossList.append(testSumofLoss)\n",
        "    end_time = datetime.datetime.now()\n",
        "    return end_time - start_time, TestLossList"
      ]
    },
    {
      "cell_type": "code",
      "execution_count": 26,
      "id": "MshepFGYXLzP",
      "metadata": {
        "colab": {
          "base_uri": "https://localhost:8080/"
        },
        "id": "MshepFGYXLzP",
        "outputId": "f496bcaa-3864-4efe-a493-3e43e9545ffb"
      },
      "outputs": [
        {
          "output_type": "stream",
          "name": "stdout",
          "text": [
            "Start model training..\n"
          ]
        },
        {
          "output_type": "stream",
          "name": "stderr",
          "text": [
            "100%|██████████| 638/638 [00:54<00:00, 11.63it/s]\n",
            "100%|██████████| 107/107 [00:02<00:00, 39.61it/s]\n",
            "100%|██████████| 638/638 [00:55<00:00, 11.60it/s]\n",
            "100%|██████████| 107/107 [00:02<00:00, 37.76it/s]\n",
            "100%|██████████| 638/638 [00:52<00:00, 12.04it/s]\n",
            "  5%|▍         | 5/107 [00:00<00:04, 24.13it/s]"
          ]
        },
        {
          "output_type": "stream",
          "name": "stdout",
          "text": [
            "           Epoch: 3, Test Loss: 0.0286 - Example 0\n",
            "┌────────────────────────────────────────────────────────────┐\n",
            "│\u001b[34m▛\u001b[0m\u001b[34m▚\u001b[0m\u001b[34m▄\u001b[0m\u001b[34m▄\u001b[0m\u001b[34m▄\u001b[0m\u001b[34m▄\u001b[0m\u001b[34m▖\u001b[0m                     \u001b[35m▟\u001b[0m\u001b[35m▀\u001b[0m\u001b[32m▄\u001b[0m\u001b[32m▄\u001b[0m\u001b[32m▄\u001b[0m\u001b[32m▄\u001b[0m\u001b[32m▄\u001b[0m                        \u001b[32m▄\u001b[0m│ \n",
            "││     \u001b[34m▚\u001b[0m                   \u001b[35m▄\u001b[0m\u001b[35m▀\u001b[0m\u001b[32m▟\u001b[0m\u001b[32m▀\u001b[0m    \u001b[35m▀\u001b[0m\u001b[32m▚\u001b[0m\u001b[32m▄\u001b[0m                    \u001b[32m▟\u001b[0m\u001b[32m▀\u001b[0m │ 1\n",
            "││      \u001b[34m▀\u001b[0m\u001b[34m▖\u001b[0m                \u001b[35m▝\u001b[0m\u001b[32m▗\u001b[0m\u001b[32m▀\u001b[0m        \u001b[35m▚\u001b[0m\u001b[32m▚\u001b[0m                 \u001b[32m▗\u001b[0m\u001b[32m▀\u001b[0m  \u001b[35m▄\u001b[0m│ \n",
            "││       \u001b[34m▘\u001b[0m\u001b[34m▖\u001b[0m              \u001b[35m▗\u001b[0m\u001b[32m▗\u001b[0m\u001b[32m▀\u001b[0m          \u001b[35m▝\u001b[0m\u001b[32m▀\u001b[0m\u001b[32m▖\u001b[0m              \u001b[32m▞\u001b[0m\u001b[32m▘\u001b[0m\u001b[35m▄\u001b[0m\u001b[35m▀\u001b[0m\u001b[35m▀\u001b[0m\u001b[35m▝\u001b[0m│ \n",
            "││       \u001b[34m▝\u001b[0m\u001b[34m▝\u001b[0m\u001b[34m▄\u001b[0m            \u001b[35m▗\u001b[0m\u001b[32m▐\u001b[0m\u001b[32m▘\u001b[0m             \u001b[32m▝\u001b[0m\u001b[32m▚\u001b[0m\u001b[32m▖\u001b[0m           \u001b[32m▞\u001b[0m\u001b[35m▗\u001b[0m\u001b[35m▝\u001b[0m    │ \n",
            "││          \u001b[34m▚\u001b[0m          \u001b[35m▗\u001b[0m\u001b[32m▄\u001b[0m\u001b[32m▘\u001b[0m                \u001b[32m▀\u001b[0m\u001b[32m▄\u001b[0m        \u001b[32m▗\u001b[0m\u001b[32m▀\u001b[0m\u001b[35m▀\u001b[0m\u001b[35m▘\u001b[0m     │ 0\n",
            "││           \u001b[34m▚\u001b[0m         \u001b[32m▞\u001b[0m                  \u001b[35m▝\u001b[0m\u001b[35m▀\u001b[0m\u001b[32m▚\u001b[0m\u001b[32m▄\u001b[0m\u001b[32m▖\u001b[0m   \u001b[32m▄\u001b[0m\u001b[32m▞\u001b[0m\u001b[32m▘\u001b[0m        │ \n",
            "││           \u001b[34m▝\u001b[0m\u001b[34m▖\u001b[0m      \u001b[32m▟\u001b[0m\u001b[32m▀\u001b[0m                     \u001b[35m▀\u001b[0m\u001b[35m▀\u001b[0m\u001b[32m▀\u001b[0m\u001b[32m▀\u001b[0m\u001b[32m▀\u001b[0m\u001b[32m▀\u001b[0m\u001b[32m▘\u001b[0m          │ \n",
            "││            \u001b[34m▗\u001b[0m\u001b[34m▄\u001b[0m    \u001b[34m▗\u001b[0m\u001b[35m▝\u001b[0m\u001b[35m▀\u001b[0m                                      │ \n",
            "││              \u001b[34m▀\u001b[0m\u001b[34m▄\u001b[0m\u001b[34m▄\u001b[0m\u001b[34m▄\u001b[0m\u001b[34m▘\u001b[0m                                        │ \n",
            "└────────────────────────────────────────────────────────────┘\n",
            " 0                  50                  100\n",
            "                          \u001b[34m██\u001b[0m Input\n",
            "                          \u001b[35m██\u001b[0m Target\n",
            "                          \u001b[32m██\u001b[0m Output\n",
            "           Epoch: 3, Test Loss: 0.0649 - Example 1\n",
            "┌────────────────────────────────────────────────────────────┐\n",
            "││              \u001b[34m▄\u001b[0m\u001b[34m▀\u001b[0m\u001b[34m▀\u001b[0m\u001b[34m▀\u001b[0m\u001b[34m▀\u001b[0m\u001b[32m▀\u001b[0m\u001b[32m▀\u001b[0m\u001b[32m▄\u001b[0m                      \u001b[32m▄\u001b[0m\u001b[32m▞\u001b[0m\u001b[32m▀\u001b[0m\u001b[32m▀\u001b[0m\u001b[32m▀\u001b[0m\u001b[32m▄\u001b[0m\u001b[32m▖\u001b[0m        │ \n",
            "││            \u001b[34m▗\u001b[0m\u001b[34m▟\u001b[0m     \u001b[35m▝\u001b[0m\u001b[35m▀\u001b[0m\u001b[32m▝\u001b[0m\u001b[32m▚\u001b[0m\u001b[32m▖\u001b[0m                  \u001b[32m▗\u001b[0m\u001b[32m▞\u001b[0m\u001b[32m▘\u001b[0m     \u001b[32m▝\u001b[0m\u001b[32m▚\u001b[0m\u001b[32m▖\u001b[0m      │ 1\n",
            "││           \u001b[34m▝\u001b[0m\u001b[34m▘\u001b[0m         \u001b[35m▚\u001b[0m\u001b[32m▝\u001b[0m\u001b[32m▖\u001b[0m                \u001b[32m▗\u001b[0m\u001b[32m▘\u001b[0m  \u001b[35m▖\u001b[0m      \u001b[32m▝\u001b[0m\u001b[32m▄\u001b[0m     │ \n",
            "││           \u001b[34m▝\u001b[0m           \u001b[35m▝\u001b[0m\u001b[32m▝\u001b[0m\u001b[32m▚\u001b[0m              \u001b[32m▞\u001b[0m\u001b[32m▘\u001b[0m\u001b[35m▄\u001b[0m\u001b[35m▀\u001b[0m\u001b[35m▀\u001b[0m\u001b[35m▝\u001b[0m\u001b[35m▀\u001b[0m\u001b[35m▀\u001b[0m\u001b[35m▄\u001b[0m\u001b[35m▄\u001b[0m\u001b[35m▄\u001b[0m   \u001b[32m▚\u001b[0m    │ \n",
            "││         \u001b[34m▗\u001b[0m\u001b[34m▞\u001b[0m\u001b[34m▘\u001b[0m             \u001b[35m▚\u001b[0m\u001b[32m▚\u001b[0m\u001b[32m▖\u001b[0m          \u001b[32m▗\u001b[0m\u001b[32m▞\u001b[0m\u001b[35m▗\u001b[0m\u001b[35m▀\u001b[0m\u001b[35m▘\u001b[0m       \u001b[35m▝\u001b[0m\u001b[35m▀\u001b[0m\u001b[35m▜\u001b[0m\u001b[35m▄\u001b[0m\u001b[35m▖\u001b[0m\u001b[32m▀\u001b[0m\u001b[32m▄\u001b[0m  │ \n",
            "││         \u001b[34m▞\u001b[0m                 \u001b[32m▝\u001b[0m\u001b[32m▄\u001b[0m        \u001b[32m▗\u001b[0m\u001b[32m▌\u001b[0m\u001b[35m▀\u001b[0m\u001b[35m▘\u001b[0m             \u001b[35m▐\u001b[0m\u001b[35m▖\u001b[0m\u001b[32m▝\u001b[0m\u001b[32m▚\u001b[0m\u001b[32m▄\u001b[0m│ 0\n",
            "││        \u001b[34m▝\u001b[0m                  \u001b[35m▝\u001b[0m\u001b[35m▀\u001b[0m\u001b[32m▀\u001b[0m\u001b[32m▙\u001b[0m\u001b[32m▖\u001b[0m   \u001b[32m▗\u001b[0m\u001b[32m▞\u001b[0m\u001b[32m▘\u001b[0m\u001b[35m▘\u001b[0m                \u001b[35m▝\u001b[0m\u001b[35m▖\u001b[0m \u001b[32m▝\u001b[0m│ \n",
            "│\u001b[34m▌\u001b[0m      \u001b[34m▗\u001b[0m \u001b[34m▘\u001b[0m                    \u001b[35m▝\u001b[0m\u001b[35m▙\u001b[0m\u001b[32m▝\u001b[0m\u001b[32m▀\u001b[0m\u001b[32m▀\u001b[0m\u001b[32m▀\u001b[0m\u001b[32m▘\u001b[0m\u001b[35m▘\u001b[0m                   \u001b[35m▐\u001b[0m\u001b[35m▄\u001b[0m │ \n",
            "│\u001b[34m▗\u001b[0m\u001b[34m▄\u001b[0m    \u001b[34m▗\u001b[0m\u001b[34m▘\u001b[0m\u001b[34m▛\u001b[0m                                                  \u001b[35m▚\u001b[0m│ \n",
            "││ \u001b[34m▀\u001b[0m\u001b[34m▄\u001b[0m\u001b[34m▄\u001b[0m\u001b[34m▄\u001b[0m\u001b[34m▌\u001b[0m                                                    \u001b[35m▝\u001b[0m│ \n",
            "└────────────────────────────────────────────────────────────┘\n",
            " 0                  50                  100\n",
            "                          \u001b[34m██\u001b[0m Input\n",
            "                          \u001b[35m██\u001b[0m Target\n",
            "                          \u001b[32m██\u001b[0m Output\n",
            "           Epoch: 3, Test Loss: 0.0783 - Example 2\n",
            "┌────────────────────────────────────────────────────────────┐\n",
            "││ \u001b[34m▞\u001b[0m\u001b[34m▀\u001b[0m\u001b[34m▀\u001b[0m\u001b[34m▀\u001b[0m\u001b[34m▀\u001b[0m\u001b[34m▚\u001b[0m\u001b[34m▄\u001b[0m                       \u001b[32m▄\u001b[0m\u001b[32m▛\u001b[0m\u001b[32m▀\u001b[0m\u001b[32m▀\u001b[0m\u001b[32m▀\u001b[0m\u001b[32m▙\u001b[0m\u001b[32m▄\u001b[0m                     │ \n",
            "│\u001b[34m▄\u001b[0m\u001b[34m▞\u001b[0m       \u001b[34m▀\u001b[0m\u001b[34m▄\u001b[0m                   \u001b[32m▗\u001b[0m\u001b[32m▛\u001b[0m       \u001b[32m▚\u001b[0m\u001b[32m▖\u001b[0m                  \u001b[32m▗\u001b[0m│ 1\n",
            "││         \u001b[34m▝\u001b[0m\u001b[34m▚\u001b[0m\u001b[34m▄\u001b[0m               \u001b[32m▗\u001b[0m\u001b[32m▞\u001b[0m\u001b[32m▘\u001b[0m\u001b[35m▄\u001b[0m\u001b[35m▄\u001b[0m\u001b[35m▄\u001b[0m\u001b[35m▄\u001b[0m\u001b[35m▄\u001b[0m    \u001b[32m▝\u001b[0m\u001b[32m▙\u001b[0m               \u001b[32m▗\u001b[0m\u001b[32m▞\u001b[0m\u001b[32m▘\u001b[0m│ \n",
            "││            \u001b[34m▚\u001b[0m             \u001b[32m▗\u001b[0m\u001b[32m▞\u001b[0m\u001b[35m▚\u001b[0m\u001b[35m▞\u001b[0m\u001b[35m▘\u001b[0m    \u001b[35m▀\u001b[0m\u001b[35m▀\u001b[0m\u001b[35m▀\u001b[0m\u001b[35m▄\u001b[0m\u001b[35m▄\u001b[0m\u001b[35m▖\u001b[0m\u001b[32m▀\u001b[0m\u001b[32m▖\u001b[0m            \u001b[32m▄\u001b[0m\u001b[32m▀\u001b[0m\u001b[35m▗\u001b[0m\u001b[35m▘\u001b[0m│ \n",
            "││             \u001b[34m▀\u001b[0m\u001b[34m▖\u001b[0m          \u001b[32m▗\u001b[0m\u001b[32m▘\u001b[0m\u001b[35m▟\u001b[0m            \u001b[35m▀\u001b[0m\u001b[35m▚\u001b[0m\u001b[32m▝\u001b[0m\u001b[32m▚\u001b[0m\u001b[32m▖\u001b[0m         \u001b[32m▟\u001b[0m \u001b[35m▗\u001b[0m\u001b[35m▘\u001b[0m │ \n",
            "││              \u001b[34m▝\u001b[0m\u001b[34m▜\u001b[0m       \u001b[32m▗\u001b[0m\u001b[32m▞\u001b[0m\u001b[32m▘\u001b[0m                \u001b[35m▀\u001b[0m\u001b[35m▖\u001b[0m\u001b[32m▀\u001b[0m\u001b[32m▚\u001b[0m\u001b[32m▖\u001b[0m     \u001b[32m▄\u001b[0m\u001b[32m▀\u001b[0m \u001b[35m▗\u001b[0m\u001b[35m▖\u001b[0m  │ \n",
            "││                \u001b[34m▀\u001b[0m\u001b[34m▄\u001b[0m\u001b[34m▄\u001b[0m\u001b[32m▖\u001b[0m\u001b[35m▄\u001b[0m\u001b[32m▄\u001b[0m\u001b[32m▄\u001b[0m\u001b[32m▀\u001b[0m                   \u001b[35m▝\u001b[0m\u001b[35m▄\u001b[0m \u001b[32m▝\u001b[0m\u001b[32m▀\u001b[0m\u001b[32m▀\u001b[0m\u001b[32m▀\u001b[0m\u001b[32m▀\u001b[0m\u001b[32m▀\u001b[0m  \u001b[35m▝\u001b[0m\u001b[35m▘\u001b[0m   │ \n",
            "││                   \u001b[32m▝\u001b[0m\u001b[32m▀\u001b[0m                        \u001b[35m▚\u001b[0m       \u001b[35m▗\u001b[0m\u001b[35m▞\u001b[0m    │ \n",
            "││▁▁▁▁▁▁▁▁▁▁▁▁▁▁▁▁▁▁▁▁▁▁▁▁▁▁▁▁▁▁▁▁▁▁▁▁▁▁▁▁▁▁▁▁▁▁\u001b[35m▚\u001b[0m▁▁▁▁▁\u001b[35m▗\u001b[0m\u001b[35m▘\u001b[0m▁▁▁▁▁│ 0\n",
            "││                                               \u001b[35m▚\u001b[0m\u001b[35m▄\u001b[0m\u001b[35m▄\u001b[0m\u001b[35m▄\u001b[0m\u001b[35m▀\u001b[0m\u001b[35m▘\u001b[0m      │ \n",
            "└────────────────────────────────────────────────────────────┘\n",
            " 0                  50                  100\n",
            "                          \u001b[34m██\u001b[0m Input\n",
            "                          \u001b[35m██\u001b[0m Target\n",
            "                          \u001b[32m██\u001b[0m Output\n"
          ]
        },
        {
          "output_type": "stream",
          "name": "stderr",
          "text": [
            "100%|██████████| 107/107 [00:02<00:00, 38.88it/s]\n",
            "100%|██████████| 638/638 [00:53<00:00, 11.85it/s]\n",
            "100%|██████████| 107/107 [00:02<00:00, 40.68it/s]\n",
            "100%|██████████| 638/638 [01:03<00:00, 10.05it/s]\n",
            "100%|██████████| 107/107 [00:02<00:00, 40.62it/s]\n",
            "100%|██████████| 638/638 [00:56<00:00, 11.23it/s]\n",
            "  2%|▏         | 2/107 [00:00<00:09, 10.54it/s]"
          ]
        },
        {
          "output_type": "stream",
          "name": "stdout",
          "text": [
            "           Epoch: 6, Test Loss: 0.0481 - Example 0\n",
            "┌────────────────────────────────────────────────────────────┐\n",
            "│\u001b[34m▄\u001b[0m\u001b[34m▚\u001b[0m\u001b[34m▄\u001b[0m\u001b[34m▄\u001b[0m\u001b[34m▄\u001b[0m\u001b[34m▄\u001b[0m\u001b[34m▖\u001b[0m                     \u001b[35m▄\u001b[0m\u001b[35m▀\u001b[0m\u001b[32m▄\u001b[0m\u001b[32m▀\u001b[0m\u001b[32m▀\u001b[0m\u001b[32m▀\u001b[0m\u001b[32m▀\u001b[0m\u001b[32m▚\u001b[0m\u001b[32m▖\u001b[0m                       │ \n",
            "││   \u001b[34m▘\u001b[0m \u001b[34m▚\u001b[0m                   \u001b[35m▗\u001b[0m\u001b[35m▞\u001b[0m\u001b[32m▗\u001b[0m\u001b[32m▀\u001b[0m   \u001b[35m▝\u001b[0m\u001b[35m▀\u001b[0m\u001b[35m▌\u001b[0m\u001b[32m▝\u001b[0m\u001b[32m▙\u001b[0m                    \u001b[32m▗\u001b[0m\u001b[32m▞\u001b[0m│ 1\n",
            "││      \u001b[34m▀\u001b[0m                 \u001b[35m▝\u001b[0m\u001b[35m▀\u001b[0m\u001b[32m▄\u001b[0m\u001b[32m▘\u001b[0m      \u001b[35m▝\u001b[0m\u001b[35m▚\u001b[0m\u001b[35m▖\u001b[0m\u001b[32m▀\u001b[0m\u001b[32m▖\u001b[0m                 \u001b[32m▐\u001b[0m\u001b[32m▘\u001b[0m\u001b[35m▖\u001b[0m│ \n",
            "││       \u001b[34m▘\u001b[0m\u001b[34m▖\u001b[0m               \u001b[35m▘\u001b[0m\u001b[32m▐\u001b[0m          \u001b[35m▀\u001b[0m\u001b[35m▀\u001b[0m\u001b[32m▀\u001b[0m\u001b[32m▖\u001b[0m               \u001b[32m▞\u001b[0m\u001b[32m▘\u001b[0m\u001b[35m▀\u001b[0m\u001b[35m▝\u001b[0m│ \n",
            "││       \u001b[34m▝\u001b[0m\u001b[34m▝\u001b[0m\u001b[34m▄\u001b[0m            \u001b[35m▗\u001b[0m\u001b[35m▞\u001b[0m\u001b[32m▞\u001b[0m\u001b[32m▘\u001b[0m            \u001b[35m▙\u001b[0m\u001b[32m▝\u001b[0m\u001b[32m▌\u001b[0m            \u001b[35m▗\u001b[0m\u001b[32m▞\u001b[0m    │ \n",
            "││          \u001b[34m▄\u001b[0m          \u001b[35m▗\u001b[0m\u001b[35m▘\u001b[0m\u001b[32m▐\u001b[0m               \u001b[35m▝\u001b[0m\u001b[32m▝\u001b[0m\u001b[32m▚\u001b[0m\u001b[32m▖\u001b[0m        \u001b[35m▄\u001b[0m\u001b[32m▗\u001b[0m\u001b[32m▀\u001b[0m     │ \n",
            "││           \u001b[34m▄\u001b[0m         \u001b[35m▝\u001b[0m\u001b[32m▞\u001b[0m\u001b[32m▘\u001b[0m                \u001b[35m▝\u001b[0m\u001b[35m▀\u001b[0m\u001b[32m▀\u001b[0m\u001b[32m▄\u001b[0m     \u001b[35m▄\u001b[0m\u001b[35m▞\u001b[0m\u001b[32m▄\u001b[0m\u001b[32m▀\u001b[0m      │ 0\n",
            "││           \u001b[34m▝\u001b[0m\u001b[34m▖\u001b[0m      \u001b[35m▗\u001b[0m\u001b[32m▗\u001b[0m\u001b[32m▞\u001b[0m                    \u001b[35m▀\u001b[0m\u001b[35m▄\u001b[0m\u001b[32m▀\u001b[0m\u001b[32m▄\u001b[0m\u001b[32m▄\u001b[0m\u001b[32m▄\u001b[0m\u001b[32m▄\u001b[0m\u001b[32m▄\u001b[0m\u001b[32m▀\u001b[0m        │ \n",
            "││            \u001b[34m▗\u001b[0m\u001b[34m▄\u001b[0m    \u001b[34m▗\u001b[0m\u001b[32m▟\u001b[0m\u001b[32m▘\u001b[0m                                      │ \n",
            "││             \u001b[34m▝\u001b[0m\u001b[34m▀\u001b[0m\u001b[34m▄\u001b[0m\u001b[34m▄\u001b[0m\u001b[34m▄\u001b[0m\u001b[34m▘\u001b[0m                                        │ \n",
            "└────────────────────────────────────────────────────────────┘\n",
            " 0                  50                  100\n",
            "                          \u001b[34m██\u001b[0m Input\n",
            "                          \u001b[35m██\u001b[0m Target\n",
            "                          \u001b[32m██\u001b[0m Output\n",
            "           Epoch: 6, Test Loss: 0.0766 - Example 1\n",
            "┌────────────────────────────────────────────────────────────┐\n",
            "││                 \u001b[34m▗\u001b[0m \u001b[32m▀\u001b[0m\u001b[32m▀\u001b[0m\u001b[32m▄\u001b[0m                         \u001b[32m▄\u001b[0m\u001b[32m▄\u001b[0m\u001b[32m▄\u001b[0m\u001b[32m▄\u001b[0m        │ \n",
            "││             \u001b[34m▗\u001b[0m\u001b[34m▀\u001b[0m\u001b[34m▀\u001b[0m\u001b[34m▀\u001b[0m\u001b[34m▀\u001b[0m\u001b[34m▀\u001b[0m\u001b[35m▚\u001b[0m\u001b[35m▄\u001b[0m \u001b[32m▀\u001b[0m\u001b[32m▄\u001b[0m                     \u001b[32m▄\u001b[0m\u001b[32m▀\u001b[0m    \u001b[32m▀\u001b[0m\u001b[32m▚\u001b[0m\u001b[32m▖\u001b[0m     │ \n",
            "││           \u001b[34m▗\u001b[0m\u001b[34m▄\u001b[0m\u001b[34m▞\u001b[0m       \u001b[35m▜\u001b[0m\u001b[35m▖\u001b[0m\u001b[32m▝\u001b[0m\u001b[32m▚\u001b[0m                  \u001b[32m▗\u001b[0m\u001b[32m▛\u001b[0m        \u001b[32m▝\u001b[0m\u001b[32m▚\u001b[0m    │ 1\n",
            "││           \u001b[34m▗\u001b[0m          \u001b[35m▝\u001b[0m\u001b[35m▚\u001b[0m\u001b[35m▄\u001b[0m\u001b[32m▜\u001b[0m                \u001b[32m▄\u001b[0m\u001b[32m▘\u001b[0m\u001b[35m▄\u001b[0m\u001b[35m▄\u001b[0m\u001b[35m▄\u001b[0m\u001b[35m▄\u001b[0m      \u001b[32m▝\u001b[0m\u001b[32m▚\u001b[0m\u001b[32m▖\u001b[0m  │ \n",
            "││          \u001b[34m▄\u001b[0m\u001b[34m▘\u001b[0m             \u001b[35m▚\u001b[0m\u001b[32m▀\u001b[0m\u001b[32m▄\u001b[0m             \u001b[32m▞\u001b[0m\u001b[32m▘\u001b[0m     \u001b[35m▀\u001b[0m\u001b[35m▀\u001b[0m\u001b[35m▜\u001b[0m\u001b[35m▄\u001b[0m\u001b[35m▄\u001b[0m   \u001b[32m▝\u001b[0m\u001b[32m▄\u001b[0m │ \n",
            "││         \u001b[34m▐\u001b[0m               \u001b[35m▝\u001b[0m\u001b[35m▀\u001b[0m\u001b[32m▝\u001b[0m\u001b[32m▄\u001b[0m          \u001b[35m▚\u001b[0m\u001b[32m▛\u001b[0m            \u001b[35m▀\u001b[0m\u001b[35m▚\u001b[0m   \u001b[32m▜\u001b[0m│ \n",
            "││        \u001b[34m▗\u001b[0m\u001b[34m▘\u001b[0m                 \u001b[35m▜\u001b[0m\u001b[35m▄\u001b[0m\u001b[32m▀\u001b[0m\u001b[32m▄\u001b[0m      \u001b[35m▗\u001b[0m\u001b[32m▄\u001b[0m\u001b[32m▀\u001b[0m              \u001b[35m▝\u001b[0m\u001b[35m▀\u001b[0m\u001b[35m▖\u001b[0m  │ 0\n",
            "│\u001b[34m▌\u001b[0m        \u001b[34m▘\u001b[0m                    \u001b[35m▀\u001b[0m\u001b[35m▄\u001b[0m\u001b[32m▀\u001b[0m\u001b[32m▄\u001b[0m\u001b[32m▄\u001b[0m\u001b[32m▄\u001b[0m\u001b[32m▄\u001b[0m\u001b[32m▄\u001b[0m\u001b[32m▀\u001b[0m\u001b[32m▘\u001b[0m                 \u001b[35m▐\u001b[0m\u001b[35m▖\u001b[0m │ \n",
            "│\u001b[34m▗\u001b[0m\u001b[34m▄\u001b[0m    \u001b[34m▗\u001b[0m\u001b[34m▀\u001b[0m\u001b[34m▞\u001b[0m                                                 \u001b[35m▝\u001b[0m\u001b[35m▚\u001b[0m│ \n",
            "││ \u001b[34m▀\u001b[0m\u001b[34m▄\u001b[0m\u001b[34m▄\u001b[0m\u001b[34m▄\u001b[0m\u001b[34m▌\u001b[0m                                                    \u001b[35m▝\u001b[0m│ \n",
            "└────────────────────────────────────────────────────────────┘\n",
            " 0                  50                  100\n",
            "                          \u001b[34m██\u001b[0m Input\n",
            "                          \u001b[35m██\u001b[0m Target\n",
            "                          \u001b[32m██\u001b[0m Output\n",
            "           Epoch: 6, Test Loss: 0.0791 - Example 2\n"
          ]
        },
        {
          "output_type": "stream",
          "name": "stderr",
          "text": [
            "  8%|▊         | 9/107 [00:00<00:03, 25.61it/s]"
          ]
        },
        {
          "output_type": "stream",
          "name": "stdout",
          "text": [
            "┌────────────────────────────────────────────────────────────┐\n",
            "││ \u001b[34m▞\u001b[0m\u001b[34m▀\u001b[0m\u001b[34m▀\u001b[0m\u001b[34m▀\u001b[0m\u001b[34m▀\u001b[0m\u001b[34m▚\u001b[0m\u001b[34m▄\u001b[0m                        \u001b[32m▄\u001b[0m\u001b[32m▞\u001b[0m\u001b[32m▀\u001b[0m\u001b[32m▀\u001b[0m\u001b[32m▀\u001b[0m\u001b[32m▀\u001b[0m\u001b[32m▙\u001b[0m\u001b[32m▖\u001b[0m                   │ \n",
            "│\u001b[34m▄\u001b[0m\u001b[34m▞\u001b[0m       \u001b[34m▀\u001b[0m\u001b[34m▄\u001b[0m                     \u001b[32m▞\u001b[0m\u001b[32m▘\u001b[0m      \u001b[32m▝\u001b[0m\u001b[32m▙\u001b[0m                  │ 1\n",
            "││         \u001b[34m▝\u001b[0m\u001b[34m▚\u001b[0m\u001b[34m▄\u001b[0m                 \u001b[32m▗\u001b[0m\u001b[32m▛\u001b[0m\u001b[35m▄\u001b[0m\u001b[35m▄\u001b[0m\u001b[35m▄\u001b[0m\u001b[35m▄\u001b[0m      \u001b[32m▀\u001b[0m\u001b[32m▖\u001b[0m               \u001b[35m▐\u001b[0m│ \n",
            "││            \u001b[34m▄\u001b[0m               \u001b[32m▄\u001b[0m\u001b[32m▘\u001b[0m\u001b[35m▘\u001b[0m    \u001b[35m▀\u001b[0m\u001b[35m▀\u001b[0m\u001b[35m▀\u001b[0m\u001b[35m▄\u001b[0m\u001b[35m▄\u001b[0m\u001b[35m▖\u001b[0m \u001b[32m▝\u001b[0m\u001b[32m▄\u001b[0m             \u001b[35m▗\u001b[0m\u001b[32m▟\u001b[0m│ \n",
            "││             \u001b[34m▀\u001b[0m\u001b[34m▖\u001b[0m           \u001b[35m▚\u001b[0m\u001b[32m▟\u001b[0m            \u001b[35m▀\u001b[0m\u001b[35m▚\u001b[0m  \u001b[32m▚\u001b[0m\u001b[32m▖\u001b[0m          \u001b[32m▗\u001b[0m\u001b[32m▀\u001b[0m │ \n",
            "││              \u001b[34m▝\u001b[0m\u001b[34m▜\u001b[0m        \u001b[35m▗\u001b[0m\u001b[32m▗\u001b[0m\u001b[32m▞\u001b[0m               \u001b[35m▀\u001b[0m\u001b[35m▖\u001b[0m \u001b[32m▝\u001b[0m\u001b[32m▙\u001b[0m\u001b[32m▖\u001b[0m      \u001b[32m▗\u001b[0m\u001b[32m▄\u001b[0m\u001b[32m▀\u001b[0m  │ \n",
            "││                \u001b[34m▀\u001b[0m\u001b[34m▄\u001b[0m\u001b[34m▄\u001b[0m\u001b[35m▄\u001b[0m\u001b[35m▄\u001b[0m\u001b[35m▄\u001b[0m\u001b[35m▄\u001b[0m\u001b[35m▀\u001b[0m\u001b[32m▄\u001b[0m\u001b[32m▀\u001b[0m                 \u001b[35m▝\u001b[0m\u001b[35m▄\u001b[0m  \u001b[32m▝\u001b[0m\u001b[32m▚\u001b[0m\u001b[32m▄\u001b[0m\u001b[32m▄\u001b[0m\u001b[32m▄\u001b[0m\u001b[32m▄\u001b[0m\u001b[32m▞\u001b[0m\u001b[32m▀\u001b[0m\u001b[35m▀\u001b[0m   │ \n",
            "││                   \u001b[32m▚\u001b[0m\u001b[32m▄\u001b[0m\u001b[32m▄\u001b[0m\u001b[32m▄\u001b[0m\u001b[32m▀\u001b[0m                     \u001b[35m▚\u001b[0m       \u001b[35m▗\u001b[0m\u001b[35m▞\u001b[0m    │ \n",
            "││▁▁▁▁▁▁▁▁▁▁▁▁▁▁▁▁▁▁▁▁▁▁▁▁▁▁▁▁▁▁▁▁▁▁▁▁▁▁▁▁▁▁▁▁▁▁\u001b[35m▚\u001b[0m▁▁▁▁▁\u001b[35m▗\u001b[0m\u001b[35m▘\u001b[0m▁▁▁▁▁│ 0\n",
            "││                                               \u001b[35m▚\u001b[0m\u001b[35m▄\u001b[0m\u001b[35m▄\u001b[0m\u001b[35m▄\u001b[0m\u001b[35m▀\u001b[0m\u001b[35m▘\u001b[0m      │ \n",
            "└────────────────────────────────────────────────────────────┘\n",
            " 0                  50                  100\n",
            "                          \u001b[34m██\u001b[0m Input\n",
            "                          \u001b[35m██\u001b[0m Target\n",
            "                          \u001b[32m██\u001b[0m Output\n"
          ]
        },
        {
          "output_type": "stream",
          "name": "stderr",
          "text": [
            "100%|██████████| 107/107 [00:03<00:00, 29.09it/s]\n",
            "100%|██████████| 638/638 [00:54<00:00, 11.66it/s]\n",
            "100%|██████████| 107/107 [00:02<00:00, 41.17it/s]\n",
            "100%|██████████| 638/638 [00:58<00:00, 10.82it/s]\n",
            "100%|██████████| 107/107 [00:02<00:00, 40.72it/s]\n",
            "100%|██████████| 638/638 [00:54<00:00, 11.70it/s]\n",
            "  2%|▏         | 2/107 [00:00<00:08, 12.37it/s]"
          ]
        },
        {
          "output_type": "stream",
          "name": "stdout",
          "text": [
            "           Epoch: 9, Test Loss: 0.0516 - Example 0\n",
            "┌────────────────────────────────────────────────────────────┐\n",
            "│\u001b[34m▄\u001b[0m\u001b[34m▄\u001b[0m\u001b[34m▄\u001b[0m\u001b[34m▖\u001b[0m \u001b[34m▄\u001b[0m                      \u001b[35m▄\u001b[0m\u001b[32m▗\u001b[0m\u001b[32m▄\u001b[0m\u001b[32m▀\u001b[0m\u001b[32m▀\u001b[0m\u001b[32m▀\u001b[0m\u001b[32m▀\u001b[0m\u001b[32m▙\u001b[0m\u001b[32m▖\u001b[0m                      \u001b[32m▗\u001b[0m│ \n",
            "││ \u001b[34m▘\u001b[0m\u001b[34m▝\u001b[0m\u001b[34m▀\u001b[0m \u001b[34m▚\u001b[0m                   \u001b[35m▗\u001b[0m\u001b[35m▞\u001b[0m\u001b[32m▟\u001b[0m\u001b[32m▘\u001b[0m   \u001b[35m▀\u001b[0m\u001b[35m▀\u001b[0m\u001b[35m▌\u001b[0m\u001b[32m▝\u001b[0m\u001b[32m▌\u001b[0m                   \u001b[32m▗\u001b[0m\u001b[32m▞\u001b[0m\u001b[32m▘\u001b[0m│ 1\n",
            "││      \u001b[34m▀\u001b[0m                 \u001b[35m▝\u001b[0m\u001b[35m▀\u001b[0m\u001b[32m▞\u001b[0m       \u001b[35m▝\u001b[0m\u001b[35m▚\u001b[0m\u001b[32m▝\u001b[0m\u001b[32m▚\u001b[0m                 \u001b[32m▗\u001b[0m\u001b[32m▀\u001b[0m  │ \n",
            "││       \u001b[34m▘\u001b[0m\u001b[34m▖\u001b[0m               \u001b[35m▘\u001b[0m\u001b[32m▞\u001b[0m          \u001b[35m▀\u001b[0m\u001b[35m▀\u001b[0m\u001b[32m▚\u001b[0m\u001b[32m▖\u001b[0m              \u001b[32m▐\u001b[0m\u001b[32m▘\u001b[0m\u001b[35m▀\u001b[0m\u001b[35m▀\u001b[0m\u001b[35m▀\u001b[0m│ \n",
            "││       \u001b[34m▝\u001b[0m\u001b[34m▝\u001b[0m\u001b[34m▄\u001b[0m            \u001b[35m▗\u001b[0m\u001b[32m▗\u001b[0m\u001b[32m▞\u001b[0m             \u001b[35m▙\u001b[0m\u001b[32m▝\u001b[0m\u001b[32m▖\u001b[0m            \u001b[32m▞\u001b[0m\u001b[32m▘\u001b[0m\u001b[35m▘\u001b[0m   │ \n",
            "││          \u001b[34m▄\u001b[0m          \u001b[35m▗\u001b[0m\u001b[35m▘\u001b[0m\u001b[32m▞\u001b[0m               \u001b[35m▝\u001b[0m\u001b[32m▝\u001b[0m\u001b[32m▄\u001b[0m         \u001b[35m▄\u001b[0m\u001b[32m▞\u001b[0m\u001b[35m▘\u001b[0m     │ \n",
            "││           \u001b[34m▄\u001b[0m         \u001b[32m▗\u001b[0m\u001b[32m▀\u001b[0m                 \u001b[35m▝\u001b[0m\u001b[35m▀\u001b[0m\u001b[32m▚\u001b[0m\u001b[32m▄\u001b[0m     \u001b[35m▄\u001b[0m\u001b[32m▗\u001b[0m\u001b[32m▀\u001b[0m       │ 0\n",
            "││           \u001b[34m▝\u001b[0m\u001b[34m▖\u001b[0m      \u001b[35m▗\u001b[0m\u001b[32m▄\u001b[0m\u001b[32m▀\u001b[0m                    \u001b[35m▀\u001b[0m\u001b[35m▄\u001b[0m\u001b[32m▀\u001b[0m\u001b[32m▄\u001b[0m\u001b[32m▄\u001b[0m\u001b[32m▄\u001b[0m\u001b[32m▄\u001b[0m\u001b[32m▀\u001b[0m\u001b[32m▘\u001b[0m        │ \n",
            "││            \u001b[34m▗\u001b[0m\u001b[34m▄\u001b[0m    \u001b[34m▗\u001b[0m\u001b[32m▞\u001b[0m\u001b[35m▀\u001b[0m                                      │ \n",
            "││             \u001b[34m▝\u001b[0m\u001b[34m▀\u001b[0m\u001b[34m▄\u001b[0m\u001b[34m▄\u001b[0m\u001b[34m▄\u001b[0m\u001b[34m▘\u001b[0m                                        │ \n",
            "└────────────────────────────────────────────────────────────┘\n",
            " 0                  50                  100\n",
            "                          \u001b[34m██\u001b[0m Input\n",
            "                          \u001b[35m██\u001b[0m Target\n",
            "                          \u001b[32m██\u001b[0m Output\n",
            "           Epoch: 9, Test Loss: 0.0776 - Example 1\n",
            "┌────────────────────────────────────────────────────────────┐\n",
            "││                 \u001b[34m▗\u001b[0m \u001b[32m▀\u001b[0m\u001b[32m▚\u001b[0m\u001b[32m▄\u001b[0m                        \u001b[32m▄\u001b[0m\u001b[32m▄\u001b[0m\u001b[32m▀\u001b[0m\u001b[32m▚\u001b[0m\u001b[32m▄\u001b[0m\u001b[32m▖\u001b[0m       │ \n",
            "││             \u001b[34m▗\u001b[0m\u001b[34m▀\u001b[0m\u001b[34m▀\u001b[0m\u001b[34m▀\u001b[0m\u001b[34m▀\u001b[0m\u001b[34m▀\u001b[0m\u001b[35m▚\u001b[0m\u001b[35m▄\u001b[0m\u001b[35m▖\u001b[0m\u001b[32m▀\u001b[0m\u001b[32m▄\u001b[0m                    \u001b[32m▄\u001b[0m\u001b[32m▀\u001b[0m\u001b[32m▘\u001b[0m    \u001b[32m▝\u001b[0m\u001b[32m▚\u001b[0m      │ \n",
            "││           \u001b[34m▗\u001b[0m\u001b[34m▄\u001b[0m\u001b[34m▀\u001b[0m       \u001b[35m▐\u001b[0m\u001b[35m▖\u001b[0m\u001b[32m▝\u001b[0m\u001b[32m▄\u001b[0m                 \u001b[32m▗\u001b[0m\u001b[32m▞\u001b[0m\u001b[32m▘\u001b[0m        \u001b[32m▀\u001b[0m\u001b[32m▄\u001b[0m    │ 1\n",
            "││           \u001b[34m▗\u001b[0m          \u001b[35m▝\u001b[0m\u001b[35m▚\u001b[0m\u001b[35m▄\u001b[0m\u001b[32m▜\u001b[0m               \u001b[32m▗\u001b[0m\u001b[32m▌\u001b[0m\u001b[35m▄\u001b[0m\u001b[35m▄\u001b[0m\u001b[35m▚\u001b[0m\u001b[35m▄\u001b[0m\u001b[35m▄\u001b[0m\u001b[35m▖\u001b[0m     \u001b[32m▝\u001b[0m\u001b[32m▚\u001b[0m   │ \n",
            "││          \u001b[34m▄\u001b[0m\u001b[34m▘\u001b[0m             \u001b[35m▚\u001b[0m\u001b[32m▀\u001b[0m\u001b[32m▄\u001b[0m            \u001b[32m▄\u001b[0m\u001b[32m▘\u001b[0m\u001b[35m▛\u001b[0m     \u001b[35m▀\u001b[0m\u001b[35m▀\u001b[0m\u001b[35m▜\u001b[0m\u001b[35m▄\u001b[0m\u001b[35m▄\u001b[0m   \u001b[32m▜\u001b[0m\u001b[32m▖\u001b[0m │ \n",
            "││         \u001b[34m▐\u001b[0m               \u001b[35m▝\u001b[0m\u001b[35m▀\u001b[0m\u001b[32m▝\u001b[0m\u001b[32m▄\u001b[0m          \u001b[32m▄\u001b[0m\u001b[32m▘\u001b[0m            \u001b[35m▀\u001b[0m\u001b[35m▚\u001b[0m  \u001b[32m▝\u001b[0m\u001b[32m▚\u001b[0m│ \n",
            "││        \u001b[34m▗\u001b[0m\u001b[34m▘\u001b[0m                 \u001b[35m▐\u001b[0m\u001b[35m▄\u001b[0m\u001b[32m▀\u001b[0m\u001b[32m▄\u001b[0m      \u001b[32m▗\u001b[0m\u001b[32m▛\u001b[0m               \u001b[35m▝\u001b[0m\u001b[35m▀\u001b[0m\u001b[35m▖\u001b[0m  │ 0\n",
            "│\u001b[34m▌\u001b[0m        \u001b[34m▘\u001b[0m                    \u001b[35m▀\u001b[0m\u001b[35m▄\u001b[0m\u001b[32m▀\u001b[0m\u001b[32m▚\u001b[0m\u001b[32m▄\u001b[0m\u001b[32m▄\u001b[0m\u001b[32m▄\u001b[0m\u001b[32m▀\u001b[0m\u001b[32m▘\u001b[0m                  \u001b[35m▐\u001b[0m\u001b[35m▖\u001b[0m │ \n",
            "│\u001b[34m▗\u001b[0m\u001b[34m▄\u001b[0m    \u001b[34m▗\u001b[0m\u001b[34m▀\u001b[0m\u001b[34m▞\u001b[0m                                                 \u001b[35m▝\u001b[0m\u001b[35m▚\u001b[0m│ \n",
            "││ \u001b[34m▀\u001b[0m\u001b[34m▄\u001b[0m\u001b[34m▄\u001b[0m\u001b[34m▄\u001b[0m\u001b[34m▌\u001b[0m                                                    \u001b[35m▝\u001b[0m│ \n",
            "└────────────────────────────────────────────────────────────┘\n",
            " 0                  50                  100\n",
            "                          \u001b[34m██\u001b[0m Input\n",
            "                          \u001b[35m██\u001b[0m Target\n",
            "                          \u001b[32m██\u001b[0m Output\n",
            "           Epoch: 9, Test Loss: 0.0808 - Example 2\n",
            "┌────────────────────────────────────────────────────────────┐\n",
            "││ \u001b[34m▄\u001b[0m\u001b[34m▞\u001b[0m\u001b[34m▀\u001b[0m\u001b[34m▀\u001b[0m\u001b[34m▚\u001b[0m\u001b[34m▄\u001b[0m                         \u001b[32m▄\u001b[0m\u001b[32m▀\u001b[0m\u001b[32m▀\u001b[0m\u001b[32m▀\u001b[0m\u001b[32m▀\u001b[0m\u001b[32m▀\u001b[0m\u001b[32m▄\u001b[0m                    │ \n",
            "│\u001b[34m▄\u001b[0m\u001b[34m▞\u001b[0m\u001b[34m▘\u001b[0m     \u001b[34m▀\u001b[0m\u001b[34m▀\u001b[0m\u001b[34m▖\u001b[0m                    \u001b[32m▄\u001b[0m\u001b[32m▀\u001b[0m       \u001b[32m▀\u001b[0m\u001b[32m▖\u001b[0m                  │ 1\n",
            "│\u001b[34m▘\u001b[0m         \u001b[34m▝\u001b[0m\u001b[34m▄\u001b[0m\u001b[34m▄\u001b[0m                 \u001b[32m▄\u001b[0m\u001b[32m▘\u001b[0m\u001b[35m▖\u001b[0m\u001b[35m▄\u001b[0m\u001b[35m▄\u001b[0m\u001b[35m▖\u001b[0m     \u001b[32m▝\u001b[0m\u001b[32m▚\u001b[0m\u001b[32m▖\u001b[0m               \u001b[32m▗\u001b[0m│ \n",
            "││           \u001b[34m▝\u001b[0m\u001b[34m▖\u001b[0m              \u001b[32m▗\u001b[0m\u001b[32m▞\u001b[0m\u001b[35m▄\u001b[0m\u001b[35m▘\u001b[0m\u001b[35m▝\u001b[0m  \u001b[35m▀\u001b[0m\u001b[35m▀\u001b[0m\u001b[35m▀\u001b[0m\u001b[35m▀\u001b[0m\u001b[35m▄\u001b[0m\u001b[35m▄\u001b[0m  \u001b[32m▚\u001b[0m\u001b[32m▖\u001b[0m             \u001b[32m▄\u001b[0m\u001b[32m▘\u001b[0m│ \n",
            "││            \u001b[34m▝\u001b[0m\u001b[34m▀\u001b[0m            \u001b[32m▗\u001b[0m\u001b[32m▞\u001b[0m            \u001b[35m▀\u001b[0m\u001b[35m▚\u001b[0m \u001b[32m▝\u001b[0m\u001b[32m▙\u001b[0m          \u001b[32m▗\u001b[0m\u001b[32m▞\u001b[0m\u001b[35m▘\u001b[0m │ \n",
            "││              \u001b[34m▀\u001b[0m\u001b[34m▄\u001b[0m        \u001b[35m▗\u001b[0m\u001b[32m▗\u001b[0m\u001b[32m▘\u001b[0m               \u001b[35m▚\u001b[0m  \u001b[32m▀\u001b[0m\u001b[32m▄\u001b[0m       \u001b[32m▄\u001b[0m\u001b[32m▘\u001b[0m\u001b[35m▞\u001b[0m  │ \n",
            "││                \u001b[34m▀\u001b[0m\u001b[34m▄\u001b[0m\u001b[34m▄\u001b[0m\u001b[35m▄\u001b[0m\u001b[35m▄\u001b[0m\u001b[35m▄\u001b[0m\u001b[35m▄\u001b[0m\u001b[32m▗\u001b[0m\u001b[32m▞\u001b[0m\u001b[32m▘\u001b[0m                 \u001b[35m▀\u001b[0m\u001b[35m▖\u001b[0m  \u001b[32m▀\u001b[0m\u001b[32m▙\u001b[0m\u001b[32m▄\u001b[0m\u001b[32m▄\u001b[0m\u001b[32m▄\u001b[0m\u001b[32m▟\u001b[0m\u001b[32m▀\u001b[0m\u001b[35m▗\u001b[0m\u001b[35m▀\u001b[0m   │ "
          ]
        },
        {
          "output_type": "stream",
          "name": "stderr",
          "text": [
            "  7%|▋         | 7/107 [00:00<00:05, 19.89it/s]"
          ]
        },
        {
          "output_type": "stream",
          "name": "stdout",
          "text": [
            "\n",
            "││                   \u001b[32m▀\u001b[0m\u001b[32m▄\u001b[0m\u001b[32m▟\u001b[0m\u001b[32m▀\u001b[0m\u001b[32m▀\u001b[0m                    \u001b[35m▝\u001b[0m\u001b[35m▚\u001b[0m        \u001b[35m▞\u001b[0m    │ \n",
            "││▁▁▁▁▁▁▁▁▁▁▁▁▁▁▁▁▁▁▁▁▁▁▁▁▁▁▁▁▁▁▁▁▁▁▁▁▁▁▁▁▁▁▁▁▁▁\u001b[35m▚\u001b[0m▁▁▁▁▁\u001b[35m▗\u001b[0m\u001b[35m▀\u001b[0m▁▁▁▁▁│ 0\n",
            "││                                               \u001b[35m▚\u001b[0m\u001b[35m▄\u001b[0m\u001b[35m▄\u001b[0m\u001b[35m▄\u001b[0m\u001b[35m▀\u001b[0m\u001b[35m▘\u001b[0m      │ \n",
            "└────────────────────────────────────────────────────────────┘\n",
            " 0                  50                  100\n",
            "                          \u001b[34m██\u001b[0m Input\n",
            "                          \u001b[35m██\u001b[0m Target\n",
            "                          \u001b[32m██\u001b[0m Output\n"
          ]
        },
        {
          "output_type": "stream",
          "name": "stderr",
          "text": [
            "100%|██████████| 107/107 [00:03<00:00, 33.98it/s]\n",
            "100%|██████████| 638/638 [00:52<00:00, 12.07it/s]\n",
            "100%|██████████| 107/107 [00:02<00:00, 39.55it/s]\n",
            "100%|██████████| 638/638 [00:53<00:00, 12.00it/s]\n",
            "100%|██████████| 107/107 [00:02<00:00, 41.40it/s]\n",
            "100%|██████████| 638/638 [01:01<00:00, 10.31it/s]\n",
            "  5%|▍         | 5/107 [00:00<00:04, 23.29it/s]"
          ]
        },
        {
          "output_type": "stream",
          "name": "stdout",
          "text": [
            "           Epoch: 12, Test Loss: 0.0481 - Example 0\n",
            "┌────────────────────────────────────────────────────────────┐\n",
            "│\u001b[34m▄\u001b[0m\u001b[34m▄\u001b[0m\u001b[34m▗\u001b[0m\u001b[34m▖\u001b[0m \u001b[34m▗\u001b[0m                      \u001b[35m▄\u001b[0m\u001b[32m▄\u001b[0m\u001b[32m▞\u001b[0m\u001b[32m▀\u001b[0m\u001b[32m▀\u001b[0m\u001b[32m▀\u001b[0m\u001b[32m▀\u001b[0m\u001b[32m▖\u001b[0m                      \u001b[32m▗\u001b[0m\u001b[32m▞\u001b[0m│ \n",
            "││ \u001b[34m▘\u001b[0m\u001b[34m▝\u001b[0m\u001b[34m▀\u001b[0m\u001b[34m▘\u001b[0m\u001b[34m▚\u001b[0m                    \u001b[35m▞\u001b[0m\u001b[32m▞\u001b[0m    \u001b[35m▀\u001b[0m\u001b[35m▀\u001b[0m\u001b[32m▝\u001b[0m\u001b[32m▚\u001b[0m\u001b[32m▖\u001b[0m                   \u001b[32m▟\u001b[0m\u001b[32m▘\u001b[0m │ \n",
            "││      \u001b[34m▚\u001b[0m                 \u001b[35m▝\u001b[0m\u001b[32m▗\u001b[0m\u001b[32m▀\u001b[0m       \u001b[35m▝\u001b[0m\u001b[35m▚\u001b[0m\u001b[32m▀\u001b[0m\u001b[32m▖\u001b[0m                 \u001b[32m▞\u001b[0m   │ 1\n",
            "││       \u001b[34m▌\u001b[0m\u001b[34m▖\u001b[0m               \u001b[32m▗\u001b[0m\u001b[32m▀\u001b[0m          \u001b[35m▀\u001b[0m\u001b[32m▝\u001b[0m\u001b[32m▌\u001b[0m               \u001b[32m▞\u001b[0m\u001b[35m▗\u001b[0m\u001b[35m▀\u001b[0m\u001b[35m▞\u001b[0m\u001b[35m▀\u001b[0m│ \n",
            "││       \u001b[34m▝\u001b[0m\u001b[34m▝\u001b[0m\u001b[34m▄\u001b[0m            \u001b[35m▗\u001b[0m\u001b[32m▗\u001b[0m\u001b[32m▘\u001b[0m             \u001b[32m▝\u001b[0m\u001b[32m▚\u001b[0m            \u001b[32m▗\u001b[0m\u001b[32m▞\u001b[0m\u001b[35m▀\u001b[0m\u001b[35m▘\u001b[0m   │ \n",
            "││          \u001b[34m▄\u001b[0m          \u001b[35m▗\u001b[0m\u001b[32m▗\u001b[0m\u001b[32m▞\u001b[0m               \u001b[35m▝\u001b[0m\u001b[32m▚\u001b[0m          \u001b[35m▄\u001b[0m\u001b[32m▞\u001b[0m\u001b[35m▘\u001b[0m     │ \n",
            "││           \u001b[34m▄\u001b[0m         \u001b[32m▗\u001b[0m\u001b[32m▘\u001b[0m                 \u001b[35m▝\u001b[0m\u001b[32m▀\u001b[0m\u001b[32m▖\u001b[0m      \u001b[35m▄\u001b[0m\u001b[32m▗\u001b[0m\u001b[32m▀\u001b[0m       │ 0\n",
            "││           \u001b[34m▝\u001b[0m\u001b[34m▖\u001b[0m      \u001b[35m▗\u001b[0m\u001b[32m▄\u001b[0m\u001b[32m▘\u001b[0m                    \u001b[32m▝\u001b[0m\u001b[32m▚\u001b[0m\u001b[32m▄\u001b[0m\u001b[35m▄\u001b[0m\u001b[35m▄\u001b[0m\u001b[35m▄\u001b[0m\u001b[32m▗\u001b[0m\u001b[32m▄\u001b[0m\u001b[32m▀\u001b[0m        │ \n",
            "││            \u001b[34m▗\u001b[0m\u001b[34m▄\u001b[0m    \u001b[34m▗\u001b[0m\u001b[32m▀\u001b[0m\u001b[35m▀\u001b[0m                        \u001b[32m▀\u001b[0m\u001b[32m▀\u001b[0m\u001b[32m▀\u001b[0m\u001b[32m▘\u001b[0m          │ \n",
            "││             \u001b[34m▝\u001b[0m\u001b[34m▀\u001b[0m\u001b[34m▄\u001b[0m\u001b[34m▄\u001b[0m\u001b[34m▄\u001b[0m\u001b[34m▘\u001b[0m                                        │ \n",
            "└────────────────────────────────────────────────────────────┘\n",
            " 0                  50                  100\n",
            "                          \u001b[34m██\u001b[0m Input\n",
            "                          \u001b[35m██\u001b[0m Target\n",
            "                          \u001b[32m██\u001b[0m Output\n",
            "           Epoch: 12, Test Loss: 0.0658 - Example 1\n",
            "┌────────────────────────────────────────────────────────────┐\n",
            "││               \u001b[34m▗\u001b[0m\u001b[34m▄\u001b[0m\u001b[34m▄\u001b[0m\u001b[34m▖\u001b[0m\u001b[32m▀\u001b[0m\u001b[32m▄\u001b[0m\u001b[32m▖\u001b[0m                       \u001b[32m▄\u001b[0m\u001b[32m▛\u001b[0m\u001b[32m▀\u001b[0m\u001b[32m▀\u001b[0m\u001b[32m▀\u001b[0m\u001b[32m▚\u001b[0m        │ \n",
            "││             \u001b[34m▗\u001b[0m\u001b[34m▀\u001b[0m\u001b[34m▘\u001b[0m  \u001b[34m▝\u001b[0m\u001b[35m▜\u001b[0m\u001b[35m▄\u001b[0m\u001b[32m▝\u001b[0m\u001b[32m▄\u001b[0m                    \u001b[32m▗\u001b[0m\u001b[32m▛\u001b[0m      \u001b[32m▀\u001b[0m\u001b[32m▄\u001b[0m      │ \n",
            "││           \u001b[34m▗\u001b[0m\u001b[34m▞\u001b[0m\u001b[34m▀\u001b[0m       \u001b[35m▝\u001b[0m\u001b[35m▖\u001b[0m\u001b[32m▜\u001b[0m                  \u001b[32m▞\u001b[0m\u001b[32m▘\u001b[0m        \u001b[32m▝\u001b[0m\u001b[32m▚\u001b[0m     │ 1\n",
            "││           \u001b[34m▗\u001b[0m          \u001b[35m▝\u001b[0m\u001b[35m▜\u001b[0m\u001b[32m▀\u001b[0m\u001b[32m▖\u001b[0m               \u001b[32m▄\u001b[0m\u001b[32m▘\u001b[0m\u001b[35m▄\u001b[0m\u001b[35m▄\u001b[0m\u001b[35m▀\u001b[0m\u001b[35m▄\u001b[0m\u001b[35m▄\u001b[0m\u001b[35m▖\u001b[0m     \u001b[32m▜\u001b[0m    │ \n",
            "││         \u001b[34m▗\u001b[0m\u001b[34m▄\u001b[0m\u001b[34m▘\u001b[0m             \u001b[32m▝\u001b[0m\u001b[32m▖\u001b[0m             \u001b[32m▞\u001b[0m\u001b[35m▀\u001b[0m\u001b[35m▀\u001b[0m     \u001b[35m▝\u001b[0m\u001b[35m▀\u001b[0m\u001b[35m▀\u001b[0m\u001b[35m▄\u001b[0m\u001b[35m▄\u001b[0m\u001b[35m▄\u001b[0m \u001b[32m▀\u001b[0m\u001b[32m▖\u001b[0m  │ \n",
            "││         \u001b[34m▄\u001b[0m                \u001b[32m▝\u001b[0m\u001b[32m▚\u001b[0m          \u001b[35m▗\u001b[0m\u001b[32m▞\u001b[0m\u001b[32m▘\u001b[0m             \u001b[35m▚\u001b[0m \u001b[32m▝\u001b[0m\u001b[32m▖\u001b[0m │ \n",
            "││        \u001b[34m▗\u001b[0m                  \u001b[35m▝\u001b[0m\u001b[32m▀\u001b[0m\u001b[32m▄\u001b[0m       \u001b[35m▄\u001b[0m\u001b[32m▛\u001b[0m               \u001b[35m▝\u001b[0m\u001b[35m▀\u001b[0m\u001b[35m▖\u001b[0m\u001b[32m▝\u001b[0m\u001b[32m▚\u001b[0m│ 0\n",
            "│\u001b[34m▌\u001b[0m        \u001b[34m▘\u001b[0m                    \u001b[35m▀\u001b[0m\u001b[32m▚\u001b[0m\u001b[32m▄\u001b[0m\u001b[35m▄\u001b[0m\u001b[35m▄\u001b[0m\u001b[35m▄\u001b[0m\u001b[35m▄\u001b[0m\u001b[32m▄\u001b[0m\u001b[32m▀\u001b[0m                  \u001b[35m▐\u001b[0m\u001b[35m▄\u001b[0m │ \n",
            "│\u001b[34m▗\u001b[0m\u001b[34m▄\u001b[0m    \u001b[34m▗\u001b[0m\u001b[34m▀\u001b[0m\u001b[34m▞\u001b[0m                        \u001b[32m▀\u001b[0m\u001b[32m▀\u001b[0m\u001b[32m▀\u001b[0m\u001b[32m▀\u001b[0m                      \u001b[35m▚\u001b[0m│ \n",
            "││ \u001b[34m▀\u001b[0m\u001b[34m▄\u001b[0m\u001b[34m▄\u001b[0m\u001b[34m▄\u001b[0m\u001b[34m▌\u001b[0m                                                    \u001b[35m▝\u001b[0m│ \n",
            "└────────────────────────────────────────────────────────────┘\n",
            " 0                  50                  100\n",
            "                          \u001b[34m██\u001b[0m Input\n",
            "                          \u001b[35m██\u001b[0m Target\n",
            "                          \u001b[32m██\u001b[0m Output\n",
            "           Epoch: 12, Test Loss: 0.0669 - Example 2\n",
            "┌────────────────────────────────────────────────────────────┐\n",
            "││ \u001b[34m▄\u001b[0m\u001b[34m▞\u001b[0m\u001b[34m▚\u001b[0m\u001b[34m▞\u001b[0m\u001b[34m▚\u001b[0m\u001b[34m▄\u001b[0m                        \u001b[32m▗\u001b[0m\u001b[32m▞\u001b[0m\u001b[32m▀\u001b[0m\u001b[32m▀\u001b[0m\u001b[32m▀\u001b[0m\u001b[32m▀\u001b[0m\u001b[32m▚\u001b[0m\u001b[32m▖\u001b[0m                    │ \n",
            "│\u001b[34m▄\u001b[0m\u001b[34m▄\u001b[0m\u001b[34m▘\u001b[0m     \u001b[34m▀\u001b[0m\u001b[34m▚\u001b[0m\u001b[34m▖\u001b[0m                    \u001b[32m▞\u001b[0m\u001b[32m▘\u001b[0m      \u001b[32m▀\u001b[0m\u001b[32m▄\u001b[0m                   │ 1\n",
            "│\u001b[34m▘\u001b[0m         \u001b[34m▐\u001b[0m\u001b[34m▄\u001b[0m                 \u001b[32m▗\u001b[0m\u001b[32m▀\u001b[0m\u001b[35m▄\u001b[0m\u001b[35m▖\u001b[0m\u001b[35m▄\u001b[0m\u001b[35m▄\u001b[0m\u001b[35m▖\u001b[0m     \u001b[32m▚\u001b[0m\u001b[32m▖\u001b[0m                \u001b[32m▞\u001b[0m│ \n",
            "││           \u001b[34m▀\u001b[0m\u001b[34m▖\u001b[0m              \u001b[32m▐\u001b[0m\u001b[32m▘\u001b[0m\u001b[35m▄\u001b[0m\u001b[35m▘\u001b[0m\u001b[35m▝\u001b[0m  \u001b[35m▀\u001b[0m\u001b[35m▀\u001b[0m\u001b[35m▀\u001b[0m\u001b[35m▚\u001b[0m\u001b[35m▄\u001b[0m\u001b[35m▄\u001b[0m \u001b[32m▝\u001b[0m\u001b[32m▖\u001b[0m             \u001b[32m▗\u001b[0m\u001b[32m▀\u001b[0m\u001b[35m▘\u001b[0m│ \n",
            "││            \u001b[34m▝\u001b[0m\u001b[34m▜\u001b[0m            \u001b[32m▄\u001b[0m\u001b[32m▘\u001b[0m            \u001b[35m▀\u001b[0m\u001b[35m▚\u001b[0m\u001b[32m▝\u001b[0m\u001b[32m▚\u001b[0m           \u001b[32m▗\u001b[0m\u001b[32m▀\u001b[0m\u001b[35m▀\u001b[0m │ \n",
            "││              \u001b[34m▀\u001b[0m\u001b[34m▄\u001b[0m        \u001b[35m▗\u001b[0m\u001b[32m▟\u001b[0m                \u001b[35m▚\u001b[0m \u001b[32m▚\u001b[0m\u001b[32m▖\u001b[0m        \u001b[32m▟\u001b[0m\u001b[32m▘\u001b[0m\u001b[35m▞\u001b[0m  │ \n",
            "││                \u001b[34m▀\u001b[0m\u001b[34m▄\u001b[0m\u001b[34m▄\u001b[0m\u001b[35m▄\u001b[0m\u001b[35m▄\u001b[0m\u001b[35m▄\u001b[0m\u001b[35m▄\u001b[0m\u001b[32m▗\u001b[0m\u001b[32m▀\u001b[0m                  \u001b[35m▀\u001b[0m\u001b[35m▖\u001b[0m\u001b[32m▝\u001b[0m\u001b[32m▚\u001b[0m\u001b[32m▄\u001b[0m    \u001b[32m▄\u001b[0m\u001b[32m▀\u001b[0m\u001b[35m▗\u001b[0m\u001b[35m▀\u001b[0m   │ \n",
            "││                   \u001b[32m▚\u001b[0m\u001b[32m▄\u001b[0m\u001b[32m▞\u001b[0m\u001b[32m▀\u001b[0m\u001b[32m▘\u001b[0m                    \u001b[35m▝\u001b[0m\u001b[35m▚\u001b[0m  \u001b[32m▀\u001b[0m\u001b[32m▀\u001b[0m\u001b[32m▀\u001b[0m\u001b[32m▀\u001b[0m  \u001b[35m▞\u001b[0m    │ \n",
            "││▁▁▁▁▁▁▁▁▁▁▁▁▁▁▁▁▁▁▁▁▁▁▁▁▁▁▁▁▁▁▁▁▁▁▁▁▁▁▁▁▁▁▁▁▁▁\u001b[35m▚\u001b[0m▁▁▁▁▁\u001b[35m▗\u001b[0m\u001b[35m▀\u001b[0m▁▁▁▁▁│ 0\n",
            "││                                               \u001b[35m▚\u001b[0m\u001b[35m▄\u001b[0m\u001b[35m▄\u001b[0m\u001b[35m▄\u001b[0m\u001b[35m▀\u001b[0m\u001b[35m▘\u001b[0m      │ \n",
            "└────────────────────────────────────────────────────────────┘\n",
            " 0                  50                  100\n",
            "                          \u001b[34m██\u001b[0m Input\n",
            "                          \u001b[35m██\u001b[0m Target\n",
            "                          \u001b[32m██\u001b[0m Output\n"
          ]
        },
        {
          "output_type": "stream",
          "name": "stderr",
          "text": [
            "100%|██████████| 107/107 [00:02<00:00, 39.05it/s]\n",
            "100%|██████████| 638/638 [00:53<00:00, 11.99it/s]\n",
            "100%|██████████| 107/107 [00:02<00:00, 36.18it/s]\n",
            "100%|██████████| 638/638 [00:55<00:00, 11.48it/s]\n",
            "100%|██████████| 107/107 [00:03<00:00, 34.56it/s]\n",
            "100%|██████████| 638/638 [00:53<00:00, 12.00it/s]\n",
            "  5%|▍         | 5/107 [00:00<00:04, 22.83it/s]"
          ]
        },
        {
          "output_type": "stream",
          "name": "stdout",
          "text": [
            "           Epoch: 15, Test Loss: 0.0382 - Example 0\n",
            "┌────────────────────────────────────────────────────────────┐\n",
            "│\u001b[34m▄\u001b[0m\u001b[34m▚\u001b[0m\u001b[34m▄\u001b[0m\u001b[34m▄\u001b[0m\u001b[34m▄\u001b[0m\u001b[34m▄\u001b[0m\u001b[34m▖\u001b[0m                     \u001b[35m▄\u001b[0m\u001b[32m▗\u001b[0m\u001b[32m▞\u001b[0m\u001b[32m▀\u001b[0m\u001b[32m▀\u001b[0m\u001b[32m▀\u001b[0m\u001b[32m▀\u001b[0m\u001b[32m▙\u001b[0m                       \u001b[32m▗\u001b[0m│ \n",
            "││     \u001b[34m▚\u001b[0m                   \u001b[35m▗\u001b[0m\u001b[35m▞\u001b[0m\u001b[32m▟\u001b[0m\u001b[32m▘\u001b[0m   \u001b[35m▝\u001b[0m\u001b[35m▀\u001b[0m\u001b[35m▙\u001b[0m\u001b[32m▀\u001b[0m\u001b[32m▖\u001b[0m                   \u001b[32m▗\u001b[0m\u001b[32m▞\u001b[0m\u001b[32m▘\u001b[0m│ 1\n",
            "││      \u001b[34m▀\u001b[0m                 \u001b[35m▝\u001b[0m\u001b[32m▗\u001b[0m\u001b[32m▞\u001b[0m        \u001b[35m▚\u001b[0m\u001b[32m▝\u001b[0m\u001b[32m▚\u001b[0m                 \u001b[32m▗\u001b[0m\u001b[32m▀\u001b[0m \u001b[35m▖\u001b[0m│ \n",
            "││       \u001b[34m▘\u001b[0m\u001b[34m▖\u001b[0m               \u001b[35m▘\u001b[0m\u001b[32m▞\u001b[0m          \u001b[35m▀\u001b[0m\u001b[35m▀\u001b[0m\u001b[32m▚\u001b[0m               \u001b[32m▐\u001b[0m\u001b[32m▘\u001b[0m\u001b[35m▀\u001b[0m\u001b[35m▀\u001b[0m\u001b[35m▝\u001b[0m│ \n",
            "││       \u001b[34m▝\u001b[0m\u001b[34m▝\u001b[0m\u001b[34m▄\u001b[0m            \u001b[35m▗\u001b[0m\u001b[32m▗\u001b[0m\u001b[32m▞\u001b[0m             \u001b[35m▙\u001b[0m\u001b[32m▀\u001b[0m\u001b[32m▖\u001b[0m            \u001b[32m▄\u001b[0m\u001b[32m▘\u001b[0m    │ \n",
            "││          \u001b[34m▚\u001b[0m          \u001b[35m▗\u001b[0m\u001b[35m▘\u001b[0m\u001b[32m▞\u001b[0m               \u001b[35m▝\u001b[0m\u001b[32m▀\u001b[0m\u001b[32m▄\u001b[0m         \u001b[35m▄\u001b[0m\u001b[32m▟\u001b[0m\u001b[35m▘\u001b[0m     │ 0\n",
            "││           \u001b[34m▄\u001b[0m         \u001b[32m▗\u001b[0m\u001b[32m▀\u001b[0m                 \u001b[35m▝\u001b[0m\u001b[35m▀\u001b[0m\u001b[32m▙\u001b[0m\u001b[32m▖\u001b[0m     \u001b[35m▄\u001b[0m\u001b[32m▗\u001b[0m\u001b[32m▞\u001b[0m       │ \n",
            "││           \u001b[34m▝\u001b[0m\u001b[34m▖\u001b[0m      \u001b[35m▗\u001b[0m\u001b[32m▗\u001b[0m\u001b[32m▀\u001b[0m                    \u001b[35m▀\u001b[0m\u001b[32m▝\u001b[0m\u001b[32m▚\u001b[0m\u001b[32m▄\u001b[0m\u001b[32m▖\u001b[0m\u001b[35m▄\u001b[0m\u001b[32m▄\u001b[0m\u001b[32m▞\u001b[0m\u001b[32m▀\u001b[0m        │ \n",
            "││            \u001b[34m▗\u001b[0m\u001b[34m▄\u001b[0m    \u001b[34m▗\u001b[0m\u001b[32m▞\u001b[0m\u001b[32m▘\u001b[0m                         \u001b[32m▝\u001b[0m\u001b[32m▀\u001b[0m           │ \n",
            "││             \u001b[34m▝\u001b[0m\u001b[34m▀\u001b[0m\u001b[34m▄\u001b[0m\u001b[34m▄\u001b[0m\u001b[34m▄\u001b[0m\u001b[34m▘\u001b[0m                                        │ \n",
            "└────────────────────────────────────────────────────────────┘\n",
            " 0                  50                  100\n",
            "                          \u001b[34m██\u001b[0m Input\n",
            "                          \u001b[35m██\u001b[0m Target\n",
            "                          \u001b[32m██\u001b[0m Output\n",
            "           Epoch: 15, Test Loss: 0.0593 - Example 1\n",
            "┌────────────────────────────────────────────────────────────┐\n",
            "││               \u001b[34m▗\u001b[0m\u001b[34m▖\u001b[0m\u001b[34m▗\u001b[0m\u001b[34m▖\u001b[0m\u001b[32m▜\u001b[0m\u001b[32m▄\u001b[0m\u001b[32m▖\u001b[0m                        \u001b[32m▗\u001b[0m\u001b[32m▄\u001b[0m\u001b[32m▄\u001b[0m\u001b[32m▄\u001b[0m\u001b[32m▖\u001b[0m        │ \n",
            "││             \u001b[34m▗\u001b[0m\u001b[34m▀\u001b[0m\u001b[34m▘\u001b[0m\u001b[34m▝\u001b[0m\u001b[34m▘\u001b[0m\u001b[34m▝\u001b[0m\u001b[35m▚\u001b[0m\u001b[35m▄\u001b[0m\u001b[32m▝\u001b[0m\u001b[32m▚\u001b[0m\u001b[32m▖\u001b[0m                    \u001b[32m▄\u001b[0m\u001b[32m▀\u001b[0m\u001b[32m▘\u001b[0m   \u001b[32m▝\u001b[0m\u001b[32m▚\u001b[0m\u001b[32m▖\u001b[0m      │ \n",
            "││           \u001b[34m▗\u001b[0m\u001b[34m▞\u001b[0m\u001b[34m▀\u001b[0m       \u001b[35m▝\u001b[0m\u001b[35m▖\u001b[0m\u001b[32m▐\u001b[0m\u001b[32m▖\u001b[0m                 \u001b[32m▗\u001b[0m\u001b[32m▞\u001b[0m\u001b[32m▘\u001b[0m       \u001b[32m▝\u001b[0m\u001b[32m▄\u001b[0m     │ 1\n",
            "││           \u001b[34m▗\u001b[0m          \u001b[35m▝\u001b[0m\u001b[35m▜\u001b[0m\u001b[32m▝\u001b[0m\u001b[32m▚\u001b[0m               \u001b[32m▗\u001b[0m\u001b[32m▌\u001b[0m\u001b[35m▄\u001b[0m\u001b[35m▄\u001b[0m\u001b[35m▀\u001b[0m\u001b[35m▄\u001b[0m\u001b[35m▄\u001b[0m\u001b[35m▖\u001b[0m     \u001b[32m▜\u001b[0m    │ \n",
            "││          \u001b[34m▄\u001b[0m\u001b[34m▘\u001b[0m             \u001b[32m▝\u001b[0m\u001b[32m▚\u001b[0m             \u001b[32m▄\u001b[0m\u001b[32m▘\u001b[0m\u001b[35m▀\u001b[0m     \u001b[35m▀\u001b[0m\u001b[35m▀\u001b[0m\u001b[35m▀\u001b[0m\u001b[35m▄\u001b[0m\u001b[35m▄\u001b[0m  \u001b[32m▀\u001b[0m\u001b[32m▄\u001b[0m  │ \n",
            "││         \u001b[34m▐\u001b[0m               \u001b[35m▝\u001b[0m\u001b[35m▀\u001b[0m\u001b[32m▜\u001b[0m\u001b[32m▖\u001b[0m          \u001b[32m▄\u001b[0m\u001b[32m▘\u001b[0m            \u001b[35m▀\u001b[0m\u001b[35m▚\u001b[0m \u001b[32m▝\u001b[0m\u001b[32m▚\u001b[0m │ \n",
            "││        \u001b[34m▗\u001b[0m\u001b[34m▘\u001b[0m                 \u001b[35m▝\u001b[0m\u001b[32m▝\u001b[0m\u001b[32m▚\u001b[0m\u001b[32m▖\u001b[0m      \u001b[35m▗\u001b[0m\u001b[32m▞\u001b[0m               \u001b[35m▝\u001b[0m\u001b[35m▀\u001b[0m\u001b[35m▖\u001b[0m \u001b[32m▀\u001b[0m│ 0\n",
            "│\u001b[34m▌\u001b[0m        \u001b[34m▘\u001b[0m                    \u001b[35m▀\u001b[0m\u001b[32m▀\u001b[0m\u001b[32m▚\u001b[0m\u001b[32m▄\u001b[0m\u001b[32m▖\u001b[0m\u001b[35m▄\u001b[0m\u001b[32m▄\u001b[0m\u001b[32m▞\u001b[0m\u001b[32m▀\u001b[0m                  \u001b[35m▐\u001b[0m\u001b[35m▖\u001b[0m │ \n",
            "│\u001b[34m▗\u001b[0m\u001b[34m▄\u001b[0m    \u001b[34m▗\u001b[0m\u001b[34m▀\u001b[0m\u001b[34m▞\u001b[0m                         \u001b[32m▝\u001b[0m\u001b[32m▀\u001b[0m                      \u001b[35m▝\u001b[0m\u001b[35m▚\u001b[0m│ \n",
            "││ \u001b[34m▀\u001b[0m\u001b[34m▄\u001b[0m\u001b[34m▄\u001b[0m\u001b[34m▄\u001b[0m\u001b[34m▌\u001b[0m                                                    \u001b[35m▝\u001b[0m│ \n",
            "└────────────────────────────────────────────────────────────┘\n",
            " 0                  50                  100\n",
            "                          \u001b[34m██\u001b[0m Input\n",
            "                          \u001b[35m██\u001b[0m Target\n",
            "                          \u001b[32m██\u001b[0m Output\n",
            "           Epoch: 15, Test Loss: 0.0631 - Example 2\n",
            "┌────────────────────────────────────────────────────────────┐\n",
            "││ \u001b[34m▞\u001b[0m\u001b[34m▀\u001b[0m\u001b[34m▀\u001b[0m\u001b[34m▀\u001b[0m\u001b[34m▀\u001b[0m\u001b[34m▚\u001b[0m\u001b[34m▄\u001b[0m                        \u001b[32m▄\u001b[0m\u001b[32m▀\u001b[0m\u001b[32m▀\u001b[0m\u001b[32m▀\u001b[0m\u001b[32m▀\u001b[0m\u001b[32m▄\u001b[0m\u001b[32m▖\u001b[0m                    │ \n",
            "│\u001b[34m▄\u001b[0m\u001b[34m▞\u001b[0m       \u001b[34m▀\u001b[0m\u001b[34m▄\u001b[0m                    \u001b[32m▄\u001b[0m\u001b[32m▀\u001b[0m      \u001b[32m▀\u001b[0m\u001b[32m▚\u001b[0m\u001b[32m▖\u001b[0m                  │ 1\n",
            "││         \u001b[34m▝\u001b[0m\u001b[34m▚\u001b[0m\u001b[34m▄\u001b[0m                \u001b[32m▗\u001b[0m\u001b[32m▞\u001b[0m\u001b[32m▘\u001b[0m\u001b[35m▄\u001b[0m\u001b[35m▄\u001b[0m\u001b[35m▄\u001b[0m\u001b[35m▄\u001b[0m     \u001b[32m▀\u001b[0m\u001b[32m▖\u001b[0m                \u001b[32m▗\u001b[0m│ \n",
            "││            \u001b[34m▚\u001b[0m              \u001b[32m▗\u001b[0m\u001b[32m▘\u001b[0m\u001b[35m▞\u001b[0m\u001b[35m▘\u001b[0m    \u001b[35m▀\u001b[0m\u001b[35m▀\u001b[0m\u001b[35m▀\u001b[0m\u001b[35m▄\u001b[0m\u001b[35m▄\u001b[0m\u001b[35m▖\u001b[0m\u001b[32m▝\u001b[0m\u001b[32m▙\u001b[0m              \u001b[32m▞\u001b[0m\u001b[32m▘\u001b[0m│ \n",
            "││             \u001b[34m▀\u001b[0m\u001b[34m▖\u001b[0m           \u001b[32m▄\u001b[0m\u001b[32m▘\u001b[0m            \u001b[35m▀\u001b[0m\u001b[35m▚\u001b[0m \u001b[32m▀\u001b[0m\u001b[32m▖\u001b[0m          \u001b[32m▗\u001b[0m\u001b[32m▞\u001b[0m\u001b[35m▘\u001b[0m │ \n",
            "││              \u001b[34m▝\u001b[0m\u001b[34m▜\u001b[0m        \u001b[35m▄\u001b[0m\u001b[32m▟\u001b[0m                \u001b[35m▀\u001b[0m\u001b[35m▖\u001b[0m\u001b[32m▝\u001b[0m\u001b[32m▚\u001b[0m\u001b[32m▖\u001b[0m       \u001b[32m▟\u001b[0m\u001b[32m▘\u001b[0m\u001b[35m▖\u001b[0m  │ \n",
            "││                \u001b[34m▀\u001b[0m\u001b[34m▄\u001b[0m\u001b[34m▄\u001b[0m\u001b[35m▄\u001b[0m\u001b[35m▄\u001b[0m\u001b[35m▄\u001b[0m\u001b[35m▄\u001b[0m\u001b[32m▄\u001b[0m\u001b[32m▀\u001b[0m                  \u001b[35m▝\u001b[0m\u001b[35m▄\u001b[0m \u001b[32m▝\u001b[0m\u001b[32m▀\u001b[0m\u001b[32m▄\u001b[0m\u001b[32m▄\u001b[0m\u001b[32m▄\u001b[0m\u001b[32m▄\u001b[0m\u001b[32m▟\u001b[0m\u001b[32m▀\u001b[0m\u001b[35m▝\u001b[0m\u001b[35m▘\u001b[0m   │ \n",
            "││                   \u001b[32m▀\u001b[0m\u001b[32m▀\u001b[0m\u001b[32m▀\u001b[0m\u001b[32m▀\u001b[0m                      \u001b[35m▚\u001b[0m       \u001b[35m▗\u001b[0m\u001b[35m▞\u001b[0m    │ \n",
            "││▁▁▁▁▁▁▁▁▁▁▁▁▁▁▁▁▁▁▁▁▁▁▁▁▁▁▁▁▁▁▁▁▁▁▁▁▁▁▁▁▁▁▁▁▁▁\u001b[35m▚\u001b[0m▁▁▁▁▁\u001b[35m▗\u001b[0m\u001b[35m▘\u001b[0m▁▁▁▁▁│ 0\n",
            "││                                               \u001b[35m▚\u001b[0m\u001b[35m▄\u001b[0m\u001b[35m▄\u001b[0m\u001b[35m▄\u001b[0m\u001b[35m▀\u001b[0m\u001b[35m▘\u001b[0m      │ \n",
            "└────────────────────────────────────────────────────────────┘\n",
            " 0                  50                  100\n",
            "                          \u001b[34m██\u001b[0m Input\n",
            "                          \u001b[35m██\u001b[0m Target\n",
            "                          \u001b[32m██\u001b[0m Output\n"
          ]
        },
        {
          "output_type": "stream",
          "name": "stderr",
          "text": [
            "100%|██████████| 107/107 [00:02<00:00, 39.50it/s]\n",
            "100%|██████████| 638/638 [00:58<00:00, 10.82it/s]\n",
            "100%|██████████| 107/107 [00:03<00:00, 26.76it/s]\n",
            "100%|██████████| 638/638 [01:00<00:00, 10.58it/s]\n",
            "100%|██████████| 107/107 [00:02<00:00, 40.89it/s]\n",
            "100%|██████████| 638/638 [00:54<00:00, 11.80it/s]\n",
            "  5%|▍         | 5/107 [00:00<00:04, 23.71it/s]"
          ]
        },
        {
          "output_type": "stream",
          "name": "stdout",
          "text": [
            "           Epoch: 18, Test Loss: 0.0818 - Example 0\n",
            "┌────────────────────────────────────────────────────────────┐\n",
            "││                             \u001b[32m▄\u001b[0m\u001b[32m▀\u001b[0m\u001b[32m▀\u001b[0m\u001b[32m▀\u001b[0m\u001b[32m▀\u001b[0m\u001b[32m▚\u001b[0m\u001b[32m▖\u001b[0m                      \u001b[32m▟\u001b[0m│ \n",
            "│\u001b[34m▛\u001b[0m\u001b[34m▚\u001b[0m\u001b[34m▄\u001b[0m\u001b[34m▄\u001b[0m\u001b[34m▄\u001b[0m\u001b[34m▄\u001b[0m\u001b[34m▖\u001b[0m                     \u001b[32m▗\u001b[0m\u001b[32m▀\u001b[0m\u001b[35m▀\u001b[0m\u001b[35m▀\u001b[0m\u001b[35m▀\u001b[0m\u001b[35m▄\u001b[0m  \u001b[32m▝\u001b[0m\u001b[32m▌\u001b[0m                   \u001b[32m▗\u001b[0m\u001b[32m▀\u001b[0m │ \n",
            "││     \u001b[34m▀\u001b[0m\u001b[34m▖\u001b[0m                 \u001b[35m▗\u001b[0m\u001b[35m▄\u001b[0m\u001b[32m▞\u001b[0m\u001b[32m▘\u001b[0m     \u001b[35m▀\u001b[0m\u001b[35m▚\u001b[0m \u001b[32m▝\u001b[0m\u001b[32m▚\u001b[0m                 \u001b[32m▗\u001b[0m\u001b[32m▘\u001b[0m  │ 1\n",
            "││      \u001b[34m▝\u001b[0m\u001b[34m▖\u001b[0m                \u001b[35m▖\u001b[0m\u001b[32m▐\u001b[0m         \u001b[35m▀\u001b[0m\u001b[35m▄\u001b[0m\u001b[35m▄\u001b[0m\u001b[32m▚\u001b[0m               \u001b[32m▐\u001b[0m\u001b[32m▘\u001b[0m\u001b[35m▄\u001b[0m\u001b[35m▄\u001b[0m\u001b[35m▄\u001b[0m│ \n",
            "││       \u001b[34m▗\u001b[0m\u001b[34m▚\u001b[0m              \u001b[35m▗\u001b[0m\u001b[32m▞\u001b[0m\u001b[32m▘\u001b[0m            \u001b[35m▖\u001b[0m\u001b[32m▚\u001b[0m\u001b[32m▖\u001b[0m            \u001b[32m▄\u001b[0m\u001b[32m▘\u001b[0m\u001b[35m▀\u001b[0m   │ \n",
            "││         \u001b[34m▀\u001b[0m\u001b[34m▖\u001b[0m           \u001b[35m▞\u001b[0m\u001b[32m▐\u001b[0m              \u001b[35m▀\u001b[0m\u001b[35m▀\u001b[0m\u001b[32m▚\u001b[0m\u001b[32m▖\u001b[0m          \u001b[32m▐\u001b[0m\u001b[35m▞\u001b[0m     │ \n",
            "││          \u001b[34m▝\u001b[0m\u001b[34m▖\u001b[0m         \u001b[35m▐\u001b[0m\u001b[32m▞\u001b[0m\u001b[32m▘\u001b[0m                \u001b[35m▚\u001b[0m\u001b[32m▝\u001b[0m\u001b[32m▙\u001b[0m       \u001b[32m▗\u001b[0m\u001b[32m▞\u001b[0m\u001b[32m▘\u001b[0m      │ 0\n",
            "││           \u001b[34m▝\u001b[0m\u001b[34m▖\u001b[0m        \u001b[32m▟\u001b[0m                    \u001b[35m▚\u001b[0m\u001b[32m▀\u001b[0m\u001b[32m▄\u001b[0m\u001b[32m▖\u001b[0m\u001b[35m▄\u001b[0m\u001b[35m▄\u001b[0m\u001b[32m▗\u001b[0m\u001b[32m▄\u001b[0m\u001b[32m▀\u001b[0m        │ \n",
            "││            \u001b[34m▗\u001b[0m\u001b[34m▄\u001b[0m    \u001b[34m▗\u001b[0m\u001b[32m▗\u001b[0m\u001b[32m▀\u001b[0m                        \u001b[32m▝\u001b[0m\u001b[32m▀\u001b[0m\u001b[32m▀\u001b[0m\u001b[32m▘\u001b[0m          │ \n",
            "││             \u001b[34m▝\u001b[0m\u001b[34m▀\u001b[0m\u001b[34m▄\u001b[0m\u001b[34m▄\u001b[0m\u001b[34m▄\u001b[0m\u001b[34m▘\u001b[0m\u001b[32m▘\u001b[0m                                       │ \n",
            "└────────────────────────────────────────────────────────────┘\n",
            " 0                  50                  100\n",
            "                          \u001b[34m██\u001b[0m Input\n",
            "                          \u001b[35m██\u001b[0m Target\n",
            "                          \u001b[32m██\u001b[0m Output\n",
            "           Epoch: 18, Test Loss: 0.0910 - Example 1\n",
            "┌────────────────────────────────────────────────────────────┐\n",
            "││                   \u001b[32m▚\u001b[0m\u001b[32m▖\u001b[0m                        \u001b[32m▗\u001b[0m\u001b[32m▞\u001b[0m\u001b[32m▀\u001b[0m\u001b[32m▀\u001b[0m\u001b[32m▀\u001b[0m\u001b[32m▀\u001b[0m\u001b[32m▄\u001b[0m       │ \n",
            "││              \u001b[34m▄\u001b[0m\u001b[34m▞\u001b[0m\u001b[34m▀\u001b[0m\u001b[34m▀\u001b[0m\u001b[34m▚\u001b[0m\u001b[35m▄\u001b[0m\u001b[32m▝\u001b[0m\u001b[32m▜\u001b[0m\u001b[32m▖\u001b[0m                     \u001b[32m▞\u001b[0m\u001b[32m▘\u001b[0m      \u001b[32m▜\u001b[0m\u001b[32m▖\u001b[0m     │ \n",
            "││            \u001b[34m▄\u001b[0m\u001b[34m▞\u001b[0m     \u001b[35m▝\u001b[0m\u001b[35m▀\u001b[0m\u001b[35m▜\u001b[0m\u001b[32m▝\u001b[0m\u001b[32m▚\u001b[0m                   \u001b[32m▞\u001b[0m\u001b[32m▘\u001b[0m        \u001b[32m▝\u001b[0m\u001b[32m▄\u001b[0m    │ 1\n",
            "││           \u001b[34m▐\u001b[0m          \u001b[35m▀\u001b[0m\u001b[35m▄\u001b[0m\u001b[32m▚\u001b[0m\u001b[32m▖\u001b[0m                \u001b[32m▛\u001b[0m\u001b[35m▄\u001b[0m\u001b[35m▄\u001b[0m\u001b[35m▄\u001b[0m\u001b[35m▄\u001b[0m       \u001b[32m▝\u001b[0m\u001b[32m▄\u001b[0m   │ \n",
            "││          \u001b[34m▗\u001b[0m\u001b[34m▖\u001b[0m            \u001b[35m▝\u001b[0m\u001b[32m▐\u001b[0m               \u001b[32m▞\u001b[0m\u001b[35m▞\u001b[0m \u001b[35m▘\u001b[0m  \u001b[35m▀\u001b[0m\u001b[35m▀\u001b[0m\u001b[35m▀\u001b[0m\u001b[35m▚\u001b[0m\u001b[35m▄\u001b[0m\u001b[35m▄\u001b[0m   \u001b[32m▚\u001b[0m  │ \n",
            "││         \u001b[34m▐\u001b[0m\u001b[34m▘\u001b[0m              \u001b[35m▝\u001b[0m\u001b[32m▀\u001b[0m\u001b[32m▖\u001b[0m           \u001b[35m▄\u001b[0m\u001b[32m▛\u001b[0m           \u001b[35m▝\u001b[0m\u001b[35m▀\u001b[0m\u001b[35m▚\u001b[0m \u001b[32m▝\u001b[0m\u001b[32m▚\u001b[0m │ \n",
            "││        \u001b[34m▗\u001b[0m\u001b[34m▘\u001b[0m                 \u001b[32m▝\u001b[0m\u001b[32m▄\u001b[0m        \u001b[35m▗\u001b[0m\u001b[32m▗\u001b[0m\u001b[32m▞\u001b[0m              \u001b[35m▝\u001b[0m\u001b[35m▚\u001b[0m  \u001b[32m▜\u001b[0m│ 0\n",
            "│\u001b[34m▖\u001b[0m        \u001b[34m▘\u001b[0m                    \u001b[32m▀\u001b[0m\u001b[32m▖\u001b[0m\u001b[35m▄\u001b[0m\u001b[35m▖\u001b[0m\u001b[35m▄\u001b[0m \u001b[35m▄\u001b[0m\u001b[35m▀\u001b[0m\u001b[32m▗\u001b[0m\u001b[32m▌\u001b[0m                 \u001b[35m▚\u001b[0m\u001b[35m▖\u001b[0m │ \n",
            "│\u001b[34m▚\u001b[0m\u001b[34m▄\u001b[0m    \u001b[34m▗\u001b[0m\u001b[34m▀\u001b[0m\u001b[34m▄\u001b[0m                      \u001b[32m▝\u001b[0m\u001b[32m▀\u001b[0m\u001b[32m▄\u001b[0m\u001b[32m▄\u001b[0m\u001b[32m▄\u001b[0m\u001b[32m▄\u001b[0m\u001b[32m▛\u001b[0m\u001b[32m▘\u001b[0m                   \u001b[35m▝\u001b[0m\u001b[35m▚\u001b[0m│ \n",
            "││ \u001b[34m▀\u001b[0m\u001b[34m▄\u001b[0m\u001b[34m▄\u001b[0m\u001b[34m▄\u001b[0m\u001b[34m▌\u001b[0m                                                    \u001b[35m▝\u001b[0m│ \n",
            "└────────────────────────────────────────────────────────────┘\n",
            " 0                  50                  100\n",
            "                          \u001b[34m██\u001b[0m Input\n",
            "                          \u001b[35m██\u001b[0m Target\n",
            "                          \u001b[32m██\u001b[0m Output\n",
            "           Epoch: 18, Test Loss: 0.0719 - Example 2\n",
            "┌────────────────────────────────────────────────────────────┐\n",
            "││ \u001b[34m▄\u001b[0m\u001b[34m▄\u001b[0m\u001b[34m▄\u001b[0m\u001b[34m▄\u001b[0m\u001b[34m▙\u001b[0m\u001b[34m▖\u001b[0m                         \u001b[32m▄\u001b[0m\u001b[32m▀\u001b[0m\u001b[32m▀\u001b[0m\u001b[32m▀\u001b[0m\u001b[32m▀\u001b[0m\u001b[32m▀\u001b[0m\u001b[32m▄\u001b[0m                    │ \n",
            "││\u001b[34m▄\u001b[0m\u001b[34m▘\u001b[0m    \u001b[34m▝\u001b[0m\u001b[34m▀\u001b[0m\u001b[34m▚\u001b[0m                     \u001b[32m▄\u001b[0m\u001b[32m▀\u001b[0m       \u001b[32m▀\u001b[0m\u001b[32m▖\u001b[0m                  │ 1\n",
            "│\u001b[34m▀\u001b[0m         \u001b[34m▜\u001b[0m\u001b[34m▄\u001b[0m                  \u001b[32m▄\u001b[0m\u001b[32m▘\u001b[0m \u001b[35m▄\u001b[0m\u001b[35m▄\u001b[0m      \u001b[32m▝\u001b[0m\u001b[32m▄\u001b[0m                \u001b[32m▐\u001b[0m│ \n",
            "││           \u001b[34m▀\u001b[0m\u001b[34m▖\u001b[0m              \u001b[32m▗\u001b[0m\u001b[32m▞\u001b[0m\u001b[35m▄\u001b[0m\u001b[35m▌\u001b[0m\u001b[35m▀\u001b[0m  \u001b[35m▀\u001b[0m\u001b[35m▀\u001b[0m\u001b[35m▄\u001b[0m\u001b[35m▄\u001b[0m\u001b[35m▄\u001b[0m\u001b[35m▖\u001b[0m  \u001b[32m▚\u001b[0m              \u001b[32m▄\u001b[0m\u001b[32m▘\u001b[0m│ \n",
            "││            \u001b[34m▝\u001b[0m\u001b[34m▜\u001b[0m            \u001b[35m▄\u001b[0m\u001b[32m▞\u001b[0m           \u001b[35m▝\u001b[0m\u001b[35m▀\u001b[0m\u001b[35m▚\u001b[0m \u001b[32m▀\u001b[0m\u001b[32m▖\u001b[0m           \u001b[32m▟\u001b[0m\u001b[35m▞\u001b[0m │ \n",
            "││              \u001b[34m▀\u001b[0m\u001b[34m▄\u001b[0m        \u001b[35m▗\u001b[0m\u001b[32m▗\u001b[0m\u001b[32m▀\u001b[0m               \u001b[35m▚\u001b[0m \u001b[32m▝\u001b[0m\u001b[32m▚\u001b[0m\u001b[32m▖\u001b[0m       \u001b[32m▗\u001b[0m\u001b[32m▀\u001b[0m\u001b[35m▞\u001b[0m  │ \n",
            "││                \u001b[34m▚\u001b[0m\u001b[34m▄\u001b[0m\u001b[34m▄\u001b[0m\u001b[35m▄\u001b[0m\u001b[35m▄\u001b[0m \u001b[35m▄\u001b[0m\u001b[35m▀\u001b[0m\u001b[32m▄\u001b[0m\u001b[32m▀\u001b[0m                 \u001b[35m▚\u001b[0m\u001b[35m▖\u001b[0m \u001b[32m▀\u001b[0m\u001b[32m▚\u001b[0m\u001b[32m▄\u001b[0m   \u001b[32m▄\u001b[0m\u001b[32m▞\u001b[0m\u001b[32m▘\u001b[0m\u001b[35m▀\u001b[0m   │ \n",
            "││                   \u001b[32m▄\u001b[0m\u001b[32m▄\u001b[0m\u001b[32m▄\u001b[0m\u001b[32m▄\u001b[0m\u001b[32m▀\u001b[0m                    \u001b[35m▝\u001b[0m\u001b[35m▚\u001b[0m   \u001b[32m▀\u001b[0m\u001b[32m▀\u001b[0m\u001b[32m▀\u001b[0m  \u001b[35m▞\u001b[0m    │ \n",
            "││                                              \u001b[35m▙\u001b[0m     \u001b[35m▗\u001b[0m\u001b[35m▀\u001b[0m     │ \n",
            "││▔▔▔▔▔▔▔▔▔▔▔▔▔▔▔▔▔▔▔▔▔▔▔▔▔▔▔▔▔▔▔▔▔▔▔▔▔▔▔▔▔▔▔▔▔▔▔\u001b[35m▚\u001b[0m\u001b[35m▄\u001b[0m\u001b[35m▄\u001b[0m\u001b[35m▄\u001b[0m\u001b[35m▀\u001b[0m\u001b[35m▘\u001b[0m▔▔▔▔▔▔│ 0\n",
            "└────────────────────────────────────────────────────────────┘\n",
            " 0                  50                  100\n",
            "                          \u001b[34m██\u001b[0m Input\n",
            "                          \u001b[35m██\u001b[0m Target\n",
            "                          \u001b[32m██\u001b[0m Output\n"
          ]
        },
        {
          "output_type": "stream",
          "name": "stderr",
          "text": [
            "100%|██████████| 107/107 [00:02<00:00, 39.17it/s]\n",
            "100%|██████████| 638/638 [00:53<00:00, 11.87it/s]\n",
            "100%|██████████| 107/107 [00:03<00:00, 31.97it/s]\n",
            "100%|██████████| 638/638 [00:53<00:00, 11.97it/s]\n",
            "100%|██████████| 107/107 [00:02<00:00, 39.78it/s]\n",
            "100%|██████████| 638/638 [00:54<00:00, 11.71it/s]\n",
            "  5%|▍         | 5/107 [00:00<00:04, 22.51it/s]"
          ]
        },
        {
          "output_type": "stream",
          "name": "stdout",
          "text": [
            "           Epoch: 21, Test Loss: 0.0602 - Example 0\n",
            "┌────────────────────────────────────────────────────────────┐\n",
            "││                           \u001b[32m▗\u001b[0m\u001b[32m▄\u001b[0m\u001b[32m▀\u001b[0m\u001b[32m▀\u001b[0m\u001b[32m▀\u001b[0m\u001b[32m▀\u001b[0m\u001b[32m▚\u001b[0m\u001b[32m▖\u001b[0m                     \u001b[32m▗\u001b[0m\u001b[32m▞\u001b[0m\u001b[32m▀\u001b[0m│ \n",
            "│\u001b[34m▛\u001b[0m\u001b[34m▀\u001b[0m\u001b[34m▄\u001b[0m\u001b[34m▚\u001b[0m\u001b[34m▄\u001b[0m\u001b[34m▞\u001b[0m\u001b[34m▖\u001b[0m                    \u001b[32m▗\u001b[0m\u001b[32m▀\u001b[0m\u001b[35m▀\u001b[0m\u001b[35m▀\u001b[0m\u001b[35m▀\u001b[0m\u001b[35m▀\u001b[0m\u001b[35m▙\u001b[0m \u001b[32m▝\u001b[0m\u001b[32m▄\u001b[0m                  \u001b[32m▗\u001b[0m\u001b[32m▞\u001b[0m\u001b[32m▘\u001b[0m  │ \n",
            "││     \u001b[34m▀\u001b[0m\u001b[34m▖\u001b[0m                 \u001b[35m▗\u001b[0m\u001b[32m▐\u001b[0m\u001b[32m▘\u001b[0m      \u001b[35m▀\u001b[0m\u001b[35m▚\u001b[0m\u001b[35m▖\u001b[0m\u001b[32m▚\u001b[0m                \u001b[32m▗\u001b[0m\u001b[32m▀\u001b[0m    │ 1\n",
            "││      \u001b[34m▝\u001b[0m\u001b[34m▖\u001b[0m                \u001b[32m▞\u001b[0m\u001b[32m▘\u001b[0m         \u001b[35m▝\u001b[0m\u001b[35m▄\u001b[0m\u001b[32m▚\u001b[0m\u001b[32m▖\u001b[0m             \u001b[32m▐\u001b[0m\u001b[32m▘\u001b[0m  \u001b[35m▄\u001b[0m\u001b[35m▄\u001b[0m\u001b[35m▄\u001b[0m│ \n",
            "││       \u001b[34m▗\u001b[0m\u001b[34m▚\u001b[0m              \u001b[32m▐\u001b[0m              \u001b[32m▚\u001b[0m\u001b[32m▖\u001b[0m           \u001b[32m▄\u001b[0m\u001b[32m▘\u001b[0m \u001b[35m▄\u001b[0m\u001b[35m▀\u001b[0m   │ \n",
            "││         \u001b[34m▀\u001b[0m\u001b[34m▖\u001b[0m           \u001b[32m▞\u001b[0m\u001b[32m▘\u001b[0m              \u001b[35m▝\u001b[0m\u001b[32m▝\u001b[0m\u001b[32m▌\u001b[0m         \u001b[32m▟\u001b[0m \u001b[35m▄\u001b[0m\u001b[35m▞\u001b[0m     │ \n",
            "││          \u001b[34m▝\u001b[0m\u001b[34m▖\u001b[0m         \u001b[32m▐\u001b[0m                  \u001b[32m▝\u001b[0m\u001b[32m▀\u001b[0m\u001b[32m▄\u001b[0m     \u001b[32m▄\u001b[0m\u001b[32m▀\u001b[0m\u001b[35m▗\u001b[0m\u001b[35m▀\u001b[0m       │ 0\n",
            "││           \u001b[34m▝\u001b[0m\u001b[34m▖\u001b[0m       \u001b[32m▞\u001b[0m\u001b[32m▘\u001b[0m                    \u001b[35m▚\u001b[0m\u001b[32m▀\u001b[0m\u001b[32m▀\u001b[0m\u001b[32m▀\u001b[0m\u001b[32m▀\u001b[0m\u001b[32m▀\u001b[0m\u001b[35m▞\u001b[0m\u001b[35m▀\u001b[0m\u001b[35m▘\u001b[0m        │ \n",
            "││            \u001b[34m▗\u001b[0m\u001b[34m▄\u001b[0m    \u001b[34m▗\u001b[0m\u001b[32m▞\u001b[0m\u001b[35m▞\u001b[0m                                      │ \n",
            "││             \u001b[34m▝\u001b[0m\u001b[34m▀\u001b[0m\u001b[34m▄\u001b[0m\u001b[34m▄\u001b[0m\u001b[34m▄\u001b[0m\u001b[34m▘\u001b[0m                                        │ \n",
            "└────────────────────────────────────────────────────────────┘\n",
            " 0                  50                  100\n",
            "                          \u001b[34m██\u001b[0m Input\n",
            "                          \u001b[35m██\u001b[0m Target\n",
            "                          \u001b[32m██\u001b[0m Output\n",
            "           Epoch: 21, Test Loss: 0.0642 - Example 1\n",
            "┌────────────────────────────────────────────────────────────┐\n",
            "││               \u001b[34m▗\u001b[0m\u001b[34m▄\u001b[0m\u001b[34m▄\u001b[0m\u001b[34m▖\u001b[0m\u001b[32m▚\u001b[0m                        \u001b[32m▄\u001b[0m\u001b[32m▀\u001b[0m\u001b[32m▀\u001b[0m\u001b[32m▀\u001b[0m\u001b[32m▙\u001b[0m\u001b[32m▖\u001b[0m         │ \n",
            "││             \u001b[34m▗\u001b[0m\u001b[34m▀\u001b[0m\u001b[34m▘\u001b[0m  \u001b[34m▝\u001b[0m\u001b[32m▝\u001b[0m\u001b[32m▄\u001b[0m\u001b[32m▖\u001b[0m                    \u001b[32m▄\u001b[0m\u001b[32m▀\u001b[0m     \u001b[32m▝\u001b[0m\u001b[32m▚\u001b[0m        │ \n",
            "││           \u001b[34m▗\u001b[0m\u001b[34m▞\u001b[0m\u001b[34m▀\u001b[0m       \u001b[32m▝\u001b[0m\u001b[32m▄\u001b[0m                  \u001b[32m▞\u001b[0m\u001b[32m▘\u001b[0m        \u001b[32m▀\u001b[0m\u001b[32m▖\u001b[0m      │ 1\n",
            "││           \u001b[34m▗\u001b[0m          \u001b[35m▝\u001b[0m\u001b[32m▜\u001b[0m\u001b[35m▄\u001b[0m               \u001b[32m▛\u001b[0m  \u001b[35m▄\u001b[0m\u001b[35m▄\u001b[0m\u001b[35m▀\u001b[0m\u001b[35m▄\u001b[0m\u001b[35m▄\u001b[0m\u001b[35m▖\u001b[0m   \u001b[32m▝\u001b[0m\u001b[32m▖\u001b[0m     │ \n",
            "││         \u001b[34m▗\u001b[0m\u001b[34m▄\u001b[0m\u001b[34m▘\u001b[0m            \u001b[32m▀\u001b[0m\u001b[32m▖\u001b[0m            \u001b[32m▗\u001b[0m\u001b[32m▞\u001b[0m\u001b[35m▗\u001b[0m\u001b[35m▀\u001b[0m\u001b[35m▀\u001b[0m     \u001b[35m▝\u001b[0m\u001b[35m▀\u001b[0m\u001b[35m▀\u001b[0m\u001b[35m▄\u001b[0m\u001b[35m▄\u001b[0m\u001b[32m▝\u001b[0m\u001b[32m▚\u001b[0m    │ \n",
            "││         \u001b[34m▄\u001b[0m               \u001b[32m▝\u001b[0m\u001b[32m▄\u001b[0m\u001b[35m▖\u001b[0m          \u001b[32m▌\u001b[0m\u001b[35m▚\u001b[0m\u001b[35m▖\u001b[0m             \u001b[32m▝\u001b[0m\u001b[32m▚\u001b[0m\u001b[32m▖\u001b[0m  │ \n",
            "││        \u001b[34m▗\u001b[0m                  \u001b[32m▚\u001b[0m\u001b[32m▖\u001b[0m       \u001b[32m▄\u001b[0m\u001b[32m▀\u001b[0m\u001b[35m▘\u001b[0m               \u001b[35m▝\u001b[0m\u001b[35m▀\u001b[0m\u001b[32m▝\u001b[0m\u001b[32m▄\u001b[0m │ 0\n",
            "│\u001b[34m▌\u001b[0m        \u001b[34m▘\u001b[0m                   \u001b[32m▝\u001b[0m\u001b[32m▚\u001b[0m\u001b[32m▄\u001b[0m\u001b[35m▄\u001b[0m\u001b[35m▄\u001b[0m\u001b[35m▄\u001b[0m\u001b[32m▄\u001b[0m\u001b[32m▞\u001b[0m\u001b[32m▘\u001b[0m                   \u001b[35m▐\u001b[0m\u001b[35m▄\u001b[0m\u001b[32m▀\u001b[0m│ \n",
            "│\u001b[34m▗\u001b[0m\u001b[34m▄\u001b[0m    \u001b[34m▗\u001b[0m\u001b[34m▀\u001b[0m\u001b[34m▞\u001b[0m                       \u001b[32m▀\u001b[0m\u001b[32m▀\u001b[0m\u001b[32m▀\u001b[0m                        \u001b[35m▚\u001b[0m│ \n",
            "││ \u001b[34m▀\u001b[0m\u001b[34m▄\u001b[0m\u001b[34m▄\u001b[0m\u001b[34m▄\u001b[0m\u001b[34m▌\u001b[0m                                                    \u001b[35m▝\u001b[0m│ \n",
            "└────────────────────────────────────────────────────────────┘\n",
            " 0                  50                  100\n",
            "                          \u001b[34m██\u001b[0m Input\n",
            "                          \u001b[35m██\u001b[0m Target\n",
            "                          \u001b[32m██\u001b[0m Output\n",
            "           Epoch: 21, Test Loss: 0.0686 - Example 2\n",
            "┌────────────────────────────────────────────────────────────┐\n",
            "││ \u001b[34m▞\u001b[0m\u001b[34m▀\u001b[0m\u001b[34m▀\u001b[0m\u001b[34m▀\u001b[0m\u001b[34m▀\u001b[0m\u001b[34m▚\u001b[0m\u001b[34m▄\u001b[0m                      \u001b[32m▄\u001b[0m\u001b[32m▞\u001b[0m\u001b[32m▀\u001b[0m\u001b[32m▀\u001b[0m\u001b[32m▀\u001b[0m\u001b[32m▀\u001b[0m\u001b[32m▙\u001b[0m\u001b[32m▖\u001b[0m                     │ \n",
            "│\u001b[34m▄\u001b[0m\u001b[34m▞\u001b[0m       \u001b[34m▀\u001b[0m\u001b[34m▄\u001b[0m                  \u001b[32m▗\u001b[0m\u001b[32m▞\u001b[0m\u001b[32m▘\u001b[0m      \u001b[32m▝\u001b[0m\u001b[32m▙\u001b[0m                  \u001b[32m▗\u001b[0m\u001b[32m▞\u001b[0m│ 1\n",
            "││         \u001b[34m▝\u001b[0m\u001b[34m▚\u001b[0m\u001b[34m▄\u001b[0m               \u001b[32m▐\u001b[0m\u001b[32m▘\u001b[0m \u001b[35m▄\u001b[0m\u001b[35m▄\u001b[0m\u001b[35m▄\u001b[0m\u001b[35m▄\u001b[0m\u001b[35m▄\u001b[0m    \u001b[32m▀\u001b[0m\u001b[32m▖\u001b[0m               \u001b[32m▗\u001b[0m\u001b[32m▘\u001b[0m\u001b[35m▐\u001b[0m│ \n",
            "││            \u001b[34m▄\u001b[0m             \u001b[32m▞\u001b[0m\u001b[32m▘\u001b[0m\u001b[35m▄\u001b[0m\u001b[35m▞\u001b[0m\u001b[35m▘\u001b[0m    \u001b[35m▀\u001b[0m\u001b[35m▀\u001b[0m\u001b[35m▀\u001b[0m\u001b[35m▄\u001b[0m\u001b[35m▄\u001b[0m\u001b[32m▝\u001b[0m\u001b[32m▄\u001b[0m             \u001b[32m▞\u001b[0m\u001b[32m▘\u001b[0m\u001b[35m▗\u001b[0m\u001b[35m▘\u001b[0m│ \n",
            "││             \u001b[34m▀\u001b[0m\u001b[34m▖\u001b[0m          \u001b[32m▞\u001b[0m\u001b[35m▚\u001b[0m\u001b[35m▟\u001b[0m            \u001b[35m▀\u001b[0m\u001b[35m▚\u001b[0m\u001b[32m▚\u001b[0m\u001b[32m▖\u001b[0m          \u001b[32m▞\u001b[0m \u001b[35m▗\u001b[0m\u001b[35m▘\u001b[0m │ \n",
            "││              \u001b[34m▝\u001b[0m\u001b[34m▜\u001b[0m       \u001b[32m▗\u001b[0m\u001b[32m▀\u001b[0m\u001b[35m▀\u001b[0m                \u001b[35m▀\u001b[0m\u001b[32m▝\u001b[0m\u001b[32m▙\u001b[0m\u001b[32m▖\u001b[0m      \u001b[32m▄\u001b[0m\u001b[32m▀\u001b[0m  \u001b[35m▖\u001b[0m  │ \n",
            "││                \u001b[34m▀\u001b[0m\u001b[34m▄\u001b[0m\u001b[34m▄\u001b[0m\u001b[32m▄\u001b[0m\u001b[32m▄\u001b[0m\u001b[32m▄\u001b[0m\u001b[32m▀\u001b[0m\u001b[32m▘\u001b[0m\u001b[35m▘\u001b[0m                  \u001b[35m▝\u001b[0m\u001b[35m▄\u001b[0m\u001b[32m▝\u001b[0m\u001b[32m▀\u001b[0m\u001b[32m▄\u001b[0m\u001b[32m▄\u001b[0m\u001b[32m▄\u001b[0m\u001b[32m▟\u001b[0m\u001b[32m▀\u001b[0m  \u001b[35m▝\u001b[0m\u001b[35m▀\u001b[0m   │ \n",
            "││                                             \u001b[35m▚\u001b[0m       \u001b[35m▗\u001b[0m\u001b[35m▞\u001b[0m    │ \n",
            "││▁▁▁▁▁▁▁▁▁▁▁▁▁▁▁▁▁▁▁▁▁▁▁▁▁▁▁▁▁▁▁▁▁▁▁▁▁▁▁▁▁▁▁▁▁▁\u001b[35m▚\u001b[0m▁▁▁▁▁\u001b[35m▗\u001b[0m\u001b[35m▘\u001b[0m▁▁▁▁▁│ 0\n",
            "││                                               \u001b[35m▚\u001b[0m\u001b[35m▄\u001b[0m\u001b[35m▄\u001b[0m\u001b[35m▄\u001b[0m\u001b[35m▀\u001b[0m\u001b[35m▘\u001b[0m      │ \n",
            "└────────────────────────────────────────────────────────────┘\n",
            " 0                  50                  100\n",
            "                          \u001b[34m██\u001b[0m Input\n",
            "                          \u001b[35m██\u001b[0m Target\n",
            "                          \u001b[32m██\u001b[0m Output\n"
          ]
        },
        {
          "output_type": "stream",
          "name": "stderr",
          "text": [
            "100%|██████████| 107/107 [00:02<00:00, 38.06it/s]\n",
            "100%|██████████| 638/638 [00:53<00:00, 11.97it/s]\n",
            "100%|██████████| 107/107 [00:03<00:00, 31.95it/s]\n",
            "100%|██████████| 638/638 [00:52<00:00, 12.05it/s]\n",
            "100%|██████████| 107/107 [00:02<00:00, 39.66it/s]\n",
            "100%|██████████| 638/638 [00:59<00:00, 10.71it/s]\n",
            "  5%|▍         | 5/107 [00:00<00:04, 22.91it/s]"
          ]
        },
        {
          "output_type": "stream",
          "name": "stdout",
          "text": [
            "           Epoch: 24, Test Loss: 0.0208 - Example 0\n",
            "┌────────────────────────────────────────────────────────────┐\n",
            "│\u001b[34m▄\u001b[0m\u001b[34m▄\u001b[0m\u001b[34m▗\u001b[0m\u001b[34m▖\u001b[0m \u001b[34m▗\u001b[0m                      \u001b[32m▗\u001b[0m\u001b[32m▀\u001b[0m\u001b[32m▀\u001b[0m\u001b[32m▀\u001b[0m\u001b[32m▀\u001b[0m\u001b[32m▚\u001b[0m\u001b[32m▄\u001b[0m                         │ \n",
            "││ \u001b[34m▘\u001b[0m\u001b[34m▝\u001b[0m\u001b[34m▀\u001b[0m\u001b[34m▘\u001b[0m\u001b[34m▚\u001b[0m                   \u001b[32m▗\u001b[0m\u001b[32m▞\u001b[0m\u001b[32m▘\u001b[0m    \u001b[35m▀\u001b[0m\u001b[35m▀\u001b[0m\u001b[32m▚\u001b[0m\u001b[32m▖\u001b[0m                    \u001b[32m▄\u001b[0m\u001b[32m▄\u001b[0m\u001b[32m▄\u001b[0m│ \n",
            "││      \u001b[34m▚\u001b[0m                 \u001b[35m▝\u001b[0m\u001b[32m▞\u001b[0m        \u001b[35m▝\u001b[0m\u001b[32m▝\u001b[0m\u001b[32m▌\u001b[0m                \u001b[32m▄\u001b[0m\u001b[32m▞\u001b[0m\u001b[32m▀\u001b[0m   │ 1\n",
            "││       \u001b[34m▌\u001b[0m\u001b[34m▖\u001b[0m              \u001b[32m▗\u001b[0m\u001b[32m▀\u001b[0m           \u001b[32m▝\u001b[0m\u001b[32m▚\u001b[0m\u001b[32m▖\u001b[0m            \u001b[32m▗\u001b[0m\u001b[32m▞\u001b[0m  \u001b[35m▗\u001b[0m\u001b[35m▀\u001b[0m\u001b[35m▞\u001b[0m\u001b[35m▀\u001b[0m│ \n",
            "││       \u001b[34m▝\u001b[0m\u001b[34m▝\u001b[0m\u001b[34m▄\u001b[0m            \u001b[35m▗\u001b[0m\u001b[32m▞\u001b[0m              \u001b[32m▚\u001b[0m\u001b[32m▖\u001b[0m          \u001b[32m▟\u001b[0m\u001b[32m▘\u001b[0m \u001b[35m▗\u001b[0m\u001b[35m▀\u001b[0m\u001b[35m▘\u001b[0m   │ \n",
            "││          \u001b[34m▄\u001b[0m          \u001b[35m▗\u001b[0m\u001b[32m▞\u001b[0m                \u001b[32m▝\u001b[0m\u001b[32m▙\u001b[0m       \u001b[32m▄\u001b[0m\u001b[32m▀\u001b[0m \u001b[35m▄\u001b[0m\u001b[35m▀\u001b[0m\u001b[35m▘\u001b[0m     │ \n",
            "││           \u001b[34m▄\u001b[0m         \u001b[32m▐\u001b[0m                  \u001b[35m▝\u001b[0m\u001b[32m▀\u001b[0m\u001b[32m▙\u001b[0m\u001b[32m▄\u001b[0m\u001b[32m▄\u001b[0m\u001b[32m▄\u001b[0m\u001b[32m▛\u001b[0m\u001b[32m▀\u001b[0m \u001b[35m▄\u001b[0m\u001b[35m▟\u001b[0m        │ 0\n",
            "││           \u001b[34m▝\u001b[0m\u001b[34m▖\u001b[0m      \u001b[35m▗\u001b[0m\u001b[32m▞\u001b[0m\u001b[32m▘\u001b[0m                    \u001b[35m▚\u001b[0m\u001b[35m▄\u001b[0m\u001b[35m▙\u001b[0m\u001b[35m▄\u001b[0m\u001b[35m▄\u001b[0m\u001b[35m▄\u001b[0m\u001b[35m▛\u001b[0m          │ \n",
            "││            \u001b[34m▗\u001b[0m\u001b[34m▄\u001b[0m    \u001b[34m▗\u001b[0m\u001b[32m▞\u001b[0m\u001b[35m▀\u001b[0m                                      │ \n",
            "││             \u001b[34m▝\u001b[0m\u001b[34m▀\u001b[0m\u001b[34m▄\u001b[0m\u001b[34m▄\u001b[0m\u001b[34m▄\u001b[0m\u001b[34m▘\u001b[0m                                        │ \n",
            "└────────────────────────────────────────────────────────────┘\n",
            " 0                  50                  100\n",
            "                          \u001b[34m██\u001b[0m Input\n",
            "                          \u001b[35m██\u001b[0m Target\n",
            "                          \u001b[32m██\u001b[0m Output\n",
            "           Epoch: 24, Test Loss: 0.0261 - Example 1\n",
            "┌────────────────────────────────────────────────────────────┐\n",
            "││              \u001b[34m▄\u001b[0m\u001b[34m▀\u001b[0m\u001b[34m▀\u001b[0m\u001b[34m▀\u001b[0m\u001b[34m▀\u001b[0m\u001b[32m▚\u001b[0m\u001b[32m▖\u001b[0m                                      │ \n",
            "││            \u001b[34m▄\u001b[0m\u001b[34m▞\u001b[0m      \u001b[32m▝\u001b[0m\u001b[32m▚\u001b[0m                    \u001b[32m▄\u001b[0m\u001b[32m▄\u001b[0m\u001b[32m▄\u001b[0m\u001b[32m▄\u001b[0m\u001b[32m▄\u001b[0m\u001b[32m▖\u001b[0m           │ 1\n",
            "││           \u001b[34m▝\u001b[0m          \u001b[32m▀\u001b[0m\u001b[32m▄\u001b[0m                \u001b[32m▄\u001b[0m\u001b[32m▀\u001b[0m\u001b[32m▘\u001b[0m  \u001b[35m▄\u001b[0m \u001b[32m▝\u001b[0m\u001b[32m▀\u001b[0m\u001b[32m▄\u001b[0m\u001b[32m▖\u001b[0m        │ \n",
            "││           \u001b[34m▞\u001b[0m           \u001b[32m▝\u001b[0m\u001b[32m▚\u001b[0m\u001b[35m▖\u001b[0m            \u001b[32m▄\u001b[0m\u001b[32m▀\u001b[0m \u001b[35m▖\u001b[0m\u001b[35m▄\u001b[0m\u001b[35m▀\u001b[0m\u001b[35m▀\u001b[0m \u001b[35m▀\u001b[0m\u001b[35m▀\u001b[0m\u001b[35m▙\u001b[0m\u001b[35m▄\u001b[0m\u001b[32m▝\u001b[0m\u001b[32m▄\u001b[0m       │ \n",
            "││         \u001b[34m▗\u001b[0m\u001b[34m▀\u001b[0m              \u001b[32m▜\u001b[0m\u001b[32m▖\u001b[0m         \u001b[32m▗\u001b[0m\u001b[32m▞\u001b[0m\u001b[32m▘\u001b[0m \u001b[35m▗\u001b[0m\u001b[35m▝\u001b[0m\u001b[35m▘\u001b[0m       \u001b[35m▝\u001b[0m\u001b[35m▀\u001b[0m\u001b[32m▜\u001b[0m\u001b[35m▄\u001b[0m\u001b[35m▖\u001b[0m    │ \n",
            "││         \u001b[34m▞\u001b[0m                \u001b[32m▝\u001b[0m\u001b[32m▚\u001b[0m      \u001b[32m▗\u001b[0m\u001b[32m▄\u001b[0m\u001b[32m▘\u001b[0m \u001b[35m▄\u001b[0m\u001b[35m▀\u001b[0m\u001b[35m▘\u001b[0m            \u001b[32m▀\u001b[0m\u001b[32m▄\u001b[0m\u001b[35m▖\u001b[0m   │ 0\n",
            "││        \u001b[34m▞\u001b[0m                  \u001b[35m▝\u001b[0m\u001b[32m▀\u001b[0m\u001b[32m▀\u001b[0m\u001b[32m▄\u001b[0m\u001b[32m▄\u001b[0m\u001b[32m▄\u001b[0m\u001b[32m▀\u001b[0m\u001b[32m▘\u001b[0m \u001b[35m▄\u001b[0m\u001b[35m▞\u001b[0m\u001b[35m▘\u001b[0m               \u001b[32m▝\u001b[0m\u001b[32m▚\u001b[0m\u001b[32m▖\u001b[0m  │ \n",
            "│\u001b[34m▌\u001b[0m      \u001b[34m▄\u001b[0m                      \u001b[35m▝\u001b[0m\u001b[35m▀\u001b[0m\u001b[35m▀\u001b[0m\u001b[35m▙\u001b[0m\u001b[35m▄\u001b[0m\u001b[35m▄\u001b[0m\u001b[35m▀\u001b[0m                    \u001b[32m▝\u001b[0m\u001b[32m▄\u001b[0m\u001b[32m▖\u001b[0m│ \n",
            "│\u001b[34m▗\u001b[0m\u001b[34m▄\u001b[0m\u001b[34m▖\u001b[0m   \u001b[34m▗\u001b[0m \u001b[34m▀\u001b[0m                                                  \u001b[32m▝\u001b[0m│ \n",
            "││ \u001b[34m▀\u001b[0m\u001b[34m▄\u001b[0m\u001b[34m▄\u001b[0m\u001b[34m▄\u001b[0m\u001b[34m▌\u001b[0m                                                    \u001b[35m▝\u001b[0m│ \n",
            "└────────────────────────────────────────────────────────────┘\n",
            " 0                  50                  100\n",
            "                          \u001b[34m██\u001b[0m Input\n",
            "                          \u001b[35m██\u001b[0m Target\n",
            "                          \u001b[32m██\u001b[0m Output\n",
            "           Epoch: 24, Test Loss: 0.0175 - Example 2\n",
            "┌────────────────────────────────────────────────────────────┐\n",
            "││ \u001b[34m▞\u001b[0m\u001b[34m▀\u001b[0m\u001b[34m▀\u001b[0m\u001b[34m▀\u001b[0m\u001b[34m▀\u001b[0m\u001b[34m▚\u001b[0m\u001b[34m▄\u001b[0m                                                   │ \n",
            "│\u001b[34m▄\u001b[0m\u001b[34m▞\u001b[0m       \u001b[34m▀\u001b[0m\u001b[34m▄\u001b[0m                    \u001b[32m▄\u001b[0m\u001b[32m▄\u001b[0m\u001b[32m▄\u001b[0m\u001b[32m▄\u001b[0m\u001b[32m▖\u001b[0m                       \u001b[32m▗\u001b[0m│ 1\n",
            "││         \u001b[34m▝\u001b[0m\u001b[34m▚\u001b[0m\u001b[34m▄\u001b[0m               \u001b[32m▄\u001b[0m\u001b[32m▀\u001b[0m\u001b[32m▀\u001b[0m\u001b[35m▄\u001b[0m\u001b[35m▄\u001b[0m\u001b[35m▄\u001b[0m\u001b[35m▄\u001b[0m\u001b[32m▝\u001b[0m\u001b[32m▀\u001b[0m\u001b[32m▚\u001b[0m\u001b[32m▖\u001b[0m                   \u001b[32m▄\u001b[0m\u001b[32m▘\u001b[0m│ \n",
            "││            \u001b[34m▚\u001b[0m            \u001b[32m▗\u001b[0m\u001b[32m▀\u001b[0m \u001b[35m▚\u001b[0m\u001b[35m▞\u001b[0m\u001b[35m▘\u001b[0m    \u001b[35m▀\u001b[0m\u001b[35m▀\u001b[0m\u001b[32m▝\u001b[0m\u001b[32m▚\u001b[0m\u001b[32m▖\u001b[0m\u001b[35m▖\u001b[0m               \u001b[32m▐\u001b[0m\u001b[35m▗\u001b[0m\u001b[35m▘\u001b[0m│ \n",
            "││             \u001b[34m▀\u001b[0m\u001b[34m▖\u001b[0m        \u001b[32m▗\u001b[0m\u001b[32m▞\u001b[0m\u001b[32m▘\u001b[0m\u001b[35m▚\u001b[0m\u001b[35m▟\u001b[0m           \u001b[32m▝\u001b[0m\u001b[32m▙\u001b[0m\u001b[35m▚\u001b[0m             \u001b[32m▞\u001b[0m\u001b[32m▘\u001b[0m\u001b[35m▘\u001b[0m │ \n",
            "││              \u001b[34m▝\u001b[0m\u001b[34m▜\u001b[0m     \u001b[32m▗\u001b[0m\u001b[32m▞\u001b[0m\u001b[32m▀\u001b[0m\u001b[35m▄\u001b[0m\u001b[35m▀\u001b[0m               \u001b[32m▀\u001b[0m\u001b[32m▖\u001b[0m\u001b[35m▖\u001b[0m          \u001b[32m▟\u001b[0m\u001b[35m▗\u001b[0m\u001b[35m▖\u001b[0m  │ \n",
            "││                \u001b[34m▀\u001b[0m\u001b[34m▄\u001b[0m\u001b[34m▄\u001b[0m\u001b[32m▜\u001b[0m\u001b[32m▀\u001b[0m\u001b[32m▘\u001b[0m\u001b[35m▄\u001b[0m\u001b[35m▀\u001b[0m                  \u001b[32m▝\u001b[0m\u001b[32m▚\u001b[0m\u001b[32m▖\u001b[0m       \u001b[32m▗\u001b[0m\u001b[32m▞\u001b[0m\u001b[35m▝\u001b[0m\u001b[35m▘\u001b[0m   │ \n",
            "││                                            \u001b[32m▀\u001b[0m\u001b[32m▚\u001b[0m\u001b[32m▄\u001b[0m   \u001b[32m▗\u001b[0m\u001b[32m▄\u001b[0m\u001b[32m▀\u001b[0m\u001b[35m▗\u001b[0m\u001b[35m▞\u001b[0m    │ \n",
            "││▁▁▁▁▁▁▁▁▁▁▁▁▁▁▁▁▁▁▁▁▁▁▁▁▁▁▁▁▁▁▁▁▁▁▁▁▁▁▁▁▁▁▁▁▁▁\u001b[35m▚\u001b[0m\u001b[32m▀\u001b[0m\u001b[32m▀\u001b[0m\u001b[32m▀\u001b[0m\u001b[32m▀\u001b[0m▁\u001b[35m▗\u001b[0m\u001b[35m▘\u001b[0m▁▁▁▁▁│ 0\n",
            "││                                               \u001b[35m▚\u001b[0m\u001b[35m▄\u001b[0m\u001b[35m▄\u001b[0m\u001b[35m▄\u001b[0m\u001b[35m▀\u001b[0m\u001b[35m▘\u001b[0m      │ \n",
            "└────────────────────────────────────────────────────────────┘\n",
            " 0                  50                  100\n",
            "                          \u001b[34m██\u001b[0m Input\n",
            "                          \u001b[35m██\u001b[0m Target\n",
            "                          \u001b[32m██\u001b[0m Output\n"
          ]
        },
        {
          "output_type": "stream",
          "name": "stderr",
          "text": [
            "100%|██████████| 107/107 [00:02<00:00, 38.93it/s]\n"
          ]
        }
      ],
      "source": [
        "lapseofTime, ListofLoss = run_experiment(SimpleARModel(input_size, hidden_size).to(device))"
      ]
    },
    {
      "cell_type": "code",
      "execution_count": 27,
      "id": "YVfO7ohbu3gH",
      "metadata": {
        "id": "YVfO7ohbu3gH",
        "colab": {
          "base_uri": "https://localhost:8080/"
        },
        "outputId": "0aca686d-8a30-445b-d0d4-794357401516"
      },
      "outputs": [
        {
          "output_type": "stream",
          "name": "stdout",
          "text": [
            "Start model training..\n"
          ]
        },
        {
          "output_type": "stream",
          "name": "stderr",
          "text": [
            "100%|██████████| 638/638 [01:12<00:00,  8.84it/s]\n",
            "100%|██████████| 107/107 [00:03<00:00, 29.89it/s]\n",
            "100%|██████████| 638/638 [01:12<00:00,  8.77it/s]\n",
            "100%|██████████| 107/107 [00:03<00:00, 29.72it/s]\n",
            "100%|██████████| 638/638 [01:12<00:00,  8.77it/s]\n",
            "  2%|▏         | 2/107 [00:00<00:07, 14.83it/s]"
          ]
        },
        {
          "output_type": "stream",
          "name": "stdout",
          "text": [
            "           Epoch: 3, Test Loss: 0.0124 - Example 0\n",
            "┌────────────────────────────────────────────────────────────┐\n",
            "│\u001b[34m▛\u001b[0m\u001b[34m▚\u001b[0m\u001b[34m▄\u001b[0m\u001b[34m▄\u001b[0m\u001b[34m▄\u001b[0m\u001b[34m▄\u001b[0m\u001b[34m▖\u001b[0m                     \u001b[35m▟\u001b[0m\u001b[35m▀\u001b[0m\u001b[35m▀\u001b[0m\u001b[35m▀\u001b[0m\u001b[35m▀\u001b[0m\u001b[35m▄\u001b[0m                          │ \n",
            "││     \u001b[34m▚\u001b[0m                   \u001b[35m▄\u001b[0m\u001b[35m▀\u001b[0m\u001b[32m▄\u001b[0m\u001b[32m▄\u001b[0m\u001b[32m▄\u001b[0m\u001b[32m▄\u001b[0m\u001b[32m▚\u001b[0m\u001b[32m▄\u001b[0m\u001b[32m▄\u001b[0m\u001b[32m▖\u001b[0m                        │ 1\n",
            "││      \u001b[34m▀\u001b[0m\u001b[34m▖\u001b[0m                \u001b[32m▗\u001b[0m\u001b[32m▀\u001b[0m\u001b[32m▀\u001b[0m       \u001b[32m▝\u001b[0m\u001b[32m▀\u001b[0m\u001b[32m▄\u001b[0m                   \u001b[32m▗\u001b[0m \u001b[32m▄\u001b[0m│ \n",
            "││       \u001b[34m▘\u001b[0m\u001b[34m▖\u001b[0m              \u001b[32m▗\u001b[0m\u001b[32m▖\u001b[0m           \u001b[35m▝\u001b[0m\u001b[32m▀\u001b[0m\u001b[32m▌\u001b[0m               \u001b[32m▗\u001b[0m\u001b[32m▄\u001b[0m\u001b[32m▀\u001b[0m\u001b[32m▀\u001b[0m\u001b[35m▝\u001b[0m│ \n",
            "││       \u001b[34m▝\u001b[0m\u001b[34m▝\u001b[0m\u001b[34m▄\u001b[0m            \u001b[32m▗\u001b[0m\u001b[32m▘\u001b[0m              \u001b[32m▝\u001b[0m\u001b[32m▀\u001b[0m\u001b[32m▘\u001b[0m           \u001b[32m▐\u001b[0m\u001b[32m▄\u001b[0m\u001b[32m▘\u001b[0m    │ \n",
            "││          \u001b[34m▚\u001b[0m          \u001b[32m▗\u001b[0m\u001b[32m▘\u001b[0m                 \u001b[32m▀\u001b[0m\u001b[32m▄\u001b[0m\u001b[32m▖\u001b[0m       \u001b[32m▗\u001b[0m\u001b[32m▀\u001b[0m\u001b[32m▘\u001b[0m\u001b[35m▘\u001b[0m     │ 0\n",
            "││           \u001b[34m▚\u001b[0m         \u001b[32m▝\u001b[0m                  \u001b[35m▝\u001b[0m\u001b[35m▀\u001b[0m\u001b[32m▀\u001b[0m\u001b[32m▄\u001b[0m\u001b[32m▄\u001b[0m\u001b[32m▄\u001b[0m\u001b[32m▄\u001b[0m \u001b[32m▄\u001b[0m\u001b[32m▀\u001b[0m\u001b[32m▀\u001b[0m        │ \n",
            "││           \u001b[34m▝\u001b[0m\u001b[34m▖\u001b[0m      \u001b[32m▝\u001b[0m\u001b[32m▄\u001b[0m\u001b[32m▖\u001b[0m                    \u001b[35m▀\u001b[0m\u001b[35m▀\u001b[0m\u001b[35m▀\u001b[0m\u001b[35m▄\u001b[0m\u001b[32m▘\u001b[0m\u001b[32m▀\u001b[0m\u001b[32m▘\u001b[0m          │ \n",
            "││            \u001b[34m▗\u001b[0m\u001b[34m▄\u001b[0m    \u001b[34m▗\u001b[0m\u001b[32m▖\u001b[0m\u001b[35m▀\u001b[0m                                      │ \n",
            "││              \u001b[34m▀\u001b[0m\u001b[34m▄\u001b[0m\u001b[34m▄\u001b[0m\u001b[34m▄\u001b[0m\u001b[34m▘\u001b[0m                                        │ \n",
            "└────────────────────────────────────────────────────────────┘\n",
            " 0                  50                  100\n",
            "                          \u001b[34m██\u001b[0m Input\n",
            "                          \u001b[35m██\u001b[0m Target\n",
            "                          \u001b[32m██\u001b[0m Output\n",
            "           Epoch: 3, Test Loss: 0.0110 - Example 1\n",
            "┌────────────────────────────────────────────────────────────┐\n",
            "││              \u001b[34m▄\u001b[0m\u001b[34m▀\u001b[0m\u001b[34m▀\u001b[0m\u001b[34m▀\u001b[0m\u001b[34m▀\u001b[0m\u001b[35m▄\u001b[0m                                       │ \n",
            "││            \u001b[34m▄\u001b[0m\u001b[34m▞\u001b[0m     \u001b[32m▗\u001b[0m\u001b[32m▄\u001b[0m\u001b[32m▄\u001b[0m                                     │ 1\n",
            "││           \u001b[34m▝\u001b[0m         \u001b[32m▝\u001b[0m\u001b[32m▀\u001b[0m\u001b[32m▄\u001b[0m                    \u001b[32m▖\u001b[0m\u001b[32m▄\u001b[0m\u001b[32m▄\u001b[0m            │ \n",
            "││           \u001b[34m▞\u001b[0m           \u001b[35m▝\u001b[0m\u001b[32m▀\u001b[0m\u001b[32m▚\u001b[0m               \u001b[32m▗\u001b[0m\u001b[32m▄\u001b[0m\u001b[32m▀\u001b[0m\u001b[32m▀\u001b[0m \u001b[35m▀\u001b[0m\u001b[32m▀\u001b[0m\u001b[32m▀\u001b[0m\u001b[32m▀\u001b[0m\u001b[32m▀\u001b[0m\u001b[32m▄\u001b[0m\u001b[32m▄\u001b[0m\u001b[32m▖\u001b[0m     │ \n",
            "││         \u001b[34m▗\u001b[0m\u001b[34m▀\u001b[0m              \u001b[32m▝\u001b[0m\u001b[32m▀\u001b[0m\u001b[32m▘\u001b[0m           \u001b[32m▝\u001b[0m\u001b[32m▄\u001b[0m\u001b[32m▘\u001b[0m\u001b[35m▘\u001b[0m       \u001b[35m▝\u001b[0m\u001b[35m▀\u001b[0m\u001b[35m▀\u001b[0m\u001b[32m▝\u001b[0m\u001b[32m▜\u001b[0m    │ \n",
            "││         \u001b[34m▞\u001b[0m                 \u001b[32m▝\u001b[0m\u001b[32m▄\u001b[0m\u001b[32m▖\u001b[0m        \u001b[32m▛\u001b[0m\u001b[32m▘\u001b[0m\u001b[35m▘\u001b[0m             \u001b[35m▐\u001b[0m\u001b[32m▀\u001b[0m\u001b[32m▘\u001b[0m  │ 0\n",
            "││        \u001b[34m▞\u001b[0m                  \u001b[35m▝\u001b[0m\u001b[35m▀\u001b[0m\u001b[32m▝\u001b[0m\u001b[32m▙\u001b[0m\u001b[32m▄\u001b[0m\u001b[32m▄\u001b[0m\u001b[32m▗\u001b[0m\u001b[32m▖\u001b[0m\u001b[32m▗\u001b[0m\u001b[32m▛\u001b[0m\u001b[32m▀\u001b[0m\u001b[35m▘\u001b[0m                \u001b[35m▝\u001b[0m\u001b[32m▝\u001b[0m\u001b[32m▄\u001b[0m │ \n",
            "│\u001b[34m▌\u001b[0m      \u001b[34m▄\u001b[0m                      \u001b[35m▝\u001b[0m\u001b[35m▀\u001b[0m\u001b[35m▀\u001b[0m\u001b[35m▙\u001b[0m\u001b[32m▘\u001b[0m\u001b[32m▀\u001b[0m\u001b[32m▘\u001b[0m                    \u001b[35m▝\u001b[0m\u001b[35m▄\u001b[0m\u001b[32m▜\u001b[0m│ \n",
            "│\u001b[34m▗\u001b[0m\u001b[34m▄\u001b[0m\u001b[34m▖\u001b[0m   \u001b[34m▗\u001b[0m \u001b[34m▀\u001b[0m           \u001b[32m▘\u001b[0m                                      \u001b[35m▚\u001b[0m│ \n",
            "││ \u001b[34m▀\u001b[0m\u001b[34m▄\u001b[0m\u001b[34m▄\u001b[0m\u001b[34m▄\u001b[0m\u001b[34m▌\u001b[0m                                                    \u001b[35m▝\u001b[0m│ \n",
            "└────────────────────────────────────────────────────────────┘\n",
            " 0                  50                  100\n",
            "                          \u001b[34m██\u001b[0m Input\n",
            "                          \u001b[35m██\u001b[0m Target\n",
            "                          \u001b[32m██\u001b[0m Output\n",
            "           Epoch: 3, Test Loss: 0.0118 - Example 2\n",
            "┌────────────────────────────────────────────────────────────┐\n",
            "││ \u001b[34m▞\u001b[0m\u001b[34m▀\u001b[0m\u001b[34m▀\u001b[0m\u001b[34m▀\u001b[0m\u001b[34m▀\u001b[0m\u001b[34m▚\u001b[0m\u001b[34m▄\u001b[0m                                                   │ \n",
            "│\u001b[34m▄\u001b[0m\u001b[34m▞\u001b[0m       \u001b[34m▀\u001b[0m\u001b[34m▄\u001b[0m                                                 │ 1\n",
            "││         \u001b[34m▝\u001b[0m\u001b[34m▚\u001b[0m\u001b[34m▄\u001b[0m                  \u001b[32m▗\u001b[0m\u001b[32m▄\u001b[0m\u001b[32m▄\u001b[0m\u001b[32m▄\u001b[0m\u001b[32m▄\u001b[0m\u001b[32m▄\u001b[0m\u001b[32m▖\u001b[0m                     \u001b[32m▗\u001b[0m│ \n",
            "││            \u001b[34m▚\u001b[0m             \u001b[32m▗\u001b[0m \u001b[32m▞\u001b[0m\u001b[32m▀\u001b[0m\u001b[32m▘\u001b[0m    \u001b[35m▀\u001b[0m\u001b[32m▀\u001b[0m\u001b[32m▀\u001b[0m\u001b[32m▀\u001b[0m\u001b[32m▀\u001b[0m\u001b[32m▙\u001b[0m\u001b[32m▄\u001b[0m               \u001b[32m▗\u001b[0m\u001b[32m▘\u001b[0m│ \n",
            "││             \u001b[34m▀\u001b[0m\u001b[34m▖\u001b[0m          \u001b[32m▗\u001b[0m\u001b[32m▘\u001b[0m\u001b[32m▀\u001b[0m            \u001b[35m▀\u001b[0m\u001b[35m▚\u001b[0m\u001b[32m▙\u001b[0m\u001b[32m▖\u001b[0m            \u001b[32m▝\u001b[0m\u001b[32m▘\u001b[0m │ \n",
            "││              \u001b[34m▝\u001b[0m\u001b[34m▜\u001b[0m   \u001b[32m▗\u001b[0m   \u001b[32m▟\u001b[0m\u001b[32m▀\u001b[0m\u001b[32m▘\u001b[0m                \u001b[35m▀\u001b[0m\u001b[32m▝\u001b[0m\u001b[32m▖\u001b[0m          \u001b[32m▄\u001b[0m\u001b[32m▀\u001b[0m  │ \n",
            "││                \u001b[34m▀\u001b[0m\u001b[34m▄\u001b[0m\u001b[34m▄\u001b[0m\u001b[32m▝\u001b[0m\u001b[32m▀\u001b[0m\u001b[32m▀\u001b[0m\u001b[32m▀\u001b[0m\u001b[35m▀\u001b[0m                   \u001b[35m▝\u001b[0m\u001b[32m▀\u001b[0m\u001b[32m▚\u001b[0m\u001b[32m▖\u001b[0m       \u001b[32m▗\u001b[0m\u001b[35m▘\u001b[0m   │ \n",
            "││                   \u001b[32m▖\u001b[0m                         \u001b[35m▚\u001b[0m\u001b[32m▚\u001b[0m\u001b[32m▖\u001b[0m    \u001b[32m▗\u001b[0m\u001b[32m▄\u001b[0m\u001b[32m▘\u001b[0m    │ \n",
            "││▁▁▁▁▁▁▁▁▁▁▁▁▁▁▁▁▁▁▁▁▁▁▁▁▁▁▁▁▁▁▁▁▁▁▁▁▁▁▁▁▁▁▁▁▁▁\u001b[35m▚\u001b[0m\u001b[32m▝\u001b[0m\u001b[32m▄\u001b[0m\u001b[32m▄\u001b[0m\u001b[32m▄\u001b[0m\u001b[32m▞\u001b[0m\u001b[32m▀\u001b[0m\u001b[35m▘\u001b[0m▁▁▁▁▁│ 0\n",
            "││                                               \u001b[35m▚\u001b[0m\u001b[35m▄\u001b[0m\u001b[35m▄\u001b[0m\u001b[35m▄\u001b[0m\u001b[35m▀\u001b[0m\u001b[35m▘\u001b[0m      │ \n",
            "└────────────────────────────────────────────────────────────┘\n",
            " 0                  50                  100\n",
            "                          \u001b[34m██\u001b[0m Input\n",
            "                          \u001b[35m██\u001b[0m Target\n",
            "                          \u001b[32m██\u001b[0m Output\n"
          ]
        },
        {
          "output_type": "stream",
          "name": "stderr",
          "text": [
            "100%|██████████| 107/107 [00:04<00:00, 25.87it/s]\n",
            "100%|██████████| 638/638 [01:13<00:00,  8.71it/s]\n",
            "100%|██████████| 107/107 [00:03<00:00, 27.68it/s]\n",
            "100%|██████████| 638/638 [01:13<00:00,  8.73it/s]\n",
            "100%|██████████| 107/107 [00:03<00:00, 29.66it/s]\n",
            "100%|██████████| 638/638 [01:12<00:00,  8.78it/s]\n",
            "  4%|▎         | 4/107 [00:00<00:05, 17.64it/s]"
          ]
        },
        {
          "output_type": "stream",
          "name": "stdout",
          "text": [
            "           Epoch: 6, Test Loss: 0.0025 - Example 0\n",
            "┌────────────────────────────────────────────────────────────┐\n",
            "│\u001b[34m▛\u001b[0m\u001b[34m▚\u001b[0m\u001b[34m▄\u001b[0m\u001b[34m▄\u001b[0m\u001b[34m▄\u001b[0m\u001b[34m▄\u001b[0m\u001b[34m▖\u001b[0m                     \u001b[32m▟\u001b[0m\u001b[32m▀\u001b[0m\u001b[32m▀\u001b[0m\u001b[32m▀\u001b[0m\u001b[32m▀\u001b[0m\u001b[32m▙\u001b[0m\u001b[32m▖\u001b[0m                         │ \n",
            "││     \u001b[34m▚\u001b[0m                   \u001b[32m▄\u001b[0m\u001b[32m▞\u001b[0m      \u001b[32m▝\u001b[0m\u001b[32m▀\u001b[0m\u001b[32m▖\u001b[0m                       │ 1\n",
            "││      \u001b[34m▀\u001b[0m\u001b[34m▖\u001b[0m                \u001b[32m▗\u001b[0m          \u001b[32m▝\u001b[0m\u001b[32m▖\u001b[0m                   \u001b[32m▗\u001b[0m \u001b[32m▄\u001b[0m│ \n",
            "││       \u001b[34m▘\u001b[0m\u001b[34m▖\u001b[0m              \u001b[35m▗\u001b[0m\u001b[32m▖\u001b[0m           \u001b[32m▝\u001b[0m\u001b[32m▀\u001b[0m\u001b[32m▘\u001b[0m               \u001b[32m▗\u001b[0m\u001b[32m▄\u001b[0m\u001b[32m▞\u001b[0m\u001b[32m▀\u001b[0m\u001b[35m▝\u001b[0m│ \n",
            "││       \u001b[34m▝\u001b[0m\u001b[34m▝\u001b[0m\u001b[34m▄\u001b[0m            \u001b[35m▗\u001b[0m\u001b[32m▜\u001b[0m              \u001b[32m▚\u001b[0m\u001b[32m▄\u001b[0m            \u001b[32m▗\u001b[0m\u001b[35m▗\u001b[0m\u001b[32m▀\u001b[0m    │ \n",
            "││          \u001b[34m▚\u001b[0m          \u001b[35m▗\u001b[0m\u001b[32m▀\u001b[0m                 \u001b[32m▚\u001b[0m          \u001b[32m▗\u001b[0m\u001b[32m▄\u001b[0m\u001b[32m▀\u001b[0m     │ 0\n",
            "││           \u001b[34m▄\u001b[0m         \u001b[32m▝\u001b[0m                  \u001b[32m▘\u001b[0m\u001b[32m▞\u001b[0m\u001b[32m▘\u001b[0m      \u001b[32m▄\u001b[0m\u001b[32m▟\u001b[0m\u001b[32m▘\u001b[0m       │ \n",
            "││           \u001b[34m▝\u001b[0m\u001b[34m▖\u001b[0m      \u001b[32m▗\u001b[0m\u001b[32m▗\u001b[0m\u001b[35m▘\u001b[0m                    \u001b[32m▀\u001b[0m\u001b[32m▀\u001b[0m\u001b[32m▀\u001b[0m\u001b[32m▄\u001b[0m\u001b[32m▙\u001b[0m\u001b[32m▄\u001b[0m\u001b[32m▛\u001b[0m          │ \n",
            "││            \u001b[34m▗\u001b[0m\u001b[34m▄\u001b[0m    \u001b[34m▗\u001b[0m\u001b[32m▘\u001b[0m\u001b[32m▖\u001b[0m\u001b[32m▘\u001b[0m                                     │ \n",
            "││              \u001b[34m▀\u001b[0m\u001b[34m▄\u001b[0m\u001b[34m▄\u001b[0m\u001b[34m▄\u001b[0m\u001b[34m▘\u001b[0m                                        │ \n",
            "└────────────────────────────────────────────────────────────┘\n",
            " 0                  50                  100\n",
            "                          \u001b[34m██\u001b[0m Input\n",
            "                          \u001b[35m██\u001b[0m Target\n",
            "                          \u001b[32m██\u001b[0m Output\n",
            "           Epoch: 6, Test Loss: 0.0041 - Example 1\n",
            "┌────────────────────────────────────────────────────────────┐\n",
            "││               \u001b[34m▄\u001b[0m\u001b[34m▄\u001b[0m\u001b[34m▄\u001b[0m\u001b[34m▄\u001b[0m\u001b[32m▝\u001b[0m                                       │ \n",
            "││             \u001b[34m▗\u001b[0m\u001b[34m▀\u001b[0m    \u001b[32m▗\u001b[0m\u001b[32m▚\u001b[0m\u001b[32m▄\u001b[0m                                     │ \n",
            "││           \u001b[34m▗\u001b[0m\u001b[34m▀\u001b[0m\u001b[34m▘\u001b[0m       \u001b[32m▝\u001b[0m\u001b[32m▚\u001b[0m                                    │ 1\n",
            "││           \u001b[34m▝\u001b[0m       \u001b[32m▖\u001b[0m  \u001b[35m▝\u001b[0m\u001b[32m▀\u001b[0m\u001b[32m▄\u001b[0m\u001b[32m▖\u001b[0m                 \u001b[32m▝\u001b[0m\u001b[32m▄\u001b[0m\u001b[32m▀\u001b[0m\u001b[32m▀\u001b[0m\u001b[32m▄\u001b[0m\u001b[32m▄\u001b[0m          │ \n",
            "││         \u001b[34m▗\u001b[0m\u001b[34m▄\u001b[0m\u001b[34m▘\u001b[0m             \u001b[32m▗\u001b[0m             \u001b[32m▗\u001b[0m\u001b[35m▗\u001b[0m\u001b[32m▞\u001b[0m\u001b[32m▛\u001b[0m\u001b[32m▘\u001b[0m    \u001b[35m▝\u001b[0m\u001b[32m▀\u001b[0m\u001b[32m▀\u001b[0m\u001b[32m▞\u001b[0m\u001b[32m▟\u001b[0m\u001b[32m▖\u001b[0m\u001b[32m▖\u001b[0m    │ \n",
            "││         \u001b[34m▄\u001b[0m                \u001b[32m▀\u001b[0m\u001b[32m▘\u001b[0m          \u001b[32m▗\u001b[0m\u001b[35m▀\u001b[0m\u001b[32m▙\u001b[0m            \u001b[32m▝\u001b[0m\u001b[32m▐\u001b[0m    │ \n",
            "││        \u001b[34m▝\u001b[0m                  \u001b[32m▝\u001b[0m\u001b[32m▞\u001b[0m\u001b[32m▖\u001b[0m       \u001b[32m▗\u001b[0m\u001b[32m▌\u001b[0m\u001b[32m▘\u001b[0m              \u001b[35m▝\u001b[0m\u001b[32m▀\u001b[0m\u001b[32m▘\u001b[0m  │ 0\n",
            "│\u001b[34m▌\u001b[0m        \u001b[34m▘\u001b[0m                    \u001b[32m▝\u001b[0m\u001b[32m▙\u001b[0m\u001b[32m▞\u001b[0m\u001b[32m▙\u001b[0m\u001b[32m▄\u001b[0m\u001b[32m▄\u001b[0m\u001b[32m▞\u001b[0m\u001b[32m▀\u001b[0m\u001b[32m▘\u001b[0m                  \u001b[32m▝\u001b[0m\u001b[32m▄\u001b[0m\u001b[32m▖\u001b[0m│ \n",
            "│\u001b[34m▗\u001b[0m\u001b[34m▄\u001b[0m    \u001b[34m▗\u001b[0m\u001b[34m▀\u001b[0m\u001b[34m▞\u001b[0m                                                  \u001b[32m▐\u001b[0m│ \n",
            "││ \u001b[34m▀\u001b[0m\u001b[34m▄\u001b[0m\u001b[34m▄\u001b[0m\u001b[34m▄\u001b[0m\u001b[34m▌\u001b[0m                                                    \u001b[35m▝\u001b[0m│ \n",
            "└────────────────────────────────────────────────────────────┘\n",
            " 0                  50                  100\n",
            "                          \u001b[34m██\u001b[0m Input\n",
            "                          \u001b[35m██\u001b[0m Target\n",
            "                          \u001b[32m██\u001b[0m Output\n",
            "           Epoch: 6, Test Loss: 0.0043 - Example 2\n",
            "┌────────────────────────────────────────────────────────────┐\n",
            "││ \u001b[34m▞\u001b[0m\u001b[34m▀\u001b[0m\u001b[34m▀\u001b[0m\u001b[34m▀\u001b[0m\u001b[34m▀\u001b[0m\u001b[34m▚\u001b[0m\u001b[34m▄\u001b[0m                                                   │ \n",
            "│\u001b[34m▄\u001b[0m\u001b[34m▞\u001b[0m       \u001b[34m▀\u001b[0m\u001b[34m▄\u001b[0m                                                 │ 1\n",
            "││         \u001b[34m▝\u001b[0m\u001b[34m▚\u001b[0m\u001b[34m▄\u001b[0m                  \u001b[32m▝\u001b[0m\u001b[32m▄\u001b[0m\u001b[32m▙\u001b[0m\u001b[32m▄\u001b[0m\u001b[32m▖\u001b[0m\u001b[32m▖\u001b[0m                      \u001b[32m▗\u001b[0m│ \n",
            "││            \u001b[34m▚\u001b[0m               \u001b[32m▞\u001b[0m\u001b[32m▄\u001b[0m\u001b[32m▘\u001b[0m   \u001b[32m▝\u001b[0m\u001b[32m▝\u001b[0m\u001b[32m▀\u001b[0m\u001b[32m▀\u001b[0m\u001b[32m▙\u001b[0m\u001b[32m▄\u001b[0m\u001b[32m▖\u001b[0m                \u001b[32m▗\u001b[0m\u001b[32m▖\u001b[0m│ \n",
            "││             \u001b[34m▀\u001b[0m\u001b[34m▖\u001b[0m           \u001b[32m▝\u001b[0m\u001b[32m▄\u001b[0m            \u001b[32m▝\u001b[0m\u001b[32m▀\u001b[0m              \u001b[32m▗\u001b[0m\u001b[32m▖\u001b[0m │ \n",
            "││              \u001b[34m▝\u001b[0m\u001b[34m▜\u001b[0m        \u001b[32m▗\u001b[0m\u001b[32m▞\u001b[0m\u001b[32m▘\u001b[0m               \u001b[32m▀\u001b[0m\u001b[32m▖\u001b[0m           \u001b[35m▗\u001b[0m\u001b[32m▄\u001b[0m  │ \n",
            "││                \u001b[34m▀\u001b[0m\u001b[34m▄\u001b[0m\u001b[34m▄\u001b[0m\u001b[32m▚\u001b[0m\u001b[32m▄\u001b[0m\u001b[32m▄\u001b[0m\u001b[32m▞\u001b[0m\u001b[32m▀\u001b[0m\u001b[32m▘\u001b[0m                  \u001b[32m▝\u001b[0m\u001b[32m▙\u001b[0m\u001b[32m▖\u001b[0m        \u001b[32m▗\u001b[0m\u001b[32m▀\u001b[0m   │ \n",
            "││                                             \u001b[32m▝\u001b[0m\u001b[32m▖\u001b[0m      \u001b[32m▄\u001b[0m\u001b[32m▞\u001b[0m    │ \n",
            "││▁▁▁▁▁▁▁▁▁▁▁▁▁▁▁▁▁▁▁▁▁▁▁▁▁▁▁▁▁▁▁▁▁▁▁▁▁▁▁▁▁▁▁▁▁▁\u001b[32m▝\u001b[0m\u001b[32m▚\u001b[0m\u001b[32m▄\u001b[0m\u001b[32m▄\u001b[0m\u001b[32m▄\u001b[0m\u001b[32m▄\u001b[0m\u001b[32m▀\u001b[0m\u001b[35m▘\u001b[0m▁▁▁▁▁│ 0\n",
            "││                                               \u001b[35m▚\u001b[0m\u001b[35m▄\u001b[0m\u001b[35m▄\u001b[0m\u001b[35m▄\u001b[0m\u001b[35m▀\u001b[0m\u001b[35m▘\u001b[0m      │ \n",
            "└────────────────────────────────────────────────────────────┘\n",
            " 0                  50                  100\n",
            "                          \u001b[34m██\u001b[0m Input\n",
            "                          \u001b[35m██\u001b[0m Target\n",
            "                          \u001b[32m██\u001b[0m Output\n"
          ]
        },
        {
          "output_type": "stream",
          "name": "stderr",
          "text": [
            "100%|██████████| 107/107 [00:03<00:00, 27.86it/s]\n",
            "100%|██████████| 638/638 [01:12<00:00,  8.78it/s]\n",
            "100%|██████████| 107/107 [00:04<00:00, 24.40it/s]\n",
            "100%|██████████| 638/638 [01:12<00:00,  8.78it/s]\n",
            "100%|██████████| 107/107 [00:03<00:00, 29.59it/s]\n",
            "100%|██████████| 638/638 [01:12<00:00,  8.80it/s]\n",
            "  4%|▎         | 4/107 [00:00<00:06, 17.13it/s]"
          ]
        },
        {
          "output_type": "stream",
          "name": "stdout",
          "text": [
            "           Epoch: 9, Test Loss: 0.0022 - Example 0\n",
            "┌────────────────────────────────────────────────────────────┐\n",
            "│\u001b[34m▄\u001b[0m\u001b[34m▚\u001b[0m\u001b[34m▄\u001b[0m\u001b[34m▄\u001b[0m\u001b[34m▄\u001b[0m\u001b[34m▄\u001b[0m\u001b[34m▖\u001b[0m                     \u001b[32m▐\u001b[0m\u001b[32m▀\u001b[0m\u001b[32m▀\u001b[0m\u001b[32m▀\u001b[0m\u001b[32m▀\u001b[0m\u001b[32m▙\u001b[0m                          │ \n",
            "││   \u001b[34m▘\u001b[0m \u001b[34m▚\u001b[0m                   \u001b[32m▗\u001b[0m\u001b[32m▞\u001b[0m\u001b[32m▘\u001b[0m    \u001b[35m▝\u001b[0m\u001b[32m▀\u001b[0m\u001b[32m▚\u001b[0m                        │ 1\n",
            "││      \u001b[34m▀\u001b[0m                 \u001b[32m▝\u001b[0m\u001b[32m▘\u001b[0m         \u001b[32m▀\u001b[0m\u001b[32m▖\u001b[0m                   \u001b[32m▗\u001b[0m \u001b[32m▖\u001b[0m│ \n",
            "││       \u001b[34m▘\u001b[0m\u001b[34m▖\u001b[0m              \u001b[32m▗\u001b[0m\u001b[35m▘\u001b[0m           \u001b[32m▀\u001b[0m\u001b[32m▀\u001b[0m\u001b[32m▖\u001b[0m               \u001b[32m▖\u001b[0m\u001b[32m▗\u001b[0m\u001b[32m▞\u001b[0m\u001b[32m▚\u001b[0m\u001b[32m▝\u001b[0m│ \n",
            "││       \u001b[34m▝\u001b[0m\u001b[34m▝\u001b[0m\u001b[34m▄\u001b[0m            \u001b[35m▗\u001b[0m\u001b[32m▘\u001b[0m\u001b[32m▘\u001b[0m             \u001b[32m▄\u001b[0m\u001b[32m▖\u001b[0m            \u001b[32m▗\u001b[0m\u001b[32m▖\u001b[0m\u001b[32m▝\u001b[0m\u001b[32m▘\u001b[0m   │ \n",
            "││          \u001b[34m▚\u001b[0m          \u001b[32m▗\u001b[0m\u001b[32m▚\u001b[0m\u001b[32m▝\u001b[0m               \u001b[32m▝\u001b[0m\u001b[32m▚\u001b[0m\u001b[32m▗\u001b[0m         \u001b[32m▗\u001b[0m\u001b[32m▖\u001b[0m\u001b[32m▗\u001b[0m     │ 0\n",
            "││           \u001b[34m▄\u001b[0m         \u001b[32m▗\u001b[0m                  \u001b[32m▘\u001b[0m\u001b[32m▖\u001b[0m\u001b[32m▖\u001b[0m      \u001b[32m▄\u001b[0m\u001b[32m▟\u001b[0m\u001b[32m▘\u001b[0m\u001b[32m▝\u001b[0m      │ \n",
            "││           \u001b[34m▝\u001b[0m\u001b[34m▖\u001b[0m      \u001b[32m▗\u001b[0m\u001b[32m▗\u001b[0m\u001b[35m▘\u001b[0m                    \u001b[32m▀\u001b[0m\u001b[32m▚\u001b[0m\u001b[32m▀\u001b[0m\u001b[32m▄\u001b[0m\u001b[32m▙\u001b[0m\u001b[32m▄\u001b[0m\u001b[32m▛\u001b[0m          │ \n",
            "││            \u001b[34m▗\u001b[0m\u001b[34m▄\u001b[0m    \u001b[34m▗\u001b[0m\u001b[32m▘\u001b[0m\u001b[32m▖\u001b[0m\u001b[32m▘\u001b[0m                                     │ \n",
            "││             \u001b[34m▝\u001b[0m\u001b[34m▀\u001b[0m\u001b[34m▄\u001b[0m\u001b[34m▄\u001b[0m\u001b[34m▄\u001b[0m\u001b[34m▘\u001b[0m                                        │ \n",
            "└────────────────────────────────────────────────────────────┘\n",
            " 0                  50                  100\n",
            "                          \u001b[34m██\u001b[0m Input\n",
            "                          \u001b[35m██\u001b[0m Target\n",
            "                          \u001b[32m██\u001b[0m Output\n",
            "           Epoch: 9, Test Loss: 0.0037 - Example 1\n",
            "┌────────────────────────────────────────────────────────────┐\n",
            "││               \u001b[34m▄\u001b[0m\u001b[34m▄\u001b[0m\u001b[34m▄\u001b[0m\u001b[34m▄\u001b[0m\u001b[32m▝\u001b[0m\u001b[32m▖\u001b[0m                                      │ \n",
            "││             \u001b[34m▗\u001b[0m\u001b[34m▀\u001b[0m    \u001b[35m▀\u001b[0m\u001b[32m▗\u001b[0m\u001b[32m▚\u001b[0m                                     │ \n",
            "││           \u001b[34m▗\u001b[0m\u001b[34m▀\u001b[0m\u001b[34m▘\u001b[0m     \u001b[32m▞\u001b[0m \u001b[35m▝\u001b[0m\u001b[32m▄\u001b[0m                                    │ 1\n",
            "││           \u001b[34m▝\u001b[0m          \u001b[35m▝\u001b[0m\u001b[32m▜\u001b[0m\u001b[32m▄\u001b[0m\u001b[32m▖\u001b[0m                 \u001b[32m▝\u001b[0m\u001b[32m▙\u001b[0m\u001b[32m▀\u001b[0m\u001b[32m▛\u001b[0m\u001b[32m▄\u001b[0m\u001b[32m▄\u001b[0m          │ \n",
            "││         \u001b[34m▗\u001b[0m\u001b[34m▄\u001b[0m\u001b[34m▘\u001b[0m             \u001b[32m▗\u001b[0m             \u001b[32m▗\u001b[0m\u001b[35m▗\u001b[0m\u001b[32m▚\u001b[0m\u001b[32m▛\u001b[0m\u001b[32m▘\u001b[0m    \u001b[32m▘\u001b[0m\u001b[32m▀\u001b[0m\u001b[32m▀\u001b[0m\u001b[32m▄\u001b[0m\u001b[32m▄\u001b[0m\u001b[32m▖\u001b[0m\u001b[32m▖\u001b[0m    │ \n",
            "││         \u001b[34m▄\u001b[0m                \u001b[32m▀\u001b[0m\u001b[32m▘\u001b[0m          \u001b[32m▗\u001b[0m\u001b[35m▀\u001b[0m\u001b[32m▘\u001b[0m            \u001b[32m▝\u001b[0m\u001b[32m▝\u001b[0m    │ \n",
            "││        \u001b[34m▝\u001b[0m                  \u001b[32m▝\u001b[0m\u001b[32m▞\u001b[0m\u001b[32m▖\u001b[0m      \u001b[32m▖\u001b[0m\u001b[32m▗\u001b[0m\u001b[32m▌\u001b[0m\u001b[32m▘\u001b[0m\u001b[32m▀\u001b[0m             \u001b[32m▝\u001b[0m\u001b[32m▀\u001b[0m\u001b[32m▖\u001b[0m  │ 0\n",
            "│\u001b[34m▌\u001b[0m        \u001b[34m▘\u001b[0m                    \u001b[32m▝\u001b[0m\u001b[32m▙\u001b[0m\u001b[32m▞\u001b[0m\u001b[32m▙\u001b[0m\u001b[32m▄\u001b[0m\u001b[32m▄\u001b[0m\u001b[32m▄\u001b[0m\u001b[32m▀\u001b[0m\u001b[32m▘\u001b[0m                  \u001b[32m▝\u001b[0m\u001b[32m▄\u001b[0m │ \n",
            "│\u001b[34m▗\u001b[0m\u001b[34m▄\u001b[0m    \u001b[34m▗\u001b[0m\u001b[34m▀\u001b[0m\u001b[34m▞\u001b[0m                                                  \u001b[32m▜\u001b[0m│ \n",
            "││ \u001b[34m▀\u001b[0m\u001b[34m▄\u001b[0m\u001b[34m▄\u001b[0m\u001b[34m▄\u001b[0m\u001b[34m▌\u001b[0m                                                    \u001b[35m▝\u001b[0m│ \n",
            "└────────────────────────────────────────────────────────────┘\n",
            " 0                  50                  100\n",
            "                          \u001b[34m██\u001b[0m Input\n",
            "                          \u001b[35m██\u001b[0m Target\n",
            "                          \u001b[32m██\u001b[0m Output\n",
            "           Epoch: 9, Test Loss: 0.0047 - Example 2\n",
            "┌────────────────────────────────────────────────────────────┐\n",
            "││ \u001b[34m▞\u001b[0m\u001b[34m▀\u001b[0m\u001b[34m▀\u001b[0m\u001b[34m▀\u001b[0m\u001b[34m▀\u001b[0m\u001b[34m▚\u001b[0m\u001b[34m▄\u001b[0m                                                   │ \n",
            "│\u001b[34m▄\u001b[0m\u001b[34m▞\u001b[0m       \u001b[34m▀\u001b[0m\u001b[34m▄\u001b[0m                                                 │ 1\n",
            "││         \u001b[34m▝\u001b[0m\u001b[34m▚\u001b[0m\u001b[34m▄\u001b[0m                  \u001b[32m▝\u001b[0m\u001b[32m▄\u001b[0m\u001b[32m▚\u001b[0m\u001b[32m▄\u001b[0m\u001b[32m▖\u001b[0m\u001b[32m▖\u001b[0m                      \u001b[32m▗\u001b[0m│ \n",
            "││            \u001b[34m▚\u001b[0m             \u001b[32m▗\u001b[0m \u001b[32m▚\u001b[0m\u001b[32m▄\u001b[0m\u001b[32m▘\u001b[0m \u001b[32m▘\u001b[0m \u001b[32m▝\u001b[0m\u001b[32m▝\u001b[0m\u001b[32m▀\u001b[0m\u001b[32m▀\u001b[0m\u001b[32m▄\u001b[0m\u001b[32m▄\u001b[0m\u001b[35m▖\u001b[0m                \u001b[32m▗\u001b[0m\u001b[35m▘\u001b[0m│ \n",
            "││             \u001b[34m▀\u001b[0m\u001b[34m▖\u001b[0m           \u001b[35m▚\u001b[0m\u001b[32m▝\u001b[0m            \u001b[32m▀\u001b[0m\u001b[32m▀\u001b[0m              \u001b[32m▝\u001b[0m\u001b[35m▘\u001b[0m\u001b[32m▘\u001b[0m│ \n",
            "││              \u001b[34m▝\u001b[0m\u001b[34m▜\u001b[0m        \u001b[35m▄\u001b[0m\u001b[32m▟\u001b[0m\u001b[32m▘\u001b[0m\u001b[32m▀\u001b[0m              \u001b[32m▀\u001b[0m\u001b[32m▖\u001b[0m           \u001b[35m▗\u001b[0m\u001b[32m▄\u001b[0m\u001b[32m▘\u001b[0m │ \n",
            "││                \u001b[34m▀\u001b[0m\u001b[34m▄\u001b[0m\u001b[34m▄\u001b[0m\u001b[32m▄\u001b[0m\u001b[32m▄\u001b[0m\u001b[32m▄\u001b[0m\u001b[32m▄\u001b[0m\u001b[32m▀\u001b[0m\u001b[32m▀\u001b[0m                  \u001b[32m▝\u001b[0m\u001b[32m▙\u001b[0m         \u001b[32m▗\u001b[0m\u001b[32m▀\u001b[0m   │ \n",
            "││                                             \u001b[32m▀\u001b[0m\u001b[32m▖\u001b[0m      \u001b[32m▗\u001b[0m\u001b[32m▞\u001b[0m    │ \n",
            "││▁▁▁▁▁▁▁▁▁▁▁▁▁▁▁▁▁▁▁▁▁▁▁▁▁▁▁▁▁▁▁▁▁▁▁▁▁▁▁▁▁▁▁▁▁▁\u001b[32m▝\u001b[0m\u001b[32m▚\u001b[0m\u001b[32m▄\u001b[0m\u001b[32m▄\u001b[0m\u001b[32m▄\u001b[0m\u001b[32m▄\u001b[0m\u001b[32m▀\u001b[0m\u001b[32m▘\u001b[0m▁▁▁▁▁│ 0\n",
            "││                                               \u001b[35m▚\u001b[0m\u001b[35m▄\u001b[0m\u001b[35m▄\u001b[0m\u001b[35m▄\u001b[0m\u001b[35m▀\u001b[0m\u001b[35m▘\u001b[0m      │ \n",
            "└────────────────────────────────────────────────────────────┘\n",
            " 0                  50                  100\n",
            "                          \u001b[34m██\u001b[0m Input\n",
            "                          \u001b[35m██\u001b[0m Target\n",
            "                          \u001b[32m██\u001b[0m Output\n"
          ]
        },
        {
          "output_type": "stream",
          "name": "stderr",
          "text": [
            "100%|██████████| 107/107 [00:03<00:00, 29.37it/s]\n",
            "100%|██████████| 638/638 [01:12<00:00,  8.81it/s]\n",
            "100%|██████████| 107/107 [00:03<00:00, 29.76it/s]\n",
            "100%|██████████| 638/638 [01:12<00:00,  8.75it/s]\n",
            "100%|██████████| 107/107 [00:04<00:00, 24.29it/s]\n",
            "100%|██████████| 638/638 [01:13<00:00,  8.72it/s]\n",
            "  2%|▏         | 2/107 [00:00<00:06, 15.08it/s]"
          ]
        },
        {
          "output_type": "stream",
          "name": "stdout",
          "text": [
            "           Epoch: 12, Test Loss: 0.0021 - Example 0\n",
            "┌────────────────────────────────────────────────────────────┐\n",
            "│\u001b[34m▞\u001b[0m\u001b[34m▚\u001b[0m\u001b[34m▄\u001b[0m\u001b[34m▄\u001b[0m\u001b[34m▄\u001b[0m\u001b[34m▄\u001b[0m\u001b[34m▖\u001b[0m                     \u001b[32m▐\u001b[0m\u001b[32m▀\u001b[0m\u001b[32m▀\u001b[0m\u001b[32m▀\u001b[0m\u001b[32m▀\u001b[0m\u001b[32m▙\u001b[0m                          │ \n",
            "││     \u001b[34m▚\u001b[0m                   \u001b[32m▗\u001b[0m\u001b[32m▞\u001b[0m\u001b[32m▘\u001b[0m    \u001b[35m▝\u001b[0m\u001b[32m▀\u001b[0m\u001b[32m▚\u001b[0m                        │ 1\n",
            "││      \u001b[34m▀\u001b[0m                 \u001b[32m▝\u001b[0m\u001b[32m▘\u001b[0m         \u001b[32m▀\u001b[0m\u001b[32m▖\u001b[0m                   \u001b[32m▗\u001b[0m \u001b[32m▖\u001b[0m│ \n",
            "││       \u001b[34m▘\u001b[0m\u001b[34m▖\u001b[0m              \u001b[32m▄\u001b[0m\u001b[35m▘\u001b[0m           \u001b[32m▝\u001b[0m\u001b[32m▀\u001b[0m\u001b[32m▖\u001b[0m               \u001b[32m▖\u001b[0m\u001b[32m▗\u001b[0m\u001b[32m▞\u001b[0m\u001b[32m▚\u001b[0m\u001b[32m▝\u001b[0m│ \n",
            "││       \u001b[34m▝\u001b[0m\u001b[34m▝\u001b[0m\u001b[34m▄\u001b[0m            \u001b[32m▖\u001b[0m\u001b[35m▞\u001b[0m\u001b[32m▘\u001b[0m             \u001b[32m▄\u001b[0m\u001b[32m▄\u001b[0m            \u001b[32m▗\u001b[0m\u001b[32m▖\u001b[0m\u001b[32m▝\u001b[0m\u001b[32m▘\u001b[0m   │ \n",
            "││          \u001b[34m▚\u001b[0m          \u001b[32m▗\u001b[0m\u001b[32m▗\u001b[0m\u001b[32m▝\u001b[0m                \u001b[32m▚\u001b[0m\u001b[32m▗\u001b[0m         \u001b[32m▗\u001b[0m\u001b[32m▄\u001b[0m\u001b[32m▗\u001b[0m     │ 0\n",
            "││           \u001b[34m▄\u001b[0m         \u001b[32m▗\u001b[0m                  \u001b[32m▘\u001b[0m\u001b[32m▖\u001b[0m\u001b[32m▖\u001b[0m      \u001b[32m▄\u001b[0m\u001b[32m▟\u001b[0m\u001b[32m▘\u001b[0m       │ \n",
            "││           \u001b[34m▝\u001b[0m\u001b[34m▖\u001b[0m      \u001b[32m▄\u001b[0m\u001b[32m▗\u001b[0m\u001b[35m▘\u001b[0m                    \u001b[32m▀\u001b[0m\u001b[32m▚\u001b[0m\u001b[32m▀\u001b[0m\u001b[32m▄\u001b[0m\u001b[32m▙\u001b[0m\u001b[32m▄\u001b[0m\u001b[32m▛\u001b[0m          │ \n",
            "││            \u001b[34m▗\u001b[0m\u001b[34m▄\u001b[0m    \u001b[34m▗\u001b[0m\u001b[35m▚\u001b[0m\u001b[32m▖\u001b[0m\u001b[32m▘\u001b[0m                                     │ \n",
            "││             \u001b[34m▝\u001b[0m\u001b[34m▀\u001b[0m\u001b[34m▄\u001b[0m\u001b[34m▄\u001b[0m\u001b[34m▄\u001b[0m\u001b[34m▘\u001b[0m                                        │ \n",
            "└────────────────────────────────────────────────────────────┘\n",
            " 0                  50                  100\n",
            "                          \u001b[34m██\u001b[0m Input\n",
            "                          \u001b[35m██\u001b[0m Target\n",
            "                          \u001b[32m██\u001b[0m Output\n",
            "           Epoch: 12, Test Loss: 0.0028 - Example 1\n",
            "┌────────────────────────────────────────────────────────────┐\n",
            "││              \u001b[34m▗\u001b[0m\u001b[34m▄\u001b[0m\u001b[34m▄\u001b[0m\u001b[34m▟\u001b[0m\u001b[34m▄\u001b[0m\u001b[32m▝\u001b[0m\u001b[32m▖\u001b[0m                                      │ \n",
            "││             \u001b[34m▗\u001b[0m\u001b[34m▘\u001b[0m    \u001b[32m▗\u001b[0m\u001b[32m▗\u001b[0m\u001b[32m▚\u001b[0m                                     │ \n",
            "││           \u001b[34m▝\u001b[0m\u001b[34m▀\u001b[0m\u001b[34m▘\u001b[0m     \u001b[32m▘\u001b[0m \u001b[35m▝\u001b[0m\u001b[32m▚\u001b[0m                                    │ 1\n",
            "││           \u001b[34m▝\u001b[0m           \u001b[32m▀\u001b[0m\u001b[32m▄\u001b[0m\u001b[32m▖\u001b[0m                \u001b[35m▗\u001b[0m\u001b[32m▝\u001b[0m\u001b[32m▙\u001b[0m\u001b[32m▀\u001b[0m\u001b[32m▀\u001b[0m\u001b[32m▄\u001b[0m\u001b[32m▄\u001b[0m\u001b[32m▗\u001b[0m\u001b[32m▗\u001b[0m        │ \n",
            "││         \u001b[34m▗\u001b[0m\u001b[34m▄\u001b[0m\u001b[34m▘\u001b[0m             \u001b[32m▗\u001b[0m             \u001b[32m▗\u001b[0m\u001b[35m▗\u001b[0m\u001b[32m▀\u001b[0m\u001b[32m▀\u001b[0m\u001b[32m▘\u001b[0m     \u001b[32m▘\u001b[0m\u001b[32m▀\u001b[0m\u001b[32m▀\u001b[0m\u001b[32m▜\u001b[0m\u001b[32m▖\u001b[0m\u001b[32m▖\u001b[0m    │ \n",
            "││         \u001b[34m▞\u001b[0m                \u001b[32m▀\u001b[0m\u001b[32m▚\u001b[0m          \u001b[32m▗\u001b[0m\u001b[35m▀\u001b[0m\u001b[32m▚\u001b[0m            \u001b[32m▝\u001b[0m\u001b[32m▐\u001b[0m    │ \n",
            "││        \u001b[34m▝\u001b[0m                  \u001b[32m▝\u001b[0m\u001b[32m▞\u001b[0m\u001b[32m▖\u001b[0m      \u001b[32m▖\u001b[0m\u001b[32m▄\u001b[0m\u001b[32m▘\u001b[0m\u001b[32m▘\u001b[0m\u001b[32m▘\u001b[0m              \u001b[32m▀\u001b[0m\u001b[32m▘\u001b[0m  │ 0\n",
            "│\u001b[34m▌\u001b[0m        \u001b[34m▘\u001b[0m                    \u001b[32m▝\u001b[0m\u001b[32m▙\u001b[0m\u001b[32m▞\u001b[0m\u001b[32m▙\u001b[0m\u001b[32m▞\u001b[0m\u001b[32m▄\u001b[0m\u001b[32m▞\u001b[0m\u001b[32m▀\u001b[0m                   \u001b[32m▝\u001b[0m\u001b[32m▄\u001b[0m │ \n",
            "│\u001b[34m▗\u001b[0m\u001b[34m▄\u001b[0m    \u001b[34m▗\u001b[0m\u001b[34m▀\u001b[0m\u001b[34m▛\u001b[0m                                                  \u001b[32m▜\u001b[0m│ \n",
            "││ \u001b[34m▀\u001b[0m\u001b[34m▄\u001b[0m\u001b[34m▄\u001b[0m\u001b[34m▄\u001b[0m\u001b[34m▌\u001b[0m                                                    \u001b[35m▝\u001b[0m│ \n",
            "└────────────────────────────────────────────────────────────┘\n",
            " 0                  50                  100\n",
            "                          \u001b[34m██\u001b[0m Input\n",
            "                          \u001b[35m██\u001b[0m Target\n",
            "                          \u001b[32m██\u001b[0m Output\n",
            "           Epoch: 12, Test Loss: 0.0036 - Example 2\n",
            "┌────────────────────────────────────────────────────────────┐\n",
            "││ \u001b[34m▞\u001b[0m\u001b[34m▀\u001b[0m\u001b[34m▀\u001b[0m\u001b[34m▀\u001b[0m\u001b[34m▀\u001b[0m\u001b[34m▚\u001b[0m\u001b[34m▄\u001b[0m                                                   │ \n",
            "│\u001b[34m▄\u001b[0m\u001b[34m▞\u001b[0m       \u001b[34m▀\u001b[0m\u001b[34m▄\u001b[0m                                                 │ 1\n",
            "││         \u001b[34m▝\u001b[0m\u001b[34m▚\u001b[0m\u001b[34m▄\u001b[0m                  \u001b[32m▝\u001b[0m\u001b[32m▄\u001b[0m\u001b[32m▚\u001b[0m\u001b[32m▄\u001b[0m\u001b[32m▖\u001b[0m\u001b[32m▖\u001b[0m                      \u001b[32m▗\u001b[0m│ \n",
            "││            \u001b[34m▚\u001b[0m             \u001b[32m▗\u001b[0m \u001b[32m▚\u001b[0m\u001b[32m▄\u001b[0m\u001b[32m▘\u001b[0m \u001b[32m▘\u001b[0m \u001b[32m▝\u001b[0m\u001b[32m▝\u001b[0m\u001b[32m▀\u001b[0m\u001b[32m▀\u001b[0m\u001b[32m▄\u001b[0m\u001b[32m▄\u001b[0m\u001b[32m▖\u001b[0m                \u001b[32m▗\u001b[0m\u001b[35m▘\u001b[0m│ \n",
            "││             \u001b[34m▀\u001b[0m\u001b[34m▖\u001b[0m           \u001b[35m▚\u001b[0m\u001b[32m▝\u001b[0m            \u001b[32m▀\u001b[0m\u001b[32m▀\u001b[0m              \u001b[32m▝\u001b[0m\u001b[35m▘\u001b[0m\u001b[32m▘\u001b[0m│ \n",
            "││              \u001b[34m▝\u001b[0m\u001b[34m▜\u001b[0m        \u001b[35m▄\u001b[0m\u001b[32m▟\u001b[0m\u001b[32m▘\u001b[0m\u001b[32m▀\u001b[0m              \u001b[32m▀\u001b[0m\u001b[32m▖\u001b[0m           \u001b[32m▖\u001b[0m\u001b[32m▄\u001b[0m\u001b[32m▘\u001b[0m │ \n",
            "││                \u001b[34m▀\u001b[0m\u001b[34m▄\u001b[0m\u001b[34m▄\u001b[0m\u001b[32m▄\u001b[0m\u001b[32m▄\u001b[0m\u001b[32m▄\u001b[0m\u001b[32m▄\u001b[0m\u001b[32m▀\u001b[0m\u001b[32m▀\u001b[0m                  \u001b[32m▝\u001b[0m\u001b[32m▙\u001b[0m         \u001b[32m▗\u001b[0m\u001b[32m▝\u001b[0m   │ \n",
            "││                                             \u001b[32m▀\u001b[0m\u001b[32m▖\u001b[0m      \u001b[32m▗\u001b[0m\u001b[32m▞\u001b[0m    │ \n",
            "││▁▁▁▁▁▁▁▁▁▁▁▁▁▁▁▁▁▁▁▁▁▁▁▁▁▁▁▁▁▁▁▁▁▁▁▁▁▁▁▁▁▁▁▁▁▁\u001b[32m▝\u001b[0m\u001b[32m▘\u001b[0m\u001b[32m▖\u001b[0m\u001b[32m▗\u001b[0m▁\u001b[32m▄\u001b[0m\u001b[32m▜\u001b[0m\u001b[32m▘\u001b[0m▁▁▁▁▁│ 0\n",
            "││                                               \u001b[32m▝\u001b[0m\u001b[32m▀\u001b[0m\u001b[32m▘\u001b[0m\u001b[32m▀\u001b[0m\u001b[35m▀\u001b[0m\u001b[35m▘\u001b[0m      │ \n",
            "└────────────────────────────────────────────────────────────┘\n",
            " 0                  50                  100\n",
            "                          \u001b[34m██\u001b[0m Input\n",
            "                          \u001b[35m██\u001b[0m Target\n",
            "                          \u001b[32m██\u001b[0m Output\n"
          ]
        },
        {
          "output_type": "stream",
          "name": "stderr",
          "text": [
            "100%|██████████| 107/107 [00:03<00:00, 27.82it/s]\n",
            "100%|██████████| 638/638 [01:14<00:00,  8.56it/s]\n",
            "100%|██████████| 107/107 [00:03<00:00, 29.69it/s]\n",
            "100%|██████████| 638/638 [01:13<00:00,  8.69it/s]\n",
            "100%|██████████| 107/107 [00:04<00:00, 24.61it/s]\n",
            "100%|██████████| 638/638 [01:13<00:00,  8.67it/s]\n",
            "  4%|▎         | 4/107 [00:00<00:06, 17.13it/s]"
          ]
        },
        {
          "output_type": "stream",
          "name": "stdout",
          "text": [
            "           Epoch: 15, Test Loss: 0.0018 - Example 0\n",
            "┌────────────────────────────────────────────────────────────┐\n",
            "│\u001b[34m▞\u001b[0m\u001b[34m▚\u001b[0m\u001b[34m▄\u001b[0m\u001b[34m▄\u001b[0m\u001b[34m▄\u001b[0m\u001b[34m▄\u001b[0m\u001b[34m▖\u001b[0m                     \u001b[32m▐\u001b[0m\u001b[32m▀\u001b[0m\u001b[32m▀\u001b[0m\u001b[32m▀\u001b[0m\u001b[32m▀\u001b[0m\u001b[32m▙\u001b[0m                          │ \n",
            "││     \u001b[34m▚\u001b[0m                   \u001b[32m▗\u001b[0m\u001b[32m▞\u001b[0m\u001b[32m▘\u001b[0m    \u001b[35m▝\u001b[0m\u001b[32m▀\u001b[0m\u001b[32m▚\u001b[0m                        │ 1\n",
            "││      \u001b[34m▀\u001b[0m                 \u001b[32m▝\u001b[0m\u001b[32m▀\u001b[0m         \u001b[32m▀\u001b[0m\u001b[32m▖\u001b[0m                   \u001b[32m▗\u001b[0m \u001b[32m▖\u001b[0m│ \n",
            "││       \u001b[34m▘\u001b[0m\u001b[34m▖\u001b[0m              \u001b[32m▄\u001b[0m\u001b[35m▘\u001b[0m           \u001b[32m▝\u001b[0m\u001b[32m▀\u001b[0m\u001b[32m▘\u001b[0m               \u001b[32m▖\u001b[0m\u001b[32m▗\u001b[0m\u001b[32m▞\u001b[0m\u001b[32m▚\u001b[0m\u001b[32m▝\u001b[0m│ \n",
            "││       \u001b[34m▝\u001b[0m\u001b[34m▝\u001b[0m\u001b[34m▄\u001b[0m            \u001b[32m▖\u001b[0m\u001b[35m▀\u001b[0m\u001b[32m▘\u001b[0m             \u001b[32m▄\u001b[0m\u001b[32m▄\u001b[0m            \u001b[32m▗\u001b[0m\u001b[32m▖\u001b[0m\u001b[32m▝\u001b[0m\u001b[32m▘\u001b[0m   │ \n",
            "││          \u001b[34m▚\u001b[0m          \u001b[32m▗\u001b[0m\u001b[32m▗\u001b[0m\u001b[32m▝\u001b[0m                \u001b[32m▚\u001b[0m\u001b[32m▗\u001b[0m         \u001b[32m▗\u001b[0m\u001b[32m▄\u001b[0m\u001b[32m▗\u001b[0m     │ 0\n",
            "││           \u001b[34m▄\u001b[0m         \u001b[32m▗\u001b[0m                  \u001b[32m▘\u001b[0m\u001b[32m▖\u001b[0m\u001b[32m▖\u001b[0m      \u001b[32m▄\u001b[0m\u001b[32m▟\u001b[0m\u001b[32m▘\u001b[0m       │ \n",
            "││           \u001b[34m▝\u001b[0m\u001b[34m▖\u001b[0m      \u001b[32m▗\u001b[0m\u001b[32m▗\u001b[0m\u001b[35m▘\u001b[0m                    \u001b[32m▀\u001b[0m\u001b[32m▚\u001b[0m\u001b[32m▀\u001b[0m\u001b[32m▄\u001b[0m\u001b[32m▙\u001b[0m\u001b[32m▄\u001b[0m\u001b[32m▛\u001b[0m          │ \n",
            "││            \u001b[34m▗\u001b[0m\u001b[34m▄\u001b[0m    \u001b[34m▗\u001b[0m\u001b[32m▀\u001b[0m\u001b[32m▖\u001b[0m\u001b[32m▘\u001b[0m                                     │ \n",
            "││             \u001b[34m▝\u001b[0m\u001b[34m▀\u001b[0m\u001b[34m▄\u001b[0m\u001b[34m▄\u001b[0m\u001b[34m▄\u001b[0m\u001b[34m▘\u001b[0m                                        │ \n",
            "└────────────────────────────────────────────────────────────┘\n",
            " 0                  50                  100\n",
            "                          \u001b[34m██\u001b[0m Input\n",
            "                          \u001b[35m██\u001b[0m Target\n",
            "                          \u001b[32m██\u001b[0m Output\n",
            "           Epoch: 15, Test Loss: 0.0021 - Example 1\n",
            "┌────────────────────────────────────────────────────────────┐\n",
            "││              \u001b[34m▄\u001b[0m\u001b[34m▄\u001b[0m\u001b[34m▄\u001b[0m\u001b[34m▟\u001b[0m\u001b[34m▄\u001b[0m\u001b[32m▝\u001b[0m\u001b[32m▖\u001b[0m                                      │ \n",
            "││             \u001b[34m▐\u001b[0m     \u001b[32m▗\u001b[0m\u001b[32m▗\u001b[0m\u001b[32m▚\u001b[0m                                     │ \n",
            "││           \u001b[34m▝\u001b[0m\u001b[34m▀\u001b[0m\u001b[34m▘\u001b[0m     \u001b[32m▘\u001b[0m \u001b[35m▝\u001b[0m\u001b[32m▚\u001b[0m                                    │ 1\n",
            "││           \u001b[34m▝\u001b[0m           \u001b[32m▀\u001b[0m\u001b[32m▞\u001b[0m\u001b[32m▖\u001b[0m                \u001b[35m▗\u001b[0m\u001b[32m▞\u001b[0m\u001b[32m▙\u001b[0m\u001b[32m▀\u001b[0m\u001b[32m▀\u001b[0m\u001b[32m▚\u001b[0m\u001b[32m▄\u001b[0m\u001b[32m▗\u001b[0m\u001b[32m▗\u001b[0m        │ \n",
            "││         \u001b[34m▗\u001b[0m\u001b[34m▞\u001b[0m\u001b[34m▘\u001b[0m             \u001b[32m▗\u001b[0m\u001b[32m▖\u001b[0m            \u001b[32m▗\u001b[0m\u001b[35m▗\u001b[0m\u001b[32m▀\u001b[0m\u001b[32m▀\u001b[0m      \u001b[32m▘\u001b[0m\u001b[32m▀\u001b[0m\u001b[32m▀\u001b[0m\u001b[32m▜\u001b[0m\u001b[32m▄\u001b[0m\u001b[32m▖\u001b[0m    │ \n",
            "││         \u001b[34m▞\u001b[0m                \u001b[32m▝\u001b[0m\u001b[32m▚\u001b[0m\u001b[32m▗\u001b[0m         \u001b[32m▗\u001b[0m\u001b[35m▀\u001b[0m\u001b[32m▚\u001b[0m             \u001b[32m▐\u001b[0m    │ \n",
            "││        \u001b[34m▝\u001b[0m                  \u001b[32m▝\u001b[0m\u001b[32m▖\u001b[0m\u001b[32m▖\u001b[0m      \u001b[32m▖\u001b[0m\u001b[32m▄\u001b[0m\u001b[32m▘\u001b[0m\u001b[32m▘\u001b[0m\u001b[32m▘\u001b[0m              \u001b[32m▀\u001b[0m\u001b[32m▘\u001b[0m  │ 0\n",
            "│\u001b[34m▌\u001b[0m      \u001b[34m▗\u001b[0m \u001b[34m▘\u001b[0m                    \u001b[32m▝\u001b[0m\u001b[32m▙\u001b[0m\u001b[32m▞\u001b[0m\u001b[32m▙\u001b[0m\u001b[32m▞\u001b[0m\u001b[32m▄\u001b[0m\u001b[32m▞\u001b[0m\u001b[32m▀\u001b[0m                   \u001b[32m▝\u001b[0m\u001b[32m▄\u001b[0m │ \n",
            "│\u001b[34m▗\u001b[0m\u001b[34m▄\u001b[0m    \u001b[34m▗\u001b[0m\u001b[34m▘\u001b[0m\u001b[34m▛\u001b[0m                                                  \u001b[32m▜\u001b[0m│ \n",
            "││ \u001b[34m▀\u001b[0m\u001b[34m▄\u001b[0m\u001b[34m▄\u001b[0m\u001b[34m▄\u001b[0m\u001b[34m▌\u001b[0m                                                    \u001b[35m▝\u001b[0m│ \n",
            "└────────────────────────────────────────────────────────────┘\n",
            " 0                  50                  100\n",
            "                          \u001b[34m██\u001b[0m Input\n",
            "                          \u001b[35m██\u001b[0m Target\n",
            "                          \u001b[32m██\u001b[0m Output\n",
            "           Epoch: 15, Test Loss: 0.0027 - Example 2\n",
            "┌────────────────────────────────────────────────────────────┐\n",
            "││ \u001b[34m▞\u001b[0m\u001b[34m▀\u001b[0m\u001b[34m▀\u001b[0m\u001b[34m▀\u001b[0m\u001b[34m▀\u001b[0m\u001b[34m▚\u001b[0m\u001b[34m▄\u001b[0m                                                   │ \n",
            "│\u001b[34m▄\u001b[0m\u001b[34m▞\u001b[0m       \u001b[34m▀\u001b[0m\u001b[34m▄\u001b[0m                                                 │ 1\n",
            "││         \u001b[34m▝\u001b[0m\u001b[34m▚\u001b[0m\u001b[34m▄\u001b[0m                  \u001b[32m▝\u001b[0m\u001b[32m▄\u001b[0m\u001b[32m▚\u001b[0m\u001b[32m▄\u001b[0m\u001b[32m▖\u001b[0m\u001b[32m▖\u001b[0m                      \u001b[32m▗\u001b[0m│ \n",
            "││            \u001b[34m▚\u001b[0m             \u001b[32m▗\u001b[0m \u001b[32m▚\u001b[0m\u001b[32m▄\u001b[0m\u001b[32m▘\u001b[0m \u001b[32m▘\u001b[0m \u001b[32m▝\u001b[0m\u001b[32m▝\u001b[0m\u001b[32m▀\u001b[0m\u001b[32m▀\u001b[0m\u001b[32m▙\u001b[0m\u001b[32m▄\u001b[0m\u001b[32m▖\u001b[0m                \u001b[32m▗\u001b[0m\u001b[35m▘\u001b[0m│ \n",
            "││             \u001b[34m▀\u001b[0m\u001b[34m▖\u001b[0m          \u001b[32m▗\u001b[0m\u001b[35m▚\u001b[0m\u001b[32m▝\u001b[0m            \u001b[32m▀\u001b[0m\u001b[32m▀\u001b[0m              \u001b[32m▝\u001b[0m\u001b[35m▘\u001b[0m\u001b[32m▘\u001b[0m│ \n",
            "││              \u001b[34m▝\u001b[0m\u001b[34m▜\u001b[0m        \u001b[35m▄\u001b[0m\u001b[32m▄\u001b[0m\u001b[32m▘\u001b[0m\u001b[32m▀\u001b[0m              \u001b[32m▀\u001b[0m\u001b[32m▖\u001b[0m           \u001b[32m▖\u001b[0m\u001b[32m▖\u001b[0m\u001b[32m▘\u001b[0m │ \n",
            "││                \u001b[34m▀\u001b[0m\u001b[34m▄\u001b[0m\u001b[34m▄\u001b[0m\u001b[32m▄\u001b[0m\u001b[32m▄\u001b[0m\u001b[32m▄\u001b[0m\u001b[32m▄\u001b[0m\u001b[32m▀\u001b[0m\u001b[32m▀\u001b[0m                  \u001b[32m▝\u001b[0m\u001b[32m▙\u001b[0m         \u001b[35m▝\u001b[0m\u001b[32m▗\u001b[0m\u001b[32m▝\u001b[0m  │ \n",
            "││                                             \u001b[32m▀\u001b[0m\u001b[32m▖\u001b[0m      \u001b[32m▗\u001b[0m\u001b[32m▞\u001b[0m    │ \n",
            "││▁▁▁▁▁▁▁▁▁▁▁▁▁▁▁▁▁▁▁▁▁▁▁▁▁▁▁▁▁▁▁▁▁▁▁▁▁▁▁▁▁▁▁▁▁▁\u001b[32m▀\u001b[0m\u001b[32m▘\u001b[0m▁▁▁\u001b[32m▄\u001b[0m\u001b[32m▟\u001b[0m\u001b[32m▘\u001b[0m▁▁▁▁▁│ 0\n",
            "││                                               \u001b[32m▝\u001b[0m\u001b[32m▀\u001b[0m\u001b[32m▀\u001b[0m\u001b[32m▀\u001b[0m\u001b[35m▀\u001b[0m\u001b[35m▘\u001b[0m      │ \n",
            "└────────────────────────────────────────────────────────────┘\n",
            " 0                  50                  100\n",
            "                          \u001b[34m██\u001b[0m Input\n",
            "                          \u001b[35m██\u001b[0m Target\n",
            "                          \u001b[32m██\u001b[0m Output\n"
          ]
        },
        {
          "output_type": "stream",
          "name": "stderr",
          "text": [
            "100%|██████████| 107/107 [00:03<00:00, 28.75it/s]\n",
            "100%|██████████| 638/638 [01:13<00:00,  8.62it/s]\n",
            "100%|██████████| 107/107 [00:03<00:00, 27.74it/s]\n",
            "100%|██████████| 638/638 [01:15<00:00,  8.48it/s]\n",
            "100%|██████████| 107/107 [00:03<00:00, 27.44it/s]\n",
            "100%|██████████| 638/638 [01:16<00:00,  8.36it/s]\n",
            "  2%|▏         | 2/107 [00:00<00:07, 13.46it/s]"
          ]
        },
        {
          "output_type": "stream",
          "name": "stdout",
          "text": [
            "           Epoch: 18, Test Loss: 0.0016 - Example 0\n",
            "┌────────────────────────────────────────────────────────────┐\n",
            "│\u001b[34m▞\u001b[0m\u001b[34m▚\u001b[0m\u001b[34m▄\u001b[0m\u001b[34m▄\u001b[0m\u001b[34m▄\u001b[0m\u001b[34m▄\u001b[0m\u001b[34m▖\u001b[0m                     \u001b[32m▐\u001b[0m\u001b[32m▀\u001b[0m\u001b[32m▀\u001b[0m\u001b[32m▀\u001b[0m\u001b[32m▀\u001b[0m\u001b[32m▙\u001b[0m                          │ \n",
            "││     \u001b[34m▚\u001b[0m                   \u001b[32m▗\u001b[0m\u001b[32m▞\u001b[0m\u001b[32m▘\u001b[0m    \u001b[35m▝\u001b[0m\u001b[32m▀\u001b[0m\u001b[32m▚\u001b[0m                        │ 1\n",
            "││      \u001b[34m▀\u001b[0m\u001b[34m▖\u001b[0m                \u001b[32m▝\u001b[0m\u001b[32m▀\u001b[0m         \u001b[32m▀\u001b[0m\u001b[32m▖\u001b[0m                   \u001b[32m▗\u001b[0m \u001b[32m▖\u001b[0m│ \n",
            "││       \u001b[34m▘\u001b[0m\u001b[34m▖\u001b[0m              \u001b[32m▄\u001b[0m\u001b[35m▘\u001b[0m           \u001b[32m▝\u001b[0m\u001b[32m▀\u001b[0m\u001b[32m▘\u001b[0m               \u001b[32m▖\u001b[0m\u001b[32m▗\u001b[0m\u001b[32m▞\u001b[0m\u001b[32m▚\u001b[0m\u001b[32m▝\u001b[0m│ \n",
            "││       \u001b[34m▝\u001b[0m\u001b[34m▝\u001b[0m\u001b[34m▄\u001b[0m            \u001b[32m▖\u001b[0m\u001b[32m▗\u001b[0m\u001b[32m▘\u001b[0m             \u001b[32m▚\u001b[0m\u001b[32m▄\u001b[0m            \u001b[32m▗\u001b[0m\u001b[32m▖\u001b[0m\u001b[32m▝\u001b[0m\u001b[32m▘\u001b[0m   │ \n",
            "││          \u001b[34m▚\u001b[0m          \u001b[32m▗\u001b[0m\u001b[32m▗\u001b[0m                 \u001b[32m▚\u001b[0m\u001b[32m▗\u001b[0m         \u001b[32m▗\u001b[0m\u001b[32m▄\u001b[0m\u001b[32m▗\u001b[0m     │ 0\n",
            "││           \u001b[34m▄\u001b[0m         \u001b[32m▗\u001b[0m                  \u001b[32m▘\u001b[0m\u001b[32m▖\u001b[0m\u001b[32m▖\u001b[0m      \u001b[32m▄\u001b[0m\u001b[32m▟\u001b[0m\u001b[32m▘\u001b[0m       │ \n",
            "││           \u001b[34m▝\u001b[0m\u001b[34m▖\u001b[0m      \u001b[32m▝\u001b[0m \u001b[35m▘\u001b[0m                    \u001b[32m▀\u001b[0m\u001b[32m▄\u001b[0m\u001b[32m▛\u001b[0m\u001b[32m▄\u001b[0m\u001b[32m▙\u001b[0m\u001b[32m▄\u001b[0m\u001b[32m▛\u001b[0m          │ \n",
            "││            \u001b[34m▗\u001b[0m\u001b[34m▄\u001b[0m    \u001b[34m▗\u001b[0m\u001b[32m▞\u001b[0m\u001b[32m▀\u001b[0m\u001b[32m▘\u001b[0m                                     │ \n",
            "││             \u001b[34m▝\u001b[0m\u001b[34m▀\u001b[0m\u001b[34m▄\u001b[0m\u001b[34m▄\u001b[0m\u001b[34m▄\u001b[0m\u001b[34m▘\u001b[0m                                        │ \n",
            "└────────────────────────────────────────────────────────────┘\n",
            " 0                  50                  100\n",
            "                          \u001b[34m██\u001b[0m Input\n",
            "                          \u001b[35m██\u001b[0m Target\n",
            "                          \u001b[32m██\u001b[0m Output\n",
            "           Epoch: 18, Test Loss: 0.0018 - Example 1\n",
            "┌────────────────────────────────────────────────────────────┐\n",
            "││              \u001b[34m▄\u001b[0m\u001b[34m▄\u001b[0m\u001b[34m▄\u001b[0m\u001b[34m▟\u001b[0m\u001b[34m▄\u001b[0m\u001b[32m▝\u001b[0m                                       │ \n",
            "││             \u001b[34m▐\u001b[0m     \u001b[32m▗\u001b[0m\u001b[32m▚\u001b[0m\u001b[32m▚\u001b[0m                                     │ \n",
            "││           \u001b[34m▝\u001b[0m\u001b[34m▀\u001b[0m\u001b[34m▘\u001b[0m     \u001b[32m▘\u001b[0m \u001b[35m▝\u001b[0m\u001b[32m▚\u001b[0m                                    │ 1\n",
            "││           \u001b[34m▝\u001b[0m           \u001b[32m▀\u001b[0m\u001b[32m▞\u001b[0m\u001b[32m▖\u001b[0m                \u001b[32m▗\u001b[0m\u001b[32m▞\u001b[0m\u001b[32m▚\u001b[0m\u001b[32m▀\u001b[0m\u001b[32m▀\u001b[0m\u001b[32m▚\u001b[0m\u001b[32m▄\u001b[0m\u001b[32m▗\u001b[0m\u001b[32m▗\u001b[0m        │ \n",
            "││         \u001b[34m▗\u001b[0m\u001b[34m▞\u001b[0m\u001b[34m▘\u001b[0m             \u001b[32m▗\u001b[0m\u001b[32m▖\u001b[0m            \u001b[32m▗\u001b[0m\u001b[35m▗\u001b[0m\u001b[32m▀\u001b[0m\u001b[32m▘\u001b[0m      \u001b[32m▘\u001b[0m\u001b[32m▀\u001b[0m\u001b[32m▀\u001b[0m\u001b[32m▜\u001b[0m\u001b[32m▄\u001b[0m\u001b[32m▖\u001b[0m    │ \n",
            "││         \u001b[34m▞\u001b[0m                \u001b[32m▝\u001b[0m\u001b[32m▚\u001b[0m\u001b[32m▗\u001b[0m         \u001b[32m▗\u001b[0m\u001b[32m▖\u001b[0m\u001b[32m▙\u001b[0m             \u001b[32m▐\u001b[0m    │ \n",
            "││        \u001b[34m▝\u001b[0m                  \u001b[32m▝\u001b[0m\u001b[32m▖\u001b[0m\u001b[32m▖\u001b[0m      \u001b[32m▖\u001b[0m\u001b[32m▄\u001b[0m\u001b[32m▘\u001b[0m                \u001b[32m▀\u001b[0m\u001b[32m▘\u001b[0m  │ 0\n",
            "│\u001b[34m▌\u001b[0m      \u001b[34m▗\u001b[0m \u001b[34m▘\u001b[0m                    \u001b[32m▝\u001b[0m\u001b[32m▙\u001b[0m\u001b[32m▞\u001b[0m\u001b[32m▙\u001b[0m\u001b[32m▞\u001b[0m\u001b[32m▄\u001b[0m\u001b[32m▞\u001b[0m\u001b[32m▀\u001b[0m                   \u001b[32m▝\u001b[0m\u001b[32m▄\u001b[0m │ \n",
            "│\u001b[34m▗\u001b[0m\u001b[34m▄\u001b[0m    \u001b[34m▗\u001b[0m\u001b[34m▘\u001b[0m\u001b[34m▛\u001b[0m                                                  \u001b[32m▜\u001b[0m│ \n",
            "││ \u001b[34m▀\u001b[0m\u001b[34m▄\u001b[0m\u001b[34m▄\u001b[0m\u001b[34m▄\u001b[0m\u001b[34m▌\u001b[0m                                                    \u001b[35m▝\u001b[0m│ \n",
            "└────────────────────────────────────────────────────────────┘\n",
            " 0                  50                  100\n",
            "                          \u001b[34m██\u001b[0m Input\n",
            "                          \u001b[35m██\u001b[0m Target\n",
            "                          \u001b[32m██\u001b[0m Output\n",
            "           Epoch: 18, Test Loss: 0.0024 - Example 2\n",
            "┌────────────────────────────────────────────────────────────┐\n",
            "││ \u001b[34m▞\u001b[0m\u001b[34m▀\u001b[0m\u001b[34m▀\u001b[0m\u001b[34m▀\u001b[0m\u001b[34m▀\u001b[0m\u001b[34m▚\u001b[0m\u001b[34m▄\u001b[0m                                                   │ \n",
            "│\u001b[34m▄\u001b[0m\u001b[34m▞\u001b[0m       \u001b[34m▀\u001b[0m\u001b[34m▄\u001b[0m                                                 │ 1\n",
            "││         \u001b[34m▝\u001b[0m\u001b[34m▚\u001b[0m\u001b[34m▄\u001b[0m                  \u001b[32m▝\u001b[0m\u001b[32m▄\u001b[0m\u001b[32m▚\u001b[0m\u001b[32m▄\u001b[0m\u001b[32m▖\u001b[0m\u001b[32m▖\u001b[0m                      \u001b[32m▗\u001b[0m│ \n",
            "││            \u001b[34m▚\u001b[0m             \u001b[32m▗\u001b[0m \u001b[32m▚\u001b[0m\u001b[32m▄\u001b[0m\u001b[32m▘\u001b[0m \u001b[32m▘\u001b[0m \u001b[32m▝\u001b[0m\u001b[32m▝\u001b[0m\u001b[32m▀\u001b[0m\u001b[32m▀\u001b[0m\u001b[32m▙\u001b[0m\u001b[32m▄\u001b[0m\u001b[32m▖\u001b[0m                \u001b[32m▗\u001b[0m\u001b[35m▘\u001b[0m│ \n",
            "││             \u001b[34m▀\u001b[0m\u001b[34m▖\u001b[0m          \u001b[32m▗\u001b[0m\u001b[35m▚\u001b[0m\u001b[32m▝\u001b[0m            \u001b[32m▀\u001b[0m\u001b[32m▀\u001b[0m              \u001b[32m▝\u001b[0m\u001b[35m▘\u001b[0m\u001b[32m▘\u001b[0m│ \n",
            "││              \u001b[34m▝\u001b[0m\u001b[34m▜\u001b[0m       \u001b[32m▗\u001b[0m\u001b[35m▄\u001b[0m\u001b[32m▚\u001b[0m\u001b[32m▘\u001b[0m\u001b[32m▀\u001b[0m              \u001b[32m▀\u001b[0m\u001b[32m▖\u001b[0m           \u001b[32m▖\u001b[0m\u001b[32m▖\u001b[0m\u001b[32m▘\u001b[0m │ \n",
            "││                \u001b[34m▀\u001b[0m\u001b[34m▄\u001b[0m\u001b[34m▄\u001b[0m\u001b[32m▄\u001b[0m\u001b[32m▄\u001b[0m\u001b[32m▄\u001b[0m\u001b[32m▄\u001b[0m\u001b[32m▀\u001b[0m\u001b[32m▀\u001b[0m                  \u001b[32m▝\u001b[0m\u001b[32m▙\u001b[0m         \u001b[35m▝\u001b[0m\u001b[32m▗\u001b[0m\u001b[32m▝\u001b[0m  │ \n",
            "││                                             \u001b[32m▀\u001b[0m\u001b[32m▖\u001b[0m      \u001b[32m▗\u001b[0m\u001b[32m▞\u001b[0m    │ \n",
            "││▁▁▁▁▁▁▁▁▁▁▁▁▁▁▁▁▁▁▁▁▁▁▁▁▁▁▁▁▁▁▁▁▁▁▁▁▁▁▁▁▁▁▁▁▁▁\u001b[32m▀\u001b[0m\u001b[32m▘\u001b[0m▁▁▁▁\u001b[32m▟\u001b[0m\u001b[32m▘\u001b[0m▁▁▁▁▁│ 0\n",
            "││                                               \u001b[32m▗\u001b[0m\u001b[32m▀\u001b[0m\u001b[32m▀\u001b[0m\u001b[32m▜\u001b[0m\u001b[32m▀\u001b[0m\u001b[35m▘\u001b[0m      │ \n",
            "└────────────────────────────────────────────────────────────┘\n",
            " 0                  50                  100\n",
            "                          \u001b[34m██\u001b[0m Input\n",
            "                          \u001b[35m██\u001b[0m Target\n",
            "                          \u001b[32m██\u001b[0m Output\n"
          ]
        },
        {
          "output_type": "stream",
          "name": "stderr",
          "text": [
            "100%|██████████| 107/107 [00:05<00:00, 21.23it/s]\n",
            "100%|██████████| 638/638 [01:20<00:00,  7.89it/s]\n",
            "100%|██████████| 107/107 [00:03<00:00, 30.17it/s]\n",
            "100%|██████████| 638/638 [01:17<00:00,  8.27it/s]\n",
            "100%|██████████| 107/107 [00:03<00:00, 29.21it/s]\n",
            "100%|██████████| 638/638 [01:14<00:00,  8.60it/s]\n",
            "  4%|▎         | 4/107 [00:00<00:05, 18.14it/s]"
          ]
        },
        {
          "output_type": "stream",
          "name": "stdout",
          "text": [
            "           Epoch: 21, Test Loss: 0.0016 - Example 0\n",
            "┌────────────────────────────────────────────────────────────┐\n",
            "│\u001b[34m▞\u001b[0m\u001b[34m▚\u001b[0m\u001b[34m▄\u001b[0m\u001b[34m▄\u001b[0m\u001b[34m▄\u001b[0m\u001b[34m▄\u001b[0m\u001b[34m▖\u001b[0m                     \u001b[32m▐\u001b[0m\u001b[32m▀\u001b[0m\u001b[32m▀\u001b[0m\u001b[32m▀\u001b[0m\u001b[32m▀\u001b[0m\u001b[32m▙\u001b[0m                          │ \n",
            "││     \u001b[34m▚\u001b[0m                   \u001b[32m▗\u001b[0m\u001b[32m▞\u001b[0m\u001b[32m▘\u001b[0m    \u001b[35m▝\u001b[0m\u001b[32m▀\u001b[0m\u001b[32m▚\u001b[0m                        │ 1\n",
            "││      \u001b[34m▀\u001b[0m\u001b[34m▖\u001b[0m                \u001b[32m▝\u001b[0m\u001b[32m▀\u001b[0m         \u001b[32m▀\u001b[0m\u001b[32m▖\u001b[0m                   \u001b[32m▗\u001b[0m \u001b[32m▖\u001b[0m│ \n",
            "││       \u001b[34m▘\u001b[0m\u001b[34m▖\u001b[0m              \u001b[32m▄\u001b[0m\u001b[35m▘\u001b[0m           \u001b[32m▝\u001b[0m\u001b[32m▀\u001b[0m\u001b[32m▘\u001b[0m               \u001b[32m▖\u001b[0m\u001b[32m▗\u001b[0m\u001b[32m▞\u001b[0m\u001b[32m▚\u001b[0m\u001b[32m▝\u001b[0m│ \n",
            "││       \u001b[34m▝\u001b[0m\u001b[34m▝\u001b[0m\u001b[34m▄\u001b[0m            \u001b[32m▖\u001b[0m\u001b[32m▗\u001b[0m\u001b[32m▘\u001b[0m             \u001b[32m▚\u001b[0m\u001b[32m▄\u001b[0m            \u001b[32m▝\u001b[0m\u001b[32m▖\u001b[0m\u001b[32m▝\u001b[0m\u001b[32m▘\u001b[0m   │ \n",
            "││          \u001b[34m▚\u001b[0m          \u001b[32m▗\u001b[0m\u001b[32m▗\u001b[0m                 \u001b[32m▚\u001b[0m\u001b[32m▗\u001b[0m         \u001b[32m▗\u001b[0m\u001b[32m▄\u001b[0m\u001b[32m▗\u001b[0m     │ 0\n",
            "││           \u001b[34m▄\u001b[0m         \u001b[32m▗\u001b[0m                  \u001b[32m▘\u001b[0m\u001b[32m▖\u001b[0m\u001b[32m▖\u001b[0m      \u001b[32m▄\u001b[0m\u001b[32m▟\u001b[0m\u001b[32m▘\u001b[0m       │ \n",
            "││           \u001b[34m▝\u001b[0m\u001b[34m▖\u001b[0m      \u001b[32m▝\u001b[0m \u001b[35m▘\u001b[0m                    \u001b[32m▀\u001b[0m\u001b[32m▀\u001b[0m\u001b[32m▀\u001b[0m\u001b[32m▄\u001b[0m\u001b[32m▙\u001b[0m\u001b[32m▄\u001b[0m\u001b[32m▛\u001b[0m          │ \n",
            "││            \u001b[34m▗\u001b[0m\u001b[34m▄\u001b[0m    \u001b[34m▗\u001b[0m\u001b[32m▞\u001b[0m\u001b[32m▀\u001b[0m\u001b[32m▘\u001b[0m                                     │ \n",
            "││             \u001b[34m▝\u001b[0m\u001b[34m▀\u001b[0m\u001b[34m▄\u001b[0m\u001b[34m▄\u001b[0m\u001b[34m▄\u001b[0m\u001b[34m▘\u001b[0m                                        │ \n",
            "└────────────────────────────────────────────────────────────┘\n",
            " 0                  50                  100\n",
            "                          \u001b[34m██\u001b[0m Input\n",
            "                          \u001b[35m██\u001b[0m Target\n",
            "                          \u001b[32m██\u001b[0m Output\n",
            "           Epoch: 21, Test Loss: 0.0017 - Example 1\n",
            "┌────────────────────────────────────────────────────────────┐\n",
            "││              \u001b[34m▄\u001b[0m\u001b[34m▞\u001b[0m\u001b[34m▚\u001b[0m\u001b[34m▞\u001b[0m\u001b[34m▚\u001b[0m\u001b[32m▝\u001b[0m                                       │ \n",
            "││             \u001b[34m▐\u001b[0m     \u001b[32m▗\u001b[0m\u001b[32m▚\u001b[0m\u001b[32m▚\u001b[0m                                     │ \n",
            "││           \u001b[34m▝\u001b[0m\u001b[34m▀\u001b[0m\u001b[34m▘\u001b[0m     \u001b[32m▘\u001b[0m \u001b[35m▝\u001b[0m\u001b[32m▚\u001b[0m\u001b[32m▗\u001b[0m                   \u001b[32m▗\u001b[0m \u001b[32m▖\u001b[0m             │ 1\n",
            "││           \u001b[34m▝\u001b[0m           \u001b[32m▀\u001b[0m\u001b[32m▞\u001b[0m\u001b[32m▖\u001b[0m                \u001b[32m▗\u001b[0m\u001b[32m▖\u001b[0m\u001b[32m▚\u001b[0m\u001b[32m▝\u001b[0m\u001b[32m▀\u001b[0m\u001b[32m▚\u001b[0m\u001b[32m▄\u001b[0m\u001b[32m▗\u001b[0m\u001b[32m▄\u001b[0m        │ \n",
            "││         \u001b[34m▗\u001b[0m\u001b[34m▞\u001b[0m\u001b[34m▘\u001b[0m             \u001b[32m▗\u001b[0m\u001b[32m▖\u001b[0m            \u001b[32m▗\u001b[0m\u001b[35m▗\u001b[0m\u001b[32m▀\u001b[0m\u001b[32m▘\u001b[0m      \u001b[32m▘\u001b[0m\u001b[32m▝\u001b[0m\u001b[32m▀\u001b[0m\u001b[32m▜\u001b[0m\u001b[32m▄\u001b[0m\u001b[32m▖\u001b[0m    │ \n",
            "││         \u001b[34m▞\u001b[0m                \u001b[32m▝\u001b[0m\u001b[32m▚\u001b[0m\u001b[32m▗\u001b[0m         \u001b[32m▗\u001b[0m\u001b[32m▖\u001b[0m\u001b[32m▙\u001b[0m             \u001b[32m▐\u001b[0m    │ \n",
            "││        \u001b[34m▝\u001b[0m                  \u001b[32m▝\u001b[0m\u001b[32m▖\u001b[0m\u001b[32m▖\u001b[0m      \u001b[32m▄\u001b[0m\u001b[32m▄\u001b[0m\u001b[32m▘\u001b[0m                \u001b[32m▀\u001b[0m\u001b[32m▘\u001b[0m  │ 0\n",
            "│\u001b[34m▌\u001b[0m      \u001b[34m▗\u001b[0m \u001b[34m▘\u001b[0m                    \u001b[32m▝\u001b[0m\u001b[32m▙\u001b[0m\u001b[32m▞\u001b[0m\u001b[32m▙\u001b[0m\u001b[32m▞\u001b[0m\u001b[32m▄\u001b[0m\u001b[32m▞\u001b[0m\u001b[32m▘\u001b[0m                   \u001b[32m▝\u001b[0m\u001b[32m▄\u001b[0m │ \n",
            "│\u001b[34m▗\u001b[0m\u001b[34m▄\u001b[0m    \u001b[34m▗\u001b[0m\u001b[34m▘\u001b[0m\u001b[34m▛\u001b[0m                                                  \u001b[32m▜\u001b[0m│ \n",
            "││ \u001b[34m▀\u001b[0m\u001b[34m▄\u001b[0m\u001b[34m▄\u001b[0m\u001b[34m▄\u001b[0m\u001b[34m▌\u001b[0m                                                    \u001b[35m▝\u001b[0m│ \n",
            "└────────────────────────────────────────────────────────────┘\n",
            " 0                  50                  100\n",
            "                          \u001b[34m██\u001b[0m Input\n",
            "                          \u001b[35m██\u001b[0m Target\n",
            "                          \u001b[32m██\u001b[0m Output\n",
            "           Epoch: 21, Test Loss: 0.0023 - Example 2\n",
            "┌────────────────────────────────────────────────────────────┐\n",
            "││ \u001b[34m▞\u001b[0m\u001b[34m▀\u001b[0m\u001b[34m▀\u001b[0m\u001b[34m▀\u001b[0m\u001b[34m▀\u001b[0m\u001b[34m▚\u001b[0m\u001b[34m▄\u001b[0m                                                   │ \n",
            "│\u001b[34m▄\u001b[0m\u001b[34m▞\u001b[0m       \u001b[34m▀\u001b[0m\u001b[34m▄\u001b[0m                                                 │ 1\n",
            "││         \u001b[34m▝\u001b[0m\u001b[34m▚\u001b[0m\u001b[34m▄\u001b[0m                  \u001b[32m▝\u001b[0m\u001b[32m▄\u001b[0m\u001b[32m▚\u001b[0m\u001b[32m▄\u001b[0m\u001b[32m▖\u001b[0m\u001b[32m▖\u001b[0m                      \u001b[32m▗\u001b[0m│ \n",
            "││            \u001b[34m▚\u001b[0m             \u001b[32m▗\u001b[0m \u001b[32m▚\u001b[0m\u001b[32m▄\u001b[0m\u001b[32m▘\u001b[0m \u001b[32m▘\u001b[0m \u001b[32m▝\u001b[0m\u001b[32m▝\u001b[0m\u001b[32m▀\u001b[0m\u001b[32m▀\u001b[0m\u001b[32m▙\u001b[0m\u001b[32m▄\u001b[0m\u001b[32m▖\u001b[0m                \u001b[32m▗\u001b[0m\u001b[35m▘\u001b[0m│ \n",
            "││             \u001b[34m▀\u001b[0m\u001b[34m▖\u001b[0m          \u001b[32m▗\u001b[0m\u001b[35m▚\u001b[0m\u001b[32m▝\u001b[0m            \u001b[32m▝\u001b[0m\u001b[32m▀\u001b[0m              \u001b[32m▝\u001b[0m\u001b[35m▘\u001b[0m\u001b[32m▘\u001b[0m│ \n",
            "││              \u001b[34m▝\u001b[0m\u001b[34m▜\u001b[0m       \u001b[32m▗\u001b[0m\u001b[35m▄\u001b[0m\u001b[32m▚\u001b[0m\u001b[32m▘\u001b[0m\u001b[32m▀\u001b[0m              \u001b[32m▀\u001b[0m\u001b[32m▖\u001b[0m           \u001b[32m▖\u001b[0m\u001b[32m▖\u001b[0m\u001b[32m▘\u001b[0m │ \n",
            "││                \u001b[34m▀\u001b[0m\u001b[34m▄\u001b[0m\u001b[34m▄\u001b[0m\u001b[32m▄\u001b[0m\u001b[32m▄\u001b[0m\u001b[32m▄\u001b[0m\u001b[32m▄\u001b[0m\u001b[32m▀\u001b[0m\u001b[32m▀\u001b[0m                  \u001b[32m▝\u001b[0m\u001b[32m▙\u001b[0m         \u001b[35m▝\u001b[0m\u001b[32m▗\u001b[0m\u001b[32m▝\u001b[0m  │ \n",
            "││                                             \u001b[32m▀\u001b[0m\u001b[32m▖\u001b[0m      \u001b[32m▗\u001b[0m\u001b[32m▞\u001b[0m    │ \n",
            "││▁▁▁▁▁▁▁▁▁▁▁▁▁▁▁▁▁▁▁▁▁▁▁▁▁▁▁▁▁▁▁▁▁▁▁▁▁▁▁▁▁▁▁▁▁▁\u001b[32m▀\u001b[0m\u001b[32m▘\u001b[0m▁▁▁▁\u001b[32m▟\u001b[0m\u001b[32m▘\u001b[0m▁▁▁▁▁│ 0\n",
            "││                                               \u001b[32m▗\u001b[0m\u001b[32m▛\u001b[0m\u001b[32m▞\u001b[0m\u001b[32m▟\u001b[0m\u001b[32m▀\u001b[0m\u001b[35m▘\u001b[0m      │ \n",
            "└────────────────────────────────────────────────────────────┘\n",
            " 0                  50                  100\n",
            "                          \u001b[34m██\u001b[0m Input\n",
            "                          \u001b[35m██\u001b[0m Target\n",
            "                          \u001b[32m██\u001b[0m Output\n"
          ]
        },
        {
          "output_type": "stream",
          "name": "stderr",
          "text": [
            "100%|██████████| 107/107 [00:03<00:00, 28.83it/s]\n",
            "100%|██████████| 638/638 [01:13<00:00,  8.69it/s]\n",
            "100%|██████████| 107/107 [00:04<00:00, 24.11it/s]\n",
            "100%|██████████| 638/638 [01:14<00:00,  8.59it/s]\n",
            "100%|██████████| 107/107 [00:03<00:00, 29.22it/s]\n",
            "100%|██████████| 638/638 [01:13<00:00,  8.63it/s]\n",
            "  4%|▎         | 4/107 [00:00<00:06, 16.80it/s]"
          ]
        },
        {
          "output_type": "stream",
          "name": "stdout",
          "text": [
            "           Epoch: 24, Test Loss: 0.0015 - Example 0\n",
            "┌────────────────────────────────────────────────────────────┐\n",
            "│\u001b[34m▞\u001b[0m\u001b[34m▚\u001b[0m\u001b[34m▄\u001b[0m\u001b[34m▄\u001b[0m\u001b[34m▄\u001b[0m\u001b[34m▄\u001b[0m\u001b[34m▖\u001b[0m                     \u001b[32m▐\u001b[0m\u001b[32m▀\u001b[0m\u001b[32m▀\u001b[0m\u001b[32m▀\u001b[0m\u001b[32m▀\u001b[0m\u001b[32m▙\u001b[0m                          │ \n",
            "││     \u001b[34m▚\u001b[0m                   \u001b[32m▗\u001b[0m\u001b[32m▞\u001b[0m\u001b[32m▘\u001b[0m    \u001b[35m▝\u001b[0m\u001b[32m▀\u001b[0m\u001b[32m▚\u001b[0m                        │ 1\n",
            "││      \u001b[34m▀\u001b[0m\u001b[34m▖\u001b[0m                \u001b[32m▝\u001b[0m\u001b[32m▘\u001b[0m         \u001b[32m▀\u001b[0m\u001b[32m▖\u001b[0m                   \u001b[32m▗\u001b[0m \u001b[32m▄\u001b[0m│ \n",
            "││       \u001b[34m▘\u001b[0m\u001b[34m▖\u001b[0m              \u001b[32m▄\u001b[0m\u001b[35m▘\u001b[0m           \u001b[32m▝\u001b[0m\u001b[32m▀\u001b[0m\u001b[32m▘\u001b[0m               \u001b[32m▖\u001b[0m\u001b[32m▗\u001b[0m\u001b[32m▞\u001b[0m\u001b[32m▚\u001b[0m\u001b[32m▝\u001b[0m│ \n",
            "││       \u001b[34m▝\u001b[0m\u001b[34m▝\u001b[0m\u001b[34m▄\u001b[0m            \u001b[32m▖\u001b[0m\u001b[32m▗\u001b[0m\u001b[32m▘\u001b[0m             \u001b[32m▚\u001b[0m\u001b[32m▄\u001b[0m            \u001b[32m▝\u001b[0m\u001b[32m▖\u001b[0m\u001b[32m▝\u001b[0m\u001b[32m▘\u001b[0m   │ \n",
            "││          \u001b[34m▚\u001b[0m          \u001b[32m▗\u001b[0m\u001b[32m▗\u001b[0m                 \u001b[32m▚\u001b[0m\u001b[32m▗\u001b[0m         \u001b[32m▗\u001b[0m\u001b[32m▄\u001b[0m\u001b[32m▗\u001b[0m     │ 0\n",
            "││           \u001b[34m▄\u001b[0m         \u001b[32m▗\u001b[0m                  \u001b[32m▘\u001b[0m\u001b[32m▖\u001b[0m\u001b[32m▖\u001b[0m      \u001b[32m▄\u001b[0m\u001b[32m▟\u001b[0m\u001b[32m▘\u001b[0m       │ \n",
            "││           \u001b[34m▝\u001b[0m\u001b[34m▖\u001b[0m      \u001b[32m▝\u001b[0m \u001b[35m▘\u001b[0m                    \u001b[32m▀\u001b[0m\u001b[32m▀\u001b[0m\u001b[32m▀\u001b[0m\u001b[32m▄\u001b[0m\u001b[32m▙\u001b[0m\u001b[32m▄\u001b[0m\u001b[32m▛\u001b[0m          │ \n",
            "││            \u001b[34m▗\u001b[0m\u001b[34m▄\u001b[0m    \u001b[34m▗\u001b[0m\u001b[32m▞\u001b[0m\u001b[32m▀\u001b[0m\u001b[32m▘\u001b[0m                                     │ \n",
            "││             \u001b[34m▝\u001b[0m\u001b[34m▀\u001b[0m\u001b[34m▄\u001b[0m\u001b[34m▄\u001b[0m\u001b[34m▄\u001b[0m\u001b[34m▘\u001b[0m                                        │ \n",
            "└────────────────────────────────────────────────────────────┘\n",
            " 0                  50                  100\n",
            "                          \u001b[34m██\u001b[0m Input\n",
            "                          \u001b[35m██\u001b[0m Target\n",
            "                          \u001b[32m██\u001b[0m Output\n",
            "           Epoch: 24, Test Loss: 0.0017 - Example 1\n",
            "┌────────────────────────────────────────────────────────────┐\n",
            "││              \u001b[34m▄\u001b[0m\u001b[34m▄\u001b[0m\u001b[34m▄\u001b[0m\u001b[34m▟\u001b[0m\u001b[34m▄\u001b[0m\u001b[32m▝\u001b[0m                                       │ \n",
            "││             \u001b[34m▐\u001b[0m     \u001b[32m▗\u001b[0m\u001b[32m▚\u001b[0m\u001b[32m▚\u001b[0m                                     │ \n",
            "││           \u001b[34m▝\u001b[0m\u001b[34m▀\u001b[0m\u001b[34m▘\u001b[0m     \u001b[32m▘\u001b[0m \u001b[35m▝\u001b[0m\u001b[32m▚\u001b[0m\u001b[32m▗\u001b[0m                   \u001b[32m▗\u001b[0m \u001b[32m▖\u001b[0m             │ 1\n",
            "││           \u001b[34m▝\u001b[0m           \u001b[32m▀\u001b[0m\u001b[32m▞\u001b[0m\u001b[32m▖\u001b[0m                \u001b[32m▗\u001b[0m\u001b[32m▖\u001b[0m\u001b[32m▚\u001b[0m\u001b[32m▝\u001b[0m\u001b[32m▀\u001b[0m\u001b[32m▚\u001b[0m\u001b[32m▄\u001b[0m\u001b[32m▗\u001b[0m\u001b[32m▄\u001b[0m        │ \n",
            "││         \u001b[34m▗\u001b[0m\u001b[34m▞\u001b[0m\u001b[34m▘\u001b[0m             \u001b[32m▗\u001b[0m\u001b[32m▖\u001b[0m            \u001b[32m▗\u001b[0m\u001b[35m▗\u001b[0m\u001b[32m▀\u001b[0m\u001b[32m▘\u001b[0m      \u001b[32m▘\u001b[0m\u001b[32m▝\u001b[0m\u001b[32m▀\u001b[0m\u001b[32m▜\u001b[0m\u001b[32m▄\u001b[0m\u001b[32m▖\u001b[0m    │ \n",
            "││         \u001b[34m▞\u001b[0m                \u001b[32m▝\u001b[0m\u001b[32m▚\u001b[0m\u001b[32m▗\u001b[0m         \u001b[32m▗\u001b[0m\u001b[32m▖\u001b[0m\u001b[32m▙\u001b[0m             \u001b[32m▐\u001b[0m    │ \n",
            "││        \u001b[34m▝\u001b[0m                  \u001b[32m▝\u001b[0m\u001b[32m▖\u001b[0m\u001b[32m▖\u001b[0m      \u001b[32m▄\u001b[0m\u001b[32m▄\u001b[0m\u001b[32m▘\u001b[0m                \u001b[32m▀\u001b[0m\u001b[32m▘\u001b[0m  │ 0\n",
            "│\u001b[34m▌\u001b[0m      \u001b[34m▗\u001b[0m \u001b[34m▘\u001b[0m                    \u001b[32m▝\u001b[0m\u001b[32m▙\u001b[0m\u001b[32m▞\u001b[0m\u001b[32m▙\u001b[0m\u001b[32m▞\u001b[0m\u001b[32m▄\u001b[0m\u001b[32m▞\u001b[0m\u001b[32m▘\u001b[0m                   \u001b[32m▝\u001b[0m\u001b[32m▄\u001b[0m │ \n",
            "│\u001b[34m▗\u001b[0m\u001b[34m▄\u001b[0m    \u001b[34m▗\u001b[0m\u001b[34m▘\u001b[0m\u001b[34m▛\u001b[0m                                                  \u001b[32m▜\u001b[0m│ \n",
            "││ \u001b[34m▀\u001b[0m\u001b[34m▄\u001b[0m\u001b[34m▄\u001b[0m\u001b[34m▄\u001b[0m\u001b[34m▌\u001b[0m                                                    \u001b[35m▝\u001b[0m│ \n",
            "└────────────────────────────────────────────────────────────┘\n",
            " 0                  50                  100\n",
            "                          \u001b[34m██\u001b[0m Input\n",
            "                          \u001b[35m██\u001b[0m Target\n",
            "                          \u001b[32m██\u001b[0m Output\n",
            "           Epoch: 24, Test Loss: 0.0022 - Example 2\n",
            "┌────────────────────────────────────────────────────────────┐\n",
            "││ \u001b[34m▞\u001b[0m\u001b[34m▀\u001b[0m\u001b[34m▀\u001b[0m\u001b[34m▀\u001b[0m\u001b[34m▀\u001b[0m\u001b[34m▚\u001b[0m\u001b[34m▄\u001b[0m                                                   │ \n",
            "│\u001b[34m▄\u001b[0m\u001b[34m▞\u001b[0m       \u001b[34m▀\u001b[0m\u001b[34m▄\u001b[0m                                                 │ 1\n",
            "││         \u001b[34m▝\u001b[0m\u001b[34m▚\u001b[0m\u001b[34m▄\u001b[0m                  \u001b[32m▝\u001b[0m\u001b[32m▄\u001b[0m\u001b[32m▚\u001b[0m\u001b[32m▄\u001b[0m\u001b[32m▖\u001b[0m\u001b[32m▖\u001b[0m                      \u001b[32m▗\u001b[0m│ \n",
            "││            \u001b[34m▚\u001b[0m             \u001b[32m▗\u001b[0m \u001b[32m▚\u001b[0m\u001b[32m▄\u001b[0m\u001b[32m▘\u001b[0m \u001b[32m▘\u001b[0m \u001b[32m▝\u001b[0m\u001b[32m▝\u001b[0m\u001b[32m▀\u001b[0m\u001b[32m▀\u001b[0m\u001b[32m▙\u001b[0m\u001b[32m▄\u001b[0m\u001b[32m▖\u001b[0m                \u001b[32m▗\u001b[0m\u001b[35m▘\u001b[0m│ \n",
            "││             \u001b[34m▀\u001b[0m\u001b[34m▖\u001b[0m          \u001b[32m▗\u001b[0m\u001b[35m▚\u001b[0m\u001b[32m▝\u001b[0m            \u001b[32m▝\u001b[0m\u001b[32m▀\u001b[0m              \u001b[32m▝\u001b[0m\u001b[35m▘\u001b[0m\u001b[32m▘\u001b[0m│ \n",
            "││              \u001b[34m▝\u001b[0m\u001b[34m▜\u001b[0m       \u001b[32m▗\u001b[0m\u001b[32m▖\u001b[0m\u001b[32m▚\u001b[0m\u001b[32m▘\u001b[0m\u001b[32m▀\u001b[0m              \u001b[32m▀\u001b[0m\u001b[32m▖\u001b[0m           \u001b[32m▖\u001b[0m\u001b[32m▄\u001b[0m\u001b[32m▘\u001b[0m │ \n",
            "││                \u001b[34m▀\u001b[0m\u001b[34m▄\u001b[0m\u001b[34m▄\u001b[0m\u001b[32m▄\u001b[0m\u001b[32m▄\u001b[0m\u001b[32m▄\u001b[0m\u001b[32m▞\u001b[0m\u001b[32m▀\u001b[0m\u001b[32m▝\u001b[0m                  \u001b[32m▝\u001b[0m\u001b[32m▙\u001b[0m         \u001b[35m▝\u001b[0m\u001b[32m▗\u001b[0m   │ \n",
            "││                                             \u001b[32m▀\u001b[0m\u001b[32m▖\u001b[0m      \u001b[32m▗\u001b[0m\u001b[32m▞\u001b[0m    │ \n",
            "││▁▁▁▁▁▁▁▁▁▁▁▁▁▁▁▁▁▁▁▁▁▁▁▁▁▁▁▁▁▁▁▁▁▁▁▁▁▁▁▁▁▁▁▁▁▁\u001b[32m▀\u001b[0m\u001b[32m▘\u001b[0m▁▁▁▁\u001b[32m▟\u001b[0m\u001b[32m▘\u001b[0m▁▁▁▁▁│ 0\n",
            "││                                               \u001b[32m▗\u001b[0m\u001b[32m▛\u001b[0m\u001b[32m▞\u001b[0m\u001b[32m▟\u001b[0m\u001b[32m▀\u001b[0m\u001b[35m▘\u001b[0m      │ \n",
            "└────────────────────────────────────────────────────────────┘\n",
            " 0                  50                  100\n",
            "                          \u001b[34m██\u001b[0m Input\n",
            "                          \u001b[35m██\u001b[0m Target\n",
            "                          \u001b[32m██\u001b[0m Output\n"
          ]
        },
        {
          "output_type": "stream",
          "name": "stderr",
          "text": [
            "100%|██████████| 107/107 [00:03<00:00, 28.03it/s]\n"
          ]
        }
      ],
      "source": [
        "lapseofTimeTF, ListofLossTF = run_experiment(TeacherForcingModel(input_size, hidden_size_TF).to(device))"
      ]
    },
    {
      "cell_type": "code",
      "execution_count": 28,
      "id": "vLQeZwT2u6Qe",
      "metadata": {
        "id": "vLQeZwT2u6Qe",
        "colab": {
          "base_uri": "https://localhost:8080/"
        },
        "outputId": "7ab16570-8ebd-4b75-8e9f-8e813eacc420"
      },
      "outputs": [
        {
          "output_type": "stream",
          "name": "stdout",
          "text": [
            "Start model training..\n"
          ]
        },
        {
          "output_type": "stream",
          "name": "stderr",
          "text": [
            "100%|██████████| 638/638 [01:22<00:00,  7.74it/s]\n",
            "100%|██████████| 107/107 [00:04<00:00, 22.89it/s]\n",
            "100%|██████████| 638/638 [01:30<00:00,  7.08it/s]\n",
            "100%|██████████| 107/107 [00:03<00:00, 27.61it/s]\n",
            "100%|██████████| 638/638 [01:17<00:00,  8.23it/s]\n",
            "  4%|▎         | 4/107 [00:00<00:05, 17.23it/s]"
          ]
        },
        {
          "output_type": "stream",
          "name": "stdout",
          "text": [
            "           Epoch: 3, Test Loss: 0.0041 - Example 0\n",
            "┌────────────────────────────────────────────────────────────┐\n",
            "│\u001b[34m▛\u001b[0m\u001b[34m▚\u001b[0m\u001b[34m▄\u001b[0m\u001b[34m▄\u001b[0m\u001b[34m▄\u001b[0m\u001b[34m▄\u001b[0m\u001b[34m▖\u001b[0m                     \u001b[32m▗\u001b[0m\u001b[32m▞\u001b[0m\u001b[32m▀\u001b[0m\u001b[32m▛\u001b[0m\u001b[32m▀\u001b[0m\u001b[32m▄\u001b[0m                          │ \n",
            "││     \u001b[34m▚\u001b[0m                   \u001b[32m▗\u001b[0m\u001b[32m▄\u001b[0m\u001b[32m▘\u001b[0m     \u001b[32m▀\u001b[0m\u001b[32m▚\u001b[0m\u001b[32m▖\u001b[0m                       │ 1\n",
            "││      \u001b[34m▀\u001b[0m\u001b[34m▖\u001b[0m                \u001b[35m▝\u001b[0m\u001b[32m▘\u001b[0m         \u001b[32m▝\u001b[0m\u001b[32m▄\u001b[0m                   \u001b[32m▗\u001b[0m\u001b[32m▖\u001b[0m\u001b[32m▗\u001b[0m│ \n",
            "││       \u001b[34m▘\u001b[0m\u001b[34m▖\u001b[0m              \u001b[35m▗\u001b[0m\u001b[32m▄\u001b[0m           \u001b[35m▝\u001b[0m\u001b[32m▀\u001b[0m\u001b[32m▌\u001b[0m               \u001b[32m▗\u001b[0m\u001b[32m▄\u001b[0m\u001b[32m▞\u001b[0m\u001b[32m▝\u001b[0m\u001b[32m▘\u001b[0m│ \n",
            "││       \u001b[34m▝\u001b[0m\u001b[34m▝\u001b[0m\u001b[34m▄\u001b[0m            \u001b[32m▗\u001b[0m\u001b[32m▀\u001b[0m              \u001b[32m▝\u001b[0m\u001b[32m▀\u001b[0m\u001b[32m▖\u001b[0m           \u001b[32m▗\u001b[0m\u001b[32m▄\u001b[0m\u001b[32m▘\u001b[0m    │ \n",
            "││          \u001b[34m▚\u001b[0m          \u001b[32m▗\u001b[0m\u001b[32m▖\u001b[0m                 \u001b[32m▝\u001b[0m\u001b[32m▄\u001b[0m\u001b[32m▖\u001b[0m       \u001b[32m▗\u001b[0m\u001b[32m▄\u001b[0m\u001b[32m▘\u001b[0m\u001b[35m▘\u001b[0m     │ 0\n",
            "││           \u001b[34m▚\u001b[0m       \u001b[32m▘\u001b[0m \u001b[32m▗\u001b[0m                  \u001b[35m▝\u001b[0m\u001b[35m▀\u001b[0m\u001b[32m▚\u001b[0m\u001b[32m▄\u001b[0m\u001b[32m▄\u001b[0m\u001b[32m▖\u001b[0m\u001b[32m▖\u001b[0m \u001b[32m▄\u001b[0m\u001b[32m▀\u001b[0m\u001b[32m▀\u001b[0m        │ \n",
            "││           \u001b[34m▝\u001b[0m\u001b[34m▖\u001b[0m      \u001b[32m▝\u001b[0m\u001b[32m▄\u001b[0m\u001b[32m▘\u001b[0m                    \u001b[35m▀\u001b[0m\u001b[35m▀\u001b[0m\u001b[35m▀\u001b[0m\u001b[32m▝\u001b[0m\u001b[32m▀\u001b[0m\u001b[32m▀\u001b[0m\u001b[32m▘\u001b[0m          │ \n",
            "││            \u001b[34m▗\u001b[0m\u001b[34m▄\u001b[0m    \u001b[34m▗\u001b[0m\u001b[35m▝\u001b[0m\u001b[35m▀\u001b[0m                                      │ \n",
            "││              \u001b[34m▀\u001b[0m\u001b[34m▄\u001b[0m\u001b[34m▄\u001b[0m\u001b[34m▄\u001b[0m\u001b[34m▘\u001b[0m                                        │ \n",
            "└────────────────────────────────────────────────────────────┘\n",
            " 0                  50                  100\n",
            "                          \u001b[34m██\u001b[0m Input\n",
            "                          \u001b[35m██\u001b[0m Target\n",
            "                          \u001b[32m██\u001b[0m Output\n",
            "           Epoch: 3, Test Loss: 0.0087 - Example 1\n",
            "┌────────────────────────────────────────────────────────────┐\n",
            "││              \u001b[34m▄\u001b[0m\u001b[34m▀\u001b[0m\u001b[34m▀\u001b[0m\u001b[34m▀\u001b[0m\u001b[34m▀\u001b[0m\u001b[32m▗\u001b[0m                                       │ \n",
            "││            \u001b[34m▄\u001b[0m\u001b[34m▞\u001b[0m      \u001b[32m▀\u001b[0m\u001b[32m▜\u001b[0m\u001b[32m▖\u001b[0m                                    │ 1\n",
            "││           \u001b[34m▝\u001b[0m          \u001b[32m▝\u001b[0m\u001b[32m▄\u001b[0m\u001b[32m▖\u001b[0m                   \u001b[32m▖\u001b[0m\u001b[32m▄\u001b[0m\u001b[32m▄\u001b[0m\u001b[32m▖\u001b[0m           │ \n",
            "││           \u001b[34m▞\u001b[0m       \u001b[32m▘\u001b[0m   \u001b[35m▝\u001b[0m\u001b[32m▝\u001b[0m\u001b[32m▚\u001b[0m               \u001b[32m▗\u001b[0m\u001b[32m▄\u001b[0m\u001b[32m▞\u001b[0m\u001b[32m▝\u001b[0m \u001b[35m▀\u001b[0m\u001b[32m▝\u001b[0m\u001b[32m▀\u001b[0m\u001b[32m▄\u001b[0m\u001b[32m▄\u001b[0m\u001b[32m▄\u001b[0m\u001b[32m▄\u001b[0m\u001b[32m▄\u001b[0m\u001b[32m▖\u001b[0m    │ \n",
            "││         \u001b[34m▗\u001b[0m\u001b[34m▀\u001b[0m              \u001b[35m▐\u001b[0m\u001b[32m▀\u001b[0m\u001b[32m▖\u001b[0m           \u001b[32m▗\u001b[0m\u001b[32m▄\u001b[0m\u001b[32m▘\u001b[0m\u001b[35m▘\u001b[0m       \u001b[35m▝\u001b[0m\u001b[35m▀\u001b[0m\u001b[32m▝\u001b[0m\u001b[35m▄\u001b[0m\u001b[32m▐\u001b[0m    │ \n",
            "││         \u001b[34m▞\u001b[0m                 \u001b[32m▝\u001b[0m\u001b[32m▄\u001b[0m\u001b[32m▖\u001b[0m        \u001b[32m▞\u001b[0m\u001b[32m▘\u001b[0m\u001b[35m▘\u001b[0m             \u001b[35m▐\u001b[0m\u001b[32m▚\u001b[0m\u001b[32m▄\u001b[0m  │ 0\n",
            "││        \u001b[34m▞\u001b[0m                  \u001b[35m▝\u001b[0m\u001b[35m▀\u001b[0m\u001b[32m▝\u001b[0m\u001b[32m▙\u001b[0m\u001b[32m▄\u001b[0m\u001b[32m▖\u001b[0m\u001b[32m▗\u001b[0m \u001b[32m▗\u001b[0m\u001b[32m▛\u001b[0m\u001b[32m▀\u001b[0m\u001b[32m▘\u001b[0m                \u001b[35m▝\u001b[0m\u001b[32m▝\u001b[0m\u001b[32m▖\u001b[0m │ \n",
            "│\u001b[34m▌\u001b[0m      \u001b[34m▄\u001b[0m                      \u001b[35m▝\u001b[0m\u001b[35m▀\u001b[0m\u001b[35m▀\u001b[0m\u001b[32m▝\u001b[0m\u001b[32m▘\u001b[0m\u001b[32m▀\u001b[0m\u001b[32m▘\u001b[0m                    \u001b[35m▝\u001b[0m\u001b[32m▝\u001b[0m\u001b[32m▜\u001b[0m│ \n",
            "│\u001b[34m▗\u001b[0m\u001b[34m▄\u001b[0m\u001b[34m▖\u001b[0m   \u001b[34m▗\u001b[0m \u001b[34m▀\u001b[0m                                                  \u001b[35m▚\u001b[0m│ \n",
            "││ \u001b[34m▀\u001b[0m\u001b[34m▄\u001b[0m\u001b[34m▄\u001b[0m\u001b[34m▄\u001b[0m\u001b[34m▌\u001b[0m                                                    \u001b[35m▝\u001b[0m│ \n",
            "└────────────────────────────────────────────────────────────┘\n",
            " 0                  50                  100\n",
            "                          \u001b[34m██\u001b[0m Input\n",
            "                          \u001b[35m██\u001b[0m Target\n",
            "                          \u001b[32m██\u001b[0m Output\n",
            "           Epoch: 3, Test Loss: 0.0078 - Example 2\n",
            "┌────────────────────────────────────────────────────────────┐\n",
            "││ \u001b[34m▞\u001b[0m\u001b[34m▀\u001b[0m\u001b[34m▀\u001b[0m\u001b[34m▀\u001b[0m\u001b[34m▀\u001b[0m\u001b[34m▚\u001b[0m\u001b[34m▄\u001b[0m                                                   │ \n",
            "│\u001b[34m▄\u001b[0m\u001b[34m▞\u001b[0m       \u001b[34m▀\u001b[0m\u001b[34m▄\u001b[0m                                                 │ 1\n",
            "││         \u001b[34m▝\u001b[0m\u001b[34m▚\u001b[0m\u001b[34m▄\u001b[0m                  \u001b[35m▄\u001b[0m\u001b[32m▄\u001b[0m\u001b[32m▄\u001b[0m\u001b[32m▄\u001b[0m\u001b[32m▄\u001b[0m\u001b[32m▄\u001b[0m\u001b[32m▖\u001b[0m                     \u001b[32m▗\u001b[0m│ \n",
            "││            \u001b[34m▚\u001b[0m               \u001b[32m▄\u001b[0m\u001b[32m▀\u001b[0m\u001b[32m▀\u001b[0m    \u001b[35m▀\u001b[0m\u001b[32m▀\u001b[0m\u001b[32m▀\u001b[0m\u001b[32m▀\u001b[0m\u001b[32m▀\u001b[0m\u001b[32m▄\u001b[0m\u001b[32m▄\u001b[0m\u001b[32m▖\u001b[0m              \u001b[35m▗\u001b[0m\u001b[32m▄\u001b[0m│ \n",
            "││             \u001b[34m▀\u001b[0m\u001b[34m▖\u001b[0m    \u001b[32m▘\u001b[0m     \u001b[32m▗\u001b[0m\u001b[32m▞\u001b[0m\u001b[32m▀\u001b[0m            \u001b[35m▀\u001b[0m\u001b[35m▚\u001b[0m\u001b[32m▄\u001b[0m             \u001b[32m▗\u001b[0m\u001b[32m▀\u001b[0m │ \n",
            "││              \u001b[34m▝\u001b[0m\u001b[34m▜\u001b[0m     \u001b[32m▖\u001b[0m \u001b[32m▄\u001b[0m\u001b[32m▚\u001b[0m\u001b[32m▀\u001b[0m                \u001b[35m▀\u001b[0m\u001b[32m▀\u001b[0m\u001b[32m▖\u001b[0m          \u001b[32m▄\u001b[0m\u001b[32m▞\u001b[0m  │ \n",
            "││                \u001b[34m▀\u001b[0m\u001b[34m▄\u001b[0m\u001b[34m▄\u001b[0m\u001b[32m▝\u001b[0m\u001b[32m▀\u001b[0m\u001b[32m▝\u001b[0m\u001b[32m▀\u001b[0m\u001b[35m▀\u001b[0m                   \u001b[35m▝\u001b[0m\u001b[32m▀\u001b[0m\u001b[32m▚\u001b[0m\u001b[32m▖\u001b[0m       \u001b[32m▗\u001b[0m\u001b[35m▘\u001b[0m   │ \n",
            "││                                             \u001b[35m▚\u001b[0m\u001b[32m▚\u001b[0m\u001b[32m▖\u001b[0m     \u001b[32m▄\u001b[0m\u001b[32m▘\u001b[0m    │ \n",
            "││▁▁▁▁▁▁▁▁▁▁▁▁▁▁▁▁▁▁▁▁▁▁▁▁▁▁▁▁▁▁▁▁▁▁▁▁▁▁▁▁▁▁▁▁▁▁\u001b[35m▚\u001b[0m\u001b[32m▝\u001b[0m\u001b[32m▄\u001b[0m\u001b[32m▄\u001b[0m\u001b[32m▄\u001b[0m\u001b[32m▄\u001b[0m\u001b[32m▀\u001b[0m\u001b[35m▘\u001b[0m▁▁▁▁▁│ 0\n",
            "││                                               \u001b[35m▚\u001b[0m\u001b[35m▄\u001b[0m\u001b[35m▄\u001b[0m\u001b[32m▝\u001b[0m\u001b[35m▀\u001b[0m\u001b[35m▘\u001b[0m      │ \n",
            "└────────────────────────────────────────────────────────────┘\n",
            " 0                  50                  100\n",
            "                          \u001b[34m██\u001b[0m Input\n",
            "                          \u001b[35m██\u001b[0m Target\n",
            "                          \u001b[32m██\u001b[0m Output\n"
          ]
        },
        {
          "output_type": "stream",
          "name": "stderr",
          "text": [
            "100%|██████████| 107/107 [00:04<00:00, 22.89it/s]\n",
            "100%|██████████| 638/638 [01:14<00:00,  8.60it/s]\n",
            "100%|██████████| 107/107 [00:03<00:00, 28.27it/s]\n",
            "100%|██████████| 638/638 [01:12<00:00,  8.76it/s]\n",
            "100%|██████████| 107/107 [00:03<00:00, 27.93it/s]\n",
            "100%|██████████| 638/638 [01:17<00:00,  8.25it/s]\n",
            "  4%|▎         | 4/107 [00:00<00:05, 17.17it/s]"
          ]
        },
        {
          "output_type": "stream",
          "name": "stdout",
          "text": [
            "           Epoch: 6, Test Loss: 0.0060 - Example 0\n",
            "┌────────────────────────────────────────────────────────────┐\n",
            "│\u001b[34m▛\u001b[0m\u001b[34m▚\u001b[0m\u001b[34m▄\u001b[0m\u001b[34m▄\u001b[0m\u001b[34m▄\u001b[0m\u001b[34m▄\u001b[0m\u001b[34m▖\u001b[0m                     \u001b[32m▗\u001b[0m\u001b[32m▞\u001b[0m\u001b[32m▀\u001b[0m\u001b[32m▀\u001b[0m\u001b[32m▀\u001b[0m\u001b[32m▚\u001b[0m\u001b[32m▖\u001b[0m                         │ \n",
            "││     \u001b[34m▚\u001b[0m                   \u001b[32m▗\u001b[0m\u001b[35m▀\u001b[0m\u001b[32m▘\u001b[0m     \u001b[32m▝\u001b[0m\u001b[32m▀\u001b[0m\u001b[32m▖\u001b[0m                       │ 1\n",
            "││      \u001b[34m▀\u001b[0m\u001b[34m▖\u001b[0m                \u001b[35m▝\u001b[0m\u001b[32m▘\u001b[0m\u001b[32m▀\u001b[0m        \u001b[32m▝\u001b[0m\u001b[32m▄\u001b[0m                   \u001b[32m▗\u001b[0m \u001b[32m▄\u001b[0m│ \n",
            "││       \u001b[34m▘\u001b[0m\u001b[34m▖\u001b[0m              \u001b[35m▗\u001b[0m\u001b[32m▞\u001b[0m           \u001b[35m▝\u001b[0m\u001b[32m▀\u001b[0m\u001b[32m▙\u001b[0m               \u001b[32m▗\u001b[0m\u001b[32m▄\u001b[0m\u001b[32m▞\u001b[0m\u001b[32m▀\u001b[0m\u001b[35m▝\u001b[0m│ \n",
            "││       \u001b[34m▝\u001b[0m\u001b[34m▝\u001b[0m\u001b[34m▄\u001b[0m            \u001b[35m▗\u001b[0m\u001b[32m▟\u001b[0m              \u001b[35m▚\u001b[0m\u001b[32m▞\u001b[0m\u001b[32m▖\u001b[0m           \u001b[32m▗\u001b[0m\u001b[35m▗\u001b[0m\u001b[32m▖\u001b[0m    │ \n",
            "││          \u001b[34m▚\u001b[0m          \u001b[35m▗\u001b[0m\u001b[32m▞\u001b[0m                 \u001b[32m▞\u001b[0m          \u001b[32m▗\u001b[0m\u001b[32m▞\u001b[0m\u001b[32m▀\u001b[0m     │ 0\n",
            "││           \u001b[34m▚\u001b[0m       \u001b[32m▗\u001b[0m \u001b[32m▝\u001b[0m                  \u001b[35m▝\u001b[0m\u001b[32m▀\u001b[0m\u001b[32m▌\u001b[0m     \u001b[35m▗\u001b[0m\u001b[32m▄\u001b[0m\u001b[32m▟\u001b[0m\u001b[32m▘\u001b[0m       │ \n",
            "││           \u001b[34m▝\u001b[0m\u001b[34m▖\u001b[0m      \u001b[32m▘\u001b[0m \u001b[32m▝\u001b[0m                    \u001b[32m▝\u001b[0m\u001b[32m▀\u001b[0m\u001b[32m▀\u001b[0m\u001b[32m▚\u001b[0m\u001b[32m▞\u001b[0m\u001b[32m▄\u001b[0m\u001b[32m▀\u001b[0m          │ \n",
            "││            \u001b[34m▗\u001b[0m\u001b[34m▄\u001b[0m    \u001b[34m▗\u001b[0m\u001b[35m▝\u001b[0m\u001b[32m▀\u001b[0m\u001b[32m▘\u001b[0m                                     │ \n",
            "││              \u001b[34m▀\u001b[0m\u001b[34m▄\u001b[0m\u001b[34m▄\u001b[0m\u001b[34m▄\u001b[0m\u001b[34m▘\u001b[0m                                        │ \n",
            "└────────────────────────────────────────────────────────────┘\n",
            " 0                  50                  100\n",
            "                          \u001b[34m██\u001b[0m Input\n",
            "                          \u001b[35m██\u001b[0m Target\n",
            "                          \u001b[32m██\u001b[0m Output\n",
            "           Epoch: 6, Test Loss: 0.0032 - Example 1\n",
            "┌────────────────────────────────────────────────────────────┐\n",
            "││              \u001b[34m▄\u001b[0m\u001b[34m▀\u001b[0m\u001b[34m▀\u001b[0m\u001b[34m▀\u001b[0m\u001b[34m▀\u001b[0m\u001b[32m▗\u001b[0m\u001b[32m▖\u001b[0m                                      │ \n",
            "││            \u001b[34m▄\u001b[0m\u001b[34m▞\u001b[0m      \u001b[32m▝\u001b[0m\u001b[32m▀\u001b[0m\u001b[32m▖\u001b[0m                                    │ 1\n",
            "││           \u001b[34m▝\u001b[0m          \u001b[32m▝\u001b[0m\u001b[32m▜\u001b[0m\u001b[32m▄\u001b[0m                   \u001b[32m▖\u001b[0m\u001b[32m▗\u001b[0m\u001b[32m▖\u001b[0m            │ \n",
            "││           \u001b[34m▞\u001b[0m       \u001b[32m▖\u001b[0m   \u001b[35m▝\u001b[0m\u001b[35m▀\u001b[0m\u001b[32m▚\u001b[0m               \u001b[35m▖\u001b[0m\u001b[32m▄\u001b[0m\u001b[32m▞\u001b[0m\u001b[32m▀\u001b[0m\u001b[32m▘\u001b[0m\u001b[32m▝\u001b[0m\u001b[32m▀\u001b[0m\u001b[32m▀\u001b[0m\u001b[32m▄\u001b[0m\u001b[32m▄\u001b[0m\u001b[32m▄\u001b[0m       │ \n",
            "││         \u001b[34m▗\u001b[0m\u001b[34m▀\u001b[0m              \u001b[32m▝\u001b[0m\u001b[32m▄\u001b[0m\u001b[32m▘\u001b[0m           \u001b[32m▗\u001b[0m\u001b[35m▗\u001b[0m\u001b[35m▝\u001b[0m\u001b[32m▘\u001b[0m       \u001b[35m▝\u001b[0m\u001b[35m▀\u001b[0m\u001b[32m▀\u001b[0m\u001b[32m▚\u001b[0m\u001b[32m▄\u001b[0m    │ \n",
            "││         \u001b[34m▞\u001b[0m                 \u001b[32m▝\u001b[0m          \u001b[32m▗\u001b[0m\u001b[32m▖\u001b[0m\u001b[32m▀\u001b[0m\u001b[32m▀\u001b[0m            \u001b[32m▝\u001b[0m\u001b[32m▄\u001b[0m\u001b[32m▖\u001b[0m  │ 0\n",
            "││        \u001b[34m▞\u001b[0m                  \u001b[35m▝\u001b[0m\u001b[32m▀\u001b[0m\u001b[32m▚\u001b[0m\u001b[32m▖\u001b[0m     \u001b[32m▗\u001b[0m\u001b[32m▄\u001b[0m\u001b[32m▘\u001b[0m                \u001b[35m▝\u001b[0m\u001b[32m▗\u001b[0m  │ \n",
            "│\u001b[34m▌\u001b[0m      \u001b[34m▄\u001b[0m                      \u001b[35m▝\u001b[0m\u001b[32m▀\u001b[0m\u001b[32m▀\u001b[0m\u001b[32m▚\u001b[0m\u001b[32m▄\u001b[0m\u001b[32m▄\u001b[0m\u001b[32m▞\u001b[0m\u001b[32m▘\u001b[0m                   \u001b[32m▝\u001b[0m\u001b[32m▚\u001b[0m\u001b[32m▘\u001b[0m│ \n",
            "│\u001b[34m▗\u001b[0m\u001b[34m▄\u001b[0m\u001b[34m▖\u001b[0m   \u001b[34m▗\u001b[0m \u001b[34m▀\u001b[0m                                                  \u001b[32m▝\u001b[0m│ \n",
            "││ \u001b[34m▀\u001b[0m\u001b[34m▄\u001b[0m\u001b[34m▄\u001b[0m\u001b[34m▄\u001b[0m\u001b[34m▌\u001b[0m                                                    \u001b[35m▝\u001b[0m│ \n",
            "└────────────────────────────────────────────────────────────┘\n",
            " 0                  50                  100\n",
            "                          \u001b[34m██\u001b[0m Input\n",
            "                          \u001b[35m██\u001b[0m Target\n",
            "                          \u001b[32m██\u001b[0m Output\n",
            "           Epoch: 6, Test Loss: 0.0060 - Example 2\n",
            "┌────────────────────────────────────────────────────────────┐\n",
            "││ \u001b[34m▞\u001b[0m\u001b[34m▀\u001b[0m\u001b[34m▀\u001b[0m\u001b[34m▀\u001b[0m\u001b[34m▀\u001b[0m\u001b[34m▚\u001b[0m\u001b[34m▄\u001b[0m                                                   │ \n",
            "│\u001b[34m▄\u001b[0m\u001b[34m▞\u001b[0m       \u001b[34m▀\u001b[0m\u001b[34m▄\u001b[0m                                                 │ 1\n",
            "││         \u001b[34m▝\u001b[0m\u001b[34m▚\u001b[0m\u001b[34m▄\u001b[0m                  \u001b[32m▗\u001b[0m\u001b[32m▄\u001b[0m\u001b[32m▄\u001b[0m\u001b[32m▄\u001b[0m\u001b[32m▄\u001b[0m\u001b[32m▄\u001b[0m                      \u001b[32m▗\u001b[0m│ \n",
            "││            \u001b[34m▚\u001b[0m               \u001b[32m▝\u001b[0m\u001b[32m▄\u001b[0m\u001b[32m▘\u001b[0m    \u001b[35m▀\u001b[0m\u001b[32m▀\u001b[0m\u001b[32m▀\u001b[0m\u001b[32m▙\u001b[0m\u001b[32m▄\u001b[0m\u001b[32m▖\u001b[0m  \u001b[32m▄\u001b[0m             \u001b[35m▗\u001b[0m\u001b[32m▝\u001b[0m│ \n",
            "││             \u001b[34m▀\u001b[0m\u001b[34m▖\u001b[0m    \u001b[32m▞\u001b[0m      \u001b[32m▗\u001b[0m\u001b[32m▄\u001b[0m\u001b[32m▘\u001b[0m           \u001b[32m▝\u001b[0m\u001b[32m▀\u001b[0m\u001b[32m▀\u001b[0m             \u001b[35m▗\u001b[0m\u001b[32m▞\u001b[0m\u001b[32m▘\u001b[0m│ \n",
            "││              \u001b[34m▝\u001b[0m\u001b[34m▜\u001b[0m        \u001b[32m▗\u001b[0m\u001b[32m▟\u001b[0m\u001b[32m▘\u001b[0m               \u001b[35m▀\u001b[0m\u001b[35m▖\u001b[0m           \u001b[35m▗\u001b[0m\u001b[32m▄\u001b[0m  │ \n",
            "││                \u001b[34m▀\u001b[0m\u001b[34m▄\u001b[0m\u001b[34m▄\u001b[0m\u001b[32m▗\u001b[0m\u001b[32m▞\u001b[0m\u001b[32m▟\u001b[0m\u001b[32m▄\u001b[0m\u001b[32m▀\u001b[0m\u001b[32m▘\u001b[0m                  \u001b[35m▝\u001b[0m\u001b[32m▙\u001b[0m\u001b[32m▄\u001b[0m        \u001b[35m▝\u001b[0m\u001b[32m▀\u001b[0m   │ \n",
            "││                                             \u001b[35m▚\u001b[0m\u001b[32m▖\u001b[0m      \u001b[35m▗\u001b[0m\u001b[32m▗\u001b[0m    │ \n",
            "││▁▁▁▁▁▁▁▁▁▁▁▁▁▁▁▁▁▁▁▁▁▁▁▁▁▁▁▁▁▁▁▁▁▁▁▁▁▁▁▁▁▁▁▁▁▁\u001b[32m▝\u001b[0m\u001b[32m▖\u001b[0m▁▁▁▁\u001b[32m▗\u001b[0m\u001b[32m▀\u001b[0m\u001b[32m▘\u001b[0m▁▁▁▁│ 0\n",
            "││                                               \u001b[32m▝\u001b[0m\u001b[32m▞\u001b[0m\u001b[32m▄\u001b[0m\u001b[32m▜\u001b[0m\u001b[32m▀\u001b[0m\u001b[32m▀\u001b[0m      │ \n",
            "└────────────────────────────────────────────────────────────┘\n",
            " 0                  50                  100\n",
            "                          \u001b[34m██\u001b[0m Input\n",
            "                          \u001b[35m██\u001b[0m Target\n",
            "                          \u001b[32m██\u001b[0m Output\n"
          ]
        },
        {
          "output_type": "stream",
          "name": "stderr",
          "text": [
            "100%|██████████| 107/107 [00:03<00:00, 28.31it/s]\n",
            "100%|██████████| 638/638 [01:13<00:00,  8.65it/s]\n",
            "100%|██████████| 107/107 [00:03<00:00, 28.59it/s]\n",
            "100%|██████████| 638/638 [01:12<00:00,  8.84it/s]\n",
            "100%|██████████| 107/107 [00:04<00:00, 25.11it/s]\n",
            "100%|██████████| 638/638 [01:10<00:00,  9.00it/s]\n",
            "  2%|▏         | 2/107 [00:00<00:09, 11.03it/s]"
          ]
        },
        {
          "output_type": "stream",
          "name": "stdout",
          "text": [
            "           Epoch: 9, Test Loss: 0.0058 - Example 0\n",
            "┌────────────────────────────────────────────────────────────┐\n",
            "│\u001b[34m▛\u001b[0m\u001b[34m▚\u001b[0m\u001b[34m▄\u001b[0m\u001b[34m▄\u001b[0m\u001b[34m▄\u001b[0m\u001b[34m▄\u001b[0m\u001b[34m▖\u001b[0m                     \u001b[32m▗\u001b[0m\u001b[32m▀\u001b[0m\u001b[32m▀\u001b[0m\u001b[32m▀\u001b[0m\u001b[32m▀\u001b[0m\u001b[32m▙\u001b[0m\u001b[32m▄\u001b[0m                         │ \n",
            "││     \u001b[34m▚\u001b[0m                   \u001b[35m▄\u001b[0m\u001b[32m▄\u001b[0m\u001b[32m▖\u001b[0m     \u001b[35m▀\u001b[0m\u001b[32m▀\u001b[0m\u001b[32m▖\u001b[0m                       │ 1\n",
            "││      \u001b[34m▀\u001b[0m\u001b[34m▖\u001b[0m                \u001b[35m▝\u001b[0m\u001b[32m▀\u001b[0m         \u001b[32m▝\u001b[0m\u001b[32m▄\u001b[0m                     \u001b[32m▗\u001b[0m│ \n",
            "││       \u001b[34m▘\u001b[0m\u001b[34m▖\u001b[0m              \u001b[35m▗\u001b[0m\u001b[32m▄\u001b[0m           \u001b[35m▝\u001b[0m\u001b[32m▀\u001b[0m\u001b[32m▘\u001b[0m               \u001b[32m▗\u001b[0m\u001b[32m▄\u001b[0m\u001b[32m▞\u001b[0m\u001b[32m▀\u001b[0m\u001b[32m▘\u001b[0m│ \n",
            "││       \u001b[34m▝\u001b[0m\u001b[34m▝\u001b[0m\u001b[34m▄\u001b[0m            \u001b[35m▗\u001b[0m\u001b[32m▐\u001b[0m              \u001b[32m▝\u001b[0m\u001b[32m▄\u001b[0m\u001b[32m▄\u001b[0m            \u001b[35m▗\u001b[0m\u001b[32m▞\u001b[0m    │ \n",
            "││          \u001b[34m▚\u001b[0m          \u001b[35m▗\u001b[0m\u001b[35m▘\u001b[0m                 \u001b[35m▖\u001b[0m          \u001b[32m▗\u001b[0m\u001b[32m▞\u001b[0m\u001b[32m▀\u001b[0m     │ 0\n",
            "││           \u001b[34m▄\u001b[0m         \u001b[35m▝\u001b[0m\u001b[32m▄\u001b[0m\u001b[32m▖\u001b[0m                \u001b[35m▝\u001b[0m\u001b[32m▀\u001b[0m\u001b[32m▙\u001b[0m      \u001b[32m▗\u001b[0m\u001b[32m▟\u001b[0m\u001b[32m▘\u001b[0m       │ \n",
            "││           \u001b[34m▝\u001b[0m\u001b[34m▖\u001b[0m      \u001b[32m▀\u001b[0m \u001b[32m▝\u001b[0m                    \u001b[35m▀\u001b[0m\u001b[32m▀\u001b[0m\u001b[32m▀\u001b[0m\u001b[32m▚\u001b[0m\u001b[32m▄\u001b[0m\u001b[32m▄\u001b[0m\u001b[32m▛\u001b[0m\u001b[32m▘\u001b[0m         │ \n",
            "││            \u001b[34m▗\u001b[0m\u001b[34m▄\u001b[0m    \u001b[34m▗\u001b[0m\u001b[35m▚\u001b[0m\u001b[32m▚\u001b[0m\u001b[32m▘\u001b[0m                                     │ \n",
            "││              \u001b[34m▀\u001b[0m\u001b[34m▄\u001b[0m\u001b[34m▄\u001b[0m\u001b[34m▄\u001b[0m\u001b[34m▘\u001b[0m                                        │ \n",
            "└────────────────────────────────────────────────────────────┘\n",
            " 0                  50                  100\n",
            "                          \u001b[34m██\u001b[0m Input\n",
            "                          \u001b[35m██\u001b[0m Target\n",
            "                          \u001b[32m██\u001b[0m Output\n",
            "           Epoch: 9, Test Loss: 0.0080 - Example 1\n",
            "┌────────────────────────────────────────────────────────────┐\n",
            "││              \u001b[34m▄\u001b[0m\u001b[34m▀\u001b[0m\u001b[34m▀\u001b[0m\u001b[34m▀\u001b[0m\u001b[34m▀\u001b[0m\u001b[35m▄\u001b[0m                                       │ \n",
            "││            \u001b[34m▄\u001b[0m\u001b[34m▞\u001b[0m      \u001b[32m▝\u001b[0m\u001b[32m▀\u001b[0m\u001b[32m▖\u001b[0m                                    │ 1\n",
            "││           \u001b[34m▝\u001b[0m          \u001b[32m▝\u001b[0m\u001b[32m▄\u001b[0m\u001b[32m▖\u001b[0m                    \u001b[35m▄\u001b[0m\u001b[32m▄\u001b[0m\u001b[32m▖\u001b[0m           │ \n",
            "││           \u001b[34m▞\u001b[0m       \u001b[32m▀\u001b[0m\u001b[32m▘\u001b[0m  \u001b[35m▝\u001b[0m\u001b[32m▝\u001b[0m\u001b[32m▀\u001b[0m               \u001b[32m▗\u001b[0m\u001b[32m▄\u001b[0m\u001b[32m▄\u001b[0m\u001b[32m▀\u001b[0m\u001b[32m▀\u001b[0m\u001b[35m▀\u001b[0m\u001b[32m▝\u001b[0m\u001b[32m▀\u001b[0m\u001b[32m▚\u001b[0m\u001b[32m▄\u001b[0m\u001b[32m▄\u001b[0m       │ \n",
            "││         \u001b[34m▗\u001b[0m\u001b[34m▀\u001b[0m              \u001b[32m▝\u001b[0m\u001b[32m▚\u001b[0m\u001b[32m▖\u001b[0m            \u001b[35m▗\u001b[0m\u001b[35m▝\u001b[0m\u001b[35m▘\u001b[0m       \u001b[35m▝\u001b[0m\u001b[35m▀\u001b[0m\u001b[32m▀\u001b[0m\u001b[32m▀\u001b[0m\u001b[32m▚\u001b[0m    │ \n",
            "││         \u001b[34m▞\u001b[0m                 \u001b[32m▗\u001b[0m          \u001b[32m▗\u001b[0m\u001b[32m▞\u001b[0m\u001b[32m▀\u001b[0m\u001b[32m▘\u001b[0m            \u001b[32m▝\u001b[0m\u001b[32m▀\u001b[0m   │ 0\n",
            "││        \u001b[34m▞\u001b[0m                  \u001b[35m▝\u001b[0m\u001b[32m▀\u001b[0m\u001b[32m▚\u001b[0m\u001b[32m▖\u001b[0m     \u001b[32m▗\u001b[0m\u001b[32m▄\u001b[0m\u001b[32m▘\u001b[0m                \u001b[35m▝\u001b[0m\u001b[32m▚\u001b[0m \u001b[32m▗\u001b[0m│ \n",
            "│\u001b[34m▌\u001b[0m      \u001b[34m▄\u001b[0m                      \u001b[35m▝\u001b[0m\u001b[32m▀\u001b[0m\u001b[32m▞\u001b[0m\u001b[32m▚\u001b[0m\u001b[32m▀\u001b[0m\u001b[32m▙\u001b[0m\u001b[32m▞\u001b[0m\u001b[32m▘\u001b[0m                   \u001b[32m▝\u001b[0m\u001b[32m▞\u001b[0m\u001b[32m▘\u001b[0m│ \n",
            "│\u001b[34m▗\u001b[0m\u001b[34m▄\u001b[0m\u001b[34m▖\u001b[0m   \u001b[34m▗\u001b[0m \u001b[34m▀\u001b[0m                                                  \u001b[35m▚\u001b[0m│ \n",
            "││ \u001b[34m▀\u001b[0m\u001b[34m▄\u001b[0m\u001b[34m▄\u001b[0m\u001b[34m▄\u001b[0m\u001b[34m▌\u001b[0m                                                    \u001b[35m▝\u001b[0m│ \n",
            "└────────────────────────────────────────────────────────────┘\n",
            " 0                  50                  100\n",
            "                          \u001b[34m██\u001b[0m Input\n",
            "                          \u001b[35m██\u001b[0m Target\n",
            "                          \u001b[32m██\u001b[0m Output\n",
            "           Epoch: 9, Test Loss: 0.0068 - Example 2\n"
          ]
        },
        {
          "output_type": "stream",
          "name": "stderr",
          "text": [
            "  7%|▋         | 7/107 [00:00<00:06, 16.32it/s]"
          ]
        },
        {
          "output_type": "stream",
          "name": "stdout",
          "text": [
            "┌────────────────────────────────────────────────────────────┐\n",
            "││ \u001b[34m▞\u001b[0m\u001b[34m▀\u001b[0m\u001b[34m▀\u001b[0m\u001b[34m▀\u001b[0m\u001b[34m▀\u001b[0m\u001b[34m▚\u001b[0m\u001b[34m▄\u001b[0m                                                   │ \n",
            "│\u001b[34m▄\u001b[0m\u001b[34m▞\u001b[0m       \u001b[34m▀\u001b[0m\u001b[34m▄\u001b[0m                                                 │ 1\n",
            "││         \u001b[34m▝\u001b[0m\u001b[34m▚\u001b[0m\u001b[34m▄\u001b[0m                  \u001b[35m▄\u001b[0m\u001b[35m▄\u001b[0m\u001b[32m▞\u001b[0m\u001b[32m▄\u001b[0m\u001b[32m▄\u001b[0m\u001b[32m▄\u001b[0m                      \u001b[32m▗\u001b[0m│ \n",
            "││            \u001b[34m▚\u001b[0m               \u001b[32m▗\u001b[0m\u001b[32m▞\u001b[0m\u001b[32m▀\u001b[0m\u001b[32m▀\u001b[0m   \u001b[35m▝\u001b[0m\u001b[32m▀\u001b[0m\u001b[32m▀\u001b[0m\u001b[32m▚\u001b[0m\u001b[32m▄\u001b[0m\u001b[32m▀\u001b[0m\u001b[32m▖\u001b[0m\u001b[32m▖\u001b[0m              \u001b[35m▗\u001b[0m\u001b[32m▄\u001b[0m│ \n",
            "││             \u001b[34m▀\u001b[0m\u001b[34m▖\u001b[0m    \u001b[32m▀\u001b[0m     \u001b[35m▗\u001b[0m\u001b[32m▞\u001b[0m\u001b[32m▄\u001b[0m\u001b[32m▘\u001b[0m           \u001b[35m▀\u001b[0m\u001b[32m▝\u001b[0m\u001b[32m▘\u001b[0m             \u001b[35m▗\u001b[0m\u001b[35m▘\u001b[0m │ \n",
            "││              \u001b[34m▝\u001b[0m\u001b[34m▀\u001b[0m\u001b[34m▖\u001b[0m      \u001b[35m▗\u001b[0m\u001b[32m▗\u001b[0m\u001b[32m▟\u001b[0m                \u001b[32m▝\u001b[0m\u001b[32m▚\u001b[0m\u001b[32m▖\u001b[0m          \u001b[35m▗\u001b[0m\u001b[32m▄\u001b[0m\u001b[32m▞\u001b[0m │ \n",
            "││                \u001b[34m▝\u001b[0m\u001b[34m▚\u001b[0m\u001b[34m▀\u001b[0m\u001b[32m▗\u001b[0m\u001b[32m▄\u001b[0m\u001b[32m▀\u001b[0m\u001b[32m▚\u001b[0m\u001b[32m▀\u001b[0m\u001b[32m▘\u001b[0m                  \u001b[35m▝\u001b[0m\u001b[32m▄\u001b[0m\u001b[32m▖\u001b[0m        \u001b[35m▝\u001b[0m\u001b[32m▝\u001b[0m   │ \n",
            "││                                             \u001b[32m▝\u001b[0m\u001b[32m▖\u001b[0m      \u001b[35m▗\u001b[0m\u001b[32m▗\u001b[0m\u001b[32m▘\u001b[0m   │ \n",
            "││▁▁▁▁▁▁▁▁▁▁▁▁▁▁▁▁▁▁▁▁▁▁▁▁▁▁▁▁▁▁▁▁▁▁▁▁▁▁▁▁▁▁▁▁▁▁\u001b[32m▝\u001b[0m\u001b[32m▘\u001b[0m\u001b[32m▖\u001b[0m▁▁▁\u001b[32m▗\u001b[0m\u001b[32m▞\u001b[0m\u001b[32m▘\u001b[0m▁▁▁▁│ 0\n",
            "││                                               \u001b[32m▝\u001b[0m\u001b[32m▚\u001b[0m\u001b[32m▄\u001b[0m\u001b[32m▄\u001b[0m\u001b[32m▄\u001b[0m\u001b[32m▀\u001b[0m      │ \n",
            "└────────────────────────────────────────────────────────────┘\n",
            " 0                  50                  100\n",
            "                          \u001b[34m██\u001b[0m Input\n",
            "                          \u001b[35m██\u001b[0m Target\n",
            "                          \u001b[32m██\u001b[0m Output\n"
          ]
        },
        {
          "output_type": "stream",
          "name": "stderr",
          "text": [
            "100%|██████████| 107/107 [00:04<00:00, 25.57it/s]\n",
            "100%|██████████| 638/638 [01:10<00:00,  9.05it/s]\n",
            "100%|██████████| 107/107 [00:03<00:00, 30.47it/s]\n",
            "100%|██████████| 638/638 [01:11<00:00,  8.90it/s]\n",
            "100%|██████████| 107/107 [00:03<00:00, 28.90it/s]\n",
            "100%|██████████| 638/638 [01:12<00:00,  8.82it/s]\n",
            "  4%|▎         | 4/107 [00:00<00:05, 17.77it/s]"
          ]
        },
        {
          "output_type": "stream",
          "name": "stdout",
          "text": [
            "           Epoch: 12, Test Loss: 0.0055 - Example 0\n",
            "┌────────────────────────────────────────────────────────────┐\n",
            "│\u001b[34m▛\u001b[0m\u001b[34m▚\u001b[0m\u001b[34m▄\u001b[0m\u001b[34m▄\u001b[0m\u001b[34m▄\u001b[0m\u001b[34m▄\u001b[0m\u001b[34m▖\u001b[0m                     \u001b[32m▐\u001b[0m\u001b[32m▀\u001b[0m\u001b[32m▀\u001b[0m\u001b[32m▀\u001b[0m\u001b[32m▀\u001b[0m\u001b[32m▚\u001b[0m\u001b[32m▄\u001b[0m                         │ \n",
            "││     \u001b[34m▚\u001b[0m                   \u001b[32m▗\u001b[0m\u001b[32m▞\u001b[0m\u001b[32m▘\u001b[0m     \u001b[35m▀\u001b[0m\u001b[32m▀\u001b[0m\u001b[32m▄\u001b[0m                       │ 1\n",
            "││      \u001b[34m▀\u001b[0m\u001b[34m▖\u001b[0m                \u001b[35m▝\u001b[0m          \u001b[35m▚\u001b[0m\u001b[32m▄\u001b[0m\u001b[32m▖\u001b[0m                    \u001b[32m▗\u001b[0m│ \n",
            "││       \u001b[34m▘\u001b[0m\u001b[34m▖\u001b[0m              \u001b[35m▗\u001b[0m\u001b[32m▞\u001b[0m\u001b[32m▘\u001b[0m          \u001b[35m▝\u001b[0m\u001b[32m▝\u001b[0m\u001b[32m▘\u001b[0m               \u001b[35m▖\u001b[0m\u001b[32m▄\u001b[0m\u001b[32m▄\u001b[0m\u001b[32m▀\u001b[0m\u001b[32m▀\u001b[0m│ \n",
            "││       \u001b[34m▝\u001b[0m\u001b[34m▝\u001b[0m\u001b[34m▄\u001b[0m            \u001b[35m▗\u001b[0m\u001b[32m▝\u001b[0m              \u001b[32m▝\u001b[0m\u001b[32m▀\u001b[0m\u001b[32m▖\u001b[0m            \u001b[35m▗\u001b[0m\u001b[32m▝\u001b[0m    │ \n",
            "││          \u001b[34m▚\u001b[0m          \u001b[35m▗\u001b[0m\u001b[32m▄\u001b[0m\u001b[32m▀\u001b[0m                \u001b[32m▗\u001b[0m\u001b[32m▖\u001b[0m\u001b[32m▗\u001b[0m\u001b[32m▖\u001b[0m       \u001b[35m▄\u001b[0m\u001b[32m▟\u001b[0m\u001b[32m▀\u001b[0m\u001b[32m▀\u001b[0m    │ 0\n",
            "││           \u001b[34m▚\u001b[0m         \u001b[32m▝\u001b[0m                  \u001b[35m▝\u001b[0m\u001b[32m▝\u001b[0m\u001b[32m▘\u001b[0m     \u001b[35m▗\u001b[0m\u001b[32m▗\u001b[0m\u001b[32m▟\u001b[0m\u001b[32m▀\u001b[0m       │ \n",
            "││           \u001b[34m▝\u001b[0m\u001b[34m▖\u001b[0m      \u001b[32m▄\u001b[0m\u001b[32m▖\u001b[0m\u001b[32m▝\u001b[0m                    \u001b[35m▀\u001b[0m\u001b[32m▝\u001b[0m\u001b[32m▀\u001b[0m\u001b[32m▚\u001b[0m\u001b[32m▄\u001b[0m\u001b[32m▄\u001b[0m\u001b[32m▞\u001b[0m\u001b[32m▘\u001b[0m         │ \n",
            "││            \u001b[34m▗\u001b[0m\u001b[34m▄\u001b[0m    \u001b[34m▗\u001b[0m\u001b[35m▝\u001b[0m\u001b[32m▝\u001b[0m\u001b[32m▘\u001b[0m                                     │ \n",
            "││              \u001b[34m▀\u001b[0m\u001b[34m▄\u001b[0m\u001b[34m▄\u001b[0m\u001b[34m▄\u001b[0m\u001b[34m▘\u001b[0m                                        │ \n",
            "└────────────────────────────────────────────────────────────┘\n",
            " 0                  50                  100\n",
            "                          \u001b[34m██\u001b[0m Input\n",
            "                          \u001b[35m██\u001b[0m Target\n",
            "                          \u001b[32m██\u001b[0m Output\n",
            "           Epoch: 12, Test Loss: 0.0078 - Example 1\n",
            "┌────────────────────────────────────────────────────────────┐\n",
            "││              \u001b[34m▄\u001b[0m\u001b[34m▀\u001b[0m\u001b[34m▀\u001b[0m\u001b[34m▀\u001b[0m\u001b[34m▀\u001b[0m\u001b[32m▗\u001b[0m\u001b[32m▄\u001b[0m                                      │ \n",
            "││            \u001b[34m▄\u001b[0m\u001b[34m▞\u001b[0m      \u001b[35m▀\u001b[0m\u001b[32m▀\u001b[0m\u001b[32m▖\u001b[0m                                    │ 1\n",
            "││           \u001b[34m▝\u001b[0m          \u001b[32m▝\u001b[0m\u001b[32m▄\u001b[0m\u001b[32m▖\u001b[0m                    \u001b[32m▄\u001b[0m\u001b[32m▄\u001b[0m            │ \n",
            "││           \u001b[34m▞\u001b[0m       \u001b[32m▀\u001b[0m   \u001b[35m▝\u001b[0m\u001b[32m▝\u001b[0m\u001b[32m▚\u001b[0m               \u001b[35m▖\u001b[0m\u001b[32m▄\u001b[0m\u001b[32m▄\u001b[0m\u001b[32m▀\u001b[0m \u001b[35m▀\u001b[0m\u001b[32m▀\u001b[0m\u001b[32m▀\u001b[0m\u001b[32m▀\u001b[0m\u001b[32m▄\u001b[0m\u001b[32m▄\u001b[0m\u001b[32m▗\u001b[0m      │ \n",
            "││         \u001b[34m▗\u001b[0m\u001b[34m▀\u001b[0m              \u001b[32m▝\u001b[0m\u001b[32m▞\u001b[0m\u001b[32m▄\u001b[0m            \u001b[35m▗\u001b[0m\u001b[32m▄\u001b[0m\u001b[32m▘\u001b[0m       \u001b[35m▝\u001b[0m\u001b[35m▀\u001b[0m\u001b[32m▀\u001b[0m\u001b[32m▀\u001b[0m\u001b[32m▚\u001b[0m\u001b[32m▘\u001b[0m   │ \n",
            "││         \u001b[34m▞\u001b[0m                 \u001b[32m▗\u001b[0m \u001b[32m▗\u001b[0m        \u001b[35m▄\u001b[0m\u001b[32m▞\u001b[0m\u001b[32m▀\u001b[0m             \u001b[35m▐\u001b[0m\u001b[32m▗\u001b[0m\u001b[32m▟\u001b[0m\u001b[32m▘\u001b[0m │ 0\n",
            "││        \u001b[34m▞\u001b[0m                  \u001b[35m▝\u001b[0m\u001b[32m▀\u001b[0m\u001b[32m▘\u001b[0m\u001b[32m▄\u001b[0m\u001b[32m▞\u001b[0m    \u001b[32m▗\u001b[0m\u001b[32m▄\u001b[0m\u001b[32m▀\u001b[0m                \u001b[35m▝\u001b[0m\u001b[35m▖\u001b[0m  │ \n",
            "│\u001b[34m▌\u001b[0m      \u001b[34m▄\u001b[0m                      \u001b[35m▝\u001b[0m\u001b[32m▘\u001b[0m\u001b[35m▀\u001b[0m\u001b[32m▙\u001b[0m\u001b[32m▄\u001b[0m\u001b[32m▙\u001b[0m\u001b[32m▄\u001b[0m\u001b[32m▘\u001b[0m                   \u001b[35m▝\u001b[0m\u001b[32m▗\u001b[0m\u001b[32m▄\u001b[0m│ \n",
            "│\u001b[34m▗\u001b[0m\u001b[34m▄\u001b[0m\u001b[34m▖\u001b[0m   \u001b[34m▗\u001b[0m \u001b[34m▀\u001b[0m                                                  \u001b[32m▗\u001b[0m│ \n",
            "││ \u001b[34m▀\u001b[0m\u001b[34m▄\u001b[0m\u001b[34m▄\u001b[0m\u001b[34m▄\u001b[0m\u001b[34m▌\u001b[0m                                                    \u001b[35m▝\u001b[0m│ \n",
            "└────────────────────────────────────────────────────────────┘\n",
            " 0                  50                  100\n",
            "                          \u001b[34m██\u001b[0m Input\n",
            "                          \u001b[35m██\u001b[0m Target\n",
            "                          \u001b[32m██\u001b[0m Output\n",
            "           Epoch: 12, Test Loss: 0.0103 - Example 2\n",
            "┌────────────────────────────────────────────────────────────┐\n",
            "││ \u001b[34m▞\u001b[0m\u001b[34m▀\u001b[0m\u001b[34m▀\u001b[0m\u001b[34m▀\u001b[0m\u001b[34m▀\u001b[0m\u001b[34m▚\u001b[0m\u001b[34m▄\u001b[0m                                                   │ \n",
            "│\u001b[34m▄\u001b[0m\u001b[34m▞\u001b[0m       \u001b[34m▀\u001b[0m\u001b[34m▄\u001b[0m                                                 │ 1\n",
            "││         \u001b[34m▝\u001b[0m\u001b[34m▚\u001b[0m\u001b[34m▄\u001b[0m                  \u001b[35m▄\u001b[0m\u001b[32m▄\u001b[0m\u001b[32m▞\u001b[0m\u001b[32m▚\u001b[0m\u001b[32m▄\u001b[0m\u001b[32m▄\u001b[0m                      \u001b[32m▗\u001b[0m│ \n",
            "││            \u001b[34m▚\u001b[0m               \u001b[32m▗\u001b[0m\u001b[32m▞\u001b[0m\u001b[32m▀\u001b[0m    \u001b[35m▝\u001b[0m\u001b[32m▀\u001b[0m\u001b[32m▀\u001b[0m\u001b[32m▀\u001b[0m\u001b[32m▄\u001b[0m\u001b[32m▚\u001b[0m\u001b[32m▄\u001b[0m               \u001b[35m▗\u001b[0m\u001b[32m▝\u001b[0m│ \n",
            "││             \u001b[34m▀\u001b[0m\u001b[34m▖\u001b[0m    \u001b[32m▀\u001b[0m     \u001b[35m▗\u001b[0m\u001b[32m▗\u001b[0m\u001b[32m▄\u001b[0m\u001b[32m▘\u001b[0m           \u001b[35m▀\u001b[0m\u001b[35m▚\u001b[0m\u001b[32m▄\u001b[0m   \u001b[32m▄\u001b[0m         \u001b[32m▗\u001b[0m\u001b[32m▄\u001b[0m\u001b[32m▖\u001b[0m│ \n",
            "││              \u001b[34m▝\u001b[0m\u001b[34m▀\u001b[0m\u001b[34m▖\u001b[0m      \u001b[35m▗\u001b[0m\u001b[32m▗\u001b[0m\u001b[32m▟\u001b[0m\u001b[32m▘\u001b[0m               \u001b[32m▘\u001b[0m\u001b[32m▚\u001b[0m\u001b[32m▞\u001b[0m\u001b[32m▀\u001b[0m\u001b[32m▘\u001b[0m        \u001b[35m▗\u001b[0m\u001b[32m▗\u001b[0m  │ \n",
            "││                \u001b[34m▝\u001b[0m\u001b[34m▚\u001b[0m\u001b[34m▀\u001b[0m\u001b[32m▗\u001b[0m\u001b[32m▚\u001b[0m\u001b[32m▄\u001b[0m\u001b[32m▄\u001b[0m\u001b[32m▞\u001b[0m\u001b[32m▘\u001b[0m                  \u001b[35m▝\u001b[0m\u001b[35m▄\u001b[0m         \u001b[35m▝\u001b[0m\u001b[32m▝\u001b[0m\u001b[32m▘\u001b[0m  │ \n",
            "││                                             \u001b[35m▚\u001b[0m\u001b[35m▖\u001b[0m      \u001b[35m▗\u001b[0m\u001b[32m▐\u001b[0m\u001b[32m▘\u001b[0m   │ \n",
            "││▁▁▁▁▁▁▁▁▁▁▁▁▁▁▁▁▁▁▁▁▁▁▁▁▁▁▁▁▁▁▁▁▁▁▁▁▁▁▁▁▁▁▁▁▁▁\u001b[35m▚\u001b[0m\u001b[32m▘\u001b[0m▁▁▁▁\u001b[35m▟\u001b[0m\u001b[32m▞\u001b[0m\u001b[32m▘\u001b[0m▁▁▁▁│ 0\n",
            "││                                               \u001b[32m▝\u001b[0m\u001b[32m▄\u001b[0m\u001b[32m▄\u001b[0m\u001b[32m▄\u001b[0m\u001b[32m▄\u001b[0m\u001b[32m▀\u001b[0m      │ \n",
            "└────────────────────────────────────────────────────────────┘\n",
            " 0                  50                  100\n",
            "                          \u001b[34m██\u001b[0m Input\n",
            "                          \u001b[35m██\u001b[0m Target\n",
            "                          \u001b[32m██\u001b[0m Output\n"
          ]
        },
        {
          "output_type": "stream",
          "name": "stderr",
          "text": [
            "100%|██████████| 107/107 [00:03<00:00, 29.13it/s]\n",
            "100%|██████████| 638/638 [01:11<00:00,  8.87it/s]\n",
            "100%|██████████| 107/107 [00:04<00:00, 24.51it/s]\n",
            "100%|██████████| 638/638 [01:11<00:00,  8.88it/s]\n",
            "100%|██████████| 107/107 [00:04<00:00, 26.24it/s]\n",
            "100%|██████████| 638/638 [01:12<00:00,  8.83it/s]\n",
            "  4%|▎         | 4/107 [00:00<00:05, 17.63it/s]"
          ]
        },
        {
          "output_type": "stream",
          "name": "stdout",
          "text": [
            "           Epoch: 15, Test Loss: 0.0062 - Example 0\n",
            "┌────────────────────────────────────────────────────────────┐\n",
            "│\u001b[34m▛\u001b[0m\u001b[34m▚\u001b[0m\u001b[34m▄\u001b[0m\u001b[34m▄\u001b[0m\u001b[34m▄\u001b[0m\u001b[34m▄\u001b[0m\u001b[34m▖\u001b[0m                     \u001b[32m▗\u001b[0m\u001b[32m▀\u001b[0m\u001b[32m▞\u001b[0m\u001b[32m▀\u001b[0m\u001b[32m▀\u001b[0m\u001b[32m▙\u001b[0m\u001b[32m▖\u001b[0m                         │ \n",
            "││     \u001b[34m▚\u001b[0m                   \u001b[35m▄\u001b[0m\u001b[35m▀\u001b[0m\u001b[32m▀\u001b[0m     \u001b[32m▝\u001b[0m\u001b[32m▀\u001b[0m\u001b[32m▘\u001b[0m                       │ 1\n",
            "││      \u001b[34m▀\u001b[0m\u001b[34m▖\u001b[0m                \u001b[35m▝\u001b[0m          \u001b[32m▝\u001b[0m\u001b[32m▄\u001b[0m                     \u001b[32m▗\u001b[0m│ \n",
            "││       \u001b[34m▘\u001b[0m\u001b[34m▖\u001b[0m              \u001b[35m▗\u001b[0m\u001b[35m▘\u001b[0m           \u001b[35m▝\u001b[0m\u001b[32m▀\u001b[0m\u001b[32m▀\u001b[0m               \u001b[35m▖\u001b[0m\u001b[32m▗\u001b[0m\u001b[32m▞\u001b[0m\u001b[32m▀\u001b[0m\u001b[32m▘\u001b[0m│ \n",
            "││       \u001b[34m▝\u001b[0m\u001b[34m▝\u001b[0m\u001b[34m▄\u001b[0m            \u001b[35m▗\u001b[0m\u001b[32m▄\u001b[0m\u001b[32m▀\u001b[0m\u001b[32m▀\u001b[0m\u001b[32m▀\u001b[0m           \u001b[35m▚\u001b[0m\u001b[32m▞\u001b[0m\u001b[32m▖\u001b[0m            \u001b[35m▗\u001b[0m\u001b[32m▝\u001b[0m\u001b[32m▘\u001b[0m   │ \n",
            "││          \u001b[34m▚\u001b[0m          \u001b[35m▗\u001b[0m\u001b[32m▄\u001b[0m                 \u001b[32m▗\u001b[0m \u001b[32m▄\u001b[0m        \u001b[32m▗\u001b[0m\u001b[32m▞\u001b[0m\u001b[32m▀\u001b[0m\u001b[32m▀\u001b[0m    │ 0\n",
            "││           \u001b[34m▄\u001b[0m         \u001b[35m▝\u001b[0m                  \u001b[35m▝\u001b[0m\u001b[32m▀\u001b[0m\u001b[35m▖\u001b[0m   \u001b[32m▗\u001b[0m  \u001b[35m▄\u001b[0m\u001b[32m▄\u001b[0m\u001b[32m▘\u001b[0m       │ \n",
            "││           \u001b[34m▝\u001b[0m\u001b[34m▖\u001b[0m      \u001b[35m▗\u001b[0m\u001b[32m▖\u001b[0m\u001b[32m▝\u001b[0m                    \u001b[35m▀\u001b[0m\u001b[32m▚\u001b[0m\u001b[32m▀\u001b[0m\u001b[32m▞\u001b[0m\u001b[32m▘\u001b[0m\u001b[32m▄\u001b[0m\u001b[32m▛\u001b[0m\u001b[32m▀\u001b[0m         │ \n",
            "││            \u001b[34m▗\u001b[0m\u001b[34m▄\u001b[0m    \u001b[34m▗\u001b[0m\u001b[32m▀\u001b[0m\u001b[32m▝\u001b[0m\u001b[32m▘\u001b[0m                                     │ \n",
            "││              \u001b[34m▀\u001b[0m\u001b[34m▄\u001b[0m\u001b[34m▄\u001b[0m\u001b[34m▄\u001b[0m\u001b[34m▘\u001b[0m                                        │ \n",
            "└────────────────────────────────────────────────────────────┘\n",
            " 0                  50                  100\n",
            "                          \u001b[34m██\u001b[0m Input\n",
            "                          \u001b[35m██\u001b[0m Target\n",
            "                          \u001b[32m██\u001b[0m Output\n",
            "           Epoch: 15, Test Loss: 0.0073 - Example 1\n",
            "┌────────────────────────────────────────────────────────────┐\n",
            "││              \u001b[34m▄\u001b[0m\u001b[34m▀\u001b[0m\u001b[34m▀\u001b[0m\u001b[34m▀\u001b[0m\u001b[34m▀\u001b[0m\u001b[32m▗\u001b[0m\u001b[32m▖\u001b[0m                                      │ \n",
            "││            \u001b[34m▄\u001b[0m\u001b[34m▞\u001b[0m      \u001b[32m▝\u001b[0m\u001b[32m▀\u001b[0m\u001b[32m▄\u001b[0m\u001b[32m▄\u001b[0m                                   │ 1\n",
            "││           \u001b[34m▝\u001b[0m       \u001b[32m▄\u001b[0m  \u001b[35m▚\u001b[0m\u001b[32m▗\u001b[0m                     \u001b[35m▄\u001b[0m\u001b[32m▄\u001b[0m            │ \n",
            "││           \u001b[34m▞\u001b[0m           \u001b[35m▝\u001b[0m\u001b[32m▀\u001b[0m\u001b[32m▀\u001b[0m               \u001b[32m▗\u001b[0m\u001b[32m▄\u001b[0m\u001b[32m▞\u001b[0m\u001b[32m▀\u001b[0m\u001b[32m▀\u001b[0m\u001b[32m▘\u001b[0m\u001b[32m▀\u001b[0m\u001b[32m▀\u001b[0m\u001b[32m▄\u001b[0m\u001b[32m▄\u001b[0m\u001b[32m▄\u001b[0m\u001b[32m▖\u001b[0m      │ \n",
            "││         \u001b[34m▗\u001b[0m\u001b[34m▀\u001b[0m              \u001b[32m▝\u001b[0m\u001b[32m▀\u001b[0m\u001b[32m▀\u001b[0m            \u001b[35m▗\u001b[0m\u001b[32m▖\u001b[0m\u001b[35m▘\u001b[0m       \u001b[35m▝\u001b[0m\u001b[35m▀\u001b[0m\u001b[32m▝\u001b[0m\u001b[32m▚\u001b[0m\u001b[32m▄\u001b[0m    │ \n",
            "││         \u001b[34m▞\u001b[0m                 \u001b[32m▗\u001b[0m \u001b[32m▄\u001b[0m        \u001b[35m▄\u001b[0m\u001b[32m▞\u001b[0m\u001b[32m▀\u001b[0m             \u001b[32m▝\u001b[0m\u001b[32m▄\u001b[0m\u001b[32m▞\u001b[0m\u001b[32m▘\u001b[0m │ 0\n",
            "││        \u001b[34m▞\u001b[0m                  \u001b[35m▝\u001b[0m\u001b[32m▀\u001b[0m\u001b[35m▖\u001b[0m\u001b[32m▄\u001b[0m\u001b[32m▄\u001b[0m    \u001b[32m▗\u001b[0m\u001b[32m▄\u001b[0m\u001b[32m▞\u001b[0m                \u001b[35m▝\u001b[0m\u001b[35m▖\u001b[0m  │ \n",
            "│\u001b[34m▌\u001b[0m      \u001b[34m▄\u001b[0m                      \u001b[35m▝\u001b[0m\u001b[32m▘\u001b[0m\u001b[35m▀\u001b[0m\u001b[32m▛\u001b[0m\u001b[32m▄\u001b[0m\u001b[32m▄\u001b[0m\u001b[32m▄\u001b[0m\u001b[32m▘\u001b[0m                   \u001b[35m▝\u001b[0m\u001b[32m▗\u001b[0m\u001b[32m▖\u001b[0m│ \n",
            "│\u001b[34m▗\u001b[0m\u001b[34m▄\u001b[0m\u001b[34m▖\u001b[0m   \u001b[34m▗\u001b[0m \u001b[34m▀\u001b[0m                                                  \u001b[32m▐\u001b[0m│ \n",
            "││ \u001b[34m▀\u001b[0m\u001b[34m▄\u001b[0m\u001b[34m▄\u001b[0m\u001b[34m▄\u001b[0m\u001b[34m▌\u001b[0m                                                    \u001b[35m▝\u001b[0m│ \n",
            "└────────────────────────────────────────────────────────────┘\n",
            " 0                  50                  100\n",
            "                          \u001b[34m██\u001b[0m Input\n",
            "                          \u001b[35m██\u001b[0m Target\n",
            "                          \u001b[32m██\u001b[0m Output\n",
            "           Epoch: 15, Test Loss: 0.0073 - Example 2\n",
            "┌────────────────────────────────────────────────────────────┐\n",
            "││ \u001b[34m▞\u001b[0m\u001b[34m▀\u001b[0m\u001b[34m▀\u001b[0m\u001b[34m▀\u001b[0m\u001b[34m▀\u001b[0m\u001b[34m▚\u001b[0m\u001b[34m▄\u001b[0m                                                   │ \n",
            "│\u001b[34m▄\u001b[0m\u001b[34m▞\u001b[0m       \u001b[34m▀\u001b[0m\u001b[34m▄\u001b[0m                                                 │ 1\n",
            "││         \u001b[34m▝\u001b[0m\u001b[34m▚\u001b[0m\u001b[34m▄\u001b[0m                  \u001b[35m▄\u001b[0m\u001b[32m▄\u001b[0m\u001b[32m▄\u001b[0m\u001b[32m▄\u001b[0m\u001b[32m▄\u001b[0m\u001b[32m▄\u001b[0m\u001b[32m▖\u001b[0m                     \u001b[35m▐\u001b[0m│ \n",
            "││            \u001b[34m▚\u001b[0m               \u001b[35m▚\u001b[0m\u001b[32m▄\u001b[0m\u001b[32m▀\u001b[0m    \u001b[35m▀\u001b[0m\u001b[32m▝\u001b[0m\u001b[32m▀\u001b[0m\u001b[32m▚\u001b[0m\u001b[32m▄\u001b[0m\u001b[32m▄\u001b[0m                \u001b[35m▗\u001b[0m\u001b[32m▄\u001b[0m│ \n",
            "││             \u001b[34m▀\u001b[0m\u001b[34m▖\u001b[0m    \u001b[32m▄\u001b[0m      \u001b[32m▗\u001b[0m\u001b[32m▄\u001b[0m\u001b[32m▞\u001b[0m           \u001b[35m▀\u001b[0m\u001b[32m▀\u001b[0m\u001b[32m▞\u001b[0m             \u001b[35m▗\u001b[0m\u001b[32m▞\u001b[0m │ \n",
            "││              \u001b[34m▝\u001b[0m\u001b[34m▜\u001b[0m        \u001b[35m▄\u001b[0m\u001b[32m▟\u001b[0m\u001b[32m▘\u001b[0m               \u001b[35m▀\u001b[0m\u001b[32m▀\u001b[0m           \u001b[35m▗\u001b[0m\u001b[35m▖\u001b[0m  │ \n",
            "││                \u001b[34m▀\u001b[0m\u001b[34m▄\u001b[0m\u001b[34m▞\u001b[0m\u001b[32m▗\u001b[0m\u001b[32m▄\u001b[0m\u001b[32m▄\u001b[0m\u001b[32m▄\u001b[0m\u001b[32m▞\u001b[0m\u001b[32m▀\u001b[0m                  \u001b[35m▝\u001b[0m\u001b[32m▙\u001b[0m\u001b[32m▖\u001b[0m\u001b[32m▄\u001b[0m\u001b[32m▄\u001b[0m      \u001b[35m▝\u001b[0m\u001b[32m▝\u001b[0m\u001b[32m▀\u001b[0m  │ \n",
            "││                                             \u001b[32m▝\u001b[0m\u001b[32m▘\u001b[0m      \u001b[35m▗\u001b[0m\u001b[32m▝\u001b[0m\u001b[32m▘\u001b[0m   │ \n",
            "││▁▁▁▁▁▁▁▁▁▁▁▁▁▁▁▁▁▁▁▁▁▁▁▁▁▁▁▁▁▁▁▁▁▁▁▁▁▁▁▁▁▁▁▁▁▁\u001b[35m▚\u001b[0m▁▁▁▁▁\u001b[35m▐\u001b[0m\u001b[32m▄\u001b[0m\u001b[32m▀\u001b[0m▁▁▁▁│ 0\n",
            "││                                               \u001b[35m▚\u001b[0m\u001b[32m▙\u001b[0m\u001b[32m▄\u001b[0m\u001b[32m▄\u001b[0m\u001b[32m▚\u001b[0m\u001b[32m▀\u001b[0m      │ \n",
            "└────────────────────────────────────────────────────────────┘\n",
            " 0                  50                  100\n",
            "                          \u001b[34m██\u001b[0m Input\n",
            "                          \u001b[35m██\u001b[0m Target\n",
            "                          \u001b[32m██\u001b[0m Output\n"
          ]
        },
        {
          "output_type": "stream",
          "name": "stderr",
          "text": [
            "100%|██████████| 107/107 [00:03<00:00, 28.67it/s]\n",
            "100%|██████████| 638/638 [01:12<00:00,  8.79it/s]\n",
            "100%|██████████| 107/107 [00:03<00:00, 29.02it/s]\n",
            "100%|██████████| 638/638 [01:12<00:00,  8.82it/s]\n",
            "100%|██████████| 107/107 [00:04<00:00, 25.70it/s]\n",
            "100%|██████████| 638/638 [01:12<00:00,  8.82it/s]\n",
            "  1%|          | 1/107 [00:00<00:11,  9.52it/s]"
          ]
        },
        {
          "output_type": "stream",
          "name": "stdout",
          "text": [
            "           Epoch: 18, Test Loss: 0.0056 - Example 0\n",
            "┌────────────────────────────────────────────────────────────┐\n",
            "│\u001b[34m▛\u001b[0m\u001b[34m▚\u001b[0m\u001b[34m▄\u001b[0m\u001b[34m▄\u001b[0m\u001b[34m▄\u001b[0m\u001b[34m▄\u001b[0m\u001b[34m▖\u001b[0m                     \u001b[32m▗\u001b[0m\u001b[32m▀\u001b[0m\u001b[32m▀\u001b[0m\u001b[32m▀\u001b[0m\u001b[32m▀\u001b[0m\u001b[32m▚\u001b[0m\u001b[32m▖\u001b[0m                         │ \n",
            "││     \u001b[34m▚\u001b[0m                   \u001b[32m▗\u001b[0m\u001b[32m▄\u001b[0m\u001b[32m▘\u001b[0m     \u001b[32m▝\u001b[0m\u001b[32m▀\u001b[0m\u001b[32m▚\u001b[0m\u001b[32m▖\u001b[0m                      │ 1\n",
            "││      \u001b[34m▀\u001b[0m\u001b[34m▖\u001b[0m                \u001b[35m▝\u001b[0m          \u001b[35m▚\u001b[0m\u001b[32m▗\u001b[0m                    \u001b[32m▗\u001b[0m\u001b[32m▄\u001b[0m│ \n",
            "││       \u001b[34m▘\u001b[0m\u001b[34m▖\u001b[0m              \u001b[35m▗\u001b[0m\u001b[32m▝\u001b[0m\u001b[32m▘\u001b[0m          \u001b[35m▝\u001b[0m\u001b[32m▀\u001b[0m\u001b[32m▙\u001b[0m               \u001b[35m▖\u001b[0m\u001b[32m▗\u001b[0m\u001b[32m▞\u001b[0m\u001b[32m▘\u001b[0m\u001b[35m▝\u001b[0m│ \n",
            "││       \u001b[34m▝\u001b[0m\u001b[34m▝\u001b[0m\u001b[34m▄\u001b[0m            \u001b[35m▗\u001b[0m\u001b[32m▞\u001b[0m\u001b[32m▘\u001b[0m             \u001b[35m▚\u001b[0m\u001b[32m▞\u001b[0m\u001b[32m▘\u001b[0m            \u001b[32m▄\u001b[0m\u001b[32m▞\u001b[0m\u001b[32m▘\u001b[0m   │ \n",
            "││          \u001b[34m▚\u001b[0m          \u001b[35m▗\u001b[0m\u001b[32m▝\u001b[0m                 \u001b[32m▗\u001b[0m\u001b[32m▖\u001b[0m\u001b[32m▄\u001b[0m        \u001b[32m▗\u001b[0m\u001b[32m▞\u001b[0m\u001b[35m▘\u001b[0m     │ 0\n",
            "││           \u001b[34m▚\u001b[0m         \u001b[32m▝\u001b[0m\u001b[32m▘\u001b[0m                 \u001b[35m▝\u001b[0m\u001b[32m▝\u001b[0m\u001b[32m▘\u001b[0m     \u001b[35m▗\u001b[0m\u001b[35m▄\u001b[0m\u001b[32m▗\u001b[0m\u001b[32m▘\u001b[0m       │ \n",
            "││           \u001b[34m▝\u001b[0m\u001b[34m▖\u001b[0m      \u001b[35m▄\u001b[0m\u001b[32m▄\u001b[0m\u001b[32m▝\u001b[0m                    \u001b[35m▀\u001b[0m\u001b[32m▀\u001b[0m\u001b[32m▛\u001b[0m\u001b[32m▀\u001b[0m\u001b[32m▄\u001b[0m\u001b[32m▄\u001b[0m\u001b[32m▞\u001b[0m\u001b[32m▀\u001b[0m\u001b[32m▘\u001b[0m        │ \n",
            "││            \u001b[34m▗\u001b[0m\u001b[34m▄\u001b[0m    \u001b[34m▗\u001b[0m\u001b[32m▀\u001b[0m\u001b[35m▀\u001b[0m\u001b[32m▘\u001b[0m                                     │ \n",
            "││              \u001b[34m▀\u001b[0m\u001b[34m▄\u001b[0m\u001b[34m▄\u001b[0m\u001b[34m▄\u001b[0m\u001b[34m▘\u001b[0m                                        │ \n",
            "└────────────────────────────────────────────────────────────┘\n",
            " 0                  50                  100\n",
            "                          \u001b[34m██\u001b[0m Input\n",
            "                          \u001b[35m██\u001b[0m Target\n",
            "                          \u001b[32m██\u001b[0m Output\n",
            "           Epoch: 18, Test Loss: 0.0073 - Example 1\n",
            "┌────────────────────────────────────────────────────────────┐\n",
            "││              \u001b[34m▄\u001b[0m\u001b[34m▀\u001b[0m\u001b[34m▀\u001b[0m\u001b[34m▀\u001b[0m\u001b[34m▀\u001b[0m\u001b[35m▄\u001b[0m                                       │ \n",
            "││            \u001b[34m▄\u001b[0m\u001b[34m▞\u001b[0m      \u001b[32m▝\u001b[0m\u001b[32m▀\u001b[0m\u001b[32m▀\u001b[0m                                    │ 1\n",
            "││           \u001b[34m▝\u001b[0m       \u001b[32m▄\u001b[0m\u001b[32m▖\u001b[0m \u001b[35m▚\u001b[0m\u001b[32m▄\u001b[0m                     \u001b[35m▄\u001b[0m\u001b[32m▖\u001b[0m\u001b[32m▗\u001b[0m           │ \n",
            "││           \u001b[34m▞\u001b[0m           \u001b[35m▝\u001b[0m\u001b[32m▀\u001b[0m\u001b[32m▀\u001b[0m               \u001b[35m▖\u001b[0m\u001b[32m▄\u001b[0m\u001b[32m▞\u001b[0m\u001b[32m▀\u001b[0m\u001b[32m▀\u001b[0m\u001b[32m▝\u001b[0m\u001b[32m▘\u001b[0m\u001b[32m▀\u001b[0m\u001b[32m▀\u001b[0m\u001b[32m▄\u001b[0m\u001b[32m▗\u001b[0m\u001b[32m▖\u001b[0m\u001b[32m▖\u001b[0m     │ \n",
            "││         \u001b[34m▗\u001b[0m\u001b[34m▀\u001b[0m              \u001b[32m▝\u001b[0m\u001b[32m▚\u001b[0m\u001b[32m▖\u001b[0m            \u001b[35m▗\u001b[0m\u001b[32m▝\u001b[0m\u001b[32m▘\u001b[0m       \u001b[35m▝\u001b[0m\u001b[32m▘\u001b[0m\u001b[32m▝\u001b[0m\u001b[32m▗\u001b[0m\u001b[32m▟\u001b[0m    │ \n",
            "││         \u001b[34m▞\u001b[0m                 \u001b[32m▗\u001b[0m\u001b[32m▄\u001b[0m\u001b[32m▞\u001b[0m\u001b[32m▘\u001b[0m       \u001b[32m▗\u001b[0m\u001b[32m▄\u001b[0m\u001b[32m▀\u001b[0m\u001b[32m▘\u001b[0m            \u001b[35m▐\u001b[0m\u001b[32m▄\u001b[0m   │ 0\n",
            "││        \u001b[34m▞\u001b[0m                  \u001b[35m▝\u001b[0m\u001b[35m▀\u001b[0m\u001b[35m▖\u001b[0m      \u001b[32m▗\u001b[0m\u001b[32m▄\u001b[0m\u001b[32m▌\u001b[0m                \u001b[35m▝\u001b[0m\u001b[32m▚\u001b[0m  │ \n",
            "│\u001b[34m▌\u001b[0m      \u001b[34m▄\u001b[0m                      \u001b[35m▝\u001b[0m\u001b[32m▚\u001b[0m\u001b[32m▞\u001b[0m\u001b[32m▛\u001b[0m\u001b[32m▄\u001b[0m\u001b[32m▙\u001b[0m\u001b[32m▄\u001b[0m\u001b[32m▘\u001b[0m                   \u001b[32m▝\u001b[0m\u001b[32m▄\u001b[0m\u001b[32m▞\u001b[0m│ \n",
            "│\u001b[34m▗\u001b[0m\u001b[34m▄\u001b[0m\u001b[34m▖\u001b[0m   \u001b[34m▗\u001b[0m \u001b[34m▀\u001b[0m                                                  \u001b[32m▗\u001b[0m│ \n",
            "││ \u001b[34m▀\u001b[0m\u001b[34m▄\u001b[0m\u001b[34m▄\u001b[0m\u001b[34m▄\u001b[0m\u001b[34m▌\u001b[0m                                                    \u001b[35m▝\u001b[0m│ \n",
            "└────────────────────────────────────────────────────────────┘\n",
            " 0                  50                  100\n",
            "                          \u001b[34m██\u001b[0m Input\n",
            "                          \u001b[35m██\u001b[0m Target\n",
            "                          \u001b[32m██\u001b[0m Output\n",
            "           Epoch: 18, Test Loss: 0.0092 - Example 2\n"
          ]
        },
        {
          "output_type": "stream",
          "name": "stderr",
          "text": [
            "  6%|▌         | 6/107 [00:00<00:06, 15.42it/s]"
          ]
        },
        {
          "output_type": "stream",
          "name": "stdout",
          "text": [
            "┌────────────────────────────────────────────────────────────┐\n",
            "││ \u001b[34m▞\u001b[0m\u001b[34m▀\u001b[0m\u001b[34m▀\u001b[0m\u001b[34m▀\u001b[0m\u001b[34m▀\u001b[0m\u001b[34m▚\u001b[0m\u001b[34m▄\u001b[0m                                                   │ \n",
            "│\u001b[34m▄\u001b[0m\u001b[34m▞\u001b[0m       \u001b[34m▀\u001b[0m\u001b[34m▄\u001b[0m                                                 │ 1\n",
            "││         \u001b[34m▝\u001b[0m\u001b[34m▚\u001b[0m\u001b[34m▄\u001b[0m                  \u001b[32m▗\u001b[0m\u001b[32m▄\u001b[0m\u001b[32m▄\u001b[0m\u001b[32m▄\u001b[0m\u001b[32m▄\u001b[0m\u001b[32m▄\u001b[0m\u001b[32m▖\u001b[0m                     \u001b[32m▗\u001b[0m│ \n",
            "││            \u001b[34m▚\u001b[0m               \u001b[35m▚\u001b[0m\u001b[32m▗\u001b[0m\u001b[32m▘\u001b[0m    \u001b[35m▀\u001b[0m\u001b[32m▀\u001b[0m\u001b[32m▀\u001b[0m\u001b[32m▚\u001b[0m\u001b[32m▄\u001b[0m\u001b[32m▄\u001b[0m\u001b[32m▄\u001b[0m               \u001b[35m▗\u001b[0m\u001b[32m▝\u001b[0m│ \n",
            "││             \u001b[34m▀\u001b[0m\u001b[34m▖\u001b[0m           \u001b[35m▚\u001b[0m\u001b[32m▄\u001b[0m\u001b[32m▀\u001b[0m\u001b[32m▘\u001b[0m          \u001b[35m▀\u001b[0m\u001b[35m▚\u001b[0m\u001b[32m▖\u001b[0m             \u001b[35m▗\u001b[0m\u001b[32m▄\u001b[0m\u001b[32m▖\u001b[0m│ \n",
            "││              \u001b[34m▝\u001b[0m\u001b[34m▜\u001b[0m   \u001b[32m▘\u001b[0m    \u001b[35m▄\u001b[0m\u001b[32m▄\u001b[0m\u001b[32m▄\u001b[0m               \u001b[32m▀\u001b[0m\u001b[32m▀\u001b[0m\u001b[32m▘\u001b[0m          \u001b[35m▗\u001b[0m\u001b[32m▗\u001b[0m  │ \n",
            "││                \u001b[34m▀\u001b[0m\u001b[34m▄\u001b[0m\u001b[34m▄\u001b[0m\u001b[32m▗\u001b[0m\u001b[32m▄\u001b[0m\u001b[32m▄\u001b[0m\u001b[32m▄\u001b[0m\u001b[32m▟\u001b[0m\u001b[32m▀\u001b[0m                  \u001b[35m▝\u001b[0m\u001b[32m▄\u001b[0m\u001b[32m▖\u001b[0m\u001b[32m▖\u001b[0m       \u001b[35m▝\u001b[0m\u001b[35m▘\u001b[0m\u001b[32m▘\u001b[0m  │ \n",
            "││                                             \u001b[32m▝\u001b[0m\u001b[32m▘\u001b[0m\u001b[32m▗\u001b[0m\u001b[32m▖\u001b[0m    \u001b[35m▗\u001b[0m\u001b[32m▗\u001b[0m\u001b[32m▄\u001b[0m   │ \n",
            "││▁▁▁▁▁▁▁▁▁▁▁▁▁▁▁▁▁▁▁▁▁▁▁▁▁▁▁▁▁▁▁▁▁▁▁▁▁▁▁▁▁▁▁▁▁▁\u001b[32m▝\u001b[0m\u001b[32m▘\u001b[0m▁▁▁▁\u001b[35m▗\u001b[0m\u001b[32m▄\u001b[0m\u001b[32m▀\u001b[0m▁▁▁▁│ 0\n",
            "││                                               \u001b[35m▚\u001b[0m\u001b[32m▞\u001b[0m\u001b[32m▄\u001b[0m\u001b[32m▟\u001b[0m\u001b[32m▄\u001b[0m\u001b[32m▀\u001b[0m      │ \n",
            "└────────────────────────────────────────────────────────────┘\n",
            " 0                  50                  100\n",
            "                          \u001b[34m██\u001b[0m Input\n",
            "                          \u001b[35m██\u001b[0m Target\n",
            "                          \u001b[32m██\u001b[0m Output\n"
          ]
        },
        {
          "output_type": "stream",
          "name": "stderr",
          "text": [
            "100%|██████████| 107/107 [00:04<00:00, 26.06it/s]\n",
            "100%|██████████| 638/638 [01:12<00:00,  8.81it/s]\n",
            "100%|██████████| 107/107 [00:03<00:00, 29.20it/s]\n",
            "100%|██████████| 638/638 [01:12<00:00,  8.80it/s]\n",
            "100%|██████████| 107/107 [00:03<00:00, 29.36it/s]\n",
            "100%|██████████| 638/638 [01:11<00:00,  8.88it/s]\n",
            "  4%|▎         | 4/107 [00:00<00:06, 16.78it/s]"
          ]
        },
        {
          "output_type": "stream",
          "name": "stdout",
          "text": [
            "           Epoch: 21, Test Loss: 0.0086 - Example 0\n",
            "┌────────────────────────────────────────────────────────────┐\n",
            "│\u001b[34m▛\u001b[0m\u001b[34m▚\u001b[0m\u001b[34m▄\u001b[0m\u001b[34m▄\u001b[0m\u001b[34m▄\u001b[0m\u001b[34m▄\u001b[0m\u001b[34m▖\u001b[0m                     \u001b[32m▗\u001b[0m\u001b[32m▀\u001b[0m\u001b[32m▄\u001b[0m\u001b[32m▛\u001b[0m\u001b[32m▀\u001b[0m\u001b[32m▚\u001b[0m\u001b[32m▄\u001b[0m                         │ \n",
            "││     \u001b[34m▚\u001b[0m                   \u001b[32m▗\u001b[0m\u001b[32m▄\u001b[0m\u001b[32m▖\u001b[0m     \u001b[35m▀\u001b[0m\u001b[32m▀\u001b[0m\u001b[32m▖\u001b[0m                       │ 1\n",
            "││      \u001b[34m▀\u001b[0m\u001b[34m▖\u001b[0m                \u001b[35m▝\u001b[0m\u001b[32m▀\u001b[0m         \u001b[32m▝\u001b[0m\u001b[32m▄\u001b[0m                   \u001b[32m▗\u001b[0m\u001b[32m▖\u001b[0m\u001b[32m▄\u001b[0m│ \n",
            "││       \u001b[34m▘\u001b[0m\u001b[34m▖\u001b[0m              \u001b[35m▗\u001b[0m\u001b[32m▞\u001b[0m           \u001b[35m▝\u001b[0m\u001b[32m▀\u001b[0m\u001b[32m▌\u001b[0m               \u001b[32m▗\u001b[0m\u001b[32m▄\u001b[0m\u001b[32m▞\u001b[0m\u001b[32m▝\u001b[0m\u001b[35m▝\u001b[0m│ \n",
            "││       \u001b[34m▝\u001b[0m\u001b[34m▝\u001b[0m\u001b[34m▄\u001b[0m            \u001b[35m▗\u001b[0m\u001b[32m▟\u001b[0m              \u001b[32m▝\u001b[0m\u001b[32m▀\u001b[0m\u001b[32m▘\u001b[0m            \u001b[35m▗\u001b[0m\u001b[32m▝\u001b[0m    │ \n",
            "││          \u001b[34m▚\u001b[0m          \u001b[35m▗\u001b[0m\u001b[35m▘\u001b[0m                 \u001b[32m▚\u001b[0m \u001b[32m▖\u001b[0m        \u001b[32m▗\u001b[0m\u001b[32m▟\u001b[0m\u001b[32m▀\u001b[0m\u001b[32m▘\u001b[0m    │ 0\n",
            "││           \u001b[34m▚\u001b[0m         \u001b[32m▗\u001b[0m\u001b[32m▀\u001b[0m                 \u001b[35m▝\u001b[0m\u001b[32m▀\u001b[0m\u001b[35m▖\u001b[0m\u001b[32m▄\u001b[0m    \u001b[35m▗\u001b[0m\u001b[32m▗\u001b[0m\u001b[32m▄\u001b[0m\u001b[32m▘\u001b[0m       │ \n",
            "││           \u001b[34m▝\u001b[0m\u001b[34m▖\u001b[0m      \u001b[35m▄\u001b[0m\u001b[32m▄\u001b[0m                     \u001b[32m▝\u001b[0m\u001b[35m▀\u001b[0m\u001b[32m▀\u001b[0m\u001b[32m▞\u001b[0m\u001b[32m▚\u001b[0m\u001b[32m▄\u001b[0m\u001b[32m▛\u001b[0m\u001b[32m▘\u001b[0m         │ \n",
            "││            \u001b[34m▗\u001b[0m\u001b[34m▄\u001b[0m    \u001b[34m▗\u001b[0m\u001b[32m▀\u001b[0m\u001b[35m▀\u001b[0m\u001b[32m▀\u001b[0m                                     │ \n",
            "││              \u001b[34m▀\u001b[0m\u001b[34m▄\u001b[0m\u001b[34m▄\u001b[0m\u001b[34m▄\u001b[0m\u001b[34m▘\u001b[0m                                        │ \n",
            "└────────────────────────────────────────────────────────────┘\n",
            " 0                  50                  100\n",
            "                          \u001b[34m██\u001b[0m Input\n",
            "                          \u001b[35m██\u001b[0m Target\n",
            "                          \u001b[32m██\u001b[0m Output\n",
            "           Epoch: 21, Test Loss: 0.0091 - Example 1\n",
            "┌────────────────────────────────────────────────────────────┐\n",
            "││              \u001b[34m▄\u001b[0m\u001b[34m▀\u001b[0m\u001b[34m▀\u001b[0m\u001b[34m▀\u001b[0m\u001b[34m▀\u001b[0m\u001b[32m▗\u001b[0m\u001b[32m▖\u001b[0m                                      │ \n",
            "││            \u001b[34m▄\u001b[0m\u001b[34m▞\u001b[0m      \u001b[32m▝\u001b[0m\u001b[32m▀\u001b[0m\u001b[32m▀\u001b[0m                                    │ 1\n",
            "││           \u001b[34m▝\u001b[0m       \u001b[32m▄\u001b[0m  \u001b[35m▚\u001b[0m\u001b[32m▄\u001b[0m\u001b[32m▄\u001b[0m\u001b[32m▄\u001b[0m\u001b[32m▄\u001b[0m                 \u001b[32m▄\u001b[0m\u001b[32m▄\u001b[0m\u001b[32m▄\u001b[0m\u001b[32m▖\u001b[0m           │ \n",
            "││           \u001b[34m▞\u001b[0m           \u001b[35m▝\u001b[0m\u001b[35m▀\u001b[0m\u001b[35m▖\u001b[0m               \u001b[35m▖\u001b[0m\u001b[32m▗\u001b[0m\u001b[32m▄\u001b[0m\u001b[32m▘\u001b[0m \u001b[35m▀\u001b[0m\u001b[32m▝\u001b[0m\u001b[32m▀\u001b[0m\u001b[32m▚\u001b[0m\u001b[32m▄\u001b[0m\u001b[32m▖\u001b[0m\u001b[32m▖\u001b[0m\u001b[32m▄\u001b[0m\u001b[32m▄\u001b[0m    │ \n",
            "││         \u001b[34m▗\u001b[0m\u001b[34m▀\u001b[0m              \u001b[35m▐\u001b[0m\u001b[35m▄\u001b[0m\u001b[32m▄\u001b[0m\u001b[32m▞\u001b[0m\u001b[32m▘\u001b[0m          \u001b[35m▗\u001b[0m\u001b[32m▄\u001b[0m\u001b[32m▘\u001b[0m       \u001b[35m▝\u001b[0m\u001b[32m▝\u001b[0m\u001b[32m▝\u001b[0m\u001b[35m▄\u001b[0m\u001b[35m▖\u001b[0m    │ \n",
            "││         \u001b[34m▞\u001b[0m                 \u001b[35m▄\u001b[0m          \u001b[35m▄\u001b[0m\u001b[32m▗\u001b[0m\u001b[32m▛\u001b[0m             \u001b[32m▝\u001b[0m\u001b[32m▄\u001b[0m\u001b[32m▄\u001b[0m  │ 0\n",
            "││        \u001b[34m▞\u001b[0m                  \u001b[35m▝\u001b[0m\u001b[35m▀\u001b[0m\u001b[32m▗\u001b[0m\u001b[32m▖\u001b[0m  \u001b[32m▄\u001b[0m  \u001b[32m▗\u001b[0m\u001b[32m▄\u001b[0m\u001b[32m▛\u001b[0m\u001b[32m▘\u001b[0m               \u001b[35m▝\u001b[0m\u001b[35m▖\u001b[0m  │ \n",
            "│\u001b[34m▌\u001b[0m      \u001b[34m▄\u001b[0m                      \u001b[35m▝\u001b[0m\u001b[32m▚\u001b[0m\u001b[32m▞\u001b[0m\u001b[32m▀\u001b[0m\u001b[35m▄\u001b[0m\u001b[32m▛\u001b[0m\u001b[32m▄\u001b[0m\u001b[32m▘\u001b[0m                   \u001b[32m▝\u001b[0m\u001b[32m▀\u001b[0m\u001b[32m▘\u001b[0m│ \n",
            "│\u001b[34m▗\u001b[0m\u001b[34m▄\u001b[0m\u001b[34m▖\u001b[0m   \u001b[34m▗\u001b[0m \u001b[34m▀\u001b[0m                                                  \u001b[32m▐\u001b[0m│ \n",
            "││ \u001b[34m▀\u001b[0m\u001b[34m▄\u001b[0m\u001b[34m▄\u001b[0m\u001b[34m▄\u001b[0m\u001b[34m▌\u001b[0m                                                    \u001b[35m▝\u001b[0m│ \n",
            "└────────────────────────────────────────────────────────────┘\n",
            " 0                  50                  100\n",
            "                          \u001b[34m██\u001b[0m Input\n",
            "                          \u001b[35m██\u001b[0m Target\n",
            "                          \u001b[32m██\u001b[0m Output\n",
            "           Epoch: 21, Test Loss: 0.0077 - Example 2\n",
            "┌────────────────────────────────────────────────────────────┐\n",
            "││ \u001b[34m▞\u001b[0m\u001b[34m▀\u001b[0m\u001b[34m▀\u001b[0m\u001b[34m▀\u001b[0m\u001b[34m▀\u001b[0m\u001b[34m▚\u001b[0m\u001b[34m▄\u001b[0m                                                   │ \n",
            "│\u001b[34m▄\u001b[0m\u001b[34m▞\u001b[0m       \u001b[34m▀\u001b[0m\u001b[34m▄\u001b[0m                                                 │ 1\n",
            "││         \u001b[34m▝\u001b[0m\u001b[34m▚\u001b[0m\u001b[34m▄\u001b[0m                  \u001b[35m▄\u001b[0m\u001b[32m▗\u001b[0m\u001b[32m▄\u001b[0m\u001b[32m▞\u001b[0m\u001b[32m▄\u001b[0m\u001b[32m▖\u001b[0m                      \u001b[35m▐\u001b[0m│ \n",
            "││            \u001b[34m▚\u001b[0m               \u001b[32m▗\u001b[0m\u001b[32m▚\u001b[0m\u001b[32m▀\u001b[0m\u001b[32m▘\u001b[0m   \u001b[32m▝\u001b[0m\u001b[32m▀\u001b[0m\u001b[32m▀\u001b[0m\u001b[32m▛\u001b[0m\u001b[32m▚\u001b[0m\u001b[32m▖\u001b[0m\u001b[32m▖\u001b[0m               \u001b[35m▗\u001b[0m\u001b[32m▝\u001b[0m│ \n",
            "││             \u001b[34m▀\u001b[0m\u001b[34m▖\u001b[0m    \u001b[32m▗\u001b[0m      \u001b[32m▗\u001b[0m\u001b[32m▄\u001b[0m\u001b[32m▘\u001b[0m           \u001b[32m▝\u001b[0m\u001b[32m▝\u001b[0m\u001b[32m▘\u001b[0m             \u001b[35m▗\u001b[0m\u001b[32m▞\u001b[0m\u001b[32m▘\u001b[0m│ \n",
            "││              \u001b[34m▝\u001b[0m\u001b[34m▜\u001b[0m   \u001b[32m▀\u001b[0m    \u001b[32m▗\u001b[0m\u001b[32m▟\u001b[0m\u001b[32m▘\u001b[0m               \u001b[32m▀\u001b[0m\u001b[32m▀\u001b[0m           \u001b[35m▗\u001b[0m\u001b[32m▐\u001b[0m  │ \n",
            "││                \u001b[34m▀\u001b[0m\u001b[34m▄\u001b[0m\u001b[34m▄\u001b[0m\u001b[35m▄\u001b[0m\u001b[32m▄\u001b[0m\u001b[32m▄\u001b[0m\u001b[32m▄\u001b[0m\u001b[32m▞\u001b[0m\u001b[32m▘\u001b[0m                  \u001b[35m▝\u001b[0m\u001b[32m▚\u001b[0m\u001b[32m▞\u001b[0m        \u001b[35m▝\u001b[0m\u001b[35m▘\u001b[0m\u001b[32m▘\u001b[0m  │ \n",
            "││                                             \u001b[35m▚\u001b[0m\u001b[32m▛\u001b[0m\u001b[32m▘\u001b[0m     \u001b[35m▗\u001b[0m\u001b[32m▗\u001b[0m\u001b[32m▞\u001b[0m   │ \n",
            "││▁▁▁▁▁▁▁▁▁▁▁▁▁▁▁▁▁▁▁▁▁▁▁▁▁▁▁▁▁▁▁▁▁▁▁▁▁▁▁▁▁▁▁▁▁▁\u001b[35m▚\u001b[0m▁▁\u001b[32m▖\u001b[0m▁\u001b[32m▗\u001b[0m\u001b[32m▟\u001b[0m\u001b[32m▞\u001b[0m\u001b[32m▘\u001b[0m▁▁▁▁│ 0\n",
            "││                                               \u001b[32m▝\u001b[0m\u001b[32m▛\u001b[0m\u001b[32m▗\u001b[0m\u001b[32m▟\u001b[0m\u001b[32m▘\u001b[0m\u001b[35m▘\u001b[0m      │ \n",
            "└────────────────────────────────────────────────────────────┘\n",
            " 0                  50                  100\n",
            "                          \u001b[34m██\u001b[0m Input\n",
            "                          \u001b[35m██\u001b[0m Target\n",
            "                          \u001b[32m██\u001b[0m Output\n"
          ]
        },
        {
          "output_type": "stream",
          "name": "stderr",
          "text": [
            "100%|██████████| 107/107 [00:04<00:00, 24.46it/s]\n",
            "100%|██████████| 638/638 [01:11<00:00,  8.92it/s]\n",
            "100%|██████████| 107/107 [00:04<00:00, 25.62it/s]\n",
            "100%|██████████| 638/638 [01:11<00:00,  8.87it/s]\n",
            "100%|██████████| 107/107 [00:03<00:00, 28.89it/s]\n",
            "100%|██████████| 638/638 [01:12<00:00,  8.82it/s]\n",
            "  2%|▏         | 2/107 [00:00<00:06, 15.52it/s]"
          ]
        },
        {
          "output_type": "stream",
          "name": "stdout",
          "text": [
            "           Epoch: 24, Test Loss: 0.0057 - Example 0\n",
            "┌────────────────────────────────────────────────────────────┐\n",
            "│\u001b[34m▛\u001b[0m\u001b[34m▚\u001b[0m\u001b[34m▄\u001b[0m\u001b[34m▄\u001b[0m\u001b[34m▄\u001b[0m\u001b[34m▄\u001b[0m\u001b[34m▖\u001b[0m                     \u001b[32m▝\u001b[0m\u001b[32m▄\u001b[0m\u001b[32m▄\u001b[0m\u001b[32m▀\u001b[0m\u001b[32m▀\u001b[0m\u001b[32m▚\u001b[0m\u001b[32m▖\u001b[0m                         │ \n",
            "││     \u001b[34m▚\u001b[0m                   \u001b[32m▗\u001b[0m\u001b[32m▝\u001b[0m\u001b[32m▀\u001b[0m     \u001b[32m▝\u001b[0m\u001b[32m▀\u001b[0m\u001b[32m▄\u001b[0m                       │ 1\n",
            "││      \u001b[34m▀\u001b[0m\u001b[34m▖\u001b[0m                \u001b[35m▝\u001b[0m\u001b[32m▝\u001b[0m\u001b[32m▘\u001b[0m        \u001b[35m▚\u001b[0m\u001b[32m▄\u001b[0m\u001b[32m▖\u001b[0m                   \u001b[32m▄\u001b[0m\u001b[32m▄\u001b[0m│ \n",
            "││       \u001b[34m▘\u001b[0m\u001b[34m▖\u001b[0m              \u001b[35m▗\u001b[0m\u001b[32m▄\u001b[0m\u001b[32m▖\u001b[0m          \u001b[35m▝\u001b[0m\u001b[32m▝\u001b[0m\u001b[32m▀\u001b[0m\u001b[32m▘\u001b[0m              \u001b[35m▖\u001b[0m\u001b[32m▄\u001b[0m\u001b[32m▟\u001b[0m\u001b[35m▀\u001b[0m\u001b[35m▝\u001b[0m│ \n",
            "││       \u001b[34m▝\u001b[0m\u001b[34m▝\u001b[0m\u001b[34m▄\u001b[0m            \u001b[35m▗\u001b[0m\u001b[32m▄\u001b[0m              \u001b[35m▚\u001b[0m\u001b[32m▗\u001b[0m\u001b[32m▖\u001b[0m            \u001b[35m▗\u001b[0m\u001b[32m▟\u001b[0m    │ \n",
            "││          \u001b[34m▚\u001b[0m          \u001b[35m▗\u001b[0m\u001b[32m▝\u001b[0m                 \u001b[32m▞\u001b[0m          \u001b[32m▗\u001b[0m\u001b[32m▟\u001b[0m\u001b[32m▀\u001b[0m     │ 0\n",
            "││           \u001b[34m▚\u001b[0m         \u001b[35m▞\u001b[0m\u001b[32m▘\u001b[0m                 \u001b[35m▝\u001b[0m\u001b[32m▀\u001b[0m\u001b[32m▘\u001b[0m\u001b[32m▄\u001b[0m    \u001b[35m▗\u001b[0m\u001b[32m▗\u001b[0m\u001b[32m▄\u001b[0m\u001b[32m▘\u001b[0m       │ \n",
            "││           \u001b[34m▝\u001b[0m\u001b[34m▖\u001b[0m      \u001b[35m▄\u001b[0m\u001b[32m▖\u001b[0m                     \u001b[32m▝\u001b[0m\u001b[35m▀\u001b[0m\u001b[32m▀\u001b[0m\u001b[32m▚\u001b[0m\u001b[32m▄\u001b[0m\u001b[32m▞\u001b[0m\u001b[32m▞\u001b[0m\u001b[32m▘\u001b[0m         │ \n",
            "││            \u001b[34m▗\u001b[0m\u001b[34m▄\u001b[0m    \u001b[34m▗\u001b[0m\u001b[32m▀\u001b[0m\u001b[32m▝\u001b[0m\u001b[32m▀\u001b[0m                                     │ \n",
            "││              \u001b[34m▀\u001b[0m\u001b[34m▄\u001b[0m\u001b[34m▄\u001b[0m\u001b[34m▄\u001b[0m\u001b[34m▘\u001b[0m                                        │ \n",
            "└────────────────────────────────────────────────────────────┘\n",
            " 0                  50                  100\n",
            "                          \u001b[34m██\u001b[0m Input\n",
            "                          \u001b[35m██\u001b[0m Target\n",
            "                          \u001b[32m██\u001b[0m Output\n",
            "           Epoch: 24, Test Loss: 0.0094 - Example 1\n",
            "┌────────────────────────────────────────────────────────────┐\n",
            "││              \u001b[34m▄\u001b[0m\u001b[34m▀\u001b[0m\u001b[34m▀\u001b[0m\u001b[34m▀\u001b[0m\u001b[34m▀\u001b[0m\u001b[35m▄\u001b[0m                                       │ \n",
            "││            \u001b[34m▄\u001b[0m\u001b[34m▞\u001b[0m      \u001b[32m▝\u001b[0m\u001b[32m▀\u001b[0m\u001b[32m▘\u001b[0m                                    │ 1\n",
            "││           \u001b[34m▝\u001b[0m       \u001b[32m▄\u001b[0m\u001b[32m▖\u001b[0m \u001b[32m▝\u001b[0m\u001b[32m▚\u001b[0m\u001b[32m▖\u001b[0m                    \u001b[32m▄\u001b[0m\u001b[32m▄\u001b[0m\u001b[32m▄\u001b[0m\u001b[32m▖\u001b[0m          │ \n",
            "││           \u001b[34m▞\u001b[0m           \u001b[35m▝\u001b[0m\u001b[32m▝\u001b[0m\u001b[32m▀\u001b[0m               \u001b[35m▖\u001b[0m\u001b[32m▄\u001b[0m\u001b[32m▞\u001b[0m\u001b[32m▀\u001b[0m \u001b[35m▀\u001b[0m\u001b[35m▀\u001b[0m\u001b[32m▀\u001b[0m\u001b[32m▀\u001b[0m\u001b[32m▚\u001b[0m\u001b[32m▞\u001b[0m\u001b[32m▗\u001b[0m      │ \n",
            "││         \u001b[34m▗\u001b[0m\u001b[34m▀\u001b[0m              \u001b[32m▝\u001b[0m\u001b[32m▞\u001b[0m\u001b[32m▖\u001b[0m            \u001b[35m▗\u001b[0m\u001b[32m▝\u001b[0m\u001b[35m▘\u001b[0m       \u001b[35m▝\u001b[0m\u001b[35m▀\u001b[0m\u001b[32m▀\u001b[0m\u001b[32m▚\u001b[0m\u001b[32m▄\u001b[0m \u001b[32m▖\u001b[0m  │ \n",
            "││         \u001b[34m▞\u001b[0m                 \u001b[32m▗\u001b[0m\u001b[32m▖\u001b[0m         \u001b[35m▄\u001b[0m\u001b[32m▗\u001b[0m\u001b[32m▀\u001b[0m\u001b[32m▘\u001b[0m            \u001b[32m▝\u001b[0m\u001b[32m▀\u001b[0m   │ 0\n",
            "││        \u001b[34m▞\u001b[0m                  \u001b[35m▝\u001b[0m\u001b[32m▝\u001b[0m\u001b[32m▀\u001b[0m      \u001b[32m▗\u001b[0m\u001b[32m▄\u001b[0m\u001b[32m▛\u001b[0m\u001b[32m▘\u001b[0m               \u001b[35m▝\u001b[0m\u001b[32m▐\u001b[0m  │ \n",
            "│\u001b[34m▌\u001b[0m      \u001b[34m▄\u001b[0m                      \u001b[35m▝\u001b[0m\u001b[32m▀\u001b[0m\u001b[32m▀\u001b[0m\u001b[32m▙\u001b[0m\u001b[32m▄\u001b[0m\u001b[32m▙\u001b[0m\u001b[32m▄\u001b[0m\u001b[32m▘\u001b[0m                   \u001b[35m▝\u001b[0m\u001b[32m▀\u001b[0m\u001b[32m▄\u001b[0m│ \n",
            "│\u001b[34m▗\u001b[0m\u001b[34m▄\u001b[0m\u001b[34m▖\u001b[0m   \u001b[34m▗\u001b[0m \u001b[34m▀\u001b[0m                                                  \u001b[32m▗\u001b[0m│ \n",
            "││ \u001b[34m▀\u001b[0m\u001b[34m▄\u001b[0m\u001b[34m▄\u001b[0m\u001b[34m▄\u001b[0m\u001b[34m▌\u001b[0m                                                    \u001b[35m▝\u001b[0m│ \n",
            "└────────────────────────────────────────────────────────────┘\n",
            " 0                  50                  100\n",
            "                          \u001b[34m██\u001b[0m Input\n",
            "                          \u001b[35m██\u001b[0m Target\n",
            "                          \u001b[32m██\u001b[0m Output\n",
            "           Epoch: 24, Test Loss: 0.0124 - Example 2\n",
            "┌────────────────────────────────────────────────────────────┐\n",
            "││ \u001b[34m▞\u001b[0m\u001b[34m▀\u001b[0m\u001b[34m▀\u001b[0m\u001b[34m▀\u001b[0m\u001b[34m▀\u001b[0m\u001b[34m▚\u001b[0m\u001b[34m▄\u001b[0m                                                   │ \n",
            "│\u001b[34m▄\u001b[0m\u001b[34m▞\u001b[0m       \u001b[34m▀\u001b[0m\u001b[34m▄\u001b[0m                                                 │ 1\n",
            "││         \u001b[34m▝\u001b[0m\u001b[34m▚\u001b[0m\u001b[34m▄\u001b[0m                  \u001b[35m▄\u001b[0m\u001b[32m▗\u001b[0m\u001b[32m▄\u001b[0m\u001b[32m▄\u001b[0m\u001b[32m▄\u001b[0m\u001b[32m▖\u001b[0m                      \u001b[35m▐\u001b[0m│ \n",
            "││            \u001b[34m▚\u001b[0m               \u001b[35m▚\u001b[0m\u001b[32m▄\u001b[0m\u001b[32m▀\u001b[0m\u001b[32m▘\u001b[0m   \u001b[32m▝\u001b[0m\u001b[32m▀\u001b[0m\u001b[32m▀\u001b[0m\u001b[32m▚\u001b[0m\u001b[32m▄\u001b[0m\u001b[32m▖\u001b[0m\u001b[32m▄\u001b[0m               \u001b[35m▗\u001b[0m\u001b[32m▝\u001b[0m│ \n",
            "││             \u001b[34m▀\u001b[0m\u001b[34m▖\u001b[0m    \u001b[32m▗\u001b[0m\u001b[32m▄\u001b[0m\u001b[32m▟\u001b[0m\u001b[32m▘\u001b[0m   \u001b[35m▚\u001b[0m\u001b[32m▄\u001b[0m\u001b[32m▀\u001b[0m           \u001b[32m▝\u001b[0m\u001b[35m▚\u001b[0m\u001b[32m▖\u001b[0m             \u001b[35m▗\u001b[0m\u001b[35m▘\u001b[0m\u001b[32m▘\u001b[0m│ \n",
            "││              \u001b[34m▝\u001b[0m\u001b[34m▜\u001b[0m   \u001b[32m▀\u001b[0m    \u001b[32m▄\u001b[0m\u001b[32m▟\u001b[0m\u001b[32m▀\u001b[0m               \u001b[32m▝\u001b[0m\u001b[32m▀\u001b[0m           \u001b[35m▗\u001b[0m\u001b[35m▖\u001b[0m\u001b[32m▗\u001b[0m │ \n",
            "││                \u001b[34m▀\u001b[0m\u001b[34m▄\u001b[0m\u001b[34m▄\u001b[0m\u001b[35m▄\u001b[0m\u001b[35m▄\u001b[0m\u001b[35m▄\u001b[0m\u001b[32m▝\u001b[0m\u001b[32m▀\u001b[0m                   \u001b[35m▝\u001b[0m\u001b[32m▙\u001b[0m\u001b[32m▄\u001b[0m        \u001b[35m▝\u001b[0m\u001b[32m▗\u001b[0m\u001b[32m▀\u001b[0m\u001b[32m▘\u001b[0m │ \n",
            "││                                             \u001b[35m▚\u001b[0m\u001b[32m▄\u001b[0m\u001b[32m▖\u001b[0m  \u001b[32m▖\u001b[0m  \u001b[35m▗\u001b[0m\u001b[32m▗\u001b[0m\u001b[32m▖\u001b[0m   │ \n",
            "││▁▁▁▁▁▁▁▁▁▁▁▁▁▁▁▁▁▁▁▁▁▁▁▁▁▁▁▁▁▁▁▁▁▁▁▁▁▁▁▁▁▁▁▁▁▁\u001b[32m▘\u001b[0m▁\u001b[32m▞\u001b[0m\u001b[32m▀\u001b[0m▁▁\u001b[32m▗\u001b[0m\u001b[32m▞\u001b[0m\u001b[32m▀\u001b[0m▁▁▁▁│ 0\n",
            "││                                               \u001b[32m▝\u001b[0m\u001b[35m▄\u001b[0m\u001b[35m▄\u001b[0m\u001b[32m▗\u001b[0m\u001b[32m▄\u001b[0m\u001b[32m▀\u001b[0m      │ \n",
            "└────────────────────────────────────────────────────────────┘\n",
            " 0                  50                  100\n",
            "                          \u001b[34m██\u001b[0m Input\n",
            "                          \u001b[35m██\u001b[0m Target\n",
            "                          \u001b[32m██\u001b[0m Output\n"
          ]
        },
        {
          "output_type": "stream",
          "name": "stderr",
          "text": [
            "100%|██████████| 107/107 [00:03<00:00, 29.15it/s]\n"
          ]
        }
      ],
      "source": [
        "lapseofTimeBonus, ListofLossBonus = run_experiment(TeacherForcingModelBonus(input_size, hidden_size_TF).to(device))"
      ]
    },
    {
      "cell_type": "code",
      "execution_count": 46,
      "id": "w5AGrdIff9OE",
      "metadata": {
        "id": "w5AGrdIff9OE",
        "colab": {
          "base_uri": "https://localhost:8080/",
          "height": 478
        },
        "outputId": "f4c5a52b-d6b5-4058-917c-564f426c225a"
      },
      "outputs": [
        {
          "output_type": "display_data",
          "data": {
            "text/plain": [
              "<Figure size 640x480 with 1 Axes>"
            ],
            "image/png": "[encoded data removed]"
          },
          "metadata": {}
        }
      ],
      "source": [
        "import matplotlib.pyplot as plt\n",
        "x = np.array([\"Simple GRU\", \"Teacher Forcing\", \"Curr. Strategy (dynamic)\"])\n",
        "y = np.array([lapseofTime.total_seconds(),lapseofTimeTF.total_seconds(), lapseofTimeBonus.total_seconds()])\n",
        "plt.title('Lapse of Time (s)')\n",
        "plt.figtext(0.5, 0.01, \"Figure 1 - Sum of lapse of time in seconds\", ha=\"center\", fontsize=8)\n",
        "plt.bar(x,y)\n",
        "plt.show()"
      ]
    },
    {
      "cell_type": "code",
      "execution_count": 47,
      "id": "rn2Dh64naHi3",
      "metadata": {
        "id": "rn2Dh64naHi3",
        "colab": {
          "base_uri": "https://localhost:8080/",
          "height": 478
        },
        "outputId": "d06a01b2-d6f7-4bc4-c2c2-dae9c8a1b5ac"
      },
      "outputs": [
        {
          "output_type": "display_data",
          "data": {
            "text/plain": [
              "<Figure size 640x480 with 1 Axes>"
            ],
            "image/png": "[encoded data removed]"
          },
          "metadata": {}
        }
      ],
      "source": [
        "x_axis = [i for i in range(num_epochs)]\n",
        "y_curriculum = ListofLoss\n",
        "y_curriculum2 = ListofLossTF\n",
        "y_curriculum3 = ListofLossBonus\n",
        "plt.plot(x_axis, y_curriculum, label = \"Simple GRU\")\n",
        "plt.plot(x_axis, y_curriculum2, label = \"Teacher Forcing\")\n",
        "plt.plot(x_axis, y_curriculum3, label = \"Curriculum Strategy (dynamic)\")\n",
        "plt.title('Sum of Loss by RNN Strategy')\n",
        "#plt.xlabel('Epochs')\n",
        "plt.ylabel('Loss')\n",
        "plt.figtext(0.5, 0.01, \"Figure 2 - Sum of loss x epochs\", ha=\"center\", fontsize=8)\n",
        "plt.legend()\n",
        "plt.show()"
      ]
    },
    {
      "cell_type": "code",
      "execution_count": null,
      "id": "ydVpT_AWaH1Y",
      "metadata": {
        "id": "ydVpT_AWaH1Y"
      },
      "outputs": [],
      "source": []
    },
    {
      "cell_type": "markdown",
      "id": "67a93dce",
      "metadata": {
        "id": "67a93dce"
      },
      "source": [
        "# The Challenge of Long-Term Dependencies\n",
        "\n",
        "The basic problem is that gradients propagated over many stages tend to either vanish (most of the time) or explode (rarely, but with much damage to the optimization).\n",
        "\n",
        "Recurrent networks involve the composition of the same function multiple times, once per time step.\n",
        "\n",
        "In particular, the function composition employed by recurrent neural networks somewhat resembles matrix multiplication. We can think of the recurrence relation:\n",
        "\n",
        "$h^{(t)} = W^Th^{(t-1)}$\n",
        "\n",
        "as a very simple recurrent neural network lacking a nonlinear activation function and lacking inputs x. \n",
        "This recurrence relation essentially describes the power method. It may be simpliﬁed to:\n",
        "\n",
        "$h^{(t)} = (W^t)^Th^{(0)}$\n",
        "\n",
        "and if W admits an eigendecomposition of the form:\n",
        "\n",
        "$W = Q \\Lambda Q^T$\n",
        "\n",
        "with orthogonal Q, the recurrence may be simpliﬁed further to:\n",
        "\n",
        "$h^{(t)} = Q^T \\Lambda^{t} Q h^{(0)}$\n",
        "\n",
        "The eigenvalues are raised to the power of t, causing eigenvalues with magnitude less than one to decay to zero and eigenvalues with magnitude greater than one to explode. Any component of $h(0)$ that is not aligned with the largest eigenvector will eventually be discarded."
      ]
    },
    {
      "cell_type": "markdown",
      "id": "9167c5bd",
      "metadata": {
        "id": "9167c5bd"
      },
      "source": [
        "Several approaches have been proposed to tackle this. Namely:\n",
        "- Adding Skip Connections through Time: One way to obtain coarse time scales is to add direct connections from variables in the distant past to variables in the present.\n",
        "- Adding other controlled gates: This allows the network to accumulate information (such as evidence for a particular feature or category) over a long duration. Once that information has been used, however, it might be useful for the neural network to forget the old state.\n",
        "- Gradient clipping: Prevents gradient explosion\n",
        "- Many others..."
      ]
    },
    {
      "cell_type": "markdown",
      "id": "05e7ce59",
      "metadata": {
        "id": "05e7ce59"
      },
      "source": [
        "# Exercise\n",
        "A more comprehensive look into sequence modeling can be found at: https://www.deeplearningbook.org/contents/rnn.html\n",
        "\n",
        "One of the strategies to train RNNs is called teacher forcing. This strategy allows for the network to use the actual label instead of its generated output as input to the next step. This allows for the gradient to be propagated through fewer steps in some networks and also for the network to slowly be able to use its own outputs.\n",
        "\n",
        "Exercise:\n",
        "Implement the **teacher forcing** mechanism and compare the results."
      ]
    },
    {
      "cell_type": "markdown",
      "id": "74e75e0e",
      "metadata": {
        "id": "74e75e0e"
      },
      "source": []
    },
    {
      "cell_type": "markdown",
      "id": "lcc5_5h_iNPo",
      "metadata": {
        "id": "lcc5_5h_iNPo"
      },
      "source": [
        "## Answer"
      ]
    },
    {
      "cell_type": "markdown",
      "id": "iw81nyNziQFO",
      "metadata": {
        "id": "iw81nyNziQFO"
      },
      "source": [
        "### **Introduction**: \n",
        "- RNNs are a class of neural network designed to __process sequence of related data__ by allowing previous output to be used as inputs while having hidden states. \n",
        "- As main __advantages__ they are capable of process input of any length, model size does not increase with the size of input, computation takes into account historical information and weights are shared across time. \n",
        "- However computation may be __slow and they have difficulty of accessing information from a long time ago__, also known as the vanishing gradient problem. Thus GRU and LSTM architectures are used to handle these issues."
      ]
    },
    {
      "cell_type": "markdown",
      "id": "g0zg_23EiUKJ",
      "metadata": {
        "id": "g0zg_23EiUKJ"
      },
      "source": [
        "### **The Problem**: \n",
        "- In our example a special kind of RNN architecture called GRU, was used to predict the sea surface height (SSH) based on measurements extracted from the Santos Port Channel dataset.\n",
        "- The GRU is an advanced version of the classical RNN, as well as LSTM achitecture. Their primary purpose is to store long-term information.\n",
        "- In order to improve RNN performance __teacher forcing__ mechanism was used. It is one of the strategies used to train the so-called Encoder-Decoder model which is a logial continuation of RNN model and they have provided the state-of-the-art results in sequence-to-sequence multistep time series forecasting.\n",
        "- In addition, as bonus activity, it was required an approach that decreases the teacher forcing ratio as the training progresses, which is known as __curriculum strategy__."
      ]
    },
    {
      "cell_type": "markdown",
      "id": "Of0nM8Pai1uk",
      "metadata": {
        "id": "Of0nM8Pai1uk"
      },
      "source": [
        "### **More about _Teacher Forcing_**: \n",
        "- Teacher forcing training adds external information to the training before loss calculation.\n",
        "- During teacher forcing training, the decoder RNN cell receives actual previous target values on each step, as shown in figure below:"
      ]
    },
    {
      "cell_type": "markdown",
      "id": "kpVpGQyei6BD",
      "metadata": {
        "id": "kpVpGQyei6BD"
      },
      "source": [
        "<img src='https://drive.google.com/uc?id=1wksfIrXGPgCyrkIyGJFAX3X16T3QMz_t' width=\"50%\" height=\"50%\">"
      ]
    },
    {
      "cell_type": "markdown",
      "id": "_H9eqQazkJuW",
      "metadata": {
        "id": "_H9eqQazkJuW"
      },
      "source": [
        "### **The Implementation**: \n",
        "\n",
        "- As RNN cell will be feed by actual previous target values to training, hidden_size parameter must to be equal to **1** (target dimension) instead of 64 and thus it was created another parameter called **hidden_size_TF** to be used with teacher forcing implementations.\n",
        "\n",
        "- The number of epochs for training purpose was increased from 15 to 24 (num_epochs = 24);\n",
        "\n",
        "- Two new classes, **TeacherForcingModel** and **TeacherForcingModelBonus** were created;\n",
        "\n",
        "- **TeacherForcingModel** uses the t-1 actual target value as the input for the next prediction step (i.e. teacher forcing) from the second iteration on. _Forward_ method requires target values (y) as additional parameter; \n",
        "\n",
        "- **TeacherForcingModelBonus** implementation is similar to the first one, however it implements teacher forcing ratio decreasing during training, also known as dynamic teacher forcing. By trial and error and inspired by Gridin, Ivan in \"_Time Series Forecasting using Deep Learning Combining PyTorch, RNN, TCN, and Deep Neural Network Models to Provide Production-Ready Prediction Solutions_\" book, the decreasing ratio was computed randomly according to the number of training steps or epochs;\n",
        "\n",
        "- Finally, **run_experiment** class was created to ease three scenarios execution used in this experiment - Simple GRU, Teacher Forcing and the curriculum strategy, in fact, the dynamic curriculum strategy;\n",
        "\n",
        "- Two metrics were computed in all of the scenarios overall execution lapse of time and the sum of test loss."
      ]
    },
    {
      "cell_type": "markdown",
      "id": "0B4QZRvRkOIx",
      "metadata": {
        "id": "0B4QZRvRkOIx"
      },
      "source": [
        "### **The Scenarios**: \n",
        "- The teacher forcing, teacher forcing bonus as well as the classical GRU model were performed locally, at mini-conda and Google Colab environments, but final results were colleted by Colab environment.\n",
        "- In order to measure performance three metrics were used: overall execution lapse of time and the sum of test loss and time-to-fit."
      ]
    },
    {
      "cell_type": "markdown",
      "id": "9LHLkei1kZtS",
      "metadata": {
        "id": "9LHLkei1kZtS"
      },
      "source": [
        "## **Results**: \n",
        "- As expected, teacher forcing approach improved network performance when compared with simple GRU RNN.\n",
        "\n",
        "- Regarding the proposed metrics it is possible to notice that:\n",
        "  - Computed overall execution lapse of time shows that simple GRU runs slightly faster than teacher forcing implementation, as we can see in Figure 1. It may be explained as it is computationally simpler than the other approachs. \n",
        "  - As expected test loss was better by the use of _Teacher Forcing_ approaching than without it. However the simple use of it, when target values are used for training, the model lacks generalization, due to bias.\n",
        "  - When _Teacher Forcing_ was improved by the dinamic curriculum strategy was used we notice faster fitting as epochs pass by. In addition, as there are both target and predicted values as part of training, it tends to reduce overfitting. See Figure 2.\n",
        "  - And last, but not least, by visual inspection we notice that with the use of teacher forcing since the first epochs the model outputs shapes of actual values, on the other hand without it, the model takes much longer to do it. See trainning and evaluation charts as well as figure 2."
      ]
    },
    {
      "cell_type": "markdown",
      "id": "G-D9rK0KkTuZ",
      "metadata": {
        "id": "G-D9rK0KkTuZ"
      },
      "source": [
        "**References:**\n",
        "\n",
        "- Article: The Unreasonable Effectiveness of Recurrent Neural Networks, available at: https://karpathy.github.io/2015/05/21/rnn-effectiveness/\n",
        "- Book: Deep Learning, provided by MIT, available at: https://www.deeplearningbook.org/\n",
        "- Book: Time Series Forecasting using Deep Learning: Combining PyTorch, RNN, TCN, and Deep Neural Network Models to Provide Production-Ready Prediction Solutions (English Edition)\n",
        "- PyTorch Tutorial, by Patrick Loeber, available at: https://www.youtube.com/watch?v=EMXfZB8FVUA&list=PLqnslRFeH2UrcDBWF5mfPGpqQDSta6VK4"
      ]
    }
  ],
  "metadata": {
    "accelerator": "GPU",
    "colab": {
      "gpuType": "T4",
      "provenance": []
    },
    "kernelspec": {
      "display_name": "Python 3",
      "name": "python3"
    },
    "language_info": {
      "codemirror_mode": {
        "name": "ipython",
        "version": 3
      },
      "file_extension": ".py",
      "mimetype": "text/x-python",
      "name": "python",
      "nbconvert_exporter": "python",
      "pygments_lexer": "ipython3",
      "version": "3.10.4"
    },
    "toc": {
      "base_numbering": 1,
      "nav_menu": {},
      "number_sections": true,
      "sideBar": true,
      "skip_h1_title": false,
      "title_cell": "Table of Contents",
      "title_sidebar": "Contents",
      "toc_cell": false,
      "toc_position": {},
      "toc_section_display": true,
      "toc_window_display": true
    }
  },
  "nbformat": 4,
  "nbformat_minor": 5
}