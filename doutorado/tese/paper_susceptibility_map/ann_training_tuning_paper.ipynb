{
 "cells": [
  {
   "cell_type": "markdown",
   "metadata": {},
   "source": [
    "# __Training and tuning the neural network__\n",
    "- Dataset: Guarujá Municipality - São Paulo - Brazil\n",
    "- Part 2/3"
   ]
  },
  {
   "cell_type": "markdown",
   "metadata": {},
   "source": [
    "## Authorship:\n",
    "        Caio Azevedo\n",
    "        São Paulo University, February, 2024"
   ]
  },
  {
   "cell_type": "markdown",
   "metadata": {},
   "source": [
    "## Main goals:"
   ]
  },
  {
   "cell_type": "markdown",
   "metadata": {},
   "source": [
    "- Data processing for neural network application:\n",
    "   - Removal of irrelevant features.\n",
    "   - Normalization of the dataset.\n",
    "   - ANN training and testing dataset split.\n",
    "\n",
    "- Training and evaluation of neural networks:\n",
    "   - Custom neural network implementation.\n",
    "   - Keras neural network implementation.\n",
    "   \n",
    "- Automation of hyperparameter setup for improved performance (criterion: accuracy).\n",
    "   - Brute force for optimizing hyperparameters in the custom network.\n",
    "   - Keras Tuning for optimizing Keras hyperparameters (see .ipynb file).\n",
    "   \n",
    "- Neural network performance assessment with and without 'less important features'."
   ]
  },
  {
   "cell_type": "markdown",
   "metadata": {},
   "source": [
    "## Coding"
   ]
  },
  {
   "cell_type": "markdown",
   "metadata": {},
   "source": [
    "### Imported libraries"
   ]
  },
  {
   "cell_type": "code",
   "execution_count": 1,
   "metadata": {},
   "outputs": [],
   "source": [
    "import datetime\n",
    "start = datetime.datetime.now()"
   ]
  },
  {
   "cell_type": "code",
   "execution_count": 2,
   "metadata": {},
   "outputs": [],
   "source": [
    "import Rede_Neural as rna\n",
    "from Rede_Neural import NeuralNetwork\n",
    "from Rede_Neural import Layer\n",
    "\n",
    "import numpy as np\n",
    "import pandas as pd\n",
    "import matplotlib.pyplot as plt\n",
    "import os, sys\n",
    "import seaborn as sns\n",
    "\n",
    "from matplotlib import pyplot\n",
    "from sklearn.preprocessing import MinMaxScaler, OneHotEncoder\n",
    "from sklearn.model_selection import train_test_split\n",
    "\n",
    "from utils import plot\n",
    "\n",
    "%matplotlib inline"
   ]
  },
  {
   "cell_type": "code",
   "execution_count": 3,
   "metadata": {},
   "outputs": [],
   "source": [
    "from sklearn.metrics import accuracy_score\n",
    "from sklearn.metrics import precision_score\n",
    "from sklearn.metrics import recall_score\n",
    "from sklearn.metrics import f1_score\n",
    "from sklearn.metrics import cohen_kappa_score\n",
    "from sklearn.metrics import auc\n",
    "from sklearn.metrics import roc_auc_score\n",
    "from sklearn.metrics import roc_curve\n",
    "from sklearn.metrics import confusion_matrix\n",
    "\n",
    "APP_PATH = os.getcwd()"
   ]
  },
  {
   "cell_type": "markdown",
   "metadata": {},
   "source": [
    "### Auxiliary functions"
   ]
  },
  {
   "cell_type": "code",
   "execution_count": 4,
   "metadata": {},
   "outputs": [],
   "source": [
    "#A chart that relates each of the features with the predicted value.\n",
    "def plotSwarmChart(dataSet):\n",
    "    dataSet['dummy'] = 0 # dummy feature to be used as a visual reference\n",
    "\n",
    "    f, axes = plt.subplots(1, 7, figsize=(35, 17), sharex=False)\n",
    "    f.subplots_adjust(hspace=0.2, wspace=0.7)\n",
    "    \n",
    "    sns.catplot(x=dataSet.columns[6], y='score', kind=\"swarm\", hue='score', data=dataSet,ax=axes[6])\n",
    "    \n",
    "    for i in range(7):\n",
    "        col = dataSet.columns[i] \n",
    "        ax = sns.swarmplot(x=dataSet['dummy'],y=dataSet[col].values,hue=(dataSet['score']>0.5),ax=axes[i])\n",
    "        ax.set_title(col)\n",
    "        \n",
    "    plt.close(2)\n",
    "    plt.close(3)\n",
    "    plt.show()"
   ]
  },
  {
   "cell_type": "code",
   "execution_count": 5,
   "metadata": {},
   "outputs": [],
   "source": [
    "def NetworkPerformance(y_real, y_prob):\n",
    "    y_predict = (y_prob > 0.5)\n",
    "    # accuracy: (tp + tn) / (p + n)\n",
    "    accuracy = accuracy_score(y_real, y_predict)\n",
    "    print('Accuracy: %f' % accuracy)\n",
    "    # precision tp / (tp + fp)\n",
    "    precision = precision_score(y_real, y_predict)\n",
    "    print('Precision: %f' % precision)\n",
    "    # recall: tp / (tp + fn)\n",
    "    recall = recall_score(y_real, y_predict)\n",
    "    print('Recall: %f' % recall)\n",
    "    # f1: 2 tp / (2 tp + fp + fn)\n",
    "    f1 = f1_score(y_real, y_predict)\n",
    "    print('F1 score: %f' % f1)\n",
    "    # kappa\n",
    "    kappa = cohen_kappa_score(y_real, y_predict)\n",
    "    print('Cohens kappa: %f' % kappa)\n",
    "    # ROC AUC\n",
    "    auc = roc_auc_score(y_real, y_prob)\n",
    "    print('ROC AUC: %f' % auc)\n",
    "    # confusion matrix\n",
    "    matrix = confusion_matrix(y_real, y_predict)\n",
    "    print(matrix)"
   ]
  },
  {
   "cell_type": "code",
   "execution_count": 6,
   "metadata": {},
   "outputs": [],
   "source": [
    "def printAUROC(y_real,y_predict):\n",
    "    ns_auc = roc_auc_score(y_real, y_predict)\n",
    "    # summarize scores\n",
    "    print('AUC ROC=%.4f' % (ns_auc))\n",
    "    # calculate roc curves\n",
    "    lr_fpr, lr_tpr, _ = roc_curve(y_real, y_predict)\n",
    "    random_probs = [0 for i in range(len(y_test))]\n",
    "    p_fpr, p_tpr, _ = roc_curve(y_test, random_probs, pos_label=1)\n",
    "    # plot the roc curve for the model\n",
    "    plt.plot(p_fpr, p_tpr, linestyle='--', label='random', color='orange')\n",
    "    pyplot.plot(lr_fpr, lr_tpr, marker='.', label='ANN', color='blue')\n",
    "    \n",
    "    # axis labels\n",
    "    pyplot.xlabel('false positive rate')\n",
    "    pyplot.ylabel('true positive rate')\n",
    "    # show the legend\n",
    "    pyplot.legend()\n",
    "    # show the plot\n",
    "    pyplot.show()"
   ]
  },
  {
   "cell_type": "code",
   "execution_count": 7,
   "metadata": {},
   "outputs": [],
   "source": [
    "# split data into training, validation and testing sets\n",
    "def dataPreparation(dataSet):\n",
    "    X = dataSet.drop('class',axis=1)\n",
    "    y= dataSet['class']\n",
    "    \n",
    "    X = X.to_numpy()    #converts dataframe into array to be used at NN\n",
    "    y = y.to_numpy()    #converts dataframe into array to be used at NN\n",
    "    y = y.reshape(-1,1) #reorganiza o array em um array 1 x 1\n",
    "    \n",
    "    # split data into training, validation and testing sets\n",
    "    seed = 7\n",
    "    test_size = 0.30\n",
    "    \n",
    "    train_x, test_x, train_y, test_y = train_test_split(X, y, test_size=test_size, shuffle=False)\n",
    "    train_x, val_x, train_y, val_y   = train_test_split(train_x,train_y, test_size=test_size, shuffle=False)\n",
    "\n",
    "    # define the scaler\n",
    "    scaler = MinMaxScaler(feature_range=(-1, 1)) \n",
    "    #scaler = MinMaxScaler() \n",
    "    # fit on the training dataset\n",
    "    scaler.fit(train_x)\n",
    "    # scale the training dataset\n",
    "    train_x = scaler.transform(train_x)\n",
    "    # scale the test dataset\n",
    "    test_x = scaler.transform(test_x)\n",
    "    # scale the test dataset\n",
    "    val_x = scaler.transform(val_x)\n",
    "    return train_x, test_x, val_x, train_y, test_y, val_y"
   ]
  },
  {
   "cell_type": "code",
   "execution_count": 8,
   "metadata": {},
   "outputs": [],
   "source": [
    "def bubble_chart(data, col_2_buble_size, col_x, col_y):\n",
    "    fig, ax = plt.subplots(figsize=(15,13))\n",
    "    sizes = data[col_2_buble_size]*10\n",
    "    scatter = ax.scatter(data[col_x], data[col_y], \n",
    "           c=(dataset['class']), cmap='rainbow', alpha=0.5,\n",
    "           s=sizes, edgecolors='none')\n",
    "\n",
    "    legend1 = ax.legend(*scatter.legend_elements(),\n",
    "                    loc=\"upper right\", title=\"landslide\")\n",
    "\n",
    "    ax.title.set_text(\"{}{}\".format(len(data.index), ' landslides samples')) \n",
    "\n",
    "    plt.show()"
   ]
  },
  {
   "cell_type": "code",
   "execution_count": 9,
   "metadata": {},
   "outputs": [],
   "source": [
    "def  bubble_double_chart(data, col_2_buble_size, col_x, col_y):\n",
    "    sizes = data[col_2_buble_size]*10\n",
    "\n",
    "    fig, axes = plt.subplots(nrows=1, ncols=2, figsize=(14, 9))\n",
    "\n",
    "    scatter = axes[0].scatter(data[col_x], data['elevation'],\n",
    "            c=(data['class']), cmap='rainbow', alpha=0.3,\n",
    "            s=sizes, edgecolors='none')\n",
    "    legend1 = axes[0].legend(*scatter.legend_elements(),\n",
    "                    loc=\"upper right\", title=\"landslide\")\n",
    "\n",
    "    scatter = axes[1].scatter(data[col_x], data[col_y],\n",
    "            c=(data['score'] > 0.5), cmap='rainbow', alpha=0.3,\n",
    "            s=sizes, edgecolors='none')\n",
    "    legend1 = axes[1].legend(*scatter.legend_elements(),\n",
    "                    loc=\"upper right\", title=\"landslide\")\n",
    "\n",
    "    fig.tight_layout()\n",
    "    text = 'predicted landslides ' + 'accuracy : {:.2f}%'.format(100*accuracy_score(y, y_pred > 0.5))\n",
    "    axes[0].title.set_text('real landslides')\n",
    "    axes[1].title.set_text(text)\n",
    "\n",
    "    plt.show()"
   ]
  },
  {
   "cell_type": "markdown",
   "metadata": {},
   "source": [
    "### Select the dataset"
   ]
  },
  {
   "cell_type": "code",
   "execution_count": 10,
   "metadata": {},
   "outputs": [
    {
     "data": {
      "text/html": [
       "<div>\n",
       "<style scoped>\n",
       "    .dataframe tbody tr th:only-of-type {\n",
       "        vertical-align: middle;\n",
       "    }\n",
       "\n",
       "    .dataframe tbody tr th {\n",
       "        vertical-align: top;\n",
       "    }\n",
       "\n",
       "    .dataframe thead th {\n",
       "        text-align: right;\n",
       "    }\n",
       "</style>\n",
       "<table border=\"1\" class=\"dataframe\">\n",
       "  <thead>\n",
       "    <tr style=\"text-align: right;\">\n",
       "      <th></th>\n",
       "      <th>FID</th>\n",
       "      <th>X</th>\n",
       "      <th>Y</th>\n",
       "      <th>twi</th>\n",
       "      <th>curvature</th>\n",
       "      <th>slope</th>\n",
       "      <th>elevation</th>\n",
       "      <th>aspect</th>\n",
       "      <th>lithology</th>\n",
       "      <th>land_use</th>\n",
       "      <th>class</th>\n",
       "    </tr>\n",
       "  </thead>\n",
       "  <tbody>\n",
       "    <tr>\n",
       "      <th>0</th>\n",
       "      <td>174</td>\n",
       "      <td>380188.0000</td>\n",
       "      <td>7355077.000</td>\n",
       "      <td>4.319798</td>\n",
       "      <td>-0.015372</td>\n",
       "      <td>33.860043</td>\n",
       "      <td>25.912239</td>\n",
       "      <td>277.485138</td>\n",
       "      <td>65</td>\n",
       "      <td>90</td>\n",
       "      <td>1</td>\n",
       "    </tr>\n",
       "    <tr>\n",
       "      <th>1</th>\n",
       "      <td>1</td>\n",
       "      <td>369756.0000</td>\n",
       "      <td>7344220.000</td>\n",
       "      <td>16.590740</td>\n",
       "      <td>-0.043386</td>\n",
       "      <td>0.727488</td>\n",
       "      <td>0.418544</td>\n",
       "      <td>159.017288</td>\n",
       "      <td>2</td>\n",
       "      <td>90</td>\n",
       "      <td>0</td>\n",
       "    </tr>\n",
       "    <tr>\n",
       "      <th>2</th>\n",
       "      <td>62</td>\n",
       "      <td>376611.0000</td>\n",
       "      <td>7353497.000</td>\n",
       "      <td>16.493561</td>\n",
       "      <td>-0.011949</td>\n",
       "      <td>1.114157</td>\n",
       "      <td>1.117189</td>\n",
       "      <td>142.506317</td>\n",
       "      <td>2</td>\n",
       "      <td>90</td>\n",
       "      <td>0</td>\n",
       "    </tr>\n",
       "    <tr>\n",
       "      <th>3</th>\n",
       "      <td>110</td>\n",
       "      <td>372569.0000</td>\n",
       "      <td>7346250.000</td>\n",
       "      <td>5.782696</td>\n",
       "      <td>-0.010980</td>\n",
       "      <td>20.309313</td>\n",
       "      <td>9.144706</td>\n",
       "      <td>306.605927</td>\n",
       "      <td>2</td>\n",
       "      <td>30</td>\n",
       "      <td>1</td>\n",
       "    </tr>\n",
       "    <tr>\n",
       "      <th>4</th>\n",
       "      <td>109</td>\n",
       "      <td>370946.0334</td>\n",
       "      <td>7346022.025</td>\n",
       "      <td>4.132583</td>\n",
       "      <td>-0.000184</td>\n",
       "      <td>43.904831</td>\n",
       "      <td>46.628563</td>\n",
       "      <td>316.640686</td>\n",
       "      <td>2</td>\n",
       "      <td>30</td>\n",
       "      <td>1</td>\n",
       "    </tr>\n",
       "  </tbody>\n",
       "</table>\n",
       "</div>"
      ],
      "text/plain": [
       "   FID            X            Y        twi  curvature      slope  elevation  \\\n",
       "0  174  380188.0000  7355077.000   4.319798  -0.015372  33.860043  25.912239   \n",
       "1    1  369756.0000  7344220.000  16.590740  -0.043386   0.727488   0.418544   \n",
       "2   62  376611.0000  7353497.000  16.493561  -0.011949   1.114157   1.117189   \n",
       "3  110  372569.0000  7346250.000   5.782696  -0.010980  20.309313   9.144706   \n",
       "4  109  370946.0334  7346022.025   4.132583  -0.000184  43.904831  46.628563   \n",
       "\n",
       "       aspect  lithology  land_use  class  \n",
       "0  277.485138         65        90      1  \n",
       "1  159.017288          2        90      0  \n",
       "2  142.506317          2        90      0  \n",
       "3  306.605927          2        30      1  \n",
       "4  316.640686          2        30      1  "
      ]
     },
     "execution_count": 10,
     "metadata": {},
     "output_type": "execute_result"
    }
   ],
   "source": [
    "# Switch the sample to analyse.\n",
    "\n",
    "#file = \"Input_Guaruja_50m_shuffled.csv\"\n",
    "#file = \"Input_Guaruja_100m_shuffled.csv\"\n",
    "#file = \"Input_Guaruja_150m_shuffled.csv\"\n",
    "file = \"Input_Guaruja_200m_shuffled.csv\"\n",
    "\n",
    "#file = \"pt_non-occurrence_1km_shuffled.csv\"\n",
    "#file = \"pt_non-occurrence_2km_shuffled.csv\"\n",
    "#file = \"pt_non-occurrence_3km_shuffled.csv\"\n",
    "#file = \"pt_non-occurrence_4km_shuffled.csv\"\n",
    "\n",
    "#file = \"guaruja_random.csv\"\n",
    "\n",
    "dataset = pd.read_csv(os.path.join(APP_PATH, os.path.join(\"data\", file))) \n",
    "\n",
    "# load the dataset\n",
    "#dataset = dataset.sample(frac = 1) #shuffle the records. \n",
    "#In order to reproduce the test, records were previously shuffled.\n",
    "dataset_original = dataset.copy()\n",
    "dataset.head(5)"
   ]
  },
  {
   "cell_type": "code",
   "execution_count": 11,
   "metadata": {},
   "outputs": [
    {
     "data": {
      "text/plain": [
       "(197, 11)"
      ]
     },
     "execution_count": 11,
     "metadata": {},
     "output_type": "execute_result"
    }
   ],
   "source": [
    "dataset.shape"
   ]
  },
  {
   "cell_type": "code",
   "execution_count": 12,
   "metadata": {},
   "outputs": [
    {
     "data": {
      "text/html": [
       "<div>\n",
       "<style scoped>\n",
       "    .dataframe tbody tr th:only-of-type {\n",
       "        vertical-align: middle;\n",
       "    }\n",
       "\n",
       "    .dataframe tbody tr th {\n",
       "        vertical-align: top;\n",
       "    }\n",
       "\n",
       "    .dataframe thead th {\n",
       "        text-align: right;\n",
       "    }\n",
       "</style>\n",
       "<table border=\"1\" class=\"dataframe\">\n",
       "  <thead>\n",
       "    <tr style=\"text-align: right;\">\n",
       "      <th></th>\n",
       "      <th>FID</th>\n",
       "      <th>X</th>\n",
       "      <th>Y</th>\n",
       "      <th>twi</th>\n",
       "      <th>curvature</th>\n",
       "      <th>slope</th>\n",
       "      <th>elevation</th>\n",
       "      <th>aspect</th>\n",
       "      <th>lithology</th>\n",
       "      <th>land_use</th>\n",
       "      <th>class</th>\n",
       "    </tr>\n",
       "  </thead>\n",
       "  <tbody>\n",
       "    <tr>\n",
       "      <th>count</th>\n",
       "      <td>197.00</td>\n",
       "      <td>197.00</td>\n",
       "      <td>197.00</td>\n",
       "      <td>197.00</td>\n",
       "      <td>197.00</td>\n",
       "      <td>197.00</td>\n",
       "      <td>197.00</td>\n",
       "      <td>197.00</td>\n",
       "      <td>197.00</td>\n",
       "      <td>197.00</td>\n",
       "      <td>197.0</td>\n",
       "    </tr>\n",
       "    <tr>\n",
       "      <th>mean</th>\n",
       "      <td>99.00</td>\n",
       "      <td>375519.78</td>\n",
       "      <td>7350881.70</td>\n",
       "      <td>5.82</td>\n",
       "      <td>0.12</td>\n",
       "      <td>19.82</td>\n",
       "      <td>47.63</td>\n",
       "      <td>200.24</td>\n",
       "      <td>33.34</td>\n",
       "      <td>69.64</td>\n",
       "      <td>0.5</td>\n",
       "    </tr>\n",
       "    <tr>\n",
       "      <th>std</th>\n",
       "      <td>57.01</td>\n",
       "      <td>3796.70</td>\n",
       "      <td>4126.95</td>\n",
       "      <td>3.01</td>\n",
       "      <td>2.04</td>\n",
       "      <td>12.34</td>\n",
       "      <td>54.07</td>\n",
       "      <td>105.75</td>\n",
       "      <td>31.58</td>\n",
       "      <td>29.94</td>\n",
       "      <td>0.5</td>\n",
       "    </tr>\n",
       "    <tr>\n",
       "      <th>min</th>\n",
       "      <td>1.00</td>\n",
       "      <td>366577.00</td>\n",
       "      <td>7344020.00</td>\n",
       "      <td>1.37</td>\n",
       "      <td>-18.47</td>\n",
       "      <td>0.03</td>\n",
       "      <td>0.00</td>\n",
       "      <td>0.30</td>\n",
       "      <td>2.00</td>\n",
       "      <td>20.00</td>\n",
       "      <td>0.0</td>\n",
       "    </tr>\n",
       "    <tr>\n",
       "      <th>25%</th>\n",
       "      <td>50.00</td>\n",
       "      <td>372439.00</td>\n",
       "      <td>7347513.00</td>\n",
       "      <td>4.03</td>\n",
       "      <td>-0.02</td>\n",
       "      <td>11.59</td>\n",
       "      <td>7.82</td>\n",
       "      <td>108.77</td>\n",
       "      <td>2.00</td>\n",
       "      <td>30.00</td>\n",
       "      <td>0.0</td>\n",
       "    </tr>\n",
       "    <tr>\n",
       "      <th>50%</th>\n",
       "      <td>99.00</td>\n",
       "      <td>375221.00</td>\n",
       "      <td>7348949.00</td>\n",
       "      <td>4.96</td>\n",
       "      <td>-0.00</td>\n",
       "      <td>20.69</td>\n",
       "      <td>25.91</td>\n",
       "      <td>202.57</td>\n",
       "      <td>2.00</td>\n",
       "      <td>90.00</td>\n",
       "      <td>1.0</td>\n",
       "    </tr>\n",
       "    <tr>\n",
       "      <th>75%</th>\n",
       "      <td>148.00</td>\n",
       "      <td>379188.00</td>\n",
       "      <td>7354877.00</td>\n",
       "      <td>6.41</td>\n",
       "      <td>0.02</td>\n",
       "      <td>27.52</td>\n",
       "      <td>69.85</td>\n",
       "      <td>302.54</td>\n",
       "      <td>65.00</td>\n",
       "      <td>90.00</td>\n",
       "      <td>1.0</td>\n",
       "    </tr>\n",
       "    <tr>\n",
       "      <th>max</th>\n",
       "      <td>197.00</td>\n",
       "      <td>381355.00</td>\n",
       "      <td>7357501.00</td>\n",
       "      <td>16.59</td>\n",
       "      <td>11.10</td>\n",
       "      <td>68.52</td>\n",
       "      <td>230.08</td>\n",
       "      <td>359.51</td>\n",
       "      <td>65.00</td>\n",
       "      <td>120.00</td>\n",
       "      <td>1.0</td>\n",
       "    </tr>\n",
       "  </tbody>\n",
       "</table>\n",
       "</div>"
      ],
      "text/plain": [
       "          FID          X           Y     twi  curvature   slope  elevation  \\\n",
       "count  197.00     197.00      197.00  197.00     197.00  197.00     197.00   \n",
       "mean    99.00  375519.78  7350881.70    5.82       0.12   19.82      47.63   \n",
       "std     57.01    3796.70     4126.95    3.01       2.04   12.34      54.07   \n",
       "min      1.00  366577.00  7344020.00    1.37     -18.47    0.03       0.00   \n",
       "25%     50.00  372439.00  7347513.00    4.03      -0.02   11.59       7.82   \n",
       "50%     99.00  375221.00  7348949.00    4.96      -0.00   20.69      25.91   \n",
       "75%    148.00  379188.00  7354877.00    6.41       0.02   27.52      69.85   \n",
       "max    197.00  381355.00  7357501.00   16.59      11.10   68.52     230.08   \n",
       "\n",
       "       aspect  lithology  land_use  class  \n",
       "count  197.00     197.00    197.00  197.0  \n",
       "mean   200.24      33.34     69.64    0.5  \n",
       "std    105.75      31.58     29.94    0.5  \n",
       "min      0.30       2.00     20.00    0.0  \n",
       "25%    108.77       2.00     30.00    0.0  \n",
       "50%    202.57       2.00     90.00    1.0  \n",
       "75%    302.54      65.00     90.00    1.0  \n",
       "max    359.51      65.00    120.00    1.0  "
      ]
     },
     "execution_count": 12,
     "metadata": {},
     "output_type": "execute_result"
    }
   ],
   "source": [
    "#describing the dataframe to seek for distribution information\n",
    "dataset.describe().round(2)"
   ]
  },
  {
   "cell_type": "code",
   "execution_count": 13,
   "metadata": {},
   "outputs": [
    {
     "data": {
      "image/png": "[encoded data removed]",
      "text/plain": [
       "<Figure size 1080x936 with 1 Axes>"
      ]
     },
     "metadata": {
      "needs_background": "light"
     },
     "output_type": "display_data"
    }
   ],
   "source": [
    "bubble_chart(dataset,\"elevation\",\"slope\",\"elevation\")"
   ]
  },
  {
   "cell_type": "markdown",
   "metadata": {},
   "source": [
    "### Data Preparation\n",
    " - Based on the results of the feature importance analysis, all features were retained for training the ANN.\n",
    " - We addressed concerns about data leakage."
   ]
  },
  {
   "cell_type": "code",
   "execution_count": 14,
   "metadata": {},
   "outputs": [
    {
     "data": {
      "text/html": [
       "<div>\n",
       "<style scoped>\n",
       "    .dataframe tbody tr th:only-of-type {\n",
       "        vertical-align: middle;\n",
       "    }\n",
       "\n",
       "    .dataframe tbody tr th {\n",
       "        vertical-align: top;\n",
       "    }\n",
       "\n",
       "    .dataframe thead th {\n",
       "        text-align: right;\n",
       "    }\n",
       "</style>\n",
       "<table border=\"1\" class=\"dataframe\">\n",
       "  <thead>\n",
       "    <tr style=\"text-align: right;\">\n",
       "      <th></th>\n",
       "      <th>slope</th>\n",
       "      <th>aspect</th>\n",
       "      <th>elevation</th>\n",
       "      <th>twi</th>\n",
       "      <th>curvature</th>\n",
       "      <th>class</th>\n",
       "    </tr>\n",
       "  </thead>\n",
       "  <tbody>\n",
       "    <tr>\n",
       "      <th>0</th>\n",
       "      <td>33.860043</td>\n",
       "      <td>277.485138</td>\n",
       "      <td>25.912239</td>\n",
       "      <td>4.319798</td>\n",
       "      <td>-0.015372</td>\n",
       "      <td>1</td>\n",
       "    </tr>\n",
       "    <tr>\n",
       "      <th>1</th>\n",
       "      <td>0.727488</td>\n",
       "      <td>159.017288</td>\n",
       "      <td>0.418544</td>\n",
       "      <td>16.590740</td>\n",
       "      <td>-0.043386</td>\n",
       "      <td>0</td>\n",
       "    </tr>\n",
       "    <tr>\n",
       "      <th>2</th>\n",
       "      <td>1.114157</td>\n",
       "      <td>142.506317</td>\n",
       "      <td>1.117189</td>\n",
       "      <td>16.493561</td>\n",
       "      <td>-0.011949</td>\n",
       "      <td>0</td>\n",
       "    </tr>\n",
       "    <tr>\n",
       "      <th>3</th>\n",
       "      <td>20.309313</td>\n",
       "      <td>306.605927</td>\n",
       "      <td>9.144706</td>\n",
       "      <td>5.782696</td>\n",
       "      <td>-0.010980</td>\n",
       "      <td>1</td>\n",
       "    </tr>\n",
       "    <tr>\n",
       "      <th>4</th>\n",
       "      <td>43.904831</td>\n",
       "      <td>316.640686</td>\n",
       "      <td>46.628563</td>\n",
       "      <td>4.132583</td>\n",
       "      <td>-0.000184</td>\n",
       "      <td>1</td>\n",
       "    </tr>\n",
       "  </tbody>\n",
       "</table>\n",
       "</div>"
      ],
      "text/plain": [
       "       slope      aspect  elevation        twi  curvature  class\n",
       "0  33.860043  277.485138  25.912239   4.319798  -0.015372      1\n",
       "1   0.727488  159.017288   0.418544  16.590740  -0.043386      0\n",
       "2   1.114157  142.506317   1.117189  16.493561  -0.011949      0\n",
       "3  20.309313  306.605927   9.144706   5.782696  -0.010980      1\n",
       "4  43.904831  316.640686  46.628563   4.132583  -0.000184      1"
      ]
     },
     "execution_count": 14,
     "metadata": {},
     "output_type": "execute_result"
    }
   ],
   "source": [
    "# According to previous analyses we notice some features are less relevant. \n",
    "# In case of random sample the less important features are: and the best accurancy with them is 999 and without is 999.\n",
    "\n",
    "#random best features: twi, elevation, land_use\n",
    "# 96.67% accu_test - 100.00% foi a melhor acurácia\n",
    "\n",
    "# In case of non-occurance 200m far from occurence sample the less important features are: and the best accurancy with \n",
    "#them is 999 and without is 999.\n",
    "#200m best features: 𝑠𝑙𝑜𝑝𝑒, 𝑡𝑤𝑖, and 𝑎𝑠𝑝𝑒𝑐𝑡.\n",
    "\n",
    "# It is certified as the accuracy of the ANN is quite similar with or without them.\n",
    "# However we decide to keep all of them.\n",
    "\n",
    "\n",
    "\n",
    "dataset = dataset[['slope','aspect','elevation','land_use','lithology','twi','curvature','class']]\n",
    "\n",
    "#dataset = dataset.drop('slope',axis=1)\n",
    "#dataset = dataset.drop('aspect',axis=1)\n",
    "\n",
    "dataset = dataset.drop('lithology',axis=1)\n",
    "#dataset = dataset.drop('curvature',axis=1)\n",
    "\n",
    "#dataset = dataset.drop('elevation',axis=1)\n",
    "dataset = dataset.drop('land_use',axis=1)\n",
    "\n",
    "dataset.head(5)"
   ]
  },
  {
   "cell_type": "code",
   "execution_count": 15,
   "metadata": {},
   "outputs": [],
   "source": [
    "X_train, X_test, X_val, y_train, y_test, y_val = dataPreparation(dataset)"
   ]
  },
  {
   "cell_type": "code",
   "execution_count": 16,
   "metadata": {},
   "outputs": [
    {
     "name": "stdout",
     "output_type": "stream",
     "text": [
      "95 train examples\n",
      "42 validation examples\n",
      "60 test examples\n"
     ]
    }
   ],
   "source": [
    "print(len(X_train), 'train examples')\n",
    "print(len(X_val), 'validation examples')\n",
    "print(len(X_test), 'test examples')"
   ]
  },
  {
   "cell_type": "code",
   "execution_count": 17,
   "metadata": {},
   "outputs": [
    {
     "name": "stdout",
     "output_type": "stream",
     "text": [
      "[-1. -1. -1. -1. -1.] [1.08254853 1.03161732 1.1480696  0.81881985 2.3282485 ]\n"
     ]
    }
   ],
   "source": [
    "print(X_train.min(axis=0), X_test.max(axis=0))"
   ]
  },
  {
   "cell_type": "code",
   "execution_count": 18,
   "metadata": {},
   "outputs": [],
   "source": [
    "X = np.concatenate((X_train, X_val))\n",
    "X = np.concatenate((X, X_test))"
   ]
  },
  {
   "cell_type": "code",
   "execution_count": 19,
   "metadata": {},
   "outputs": [
    {
     "data": {
      "text/plain": [
       "(197, 5)"
      ]
     },
     "execution_count": 19,
     "metadata": {},
     "output_type": "execute_result"
    }
   ],
   "source": [
    "X.shape"
   ]
  },
  {
   "cell_type": "code",
   "execution_count": 20,
   "metadata": {},
   "outputs": [],
   "source": [
    "y = np.concatenate((y_train, y_val))\n",
    "y = np.concatenate((y, y_test))"
   ]
  },
  {
   "cell_type": "code",
   "execution_count": 21,
   "metadata": {},
   "outputs": [
    {
     "data": {
      "text/plain": [
       "(197, 1)"
      ]
     },
     "execution_count": 21,
     "metadata": {},
     "output_type": "execute_result"
    }
   ],
   "source": [
    "y.shape"
   ]
  },
  {
   "cell_type": "code",
   "execution_count": 22,
   "metadata": {},
   "outputs": [
    {
     "name": "stdout",
     "output_type": "stream",
     "text": [
      "[-1.00192557 -1.         -1.00014224 -1.16903795 -6.80518688] [1.08254853 1.03161732 1.1480696  1.         3.56467966]\n"
     ]
    }
   ],
   "source": [
    "print(X.min(axis=0), X.max(axis=0))"
   ]
  },
  {
   "cell_type": "markdown",
   "metadata": {},
   "source": [
    "__Compute the number of input and output features__"
   ]
  },
  {
   "cell_type": "code",
   "execution_count": 23,
   "metadata": {},
   "outputs": [],
   "source": [
    "input_dim, output_dim = X_train.shape[1], y_train.shape[1]"
   ]
  },
  {
   "cell_type": "markdown",
   "metadata": {},
   "source": [
    "### Custom neural network training"
   ]
  },
  {
   "cell_type": "markdown",
   "metadata": {},
   "source": [
    "#### Hyperparameters tunning\n",
    "- Brute force method\n",
    "- Custom implementation for classes and functions"
   ]
  },
  {
   "cell_type": "code",
   "execution_count": 24,
   "metadata": {},
   "outputs": [],
   "source": [
    "class hyperparametros: \n",
    "    def __init__(self, acuracia, camadas,neuronios,learning_rate,batch_size,dropout): \n",
    "        self.acuracia = acuracia \n",
    "        self.camadas = camadas\n",
    "        self.neuronios = neuronios \n",
    "        self.learning_rate = learning_rate\n",
    "        self.batch_size = batch_size\n",
    "        self.dropout = dropout"
   ]
  },
  {
   "cell_type": "code",
   "execution_count": 25,
   "metadata": {},
   "outputs": [],
   "source": [
    "class ANN_accuracy: \n",
    "    def __init__(self, acuracia, _neuralNetwork): \n",
    "        self.acuracia = acuracia \n",
    "        self.ann = _neuralNetwork"
   ]
  },
  {
   "cell_type": "code",
   "execution_count": 26,
   "metadata": {},
   "outputs": [],
   "source": [
    "#patience = early stopping\n",
    "def setBestNeuralNetwork(hidden_layers,neurons, num_learning_rate, droput, input_dim, output_dim):\n",
    "    nn = NeuralNetwork(cost_func = rna.binary_cross_entropy, learning_rate = num_learning_rate, momentum=0.1, patience=50) \n",
    "\n",
    "    #input layer\n",
    "    nn.layers.append(Layer(input_dim=input_dim, output_dim=neurons,activation= rna.relu, weights_initializer=rna.glorot_normal))\n",
    "\n",
    "    for num_hidden_layers in range(1,hidden_layers+1,1):\n",
    "        #nn.layers.append(Layer(input_dim=neurons, output_dim=neurons,activation=rna.relu,reg_func=rna.l2_regularization,reg_strength=1e-2))\n",
    "        nn.layers.append(Layer(input_dim=neurons, output_dim=neurons,activation=rna.relu,dropout_prob = droput,weights_initializer=rna.glorot_normal,biases_initializer=rna.glorot_normal))\n",
    "\n",
    "    #output layer\n",
    "    nn.layers.append(Layer(input_dim=neurons, output_dim=output_dim,activation=rna.sigmoid,weights_initializer=rna.glorot_normal))  \n",
    "\n",
    "    return nn"
   ]
  },
  {
   "cell_type": "code",
   "execution_count": 27,
   "metadata": {},
   "outputs": [],
   "source": [
    "# (batch_size) Implements the mini-batch that accelerates the training time, requires a mini-batch initialization method. \n",
    "#It is ideal for the batch size to be a multiple of the training dataset size, which is 128 here.\n",
    "neurons = [7,8,12] \n",
    "# preciso encontrar uma forma de implementar a alteração do numero de neuronios na camada oculta variando \n",
    "# de n-2 até n+6\n",
    "hidden_layers = [1,2,3]\n",
    "learning_rate = [0.001,0.005,0.01]\n",
    "batch_size = [0,4,8] \n",
    "dropout_rate = [0,0.1]\n",
    "best_of_best_ANN = []\n",
    "best_of_best_hyper = []"
   ]
  },
  {
   "cell_type": "code",
   "execution_count": 28,
   "metadata": {},
   "outputs": [],
   "source": [
    "def setTestNeuralNetwork(hidden_layers,neurons, num_learning_rate, droput, input_dim, output_dim):\n",
    "    #nn = NeuralNetwork(cost_func = rna.binary_cross_entropy, learning_rate = num_learning_rate, momentum=0.25, patience=50) \n",
    "\n",
    "    #camada de entrada\n",
    "    print('\\033[1m Input layer: {} inputs neurons  {} outputs neurons {} learning rate \\033[0m'.format(input_dim, neurons,num_learning_rate))\n",
    "    #nn.layers.append(Layer(input_dim=input_dim, output_dim=neurons,activation= rna.relu, weights_initializer=rna.glorot_normal))\n",
    "\n",
    "    for num_hidden_layers in range(1,hidden_layers+1,1):\n",
    "        print(' hidden layer {} neurons {} layers '.format(neurons,hidden_layers))\n",
    "        #nn.layers.append(Layer(input_dim=neurons, output_dim=neurons,activation=rna.relu,reg_func=rna.l2_regularization,reg_strength=1e-2))\n",
    "        #nn.layers.append(Layer(input_dim=neurons, output_dim=neurons,activation=rna.relu,dropout_prob = droput,weights_initializer=rna.glorot_normal))\n",
    "    \n",
    "    #nn.layers.append(Layer(input_dim=neurons, output_dim=output_dim,activation=rna.sigmoid,weights_initializer=rna.glorot_normal))  \n",
    "    print('\\033[1m {} last hidden layer neurons, {} output neurons \\033[0m'.format(neurons,output_dim))"
   ]
  },
  {
   "cell_type": "code",
   "execution_count": 29,
   "metadata": {
    "scrolled": true
   },
   "outputs": [
    {
     "name": "stdout",
     "output_type": "stream",
     "text": [
      "epoch:    0/40000 loss_train: 0.92290823 + 0.00000000 = 0.92290823 loss_val = 0.92290823\n",
      "epoch: 3000/40000 loss_train: 0.63976038 + 0.00000000 = 0.63976038 loss_val = 0.63976038\n",
      "epoch: 6000/40000 loss_train: 0.59274081 + 0.00000000 = 0.59274081 loss_val = 0.59274081\n",
      "epoch: 9000/40000 loss_train: 0.54412841 + 0.00000000 = 0.54412841 loss_val = 0.54412841\n",
      "epoch: 12000/40000 loss_train: 0.50833692 + 0.00000000 = 0.50833692 loss_val = 0.50833692\n",
      "epoch: 15000/40000 loss_train: 0.48839284 + 0.00000000 = 0.48839284 loss_val = 0.48839284\n",
      "epoch: 18000/40000 loss_train: 0.47060882 + 0.00000000 = 0.47060882 loss_val = 0.47060882\n",
      "epoch: 21000/40000 loss_train: 0.45898720 + 0.00000000 = 0.45898720 loss_val = 0.45898720\n",
      "epoch: 24000/40000 loss_train: 0.45341536 + 0.00000000 = 0.45341536 loss_val = 0.45341536\n",
      "epoch: 27000/40000 loss_train: 0.44776856 + 0.00000000 = 0.44776856 loss_val = 0.44776856\n",
      "epoch: 30000/40000 loss_train: 0.43904089 + 0.00000000 = 0.43904089 loss_val = 0.43904089\n",
      "epoch: 33000/40000 loss_train: 0.42407080 + 0.00000000 = 0.42407080 loss_val = 0.42407080\n",
      "epoch: 36000/40000 loss_train: 0.39888666 + 0.00000000 = 0.39888666 loss_val = 0.39888666\n",
      "epoch: 39000/40000 loss_train: 0.36678932 + 0.00000000 = 0.36678932 loss_val = 0.36678932\n",
      "To 7 neurons, 1 layer(s),  0.001 learning rate, 0 batch size, 0 dropout rate, we have: \u001b[1m Accuracy: 85.71% \u001b[0m\n",
      "epoch:    0/40000 loss_train: 0.68869517 + 0.00000000 = 0.68869517 loss_val = 0.68869517\n",
      "epoch: 3000/40000 loss_train: 0.58578675 + 0.00000000 = 0.58578675 loss_val = 0.58578675\n",
      "epoch: 6000/40000 loss_train: 0.54354156 + 0.00000000 = 0.54354156 loss_val = 0.54354156\n",
      "epoch: 9000/40000 loss_train: 0.52145133 + 0.00000000 = 0.52145133 loss_val = 0.52145133\n",
      "epoch: 12000/40000 loss_train: 0.51135016 + 0.00000000 = 0.51135016 loss_val = 0.51135016\n",
      "epoch: 15000/40000 loss_train: 0.50577636 + 0.00000000 = 0.50577636 loss_val = 0.50577636\n",
      "epoch: 18000/40000 loss_train: 0.50028051 + 0.00000000 = 0.50028051 loss_val = 0.50028051\n",
      "epoch: 21000/40000 loss_train: 0.49655265 + 0.00000000 = 0.49655265 loss_val = 0.49655265\n",
      "epoch: 24000/40000 loss_train: 0.49310711 + 0.00000000 = 0.49310711 loss_val = 0.49310711\n",
      "epoch: 27000/40000 loss_train: 0.49063093 + 0.00000000 = 0.49063093 loss_val = 0.49063093\n",
      "epoch: 30000/40000 loss_train: 0.48831609 + 0.00000000 = 0.48831609 loss_val = 0.48831609\n",
      "epoch: 33000/40000 loss_train: 0.48657921 + 0.00000000 = 0.48657921 loss_val = 0.48657921\n",
      "To 7 neurons, 1 layer(s),  0.001 learning rate, 0 batch size, 0.1 dropout rate, we have: \u001b[1m Accuracy: 71.43% \u001b[0m\n",
      "epoch:    0/40000 loss_train: 0.64255308 + 0.00000000 = 0.64255308 loss_val = 0.64255308\n",
      "epoch: 3000/40000 loss_train: 0.56760622 + 0.00000000 = 0.56760622 loss_val = 0.56760622\n",
      "epoch: 6000/40000 loss_train: 0.54550326 + 0.00000000 = 0.54550326 loss_val = 0.54550326\n",
      "epoch: 9000/40000 loss_train: 0.53006509 + 0.00000000 = 0.53006509 loss_val = 0.53006509\n",
      "epoch: 12000/40000 loss_train: 0.51837537 + 0.00000000 = 0.51837537 loss_val = 0.51837537\n",
      "epoch: 15000/40000 loss_train: 0.50871347 + 0.00000000 = 0.50871347 loss_val = 0.50871347\n",
      "epoch: 18000/40000 loss_train: 0.49767021 + 0.00000000 = 0.49767021 loss_val = 0.49767021\n",
      "epoch: 21000/40000 loss_train: 0.48557823 + 0.00000000 = 0.48557823 loss_val = 0.48557823\n",
      "epoch: 24000/40000 loss_train: 0.47351201 + 0.00000000 = 0.47351201 loss_val = 0.47351201\n",
      "epoch: 27000/40000 loss_train: 0.45352983 + 0.00000000 = 0.45352983 loss_val = 0.45352983\n",
      "epoch: 30000/40000 loss_train: 0.43246737 + 0.00000000 = 0.43246737 loss_val = 0.43246737\n",
      "epoch: 33000/40000 loss_train: 0.41321366 + 0.00000000 = 0.41321366 loss_val = 0.41321366\n",
      "epoch: 36000/40000 loss_train: 0.39477804 + 0.00000000 = 0.39477804 loss_val = 0.39477804\n",
      "epoch: 39000/40000 loss_train: 0.37747781 + 0.00000000 = 0.37747781 loss_val = 0.37747781\n",
      "To 7 neurons, 1 layer(s),  0.001 learning rate, 4 batch size, 0 dropout rate, we have: \u001b[1m Accuracy: 71.43% \u001b[0m\n",
      "epoch:    0/40000 loss_train: 0.70391175 + 0.00000000 = 0.70391175 loss_val = 0.70391175\n",
      "epoch: 3000/40000 loss_train: 0.54334981 + 0.00000000 = 0.54334981 loss_val = 0.54334981\n",
      "epoch: 6000/40000 loss_train: 0.49877464 + 0.00000000 = 0.49877464 loss_val = 0.49877464\n",
      "epoch: 9000/40000 loss_train: 0.47716920 + 0.00000000 = 0.47716920 loss_val = 0.47716920\n",
      "epoch: 12000/40000 loss_train: 0.45802839 + 0.00000000 = 0.45802839 loss_val = 0.45802839\n",
      "epoch: 15000/40000 loss_train: 0.43891926 + 0.00000000 = 0.43891926 loss_val = 0.43891926\n",
      "epoch: 18000/40000 loss_train: 0.42181958 + 0.00000000 = 0.42181958 loss_val = 0.42181958\n",
      "epoch: 21000/40000 loss_train: 0.40612453 + 0.00000000 = 0.40612453 loss_val = 0.40612453\n",
      "epoch: 24000/40000 loss_train: 0.38563230 + 0.00000000 = 0.38563230 loss_val = 0.38563230\n",
      "epoch: 27000/40000 loss_train: 0.36413990 + 0.00000000 = 0.36413990 loss_val = 0.36413990\n",
      "epoch: 30000/40000 loss_train: 0.34496233 + 0.00000000 = 0.34496233 loss_val = 0.34496233\n",
      "epoch: 33000/40000 loss_train: 0.32812717 + 0.00000000 = 0.32812717 loss_val = 0.32812717\n",
      "epoch: 36000/40000 loss_train: 0.31353157 + 0.00000000 = 0.31353157 loss_val = 0.31353157\n",
      "epoch: 39000/40000 loss_train: 0.30049618 + 0.00000000 = 0.30049618 loss_val = 0.30049618\n",
      "To 7 neurons, 1 layer(s),  0.001 learning rate, 4 batch size, 0.1 dropout rate, we have: \u001b[1m Accuracy: 80.95% \u001b[0m\n",
      "epoch:    0/40000 loss_train: 1.51394852 + 0.00000000 = 1.51394852 loss_val = 1.51394852\n",
      "epoch: 3000/40000 loss_train: 0.56389874 + 0.00000000 = 0.56389874 loss_val = 0.56389874\n",
      "epoch: 6000/40000 loss_train: 0.54164952 + 0.00000000 = 0.54164952 loss_val = 0.54164952\n",
      "epoch: 9000/40000 loss_train: 0.52695739 + 0.00000000 = 0.52695739 loss_val = 0.52695739\n",
      "epoch: 12000/40000 loss_train: 0.51549227 + 0.00000000 = 0.51549227 loss_val = 0.51549227\n",
      "epoch: 15000/40000 loss_train: 0.50561812 + 0.00000000 = 0.50561812 loss_val = 0.50561812\n",
      "epoch: 18000/40000 loss_train: 0.49484547 + 0.00000000 = 0.49484547 loss_val = 0.49484547\n",
      "epoch: 21000/40000 loss_train: 0.48394700 + 0.00000000 = 0.48394700 loss_val = 0.48394700\n",
      "epoch: 24000/40000 loss_train: 0.47010727 + 0.00000000 = 0.47010727 loss_val = 0.47010727\n",
      "epoch: 27000/40000 loss_train: 0.45175300 + 0.00000000 = 0.45175300 loss_val = 0.45175300\n",
      "epoch: 30000/40000 loss_train: 0.42754991 + 0.00000000 = 0.42754991 loss_val = 0.42754991\n",
      "epoch: 33000/40000 loss_train: 0.39779019 + 0.00000000 = 0.39779019 loss_val = 0.39779019\n",
      "epoch: 36000/40000 loss_train: 0.36678336 + 0.00000000 = 0.36678336 loss_val = 0.36678336\n",
      "epoch: 39000/40000 loss_train: 0.33953537 + 0.00000000 = 0.33953537 loss_val = 0.33953537\n",
      "To 7 neurons, 1 layer(s),  0.001 learning rate, 8 batch size, 0 dropout rate, we have: \u001b[1m Accuracy: 78.57% \u001b[0m\n",
      "epoch:    0/40000 loss_train: 0.70294694 + 0.00000000 = 0.70294694 loss_val = 0.70294694\n",
      "epoch: 3000/40000 loss_train: 0.60753288 + 0.00000000 = 0.60753288 loss_val = 0.60753288\n",
      "epoch: 6000/40000 loss_train: 0.55602779 + 0.00000000 = 0.55602779 loss_val = 0.55602779\n",
      "epoch: 9000/40000 loss_train: 0.52908839 + 0.00000000 = 0.52908839 loss_val = 0.52908839\n",
      "epoch: 12000/40000 loss_train: 0.51124848 + 0.00000000 = 0.51124848 loss_val = 0.51124848\n",
      "epoch: 15000/40000 loss_train: 0.49770076 + 0.00000000 = 0.49770076 loss_val = 0.49770076\n",
      "epoch: 18000/40000 loss_train: 0.48833685 + 0.00000000 = 0.48833685 loss_val = 0.48833685\n",
      "epoch: 21000/40000 loss_train: 0.48237700 + 0.00000000 = 0.48237700 loss_val = 0.48237700\n"
     ]
    },
    {
     "ename": "KeyboardInterrupt",
     "evalue": "",
     "output_type": "error",
     "traceback": [
      "\u001b[1;31m---------------------------------------------------------------------------\u001b[0m",
      "\u001b[1;31mKeyboardInterrupt\u001b[0m                         Traceback (most recent call last)",
      "Input \u001b[1;32mIn [29]\u001b[0m, in \u001b[0;36m<cell line: 3>\u001b[1;34m()\u001b[0m\n\u001b[0;32m      7\u001b[0m \u001b[38;5;28;01mfor\u001b[39;00m prob_dropout \u001b[38;5;129;01min\u001b[39;00m dropout_rate:\n\u001b[0;32m      8\u001b[0m     nn \u001b[38;5;241m=\u001b[39m setBestNeuralNetwork(num_hidden_layers,num_neurons_layers, num_learning_rate, prob_dropout, input_dim, output_dim)\n\u001b[1;32m---> 10\u001b[0m     \u001b[43mnn\u001b[49m\u001b[38;5;241;43m.\u001b[39;49m\u001b[43mfit\u001b[49m\u001b[43m(\u001b[49m\u001b[43mX_train\u001b[49m\u001b[43m,\u001b[49m\u001b[43m \u001b[49m\u001b[43my_train\u001b[49m\u001b[43m,\u001b[49m\u001b[43m \u001b[49m\u001b[43mepochs\u001b[49m\u001b[38;5;241;43m=\u001b[39;49m\u001b[38;5;241;43m40000\u001b[39;49m\u001b[43m,\u001b[49m\u001b[43mbatch_gen\u001b[49m\u001b[38;5;241;43m=\u001b[39;49m\u001b[43m \u001b[49m\u001b[43mrna\u001b[49m\u001b[38;5;241;43m.\u001b[39;49m\u001b[43mbatch_shuffle\u001b[49m\u001b[43m,\u001b[49m\u001b[43m \u001b[49m\u001b[43mbatch_size\u001b[49m\u001b[38;5;241;43m=\u001b[39;49m\u001b[43mnum_batch_size\u001b[49m\u001b[43m,\u001b[49m\u001b[43m \u001b[49m\u001b[43mverbose\u001b[49m\u001b[38;5;241;43m=\u001b[39;49m\u001b[38;5;241;43m3000\u001b[39;49m\u001b[43m)\u001b[49m\n\u001b[0;32m     12\u001b[0m     y_pred \u001b[38;5;241m=\u001b[39m nn\u001b[38;5;241m.\u001b[39mpredict(X_val)\n\u001b[0;32m     13\u001b[0m     accu \u001b[38;5;241m=\u001b[39m \u001b[38;5;241m100\u001b[39m\u001b[38;5;241m*\u001b[39maccuracy_score(y_val, y_pred \u001b[38;5;241m>\u001b[39m \u001b[38;5;241m0.5\u001b[39m)\n",
      "File \u001b[1;32mC:\\Caio\\DevProjects\\Python\\academico\\doutorado\\tese\\paper_susceptibility_map\\Rede_Neural.py:380\u001b[0m, in \u001b[0;36mNeuralNetwork.fit\u001b[1;34m(self, x_train, y_train, x_val, y_val, epochs, verbose, batch_gen, batch_size)\u001b[0m\n\u001b[0;32m    378\u001b[0m \u001b[38;5;66;03m#mini-bacth\u001b[39;00m\n\u001b[0;32m    379\u001b[0m \u001b[38;5;28;01mfor\u001b[39;00m x_batch, y_batch \u001b[38;5;129;01min\u001b[39;00m batch_gen(x_train, y_train, batch_size):\n\u001b[1;32m--> 380\u001b[0m     y_pred \u001b[38;5;241m=\u001b[39m \u001b[38;5;28;43mself\u001b[39;49m\u001b[38;5;241;43m.\u001b[39;49m\u001b[43m__feedforward\u001b[49m\u001b[43m(\u001b[49m\u001b[43mx_batch\u001b[49m\u001b[43m)\u001b[49m\n\u001b[0;32m    381\u001b[0m     \u001b[38;5;28mself\u001b[39m\u001b[38;5;241m.\u001b[39m__backprop(y_batch,y_pred)\n\u001b[0;32m    382\u001b[0m \u001b[38;5;66;03m#early stopping \u001b[39;00m\n",
      "File \u001b[1;32mC:\\Caio\\DevProjects\\Python\\academico\\doutorado\\tese\\paper_susceptibility_map\\Rede_Neural.py:418\u001b[0m, in \u001b[0;36mNeuralNetwork.__feedforward\u001b[1;34m(self, x, is_training)\u001b[0m\n\u001b[0;32m    416\u001b[0m y \u001b[38;5;241m=\u001b[39m batchnorm_forward(current_layer, y, is_training) \u001b[38;5;28;01mif\u001b[39;00m current_layer\u001b[38;5;241m.\u001b[39mbatch_norm \u001b[38;5;28;01melse\u001b[39;00m y\n\u001b[0;32m    417\u001b[0m \u001b[38;5;66;03m#cria uma máscara ativação (liga/desliga) dos neuronios baseado na probabilidade além de reescalar as ativações para cada iteração.\u001b[39;00m\n\u001b[1;32m--> 418\u001b[0m current_layer\u001b[38;5;241m.\u001b[39m_dropout_mask \u001b[38;5;241m=\u001b[39m \u001b[43mnp\u001b[49m\u001b[38;5;241;43m.\u001b[39;49m\u001b[43mrandom\u001b[49m\u001b[38;5;241;43m.\u001b[39;49m\u001b[43mbinomial\u001b[49m\u001b[43m(\u001b[49m\u001b[38;5;241;43m1\u001b[39;49m\u001b[43m,\u001b[49m\u001b[43m(\u001b[49m\u001b[38;5;241;43m1.0\u001b[39;49m\u001b[43m \u001b[49m\u001b[38;5;241;43m-\u001b[39;49m\u001b[43m \u001b[49m\u001b[43mcurrent_layer\u001b[49m\u001b[38;5;241;43m.\u001b[39;49m\u001b[43mdropout_prob\u001b[49m\u001b[43m)\u001b[49m\u001b[43m,\u001b[49m\u001b[43my\u001b[49m\u001b[38;5;241;43m.\u001b[39;49m\u001b[43mshape\u001b[49m\u001b[43m)\u001b[49m \u001b[38;5;241m/\u001b[39m (\u001b[38;5;241m1.0\u001b[39m \u001b[38;5;241m-\u001b[39m current_layer\u001b[38;5;241m.\u001b[39mdropout_prob)\n\u001b[0;32m    419\u001b[0m current_layer\u001b[38;5;241m.\u001b[39m_activ_inp \u001b[38;5;241m=\u001b[39m y\n\u001b[0;32m    421\u001b[0m \u001b[38;5;66;03m#calculo da f. ativacao (saida da atual é a entrada da próxima) & aplica máscara de \u001b[39;00m\n",
      "\u001b[1;31mKeyboardInterrupt\u001b[0m: "
     ]
    }
   ],
   "source": [
    "lst_hyperP = []\n",
    "lst_ANN = []\n",
    "for num_hidden_layers in hidden_layers:\n",
    "    for num_neurons_layers in neurons:\n",
    "        for num_learning_rate in learning_rate:\n",
    "            for num_batch_size in batch_size:\n",
    "                for prob_dropout in dropout_rate:\n",
    "                    nn = setBestNeuralNetwork(num_hidden_layers,num_neurons_layers, num_learning_rate, prob_dropout, input_dim, output_dim)\n",
    "                    \n",
    "                    nn.fit(X_train, y_train, epochs=40000,batch_gen= rna.batch_shuffle, batch_size=num_batch_size, verbose=3000)\n",
    "                \n",
    "                    y_pred = nn.predict(X_val)\n",
    "                    accu = 100*accuracy_score(y_val, y_pred > 0.5)\n",
    "                    #accu = 100*roc_auc_score(y_val, y_pred > 0.5)\n",
    "                    lst_hyperP.append(hyperparametros(accu,num_hidden_layers,num_neurons_layers,num_learning_rate,num_batch_size,prob_dropout) )\n",
    "                    lst_ANN.append(ANN_accuracy(accu,nn))\n",
    "                    print('To {} neurons, {} layer(s),  {} learning rate, {} batch size, {} dropout rate, we have: \\033[1m Accuracy: {:.2f}% \\033[0m'.format(num_neurons_layers,num_hidden_layers,num_learning_rate,num_batch_size,prob_dropout, accu))"
   ]
  },
  {
   "cell_type": "code",
   "execution_count": null,
   "metadata": {},
   "outputs": [],
   "source": [
    "best_hyper = max(lst_hyperP, key=lambda hyper: hyper.acuracia)\n",
    "best_of_best_hyper.append(hyperparametros(best_hyper.acuracia,best_hyper.camadas,best_hyper.neuronios, best_hyper.learning_rate,best_hyper.batch_size,best_hyper.dropout) )\n",
    "print('{:.2f}% was the best\\033[1m accuracy\\033[0m, having {} layer(s),{} neurons, {} of learning rate and {} of batch size as hyperparameters!'.format(best_hyper.acuracia,best_hyper.camadas,best_hyper.neuronios, best_hyper.learning_rate,best_hyper.batch_size))"
   ]
  },
  {
   "cell_type": "code",
   "execution_count": null,
   "metadata": {},
   "outputs": [],
   "source": [
    "best_ann = max(lst_ANN, key=lambda hyper: hyper.acuracia)\n",
    "best_of_best_ANN.append(ANN_accuracy(best_ann.acuracia,best_ann.ann))\n",
    "print('{:.2f}% was the best\\033[1m accuracy\\033[0m, with ANN {} '.format(best_ann.acuracia,best_ann.ann))"
   ]
  },
  {
   "cell_type": "code",
   "execution_count": null,
   "metadata": {
    "scrolled": false
   },
   "outputs": [],
   "source": [
    "print('{} was the number of anns trained '.format(len(lst_ANN)))\n",
    "lst_hyperP = []\n",
    "lst_ANN = []"
   ]
  },
  {
   "cell_type": "markdown",
   "metadata": {},
   "source": [
    "#### Assessment"
   ]
  },
  {
   "cell_type": "markdown",
   "metadata": {},
   "source": [
    "https://medium.com/mdr-inc/from-sgd-to-adam-c9fce513c4bb"
   ]
  },
  {
   "cell_type": "code",
   "execution_count": null,
   "metadata": {
    "scrolled": true
   },
   "outputs": [],
   "source": [
    "best_of_best_ANN_Test = []\n",
    "for best_RNA in best_of_best_ANN: \n",
    "  bestNN = best_RNA.ann\n",
    "  yhat_probs = bestNN.predict(X_test)\n",
    "  yhat_classes = (yhat_probs > 0.5)\n",
    "  accu = 100*accuracy_score(y_test,yhat_classes)\n",
    "  accMedia = (accu + best_RNA.acuracia) / 2\n",
    "  print('{:.2f}% accu_test - {:.2f}% as the best\\033[1m accurancy\\033[0m, {:.2f} average acc {} ANN!'.format(accu,best_RNA.acuracia,accMedia,best_RNA.ann))\n",
    "  accu = accMedia  \n",
    "  best_of_best_ANN_Test.append(ANN_accuracy(accu,bestNN))"
   ]
  },
  {
   "cell_type": "code",
   "execution_count": null,
   "metadata": {},
   "outputs": [],
   "source": [
    "for best_hyper in best_of_best_hyper: \n",
    "  print('{:.2f}% as the best \\033[1m accurancy\\033[0m, got with {} layers,{} neurons, {} of learning rate, {} batch size and {} dropout rate!'.format(best_hyper.acuracia,best_hyper.camadas,best_hyper.neuronios, best_hyper.learning_rate,best_hyper.batch_size,best_hyper.dropout))"
   ]
  },
  {
   "cell_type": "code",
   "execution_count": null,
   "metadata": {},
   "outputs": [],
   "source": [
    "bestNN_Test = max(best_of_best_ANN_Test, key=lambda hyper: hyper.acuracia)\n",
    "bestNN_Test = bestNN_Test.ann"
   ]
  },
  {
   "cell_type": "code",
   "execution_count": null,
   "metadata": {
    "scrolled": true
   },
   "outputs": [],
   "source": [
    "yhat_probs = bestNN_Test.predict(X_test)\n",
    "yhat_classes = (yhat_probs > 0.5)\n",
    "accu = 100*accuracy_score(y_test,yhat_classes)\n",
    "print('{:.2f}%, test sample accurancy !'.format(accu))"
   ]
  },
  {
   "cell_type": "markdown",
   "metadata": {},
   "source": [
    "Segunda abordagem - configura uma nova rede com os parametros obtidos da otimização por força bruta"
   ]
  },
  {
   "cell_type": "code",
   "execution_count": null,
   "metadata": {},
   "outputs": [],
   "source": [
    "bestNN = max(best_of_best_ANN_Test, key=lambda hyper: hyper.acuracia)\n",
    "bestNN = bestNN.ann"
   ]
  },
  {
   "cell_type": "code",
   "execution_count": null,
   "metadata": {},
   "outputs": [],
   "source": [
    "bestHyper = max(best_of_best_hyper, key=lambda hyper: hyper.acuracia)\n",
    "print('{:.2f}% as the best\\033[1m accurancy\\033[0m, got with {} layers, {} of learning rate, {} batch size and {} dropout rate!'.format(bestHyper.acuracia,bestHyper.camadas, bestHyper.learning_rate,bestHyper.batch_size,bestHyper.dropout))"
   ]
  },
  {
   "cell_type": "code",
   "execution_count": null,
   "metadata": {},
   "outputs": [],
   "source": [
    "yhat_probs = bestNN.predict(X_test)\n",
    "yhat_classes = (yhat_probs > 0.5)\n",
    "accu = 100*accuracy_score(y_test,yhat_classes)\n",
    "print('{:.2f}%, test sample accurancy !'.format(accu))"
   ]
  },
  {
   "cell_type": "code",
   "execution_count": null,
   "metadata": {
    "scrolled": false
   },
   "outputs": [],
   "source": [
    "#bstANN = bestNN\n",
    "#bst_hyper = bstANN.hyper\n",
    "#print('{:.2f}% as the best\\033[1m accuracy\\033[0m, got with {} layers, {} of learning rate, {} batch size and {} dropout rate!'.format(best_hyper.acuracia,best_hyper.camadas, best_hyper.learning_rate,best_hyper.batch_size,best_hyper.dropout))"
   ]
  },
  {
   "cell_type": "markdown",
   "metadata": {},
   "source": [
    "#### Saving the best ANN architeture\n",
    " - Given the best set of hyperparameters, trained ANN is saved."
   ]
  },
  {
   "cell_type": "code",
   "execution_count": null,
   "metadata": {},
   "outputs": [],
   "source": [
    "if accu >= 85:\n",
    "    print('{:.2f}%, excellent accuracy for test sample, ANN saved!'.format(accu))\n",
    "    bestNN.save('bestANN\\suscetibilidadeNN_guaruja.pkl')\n",
    "else:\n",
    "    print('Accuracy: {:.2f}% testing sample accuracy under .85!'.format(accu))"
   ]
  },
  {
   "cell_type": "code",
   "execution_count": null,
   "metadata": {},
   "outputs": [],
   "source": [
    "y_pred = bestNN.predict(X_train)\n",
    "print('Training sample accuracy: {:.2f}%'.format(100*accuracy_score(y_train, y_pred > 0.5)))"
   ]
  },
  {
   "cell_type": "code",
   "execution_count": null,
   "metadata": {},
   "outputs": [],
   "source": [
    "y_pred = bestNN.predict(X_val)\n",
    "print('Validation sample accuracy: {:.2f}%'.format(100*accuracy_score(y_val, y_pred > 0.5)))"
   ]
  },
  {
   "cell_type": "code",
   "execution_count": null,
   "metadata": {},
   "outputs": [],
   "source": [
    "y_pred = bestNN.predict(X_test)\n",
    "print('Test sample accuracy: {:.2f}%'.format(100*accuracy_score(y_test, y_pred > 0.5)))"
   ]
  },
  {
   "cell_type": "code",
   "execution_count": null,
   "metadata": {},
   "outputs": [],
   "source": [
    "y_pred = bestNN.predict(X)\n",
    "print('Overall sample accuracy: {:.2f}%'.format(100*accuracy_score(y, y_pred > 0.5)))"
   ]
  },
  {
   "cell_type": "markdown",
   "metadata": {},
   "source": [
    "__Upon achieving satisfactory accuracy with the test data, we save the appropriately trained network.__"
   ]
  },
  {
   "cell_type": "code",
   "execution_count": null,
   "metadata": {},
   "outputs": [],
   "source": [
    "yhat_probs = bestNN.predict(X_train)\n",
    "yhat_classes = (yhat_probs > 0.5)\n",
    "accu = 100*accuracy_score(y_train, yhat_classes)\n",
    "print('Acurácia: {:.2f}%'.format(accu))"
   ]
  },
  {
   "cell_type": "code",
   "execution_count": null,
   "metadata": {},
   "outputs": [],
   "source": [
    "NetworkPerformance(y_train, yhat_probs)"
   ]
  },
  {
   "cell_type": "code",
   "execution_count": null,
   "metadata": {},
   "outputs": [],
   "source": [
    "yhat_probs = bestNN.predict(X_test)\n",
    "yhat_classes = (yhat_probs > 0.5)\n",
    "accu = 100*accuracy_score(y_test,yhat_classes)\n",
    "print('Acurácia: {:.2f}%'.format(accu))"
   ]
  },
  {
   "cell_type": "code",
   "execution_count": null,
   "metadata": {},
   "outputs": [],
   "source": [
    "NetworkPerformance(y_test, yhat_probs)"
   ]
  },
  {
   "cell_type": "code",
   "execution_count": null,
   "metadata": {},
   "outputs": [],
   "source": [
    "yhat_probs = bestNN.predict(X_val)\n",
    "yhat_classes = (yhat_probs > 0.5)\n",
    "accu = 100*accuracy_score(y_val,yhat_classes)\n",
    "print('Accuracy: {:.2f}%'.format(accu))"
   ]
  },
  {
   "cell_type": "code",
   "execution_count": null,
   "metadata": {},
   "outputs": [],
   "source": [
    "NetworkPerformance(y_val, yhat_probs)"
   ]
  },
  {
   "cell_type": "code",
   "execution_count": null,
   "metadata": {},
   "outputs": [],
   "source": [
    "yhat_probs = bestNN.predict(X)\n",
    "yhat_classes = (yhat_probs > 0.5)\n",
    "accu = 100*accuracy_score(y,yhat_classes)\n",
    "print('Accuracy: {:.2f}%'.format(accu))"
   ]
  },
  {
   "cell_type": "code",
   "execution_count": null,
   "metadata": {
    "scrolled": true
   },
   "outputs": [],
   "source": [
    "NetworkPerformance(y, yhat_probs)"
   ]
  },
  {
   "cell_type": "code",
   "execution_count": null,
   "metadata": {},
   "outputs": [],
   "source": [
    "printAUROC(y,yhat_probs)"
   ]
  },
  {
   "cell_type": "code",
   "execution_count": null,
   "metadata": {},
   "outputs": [],
   "source": [
    "from sklearn.metrics import confusion_matrix\n",
    "cf_matrix = confusion_matrix(y,(yhat_probs > 0.5))"
   ]
  },
  {
   "cell_type": "code",
   "execution_count": null,
   "metadata": {},
   "outputs": [],
   "source": [
    "import seaborn as sns\n",
    "\n",
    "ax = sns.heatmap(cf_matrix, annot=True, cmap='Blues')\n",
    "\n",
    "ax.set_title('Confusion Matrix\\n\\n')\n",
    "ax.set_xlabel('Predicted occurrences\\nAcurácia={:0.2f}%'.format(100*accuracy_score(y, y_pred > 0.5)))\n",
    "ax.set_ylabel('Actual occurrences ')\n",
    "\n",
    "\n",
    "## Ticket labels - List must be in alphabetical order\n",
    "ax.xaxis.set_ticklabels(['False','True'])\n",
    "ax.yaxis.set_ticklabels(['False','True'])\n",
    "\n",
    "## Display the visualization of the Confusion Matrix.\n",
    "plt.show()"
   ]
  },
  {
   "cell_type": "code",
   "execution_count": null,
   "metadata": {},
   "outputs": [],
   "source": [
    "output_proprietario = None\n",
    "output_proprietario = dataset_original\n",
    "output_proprietario['score'] = yhat_probs"
   ]
  },
  {
   "cell_type": "code",
   "execution_count": null,
   "metadata": {},
   "outputs": [],
   "source": [
    "bubble_double_chart(output_proprietario,\"slope\",\"slope\",\"elevation\")"
   ]
  },
  {
   "cell_type": "markdown",
   "metadata": {},
   "source": [
    "Agora considerar __RepeatedStratifiedKfold__ para avaliação da rede\n",
    "\n",
    "ref. https://www.geeksforgeeks.org/stratified-k-fold-cross-validation/\n",
    "\n",
    "ref. https://medium.com/@venkatasujit272/overview-of-cross-validation-3785d5414ece"
   ]
  },
  {
   "cell_type": "code",
   "execution_count": null,
   "metadata": {},
   "outputs": [],
   "source": [
    "# Teste com objeto StratifiedKFold.\n",
    "from sklearn.model_selection import StratifiedKFold\n",
    "from sklearn.model_selection import RepeatedKFold\n",
    "from sklearn.model_selection import RepeatedStratifiedKFold\n",
    "import statistics "
   ]
  },
  {
   "cell_type": "code",
   "execution_count": null,
   "metadata": {},
   "outputs": [],
   "source": [
    "#X = dataset.drop('class',axis=1)\n",
    "#y= dataset['class']\n",
    "#X = X.to_numpy()    #converts dataframe into array to be used at NN\n",
    "#y = y.to_numpy()    #converts dataframe into array to be used at NN\n",
    "#y = y.reshape(-1,1) #reorganiza o array em um array 1 x 1\n",
    "\n",
    "#normalização do dataset\n",
    "#minmax = MinMaxScaler(feature_range=(-1, 1))\n",
    "#minmax = MinMaxScaler()\n",
    "#X = minmax.fit_transform(X.astype(np.float64))\n",
    "print(X.min(axis=0), X.max(axis=0))"
   ]
  },
  {
   "cell_type": "code",
   "execution_count": null,
   "metadata": {},
   "outputs": [],
   "source": [
    "skf = StratifiedKFold(n_splits=5, shuffle=True, random_state=1)\n",
    "lst_accu_stratified = []\n",
    "\n",
    "rskf = RepeatedStratifiedKFold(n_splits=5, n_repeats=2,random_state=36851234)\n",
    "\n",
    "print ('Numero de Splits_stratified de X: ',rskf.get_n_splits(X, y),'\\n')\n",
    "\n",
    "# Prin_stratifiedting the Train & Test Indices of splits\n",
    "for train_index, test_index in rskf.split(X, y): \n",
    "    #print (\"TRAIN:\", train_index, \"TEST:\", test_index)\n",
    "    X_train_stratified, X_test_stratified = X[train_index], X[test_index]\n",
    "    y_train_stratified, y_test_stratified = y[train_index], y[test_index]\n",
    "    print(X_train_stratified.shape, y_train_stratified.shape)\n",
    "    \n",
    "    yhat_probs = bestNN.predict(X_test_stratified)\n",
    "    lst_accu_stratified.append(100*accuracy_score(y_test_stratified, yhat_probs > 0.5))"
   ]
  },
  {
   "cell_type": "code",
   "execution_count": null,
   "metadata": {},
   "outputs": [],
   "source": [
    "print('Lista de acurácias obtidas:', lst_accu_stratified)\n",
    "print('\\nAcurácia máxima obtida:',\n",
    "      max(lst_accu_stratified), '%')\n",
    "print('\\nAcurácia mínima:',\n",
    "      min(lst_accu_stratified), '%')\n",
    "print('\\nAcurácia média:',\n",
    "      statistics.mean(lst_accu_stratified), '%')\n",
    "print('\\nDesvio Padrão:', statistics.stdev(lst_accu_stratified))"
   ]
  },
  {
   "cell_type": "markdown",
   "metadata": {},
   "source": [
    "Recupera modelo otimizado saldo anteriormente e o testa com diferentes conjuntos de dados."
   ]
  },
  {
   "cell_type": "code",
   "execution_count": null,
   "metadata": {},
   "outputs": [],
   "source": [
    "dataset"
   ]
  },
  {
   "cell_type": "code",
   "execution_count": null,
   "metadata": {
    "scrolled": true
   },
   "outputs": [],
   "source": [
    "y_pred = bestNN.predict(X)\n",
    "yhat_classes = (y_pred > 0.5)\n",
    "print('Acurácia: {:.2f}%'.format(100*accuracy_score(y, y_pred > 0.5)))\n",
    "output_proprietario = None\n",
    "output_proprietario = dataset_original\n",
    "output_proprietario['score'] = y_pred\n",
    "output_proprietario.to_csv('bestANN/mapaSuscetibilidade_proprietaria.csv', encoding=\"utf-8\")"
   ]
  },
  {
   "cell_type": "code",
   "execution_count": null,
   "metadata": {},
   "outputs": [],
   "source": [
    "NetworkPerformance(y, y_pred)"
   ]
  },
  {
   "cell_type": "code",
   "execution_count": null,
   "metadata": {},
   "outputs": [],
   "source": [
    "output_proprietario"
   ]
  },
  {
   "cell_type": "code",
   "execution_count": null,
   "metadata": {},
   "outputs": [],
   "source": [
    "from matplotlib import pyplot\n",
    "ns_auc = roc_auc_score(y, y_pred)\n",
    "# summarize scores\n",
    "print('ROC AUC=%.3f' % (ns_auc))\n",
    "# calculate roc curves\n",
    "ns_fpr, ns_tpr, _ = roc_curve(y, y_pred)\n",
    "# plot the roc curve for the model\n",
    "pyplot.plot(ns_fpr, ns_tpr, linestyle='--', label='ROC AUC')\n",
    "# axis labels\n",
    "pyplot.xlabel('False Positive Rate')\n",
    "pyplot.ylabel('True Positive Rate')\n",
    "# show the legend\n",
    "pyplot.legend()\n",
    "# show the plot\n",
    "pyplot.show()"
   ]
  },
  {
   "cell_type": "markdown",
   "metadata": {},
   "source": [
    "- ref. https://machinelearningmastery.com/roc-curves-and-precision-recall-curves-for-classification-in-python/\n",
    "- ref. https://stackoverflow.com/questions/25009284/how-to-plot-roc-curve-in-python"
   ]
  },
  {
   "cell_type": "code",
   "execution_count": null,
   "metadata": {},
   "outputs": [],
   "source": [
    "bubble_double_chart(output_proprietario,\"elevation\",\"slope\",\"elevation\")"
   ]
  },
  {
   "cell_type": "code",
   "execution_count": null,
   "metadata": {},
   "outputs": [],
   "source": [
    "dataSet = output_proprietario.sample(n = 50)\n",
    "#dataSet = dataSet.drop('FID',axis=1)\n",
    "#dataSet = dataSet.drop('X',axis=1)\n",
    "#dataSet = dataSet.drop('Y',axis=1)\n",
    "plotSwarmChart(dataSet)"
   ]
  },
  {
   "cell_type": "code",
   "execution_count": null,
   "metadata": {},
   "outputs": [],
   "source": [
    "# perguntar para Ale como retornar os dados para ela, se em um csv com cada posição e as respectivas probabilidades?\n",
    "# se for, basta incorporar essa variável y_pred à uma nova coluna do dataframe"
   ]
  },
  {
   "cell_type": "code",
   "execution_count": null,
   "metadata": {},
   "outputs": [],
   "source": [
    "end = datetime.datetime.now()\n",
    "print(end-start)\n",
    "#quit()"
   ]
  },
  {
   "cell_type": "markdown",
   "metadata": {},
   "source": [
    "### Keras neural network\n",
    "__Problema de classificação, considerar as melhores práticas:__\n",
    "- Ajuste dos hiperparametros\n",
    "- Baseline para implementação customizada\n",
    "\n",
    "ref. https://machinelearningmastery.com/data-preparation-without-data-leakage/\n"
   ]
  },
  {
   "cell_type": "markdown",
   "metadata": {},
   "source": [
    "Agora, configura a rede com os melhores parâmetros"
   ]
  },
  {
   "cell_type": "code",
   "execution_count": null,
   "metadata": {},
   "outputs": [],
   "source": [
    "from tensorflow import keras\n",
    "from tensorflow.keras import layers\n",
    "from tensorflow.keras.layers import Dense\n",
    "from tensorflow.keras.layers import Dropout\n",
    "import tensorflow as tf"
   ]
  },
  {
   "cell_type": "code",
   "execution_count": null,
   "metadata": {},
   "outputs": [],
   "source": [
    "print(len(X_train), 'train examples')\n",
    "print(len(X_val), 'validation examples')\n",
    "print(len(X_test), 'test examples')"
   ]
  },
  {
   "cell_type": "code",
   "execution_count": null,
   "metadata": {},
   "outputs": [],
   "source": [
    "#{'num_hidden_layers': 1, 'num_units': 4, 'dropout_rate': 0.5, 'learning_rate': 0.004682800657889146}       "
   ]
  },
  {
   "cell_type": "code",
   "execution_count": null,
   "metadata": {},
   "outputs": [],
   "source": [
    "#HyperParameters: {'num_hidden_layers': 2, 'num_units': 12, 'dropout_rate': 0.2821478566400208, 'learning_rate': 0.006549533067877217}\n",
    "#conjunto de hyperparametros para o Guaruja 87% acuracia dados de teste."
   ]
  },
  {
   "cell_type": "code",
   "execution_count": null,
   "metadata": {},
   "outputs": [],
   "source": [
    "hypermodel = keras.Sequential()\n",
    "hypermodel.add(Dense(24, activation='relu', input_dim=input_dim))\n",
    "\n",
    "hypermodel.add(Dense(24, activation='relu'))\n",
    "hypermodel.add(Dropout(0.43719886068153724))\n",
    "\n",
    "#hypermodel.add(Dense(24, activation='relu'))\n",
    "#hypermodel.add(Dropout(0.5))\n",
    "#hypermodel.add(Dense(24, activation='relu'))\n",
    "#hypermodel.add(Dropout(0.5))\n",
    "#hypermodel.add(Dense(24, activation='relu'))\n",
    "#hypermodel.add(Dropout(0.5))\n",
    "#hypermodel.add(Dense(24, activation='relu'))\n",
    "#hypermodel.add(Dropout(0.5))\n",
    "#hypermodel.add(Dense(24, activation='relu'))\n",
    "#hypermodel.add(Dropout(0.5))\n",
    "#hypermodel.add(Dense(24, activation='relu'))\n",
    "#hypermodel.add(Dropout(0.5))\n",
    "#hypermodel.add(Dense(24, activation='relu'))\n",
    "#hypermodel.add(Dropout(0.5))\n",
    "\n",
    "hypermodel.add(Dense(1, activation='sigmoid'))\n",
    "learning_rate= 0.01\n",
    "myOptimizer = tf.keras.optimizers.SGD(learning_rate=learning_rate)\n",
    "hypermodel.compile(optimizer=myOptimizer, loss=\"binary_crossentropy\", metrics=['accuracy'])"
   ]
  },
  {
   "cell_type": "code",
   "execution_count": null,
   "metadata": {},
   "outputs": [],
   "source": [
    "#model.fit(X_train, y_train, epochs=100, batch_size=5)\n",
    "history           = hypermodel.fit(X_train, y_train, epochs=500, batch_size=5)\n",
    "val_acc_per_epoch = history.history['accuracy']\n",
    "best_epoch        = val_acc_per_epoch.index(max(val_acc_per_epoch)) + 1"
   ]
  },
  {
   "cell_type": "code",
   "execution_count": null,
   "metadata": {},
   "outputs": [],
   "source": [
    "print('Best epoch: %d' % (best_epoch,))"
   ]
  },
  {
   "cell_type": "code",
   "execution_count": null,
   "metadata": {},
   "outputs": [],
   "source": [
    "# avaliação via keras\n",
    "_, accuracy = hypermodel.evaluate(X_test, y_test)\n",
    "print('Accuracy: %.2f' % (accuracy*100))"
   ]
  },
  {
   "cell_type": "code",
   "execution_count": null,
   "metadata": {},
   "outputs": [],
   "source": [
    "# Retrain the model\n",
    "history = hypermodel.fit(X_train, y_train, epochs=best_epoch)"
   ]
  },
  {
   "cell_type": "code",
   "execution_count": null,
   "metadata": {},
   "outputs": [],
   "source": [
    "# avaliação via keras\n",
    "_, accuracy = hypermodel.evaluate(X_test, y_test)\n",
    "print('Accuracy: %.2f' % (accuracy*100))"
   ]
  },
  {
   "cell_type": "code",
   "execution_count": null,
   "metadata": {},
   "outputs": [],
   "source": [
    "import tensorflow as tf\n",
    "# rankdir='LR' is used to make the graph horizontal.\n",
    "tf.keras.utils.plot_model(hypermodel, show_shapes=True, rankdir=\"LR\")"
   ]
  },
  {
   "cell_type": "code",
   "execution_count": null,
   "metadata": {},
   "outputs": [],
   "source": [
    "if accuracy >= .80:\n",
    "    print('ótima acurácia, rede salva!')\n",
    "    hypermodel.save('bestANN\\suscetibilidadeKeras_guaruja.pkl')\n",
    "else:\n",
    "    print('acurácia abaixo de .85')"
   ]
  },
  {
   "cell_type": "markdown",
   "metadata": {},
   "source": [
    "#### Assessment"
   ]
  },
  {
   "cell_type": "code",
   "execution_count": null,
   "metadata": {},
   "outputs": [],
   "source": [
    "#X = dataset.drop('class',axis=1)\n",
    "#y = dataset['class']\n",
    "#X = X.to_numpy()    #converts dataframe into array to be used at NN\n",
    "#y = y.to_numpy()    #converts dataframe into array to be used at NN\n",
    "#y = y.reshape(-1,1) #reorganiza o array em um array 1 x 1\n",
    "\n",
    "#normalização do dataset\n",
    "#minmax = MinMaxScaler(feature_range=(-1, 1))\n",
    "#X = minmax.fit_transform(X.astype(np.float64))\n",
    "#print(X.min(axis=0), X.max(axis=0))"
   ]
  },
  {
   "cell_type": "code",
   "execution_count": null,
   "metadata": {},
   "outputs": [],
   "source": [
    "skf = StratifiedKFold(n_splits=5, shuffle=True, random_state=1)\n",
    "lst_accu_stratified = []\n",
    "\n",
    "rskf = RepeatedStratifiedKFold(n_splits=5, n_repeats=2,random_state=36851234)\n",
    "\n",
    "print ('Numero de Splits de X: ',rskf.get_n_splits(X, y),'\\n')\n",
    "\n",
    "# Printing the Train & Test Indices of splits\n",
    "for train_index, test_index in rskf.split(X, y): \n",
    "    #print (\"TRAIN:\", train_index, \"TEST:\", test_index)\n",
    "    X_train_stratified_keras, X_test_stratified_keras = X[train_index], X[test_index]\n",
    "    y_train_stratified_keras, y_test_stratified_keras = y[train_index], y[test_index]\n",
    "    #print('novo dataset')\n",
    "    #print(X_train_stratified_keras.shape, y_train_stratified_keras.shape)\n",
    "    \n",
    "    yhat_probs = hypermodel.predict(X_test_stratified_keras)\n",
    "    lst_accu_stratified.append(100*accuracy_score(y_test_stratified_keras, yhat_probs > 0.5))"
   ]
  },
  {
   "cell_type": "code",
   "execution_count": null,
   "metadata": {},
   "outputs": [],
   "source": [
    "print('Lista de acurácias obtidas:', lst_accu_stratified)\n",
    "print('\\nAcurácia máxima obtida:',\n",
    "      max(lst_accu_stratified), '%')\n",
    "print('\\nAcurácia mínima:',\n",
    "      min(lst_accu_stratified), '%')\n",
    "print('\\nAcurácia média:',\n",
    "      statistics.mean(lst_accu_stratified), '%')\n",
    "print('\\nDesvio Padrão:', statistics.stdev(lst_accu_stratified))"
   ]
  },
  {
   "cell_type": "code",
   "execution_count": null,
   "metadata": {},
   "outputs": [],
   "source": [
    "y_pred = hypermodel.predict(X_test)\n",
    "#print('Predições:', y_pred, sep='\\n')\n",
    "print('Acurácia: {:.2f}%'.format(100*accuracy_score(y_test, y_pred > 0.5)))"
   ]
  },
  {
   "cell_type": "code",
   "execution_count": null,
   "metadata": {
    "scrolled": false
   },
   "outputs": [],
   "source": [
    "y_pred = hypermodel.predict(X_train)\n",
    "print('Acurácia: {:.2f}%'.format(100*accuracy_score(y_train, y_pred > 0.5)))"
   ]
  },
  {
   "cell_type": "code",
   "execution_count": null,
   "metadata": {},
   "outputs": [],
   "source": [
    "y_pred = hypermodel.predict(X_val)\n",
    "print('Acurácia: {:.2f}%'.format(100*accuracy_score(y_val, y_pred > 0.5)))"
   ]
  },
  {
   "cell_type": "code",
   "execution_count": null,
   "metadata": {},
   "outputs": [],
   "source": [
    "y_pred = hypermodel.predict(X)\n",
    "print('Acurácia: {:.2f}%'.format(100*accuracy_score(y, y_pred > 0.5)))"
   ]
  },
  {
   "cell_type": "code",
   "execution_count": null,
   "metadata": {
    "scrolled": true
   },
   "outputs": [],
   "source": [
    "output_keras = None\n",
    "output_keras = dataset_original\n",
    "output_keras['score'] = y_pred\n",
    "output_keras.to_csv('bestANN/mapaSuscetibilidade_keras.csv', encoding=\"utf-8\")\n",
    "output_keras"
   ]
  },
  {
   "cell_type": "code",
   "execution_count": null,
   "metadata": {},
   "outputs": [],
   "source": [
    "NetworkPerformance(y, y_pred)"
   ]
  },
  {
   "cell_type": "code",
   "execution_count": null,
   "metadata": {},
   "outputs": [],
   "source": [
    "ns_auc = roc_auc_score(y, y_pred)\n",
    "# summarize scores\n",
    "print('ROC AUC=%.3f' % (ns_auc))\n",
    "# calculate roc curves\n",
    "ns_fpr, ns_tpr, _ = roc_curve(y, y_pred)\n",
    "# plot the roc curve for the model\n",
    "pyplot.plot(ns_fpr, ns_tpr, linestyle='--', label='ROC AUC')\n",
    "# axis labels\n",
    "pyplot.xlabel('False Positive Rate')\n",
    "pyplot.ylabel('True Positive Rate')\n",
    "# show the legend\n",
    "pyplot.legend()\n",
    "# show the plot\n",
    "pyplot.show()"
   ]
  },
  {
   "cell_type": "code",
   "execution_count": null,
   "metadata": {},
   "outputs": [],
   "source": [
    "bubble_double_chart(output_proprietario,\"elevation\",\"slope\",\"elevation\")"
   ]
  },
  {
   "cell_type": "code",
   "execution_count": null,
   "metadata": {},
   "outputs": [],
   "source": [
    "dataSet = output_keras.sample(n = 50)\n",
    "#dataSet = dataSet.drop('FID',axis=1)\n",
    "#dataSet = dataSet.drop('X',axis=1)\n",
    "#dataSet = dataSet.drop('Y',axis=1)\n",
    "plotSwarmChart(dataSet)"
   ]
  },
  {
   "cell_type": "code",
   "execution_count": null,
   "metadata": {},
   "outputs": [],
   "source": [
    "end = datetime.datetime.now()\n",
    "print(end-start)"
   ]
  },
  {
   "cell_type": "markdown",
   "metadata": {},
   "source": [
    "## References\n",
    "- ref.1: https://www.tensorflow.org/tutorials/structured_data/preprocessing_layers\n",
    "- ref.2: https://www.tensorflow.org/tutorials/structured_data/feature_columns\n",
    "- ref.3: https://realpython.com/train-test-split-python-data/\n",
    "- ref.4: https://machinelearningmastery.com/data-preparation-without-data-leakage/\n",
    "- ref.5: https://towardsdatascience.com/data-leakage-in-machine-learning-10bdd3eec742\n",
    "- ref.6: https://analyticsindiamag.com/what-is-data-leakage-in-ml-why-should-you-be-concerned/\n",
    "- ref.7: https://www.section.io/engineering-education/data-leakage/\n",
    "- ref.8: https://medium.com/analytics-vidhya/overfitting-vs-data-leakage-in-machine-learning-ec59baa603e1\n",
    "- ref.9: https://www.analyticsvidhya.com/blog/2020/06/auc-roc-curve-machine-learning/"
   ]
  },
  {
   "cell_type": "markdown",
   "metadata": {},
   "source": [
    "Comparando predição com rede do keras\n",
    "- ref. https://machinelearningmastery.com/tutorial-first-neural-network-python-keras/\n",
    "\n",
    "Tunning neural netowrks\n",
    "- ref. http://karpathy.github.io/2019/04/25/recipe/\n",
    "\n",
    "Sobre as métricas\n",
    "- ref. https://neptune.ai/blog/f1-score-accuracy-roc-auc-pr-auc"
   ]
  },
  {
   "cell_type": "code",
   "execution_count": null,
   "metadata": {},
   "outputs": [],
   "source": []
  },
  {
   "cell_type": "code",
   "execution_count": null,
   "metadata": {},
   "outputs": [],
   "source": []
  }
 ],
 "metadata": {
  "interpreter": {
   "hash": "b7e61c40c58399eabfdc57275b655b0084201ad0151cf37bc45bab8193ea43c1"
  },
  "kernelspec": {
   "display_name": "Python 3 (ipykernel)",
   "language": "python",
   "name": "python3"
  },
  "language_info": {
   "codemirror_mode": {
    "name": "ipython",
    "version": 3
   },
   "file_extension": ".py",
   "mimetype": "text/x-python",
   "name": "python",
   "nbconvert_exporter": "python",
   "pygments_lexer": "ipython3",
   "version": "3.8.2"
  },
  "toc": {
   "base_numbering": 1,
   "nav_menu": {},
   "number_sections": true,
   "sideBar": true,
   "skip_h1_title": false,
   "title_cell": "Table of Contents",
   "title_sidebar": "Contents",
   "toc_cell": false,
   "toc_position": {
    "height": "calc(100% - 180px)",
    "left": "10px",
    "top": "150px",
    "width": "193.75px"
   },
   "toc_section_display": true,
   "toc_window_display": true
  }
 },
 "nbformat": 4,
 "nbformat_minor": 2
}
