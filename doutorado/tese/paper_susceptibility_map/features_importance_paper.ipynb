{
 "cells": [
  {
   "cell_type": "markdown",
   "metadata": {},
   "source": [
    "# __Exploratory data analysis (EDA)__\n",
    "- Selecting and indentifing features importance\n",
    "- Dataset: Guarujá Municipality - São Paulo - Brazil\n",
    "- Part 1/3"
   ]
  },
  {
   "cell_type": "markdown",
   "metadata": {},
   "source": [
    "## Authorship:\n",
    "        Caio Azevedo\n",
    "        São Paulo University, October, 2023"
   ]
  },
  {
   "cell_type": "markdown",
   "metadata": {},
   "source": [
    "## Main goals:\n",
    "\n",
    "Exploratory data analysis: identification of possible irrelevant attributes, dataset profiling, interpretation of features.\n",
    "\n",
    "In exploratory data analysis, the main goal is to gain insights and understand the data before diving into more advanced analysis or modeling. This involves identifying possible irrelevant attributes, performing dataset profiling, and interpreting the features.\n",
    "\n",
    "First, it is important to look for potential attributes that may not contribute significantly to the analysis or modeling process. These could be variables that have a high percentage of missing values, constant values, or very low variance. Removing these irrelevant attributes can help simplify the dataset and improve computational efficiency.\n",
    "\n",
    "Next, dataset profiling is crucial to get an overview of the data. This includes summarizing the main statistics of each attribute such as mean, standard deviation, minimum, maximum, and quartiles. Visualizations, such as histograms and box plots, can also be used to understand the distribution and identify outliers. Profiling the dataset provides a better understanding of the nature and characteristics of the data.\n",
    "\n",
    "Interpreting the features is another important step in exploratory data analysis. It involves analyzing the relationships between variables and understanding their impact on the target variable. This can be done through correlation analysis, scatter plots, or other visualization techniques. Feature interpretation helps identify meaningful patterns and relationships within the data.\n",
    "\n",
    "- Better understanding landslides phenomenum throught out theirs features analytis\n",
    "- Searching for features importance identification\n",
    "- Exploratory data analysis: identification of possible irrelevant attributes, dataset profiling, interpretation of features.\n",
    "- Feature importance techniques:\n",
    "   - Correlation matrix;\n",
    "   - SelectKBest (F-test for feature scoring - feature selection based on ANOVA for numerical input and categorical output)\n",
    "   - SelectPercentile (univariate statistical tests)\n",
    "   - Feature Importance (from RandomForestClassifier)\n",
    "   - IGR (information gain ratio) - feature engineering;      "
   ]
  },
  {
   "cell_type": "markdown",
   "metadata": {},
   "source": [
    "## About features:"
   ]
  },
  {
   "cell_type": "markdown",
   "metadata": {},
   "source": [
    "- __slope__: Slope degree is one of the most frequently-used factors in assessing landslide susceptibility. It has a great influence on slope stability and is directly related to the different types of mountain hazards. The slope is characterized as one of the **main parameters** that influence the triggering of landslides since it is related to the velocity of the surface and groundwater flow and, consequently, to the moisture content of the soil, capillary pressure and distribution of saturated and non-saturated zones (Gómez and Kavzoglu, 2005; Zêzere et al., 2017). It is considered as one of critical causing landslide hazard in areas with sharp slope due to soil weakness and stresses.\n",
    "\n",
    "- __aspect__: It is defined as the direction of terrain surface, such as north, northeast and so on. Since hillsides orientated differently receive direct solar radiation and rainfall in different amounts, which lead to different slope topography, humidity and plant cover, the slope aspect is also accepted as a conditioning factor. This factor, generally, represents the compass orientation that a slope or hillshade confronts. It is also can be used as indication for some measurements of plants group, soil moistures and evaporation. \n",
    "\n",
    "- __elevation__: It represents the elevations present in the region and is a widely used parameter in modeling processes. Its variation has a noticeable effect on susceptibility models depending on the region. (Nourani et al., 2014; Hong et al., 2016; Al-Najjar et al., 2019).\n",
    " \n",
    "- __land_use__: 10 = Forest, 20 = Anthropogenic field; 30 = Urban area; 40 = Mangrove.\n",
    "\n",
    "- __lithology__: confesso que não entendi, não achei na literatura o que seria essa geologia, visto que sua definição é \"**estuda a Terra quanto à sua origem, composição, estrutura e evolução**\" Seria o tipo ou uso do solo ? na nossa amostra temos apenas dois valores distintos. (pedi para Ale ou revisar na dissertação)\n",
    "\n",
    "- __twi__: topographic wetness index: is defined as a theoretical measure of flow accumulation and hence soil moisture at any point within a basin. From this, landslide susceptibility can be estimated as a function of the relationship of the topographic effects on the hydrological response of an area (Gómez and Kavzoglu, 2005; Tien Bui et al., 2017). In a seminal work, Beven and Kirkby (1979) proposed the Eq. 1 for the calculation of the topographic wetness index, assuming static conditions: \n",
    "$ twi = ln \\left( \\frac {A_s} {tan \\beta} \\right) $, where ${A_s}$ is the upslope contributing area per unit contour length and ${tan \\beta}$ is the local slope. Thus, the index reflects the tendency of soil saturation developing at any point in a basin (in terms of ${A_s}$), as well as the tendency of the gravitational forces to provide the flow, expressed in terms of ${tan \\beta}$ as an approximation of the hydraulic gradient (Pourghasemi et al., 2012).\n",
    "\n",
    "- __curvature__: Curvature is defined as the change rate of slope angle with surface plane. The direction of drainage line is influenced by plan curvature types, and the river erosion is a key factor that affects the slope stability. Curvature has been frequently used in landslide studies attributing to its **ability  to  control  the  water flow** on the surface (Pham et al. 2015). It is defined as the **inverse of the value of the radius of the curvature of the line** (Nefeslioglu, Duman, and Durmaz 2008). Due to the inverse proportionality tighter curves tend to have higher values of curvature as compared to wider curves (Ding, Chen, and Hong 2017). "
   ]
  },
  {
   "cell_type": "markdown",
   "metadata": {},
   "source": [
    "## Coding"
   ]
  },
  {
   "cell_type": "markdown",
   "metadata": {},
   "source": [
    "### Imported libraries"
   ]
  },
  {
   "cell_type": "code",
   "execution_count": 1,
   "metadata": {},
   "outputs": [],
   "source": [
    "import Rede_Neural as rna\n",
    "from Rede_Neural import NeuralNetwork\n",
    "from Rede_Neural import Layer\n",
    "\n",
    "import os, sys\n",
    "import numpy as np\n",
    "import pandas as pd\n",
    "import matplotlib.pyplot as plt\n",
    "\n",
    "from sklearn.preprocessing import MinMaxScaler, OneHotEncoder\n",
    "from sklearn.datasets import load_iris\n",
    "from sklearn.datasets import make_blobs, make_circles, make_moons, make_classification\n",
    "\n",
    "from sklearn.model_selection import train_test_split\n",
    "from sklearn.metrics import accuracy_score\n",
    "\n",
    "from utils.samples_generator import make_spiral, make_square, make_cubic, make_exp, make_log10\n",
    "from utils import plot\n",
    "\n",
    "%matplotlib inline"
   ]
  },
  {
   "cell_type": "code",
   "execution_count": 2,
   "metadata": {},
   "outputs": [],
   "source": [
    "from pandas_profiling import ProfileReport"
   ]
  },
  {
   "cell_type": "markdown",
   "metadata": {},
   "source": [
    "### Auxiliary functions"
   ]
  },
  {
   "cell_type": "code",
   "execution_count": 3,
   "metadata": {},
   "outputs": [],
   "source": [
    "#Split the dataset into trainning, test and validation samples\n",
    "def dataPreparation(dataSet):\n",
    "    X = dataSet.drop('class',axis=1)\n",
    "    y= dataSet['class']\n",
    "    \n",
    "    #X = X.to_numpy()    #converts dataframe into array to be used at NN\n",
    "    #y = y.to_numpy()    #converts dataframe into array to be used at NN\n",
    "    #y = y.reshape(-1,1) #reorganiza o array em um array 1 x 1\n",
    "    \n",
    "    # split data into training, validation and testing sets\n",
    "    seed = 7\n",
    "    test_size = 0.30\n",
    "    \n",
    "    train_x, test_x, train_y, test_y = train_test_split(X, y, test_size=test_size, shuffle=False)\n",
    "    train_x, val_x, train_y, val_y   = train_test_split(train_x,train_y, test_size=test_size, shuffle=False)\n",
    "\n",
    "    # define the scaler\n",
    "    #scaler = MinMaxScaler(feature_range=(-1, 1)) \n",
    "    #scaler = MinMaxScaler() \n",
    "    # fit on the training dataset\n",
    "    #scaler.fit(train_x)\n",
    "    # scale the training dataset\n",
    "    #train_x = scaler.transform(train_x)\n",
    "    # scale the test dataset\n",
    "    #test_x = scaler.transform(test_x)\n",
    "    # scale the test dataset\n",
    "    #val_x = scaler.transform(val_x)\n",
    "    return train_x, test_x, val_x, train_y, test_y, val_y"
   ]
  },
  {
   "cell_type": "code",
   "execution_count": 4,
   "metadata": {},
   "outputs": [],
   "source": [
    "#Pearson correlation matrix as a criterion for eliminating highly correlated features..\n",
    "#Find and remove correlated features.\n",
    "def correlation(dataset, threshold):\n",
    "    col_corr = set()  # Set of all the names of correlated columns\n",
    "    corr_matrix = dataset.corr(method ='pearson') \n",
    "    for i in range(len(corr_matrix.columns)):\n",
    "        for j in range(i):\n",
    "            if abs(corr_matrix.iloc[i, j]) > threshold: # we are interested in absolute coeff value\n",
    "                colname = corr_matrix.columns[i]  # getting the name of column\n",
    "                col_corr.add(colname)\n",
    "    return col_corr"
   ]
  },
  {
   "cell_type": "code",
   "execution_count": 5,
   "metadata": {},
   "outputs": [
    {
     "data": {
      "text/html": [
       "<div>\n",
       "<style scoped>\n",
       "    .dataframe tbody tr th:only-of-type {\n",
       "        vertical-align: middle;\n",
       "    }\n",
       "\n",
       "    .dataframe tbody tr th {\n",
       "        vertical-align: top;\n",
       "    }\n",
       "\n",
       "    .dataframe thead th {\n",
       "        text-align: right;\n",
       "    }\n",
       "</style>\n",
       "<table border=\"1\" class=\"dataframe\">\n",
       "  <thead>\n",
       "    <tr style=\"text-align: right;\">\n",
       "      <th></th>\n",
       "      <th>FID</th>\n",
       "      <th>X</th>\n",
       "      <th>Y</th>\n",
       "      <th>twi</th>\n",
       "      <th>curvature</th>\n",
       "      <th>slope</th>\n",
       "      <th>elevation</th>\n",
       "      <th>aspect</th>\n",
       "      <th>lithology</th>\n",
       "      <th>land_use</th>\n",
       "      <th>class</th>\n",
       "    </tr>\n",
       "  </thead>\n",
       "  <tbody>\n",
       "    <tr>\n",
       "      <th>0</th>\n",
       "      <td>98</td>\n",
       "      <td>381913.2155</td>\n",
       "      <td>7358368.235</td>\n",
       "      <td>27.338095</td>\n",
       "      <td>0.002735</td>\n",
       "      <td>27.338095</td>\n",
       "      <td>120.943680</td>\n",
       "      <td>330.186584</td>\n",
       "      <td>65</td>\n",
       "      <td>90</td>\n",
       "      <td>0</td>\n",
       "    </tr>\n",
       "    <tr>\n",
       "      <th>1</th>\n",
       "      <td>152</td>\n",
       "      <td>375711.0000</td>\n",
       "      <td>7348857.000</td>\n",
       "      <td>5.155329</td>\n",
       "      <td>0.006004</td>\n",
       "      <td>24.772690</td>\n",
       "      <td>17.397917</td>\n",
       "      <td>113.472549</td>\n",
       "      <td>2</td>\n",
       "      <td>20</td>\n",
       "      <td>1</td>\n",
       "    </tr>\n",
       "    <tr>\n",
       "      <th>2</th>\n",
       "      <td>95</td>\n",
       "      <td>383008.5927</td>\n",
       "      <td>7357558.608</td>\n",
       "      <td>24.757074</td>\n",
       "      <td>0.000368</td>\n",
       "      <td>24.757074</td>\n",
       "      <td>207.428345</td>\n",
       "      <td>121.768433</td>\n",
       "      <td>65</td>\n",
       "      <td>90</td>\n",
       "      <td>0</td>\n",
       "    </tr>\n",
       "    <tr>\n",
       "      <th>3</th>\n",
       "      <td>106</td>\n",
       "      <td>371074.0000</td>\n",
       "      <td>7345111.000</td>\n",
       "      <td>6.688554</td>\n",
       "      <td>-0.010576</td>\n",
       "      <td>29.801399</td>\n",
       "      <td>15.330963</td>\n",
       "      <td>71.881042</td>\n",
       "      <td>2</td>\n",
       "      <td>20</td>\n",
       "      <td>1</td>\n",
       "    </tr>\n",
       "    <tr>\n",
       "      <th>4</th>\n",
       "      <td>82</td>\n",
       "      <td>375019.5230</td>\n",
       "      <td>7353140.890</td>\n",
       "      <td>0.221845</td>\n",
       "      <td>-0.000012</td>\n",
       "      <td>0.221845</td>\n",
       "      <td>2.162373</td>\n",
       "      <td>185.550385</td>\n",
       "      <td>2</td>\n",
       "      <td>70</td>\n",
       "      <td>0</td>\n",
       "    </tr>\n",
       "  </tbody>\n",
       "</table>\n",
       "</div>"
      ],
      "text/plain": [
       "   FID            X            Y        twi  curvature      slope   elevation  \\\n",
       "0   98  381913.2155  7358368.235  27.338095   0.002735  27.338095  120.943680   \n",
       "1  152  375711.0000  7348857.000   5.155329   0.006004  24.772690   17.397917   \n",
       "2   95  383008.5927  7357558.608  24.757074   0.000368  24.757074  207.428345   \n",
       "3  106  371074.0000  7345111.000   6.688554  -0.010576  29.801399   15.330963   \n",
       "4   82  375019.5230  7353140.890   0.221845  -0.000012   0.221845    2.162373   \n",
       "\n",
       "       aspect  lithology  land_use  class  \n",
       "0  330.186584         65        90      0  \n",
       "1  113.472549          2        20      1  \n",
       "2  121.768433         65        90      0  \n",
       "3   71.881042          2        20      1  \n",
       "4  185.550385          2        70      0  "
      ]
     },
     "execution_count": 5,
     "metadata": {},
     "output_type": "execute_result"
    }
   ],
   "source": [
    "APP_PATH = os.getcwd()\n",
    "\n",
    "#file = \"Input_Guaruja_50m_shuffled.csv\"\n",
    "#file = \"Input_Guaruja_100m_shuffled.csv\"\n",
    "#file = \"Input_Guaruja_150m_shuffled.csv\"\n",
    "#file = \"Input_Guaruja_200m_shuffled.csv\"\n",
    "\n",
    "#file = \"pt_nocorrencias_1km_shuffled.csv\"\n",
    "#file = \"pt_nocorrencias_2km_shuffled.csv\"\n",
    "#file = \"pt_nocorrencias_3km_shuffled.csv\"\n",
    "#file = \"pt_nocorrencias_4km_shuffled.csv\"\n",
    "\n",
    "file = \"guaruja_shuffled.csv\"\n",
    "\n",
    "dataset = pd.read_csv(os.path.join(APP_PATH, os.path.join(\"data\", file))) \n",
    "\n",
    "dataset.head(5)"
   ]
  },
  {
   "cell_type": "code",
   "execution_count": 6,
   "metadata": {},
   "outputs": [
    {
     "data": {
      "text/html": [
       "<div>\n",
       "<style scoped>\n",
       "    .dataframe tbody tr th:only-of-type {\n",
       "        vertical-align: middle;\n",
       "    }\n",
       "\n",
       "    .dataframe tbody tr th {\n",
       "        vertical-align: top;\n",
       "    }\n",
       "\n",
       "    .dataframe thead th {\n",
       "        text-align: right;\n",
       "    }\n",
       "</style>\n",
       "<table border=\"1\" class=\"dataframe\">\n",
       "  <thead>\n",
       "    <tr style=\"text-align: right;\">\n",
       "      <th></th>\n",
       "      <th>slope</th>\n",
       "      <th>aspect</th>\n",
       "      <th>elevation</th>\n",
       "      <th>land_use</th>\n",
       "      <th>lithology</th>\n",
       "      <th>twi</th>\n",
       "      <th>curvature</th>\n",
       "      <th>class</th>\n",
       "    </tr>\n",
       "  </thead>\n",
       "  <tbody>\n",
       "    <tr>\n",
       "      <th>0</th>\n",
       "      <td>27.338095</td>\n",
       "      <td>330.186584</td>\n",
       "      <td>120.943680</td>\n",
       "      <td>90</td>\n",
       "      <td>65</td>\n",
       "      <td>27.338095</td>\n",
       "      <td>0.002735</td>\n",
       "      <td>0</td>\n",
       "    </tr>\n",
       "    <tr>\n",
       "      <th>1</th>\n",
       "      <td>24.772690</td>\n",
       "      <td>113.472549</td>\n",
       "      <td>17.397917</td>\n",
       "      <td>20</td>\n",
       "      <td>2</td>\n",
       "      <td>5.155329</td>\n",
       "      <td>0.006004</td>\n",
       "      <td>1</td>\n",
       "    </tr>\n",
       "    <tr>\n",
       "      <th>2</th>\n",
       "      <td>24.757074</td>\n",
       "      <td>121.768433</td>\n",
       "      <td>207.428345</td>\n",
       "      <td>90</td>\n",
       "      <td>65</td>\n",
       "      <td>24.757074</td>\n",
       "      <td>0.000368</td>\n",
       "      <td>0</td>\n",
       "    </tr>\n",
       "    <tr>\n",
       "      <th>3</th>\n",
       "      <td>29.801399</td>\n",
       "      <td>71.881042</td>\n",
       "      <td>15.330963</td>\n",
       "      <td>20</td>\n",
       "      <td>2</td>\n",
       "      <td>6.688554</td>\n",
       "      <td>-0.010576</td>\n",
       "      <td>1</td>\n",
       "    </tr>\n",
       "    <tr>\n",
       "      <th>4</th>\n",
       "      <td>0.221845</td>\n",
       "      <td>185.550385</td>\n",
       "      <td>2.162373</td>\n",
       "      <td>70</td>\n",
       "      <td>2</td>\n",
       "      <td>0.221845</td>\n",
       "      <td>-0.000012</td>\n",
       "      <td>0</td>\n",
       "    </tr>\n",
       "  </tbody>\n",
       "</table>\n",
       "</div>"
      ],
      "text/plain": [
       "       slope      aspect   elevation  land_use  lithology        twi  \\\n",
       "0  27.338095  330.186584  120.943680        90         65  27.338095   \n",
       "1  24.772690  113.472549   17.397917        20          2   5.155329   \n",
       "2  24.757074  121.768433  207.428345        90         65  24.757074   \n",
       "3  29.801399   71.881042   15.330963        20          2   6.688554   \n",
       "4   0.221845  185.550385    2.162373        70          2   0.221845   \n",
       "\n",
       "   curvature  class  \n",
       "0   0.002735      0  \n",
       "1   0.006004      1  \n",
       "2   0.000368      0  \n",
       "3  -0.010576      1  \n",
       "4  -0.000012      0  "
      ]
     },
     "execution_count": 6,
     "metadata": {},
     "output_type": "execute_result"
    }
   ],
   "source": [
    "#Get data analysis features only.\n",
    "dataset = dataset[['slope','aspect','elevation','land_use','lithology','twi','curvature','class']]\n",
    "dataset.head(5)"
   ]
  },
  {
   "cell_type": "code",
   "execution_count": 7,
   "metadata": {},
   "outputs": [],
   "source": [
    "df = dataset"
   ]
  },
  {
   "cell_type": "markdown",
   "metadata": {},
   "source": [
    "### Dataset analysis"
   ]
  },
  {
   "cell_type": "code",
   "execution_count": 8,
   "metadata": {},
   "outputs": [],
   "source": [
    "profile = ProfileReport(df, title=\"Análise das features da base do Guarujá\")\n",
    "#profile"
   ]
  },
  {
   "cell_type": "code",
   "execution_count": 9,
   "metadata": {},
   "outputs": [
    {
     "data": {
      "text/html": [
       "<div>\n",
       "<style scoped>\n",
       "    .dataframe tbody tr th:only-of-type {\n",
       "        vertical-align: middle;\n",
       "    }\n",
       "\n",
       "    .dataframe tbody tr th {\n",
       "        vertical-align: top;\n",
       "    }\n",
       "\n",
       "    .dataframe thead th {\n",
       "        text-align: right;\n",
       "    }\n",
       "</style>\n",
       "<table border=\"1\" class=\"dataframe\">\n",
       "  <thead>\n",
       "    <tr style=\"text-align: right;\">\n",
       "      <th></th>\n",
       "      <th>slope</th>\n",
       "      <th>aspect</th>\n",
       "      <th>elevation</th>\n",
       "      <th>land_use</th>\n",
       "      <th>lithology</th>\n",
       "      <th>twi</th>\n",
       "      <th>curvature</th>\n",
       "      <th>class</th>\n",
       "    </tr>\n",
       "  </thead>\n",
       "  <tbody>\n",
       "    <tr>\n",
       "      <th>count</th>\n",
       "      <td>200.000000</td>\n",
       "      <td>200.000000</td>\n",
       "      <td>200.000000</td>\n",
       "      <td>200.000000</td>\n",
       "      <td>200.000000</td>\n",
       "      <td>200.000000</td>\n",
       "      <td>200.000000</td>\n",
       "      <td>200.00000</td>\n",
       "    </tr>\n",
       "    <tr>\n",
       "      <th>mean</th>\n",
       "      <td>23.941003</td>\n",
       "      <td>209.786922</td>\n",
       "      <td>64.324397</td>\n",
       "      <td>75.800000</td>\n",
       "      <td>32.555000</td>\n",
       "      <td>14.420222</td>\n",
       "      <td>0.034933</td>\n",
       "      <td>0.49500</td>\n",
       "    </tr>\n",
       "    <tr>\n",
       "      <th>std</th>\n",
       "      <td>11.792819</td>\n",
       "      <td>103.922925</td>\n",
       "      <td>56.081392</td>\n",
       "      <td>26.719462</td>\n",
       "      <td>31.564833</td>\n",
       "      <td>13.621558</td>\n",
       "      <td>0.407112</td>\n",
       "      <td>0.50123</td>\n",
       "    </tr>\n",
       "    <tr>\n",
       "      <th>min</th>\n",
       "      <td>0.094349</td>\n",
       "      <td>0.040240</td>\n",
       "      <td>0.233454</td>\n",
       "      <td>20.000000</td>\n",
       "      <td>2.000000</td>\n",
       "      <td>0.094349</td>\n",
       "      <td>-0.586256</td>\n",
       "      <td>0.00000</td>\n",
       "    </tr>\n",
       "    <tr>\n",
       "      <th>25%</th>\n",
       "      <td>18.080066</td>\n",
       "      <td>121.035282</td>\n",
       "      <td>14.330164</td>\n",
       "      <td>90.000000</td>\n",
       "      <td>2.000000</td>\n",
       "      <td>4.294376</td>\n",
       "      <td>-0.008205</td>\n",
       "      <td>0.00000</td>\n",
       "    </tr>\n",
       "    <tr>\n",
       "      <th>50%</th>\n",
       "      <td>25.331100</td>\n",
       "      <td>202.735687</td>\n",
       "      <td>54.483145</td>\n",
       "      <td>90.000000</td>\n",
       "      <td>2.000000</td>\n",
       "      <td>6.125394</td>\n",
       "      <td>-0.000357</td>\n",
       "      <td>0.00000</td>\n",
       "    </tr>\n",
       "    <tr>\n",
       "      <th>75%</th>\n",
       "      <td>30.772825</td>\n",
       "      <td>316.396835</td>\n",
       "      <td>94.712227</td>\n",
       "      <td>90.000000</td>\n",
       "      <td>65.000000</td>\n",
       "      <td>26.331445</td>\n",
       "      <td>0.002600</td>\n",
       "      <td>1.00000</td>\n",
       "    </tr>\n",
       "    <tr>\n",
       "      <th>max</th>\n",
       "      <td>69.731888</td>\n",
       "      <td>359.505798</td>\n",
       "      <td>226.055237</td>\n",
       "      <td>90.000000</td>\n",
       "      <td>65.000000</td>\n",
       "      <td>69.731888</td>\n",
       "      <td>4.304924</td>\n",
       "      <td>1.00000</td>\n",
       "    </tr>\n",
       "  </tbody>\n",
       "</table>\n",
       "</div>"
      ],
      "text/plain": [
       "            slope      aspect   elevation    land_use   lithology         twi  \\\n",
       "count  200.000000  200.000000  200.000000  200.000000  200.000000  200.000000   \n",
       "mean    23.941003  209.786922   64.324397   75.800000   32.555000   14.420222   \n",
       "std     11.792819  103.922925   56.081392   26.719462   31.564833   13.621558   \n",
       "min      0.094349    0.040240    0.233454   20.000000    2.000000    0.094349   \n",
       "25%     18.080066  121.035282   14.330164   90.000000    2.000000    4.294376   \n",
       "50%     25.331100  202.735687   54.483145   90.000000    2.000000    6.125394   \n",
       "75%     30.772825  316.396835   94.712227   90.000000   65.000000   26.331445   \n",
       "max     69.731888  359.505798  226.055237   90.000000   65.000000   69.731888   \n",
       "\n",
       "        curvature      class  \n",
       "count  200.000000  200.00000  \n",
       "mean     0.034933    0.49500  \n",
       "std      0.407112    0.50123  \n",
       "min     -0.586256    0.00000  \n",
       "25%     -0.008205    0.00000  \n",
       "50%     -0.000357    0.00000  \n",
       "75%      0.002600    1.00000  \n",
       "max      4.304924    1.00000  "
      ]
     },
     "execution_count": 9,
     "metadata": {},
     "output_type": "execute_result"
    }
   ],
   "source": [
    "df.describe()"
   ]
  },
  {
   "cell_type": "code",
   "execution_count": 10,
   "metadata": {},
   "outputs": [
    {
     "data": {
      "text/plain": [
       "slope         69.637538\n",
       "aspect       359.465559\n",
       "elevation    225.821783\n",
       "land_use      70.000000\n",
       "lithology     63.000000\n",
       "twi           69.637538\n",
       "curvature      4.891180\n",
       "class          1.000000\n",
       "dtype: float64"
      ]
     },
     "execution_count": 10,
     "metadata": {},
     "output_type": "execute_result"
    }
   ],
   "source": [
    "df_max = df.max()\n",
    "df_min = df.min()\n",
    "df_range = df_max - df_min\n",
    "df_range"
   ]
  },
  {
   "cell_type": "markdown",
   "metadata": {},
   "source": [
    "### Feature importance"
   ]
  },
  {
   "cell_type": "markdown",
   "metadata": {},
   "source": [
    "Feature selection is the process of reducing the number of input variables when developing a predictive model.\n",
    "\n",
    "It is desirable to reduce the number of input variables to both reduce the computational cost of modeling and, in some cases, to improve the performance of the model.\n",
    "\n",
    "Statistical-based feature selection methods involve evaluating the relationship between each input variable and the target variable using statistics and selecting those input variables that have the strongest relationship with the target variable. These methods can be fast and effective, although the choice of statistical measures depends on the data type of both the input and output variables.\n",
    "\n",
    "Three benefits of performing feature selection before modeling your data are:\n",
    "- Reduces overfitting: fewer redundant data means less opportunity to make decisions based on noise.\n",
    "- Improves accuracy: fewer misleading data means that modeling accuracy improves.\n",
    "- Reduces training time: less data means that algorithms train faster.\n",
    "\n",
    "\n",
    "Filter methods evaluate the relevance of the predictors outside of the predictive models and subsequently model only the predictors that pass some criterion.\n",
    "\n",
    "- The __filtering__ methods evaluate the relevance of predictors __outside__ the context of the predictive model and subsequently, they only model the predictors that meet certain criteria. That is what we used.estão estão \n",
    "\n",
    "- Finally, there are some machine learning algorithms that perform feature selection automatically as part of model learning. These techniques are referred to as __intrinsic or embedded__ feature selection methods. Some models have built-in feature selection, meaning that the model will only include predictors that help maximize accuracy. In these cases, the model can select and choose the best data representation.\n",
    "\n",
    "\n",
    "\n",
    "- A seleção de features também está relacionada a técnicas de redução dimensional em que ambos os métodos buscam menos variáveis de entrada para um modelo preditivo. A diferença é que a seleção de features seleciona recursos para manter ou remover do conjunto de dados, enquanto a redução de dimensionalidade cria uma __projeção dos dados__, resultando em features de entrada inteiramente novos. Como tal, a redução de dimensionalidade é uma alternativa à seleção de recursos, em vez de um tipo de seleção de recursos.\n",
    "\n",
    "\n",
    "A common mistake done with feature selection is to search a subset of discriminative features on the full dataset\n",
    "instead of only using the training set. "
   ]
  },
  {
   "cell_type": "markdown",
   "metadata": {},
   "source": [
    "Some of the most important references for this research are:\n",
    "- ref. 1 (paper):  __Review of Input Variable Selection Methods for Artificial Neural Networks__\n",
    "- ref. 2 (paper):  __Machine Learning Feature Selection Methods for Landslide Susceptibility Mapping__\n",
    "- ref. 3 (paper):  __Attribute selection using correlations and principal components for artificial neural networks employment for landslide susceptibility assessment__\n",
    "\n",
    "   - In article 3, the authors conclude that attribute selection and removal attempts made the performance of their neural network worse than using the 11 initial attributes used in the study. The authors used Pearson correlation and PCA. However, this is not a rule as described in the article itself.\n",
    "\n",
    "   - Pearson correlation (rank correlation): The selection of candidate variables that are sorted by order of decreasing correlation is based either on greedy selection of the first k variables, or upon all variables for which the correlation is significantly different from zero. The significance of the Pearson correlation can be determined directly, since the error associated with estimation of correlation from a sample is defined by the t-distribution. A rule of thumb (for large n) is that variables with an absolute correlation greater than:  $$ \\frac {2} {\\sqrt{n}} $$ are significant.\n",
    "   \n",
    "   - Another correlation-based technique used is ANOVA correlation coefficient. The ANOVA method is a type of F-statistics referred to here as ANOVA F-test. The results of this test can be used for feature selection, where features that are independent of the target variable can be removed from the dataset."
   ]
  },
  {
   "cell_type": "code",
   "execution_count": 11,
   "metadata": {},
   "outputs": [
    {
     "name": "stdout",
     "output_type": "stream",
     "text": [
      "98 train examples\n",
      "42 validation examples\n",
      "60 test examples\n"
     ]
    }
   ],
   "source": [
    "X_train, X_test, X_val, y_train, y_test, y_val = dataPreparation(df)\n",
    "print(len(X_train), 'train examples')\n",
    "print(len(X_val), 'validation examples')\n",
    "print(len(X_test), 'test examples')"
   ]
  },
  {
   "cell_type": "markdown",
   "metadata": {},
   "source": [
    "#### Pearson correlation"
   ]
  },
  {
   "cell_type": "code",
   "execution_count": 12,
   "metadata": {},
   "outputs": [
    {
     "name": "stdout",
     "output_type": "stream",
     "text": [
      "set()\n",
      "Correlated features:  0\n"
     ]
    }
   ],
   "source": [
    "corr_features = correlation(X_train, 0.8)\n",
    "print(corr_features)\n",
    "print('Correlated features: ', len(set(corr_features)) )"
   ]
  },
  {
   "cell_type": "code",
   "execution_count": 13,
   "metadata": {},
   "outputs": [
    {
     "data": {
      "text/html": [
       "<style type=\"text/css\">\n",
       "#T_01902_row0_col0, #T_01902_row1_col1, #T_01902_row2_col2, #T_01902_row3_col3, #T_01902_row4_col4, #T_01902_row5_col5, #T_01902_row6_col6 {\n",
       "  background-color: #08306b;\n",
       "  color: #f1f1f1;\n",
       "}\n",
       "#T_01902_row0_col1 {\n",
       "  background-color: #b7d4ea;\n",
       "  color: #000000;\n",
       "}\n",
       "#T_01902_row0_col2 {\n",
       "  background-color: #b3d3e8;\n",
       "  color: #000000;\n",
       "}\n",
       "#T_01902_row0_col3 {\n",
       "  background-color: #e6f0f9;\n",
       "  color: #000000;\n",
       "}\n",
       "#T_01902_row0_col4 {\n",
       "  background-color: #d9e8f5;\n",
       "  color: #000000;\n",
       "}\n",
       "#T_01902_row0_col5 {\n",
       "  background-color: #63a8d3;\n",
       "  color: #f1f1f1;\n",
       "}\n",
       "#T_01902_row0_col6, #T_01902_row3_col4 {\n",
       "  background-color: #cfe1f2;\n",
       "  color: #000000;\n",
       "}\n",
       "#T_01902_row1_col0 {\n",
       "  background-color: #d4e4f4;\n",
       "  color: #000000;\n",
       "}\n",
       "#T_01902_row1_col2 {\n",
       "  background-color: #f5f9fe;\n",
       "  color: #000000;\n",
       "}\n",
       "#T_01902_row1_col3, #T_01902_row1_col6, #T_01902_row3_col0, #T_01902_row6_col1, #T_01902_row6_col2, #T_01902_row6_col4, #T_01902_row6_col5 {\n",
       "  background-color: #f7fbff;\n",
       "  color: #000000;\n",
       "}\n",
       "#T_01902_row1_col4, #T_01902_row4_col5 {\n",
       "  background-color: #cee0f2;\n",
       "  color: #000000;\n",
       "}\n",
       "#T_01902_row1_col5 {\n",
       "  background-color: #cadef0;\n",
       "  color: #000000;\n",
       "}\n",
       "#T_01902_row2_col0 {\n",
       "  background-color: #a8cee4;\n",
       "  color: #000000;\n",
       "}\n",
       "#T_01902_row2_col1 {\n",
       "  background-color: #d0e2f2;\n",
       "  color: #000000;\n",
       "}\n",
       "#T_01902_row2_col3 {\n",
       "  background-color: #9fcae1;\n",
       "  color: #000000;\n",
       "}\n",
       "#T_01902_row2_col4 {\n",
       "  background-color: #5fa6d1;\n",
       "  color: #f1f1f1;\n",
       "}\n",
       "#T_01902_row2_col5 {\n",
       "  background-color: #68acd5;\n",
       "  color: #f1f1f1;\n",
       "}\n",
       "#T_01902_row2_col6 {\n",
       "  background-color: #d3e3f3;\n",
       "  color: #000000;\n",
       "}\n",
       "#T_01902_row3_col1 {\n",
       "  background-color: #eaf3fb;\n",
       "  color: #000000;\n",
       "}\n",
       "#T_01902_row3_col2, #T_01902_row4_col1 {\n",
       "  background-color: #bdd7ec;\n",
       "  color: #000000;\n",
       "}\n",
       "#T_01902_row3_col5 {\n",
       "  background-color: #bad6eb;\n",
       "  color: #000000;\n",
       "}\n",
       "#T_01902_row3_col6 {\n",
       "  background-color: #cddff1;\n",
       "  color: #000000;\n",
       "}\n",
       "#T_01902_row4_col0 {\n",
       "  background-color: #e3eef9;\n",
       "  color: #000000;\n",
       "}\n",
       "#T_01902_row4_col2 {\n",
       "  background-color: #72b2d8;\n",
       "  color: #f1f1f1;\n",
       "}\n",
       "#T_01902_row4_col3 {\n",
       "  background-color: #cbdef1;\n",
       "  color: #000000;\n",
       "}\n",
       "#T_01902_row4_col6 {\n",
       "  background-color: #e5eff9;\n",
       "  color: #000000;\n",
       "}\n",
       "#T_01902_row5_col0 {\n",
       "  background-color: #6aaed6;\n",
       "  color: #f1f1f1;\n",
       "}\n",
       "#T_01902_row5_col1 {\n",
       "  background-color: #b4d3e9;\n",
       "  color: #000000;\n",
       "}\n",
       "#T_01902_row5_col2 {\n",
       "  background-color: #7cb7da;\n",
       "  color: #000000;\n",
       "}\n",
       "#T_01902_row5_col3 {\n",
       "  background-color: #b0d2e7;\n",
       "  color: #000000;\n",
       "}\n",
       "#T_01902_row5_col4 {\n",
       "  background-color: #ccdff1;\n",
       "  color: #000000;\n",
       "}\n",
       "#T_01902_row5_col6 {\n",
       "  background-color: #e3eef8;\n",
       "  color: #000000;\n",
       "}\n",
       "#T_01902_row6_col0 {\n",
       "  background-color: #eaf2fb;\n",
       "  color: #000000;\n",
       "}\n",
       "#T_01902_row6_col3 {\n",
       "  background-color: #d7e6f5;\n",
       "  color: #000000;\n",
       "}\n",
       "</style>\n",
       "<table id=\"T_01902\">\n",
       "  <thead>\n",
       "    <tr>\n",
       "      <th class=\"blank level0\" >&nbsp;</th>\n",
       "      <th id=\"T_01902_level0_col0\" class=\"col_heading level0 col0\" >slope</th>\n",
       "      <th id=\"T_01902_level0_col1\" class=\"col_heading level0 col1\" >aspect</th>\n",
       "      <th id=\"T_01902_level0_col2\" class=\"col_heading level0 col2\" >elevation</th>\n",
       "      <th id=\"T_01902_level0_col3\" class=\"col_heading level0 col3\" >land_use</th>\n",
       "      <th id=\"T_01902_level0_col4\" class=\"col_heading level0 col4\" >lithology</th>\n",
       "      <th id=\"T_01902_level0_col5\" class=\"col_heading level0 col5\" >twi</th>\n",
       "      <th id=\"T_01902_level0_col6\" class=\"col_heading level0 col6\" >curvature</th>\n",
       "    </tr>\n",
       "  </thead>\n",
       "  <tbody>\n",
       "    <tr>\n",
       "      <th id=\"T_01902_level0_row0\" class=\"row_heading level0 row0\" >slope</th>\n",
       "      <td id=\"T_01902_row0_col0\" class=\"data row0 col0\" >1.000000</td>\n",
       "      <td id=\"T_01902_row0_col1\" class=\"data row0 col1\" >0.160534</td>\n",
       "      <td id=\"T_01902_row0_col2\" class=\"data row0 col2\" >0.330148</td>\n",
       "      <td id=\"T_01902_row0_col3\" class=\"data row0 col3\" >-0.021104</td>\n",
       "      <td id=\"T_01902_row0_col4\" class=\"data row0 col4\" >0.078894</td>\n",
       "      <td id=\"T_01902_row0_col5\" class=\"data row0 col5\" >0.491299</td>\n",
       "      <td id=\"T_01902_row0_col6\" class=\"data row0 col6\" >0.049919</td>\n",
       "    </tr>\n",
       "    <tr>\n",
       "      <th id=\"T_01902_level0_row1\" class=\"row_heading level0 row1\" >aspect</th>\n",
       "      <td id=\"T_01902_row1_col0\" class=\"data row1 col0\" >0.160534</td>\n",
       "      <td id=\"T_01902_row1_col1\" class=\"data row1 col1\" >1.000000</td>\n",
       "      <td id=\"T_01902_row1_col2\" class=\"data row1 col2\" >0.039333</td>\n",
       "      <td id=\"T_01902_row1_col3\" class=\"data row1 col3\" >-0.117642</td>\n",
       "      <td id=\"T_01902_row1_col4\" class=\"data row1 col4\" >0.139385</td>\n",
       "      <td id=\"T_01902_row1_col5\" class=\"data row1 col5\" >0.173716</td>\n",
       "      <td id=\"T_01902_row1_col6\" class=\"data row1 col6\" >-0.194329</td>\n",
       "    </tr>\n",
       "    <tr>\n",
       "      <th id=\"T_01902_level0_row2\" class=\"row_heading level0 row2\" >elevation</th>\n",
       "      <td id=\"T_01902_row2_col0\" class=\"data row2 col0\" >0.330148</td>\n",
       "      <td id=\"T_01902_row2_col1\" class=\"data row2 col1\" >0.039333</td>\n",
       "      <td id=\"T_01902_row2_col2\" class=\"data row2 col2\" >1.000000</td>\n",
       "      <td id=\"T_01902_row2_col3\" class=\"data row2 col3\" >0.298286</td>\n",
       "      <td id=\"T_01902_row2_col4\" class=\"data row2 col4\" >0.497128</td>\n",
       "      <td id=\"T_01902_row2_col5\" class=\"data row2 col5\" >0.474434</td>\n",
       "      <td id=\"T_01902_row2_col6\" class=\"data row2 col6\" >0.025759</td>\n",
       "    </tr>\n",
       "    <tr>\n",
       "      <th id=\"T_01902_level0_row3\" class=\"row_heading level0 row3\" >land_use</th>\n",
       "      <td id=\"T_01902_row3_col0\" class=\"data row3 col0\" >-0.021104</td>\n",
       "      <td id=\"T_01902_row3_col1\" class=\"data row3 col1\" >-0.117642</td>\n",
       "      <td id=\"T_01902_row3_col2\" class=\"data row3 col2\" >0.298286</td>\n",
       "      <td id=\"T_01902_row3_col3\" class=\"data row3 col3\" >1.000000</td>\n",
       "      <td id=\"T_01902_row3_col4\" class=\"data row3 col4\" >0.135162</td>\n",
       "      <td id=\"T_01902_row3_col5\" class=\"data row3 col5\" >0.236134</td>\n",
       "      <td id=\"T_01902_row3_col6\" class=\"data row3 col6\" >0.063728</td>\n",
       "    </tr>\n",
       "    <tr>\n",
       "      <th id=\"T_01902_level0_row4\" class=\"row_heading level0 row4\" >lithology</th>\n",
       "      <td id=\"T_01902_row4_col0\" class=\"data row4 col0\" >0.078894</td>\n",
       "      <td id=\"T_01902_row4_col1\" class=\"data row4 col1\" >0.139385</td>\n",
       "      <td id=\"T_01902_row4_col2\" class=\"data row4 col2\" >0.497128</td>\n",
       "      <td id=\"T_01902_row4_col3\" class=\"data row4 col3\" >0.135162</td>\n",
       "      <td id=\"T_01902_row4_col4\" class=\"data row4 col4\" >1.000000</td>\n",
       "      <td id=\"T_01902_row4_col5\" class=\"data row4 col5\" >0.153040</td>\n",
       "      <td id=\"T_01902_row4_col6\" class=\"data row4 col6\" >-0.086209</td>\n",
       "    </tr>\n",
       "    <tr>\n",
       "      <th id=\"T_01902_level0_row5\" class=\"row_heading level0 row5\" >twi</th>\n",
       "      <td id=\"T_01902_row5_col0\" class=\"data row5 col0\" >0.491299</td>\n",
       "      <td id=\"T_01902_row5_col1\" class=\"data row5 col1\" >0.173716</td>\n",
       "      <td id=\"T_01902_row5_col2\" class=\"data row5 col2\" >0.474434</td>\n",
       "      <td id=\"T_01902_row5_col3\" class=\"data row5 col3\" >0.236134</td>\n",
       "      <td id=\"T_01902_row5_col4\" class=\"data row5 col4\" >0.153040</td>\n",
       "      <td id=\"T_01902_row5_col5\" class=\"data row5 col5\" >1.000000</td>\n",
       "      <td id=\"T_01902_row5_col6\" class=\"data row5 col6\" >-0.070143</td>\n",
       "    </tr>\n",
       "    <tr>\n",
       "      <th id=\"T_01902_level0_row6\" class=\"row_heading level0 row6\" >curvature</th>\n",
       "      <td id=\"T_01902_row6_col0\" class=\"data row6 col0\" >0.049919</td>\n",
       "      <td id=\"T_01902_row6_col1\" class=\"data row6 col1\" >-0.194329</td>\n",
       "      <td id=\"T_01902_row6_col2\" class=\"data row6 col2\" >0.025759</td>\n",
       "      <td id=\"T_01902_row6_col3\" class=\"data row6 col3\" >0.063728</td>\n",
       "      <td id=\"T_01902_row6_col4\" class=\"data row6 col4\" >-0.086209</td>\n",
       "      <td id=\"T_01902_row6_col5\" class=\"data row6 col5\" >-0.070143</td>\n",
       "      <td id=\"T_01902_row6_col6\" class=\"data row6 col6\" >1.000000</td>\n",
       "    </tr>\n",
       "  </tbody>\n",
       "</table>\n"
      ],
      "text/plain": [
       "<pandas.io.formats.style.Styler at 0x264a9504970>"
      ]
     },
     "execution_count": 13,
     "metadata": {},
     "output_type": "execute_result"
    }
   ],
   "source": [
    "#Correlation Matrix\n",
    "corr = X_train.corr()\n",
    "corr = corr.style.background_gradient(cmap='Blues')\n",
    "corr"
   ]
  },
  {
   "cell_type": "markdown",
   "metadata": {},
   "source": [
    "- __Since none of the variables are correlated (i.e above 0.8), they are considered independent and by this criterion we will keep them all.__"
   ]
  },
  {
   "cell_type": "code",
   "execution_count": 14,
   "metadata": {},
   "outputs": [
    {
     "data": {
      "image/png": "[encoded data removed]",
      "text/plain": [
       "<Figure size 1152x648 with 2 Axes>"
      ]
     },
     "metadata": {},
     "output_type": "display_data"
    }
   ],
   "source": [
    "import matplotlib.pyplot as plt\n",
    "import seaborn as sns\n",
    "plt.figure(figsize=(16, 9))\n",
    "sns.heatmap(X_train.corr(),\n",
    "            annot = True,\n",
    "            fmt = '.2f',\n",
    "            cmap='Blues')\n",
    "plt.title('Dataset features Pearson correlation')\n",
    "plt.show()"
   ]
  },
  {
   "cell_type": "markdown",
   "metadata": {},
   "source": [
    "#### ANOVA / F-test"
   ]
  },
  {
   "cell_type": "markdown",
   "metadata": {},
   "source": [
    "__Seleção de Features__ - sklearn.feature_selection classe SelectKBest, seleciona as k melhores features, falta melhor com o SelectPercentile\n",
    "- https://machinelearningmastery.com/feature-selection-with-real-and-categorical-data/\n",
    "-  https://machinelearningmastery.com/feature-selection-with-numerical-input-data/\n",
    "- https://scikit-learn.org/stable/auto_examples/feature_selection/plot_feature_selection_pipeline.html#sphx-glr-auto-examples-feature-selection-plot-feature-selection-pipeline-py\n",
    "- https://qastack.com.br/datascience/10773/how-does-selectkbest-work\n",
    "- https://towardsdatascience.com/anova-for-feature-selection-in-machine-learning-d9305e228476 (sobre ANOVA)\n",
    "- https://www.statisticshowto.com/probability-and-statistics/f-statistic-value-test/ (mais sobre ANOVA e f-test)\n",
    "- https://statisticsbyjim.com/anova/f-tests-anova/ (anova)\n",
    "\n",
    "  \n",
    " \n",
    " "
   ]
  },
  {
   "cell_type": "code",
   "execution_count": 15,
   "metadata": {},
   "outputs": [
    {
     "name": "stdout",
     "output_type": "stream",
     "text": [
      "(98, 5)\n"
     ]
    }
   ],
   "source": [
    "# ANOVA feature selection for numeric input and categorical output\n",
    "from sklearn.datasets import make_classification\n",
    "from sklearn.feature_selection import SelectKBest\n",
    "from sklearn.feature_selection import f_classif\n",
    "\n",
    "# Setup KBestFeatures class. k=5 most important features\n",
    "fs = SelectKBest(score_func=f_classif, k=5)\n",
    "# Apply feature selection\n",
    "X_selected = fs.fit_transform(X_train, y_train)\n",
    "print(X_selected.shape)"
   ]
  },
  {
   "cell_type": "code",
   "execution_count": 16,
   "metadata": {},
   "outputs": [
    {
     "data": {
      "text/plain": [
       "Index(['slope', 'aspect', 'elevation', 'land_use', 'lithology', 'twi',\n",
       "       'curvature'],\n",
       "      dtype='object')"
      ]
     },
     "execution_count": 16,
     "metadata": {},
     "output_type": "execute_result"
    }
   ],
   "source": [
    "predictors = X_train.columns\n",
    "predictors"
   ]
  },
  {
   "cell_type": "code",
   "execution_count": 17,
   "metadata": {},
   "outputs": [
    {
     "data": {
      "text/plain": [
       "array([7.52523175e-01, 5.38928788e-01, 1.16065831e-05, 1.08623163e-02,\n",
       "       1.22030956e-01, 2.36775659e-18, 3.93626376e-01])"
      ]
     },
     "execution_count": 17,
     "metadata": {},
     "output_type": "execute_result"
    }
   ],
   "source": [
    "fs.pvalues_"
   ]
  },
  {
   "cell_type": "code",
   "execution_count": 18,
   "metadata": {},
   "outputs": [
    {
     "data": {
      "text/plain": [
       "array([9.99941517e-02, 3.80250569e-01, 2.14081867e+01, 6.74799337e+00,\n",
       "       2.43385889e+00, 1.17493779e+02, 7.34301941e-01])"
      ]
     },
     "execution_count": 18,
     "metadata": {},
     "output_type": "execute_result"
    }
   ],
   "source": [
    "fs.scores_"
   ]
  },
  {
   "cell_type": "code",
   "execution_count": 19,
   "metadata": {
    "scrolled": false
   },
   "outputs": [
    {
     "data": {
      "image/png": "[encoded data removed]",
      "text/plain": [
       "<Figure size 1152x648 with 1 Axes>"
      ]
     },
     "metadata": {},
     "output_type": "display_data"
    }
   ],
   "source": [
    "# get the p-values to each feature and turn them into 'scores'\n",
    "\n",
    "predictors = X_train.columns\n",
    "\n",
    "scores = -np.log10(fs.pvalues_) #or scores /= scores.max()\n",
    "\n",
    "fig, ax = plt.subplots(figsize =(16, 9))\n",
    "ax.barh(predictors, scores)\n",
    " \n",
    "# Remove spines \n",
    "for s in ['top', 'bottom', 'left', 'right']:\n",
    "    ax.spines[s].set_visible(False)\n",
    " \n",
    "ax.xaxis.set_ticks_position('none')\n",
    "ax.yaxis.set_ticks_position('none')\n",
    " \n",
    "# Add padding between axes and labels\n",
    "ax.xaxis.set_tick_params(pad = 5)\n",
    "ax.yaxis.set_tick_params(pad = 10)\n",
    " \n",
    "ax.grid(b = True, color ='grey',\n",
    "        linestyle ='-.', linewidth = 0.5,\n",
    "        alpha = 0.2)\n",
    " \n",
    "# show values \n",
    "ax.invert_yaxis()\n",
    " \n",
    "# pequenas anotações nas barras\n",
    "for i in ax.patches:\n",
    "    plt.text(i.get_width()+0.2, i.get_y()+0.5,\n",
    "             str(round((i.get_width()), 2)),\n",
    "             fontsize = 13, fontweight ='bold',\n",
    "             color ='grey')\n",
    " \n",
    "# Titulo do gráfico\n",
    "ax.set_title('Landslide features and importance scores',loc ='left', )\n",
    " \n",
    "# watermark\n",
    "fig.text(0.9, 0.15, 'Guarujá - SP - BR', fontsize = 17,\n",
    "         color ='grey', ha ='right', va ='bottom',\n",
    "         alpha = 0.7)\n",
    "\n",
    "# chart configuration\n",
    "SMALL_SIZE = 15\n",
    "MEDIUM_SIZE = 20\n",
    "BIGGER_SIZE = 25\n",
    "\n",
    "#plt.rc('font', size=SMALL_SIZE)          # controls default text sizes\n",
    "#plt.rc('axes', titlesize=SMALL_SIZE)     # fontsize of the axes title\n",
    "#plt.rc('axes', labelsize=MEDIUM_SIZE)    # fontsize of the x and y labels\n",
    "plt.rc('xtick', labelsize=SMALL_SIZE)    # fontsize of the tick labels\n",
    "plt.rc('ytick', labelsize=SMALL_SIZE)    # fontsize of the tick labels\n",
    "#plt.rc('legend', fontsize=SMALL_SIZE)    # legend fontsize\n",
    "#plt.rc('figure', titlesize=BIGGER_SIZE)  # fontsize of the figure title\n",
    "\n",
    "plt.show()"
   ]
  },
  {
   "cell_type": "code",
   "execution_count": 20,
   "metadata": {},
   "outputs": [],
   "source": [
    "from sklearn.feature_selection import SelectPercentile"
   ]
  },
  {
   "cell_type": "code",
   "execution_count": 21,
   "metadata": {},
   "outputs": [
    {
     "name": "stdout",
     "output_type": "stream",
     "text": [
      "(98, 2)\n"
     ]
    }
   ],
   "source": [
    "# define feature selection - o que seria esse percentile ?\n",
    "fsP = SelectPercentile(score_func=f_classif, percentile=20)\n",
    "# aplica a seleção de features\n",
    "X_selected = fsP.fit_transform(X_train, y_train)\n",
    "print(X_selected.shape)"
   ]
  },
  {
   "cell_type": "code",
   "execution_count": 22,
   "metadata": {},
   "outputs": [
    {
     "data": {
      "text/plain": [
       "Index(['slope', 'aspect', 'elevation', 'land_use', 'lithology', 'twi',\n",
       "       'curvature', 'class'],\n",
       "      dtype='object')"
      ]
     },
     "execution_count": 22,
     "metadata": {},
     "output_type": "execute_result"
    }
   ],
   "source": [
    "predictors = df.columns\n",
    "predictors"
   ]
  },
  {
   "cell_type": "code",
   "execution_count": 23,
   "metadata": {},
   "outputs": [
    {
     "data": {
      "text/plain": [
       "array([9.99941517e-02, 3.80250569e-01, 2.14081867e+01, 6.74799337e+00,\n",
       "       2.43385889e+00, 1.17493779e+02, 7.34301941e-01])"
      ]
     },
     "execution_count": 23,
     "metadata": {},
     "output_type": "execute_result"
    }
   ],
   "source": [
    "fsP.scores_"
   ]
  },
  {
   "cell_type": "code",
   "execution_count": 24,
   "metadata": {},
   "outputs": [
    {
     "name": "stdout",
     "output_type": "stream",
     "text": [
      "\n",
      "Top 8 Features:\n",
      "       token       score     p-val scored-p-val\n",
      "0        twi  117.493779       0.0    17.625663\n",
      "1  elevation   21.408187  0.000012     4.935296\n",
      "2   land_use    6.747993  0.010862     1.964078\n",
      "3  lithology    2.433859  0.122031      0.91353\n",
      "4  curvature    0.734302  0.393626     0.404916\n",
      "5     aspect    0.380251  0.538929     0.268469\n",
      "6      slope    0.099994  0.752523      0.12348 \n",
      "\n"
     ]
    }
   ],
   "source": [
    "# exibe as principais features\n",
    "predictors = df.columns\n",
    "nr_features = len(df.columns)\n",
    "i = fsP.scores_.argsort()[::-1][:nr_features]\n",
    "top_features = np.column_stack((predictors[i],\n",
    "                                        fsP.scores_[i],\n",
    "                                        fsP.pvalues_[i],\n",
    "                                        -np.log10(fsP.pvalues_[i])\n",
    "                                        ))\n",
    "\n",
    "print(\"\\nTop %i Features:\" % nr_features)\n",
    "features = pd.DataFrame(top_features, columns=[\"token\", \"score\", \"p-val\",\"scored-p-val\"])\n",
    "print(features, \"\\n\")"
   ]
  },
  {
   "cell_type": "code",
   "execution_count": 25,
   "metadata": {},
   "outputs": [
    {
     "data": {
      "text/html": [
       "<div>\n",
       "<style scoped>\n",
       "    .dataframe tbody tr th:only-of-type {\n",
       "        vertical-align: middle;\n",
       "    }\n",
       "\n",
       "    .dataframe tbody tr th {\n",
       "        vertical-align: top;\n",
       "    }\n",
       "\n",
       "    .dataframe thead th {\n",
       "        text-align: right;\n",
       "    }\n",
       "</style>\n",
       "<table border=\"1\" class=\"dataframe\">\n",
       "  <thead>\n",
       "    <tr style=\"text-align: right;\">\n",
       "      <th></th>\n",
       "      <th>token</th>\n",
       "      <th>score</th>\n",
       "      <th>p-val</th>\n",
       "      <th>scored-p-val</th>\n",
       "      <th>normalized-scored-p-val</th>\n",
       "      <th>normalized-score</th>\n",
       "    </tr>\n",
       "  </thead>\n",
       "  <tbody>\n",
       "    <tr>\n",
       "      <th>0</th>\n",
       "      <td>twi</td>\n",
       "      <td>117.493779</td>\n",
       "      <td>0.0</td>\n",
       "      <td>17.625663</td>\n",
       "      <td>1.0</td>\n",
       "      <td>1.0</td>\n",
       "    </tr>\n",
       "    <tr>\n",
       "      <th>1</th>\n",
       "      <td>elevation</td>\n",
       "      <td>21.408187</td>\n",
       "      <td>0.000012</td>\n",
       "      <td>4.935296</td>\n",
       "      <td>0.280006</td>\n",
       "      <td>0.182207</td>\n",
       "    </tr>\n",
       "    <tr>\n",
       "      <th>2</th>\n",
       "      <td>land_use</td>\n",
       "      <td>6.747993</td>\n",
       "      <td>0.010862</td>\n",
       "      <td>1.964078</td>\n",
       "      <td>0.111433</td>\n",
       "      <td>0.057433</td>\n",
       "    </tr>\n",
       "    <tr>\n",
       "      <th>3</th>\n",
       "      <td>lithology</td>\n",
       "      <td>2.433859</td>\n",
       "      <td>0.122031</td>\n",
       "      <td>0.91353</td>\n",
       "      <td>0.05183</td>\n",
       "      <td>0.020715</td>\n",
       "    </tr>\n",
       "    <tr>\n",
       "      <th>4</th>\n",
       "      <td>curvature</td>\n",
       "      <td>0.734302</td>\n",
       "      <td>0.393626</td>\n",
       "      <td>0.404916</td>\n",
       "      <td>0.022973</td>\n",
       "      <td>0.00625</td>\n",
       "    </tr>\n",
       "    <tr>\n",
       "      <th>5</th>\n",
       "      <td>aspect</td>\n",
       "      <td>0.380251</td>\n",
       "      <td>0.538929</td>\n",
       "      <td>0.268469</td>\n",
       "      <td>0.015232</td>\n",
       "      <td>0.003236</td>\n",
       "    </tr>\n",
       "    <tr>\n",
       "      <th>6</th>\n",
       "      <td>slope</td>\n",
       "      <td>0.099994</td>\n",
       "      <td>0.752523</td>\n",
       "      <td>0.12348</td>\n",
       "      <td>0.007006</td>\n",
       "      <td>0.000851</td>\n",
       "    </tr>\n",
       "  </tbody>\n",
       "</table>\n",
       "</div>"
      ],
      "text/plain": [
       "       token       score     p-val scored-p-val normalized-scored-p-val  \\\n",
       "0        twi  117.493779       0.0    17.625663                     1.0   \n",
       "1  elevation   21.408187  0.000012     4.935296                0.280006   \n",
       "2   land_use    6.747993  0.010862     1.964078                0.111433   \n",
       "3  lithology    2.433859  0.122031      0.91353                 0.05183   \n",
       "4  curvature    0.734302  0.393626     0.404916                0.022973   \n",
       "5     aspect    0.380251  0.538929     0.268469                0.015232   \n",
       "6      slope    0.099994  0.752523      0.12348                0.007006   \n",
       "\n",
       "  normalized-score  \n",
       "0              1.0  \n",
       "1         0.182207  \n",
       "2         0.057433  \n",
       "3         0.020715  \n",
       "4          0.00625  \n",
       "5         0.003236  \n",
       "6         0.000851  "
      ]
     },
     "execution_count": 25,
     "metadata": {},
     "output_type": "execute_result"
    }
   ],
   "source": [
    "features[\"normalized-scored-p-val\"] = features[\"scored-p-val\"]/features[\"scored-p-val\"].max()\n",
    "features[\"normalized-score\"] = features[\"score\"]/features[\"score\"].max()\n",
    "features"
   ]
  },
  {
   "cell_type": "code",
   "execution_count": 26,
   "metadata": {},
   "outputs": [
    {
     "data": {
      "image/png": "[encoded data removed]",
      "text/plain": [
       "<Figure size 1152x648 with 1 Axes>"
      ]
     },
     "metadata": {},
     "output_type": "display_data"
    }
   ],
   "source": [
    "x = np.arange(len(features.index))  # the label locations\n",
    "width = 0.35  # largura das barras\n",
    "fig, ax = plt.subplots(figsize =(16, 9))\n",
    "\n",
    "rects1 = ax.bar(x - width/2, features[\"normalized-scored-p-val\"], width, label=\"score\")\n",
    "rects2 = ax.bar(x + width/2, features[\"normalized-score\"], width, label='p-val')\n",
    "\n",
    "ax.set_ylabel('Feature importance')\n",
    "ax.set_title('Feature importance by score and p-value')\n",
    "ax.set_xticks(x)\n",
    "ax.set_xticklabels(features['token'])\n",
    "ax.legend()\n",
    "\n",
    "ax.bar_label(rects1, padding=3)\n",
    "ax.bar_label(rects2, padding=3)\n",
    "\n",
    "fig.tight_layout()\n",
    "SMALL_SIZE = 12\n",
    "MEDIUM_SIZE = 13\n",
    "BIGGER_SIZE = 15\n",
    "\n",
    "plt.rc('xtick', labelsize=SMALL_SIZE)    # fontsize of the tick labels\n",
    "plt.rc('ytick', labelsize=SMALL_SIZE)    # fontsize of the tick labels\n",
    "plt.rc('font', size=SMALL_SIZE)          # controls default text sizes\n",
    "plt.rc('axes', titlesize=SMALL_SIZE)     # fontsize of the axes title\n",
    "plt.rc('axes', labelsize=MEDIUM_SIZE)    # fontsize of the x and y lab\n",
    "plt.show()"
   ]
  },
  {
   "cell_type": "markdown",
   "metadata": {},
   "source": [
    "#### Embedded ou intrinsic features importance \n",
    "- Bagged decision trees, como Random Forest e Extra Trees, may be used to estimatefeature importance."
   ]
  },
  {
   "cell_type": "code",
   "execution_count": 27,
   "metadata": {},
   "outputs": [
    {
     "data": {
      "text/plain": [
       "Text(0.5, 1.0, 'Importância de cada feature')"
      ]
     },
     "execution_count": 27,
     "metadata": {},
     "output_type": "execute_result"
    },
    {
     "data": {
      "image/png": "[encoded data removed]",
      "text/plain": [
       "<Figure size 576x396 with 1 Axes>"
      ]
     },
     "metadata": {},
     "output_type": "display_data"
    }
   ],
   "source": [
    "from sklearn.ensemble import RandomForestClassifier\n",
    "from sklearn.ensemble import ExtraTreesClassifier\n",
    "import pandas as pd\n",
    "import seaborn as sns \n",
    "predictors = X_train.columns\n",
    "model  = RandomForestClassifier() \n",
    "model.fit(X_train, y_train)# Mostrando importância de cada feature\n",
    "model.feature_importances_\n",
    "importances = pd.Series(data=model.feature_importances_, index=predictors)\n",
    "sns.barplot(x=importances, y=importances.index, orient='h').set_title('Importância de cada feature')"
   ]
  },
  {
   "cell_type": "code",
   "execution_count": 28,
   "metadata": {},
   "outputs": [
    {
     "data": {
      "text/plain": [
       "Text(0.5, 1.0, 'Importância de cada feature')"
      ]
     },
     "execution_count": 28,
     "metadata": {},
     "output_type": "execute_result"
    },
    {
     "data": {
      "image/png": "[encoded data removed]",
      "text/plain": [
       "<Figure size 576x396 with 1 Axes>"
      ]
     },
     "metadata": {},
     "output_type": "display_data"
    }
   ],
   "source": [
    "predictors = X_train.columns\n",
    "model = ExtraTreesClassifier(n_estimators=10)\n",
    "model.fit(X_train, y_train)# Mostrando importância de cada feature\n",
    "model.feature_importances_\n",
    "importances = pd.Series(data=model.feature_importances_, index=predictors)\n",
    "sns.barplot(x=importances, y=importances.index, orient='h').set_title('Importância de cada feature')"
   ]
  },
  {
   "cell_type": "markdown",
   "metadata": {},
   "source": [
    "## References"
   ]
  },
  {
   "cell_type": "markdown",
   "metadata": {},
   "source": [
    "__papers__:\n",
    "- ref.1: New ensemble models for shallow landslide susceptibility modeling in a semi-aridwatershed\n",
    "- ref.2: Spatial prediction models for shallow landslide hazards: a comparative assessment of the efficacy of support vector machines, artificial neural networks, kernel logistic regression, and logistic model tree\n",
    "- ref.3: Landslide susceptibility mapping with r.landslide: A free open-source GIS-integrated tool based on Artificial Neural Networks\n",
    "- ref.4: Attribute selection using correlations and principal components for artificial neural networks employment for landslide susceptibility assessment\n",
    "- ref.5: Review of Input Variable Selection Methods for Artificial Neural Networks\n",
    "- ref.6: Machine Learning Feature Selection Methods for Landslide Susceptibility Mapping\n",
    "- ref.7: Support vector regression modeling of coal flotation based on variable importance measurements by mutual information method\n",
    "- ref.8: Applied Predictive Modeling with Applications in R \n",
    "__internet__:\n",
    "\n",
    "- ref.1: https://www.datasklr.com/ols-least-squares-regression/variable-selection  (somente casos de regressão)\n",
    "- ref.2: https://machinelearningmastery.com/information-gain-and-mutual-information/\n",
    "- ref.3: https://machinelearningmastery.com/calculate-feature-importance-with-python/\n",
    "- ref.4: https://machinelearningmastery.com/feature-selection-machine-learning-python/\n",
    "- ref.5: https://link.springer.com/article/10.1007/s00170-020-05641-y\n",
    "- ref.6: https://www.sciencedirect.com/science/article/abs/pii/S096599781200004X\n",
    "- ref.7: https://www.sciencedirect.com/science/article/pii/S2666546820300288\n",
    "- ref.8: https://www.datacamp.com/community/tutorials/feature-selection-python\n",
    "- ref.9: https://www.kdnuggets.com/2020/01/explaining-black-box-models-ensemble-deep-learning-lime-shap.html\n",
    "- ref.10: https://romainlhardy.medium.com/estimating-feature-importance-the-easy-way-2ebe970c600c\n",
    "- ref.11: https://machinelearningmastery.com/feature-selection-with-real-and-categorical-data/\n",
    "- ref.12: https://scikit-learn.org/stable/modules/generated/sklearn.feature_selection.SelectPercentile.html#sklearn.feature_selection.SelectPercentile\n",
    "- ref.13: https://python.hotexamples.com/pt/examples/sklearn.feature_selection/SelectPercentile/-/python-selectpercentile-class-examples.html\n",
    "- ref.14: https://scikit-learn.org/stable/modules/feature_selection.html#univariate-feature-selection (excelent)\n",
    "\n",
    "__more about pandas profiling__:\n",
    "\n",
    "1. run miniconda as administrator\n",
    "2. pip install pandas-profiling ==2.7.1 \n",
    "3. jupyter nbextension enable --py widgetsnbextension # enable the widget extension in jupyter"
   ]
  },
  {
   "cell_type": "code",
   "execution_count": null,
   "metadata": {},
   "outputs": [],
   "source": []
  }
 ],
 "metadata": {
  "interpreter": {
   "hash": "b7e61c40c58399eabfdc57275b655b0084201ad0151cf37bc45bab8193ea43c1"
  },
  "kernelspec": {
   "display_name": "Python 3 (ipykernel)",
   "language": "python",
   "name": "python3"
  },
  "language_info": {
   "codemirror_mode": {
    "name": "ipython",
    "version": 3
   },
   "file_extension": ".py",
   "mimetype": "text/x-python",
   "name": "python",
   "nbconvert_exporter": "python",
   "pygments_lexer": "ipython3",
   "version": "3.8.2"
  },
  "toc": {
   "base_numbering": 1,
   "nav_menu": {},
   "number_sections": true,
   "sideBar": true,
   "skip_h1_title": false,
   "title_cell": "Table of Contents",
   "title_sidebar": "Contents",
   "toc_cell": false,
   "toc_position": {},
   "toc_section_display": true,
   "toc_window_display": true
  }
 },
 "nbformat": 4,
 "nbformat_minor": 2
}
