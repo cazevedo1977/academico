{
 "cells": [
  {
   "cell_type": "markdown",
   "id": "6a4e43fe",
   "metadata": {},
   "source": [
    "O arquivo src.py contém o código referente a análise exploratória e construção de conglomerados e deve ser o primeiro na execução."
   ]
  },
  {
   "cell_type": "code",
   "execution_count": 37,
   "id": "bd0b7e88",
   "metadata": {},
   "outputs": [],
   "source": [
    "#importando bibliotecas\n",
    "import pandas as pd\n",
    "from pandas import DataFrame\n",
    "import numpy as np\n",
    "import matplotlib.pyplot as plt\n",
    "from matplotlib.ticker import StrMethodFormatter\n",
    "from scipy import stats\n",
    "import pandas_profiling\n",
    "from sklearn import preprocessing\n",
    "from sklearn.cluster import KMeans\n",
    "from scipy.stats import zscore\n",
    "from sklearn.metrics import silhouette_score\n",
    "import os\n",
    "import seaborn as sns\n",
    "plt.rc(\"font\", size=14)\n",
    "from matplotlib import rcParams\n",
    "rcParams.update({'figure.autolayout': True})\n",
    "rcParams['axes.titlepad'] = 20 \n",
    "#rcParams['axes.facecolor']='#E6E6E6'\n",
    "#rcParams['grid.color']='w'\n",
    "sns.set()"
   ]
  },
  {
   "cell_type": "code",
   "execution_count": 38,
   "id": "bbed132c",
   "metadata": {},
   "outputs": [],
   "source": [
    "try:\n",
    "    os.makedirs(\"img/\")\n",
    "except FileExistsError:\n",
    "    pass\n",
    "\n",
    "try:\n",
    "    os.makedirs(\"reports/\")\n",
    "except FileExistsError:\n",
    "    pass\n",
    "\n",
    "try:\n",
    "    os.makedirs(\"data/\")\n",
    "except FileExistsError:\n",
    "    pass"
   ]
  },
  {
   "cell_type": "code",
   "execution_count": 39,
   "id": "843058fb",
   "metadata": {},
   "outputs": [],
   "source": [
    "#Variavel dependente\n",
    "label_cols=['declined']\n",
    "\n",
    "#Variaveis independentes\n",
    "quatitative_cols=['valueClient', 'extraCost', 'valueResources', 'net',\n",
    "       'daysOnContact', 'daysOnInterview', 'daysOnSendCV',\n",
    "       'daysOnReturn', 'daysOnCSchedule', 'daysOnCRealized', 'processDuration']"
   ]
  },
  {
   "cell_type": "code",
   "execution_count": 40,
   "id": "e871a3e6",
   "metadata": {},
   "outputs": [],
   "source": [
    "#Metodo para calcular medidas estatisticas\n",
    "def describe(df):\n",
    "    df=df[quatitative_cols]\n",
    "    mode= (df.mode()[quatitative_cols])\n",
    "    mode_series= mode.iloc[0]\n",
    "    mode_series_t= mode_series.to_frame().T\n",
    "    mode_series_t=mode_series_t.rename(index={0: \"Moda\"})\n",
    "    result= pd.concat([df.describe(), mode_series_t, (pd.DataFrame(df.var() , columns = [\"Variancia\"] ).T)]).T\n",
    "    return result"
   ]
  },
  {
   "cell_type": "code",
   "execution_count": 41,
   "id": "e2441c66",
   "metadata": {},
   "outputs": [],
   "source": [
    "# Metodo para investigacao de caracteristicas correlacionadas\n",
    "def correlation(dataset, threshold):\n",
    "    col_corr = set()  # Set of all the names of correlated columns\n",
    "    corr_matrix = dataset.corr(method ='pearson') \n",
    "    for i in range(len(corr_matrix.columns)):\n",
    "        for j in range(i):\n",
    "            if abs(corr_matrix.iloc[i, j]) > threshold: # we are interested in absolute coeff value\n",
    "                colname = corr_matrix.columns[i]  # getting the name of column\n",
    "                col_corr.add(colname)\n",
    "    return col_corr"
   ]
  },
  {
   "cell_type": "code",
   "execution_count": 42,
   "id": "63a9f3cf",
   "metadata": {},
   "outputs": [],
   "source": [
    "#formatação de decimais\n",
    "pd.options.display.float_format = '{:,.2f}'.format"
   ]
  },
  {
   "cell_type": "code",
   "execution_count": 43,
   "id": "db3b6530",
   "metadata": {},
   "outputs": [
    {
     "name": "stdout",
     "output_type": "stream",
     "text": [
      "Lendo os dados da base...\n"
     ]
    }
   ],
   "source": [
    "#lendo a base de dados\n",
    "print(\"Lendo os dados da base...\")\n",
    "df = pd.read_csv('data/closures.csv', sep=',')"
   ]
  },
  {
   "cell_type": "code",
   "execution_count": 44,
   "id": "e6128cd3",
   "metadata": {},
   "outputs": [
    {
     "name": "stdout",
     "output_type": "stream",
     "text": [
      "Desenhando os graficos de frequência de amostras em cada classe da variável dependente...\n",
      "\n"
     ]
    },
    {
     "data": {
      "image/png": "[encoded data removed]",
      "text/plain": [
       "<Figure size 576x396 with 1 Axes>"
      ]
     },
     "metadata": {},
     "output_type": "display_data"
    }
   ],
   "source": [
    "print(\"Desenhando os graficos de frequência de amostras em cada classe da variável dependente...\")\n",
    "print()\n",
    "#Frequencia de amostras em cada classe\n",
    "ax = sns.countplot(x=\"declined\", data=df, palette=\"Blues_d\")\n",
    "plt.subplots_adjust(bottom=0.4)\n",
    "plt.ylabel('Frequência')\n",
    "#Imprimindo as frequencias no grafico\n",
    "total = len(df['declined'])\n",
    "for p in ax.patches:\n",
    "       ax.annotate(str(p.get_height()), (p.get_x()+0.35, p.get_height()+10))           "
   ]
  },
  {
   "cell_type": "code",
   "execution_count": 45,
   "id": "feaee32f",
   "metadata": {},
   "outputs": [],
   "source": [
    "plt.savefig('img/FrequenciaClasses.png', dpi=300)\n",
    "plt.clf()\n",
    "plt.cla()\n",
    "plt.close()"
   ]
  },
  {
   "cell_type": "code",
   "execution_count": 46,
   "id": "3d4c372d",
   "metadata": {},
   "outputs": [
    {
     "name": "stdout",
     "output_type": "stream",
     "text": [
      "Calculando as medidas estatísticas para as variaveis quantitativas independentes...\n",
      "\n"
     ]
    }
   ],
   "source": [
    "print(\"Calculando as medidas estatísticas para as variaveis quantitativas independentes...\")\n",
    "print()\n",
    "#Medidas estatisticas\n",
    "describe(df).to_excel('reports/Estatisticas.xlsx', sheet_name=('Medidas'))"
   ]
  },
  {
   "cell_type": "code",
   "execution_count": 47,
   "id": "fda71728",
   "metadata": {},
   "outputs": [
    {
     "name": "stdout",
     "output_type": "stream",
     "text": [
      "Removendo dados incorretos...\n",
      "\n"
     ]
    }
   ],
   "source": [
    "print(\"Removendo dados incorretos...\")\n",
    "print()\n",
    "#Removendo dados incorretos\n",
    "df =  df.loc[(df['processDuration']>=0)]"
   ]
  },
  {
   "cell_type": "code",
   "execution_count": 48,
   "id": "9b4b2cb2",
   "metadata": {},
   "outputs": [
    {
     "name": "stdout",
     "output_type": "stream",
     "text": [
      "Desenhando os graficos de frequência de amostras em cada classe depois de remover dados incorretos...\n",
      "\n"
     ]
    },
    {
     "data": {
      "image/png": "[encoded data removed]",
      "text/plain": [
       "<Figure size 576x396 with 1 Axes>"
      ]
     },
     "metadata": {},
     "output_type": "display_data"
    }
   ],
   "source": [
    "print(\"Desenhando os graficos de frequência de amostras em cada classe depois de remover dados incorretos...\")\n",
    "print()\n",
    "#Frequencia de amostras em cada classe depois de remover dados incorretos\n",
    "ax = sns.countplot(x=\"declined\", data=df, palette=\"Blues_d\")\n",
    "plt.subplots_adjust(bottom=0.4)\n",
    "ax = sns.countplot(x=\"declined\", data=df, palette=\"Blues_d\")\n",
    "plt.subplots_adjust(bottom=0.4)\n",
    "#Imprimindo as frequencias no grafico\n",
    "total = len(df['declined'])\n",
    "for p in ax.patches:\n",
    "       ax.annotate(str(p.get_height()), (p.get_x()+0.35, p.get_height()+10))"
   ]
  },
  {
   "cell_type": "code",
   "execution_count": 49,
   "id": "b55af4aa",
   "metadata": {},
   "outputs": [],
   "source": [
    "plt.ylabel('Frequência')\n",
    "plt.savefig('img/FrequenciaClassesDepoisRemocao.png', dpi=300)\n",
    "plt.clf()\n",
    "plt.cla()\n",
    "plt.close()"
   ]
  },
  {
   "cell_type": "code",
   "execution_count": 50,
   "id": "cc05408c",
   "metadata": {},
   "outputs": [
    {
     "name": "stdout",
     "output_type": "stream",
     "text": [
      "Criando data frames auxiliares...\n",
      "\n"
     ]
    }
   ],
   "source": [
    "print(\"Criando data frames auxiliares...\")\n",
    "print()\n",
    "# Data Frames auxiliares para armazenar os resultados\n",
    "quantitative_data_z=DataFrame(df, columns=quatitative_cols)\n",
    "result_score=df.copy()"
   ]
  },
  {
   "cell_type": "code",
   "execution_count": 51,
   "id": "8b4ef296",
   "metadata": {},
   "outputs": [
    {
     "name": "stdout",
     "output_type": "stream",
     "text": [
      "Construindo histogramas...\n",
      "\n",
      "Construindo histograma com bins=5\n",
      "\n",
      "Construindo histograma com bins=6\n",
      "\n",
      "Construindo histograma com bins=7\n",
      "\n",
      "Construindo histograma com bins=8\n",
      "\n",
      "Construindo histograma com bins=9\n",
      "\n",
      "Construindo histograma com bins=10\n",
      "\n",
      "Construindo histograma com bins=11\n",
      "\n",
      "Construindo histograma com bins=12\n",
      "\n",
      "Construindo histograma com bins=13\n",
      "\n",
      "Construindo histograma com bins=14\n",
      "\n",
      "Construindo histograma com bins=15\n",
      "\n",
      "Construindo histograma com bins=16\n",
      "\n",
      "Construindo histograma com bins=17\n",
      "\n",
      "Construindo histograma com bins=18\n",
      "\n",
      "Construindo histograma com bins=19\n",
      "\n",
      "Construindo histograma com bins=20\n",
      "\n",
      "Construindo histograma com bins=21\n",
      "\n",
      "Construindo histograma com bins=22\n",
      "\n",
      "Construindo histograma com bins=23\n",
      "\n",
      "Construindo histograma com bins=24\n",
      "\n",
      "Construindo histograma com bins=25\n",
      "\n"
     ]
    }
   ],
   "source": [
    "print(\"Construindo histogramas...\")\n",
    "print()\n",
    "#Investigacao empirica do numero bins para os histogramas\n",
    "for i in range (5, 26):\n",
    "    print(\"Construindo histograma com bins=\"+str(i))\n",
    "    print()\n",
    "    #Histogramas antes do ZScore\n",
    "    histograms = quantitative_data_z.hist(figsize=(10,10), bins=i)\n",
    "    # Thus we have to give more margin:\n",
    "    plt.subplots_adjust(bottom=0.4)\n",
    "    plt.xticks(rotation=90)\n",
    "    plt.savefig('img/histogramasAllVars'+ str(i)+'.png', dpi=300)\n",
    "    plt.clf()\n",
    "    plt.cla()\n",
    "    plt.close()"
   ]
  },
  {
   "cell_type": "code",
   "execution_count": 52,
   "id": "2d631c88",
   "metadata": {},
   "outputs": [
    {
     "name": "stdout",
     "output_type": "stream",
     "text": [
      "Construindo os gráficos boxplot das variáveis financeiras...\n",
      "\n"
     ]
    }
   ],
   "source": [
    "print(\"Construindo os gráficos boxplot das variáveis financeiras...\")\n",
    "print()\n",
    "#Medida de dispersao antes do ZScore\n",
    "boxplot = quantitative_data_z.boxplot(column=['valueClient', 'extraCost', 'valueResources', 'net'], figsize=(10,10), fontsize = 14)\n",
    "plt.xticks(rotation=90)\n",
    "plt.savefig('img/boxplotsFinancial.png', dpi=300)\n",
    "plt.clf()\n",
    "plt.cla()\n",
    "plt.close()"
   ]
  },
  {
   "cell_type": "code",
   "execution_count": null,
   "id": "4d165fce",
   "metadata": {},
   "outputs": [],
   "source": []
  },
  {
   "cell_type": "code",
   "execution_count": 53,
   "id": "b53ef47a",
   "metadata": {},
   "outputs": [
    {
     "name": "stdout",
     "output_type": "stream",
     "text": [
      "Construindo os gráficos boxplot das variáveis temporais...\n",
      "\n"
     ]
    }
   ],
   "source": [
    "print(\"Construindo os gráficos boxplot das variáveis temporais...\")\n",
    "print()\n",
    "boxplot = quantitative_data_z.boxplot(column=['daysOnContact', 'daysOnInterview', 'daysOnSendCV',\n",
    "       'daysOnReturn', 'daysOnCSchedule', 'daysOnCRealized',  'processDuration'], figsize=(10,10), fontsize = 14)\n",
    "plt.xticks(rotation=90)\n",
    "plt.subplots_adjust(bottom=0.4, top=1.0)\n",
    "plt.savefig('img/boxplotsTemporal.png', dpi=300)\n",
    "plt.clf()\n",
    "plt.cla()\n",
    "plt.close()"
   ]
  },
  {
   "cell_type": "code",
   "execution_count": 23,
   "id": "6d62f729",
   "metadata": {},
   "outputs": [
    {
     "name": "stdout",
     "output_type": "stream",
     "text": [
      "Normalizando os dados com ZScore...\n",
      "\n"
     ]
    }
   ],
   "source": [
    "print(\"Normalizando os dados com ZScore...\")\n",
    "print()\n",
    "#Aplicando Z-Score para normalizar os valores das variaveis quantitativas\n",
    "for i in quatitative_cols: \n",
    "    quantitative_data_z[i] = stats.zscore(quantitative_data_z[i]).astype(float)\n",
    "    result_score[i] = stats.zscore(result_score[i]).astype(float)"
   ]
  },
  {
   "cell_type": "code",
   "execution_count": 24,
   "id": "7757c756",
   "metadata": {},
   "outputs": [
    {
     "name": "stdout",
     "output_type": "stream",
     "text": [
      "Calculando medidas estatísticas depois do Z-Score...\n",
      "\n"
     ]
    }
   ],
   "source": [
    "print(\"Calculando medidas estatísticas depois do Z-Score...\")\n",
    "print()\n",
    "#Medidas estatisticas com ZScore\n",
    "describe(quantitative_data_z).to_excel('reports/EstatisticasZScore.xlsx', sheet_name=('Medidas'))"
   ]
  },
  {
   "cell_type": "code",
   "execution_count": 25,
   "id": "a7f97fe6",
   "metadata": {},
   "outputs": [
    {
     "name": "stdout",
     "output_type": "stream",
     "text": [
      "Construindo histogramas das variaveis quantitativas depois do Z-Score...\n",
      "\n",
      "Construindo histograma com bins=5\n",
      "\n",
      "Construindo histograma com bins=6\n",
      "\n",
      "Construindo histograma com bins=7\n",
      "\n",
      "Construindo histograma com bins=8\n",
      "\n",
      "Construindo histograma com bins=9\n",
      "\n",
      "Construindo histograma com bins=10\n",
      "\n",
      "Construindo histograma com bins=11\n",
      "\n",
      "Construindo histograma com bins=12\n",
      "\n",
      "Construindo histograma com bins=13\n",
      "\n",
      "Construindo histograma com bins=14\n",
      "\n",
      "Construindo histograma com bins=15\n",
      "\n",
      "Construindo histograma com bins=16\n",
      "\n",
      "Construindo histograma com bins=17\n",
      "\n",
      "Construindo histograma com bins=18\n",
      "\n",
      "Construindo histograma com bins=19\n",
      "\n",
      "Construindo histograma com bins=20\n",
      "\n",
      "Construindo histograma com bins=21\n",
      "\n",
      "Construindo histograma com bins=22\n",
      "\n",
      "Construindo histograma com bins=23\n",
      "\n",
      "Construindo histograma com bins=24\n",
      "\n",
      "Construindo histograma com bins=25\n",
      "\n"
     ]
    }
   ],
   "source": [
    "print(\"Construindo histogramas das variaveis quantitativas depois do Z-Score...\")\n",
    "print()\n",
    "#Investigacao empirica do numero bins para os histogramas\n",
    "for i in range (5, 26):\n",
    "    print(\"Construindo histograma com bins=\"+str(i))\n",
    "    print()\n",
    "    #Histogramas antes do ZScore\n",
    "    histograms = quantitative_data_z.hist(figsize=(10,10), bins=i)\n",
    "    # Thus we have to give more margin:\n",
    "    plt.subplots_adjust(bottom=0.4)\n",
    "    plt.xticks(rotation=90)\n",
    "    plt.savefig('img/histogramasAllVarsZScore'+ str(i)+'.png', dpi=300)\n",
    "    plt.clf()\n",
    "    plt.cla()\n",
    "    plt.close()"
   ]
  },
  {
   "cell_type": "code",
   "execution_count": 26,
   "id": "0007bd80",
   "metadata": {},
   "outputs": [
    {
     "name": "stdout",
     "output_type": "stream",
     "text": [
      "Construindo os gráficos boxplot das variáveis financeiras depois do Z-Score...\n",
      "\n"
     ]
    }
   ],
   "source": [
    "print(\"Construindo os gráficos boxplot das variáveis financeiras depois do Z-Score...\")\n",
    "print()\n",
    "#Medidas de dispersao apos a normalizacao\n",
    "boxplot = result_score.boxplot(column=['valueClient', 'extraCost', 'valueResources', 'net'], figsize=(10,10), fontsize = 14)\n",
    "plt.xticks(rotation=90)\n",
    "plt.savefig('img/boxplotsFinancial_zscore.png', dpi=300)\n",
    "plt.clf()\n",
    "plt.cla()\n",
    "plt.close()"
   ]
  },
  {
   "cell_type": "code",
   "execution_count": 27,
   "id": "675e4151",
   "metadata": {},
   "outputs": [
    {
     "name": "stdout",
     "output_type": "stream",
     "text": [
      "Construindo os gráficos boxplot das variáveis temporais depois do Z-Score...\n",
      "\n"
     ]
    }
   ],
   "source": [
    "print(\"Construindo os gráficos boxplot das variáveis temporais depois do Z-Score...\")\n",
    "print()\n",
    "boxplot = result_score.boxplot(column=['daysOnContact', 'daysOnInterview', 'daysOnSendCV',\n",
    "       'daysOnReturn', 'daysOnCSchedule', 'daysOnCRealized', 'processDuration'], figsize=(10,10), fontsize = 14)\n",
    "plt.xticks(rotation=90)\n",
    "plt.subplots_adjust(bottom=0.4, top=1.0)\n",
    "plt.savefig('img/boxplotsTemporal_zscore.png', dpi=300)\n",
    "plt.clf()\n",
    "plt.cla()\n",
    "plt.close()"
   ]
  },
  {
   "cell_type": "code",
   "execution_count": 28,
   "id": "2a7dbcf3",
   "metadata": {},
   "outputs": [
    {
     "name": "stdout",
     "output_type": "stream",
     "text": [
      "Investigando a correlação entre as variáveis independentes...\n",
      "\n",
      "Variaveis correlacionadas: \u001c",
      "\n",
      "set()\n",
      "\n",
      "Número de variáveis correlacionadas:  0\n",
      "\n"
     ]
    }
   ],
   "source": [
    "print(\"Investigando a correlação entre as variáveis independentes...\")\n",
    "print()\n",
    "#Verificando se alguma variável independente tem correlação\n",
    "corr_features = correlation(quantitative_data_z, 0.8)\n",
    "print(\"Variaveis correlacionadas: \u001c",
    "\")\n",
    "print(corr_features)\n",
    "print()\n",
    "print('Número de variáveis correlacionadas: ', len(set(corr_features)))\n",
    "print()"
   ]
  },
  {
   "cell_type": "code",
   "execution_count": 29,
   "id": "7b25e8ef",
   "metadata": {},
   "outputs": [
    {
     "name": "stdout",
     "output_type": "stream",
     "text": [
      "Desenhando a matriz de correlação entre as variáveis independentes...\n",
      "\n"
     ]
    }
   ],
   "source": [
    "print(\"Desenhando a matriz de correlação entre as variáveis independentes...\")\n",
    "print()\n",
    "# Matriz de correlação\n",
    "f, ax = plt.subplots(figsize=(10, 10))\n",
    "sns.heatmap(quantitative_data_z.corr(), cmap=\"Blues\")\n",
    "ax.set_title('')\n",
    "plt.savefig('img/Correlation Matrix.png', dpi=300)\n",
    "plt.clf()\n",
    "plt.cla()\n",
    "plt.close()"
   ]
  },
  {
   "cell_type": "code",
   "execution_count": 30,
   "id": "3ce29d74",
   "metadata": {},
   "outputs": [
    {
     "name": "stdout",
     "output_type": "stream",
     "text": [
      "Investigando o número de conglomerados...\n",
      "\n"
     ]
    }
   ],
   "source": [
    "print(\"Investigando o número de conglomerados...\")\n",
    "print()\n",
    "#Investigando o numero de Clusters\n",
    "distortions = []\n",
    "for i in range(1, 50):\n",
    "    km = KMeans(\n",
    "        n_clusters=i, init='random',\n",
    "        n_init=1, max_iter=300,\n",
    "        tol=1e-04, random_state=0\n",
    "    )\n",
    "    km.fit(quantitative_data_z)\n",
    "    distortions.append(km.inertia_)"
   ]
  },
  {
   "cell_type": "code",
   "execution_count": 31,
   "id": "a791541a",
   "metadata": {},
   "outputs": [
    {
     "name": "stdout",
     "output_type": "stream",
     "text": [
      "Desenhando o gráfico com os resultados do método Elbow...\n",
      "\n"
     ]
    }
   ],
   "source": [
    "print(\"Desenhando o gráfico com os resultados do método Elbow...\")\n",
    "print()\n",
    "# Contruindo grafico do com metodo Elbow\n",
    "plt.plot(range(1, 50), distortions, marker='o')\n",
    "plt.xlabel('Quantidade de Conglomerados')\n",
    "plt.ylabel('Soma dos quadrados intra-clusters')\n",
    "plt.savefig('img/inertia_kmeans.png', dpi=300)\n",
    "plt.clf()\n",
    "plt.cla()\n",
    "plt.close()"
   ]
  },
  {
   "cell_type": "code",
   "execution_count": 32,
   "id": "0ec41b20",
   "metadata": {},
   "outputs": [
    {
     "name": "stdout",
     "output_type": "stream",
     "text": [
      "Analisando o número de conglomerados usando o coeficiente de Silhouette...\n",
      "\n"
     ]
    }
   ],
   "source": [
    "print(\"Analisando o número de conglomerados usando o coeficiente de Silhouette...\")\n",
    "print()\n",
    "silhouette = []\n",
    "for n_clusters in range(2,50):\n",
    "    clusterer = KMeans(n_clusters=n_clusters, random_state=10)\n",
    "    cluster_labels = clusterer.fit_predict(quantitative_data_z)\n",
    "    silhouette_avg = silhouette_score(quantitative_data_z, cluster_labels,  metric='euclidean')\n",
    "    silhouette.append(silhouette_avg)\n",
    "    #print(\"Para o número cluster={}, O coeficiente de Silhouette é {}\".format(n_clusters, silhouette_avg))"
   ]
  },
  {
   "cell_type": "code",
   "execution_count": 33,
   "id": "69247202",
   "metadata": {},
   "outputs": [
    {
     "name": "stdout",
     "output_type": "stream",
     "text": [
      "Verificando o número de conglomerados em acordo com o valor máximo do coeficiente de Silhouette...\n",
      "\n",
      "O número de clusters deve ser igual a 2. Para esse número, coeficiente de Silhouette é 0.5203423242727814\n",
      "\n"
     ]
    }
   ],
   "source": [
    "print(\"Verificando o número de conglomerados em acordo com o valor máximo do coeficiente de Silhouette...\")\n",
    "print()\n",
    "# Verificando o número de clusters em acordo com o valor máximo do coeficiente\n",
    "x = np.array(silhouette, dtype=np.float64)\n",
    "n_clusters_silhouette=np.argmax(x)+2\n",
    "print(\"O número de clusters deve ser igual a {}. Para esse número, coeficiente de Silhouette é {}\".format(n_clusters_silhouette, np.nanmax(x)))\n",
    "print()\n",
    "plt.plot(range(2, 50), silhouette, marker='o')\n",
    "plt.xticks(np.arange(2, 50, 2.0))\n",
    "plt.xlabel('Quantidade de Conglomerados')\n",
    "plt.ylabel('Coeficiente de Silhouette')\n",
    "plt.savefig('img/Silhouette_kmeans.png', dpi=300)\n",
    "plt.clf()\n",
    "plt.cla()\n",
    "plt.close()"
   ]
  },
  {
   "cell_type": "code",
   "execution_count": 34,
   "id": "2caf7f2e",
   "metadata": {},
   "outputs": [
    {
     "name": "stdout",
     "output_type": "stream",
     "text": [
      "Adicionando o conglomerado que a amostra pertence em acordo com o K-means...\n",
      "\n"
     ]
    },
    {
     "name": "stderr",
     "output_type": "stream",
     "text": [
      "C:\\ProgramData\\Miniconda3\\envs\\cashme\\lib\\site-packages\\sklearn\\cluster\\_kmeans.py:1316: FutureWarning: algorithm='auto' is deprecated, it will be removed in 1.3. Using 'lloyd' instead.\n",
      "  warnings.warn(\n"
     ]
    }
   ],
   "source": [
    "print(\"Adicionando o conglomerado que a amostra pertence em acordo com o K-means...\")\n",
    "print()\n",
    "#Adicionando o conglomerado que a amostra pertence em acordo com o K-means\n",
    "kmeans = KMeans(n_clusters=n_clusters_silhouette, random_state=0,  max_iter=600, algorithm = 'auto')\n",
    "kmeans.fit(quantitative_data_z)\n",
    "predict = kmeans.predict(quantitative_data_z)\n",
    "result_score[\"cluster\"] = predict\n",
    "result_score.to_csv('data/kmeans_result_zscore.csv')\n",
    "df[\"cluster\"] = predict\n",
    "df.to_csv('data/kmeans_result.csv')"
   ]
  },
  {
   "cell_type": "code",
   "execution_count": 35,
   "id": "8ec8f59d",
   "metadata": {},
   "outputs": [
    {
     "name": "stdout",
     "output_type": "stream",
     "text": [
      "Desenhando o gráfico de frequência das amostras que pertencem a cada conglomerado...\n",
      "\n"
     ]
    }
   ],
   "source": [
    "print(\"Desenhando o gráfico de frequência das amostras que pertencem a cada conglomerado...\")\n",
    "print()\n",
    "#Frequencia de amostras em cada conglomerado\n",
    "ax = sns.countplot(x=\"cluster\", data=df, palette=\"Blues_d\")\n",
    "plt.subplots_adjust(bottom=0.4)\n",
    "for p in ax.patches:\n",
    "    ax.annotate(str(p.get_height()), (p.get_x()+0.35, p.get_height()+2))\n",
    "plt.ylabel('Frequência')\n",
    "plt.xlabel('Conglomerado')\n",
    "plt.savefig('img/FrequenciasPorCluster.png', dpi=300)\n",
    "plt.clf()\n",
    "plt.cla()\n",
    "plt.close()"
   ]
  },
  {
   "cell_type": "code",
   "execution_count": 36,
   "id": "f36eea9d",
   "metadata": {},
   "outputs": [
    {
     "name": "stdout",
     "output_type": "stream",
     "text": [
      "Iniciando a análise de dados de cada conglomerado...\n",
      "\n",
      "Calculando as medidas estatísticas para o conglomerado 0\n",
      "\n",
      "Desenhando os graficos de frequência de amostras em cada classe para o conglomerado 0\n",
      "\n",
      "Desenhando os graficos do tipo histograma para o conglomerado 0\n",
      "\n",
      "Construindo histograma com bins=5 para o conglomerado 0\n",
      "\n",
      "Construindo histograma com bins=6 para o conglomerado 0\n",
      "\n",
      "Construindo histograma com bins=7 para o conglomerado 0\n",
      "\n",
      "Construindo histograma com bins=8 para o conglomerado 0\n",
      "\n",
      "Construindo histograma com bins=9 para o conglomerado 0\n",
      "\n",
      "Construindo histograma com bins=10 para o conglomerado 0\n",
      "\n",
      "Construindo histograma com bins=11 para o conglomerado 0\n",
      "\n",
      "Construindo histograma com bins=12 para o conglomerado 0\n",
      "\n",
      "Construindo histograma com bins=13 para o conglomerado 0\n",
      "\n",
      "Construindo histograma com bins=14 para o conglomerado 0\n",
      "\n",
      "Construindo histograma com bins=15 para o conglomerado 0\n",
      "\n",
      "Construindo histograma com bins=16 para o conglomerado 0\n",
      "\n",
      "Construindo histograma com bins=17 para o conglomerado 0\n",
      "\n",
      "Construindo histograma com bins=18 para o conglomerado 0\n",
      "\n",
      "Construindo histograma com bins=19 para o conglomerado 0\n",
      "\n",
      "Construindo histograma com bins=20 para o conglomerado 0\n",
      "\n",
      "Construindo histograma com bins=21 para o conglomerado 0\n",
      "\n",
      "Construindo histograma com bins=22 para o conglomerado 0\n",
      "\n",
      "Construindo histograma com bins=23 para o conglomerado 0\n",
      "\n",
      "Construindo histograma com bins=24 para o conglomerado 0\n",
      "\n",
      "Construindo histograma com bins=25 para o conglomerado 0\n",
      "\n",
      "Construindo os gráficos boxplot das variáveis financeiras para o conglomerado 0\n",
      "\n",
      "Construindo os gráficos boxplot das variáveis temporais para o conglomerado 0\n",
      "\n",
      "Construindo a matriz de correlação entre as variáveis independentes para o conglomerado 0\n",
      "\n",
      "Calculando as medidas estatísticas para o conglomerado 1\n",
      "\n",
      "Desenhando os graficos de frequência de amostras em cada classe para o conglomerado 1\n",
      "\n",
      "Desenhando os graficos do tipo histograma para o conglomerado 1\n",
      "\n",
      "Construindo histograma com bins=5 para o conglomerado 1\n",
      "\n",
      "Construindo histograma com bins=6 para o conglomerado 1\n",
      "\n",
      "Construindo histograma com bins=7 para o conglomerado 1\n",
      "\n",
      "Construindo histograma com bins=8 para o conglomerado 1\n",
      "\n",
      "Construindo histograma com bins=9 para o conglomerado 1\n",
      "\n",
      "Construindo histograma com bins=10 para o conglomerado 1\n",
      "\n",
      "Construindo histograma com bins=11 para o conglomerado 1\n",
      "\n",
      "Construindo histograma com bins=12 para o conglomerado 1\n",
      "\n",
      "Construindo histograma com bins=13 para o conglomerado 1\n",
      "\n",
      "Construindo histograma com bins=14 para o conglomerado 1\n",
      "\n",
      "Construindo histograma com bins=15 para o conglomerado 1\n",
      "\n",
      "Construindo histograma com bins=16 para o conglomerado 1\n",
      "\n",
      "Construindo histograma com bins=17 para o conglomerado 1\n",
      "\n",
      "Construindo histograma com bins=18 para o conglomerado 1\n",
      "\n",
      "Construindo histograma com bins=19 para o conglomerado 1\n",
      "\n",
      "Construindo histograma com bins=20 para o conglomerado 1\n",
      "\n",
      "Construindo histograma com bins=21 para o conglomerado 1\n",
      "\n",
      "Construindo histograma com bins=22 para o conglomerado 1\n",
      "\n",
      "Construindo histograma com bins=23 para o conglomerado 1\n",
      "\n",
      "Construindo histograma com bins=24 para o conglomerado 1\n",
      "\n",
      "Construindo histograma com bins=25 para o conglomerado 1\n",
      "\n",
      "Construindo os gráficos boxplot das variáveis financeiras para o conglomerado 1\n",
      "\n",
      "Construindo os gráficos boxplot das variáveis temporais para o conglomerado 1\n",
      "\n",
      "Construindo a matriz de correlação entre as variáveis independentes para o conglomerado 1\n",
      "\n",
      "Finalizando a etapa de pré processamento.\n",
      "\n"
     ]
    }
   ],
   "source": [
    "print(\"Iniciando a análise de dados de cada conglomerado...\")\n",
    "print()\n",
    "#Analise dos dados por conglomerado\n",
    "for i in range (0, n_clusters_silhouette):\n",
    "    cluster=df[df[\"cluster\"]==i]\n",
    "    cluster_zscore=result_score[result_score[\"cluster\"]==i]\n",
    "    print(\"Calculando as medidas estatísticas para o conglomerado \"+ str(i))\n",
    "    print()\n",
    "    describe(cluster[quatitative_cols]).to_excel('reports/EstatisticasClusters'+str(i)+'.xlsx', sheet_name=('Cluster'+str(i)))\n",
    "    describe(cluster_zscore[quatitative_cols]).to_excel('reports/EstatisticasZScoreClusters'+str(i)+'.xlsx', sheet_name=('Cluster'+str(i)))\n",
    "    \n",
    "    print(\"Desenhando os graficos de frequência de amostras em cada classe para o conglomerado \"+ str(i))\n",
    "    print()\n",
    "    #Frequencia de amostras em cada classe cluster\n",
    "    ax = sns.countplot(x=\"declined\", data=cluster, palette=\"Blues_d\")\n",
    "    plt.subplots_adjust(bottom=0.4)\n",
    "    #Imprimindo as frequencias\n",
    "    for p in ax.patches:\n",
    "        ax.annotate(str(p.get_height()), (p.get_x()+0.35, p.get_height()+10))\n",
    "    plt.ylabel('Frequência')\n",
    "    plt.savefig('img/FrequenciasCluster'+ str(i)+'.png', dpi=300)\n",
    "    plt.clf()\n",
    "    plt.cla()\n",
    "    plt.close()\n",
    "\n",
    "    print(\"Desenhando os graficos do tipo histograma para o conglomerado \"+ str(i))\n",
    "    print()\n",
    "    #Histogramas cluster\n",
    "    for j in range (5, 26):\n",
    "        print(\"Construindo histograma com bins=\"+str(j)+ \" para o conglomerado \"+ str(i))\n",
    "        print()\n",
    "        histograms = cluster[quatitative_cols].hist(figsize=(10,10), bins=j)\n",
    "        plt.subplots_adjust(bottom=0.4)\n",
    "        plt.subplots_adjust(top=1)\n",
    "        #plt.xticks(rotation=90)\n",
    "        plt.xlabel('Conglomerado')\n",
    "        plt.savefig('img/histogramasAllVarsCluster'+ str(i)+'.png', dpi=300)\n",
    "        plt.clf()\n",
    "        plt.cla()\n",
    "        plt.close()\n",
    "\n",
    "    print(\"Construindo os gráficos boxplot das variáveis financeiras para o conglomerado \"+ str(i))\n",
    "    print()\n",
    "    #Investiganting outliers by cluster\n",
    "    boxplot = cluster[quatitative_cols].boxplot(column=['valueClient', 'extraCost', 'valueResources', 'net'], figsize=(10,10), fontsize = 14)\n",
    "    plt.xticks(rotation=90)\n",
    "    plt.savefig('img/boxplotsFinancialCluster'+ str(i)+'.png', dpi=300)\n",
    "    plt.clf()\n",
    "    plt.cla()\n",
    "    plt.close()\n",
    "\n",
    "    print(\"Construindo os gráficos boxplot das variáveis temporais para o conglomerado \"+ str(i))\n",
    "    print()\n",
    "    boxplot = cluster[quatitative_cols].boxplot(column=['daysOnContact', 'daysOnInterview', 'daysOnSendCV',\n",
    "        'daysOnReturn', 'daysOnCSchedule', 'daysOnCRealized', 'processDuration'], figsize=(10,10), fontsize = 14)\n",
    "    plt.xticks(rotation=90)\n",
    "    # Thus we have to give more margin:\n",
    "    plt.subplots_adjust(bottom=0.4, top=1.0)\n",
    "    plt.savefig('img/boxplotsTemporalCluster'+ str(i)+'.png', dpi=300)\n",
    "    plt.clf()\n",
    "    plt.cla()\n",
    "    plt.close()\n",
    "\n",
    "    print(\"Construindo a matriz de correlação entre as variáveis independentes para o conglomerado \"+ str(i))\n",
    "    print()\n",
    "    # Correlation matrix between features \n",
    "    f, ax = plt.subplots(figsize=(10, 10))\n",
    "    sns.heatmap(cluster[quatitative_cols].corr(), cmap=\"Blues\")\n",
    "    ax.set_title('')\n",
    "    plt.savefig('img/Correlation Matrix Cluster'+ str(i)+'.png', dpi=300)\n",
    "    plt.clf()\n",
    "    plt.cla()\n",
    "    plt.close()\n",
    "\n",
    "print(\"Finalizando a etapa de pré processamento.\")\n",
    "print()"
   ]
  },
  {
   "cell_type": "code",
   "execution_count": null,
   "id": "bfc6ad2f",
   "metadata": {},
   "outputs": [],
   "source": []
  },
  {
   "cell_type": "code",
   "execution_count": null,
   "id": "40c6bd3b",
   "metadata": {},
   "outputs": [],
   "source": []
  }
 ],
 "metadata": {
  "kernelspec": {
   "display_name": "Python 3 (ipykernel)",
   "language": "python",
   "name": "python3"
  },
  "language_info": {
   "codemirror_mode": {
    "name": "ipython",
    "version": 3
   },
   "file_extension": ".py",
   "mimetype": "text/x-python",
   "name": "python",
   "nbconvert_exporter": "python",
   "pygments_lexer": "ipython3",
   "version": "3.9.12"
  },
  "toc": {
   "base_numbering": 1,
   "nav_menu": {},
   "number_sections": true,
   "sideBar": true,
   "skip_h1_title": false,
   "title_cell": "Table of Contents",
   "title_sidebar": "Contents",
   "toc_cell": false,
   "toc_position": {},
   "toc_section_display": true,
   "toc_window_display": false
  }
 },
 "nbformat": 4,
 "nbformat_minor": 5
}
